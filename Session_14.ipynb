{
  "nbformat": 4,
  "nbformat_minor": 0,
  "metadata": {
    "colab": {
      "provenance": [],
      "authorship_tag": "ABX9TyOA7DdwG4/6fd5etZTq6L+w",
      "include_colab_link": true
    },
    "kernelspec": {
      "name": "python3",
      "display_name": "Python 3"
    },
    "language_info": {
      "name": "python"
    }
  },
  "cells": [
    {
      "cell_type": "markdown",
      "metadata": {
        "id": "view-in-github",
        "colab_type": "text"
      },
      "source": [
        "<a href=\"https://colab.research.google.com/github/ganesh12112/ganesh12112/blob/main/Session_14.ipynb\" target=\"_parent\"><img src=\"https://colab.research.google.com/assets/colab-badge.svg\" alt=\"Open In Colab\"/></a>"
      ]
    },
    {
      "cell_type": "code",
      "execution_count": null,
      "metadata": {
        "id": "EVojwZifgptN"
      },
      "outputs": [],
      "source": [
        "# score of the students in class\n",
        "# giving remarks for each range\n",
        "# the interpreter checks the indendation of if and else statements should be same\n",
        "marks = int(input(\"enter the marks of the student:\"))\n",
        "if marks >  75:\n",
        "  print(\"congrats!! you got A grade\")\n",
        "else:\n",
        "  print(\"okay but you should get something better\")"
      ]
    },
    {
      "cell_type": "code",
      "source": [
        " # if\n",
        " #.....\n",
        " # elif\n",
        " #......\n",
        " # else\n",
        "# there is no need for { } in python like c and c++\n",
        "m = int(input(\"enter the marks:\"))\n",
        "if m < 35:\n",
        "  print('you failed in the test!')\n",
        "elif m >= 35:\n",
        "  print('you are passed in the test')\n",
        "else:\n",
        "  print('enter the correct marks')"
      ],
      "metadata": {
        "colab": {
          "base_uri": "https://localhost:8080/"
        },
        "id": "w8JfmpxTh6Zp",
        "outputId": "ff29d5b5-34f3-4c04-e393-0f1bae322c7a"
      },
      "execution_count": 3,
      "outputs": [
        {
          "output_type": "stream",
          "name": "stdout",
          "text": [
            "enter the marks:35\n",
            "you are passed in the test\n"
          ]
        }
      ]
    },
    {
      "cell_type": "code",
      "source": [
        "# without using the logical operator buy nestd if statements\n",
        "a = int(input(\"enter the first number:\"))\n",
        "b = int(input(\"enter the second number:\"))\n",
        "c = int(input(\"enter the third number:\"))\n",
        "if a>b:\n",
        "  if a>c:\n",
        "    print(\"a is the largest number\",a)\n",
        "if b>c:\n",
        "  if b>a:\n",
        "    print(\"b is the largest number\",b)\n",
        "if c>b:\n",
        "  if c>a:\n",
        "    print(\"c is the largest number\",c)\n",
        "# it will not work if the input are the same"
      ],
      "metadata": {
        "colab": {
          "base_uri": "https://localhost:8080/"
        },
        "id": "WKpgc8xOlqjc",
        "outputId": "e80cee85-7d23-4076-9cad-da114a2820fd"
      },
      "execution_count": 9,
      "outputs": [
        {
          "output_type": "stream",
          "name": "stdout",
          "text": [
            "enter the first number:12\n",
            "enter the second number:10\n",
            "enter the third number:23\n",
            "c is the largest number 23\n"
          ]
        }
      ]
    },
    {
      "cell_type": "code",
      "source": [
        "# using logical operators # AND operator\n",
        "a = int(input(\"enter the first number:\"))\n",
        "b = int(input(\"enter the second number:\"))\n",
        "c = int(input(\"enter the third number:\"))\n",
        "if a>b and a>c:\n",
        "  print(\"a is the largest\")\n",
        "elif b>a and b>c:\n",
        "  print(\"b is the largest\")\n",
        "elif c>b and c>b:\n",
        "  print(\"c is the largest\")\n",
        "else:\n",
        "  print(\"Atleast 2 numbers are same\")"
      ],
      "metadata": {
        "colab": {
          "base_uri": "https://localhost:8080/"
        },
        "id": "YRhegUfJnG54",
        "outputId": "02786cda-9ead-4663-9ebe-8241e1eacb82"
      },
      "execution_count": 10,
      "outputs": [
        {
          "output_type": "stream",
          "name": "stdout",
          "text": [
            "enter the first number:12\n",
            "enter the second number:10\n",
            "enter the third number:89\n",
            "c is the largest\n"
          ]
        }
      ]
    },
    {
      "cell_type": "code",
      "source": [
        "# using the OR operator\n",
        "# membership operator - in #it will not for integer operator\n",
        "# vowel problem\n",
        "# shortcut\n",
        "mn =input(\"enter the movie name:\")\n",
        "str = 'aeiou'\n",
        "for i in str:\n",
        "  if i in mn:\n",
        "    print(\"yes you can watch it!\")\n",
        "    break;\n",
        "  else:\n",
        "    print(\"don't go to movie\")\n",
        "    break;"
      ],
      "metadata": {
        "colab": {
          "base_uri": "https://localhost:8080/"
        },
        "id": "2pOiB7jIozWe",
        "outputId": "e9bc8120-bd88-4ed0-b5bf-6edca970fe3b"
      },
      "execution_count": 25,
      "outputs": [
        {
          "output_type": "stream",
          "name": "stdout",
          "text": [
            "enter the movie name:kgf\n",
            "don't go to movie\n"
          ]
        }
      ]
    },
    {
      "cell_type": "code",
      "source": [
        "# simple method\n",
        "mn = \"salaar\"\n",
        "if ('a' in mn or 'e' in mn or 'i' in mn or '0' in mn or 'u' in mn):\n",
        "  print(\"go for the movie\")\n",
        "else:\n",
        "  print(\"will not go for movie\")"
      ],
      "metadata": {
        "colab": {
          "base_uri": "https://localhost:8080/"
        },
        "id": "RnhRILZ2qDuk",
        "outputId": "33df9061-8b8e-4a30-8f68-446360b29358"
      },
      "execution_count": 12,
      "outputs": [
        {
          "output_type": "stream",
          "name": "stdout",
          "text": [
            "go for the movie\n"
          ]
        }
      ]
    },
    {
      "cell_type": "code",
      "source": [
        "# switch and dowhile loop not present in python\n",
        "mn = input(\"enter the movie name:\")\n",
        "str = 'aeiou'\n",
        "i = 0\n",
        "while i<len(str):\n",
        "  if str[i] in mn:  # membership operator\n",
        "    print('will watch the movie')\n",
        "    break;\n",
        "    i+=1\n",
        "  else:\n",
        "    print(\"will go on someanother day\")"
      ],
      "metadata": {
        "colab": {
          "base_uri": "https://localhost:8080/"
        },
        "id": "tE4P_XPrqsep",
        "outputId": "97dc785b-bdb2-4cb6-ce4a-d13d9e54101b"
      },
      "execution_count": 29,
      "outputs": [
        {
          "output_type": "stream",
          "name": "stdout",
          "text": [
            "enter the movie name:Bhahubali\n",
            "will watch the movie\n"
          ]
        }
      ]
    },
    {
      "cell_type": "code",
      "source": [
        "# what are called pointers - they are avilable in c to access index in arrays of it\n",
        "# # slicing  [start :stop :step] it has three parameters\n",
        "s = \"Machinelearning\"\n",
        "print(type(s))\n",
        "print(s[3])\n",
        "print(s[1:16:2])"
      ],
      "metadata": {
        "colab": {
          "base_uri": "https://localhost:8080/"
        },
        "id": "Muyl4csfx5Kt",
        "outputId": "bee362cb-2bd4-4dde-eb8a-240d2b41edc8"
      },
      "execution_count": 36,
      "outputs": [
        {
          "output_type": "stream",
          "name": "stdout",
          "text": [
            "<class 'str'>\n",
            "h\n",
            "ahnlann\n"
          ]
        }
      ]
    },
    {
      "cell_type": "code",
      "source": [
        "#print(s[-1:5:-1])\n",
        "print(s[::-1])"
      ],
      "metadata": {
        "colab": {
          "base_uri": "https://localhost:8080/"
        },
        "id": "rBtXMQIu00NR",
        "outputId": "9a344fae-282f-4f64-ed21-e7178a2f9a24"
      },
      "execution_count": 40,
      "outputs": [
        {
          "output_type": "stream",
          "name": "stdout",
          "text": [
            "gninraelenihcaM\n"
          ]
        }
      ]
    },
    {
      "cell_type": "code",
      "source": [
        "a = \"RRR\"\n",
        "if a ==a:\n",
        "  print(\"panlindrome\")\n",
        "else:\n",
        "  print(\"not panlindrome\")"
      ],
      "metadata": {
        "colab": {
          "base_uri": "https://localhost:8080/"
        },
        "id": "msIiIwoT15TW",
        "outputId": "a8cfb03d-9e75-4ddd-d7bf-61a9b6c72172"
      },
      "execution_count": 41,
      "outputs": [
        {
          "output_type": "stream",
          "name": "stdout",
          "text": [
            "panlindrome\n"
          ]
        }
      ]
    },
    {
      "cell_type": "code",
      "source": [
        "# range function\n",
        "for i in range(11,1,-2):\n",
        "  print(i,end=\",\")"
      ],
      "metadata": {
        "colab": {
          "base_uri": "https://localhost:8080/"
        },
        "id": "E_UUnBSE2Ob3",
        "outputId": "c2e600de-3b5b-4a05-83e4-242b664ff65a"
      },
      "execution_count": 45,
      "outputs": [
        {
          "output_type": "stream",
          "name": "stdout",
          "text": [
            "11,9,7,5,3,"
          ]
        }
      ]
    },
    {
      "cell_type": "code",
      "source": [
        "# what is  exploratory data analaysis?\n",
        "# what is descriptive anaalytics\n",
        "# mode can calculated for numerical and categorical value"
      ],
      "metadata": {
        "id": "FuQ7DdXq4BEC"
      },
      "execution_count": null,
      "outputs": []
    }
  ]
}