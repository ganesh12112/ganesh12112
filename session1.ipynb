{
  "nbformat": 4,
  "nbformat_minor": 0,
  "metadata": {
    "colab": {
      "provenance": [],
      "authorship_tag": "ABX9TyOyE6pRgxOph2kFKgKai1Kr",
      "include_colab_link": true
    },
    "kernelspec": {
      "name": "python3",
      "display_name": "Python 3"
    },
    "language_info": {
      "name": "python"
    }
  },
  "cells": [
    {
      "cell_type": "markdown",
      "metadata": {
        "id": "view-in-github",
        "colab_type": "text"
      },
      "source": [
        "<a href=\"https://colab.research.google.com/github/ganesh12112/ganesh12112/blob/main/session1.ipynb\" target=\"_parent\"><img src=\"https://colab.research.google.com/assets/colab-badge.svg\" alt=\"Open In Colab\"/></a>"
      ]
    },
    {
      "cell_type": "code",
      "execution_count": null,
      "metadata": {
        "colab": {
          "base_uri": "https://localhost:8080/"
        },
        "id": "-hVWeOyVOjl2",
        "outputId": "72f058ce-3cd3-4a02-dd93-0a607d9826b3"
      },
      "outputs": [
        {
          "output_type": "stream",
          "name": "stdout",
          "text": [
            "value of x is: 12\n",
            "value of y is : meena\n",
            "value of z is : 1.23\n",
            "345\n"
          ]
        }
      ],
      "source": [
        "#creating variables\n",
        "x = 12\n",
        "y = \"meena\"\n",
        "z = 1.23\n",
        "p = 345\n",
        "print(\"value of x is:\" ,x)\n",
        "print(\"value of y is :\",y)\n",
        "print(\"value of z is :\",z)\n",
        "print(p)\n",
        "\n"
      ]
    },
    {
      "cell_type": "code",
      "source": [
        "#naming conventions of variables\n",
        "x123 = 45\n",
        "_y = 46\n",
        "_z101 =\"xyz\"\n",
        "x_y12 = 46\n",
        "print(x123)\n",
        "print(_y)\n",
        "print(_z101)\n",
        "print(x_y12)"
      ],
      "metadata": {
        "colab": {
          "base_uri": "https://localhost:8080/"
        },
        "id": "wxPLOFY4RtdS",
        "outputId": "d0e27125-4ef4-4edd-a278-fc183feabde0"
      },
      "execution_count": null,
      "outputs": [
        {
          "output_type": "stream",
          "name": "stdout",
          "text": [
            "45\n",
            "46\n",
            "xyz\n",
            "46\n"
          ]
        }
      ]
    },
    {
      "cell_type": "code",
      "source": [
        "# arithematic operations\n",
        "#program to add/sub/mul/div of 2 numbers\n",
        "num1 = 20\n",
        "num2 = 30\n",
        "n3= num1+num2\n",
        "n4=num1-num2\n",
        "n5 = num1*num2\n",
        "n6 = num1 /num2\n",
        "print(\"n3\",n3)\n",
        "print(\"n4\",n4)\n",
        "print(\"n5\",n5)\n",
        "print(\"n6\",n6)\n"
      ],
      "metadata": {
        "colab": {
          "base_uri": "https://localhost:8080/"
        },
        "id": "jJVuCdvCSe_b",
        "outputId": "0690cb9d-7526-4cbb-9ddb-520639226c41"
      },
      "execution_count": null,
      "outputs": [
        {
          "output_type": "stream",
          "name": "stdout",
          "text": [
            "n3 50\n",
            "n4 -10\n",
            "n5 600\n",
            "n6 0.6666666666666666\n"
          ]
        }
      ]
    },
    {
      "cell_type": "code",
      "source": [
        "#example problem\n",
        "z = int(input(\"enter the value of z:\"))\n",
        "m = 60\n",
        "c = 50\n",
        "y = m*2/c\n",
        "x = y * z/2+100\n",
        "print(\"value of y is:\",y)\n",
        "print(\"value of x:\",x)\n"
      ],
      "metadata": {
        "colab": {
          "base_uri": "https://localhost:8080/"
        },
        "id": "CLwG5SMyT49M",
        "outputId": "609d1e01-e567-455a-8791-45f03d69569d"
      },
      "execution_count": null,
      "outputs": [
        {
          "output_type": "stream",
          "name": "stdout",
          "text": [
            "enter the value of z:70\n",
            "value of y is: 2.4\n",
            "value of x: 184.0\n"
          ]
        }
      ]
    },
    {
      "cell_type": "code",
      "source": [
        "#string operation\n",
        "str = \"hello world\"\n",
        "str1 = \"I am your interpreter\"\n",
        "print(len(str))\n",
        "print(str)\n",
        "print(str1)\n",
        "print(str[0])\n",
        "print(\"print first 8 charcters:\",str1[0:8])\n",
        "print(\"print the last charcter:\",str1[-1])"
      ],
      "metadata": {
        "colab": {
          "base_uri": "https://localhost:8080/"
        },
        "id": "YJeIUh4XX9kg",
        "outputId": "cc1f58e2-5452-4c23-a7f1-31ba7d8440a4"
      },
      "execution_count": null,
      "outputs": [
        {
          "output_type": "stream",
          "name": "stdout",
          "text": [
            "11\n",
            "hello world\n",
            "I am your interpreter\n",
            "h\n",
            "print first 8 charcters: I am you\n",
            "print the last charcter: r\n"
          ]
        }
      ]
    },
    {
      "cell_type": "code",
      "source": [
        "# program to add the numbers in string\n",
        "str =\"12345\"\n",
        "r = 0\n",
        "for i in range(0,len(str)):\n",
        "    r = r+eval(str[i])\n",
        "print(\"sum of the numbers\",r)"
      ],
      "metadata": {
        "colab": {
          "base_uri": "https://localhost:8080/"
        },
        "id": "MslP1Y_wi1pj",
        "outputId": "e755d038-267d-4baf-8100-d50620656a23"
      },
      "execution_count": null,
      "outputs": [
        {
          "output_type": "stream",
          "name": "stdout",
          "text": [
            "sum of the numbers 15\n"
          ]
        }
      ]
    },
    {
      "cell_type": "code",
      "source": [
        "str = \"12345\"\n",
        "str1 = str[::-1]\n",
        "print(str1)\n",
        "str2= str[1:4]\n",
        "print(str2[::-1])\n"
      ],
      "metadata": {
        "colab": {
          "base_uri": "https://localhost:8080/"
        },
        "id": "40C8adzsltpZ",
        "outputId": "c7a6cba2-8e4b-4931-ff0a-5da33ac737ed"
      },
      "execution_count": null,
      "outputs": [
        {
          "output_type": "stream",
          "name": "stdout",
          "text": [
            "54321\n",
            "432\n"
          ]
        }
      ]
    },
    {
      "cell_type": "code",
      "source": [
        "# program to convert celsius to fahrenhiet\n",
        "degree_temp = float(input(\"enter the temp in degree centrigrade:\"))\n",
        "faherenhiet_temp = 9/5*degree_temp+32\n",
        "print(\"temp in the farenhiet to degree centrigrade:\",faherenhiet_temp)"
      ],
      "metadata": {
        "colab": {
          "base_uri": "https://localhost:8080/"
        },
        "id": "pY1QBmup5LwD",
        "outputId": "c5d8cbc5-86a7-4147-eeb2-2969d4fbfc3e"
      },
      "execution_count": null,
      "outputs": [
        {
          "output_type": "stream",
          "name": "stdout",
          "text": [
            "enter the temp in degree centrigrade:37.9\n",
            "temp in the farenhiet to degree centrigrade: 100.22\n"
          ]
        }
      ]
    },
    {
      "cell_type": "code",
      "source": [
        "a= 6\n",
        "b= 4\n",
        "print(a//b)"
      ],
      "metadata": {
        "colab": {
          "base_uri": "https://localhost:8080/"
        },
        "id": "sgd6xOW17Vmn",
        "outputId": "71429507-84a0-4c3f-cc5e-191868b293d9"
      },
      "execution_count": null,
      "outputs": [
        {
          "output_type": "stream",
          "name": "stdout",
          "text": [
            "1\n"
          ]
        }
      ]
    },
    {
      "cell_type": "code",
      "source": [
        "# marks of the different students\n",
        "marks = int(input(\"enter the matrks obtained:\"))\n",
        "if marks <0:\n",
        "  print(\"you need to study hard a little bit\")\n",
        "elif marks <=50:\n",
        "  print(\"Not good ,Not Terrible\")\n",
        "elif marks <=70:\n",
        "  print(\"that's decent .Have a cookie for youself!\")\n",
        "elif marks <=100:\n",
        "  print(\"great you are on the top\")\n",
        "else:\n",
        "  print(\"error enter the marks in the range only!\")"
      ],
      "metadata": {
        "colab": {
          "base_uri": "https://localhost:8080/"
        },
        "id": "PLTOsRma8IIt",
        "outputId": "b10794ca-e906-4ff0-a6b4-f014cee1c040"
      },
      "execution_count": null,
      "outputs": [
        {
          "output_type": "stream",
          "name": "stdout",
          "text": [
            "enter the matrks obtained:105\n",
            "error enter the marks in the range only!\n"
          ]
        }
      ]
    },
    {
      "cell_type": "code",
      "source": [
        "# find the max of three numbers\n",
        "num1 = int(input(\"enter the first number:\"))\n",
        "num2 = int(input(\"enter the second number:\"))\n",
        "num3 = int(input(\"enter the third number:\"))\n",
        "if num1>num2 and num1>num3:\n",
        "  print(\"largest number is:\",num1)\n",
        "elif num2>num1 and num2>num3:\n",
        "  print(\"largest number is :\",num2)\n",
        "elif num3>num1 and num3>num2:\n",
        "   print(\"largest number is :\",num3)\n",
        "else:\n",
        "  print|(\"atleast two numbers are equal\")"
      ],
      "metadata": {
        "colab": {
          "base_uri": "https://localhost:8080/"
        },
        "id": "RcHNn7pKIvMp",
        "outputId": "f1034bca-5a0e-4c41-ec76-9df70300d0d0"
      },
      "execution_count": null,
      "outputs": [
        {
          "output_type": "stream",
          "name": "stdout",
          "text": [
            "enter the first number:10\n",
            "enter the second number:45\n",
            "enter the third number:23\n",
            "largest number is : 45\n"
          ]
        }
      ]
    },
    {
      "cell_type": "code",
      "source": [
        "# if movie name has any vowel I'll watch it . Else i won't watch it.\n",
        "movie_name = input(\"enter the movie_name:\")\n",
        "if ('a' in movie_name or 'e' in movie_name or\n",
        "   'i' in movie_name or 'o' in movie_name or\n",
        "   'u' in movie_name):\n",
        "   print(\"will watch the movie\")\n",
        "else:\n",
        "  print(\"will not watch the movie\")"
      ],
      "metadata": {
        "colab": {
          "base_uri": "https://localhost:8080/"
        },
        "id": "63aAbAtRVhBQ",
        "outputId": "b8fc00f0-b787-4a28-c67f-037ce1cdcde5"
      },
      "execution_count": null,
      "outputs": [
        {
          "output_type": "stream",
          "name": "stdout",
          "text": [
            "enter the movie_name:kgf\n",
            "will not watch the movie\n"
          ]
        }
      ]
    },
    {
      "cell_type": "code",
      "source": [
        "# method 2 by for loop\n",
        "movie_name = input(\"enter the movie name:\")\n",
        "str = 'aeiou'\n",
        "for i in str:\n",
        "  if  i in movie_name:\n",
        "    print(\"will watch the movie\")\n",
        "    break;       # exit the  entire loop and stops executing the next condition\n",
        "  else:\n",
        "    print(\"will not watch the movie\")\n",
        "    break;\n"
      ],
      "metadata": {
        "colab": {
          "base_uri": "https://localhost:8080/"
        },
        "id": "UUqWdkguW3r4",
        "outputId": "4f6475f5-d813-4e1d-8948-330aec6cb02b"
      },
      "execution_count": null,
      "outputs": [
        {
          "output_type": "stream",
          "name": "stdout",
          "text": [
            "enter the movie name:bhabubali\n",
            "will watch the movie\n"
          ]
        }
      ]
    },
    {
      "cell_type": "code",
      "source": [
        "# method 3\n",
        "movie_name = input(\"enter the movie name:\")\n",
        "str = 'aeiou'\n",
        "vowel_found = False\n",
        "for i in str:\n",
        "  if  i in movie_name:\n",
        "    vowel_found = True\n",
        "    break;       # exit the  entire loop and stops executing the next condition\n",
        "if(vowel_found ==  True):\n",
        "  print(\"will watch the movie\")\n",
        "else:\n",
        "    print(\"will not watch the movie\")\n"
      ],
      "metadata": {
        "colab": {
          "base_uri": "https://localhost:8080/"
        },
        "id": "IGOZ95SYZ435",
        "outputId": "b42bf2cc-0f50-4af6-ba54-2eb057f0b37a"
      },
      "execution_count": null,
      "outputs": [
        {
          "output_type": "stream",
          "name": "stdout",
          "text": [
            "enter the movie name:RRR\n",
            "will not watch the movie\n"
          ]
        }
      ]
    },
    {
      "cell_type": "code",
      "source": [
        "# METHOD 4 USING THE WHILE LOOP\n",
        "movie_name = input(\"enter the movie name:\")\n",
        "str = 'aeiou'\n",
        "i = 0\n",
        "while i<len(str):\n",
        "  if  str[i] in movie_name:\n",
        "    print(\"will watch the movie\")\n",
        "    break;\n",
        "  i+=1      # exit the  entire loop and stops executing the next condition\n",
        "else:\n",
        "    print(\"will not watch the movie\")"
      ],
      "metadata": {
        "colab": {
          "base_uri": "https://localhost:8080/"
        },
        "id": "PP0kFWq_c_v5",
        "outputId": "25e264e1-ea6a-4e00-847d-43f94956dfbb"
      },
      "execution_count": null,
      "outputs": [
        {
          "output_type": "stream",
          "name": "stdout",
          "text": [
            "enter the movie name:RRR\n",
            "will not watch the movie\n"
          ]
        }
      ]
    },
    {
      "cell_type": "code",
      "source": [
        "# print tables of n\n",
        "# print the following pattern for given n lines by for or whle loop 1,12,123,\n",
        "num = int(input(\"enter the number to print the table for:\"))\n",
        "for i in range(1,11):\n",
        "  print(num,\"x\",i,\"=\",i*num)\n"
      ],
      "metadata": {
        "colab": {
          "base_uri": "https://localhost:8080/"
        },
        "id": "Ysr_OLrQgr7z",
        "outputId": "51be2f54-c868-4af7-f221-6437df308800"
      },
      "execution_count": null,
      "outputs": [
        {
          "output_type": "stream",
          "name": "stdout",
          "text": [
            "enter the number to print the table for:7\n",
            "7 x 1 = 7\n",
            "7 x 2 = 14\n",
            "7 x 3 = 21\n",
            "7 x 4 = 28\n",
            "7 x 5 = 35\n",
            "7 x 6 = 42\n",
            "7 x 7 = 49\n",
            "7 x 8 = 56\n",
            "7 x 9 = 63\n",
            "7 x 10 = 70\n"
          ]
        }
      ]
    },
    {
      "cell_type": "code",
      "source": [
        "# 2nd  problem\n",
        "num = int(input(\"enter the number of rows:\"))\n",
        "for i in range(1,num+1): # i = row and j = column\n",
        "  for j in range(1,i+1):   # it will print up to row number\n",
        "    print(j,end=\"\")     # what is the use of end=\"\"?\n",
        "  print() # takes /n by default\n"
      ],
      "metadata": {
        "colab": {
          "base_uri": "https://localhost:8080/"
        },
        "id": "dr7dPIExp1F8",
        "outputId": "d19f9150-a5ec-4ac6-8777-30e161d99142"
      },
      "execution_count": null,
      "outputs": [
        {
          "output_type": "stream",
          "name": "stdout",
          "text": [
            "enter the number of rows:6\n",
            "1\n",
            "12\n",
            "123\n",
            "1234\n",
            "12345\n",
            "123456\n"
          ]
        }
      ]
    },
    {
      "cell_type": "code",
      "source": [
        "# DATASTRUCTURES in python list,tuple ,dictionary,set\n",
        "# slicing\n",
        "str = \"ganesh\"  # start ,stop,step\n",
        "print(str[::-1]) # scope resolution operater prints for every two chracters in the string\n"
      ],
      "metadata": {
        "colab": {
          "base_uri": "https://localhost:8080/"
        },
        "id": "0TuN_8GYe3iB",
        "outputId": "2f2fbe94-5301-4473-d037-9970fdf9cfb4"
      },
      "execution_count": null,
      "outputs": [
        {
          "output_type": "stream",
          "name": "stdout",
          "text": [
            "hsenag\n"
          ]
        }
      ]
    },
    {
      "cell_type": "code",
      "source": [
        "str = \"ganesh\"\n",
        "print(str[5:2:-1])"
      ],
      "metadata": {
        "colab": {
          "base_uri": "https://localhost:8080/"
        },
        "id": "YbdrSw44sWrY",
        "outputId": "67418cd1-792f-4ab3-d072-446386662397"
      },
      "execution_count": null,
      "outputs": [
        {
          "output_type": "stream",
          "name": "stdout",
          "text": [
            "hse\n"
          ]
        }
      ]
    },
    {
      "cell_type": "code",
      "source": [
        "# checking string is a panlindrome or not\n",
        "a = \"RRR\"\n",
        "if a == a[::-1]:\n",
        "  print(\"panlindrome\")\n",
        "else:\n",
        "  print(\"not palindrome\")"
      ],
      "metadata": {
        "colab": {
          "base_uri": "https://localhost:8080/"
        },
        "id": "_5JFW32vv8rv",
        "outputId": "f1ed34dc-d9fc-43cf-84f4-ba730ce9d11a"
      },
      "execution_count": null,
      "outputs": [
        {
          "output_type": "stream",
          "name": "stdout",
          "text": [
            "panlindrome\n"
          ]
        }
      ]
    },
    {
      "cell_type": "code",
      "source": [
        "# print  a pattern as follows as n lines\n",
        "#1\n",
        "#121\n",
        "#12312\n",
        "#1234321\n",
        "#123454321\n",
        "def pattern_print():\n",
        " for i in range(1,n+1):\n",
        "  for j in range(1,i+1):\n",
        "    print(j,end=\"\")\n",
        "  for j in range(i-1,0,-1):\n",
        "   print(j,end=\"\")\n",
        "  print()\n",
        "\n",
        "if name == \"main\":\n",
        "  n = int(input(\"enter the number of lines:\"))\n",
        "  pattern_print(n)"
      ],
      "metadata": {
        "id": "SjuB_-TzxFcV",
        "colab": {
          "base_uri": "https://localhost:8080/",
          "height": 245
        },
        "outputId": "bf8899c9-4009-4e8f-c01b-187ba9817b97"
      },
      "execution_count": 4,
      "outputs": [
        {
          "output_type": "error",
          "ename": "NameError",
          "evalue": "ignored",
          "traceback": [
            "\u001b[0;31m---------------------------------------------------------------------------\u001b[0m",
            "\u001b[0;31mNameError\u001b[0m                                 Traceback (most recent call last)",
            "\u001b[0;32m<ipython-input-4-1c497438ef9d>\u001b[0m in \u001b[0;36m<cell line: 15>\u001b[0;34m()\u001b[0m\n\u001b[1;32m     13\u001b[0m   \u001b[0mprint\u001b[0m\u001b[0;34m(\u001b[0m\u001b[0;34m)\u001b[0m\u001b[0;34m\u001b[0m\u001b[0;34m\u001b[0m\u001b[0m\n\u001b[1;32m     14\u001b[0m \u001b[0;34m\u001b[0m\u001b[0m\n\u001b[0;32m---> 15\u001b[0;31m \u001b[0;32mif\u001b[0m \u001b[0mname\u001b[0m \u001b[0;34m==\u001b[0m \u001b[0;34m\"main\"\u001b[0m\u001b[0;34m:\u001b[0m\u001b[0;34m\u001b[0m\u001b[0;34m\u001b[0m\u001b[0m\n\u001b[0m\u001b[1;32m     16\u001b[0m   \u001b[0mn\u001b[0m \u001b[0;34m=\u001b[0m \u001b[0mint\u001b[0m\u001b[0;34m(\u001b[0m\u001b[0minput\u001b[0m\u001b[0;34m(\u001b[0m\u001b[0;34m\"enter the number of lines:\"\u001b[0m\u001b[0;34m)\u001b[0m\u001b[0;34m)\u001b[0m\u001b[0;34m\u001b[0m\u001b[0;34m\u001b[0m\u001b[0m\n\u001b[1;32m     17\u001b[0m   \u001b[0mpattern_print\u001b[0m\u001b[0;34m(\u001b[0m\u001b[0mn\u001b[0m\u001b[0;34m)\u001b[0m\u001b[0;34m\u001b[0m\u001b[0;34m\u001b[0m\u001b[0m\n",
            "\u001b[0;31mNameError\u001b[0m: name 'name' is not defined"
          ]
        }
      ]
    },
    {
      "cell_type": "code",
      "source": [
        "li = [1,2,3,4,5]\n",
        "for i in li:    # it can store any data type\n",
        "  print(i,end=\",\")"
      ],
      "metadata": {
        "colab": {
          "base_uri": "https://localhost:8080/"
        },
        "id": "bxqMq8r59FYJ",
        "outputId": "fb551a42-5a11-4124-a883-8c00b1aa073a"
      },
      "execution_count": null,
      "outputs": [
        {
          "output_type": "stream",
          "name": "stdout",
          "text": [
            "1,2,3,4,5,"
          ]
        }
      ]
    },
    {
      "cell_type": "code",
      "source": [
        "# what is the differnce between arrays and lists?\n",
        "# list can store multiple data type\n",
        "# limitations - size is not constant (element)\n",
        "# length,dataype,adress - it uses the extra memmory\n",
        "# what are linked lists?"
      ],
      "metadata": {
        "id": "Da0eLgiv-AwB"
      },
      "execution_count": null,
      "outputs": []
    },
    {
      "cell_type": "code",
      "source": [
        "# list concatenation\n",
        "#li = [1,2,3,4]\n",
        "#li1 = [4,6,7,8]\n",
        "#li.append(li1)\n",
        "#print(li[1])\n",
        "\n",
        "# .extend()\n",
        "li2 = [1,2,3,4]\n",
        "li3 = [6,7,8,9]\n",
        "\n",
        "li2.extend(li3)\n",
        "print(li2)"
      ],
      "metadata": {
        "colab": {
          "base_uri": "https://localhost:8080/"
        },
        "id": "8Hr-zM4Tjwg0",
        "outputId": "38a313c3-e039-4f6f-86ea-ffc6cd3ac660"
      },
      "execution_count": 15,
      "outputs": [
        {
          "output_type": "stream",
          "name": "stdout",
          "text": [
            "[1, 2, 3, 4, 6, 7, 8, 9]\n"
          ]
        }
      ]
    },
    {
      "cell_type": "code",
      "source": [
        "#li2.insert(1,2)\n",
        "#li2\n",
        "# .remove()\n",
        "li2 = [1,2,3,4]\n",
        "li2.remove(3)\n",
        "print(li2)\n",
        "# .pop() it works based on the index by default it removes last element in the list"
      ],
      "metadata": {
        "colab": {
          "base_uri": "https://localhost:8080/"
        },
        "id": "EpkFhv2pl9GR",
        "outputId": "6ff7783a-cee3-4ab1-e0a4-dfd3acb6dfaa"
      },
      "execution_count": 23,
      "outputs": [
        {
          "output_type": "stream",
          "name": "stdout",
          "text": [
            "[1, 2, 4]\n"
          ]
        }
      ]
    },
    {
      "cell_type": "code",
      "source": [
        "# sorting functions\n",
        "list = [5,8,74,23]\n",
        "list.sort(reverse = False)  # dattype of the elements should be same\n",
        "print(list)"
      ],
      "metadata": {
        "colab": {
          "base_uri": "https://localhost:8080/"
        },
        "id": "mzKA-KaqoN_1",
        "outputId": "9d156fcd-5b72-4968-d693-8ac2588dbcd9"
      },
      "execution_count": 25,
      "outputs": [
        {
          "output_type": "stream",
          "name": "stdout",
          "text": [
            "[5, 8, 23, 74]\n"
          ]
        }
      ]
    },
    {
      "cell_type": "code",
      "source": [
        "#sort based on vowels existed in the string\n",
        "def len_sort(list_elements):\n",
        "  return len(list_elements)\n",
        "  str = 'aeiou'\n",
        "  count = 0\n",
        "  for char in list_elements:\n",
        "     if char in str:\n",
        "      count+=1\n",
        "  return count\n",
        "chocolates = ['bounty','mars','kitkat','candyman','galaxy','perk']\n",
        "chocolates.sort(key = len_sort)\n",
        "print(chocolates)"
      ],
      "metadata": {
        "colab": {
          "base_uri": "https://localhost:8080/"
        },
        "id": "8zIVLivJo3tq",
        "outputId": "3874db56-373b-48ec-aa9d-5357d37e2e40"
      },
      "execution_count": 36,
      "outputs": [
        {
          "output_type": "stream",
          "name": "stdout",
          "text": [
            "['mars', 'perk', 'bounty', 'kitkat', 'galaxy', 'candyman']\n"
          ]
        }
      ]
    },
    {
      "cell_type": "code",
      "source": [
        "#sort based on length of the string\n"
      ],
      "metadata": {
        "id": "8K2hGqoawLYQ"
      },
      "execution_count": null,
      "outputs": []
    },
    {
      "cell_type": "code",
      "source": [
        "def fibonacci(n):\n",
        "  if n == 0 or n == 1:\n",
        "    return n\n",
        "  return fibonacci(n-1) + fibonacci(n-2)\n",
        "\n",
        "n = int(input(\"enter the number: \"))\n",
        "fibonacci(n)\n"
      ],
      "metadata": {
        "colab": {
          "base_uri": "https://localhost:8080/"
        },
        "id": "K0Pg-EvKp08U",
        "outputId": "2895afb3-965e-4d8d-c3fc-dc05149333a1"
      },
      "execution_count": 29,
      "outputs": [
        {
          "name": "stdout",
          "output_type": "stream",
          "text": [
            "enter the number: 2\n"
          ]
        },
        {
          "output_type": "execute_result",
          "data": {
            "text/plain": [
              "1"
            ]
          },
          "metadata": {},
          "execution_count": 29
        }
      ]
    },
    {
      "cell_type": "code",
      "source": [
        "def fiveten(milage):\n",
        "  return 5*milage,10*milage\n",
        "\n",
        "milage = int(input(\"Enter the car mileage:\"))\n",
        "fivelitres,tenlitres = fiveten(milage)\n",
        "print(fivelitres,tenlitres)"
      ],
      "metadata": {
        "colab": {
          "base_uri": "https://localhost:8080/"
        },
        "id": "zIQ8YOaQtReL",
        "outputId": "f18ca784-4cae-4fc2-e2dc-00ae0b30bf14"
      },
      "execution_count": 30,
      "outputs": [
        {
          "output_type": "stream",
          "name": "stdout",
          "text": [
            "Enter the car mileage:17\n",
            "85 170\n"
          ]
        }
      ]
    },
    {
      "cell_type": "code",
      "source": [
        "list = [1,2,3,4,5,6]\n",
        "list1 = list.copy()\n",
        "list1.remove(2)   #both the lists are pointing to same memmory location\n",
        "print(list1)"
      ],
      "metadata": {
        "colab": {
          "base_uri": "https://localhost:8080/"
        },
        "id": "fCPtLMI7xaBc",
        "outputId": "ac8a68c9-ea80-4807-80d6-ac37391ab74e"
      },
      "execution_count": 41,
      "outputs": [
        {
          "output_type": "stream",
          "name": "stdout",
          "text": [
            "[1, 3, 4, 5, 6]\n"
          ]
        }
      ]
    },
    {
      "cell_type": "code",
      "source": [
        "#tuple - immutable\n",
        "a =(1,2,3,4)\n",
        "li = list(a)\n",
        "print(a)"
      ],
      "metadata": {
        "colab": {
          "base_uri": "https://localhost:8080/",
          "height": 227
        },
        "id": "wEuRYop8xuWl",
        "outputId": "93bad08f-2e98-49cb-ab49-18a5f595081b"
      },
      "execution_count": 47,
      "outputs": [
        {
          "output_type": "error",
          "ename": "TypeError",
          "evalue": "ignored",
          "traceback": [
            "\u001b[0;31m---------------------------------------------------------------------------\u001b[0m",
            "\u001b[0;31mTypeError\u001b[0m                                 Traceback (most recent call last)",
            "\u001b[0;32m<ipython-input-47-8964496e716e>\u001b[0m in \u001b[0;36m<cell line: 3>\u001b[0;34m()\u001b[0m\n\u001b[1;32m      1\u001b[0m \u001b[0;31m#tuple - immutable\u001b[0m\u001b[0;34m\u001b[0m\u001b[0;34m\u001b[0m\u001b[0m\n\u001b[1;32m      2\u001b[0m \u001b[0ma\u001b[0m \u001b[0;34m=\u001b[0m\u001b[0;34m(\u001b[0m\u001b[0;36m1\u001b[0m\u001b[0;34m,\u001b[0m\u001b[0;36m2\u001b[0m\u001b[0;34m,\u001b[0m\u001b[0;36m3\u001b[0m\u001b[0;34m,\u001b[0m\u001b[0;36m4\u001b[0m\u001b[0;34m)\u001b[0m\u001b[0;34m\u001b[0m\u001b[0;34m\u001b[0m\u001b[0m\n\u001b[0;32m----> 3\u001b[0;31m \u001b[0mli\u001b[0m \u001b[0;34m=\u001b[0m \u001b[0mlist\u001b[0m\u001b[0;34m(\u001b[0m\u001b[0ma\u001b[0m\u001b[0;34m)\u001b[0m\u001b[0;34m\u001b[0m\u001b[0;34m\u001b[0m\u001b[0m\n\u001b[0m\u001b[1;32m      4\u001b[0m \u001b[0mprint\u001b[0m\u001b[0;34m(\u001b[0m\u001b[0ma\u001b[0m\u001b[0;34m)\u001b[0m\u001b[0;34m\u001b[0m\u001b[0;34m\u001b[0m\u001b[0m\n",
            "\u001b[0;31mTypeError\u001b[0m: 'list' object is not callable"
          ]
        }
      ]
    },
    {
      "cell_type": "code",
      "source": [
        "# set\n"
      ],
      "metadata": {
        "id": "sqO_nF6wzQCh"
      },
      "execution_count": null,
      "outputs": []
    }
  ]
}