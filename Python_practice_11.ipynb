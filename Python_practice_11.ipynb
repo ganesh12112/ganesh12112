{
  "nbformat": 4,
  "nbformat_minor": 0,
  "metadata": {
    "colab": {
      "provenance": [],
      "authorship_tag": "ABX9TyOFvqRrsAz+hyZfyYF/verW",
      "include_colab_link": true
    },
    "kernelspec": {
      "name": "python3",
      "display_name": "Python 3"
    },
    "language_info": {
      "name": "python"
    }
  },
  "cells": [
    {
      "cell_type": "markdown",
      "metadata": {
        "id": "view-in-github",
        "colab_type": "text"
      },
      "source": [
        "<a href=\"https://colab.research.google.com/github/ganesh12112/ganesh12112/blob/main/Python_practice_11.ipynb\" target=\"_parent\"><img src=\"https://colab.research.google.com/assets/colab-badge.svg\" alt=\"Open In Colab\"/></a>"
      ]
    },
    {
      "cell_type": "code",
      "execution_count": null,
      "metadata": {
        "id": "HdFbvsY573Dy"
      },
      "outputs": [],
      "source": [
        "#OOPs Concepts in Python\n",
        "#Class\n",
        "#Objects\n",
        "#Polymorphism\n",
        "#Encapsulation\n",
        "#Inheritance\n",
        "#Data Abstraction"
      ]
    },
    {
      "cell_type": "code",
      "source": [
        "# python class - collection  of objects\n",
        "#A class contains the blueprints or the prototype from which the objects are\n",
        "#being created.\n",
        "#It is a logical entity that contains some attributes and methods.\n",
        "# attributes are always public and can be accessed using the dot(.) operator\n",
        "# eg Myclass.Myattribute"
      ],
      "metadata": {
        "id": "go0k25kT-T-c"
      },
      "execution_count": null,
      "outputs": []
    },
    {
      "cell_type": "code",
      "source": [
        "# syntax class definition\n",
        "class classname:\n",
        "  #statement - 1\n",
        "\n",
        "\n",
        "  # statement -N"
      ],
      "metadata": {
        "id": "CyRxjz8gAxFK"
      },
      "execution_count": null,
      "outputs": []
    },
    {
      "cell_type": "code",
      "source": [
        "#creating an empty class in python\n",
        "class Dog:\n",
        "  pass"
      ],
      "metadata": {
        "id": "tWvjYDh_BNkh"
      },
      "execution_count": 1,
      "outputs": []
    },
    {
      "cell_type": "code",
      "source": [
        "# python objects\n",
        "#The object is an entity that has a state and behavior, identity associated with it.\n",
        "#state - represented by attributes of object - reflects properties of an object\n",
        "#Behavior - methods of an object - reflects response of an object to other objects\n",
        "#Identity - unique name to an object - enables objects to interact with other objects\n",
        "# what is memory location? and memmory size. for different objects?"
      ],
      "metadata": {
        "id": "-LhS346qCBqC"
      },
      "execution_count": null,
      "outputs": []
    },
    {
      "cell_type": "code",
      "source": [
        "# example to understand state,behavior,identity by the class dog\n",
        "# identity - name of the dog\n",
        "# state or attributes - breed,age,or color of the dog\n",
        "# behavior - whether the dog is eating or sleeping"
      ],
      "metadata": {
        "id": "0f8bZQ3MEwHB"
      },
      "execution_count": null,
      "outputs": []
    },
    {
      "cell_type": "code",
      "source": [
        "# creating an object\n",
        "# what are attributes?\n",
        "# why allocating memory is important to attributes and methods?\n",
        "# why the object creation is important?\n",
        "#is the process of bringing a class blueprint to life by allocating memory for\n",
        "#its attributes and methods. It's like taking a cookie cutter and using it to\n",
        "#make a cookie: the class is the cutter, and the object is the cookie.\n",
        "obj = Dog()"
      ],
      "metadata": {
        "id": "gNVl6an0FpDx"
      },
      "execution_count": null,
      "outputs": []
    },
    {
      "cell_type": "code",
      "source": [
        "# python self\n",
        "# what are pointers in the c++? and this reference in java?\n",
        "# difference between declaration and dereferencing in pointers?\n",
        "# what is memmory adress?\n",
        "# what is directory?\n",
        "# what is calling a method? in python\n",
        "# what is self in python?\n",
        "# what are constructors vs destructors?"
      ],
      "metadata": {
        "id": "MeTp99qILSiy"
      },
      "execution_count": null,
      "outputs": []
    }
  ]
}