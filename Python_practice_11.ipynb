{
  "nbformat": 4,
  "nbformat_minor": 0,
  "metadata": {
    "colab": {
      "provenance": [],
      "authorship_tag": "ABX9TyPgtFFbV/v+55eQiqqpeEGT",
      "include_colab_link": true
    },
    "kernelspec": {
      "name": "python3",
      "display_name": "Python 3"
    },
    "language_info": {
      "name": "python"
    }
  },
  "cells": [
    {
      "cell_type": "markdown",
      "metadata": {
        "id": "view-in-github",
        "colab_type": "text"
      },
      "source": [
        "<a href=\"https://colab.research.google.com/github/ganesh12112/ganesh12112/blob/main/Python_practice_11.ipynb\" target=\"_parent\"><img src=\"https://colab.research.google.com/assets/colab-badge.svg\" alt=\"Open In Colab\"/></a>"
      ]
    },
    {
      "cell_type": "code",
      "execution_count": null,
      "metadata": {
        "id": "HdFbvsY573Dy"
      },
      "outputs": [],
      "source": [
        "#OOPs Concepts in Python\n",
        "#Class\n",
        "#Objects\n",
        "#Polymorphism\n",
        "#Encapsulation\n",
        "#Inheritance\n",
        "#Data Abstraction"
      ]
    },
    {
      "cell_type": "code",
      "source": [
        "# python class - collection  of objects\n",
        "#A class contains the blueprints or the prototype from which the objects are\n",
        "#being created.\n",
        "#It is a logical entity that contains some attributes and methods.\n",
        "# attributes are always public and can be accessed using the dot(.) operator\n",
        "# eg Myclass.Myattribute"
      ],
      "metadata": {
        "id": "go0k25kT-T-c"
      },
      "execution_count": null,
      "outputs": []
    },
    {
      "cell_type": "code",
      "source": [
        "# syntax class definition\n",
        "class classname:\n",
        "  #statement - 1\n",
        "\n",
        "\n",
        "  # statement -N"
      ],
      "metadata": {
        "id": "CyRxjz8gAxFK"
      },
      "execution_count": null,
      "outputs": []
    },
    {
      "cell_type": "code",
      "source": [
        "#creating an empty class in python\n",
        "class Dog:\n",
        "  pass"
      ],
      "metadata": {
        "id": "tWvjYDh_BNkh"
      },
      "execution_count": null,
      "outputs": []
    },
    {
      "cell_type": "code",
      "source": [
        "# python objects\n",
        "#The object is an entity that has a state and behavior, identity associated with it.\n",
        "#state - represented by attributes of object - reflects properties of an object\n",
        "#Behavior - methods of an object - reflects response of an object to other objects\n",
        "#Identity - unique name to an object - enables objects to interact with other objects\n",
        "# what is memory location? and memmory size. for different objects?"
      ],
      "metadata": {
        "id": "-LhS346qCBqC"
      },
      "execution_count": null,
      "outputs": []
    },
    {
      "cell_type": "code",
      "source": [
        "# example to understand state,behavior,identity by the class dog\n",
        "# identity - name of the dog\n",
        "# state or attributes - breed,age,or color of the dog\n",
        "# behavior - whether the dog is eating or sleeping"
      ],
      "metadata": {
        "id": "0f8bZQ3MEwHB"
      },
      "execution_count": null,
      "outputs": []
    },
    {
      "cell_type": "code",
      "source": [
        "# creating an object\n",
        "# what are attributes?\n",
        "# why allocating memory is important to attributes and methods?\n",
        "# why the object creation is important?\n",
        "#is the process of bringing a class blueprint to life by allocating memory for\n",
        "#its attributes and methods. It's like taking a cookie cutter and using it to\n",
        "#make a cookie: the class is the cutter, and the object is the cookie.\n",
        "obj = Dog()"
      ],
      "metadata": {
        "id": "gNVl6an0FpDx"
      },
      "execution_count": null,
      "outputs": []
    },
    {
      "cell_type": "code",
      "source": [
        "# python self\n",
        "# what are pointers in the c++? and this reference in java?\n",
        "# difference between declaration and dereferencing in pointers?\n",
        "# what is memmory adress?\n",
        "# what is directory?\n",
        "# what is calling a method? in python\n",
        "# what is self in python?\n",
        "# what are constructors vs destructors?"
      ],
      "metadata": {
        "id": "MeTp99qILSiy"
      },
      "execution_count": null,
      "outputs": []
    },
    {
      "cell_type": "code",
      "source": [
        "# usage of self?\n",
        "#When we call a method of this object as myobject.method(arg1, arg2), this is\n",
        "#automatically converted by Python into MyClass.method(myobject, arg1, arg2) –\n",
        "#this is all the special self is about.\n",
        "# what happens if we do not use self keyword?"
      ],
      "metadata": {
        "id": "rw96gYbYKBTo"
      },
      "execution_count": null,
      "outputs": []
    },
    {
      "cell_type": "code",
      "source": [
        "# python __init__ method\n",
        "# The method is useful to do any initialization you want to do with your object.\n",
        "# creating a class and object with class and instance attributes\n",
        "class Dog:\n",
        "  # attribute 1\n",
        "  attr1 = \"mammal\"\n",
        "\n",
        "  # Instance attribute\n",
        "  def __init__(self,name):\n",
        "    self.name = name\n",
        "\n",
        "# driver code\n",
        "# object intialization\n",
        "ganesh = Dog(\"ganesh\")\n",
        "chowdary = Dog(\"chowdary\")\n",
        "\n",
        "# accesing the class attributes\n",
        "print(\"ganesh is a {}\".format(ganesh.__class__.attr1))\n",
        "print(\"chowdary is a {}\".format(chowdary.__class__.attr1))\n",
        "\n",
        "\n",
        "# accessing instance attributes\n",
        "print(\"My name is {}\".format(ganesh.name))\n",
        "print(\"My name is {}\".format(chowdary.name))"
      ],
      "metadata": {
        "colab": {
          "base_uri": "https://localhost:8080/"
        },
        "id": "0mePfEoVKvLN",
        "outputId": "36dff893-ddbf-486c-f416-17c133d7cc10"
      },
      "execution_count": 1,
      "outputs": [
        {
          "output_type": "stream",
          "name": "stdout",
          "text": [
            "ganesh is a mammal\n",
            "chowdary is a mammal\n",
            "My name is ganesh\n",
            "My name is chowdary\n"
          ]
        }
      ]
    },
    {
      "cell_type": "code",
      "source": [
        "# my example\n",
        "class lpu:\n",
        "  def __init__(self,name):\n",
        "    self.name = name\n",
        "\n",
        "# object creation\n",
        "ganesh = lpu(\"ganesh\")\n",
        "\n",
        "\n",
        "print(\"My name is {}\".format(ganesh.name))"
      ],
      "metadata": {
        "colab": {
          "base_uri": "https://localhost:8080/"
        },
        "id": "viabSPtlNg39",
        "outputId": "1e4d62a1-898c-49ee-afd5-1a31685b0ea0"
      },
      "execution_count": 4,
      "outputs": [
        {
          "output_type": "stream",
          "name": "stdout",
          "text": [
            "My name is ganesh\n"
          ]
        }
      ]
    },
    {
      "cell_type": "code",
      "source": [
        "# creating classes and objects with methods\n",
        "# Class attributes are shared by all instances of the class.\n",
        "class Dog:\n",
        "  attr1 = \"mamal\"\n",
        "\n",
        "  def __init__(self,name):\n",
        "    self.name = name\n",
        "\n",
        "  def speak(self):\n",
        "    print(\"My name is {}\".format(self.name))\n",
        "\n",
        "# object instantiation\n",
        "ganesh = Dog(\"ganesh\")\n",
        "chowdary = Dog(\"chowdary\")\n",
        "\n",
        "# accessing class methods\n",
        "ganesh.speak()\n",
        "chowdary.speak()"
      ],
      "metadata": {
        "colab": {
          "base_uri": "https://localhost:8080/"
        },
        "id": "WHjPIKn2PoVa",
        "outputId": "9f1941fd-32c0-4269-cee8-9527cfc438cb"
      },
      "execution_count": 5,
      "outputs": [
        {
          "output_type": "stream",
          "name": "stdout",
          "text": [
            "My name is ganesh\n",
            "My name is chowdary\n"
          ]
        }
      ]
    },
    {
      "cell_type": "markdown",
      "source": [
        "It represents real-world relationships well.\n",
        "\n",
        "It provides the reusability of a code. We don’t have to write the same code again and again. Also, it allows us to add more features to a class without modifying it.\n",
        "\n",
        "It is transitive in nature, which means that if class B inherits from another class A, then all the subclasses of B would automatically inherit from class A."
      ],
      "metadata": {
        "id": "TxEZ-h6jTAqQ"
      }
    },
    {
      "cell_type": "code",
      "source": [
        "# python inheritance\n",
        "#Inheritance is the capability of one class to derive or inherit the properties\n",
        "#from another class.\n",
        "#parent class\n",
        "class person(object):\n",
        "  # __init__ is  known as constructor\n",
        "  def __init__(self,name,idnumber):\n",
        "    self.name = name\n",
        "    self.idnumber = idnumber\n",
        "\n",
        "  def display(self):\n",
        "    print(self.name)\n",
        "    print(self.idnumber)\n",
        "\n",
        "  def details(self):\n",
        "    print(\"Myname is {}\".format(self.name))\n",
        "    print(\"Myname is {}\".format(self.idnumber))\n",
        "\n",
        "# child class\n",
        "class employee(person):\n",
        "  def __init__(self,name,idnumber,salary,post):\n",
        "      self.salary = salary\n",
        "      self.post = post\n",
        "\n",
        "      # invoking the __init__ of the the parent class # why it is used here?\n",
        "      person.__init__(self,name,idnumber)\n",
        "\n",
        "  def details(self):\n",
        "        print(\"My name is {}\".format(self.name))\n",
        "        print(\"IdNumber: {}\".format(self.idnumber))\n",
        "        print(\"Post: {}\".format(self.post))\n",
        "\n",
        "\n",
        "# creation of an object variable or an instance\n",
        "a = employee('Ganesh',12114772,20000,'Intern')\n",
        "\n",
        "#calling a function of the class person using its instance\n",
        "a.display()\n",
        "a.details()"
      ],
      "metadata": {
        "colab": {
          "base_uri": "https://localhost:8080/"
        },
        "id": "iJK5ny9hSlRB",
        "outputId": "75e21687-6b82-4708-d4ca-064eee8ff76d"
      },
      "execution_count": 6,
      "outputs": [
        {
          "output_type": "stream",
          "name": "stdout",
          "text": [
            "Ganesh\n",
            "12114772\n",
            "My name is Ganesh\n",
            "IdNumber: 12114772\n",
            "Post: Intern\n"
          ]
        }
      ]
    },
    {
      "cell_type": "code",
      "source": [
        "# python polymorphism\n",
        "# what is overriding in python?\n",
        "class Bird:\n",
        "\n",
        "  def intro(self):\n",
        "    print(\"There are many types of birds.\")\n",
        "\n",
        "  def flight(self):\n",
        "    print(\"Most of the birds can fly but some cannot.\")\n",
        "\n",
        "class sparrow(Bird):\n",
        "\n",
        "  def flight(self):\n",
        "    print(\"sparrows can fly.\")\n",
        "\n",
        "class ostrich(Bird):\n",
        "\n",
        "  def flight(self):\n",
        "    print(\"ostriches cannot fly.\")\n",
        "\n",
        "# object instantiation\n",
        "obj_bird = Bird()\n",
        "obj_spr = sparrow()\n",
        "obj_ost = ostrich()\n",
        "\n",
        "# accesing the objects by the methods\n",
        "obj_bird.intro()\n",
        "obj_bird.flight()\n",
        "\n",
        "obj_spr.intro()\n",
        "obj_spr.flight()\n",
        "\n",
        "obj_ost.intro()\n",
        "obj_ost.flight()"
      ],
      "metadata": {
        "colab": {
          "base_uri": "https://localhost:8080/"
        },
        "id": "yBOSHmeifP6w",
        "outputId": "e733df56-776b-402f-bf7b-89000cd802e3"
      },
      "execution_count": 7,
      "outputs": [
        {
          "output_type": "stream",
          "name": "stdout",
          "text": [
            "There are many types of birds.\n",
            "Most of the birds can fly but some cannot.\n",
            "There are many types of birds.\n",
            "sparrows can fly.\n",
            "There are many types of birds.\n",
            "ostriches cannot fly.\n"
          ]
        }
      ]
    },
    {
      "cell_type": "markdown",
      "source": [
        "Encapsulation is one of the fundamental concepts in object-oriented programming (OOP).\n",
        "\n",
        "It describes the idea of wrapping data and the methods that work on data within one unit. This puts restrictions on accessing variables and methods directly and can prevent the accidental modification of data.\n",
        "\n",
        "To prevent accidental change, an object’s variable can only be changed by an object’s method. Those types of variables are known as private variables.\n",
        "\n",
        "A class is an example of encapsulation as it encapsulates all the data that is member functions, variables, etc."
      ],
      "metadata": {
        "id": "g4qDsZUVijJt"
      }
    },
    {
      "cell_type": "code",
      "source": [
        "#python encapsulation\n",
        "# \"__\" - represents the private attribute\n",
        "class Base:\n",
        "  def __init__(self):\n",
        "    self.a = \"Ganeshchowdary\"\n",
        "    self.__c = \"Ganeshchowdary\"\n",
        "\n",
        "# creating a derived class\n",
        "class Derived(Base):\n",
        "  def __init__(self):\n",
        "\n",
        "    # calling constructor of the base class\n",
        "    Base.__init__(self)\n",
        "    print(\"Calling private member of the base class:\")\n",
        "    print(self.__c)\n",
        "\n",
        "obj1 = Base()\n",
        "print(obj1.a)\n",
        "\n",
        "#print(obj1.c)\n",
        "\n",
        "#obj2 = Derived()  will\n",
        "# also raise an AtrributeError as\n",
        "# private member of base class\n",
        "# is called inside derived class"
      ],
      "metadata": {
        "colab": {
          "base_uri": "https://localhost:8080/"
        },
        "id": "bwp9IGMGiOBe",
        "outputId": "d54dc338-1ae6-4a69-ebb3-fc9f4c274801"
      },
      "execution_count": 11,
      "outputs": [
        {
          "output_type": "stream",
          "name": "stdout",
          "text": [
            "Ganeshchowdary\n"
          ]
        }
      ]
    },
    {
      "cell_type": "code",
      "source": [],
      "metadata": {
        "id": "Bg6ZX252lyBE"
      },
      "execution_count": null,
      "outputs": []
    }
  ]
}