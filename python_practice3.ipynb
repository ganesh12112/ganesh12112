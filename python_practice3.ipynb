{
  "nbformat": 4,
  "nbformat_minor": 0,
  "metadata": {
    "colab": {
      "provenance": [],
      "authorship_tag": "ABX9TyN1QqmucB1QyzUGJqj3dctT",
      "include_colab_link": true
    },
    "kernelspec": {
      "name": "python3",
      "display_name": "Python 3"
    },
    "language_info": {
      "name": "python"
    }
  },
  "cells": [
    {
      "cell_type": "markdown",
      "metadata": {
        "id": "view-in-github",
        "colab_type": "text"
      },
      "source": [
        "<a href=\"https://colab.research.google.com/github/ganesh12112/ganesh12112/blob/main/python_practice3.ipynb\" target=\"_parent\"><img src=\"https://colab.research.google.com/assets/colab-badge.svg\" alt=\"Open In Colab\"/></a>"
      ]
    },
    {
      "cell_type": "code",
      "execution_count": null,
      "metadata": {
        "colab": {
          "base_uri": "https://localhost:8080/"
        },
        "id": "mDjU-iau6eff",
        "outputId": "69d85ac1-8b56-408a-8f69-58a849b0ba6d"
      },
      "outputs": [
        {
          "output_type": "stream",
          "name": "stdout",
          "text": [
            "Original List: [4, 8, 2, 10, 15, 18]\n",
            "After cloning: [4, 8, 2, 10, 15, 18]\n"
          ]
        }
      ],
      "source": [
        "# cloning or copying a list\n",
        "def cloning(li1):\n",
        "  li_copy = li1[:]\n",
        "  return li_copy\n",
        "\n",
        "# Driver Code\n",
        "li1 = [4,8,2,10,15,18]\n",
        "li2 = cloning(li1)\n",
        "\n",
        "print(\"Original List:\",li1)\n",
        "print(\"After cloning:\",li2)"
      ]
    },
    {
      "cell_type": "code",
      "source": [
        "# using the extend() method\n",
        "def cloning(li1):\n",
        "  li_copy = []\n",
        "  li_copy.extend(li1)\n",
        "  return li_copy\n",
        "\n",
        "li1 = [4,8,2,10,15,18]\n",
        "li2 = cloning(li1)\n",
        "print(\"Original List:\",li1)\n",
        "print(\"After cloning:\",li2)"
      ],
      "metadata": {
        "colab": {
          "base_uri": "https://localhost:8080/"
        },
        "id": "d56VRGiL-iSl",
        "outputId": "49bf924c-d476-46cb-bbd8-40e6fdffdf5d"
      },
      "execution_count": null,
      "outputs": [
        {
          "output_type": "stream",
          "name": "stdout",
          "text": [
            "Original List: [4, 8, 2, 10, 15, 18]\n",
            "After cloning: [4, 8, 2, 10, 15, 18]\n"
          ]
        }
      ]
    },
    {
      "cell_type": "code",
      "source": [
        "#  List copy using =(assignment operator)\n",
        "def cloning(li1):\n",
        "  li_copy = li1\n",
        "  return li_copy\n",
        "#driver code\n",
        "li1 = [4,8,2,10,15,18]\n",
        "li2 = cloning(li1)\n",
        "print(\"Original List:\",li1)\n",
        "print(\"After cloning:\",li2)"
      ],
      "metadata": {
        "colab": {
          "base_uri": "https://localhost:8080/"
        },
        "id": "oo_wj_jup9Ol",
        "outputId": "48a25f10-83ed-4fe2-9150-a8a1371f68b2"
      },
      "execution_count": null,
      "outputs": [
        {
          "output_type": "stream",
          "name": "stdout",
          "text": [
            "Original List: [4, 8, 2, 10, 15, 18]\n",
            "After cloning: [4, 8, 2, 10, 15, 18]\n"
          ]
        }
      ]
    },
    {
      "cell_type": "code",
      "source": [
        "# using method of shallow copy\n",
        "import copy\n",
        "\n",
        "li1 = [1,2,[3,5],4]\n",
        "# using copy for shallow copy\n",
        "li2 = copy.copy(li1)\n",
        "\n",
        "print(li2)"
      ],
      "metadata": {
        "colab": {
          "base_uri": "https://localhost:8080/"
        },
        "id": "nZRVGlymq_kK",
        "outputId": "935e141a-11b0-41ba-a95f-c6509ad13693"
      },
      "execution_count": null,
      "outputs": [
        {
          "output_type": "stream",
          "name": "stdout",
          "text": [
            "[1, 2, [3, 5], 4]\n"
          ]
        }
      ]
    },
    {
      "cell_type": "code",
      "source": [
        "# using list comprehension\n",
        "def cloning(li1):\n",
        "  li_copy = [i for i in li1]\n",
        "  return li_copy\n",
        "# Driver code\n",
        "li1 = [4,8,2,10,15,18]\n",
        "li2 = cloning(li1)\n",
        "print(\"Original List:\",li1)\n",
        "print(\"After cloning:\",li2)"
      ],
      "metadata": {
        "colab": {
          "base_uri": "https://localhost:8080/"
        },
        "id": "uq0MKtsCsAIo",
        "outputId": "214cbcc0-2b2c-42dd-99cd-69cbef94cd55"
      },
      "execution_count": null,
      "outputs": [
        {
          "output_type": "stream",
          "name": "stdout",
          "text": [
            "Original List: [4, 8, 2, 10, 15, 18]\n",
            "After cloning: [4, 8, 2, 10, 15, 18]\n"
          ]
        }
      ]
    },
    {
      "cell_type": "code",
      "source": [
        "# using the append() method\n",
        "def cloning(li1):\n",
        "  li_copy = []\n",
        "  for item in li1: li_copy.append(item)\n",
        "  return li_copy\n",
        "# driver code\n",
        "li1 = [4,8,2,10,15,18]\n",
        "li2 = cloning(li1)\n",
        "print(\"Original List:\",li1)\n",
        "print(\"After cloning:\",li2)"
      ],
      "metadata": {
        "colab": {
          "base_uri": "https://localhost:8080/"
        },
        "id": "bDN6l2Pbs1Ox",
        "outputId": "5419be9f-fe51-453a-cbef-d1a69a267fd9"
      },
      "execution_count": null,
      "outputs": [
        {
          "output_type": "stream",
          "name": "stdout",
          "text": [
            "Original List: [4, 8, 2, 10, 15, 18]\n",
            "After cloning: [4, 8, 2, 10, 15, 18]\n"
          ]
        }
      ]
    },
    {
      "cell_type": "code",
      "source": [
        "# using copy() method\n",
        "def cloning(li1):\n",
        "  li_copy = []\n",
        "  li_copy = li1.copy()\n",
        "  return li_copy\n",
        "\n",
        "li1 = [4,8,2,10,15,18]\n",
        "li2 = cloning(li1)\n",
        "print(\"Original List:\",li1)\n",
        "print(\"After cloning:\",li2)"
      ],
      "metadata": {
        "colab": {
          "base_uri": "https://localhost:8080/"
        },
        "id": "kn7l_-NFttI4",
        "outputId": "c02d0071-3bfa-49f1-e2c0-ddbd78edf295"
      },
      "execution_count": null,
      "outputs": [
        {
          "output_type": "stream",
          "name": "stdout",
          "text": [
            "Original List: [4, 8, 2, 10, 15, 18]\n",
            "After cloning: [4, 8, 2, 10, 15, 18]\n"
          ]
        }
      ]
    },
    {
      "cell_type": "code",
      "source": [
        "# using method of Deep copy\n",
        "import copy\n",
        "\n",
        "li1 = [1,2,[3,5],4]\n",
        "\n",
        "li3 = copy.deepcopy(li1)\n",
        "print(li3)"
      ],
      "metadata": {
        "colab": {
          "base_uri": "https://localhost:8080/"
        },
        "id": "t-8gDpNZucpi",
        "outputId": "e0b91c51-525c-40c4-e034-a6e9d85448e3"
      },
      "execution_count": null,
      "outputs": [
        {
          "output_type": "stream",
          "name": "stdout",
          "text": [
            "[1, 2, [3, 5], 4]\n"
          ]
        }
      ]
    },
    {
      "cell_type": "code",
      "source": [
        "# using enumerate function\n",
        "lst = [4,8,2,10,15,18]\n",
        "li_copy = list(i for a,i in enumerate(lst))\n",
        "print(\"Original List:\",lst)\n",
        "print(\"After cloning:\",li_copy)"
      ],
      "metadata": {
        "colab": {
          "base_uri": "https://localhost:8080/"
        },
        "id": "wztv6geQvVVB",
        "outputId": "7aa84f49-864f-4371-e95d-44ee49ec0de3"
      },
      "execution_count": null,
      "outputs": [
        {
          "output_type": "stream",
          "name": "stdout",
          "text": [
            "Original List: [4, 8, 2, 10, 15, 18]\n",
            "After cloning: [4, 8, 2, 10, 15, 18]\n"
          ]
        }
      ]
    },
    {
      "cell_type": "code",
      "source": [
        "# using the map()\n",
        "lst = [4,8,2,10,15,18]\n",
        "li_copy = map(int,lst)\n",
        "print(\"Original List:\",lst)\n",
        "print(\"After cloning:\",*li_copy)"
      ],
      "metadata": {
        "colab": {
          "base_uri": "https://localhost:8080/"
        },
        "id": "7vNMBWwCwErp",
        "outputId": "9e9fbe44-abb7-41f3-bb3c-124ab753f7e8"
      },
      "execution_count": null,
      "outputs": [
        {
          "output_type": "stream",
          "name": "stdout",
          "text": [
            "Original List: [4, 8, 2, 10, 15, 18]\n",
            "After cloning: 4 8 2 10 15 18\n"
          ]
        }
      ]
    },
    {
      "cell_type": "code",
      "source": [
        "# use slice() function\n",
        "lst = [4,8,2,10,15,18]\n",
        "li_copy = lst[slice(len(lst))]\n",
        "print(\"Original List:\",lst)\n",
        "print(\"After cloning:\",li_copy)"
      ],
      "metadata": {
        "colab": {
          "base_uri": "https://localhost:8080/"
        },
        "id": "a84ZabKMyMT6",
        "outputId": "9d4bef3a-8c38-4f58-9160-05b77c381af5"
      },
      "execution_count": null,
      "outputs": [
        {
          "output_type": "stream",
          "name": "stdout",
          "text": [
            "Original List: [4, 8, 2, 10, 15, 18]\n",
            "After cloning: [4, 8, 2, 10, 15, 18]\n"
          ]
        }
      ]
    },
    {
      "cell_type": "code",
      "source": [
        "# using the deque() function\n",
        "from collections import deque\n",
        "org_lst = [4,8,2,10,15,18]\n",
        "\n",
        "copied_lst = deque(org_lst) # deque object\n",
        "copied_lst = list(copied_lst)\n",
        "\n",
        "print(\"Original List:\",org_lst)\n",
        "print(\"After cloning:\",copied_lst)"
      ],
      "metadata": {
        "colab": {
          "base_uri": "https://localhost:8080/"
        },
        "id": "RSKu2xzRy306",
        "outputId": "dad15374-59b1-4192-9d20-6ff63967bb9b"
      },
      "execution_count": null,
      "outputs": [
        {
          "output_type": "stream",
          "name": "stdout",
          "text": [
            "Original List: [4, 8, 2, 10, 15, 18]\n",
            "After cloning: [4, 8, 2, 10, 15, 18]\n"
          ]
        }
      ]
    },
    {
      "cell_type": "code",
      "source": [
        "#  using reduce method():  #***********revise******************\n",
        "from functools import reduce\n",
        "def clone_list(li1):\n",
        "    return reduce(lambda x,y:x+[y],li1,[])\n",
        "\n",
        "li1 = [4,8,2,10,15,18]\n",
        "li2 = clone_list(li1)\n",
        "print(\"Original List:\",li1)\n",
        "print(\"After cloning:\",li2)"
      ],
      "metadata": {
        "colab": {
          "base_uri": "https://localhost:8080/"
        },
        "id": "AQO1Pqwi0u5Q",
        "outputId": "75f7637f-3455-47a1-b17a-6b805009c048"
      },
      "execution_count": null,
      "outputs": [
        {
          "output_type": "stream",
          "name": "stdout",
          "text": [
            "Original List: [4, 8, 2, 10, 15, 18]\n",
            "After cloning: [4, 8, 2, 10, 15, 18]\n"
          ]
        }
      ]
    },
    {
      "cell_type": "code",
      "source": [
        "# Sort the values of first list using second list in python\n",
        "def sort_list(lst1,lst2):\n",
        "  zipped_pairs = zip(lst2,lst1)\n",
        "  z = [x for _,x in sorted(zipped_pairs)]\n",
        "  return z\n",
        "\n",
        "x = [\"a\",\"b\",\"c\",\"d\",\"e\",\"f\",\"g\",\"h\",\"i\"]\n",
        "y = [0,   1,   1,  0,  1,  2,  0,  2,  1]\n",
        "print(sort_list(x,y))\n",
        "\n",
        "x = [\"g\", \"e\", \"e\", \"k\", \"s\", \"f\", \"o\", \"r\", \"g\", \"e\", \"e\", \"k\", \"s\"]\n",
        "y = [0,   1,   1,    0,   1,   2,   2,   0,   1]\n",
        "\n",
        "print(sort_list(x,y))"
      ],
      "metadata": {
        "colab": {
          "base_uri": "https://localhost:8080/"
        },
        "id": "Lbcvcjl43EsJ",
        "outputId": "c08f93f5-7334-4eef-bd4b-098f1a656dfb"
      },
      "execution_count": null,
      "outputs": [
        {
          "output_type": "stream",
          "name": "stdout",
          "text": [
            "['a', 'd', 'g', 'b', 'c', 'e', 'i', 'f', 'h']\n",
            "['g', 'k', 'r', 'e', 'e', 'g', 's', 'f', 'o']\n"
          ]
        }
      ]
    },
    {
      "cell_type": "code",
      "source": [
        "# By using dictionary,list comprehension ,lambda function\n",
        "def sorting_of_element(lst1,lst2):\n",
        "  f_1 = {} # intializing empty dictionary\n",
        "\n",
        "  final_list =[]  # intializing empty list\n",
        "  # addition of two lists in one dictionary\n",
        "  f_1 ={lst1[i]:lst2[i] for i in range(len(lst2))}\n",
        "\n",
        "  # sorting of dictionary based on value\n",
        "  f_lst = {k: v for k,v in sorted(f_1.items(),key=lambda item:item[1])}\n",
        "\n",
        "  # element addition in the list\n",
        "  for i in f_lst.keys():\n",
        "    final_list.append(i)\n",
        "  return final_list\n",
        "\n",
        "lst1 = [\"a\", \"b\", \"c\", \"d\", \"e\", \"f\", \"g\", \"h\", \"i\"]\n",
        "lst2 = [0,   1,   1,    0,   1,   2,   2,   0,   1]\n",
        "\n",
        "lst3 = sorting_of_element(lst1,lst2)\n",
        "print(lst3)"
      ],
      "metadata": {
        "colab": {
          "base_uri": "https://localhost:8080/"
        },
        "id": "pWz-fylb7l-X",
        "outputId": "0a7871c1-525c-486b-9ed8-87ab91ad79a6"
      },
      "execution_count": null,
      "outputs": [
        {
          "output_type": "stream",
          "name": "stdout",
          "text": [
            "['a', 'd', 'h', 'b', 'c', 'e', 'i', 'f', 'g']\n"
          ]
        }
      ]
    },
    {
      "cell_type": "code",
      "source": [
        "# using sort(),list() and set()\n",
        "lst1 = [\"a\", \"b\", \"c\", \"d\", \"e\", \"f\", \"g\", \"h\", \"i\"]\n",
        "lst2 = [0,   1,   1,    0,   1,   2,   2,   0,   1]\n",
        "\n",
        "a = list(set(lst2))\n",
        "a.sort()\n",
        "res = []\n",
        "for i in a:\n",
        "  for j in range(0,len(lst2)):\n",
        "    if lst2[j] == i:\n",
        "      res.append(lst1[j])\n",
        "print(res)"
      ],
      "metadata": {
        "colab": {
          "base_uri": "https://localhost:8080/"
        },
        "id": "Ee3WZghc2Qpw",
        "outputId": "1321f68d-b48f-4b6a-b526-4304f9c098f6"
      },
      "execution_count": null,
      "outputs": [
        {
          "output_type": "stream",
          "name": "stdout",
          "text": [
            "['a', 'd', 'h', 'b', 'c', 'e', 'i', 'f', 'g']\n"
          ]
        }
      ]
    },
    {
      "cell_type": "code",
      "source": [
        "# using collections.OrderedDict()\n",
        "from collections import OrderedDict\n",
        "lst1 = [\"a\", \"b\", \"c\", \"d\", \"e\", \"f\", \"g\", \"h\", \"i\"]\n",
        "lst2 = [0,   1,   1,    0,   1,   2,   2,   0,   1]\n",
        "d = OrderedDict(zip(lst1,lst2))\n",
        "res = lst(OrderedDict(sorted(d.items(),key=lambda x: x[1])))\n",
        "print(res)"
      ],
      "metadata": {
        "id": "OjG9UMLW31mW"
      },
      "execution_count": null,
      "outputs": []
    },
    {
      "cell_type": "code",
      "source": [
        "# using the numpy.argsort() function with fancy indexing\n",
        "import numpy as np\n",
        "\n",
        "def sort_list(lst1,lst2):\n",
        "# use the numpy's argsort function to get the indices that would sort the second list\n",
        "    idx = np.argsort(lst2)\n",
        "# Index  the first lst using the sorted indices and return the result as numpy array\n",
        "    return  np.array(lst1)[idx]\n",
        "\n",
        "x = [\"a\", \"b\", \"c\", \"d\", \"e\", \"f\", \"g\", \"h\", \"i\"]  # why it was taking other than arguments passed as correct?\n",
        "y = [0,   1,   1,    0,   1,   2,   2,   0,  1]\n",
        "\n",
        "print(sort_list(x,y))"
      ],
      "metadata": {
        "colab": {
          "base_uri": "https://localhost:8080/"
        },
        "id": "lg18QN916YS4",
        "outputId": "4e0526ad-ca26-4dc5-ff97-dfd0e978d3d9"
      },
      "execution_count": null,
      "outputs": [
        {
          "output_type": "stream",
          "name": "stdout",
          "text": [
            "['a' 'd' 'h' 'b' 'c' 'e' 'f' 'g']\n"
          ]
        }
      ]
    },
    {
      "cell_type": "code",
      "source": [
        "# list comprehension\n",
        "n = [1,2,3,4,5]\n",
        "squared = [x**2 for x in n]\n",
        "print(squared)"
      ],
      "metadata": {
        "colab": {
          "base_uri": "https://localhost:8080/"
        },
        "id": "7OE3opxzB0Cj",
        "outputId": "0e61f0f9-144a-4e98-cfae-c57f1a12d15e"
      },
      "execution_count": null,
      "outputs": [
        {
          "output_type": "stream",
          "name": "stdout",
          "text": [
            "[1, 4, 9, 16, 25]\n"
          ]
        }
      ]
    },
    {
      "cell_type": "code",
      "source": [
        "# iterate through loop\n",
        "list = [character for character in [1,2,3]]\n",
        "print(list)"
      ],
      "metadata": {
        "colab": {
          "base_uri": "https://localhost:8080/"
        },
        "id": "mjLdTOYCDxOt",
        "outputId": "ecac2fb8-a43d-4105-fec2-64d191b7c751"
      },
      "execution_count": null,
      "outputs": [
        {
          "output_type": "stream",
          "name": "stdout",
          "text": [
            "[1, 2, 3]\n"
          ]
        }
      ]
    },
    {
      "cell_type": "code",
      "source": [
        "# even list using comprehension\n",
        "lst = [i for i in range(11) if i % 2 == 0]\n",
        "print(lst)"
      ],
      "metadata": {
        "colab": {
          "base_uri": "https://localhost:8080/"
        },
        "id": "3lw9wIpEERzW",
        "outputId": "b3e2447c-88ce-4f86-bbc0-2b48972383b7"
      },
      "execution_count": null,
      "outputs": [
        {
          "output_type": "stream",
          "name": "stdout",
          "text": [
            "[0, 2, 4, 6, 8, 10]\n"
          ]
        }
      ]
    },
    {
      "cell_type": "code",
      "source": [
        "# matrix using list comprehension\n",
        "matrix = [[j for j in range(3)] for i in range(3)]\n",
        "print(matrix)"
      ],
      "metadata": {
        "colab": {
          "base_uri": "https://localhost:8080/"
        },
        "id": "lPYwrPP5ErbY",
        "outputId": "4cfa315a-859b-40f3-9c24-17446403463e"
      },
      "execution_count": null,
      "outputs": [
        {
          "output_type": "stream",
          "name": "stdout",
          "text": [
            "[[0, 1, 2], [0, 1, 2], [0, 1, 2]]\n"
          ]
        }
      ]
    },
    {
      "cell_type": "code",
      "source": [
        "# list comprehension vs For loop\n",
        "lst = []\n",
        "for character in 'Ganesh chowdary!':\n",
        "   lst.append(character)\n",
        "\n",
        "print(lst)"
      ],
      "metadata": {
        "colab": {
          "base_uri": "https://localhost:8080/"
        },
        "id": "lAuJJBCAGAE_",
        "outputId": "9b2e5cf6-480e-4c13-dac7-a96e7732ea0d"
      },
      "execution_count": null,
      "outputs": [
        {
          "output_type": "stream",
          "name": "stdout",
          "text": [
            "['G', 'a', 'n', 'e', 's', 'h', ' ', 'c', 'h', 'o', 'w', 'd', 'a', 'r', 'y', '!']\n"
          ]
        }
      ]
    },
    {
      "cell_type": "code",
      "source": [
        "# time analysis in list comprehensions and loop   ***** REvise******\n",
        "import time\n",
        "\n",
        "def for_loop(n):\n",
        "  result = []\n",
        "  for i in range(n):\n",
        "    result.append(i**2)\n",
        "  return result\n",
        "\n",
        "def list_comprehension(n):\n",
        "  return [i**2 for i in range(n)]\n",
        "\n",
        "# calculate time taken by for_loop()\n",
        "begin = time.time()\n",
        "for_loop(10**6)\n",
        "end = time.time()\n",
        "\n",
        "# display time taken by for_loop()\n",
        "print('Time taken for_loop:',round(end-begin,2))\n",
        "\n",
        "# calculate time taken by list_comprehension()\n",
        "begin = time.time()\n",
        "list_comprehension(10**6)\n",
        "end = time.time()\n",
        "\n",
        "# display time taken by for_loop()\n",
        "print('Time taken for list_comprehension:',round(end-begin,2))"
      ],
      "metadata": {
        "colab": {
          "base_uri": "https://localhost:8080/"
        },
        "id": "V53NhxWXG_sB",
        "outputId": "8bab8541-6855-4f9a-fc27-fc61806715e6"
      },
      "execution_count": null,
      "outputs": [
        {
          "output_type": "stream",
          "name": "stdout",
          "text": [
            "Time taken for_loop: 0.67\n",
            "Time taken for list_comprehension: 0.57\n"
          ]
        }
      ]
    },
    {
      "cell_type": "code",
      "source": [
        "# Nested list comprehensions\n",
        "matrix = []\n",
        "for i in range(3):\n",
        "  # append an empty sublist inside the list\n",
        "  matrix.append([])\n",
        "\n",
        "  for j in range(5):\n",
        "    matrix[i].append(j)\n",
        "print(matrix)"
      ],
      "metadata": {
        "colab": {
          "base_uri": "https://localhost:8080/"
        },
        "id": "OPNCO7zlPvsi",
        "outputId": "265d32e1-fed4-49f7-a043-6856a60372e6"
      },
      "execution_count": null,
      "outputs": [
        {
          "output_type": "stream",
          "name": "stdout",
          "text": [
            "[[0, 1, 2, 3, 4], [0, 1, 2, 3, 4], [0, 1, 2, 3, 4]]\n"
          ]
        }
      ]
    },
    {
      "cell_type": "code",
      "source": [
        "# nested list comprehensions ,\n",
        "matrix = [[j for j in range(5)] for i in range(3)]\n",
        "print(matrix)"
      ],
      "metadata": {
        "colab": {
          "base_uri": "https://localhost:8080/"
        },
        "id": "k5qoWYdGQlUK",
        "outputId": "49b6b83d-bd35-4490-ddc2-0f54e0cb8676"
      },
      "execution_count": null,
      "outputs": [
        {
          "output_type": "stream",
          "name": "stdout",
          "text": [
            "[[0, 1, 2, 3, 4], [0, 1, 2, 3, 4], [0, 1, 2, 3, 4]]\n"
          ]
        }
      ]
    },
    {
      "cell_type": "code",
      "source": [
        "# LIST comprehension and lambda\n",
        "numbers = []\n",
        "for i in range(1,6):\n",
        "  numbers.append(i*10)\n",
        "print(numbers)"
      ],
      "metadata": {
        "colab": {
          "base_uri": "https://localhost:8080/"
        },
        "id": "d3_SDF6QRWDW",
        "outputId": "04d7984d-403a-44c7-c01b-14c4516a3961"
      },
      "execution_count": null,
      "outputs": [
        {
          "output_type": "stream",
          "name": "stdout",
          "text": [
            "[10, 20, 30, 40, 50]\n"
          ]
        }
      ]
    },
    {
      "cell_type": "code",
      "source": [
        "#list comprehension\n",
        "numbers = [i*10 for i in range(1,6)]\n",
        "print(numbers)"
      ],
      "metadata": {
        "colab": {
          "base_uri": "https://localhost:8080/"
        },
        "id": "aGPoQm0aR3CU",
        "outputId": "a4d0f828-8319-4434-b84a-31dc07b6f52a"
      },
      "execution_count": null,
      "outputs": [
        {
          "output_type": "stream",
          "name": "stdout",
          "text": [
            "[10, 20, 30, 40, 50]\n"
          ]
        }
      ]
    },
    {
      "cell_type": "code",
      "source": [
        "# using lambda()\n",
        "numbers = list(map(lambda i: i*10,[i for i in range(1,6)]))\n",
        "print(numbers)"
      ],
      "metadata": {
        "colab": {
          "base_uri": "https://localhost:8080/"
        },
        "id": "NreLx-fdSIfN",
        "outputId": "e9cfd516-fce2-4cea-955b-bd5b3d3a7be3"
      },
      "execution_count": 3,
      "outputs": [
        {
          "output_type": "stream",
          "name": "stdout",
          "text": [
            "[10, 20, 30, 40, 50]\n"
          ]
        }
      ]
    },
    {
      "cell_type": "code",
      "source": [
        "# conditionals in List comprehension\n",
        "# python List comprehension using if-else\n",
        "lis = [\"even number\" if i%2 == 0\n",
        "       else \"odd number\" for i in range(8)]\n",
        "print(lis)"
      ],
      "metadata": {
        "id": "ob_ozYOvTeqT",
        "colab": {
          "base_uri": "https://localhost:8080/"
        },
        "outputId": "a0417828-16bf-4df4-9e32-5dc384fcd2d4"
      },
      "execution_count": 4,
      "outputs": [
        {
          "output_type": "stream",
          "name": "stdout",
          "text": [
            "['even number', 'odd number', 'even number', 'odd number', 'even number', 'odd number', 'even number', 'odd number']\n"
          ]
        }
      ]
    },
    {
      "cell_type": "code",
      "source": [
        "# nested IF with List Comprehension\n",
        "lis = [num for num in range(100)\n",
        "         if num%5 == 0 if num%10 == 0]\n",
        "print(lis)       # why it is giving 0 ????????????? o is itself a multiple of every number\n",
        "# what is difference between not defined and infinity?"
      ],
      "metadata": {
        "colab": {
          "base_uri": "https://localhost:8080/"
        },
        "id": "D2HuBeBavPlR",
        "outputId": "41c0a6cd-7f0b-4f62-d3e3-97840b24258e"
      },
      "execution_count": 5,
      "outputs": [
        {
          "output_type": "stream",
          "name": "stdout",
          "text": [
            "[0, 10, 20, 30, 40, 50, 60, 70, 80, 90]\n"
          ]
        }
      ]
    },
    {
      "cell_type": "code",
      "source": [
        "# square of numbers\n",
        "li = [n**2 for n in range(1,11)]\n",
        "\n",
        "print(li)"
      ],
      "metadata": {
        "colab": {
          "base_uri": "https://localhost:8080/"
        },
        "id": "1J-SFZG4yNoL",
        "outputId": "1b68bb04-11fb-41b9-f575-6b35c18d6f08"
      },
      "execution_count": 7,
      "outputs": [
        {
          "output_type": "stream",
          "name": "stdout",
          "text": [
            "[1, 4, 9, 16, 25, 36, 49, 64, 81, 100]\n"
          ]
        }
      ]
    },
    {
      "cell_type": "code",
      "source": [
        "# display transpore of 2D - Matrix\n"
      ],
      "metadata": {
        "id": "dAQ-wMpAyuR1"
      },
      "execution_count": null,
      "outputs": []
    }
  ]
}