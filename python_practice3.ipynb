{
  "nbformat": 4,
  "nbformat_minor": 0,
  "metadata": {
    "colab": {
      "provenance": [],
      "authorship_tag": "ABX9TyPvUQiWaQ37WsJw1Wi2g/H2",
      "include_colab_link": true
    },
    "kernelspec": {
      "name": "python3",
      "display_name": "Python 3"
    },
    "language_info": {
      "name": "python"
    }
  },
  "cells": [
    {
      "cell_type": "markdown",
      "metadata": {
        "id": "view-in-github",
        "colab_type": "text"
      },
      "source": [
        "<a href=\"https://colab.research.google.com/github/ganesh12112/ganesh12112/blob/main/python_practice3.ipynb\" target=\"_parent\"><img src=\"https://colab.research.google.com/assets/colab-badge.svg\" alt=\"Open In Colab\"/></a>"
      ]
    },
    {
      "cell_type": "code",
      "execution_count": null,
      "metadata": {
        "colab": {
          "base_uri": "https://localhost:8080/"
        },
        "id": "mDjU-iau6eff",
        "outputId": "69d85ac1-8b56-408a-8f69-58a849b0ba6d"
      },
      "outputs": [
        {
          "output_type": "stream",
          "name": "stdout",
          "text": [
            "Original List: [4, 8, 2, 10, 15, 18]\n",
            "After cloning: [4, 8, 2, 10, 15, 18]\n"
          ]
        }
      ],
      "source": [
        "# cloning or copying a list\n",
        "def cloning(li1):\n",
        "  li_copy = li1[:]\n",
        "  return li_copy\n",
        "\n",
        "# Driver Code\n",
        "li1 = [4,8,2,10,15,18]\n",
        "li2 = cloning(li1)\n",
        "\n",
        "print(\"Original List:\",li1)\n",
        "print(\"After cloning:\",li2)"
      ]
    },
    {
      "cell_type": "code",
      "source": [
        "# using the extend() method\n",
        "def cloning(li1):\n",
        "  li_copy = []\n",
        "  li_copy.extend(li1)\n",
        "  return li_copy\n",
        "\n",
        "li1 = [4,8,2,10,15,18]\n",
        "li2 = cloning(li1)\n",
        "print(\"Original List:\",li1)\n",
        "print(\"After cloning:\",li2)"
      ],
      "metadata": {
        "colab": {
          "base_uri": "https://localhost:8080/"
        },
        "id": "d56VRGiL-iSl",
        "outputId": "49bf924c-d476-46cb-bbd8-40e6fdffdf5d"
      },
      "execution_count": null,
      "outputs": [
        {
          "output_type": "stream",
          "name": "stdout",
          "text": [
            "Original List: [4, 8, 2, 10, 15, 18]\n",
            "After cloning: [4, 8, 2, 10, 15, 18]\n"
          ]
        }
      ]
    },
    {
      "cell_type": "code",
      "source": [
        "#  List copy using =(assignment operator)\n",
        "def cloning(li1):\n",
        "  li_copy = li1\n",
        "  return li_copy\n",
        "#driver code\n",
        "li1 = [4,8,2,10,15,18]\n",
        "li2 = cloning(li1)\n",
        "print(\"Original List:\",li1)\n",
        "print(\"After cloning:\",li2)"
      ],
      "metadata": {
        "colab": {
          "base_uri": "https://localhost:8080/"
        },
        "id": "oo_wj_jup9Ol",
        "outputId": "48a25f10-83ed-4fe2-9150-a8a1371f68b2"
      },
      "execution_count": null,
      "outputs": [
        {
          "output_type": "stream",
          "name": "stdout",
          "text": [
            "Original List: [4, 8, 2, 10, 15, 18]\n",
            "After cloning: [4, 8, 2, 10, 15, 18]\n"
          ]
        }
      ]
    },
    {
      "cell_type": "code",
      "source": [
        "# using method of shallow copy\n",
        "import copy\n",
        "\n",
        "li1 = [1,2,[3,5],4]\n",
        "# using copy for shallow copy\n",
        "li2 = copy.copy(li1)\n",
        "\n",
        "print(li2)"
      ],
      "metadata": {
        "colab": {
          "base_uri": "https://localhost:8080/"
        },
        "id": "nZRVGlymq_kK",
        "outputId": "935e141a-11b0-41ba-a95f-c6509ad13693"
      },
      "execution_count": null,
      "outputs": [
        {
          "output_type": "stream",
          "name": "stdout",
          "text": [
            "[1, 2, [3, 5], 4]\n"
          ]
        }
      ]
    },
    {
      "cell_type": "code",
      "source": [
        "# using list comprehension\n",
        "def cloning(li1):\n",
        "  li_copy = [i for i in li1]\n",
        "  return li_copy\n",
        "# Driver code\n",
        "li1 = [4,8,2,10,15,18]\n",
        "li2 = cloning(li1)\n",
        "print(\"Original List:\",li1)\n",
        "print(\"After cloning:\",li2)"
      ],
      "metadata": {
        "colab": {
          "base_uri": "https://localhost:8080/"
        },
        "id": "uq0MKtsCsAIo",
        "outputId": "214cbcc0-2b2c-42dd-99cd-69cbef94cd55"
      },
      "execution_count": null,
      "outputs": [
        {
          "output_type": "stream",
          "name": "stdout",
          "text": [
            "Original List: [4, 8, 2, 10, 15, 18]\n",
            "After cloning: [4, 8, 2, 10, 15, 18]\n"
          ]
        }
      ]
    },
    {
      "cell_type": "code",
      "source": [
        "# using the append() method\n",
        "def cloning(li1):\n",
        "  li_copy = []\n",
        "  for item in li1: li_copy.append(item)\n",
        "  return li_copy\n",
        "# driver code\n",
        "li1 = [4,8,2,10,15,18]\n",
        "li2 = cloning(li1)\n",
        "print(\"Original List:\",li1)\n",
        "print(\"After cloning:\",li2)"
      ],
      "metadata": {
        "colab": {
          "base_uri": "https://localhost:8080/"
        },
        "id": "bDN6l2Pbs1Ox",
        "outputId": "5419be9f-fe51-453a-cbef-d1a69a267fd9"
      },
      "execution_count": null,
      "outputs": [
        {
          "output_type": "stream",
          "name": "stdout",
          "text": [
            "Original List: [4, 8, 2, 10, 15, 18]\n",
            "After cloning: [4, 8, 2, 10, 15, 18]\n"
          ]
        }
      ]
    },
    {
      "cell_type": "code",
      "source": [
        "# using copy() method\n",
        "def cloning(li1):\n",
        "  li_copy = []\n",
        "  li_copy = li1.copy()\n",
        "  return li_copy\n",
        "\n",
        "li1 = [4,8,2,10,15,18]\n",
        "li2 = cloning(li1)\n",
        "print(\"Original List:\",li1)\n",
        "print(\"After cloning:\",li2)"
      ],
      "metadata": {
        "colab": {
          "base_uri": "https://localhost:8080/"
        },
        "id": "kn7l_-NFttI4",
        "outputId": "c02d0071-3bfa-49f1-e2c0-ddbd78edf295"
      },
      "execution_count": null,
      "outputs": [
        {
          "output_type": "stream",
          "name": "stdout",
          "text": [
            "Original List: [4, 8, 2, 10, 15, 18]\n",
            "After cloning: [4, 8, 2, 10, 15, 18]\n"
          ]
        }
      ]
    },
    {
      "cell_type": "code",
      "source": [
        "# using method of Deep copy\n",
        "import copy\n",
        "\n",
        "li1 = [1,2,[3,5],4]\n",
        "\n",
        "li3 = copy.deepcopy(li1)\n",
        "print(li3)"
      ],
      "metadata": {
        "colab": {
          "base_uri": "https://localhost:8080/"
        },
        "id": "t-8gDpNZucpi",
        "outputId": "e0b91c51-525c-40c4-e034-a6e9d85448e3"
      },
      "execution_count": null,
      "outputs": [
        {
          "output_type": "stream",
          "name": "stdout",
          "text": [
            "[1, 2, [3, 5], 4]\n"
          ]
        }
      ]
    },
    {
      "cell_type": "code",
      "source": [
        "# using enumerate function\n",
        "lst = [4,8,2,10,15,18]\n",
        "li_copy = list(i for a,i in enumerate(lst))\n",
        "print(\"Original List:\",lst)\n",
        "print(\"After cloning:\",li_copy)"
      ],
      "metadata": {
        "colab": {
          "base_uri": "https://localhost:8080/"
        },
        "id": "wztv6geQvVVB",
        "outputId": "7aa84f49-864f-4371-e95d-44ee49ec0de3"
      },
      "execution_count": null,
      "outputs": [
        {
          "output_type": "stream",
          "name": "stdout",
          "text": [
            "Original List: [4, 8, 2, 10, 15, 18]\n",
            "After cloning: [4, 8, 2, 10, 15, 18]\n"
          ]
        }
      ]
    },
    {
      "cell_type": "code",
      "source": [
        "# using the map()\n",
        "lst = [4,8,2,10,15,18]\n",
        "li_copy = map(int,lst)\n",
        "print(\"Original List:\",lst)\n",
        "print(\"After cloning:\",*li_copy)"
      ],
      "metadata": {
        "colab": {
          "base_uri": "https://localhost:8080/"
        },
        "id": "7vNMBWwCwErp",
        "outputId": "9e9fbe44-abb7-41f3-bb3c-124ab753f7e8"
      },
      "execution_count": null,
      "outputs": [
        {
          "output_type": "stream",
          "name": "stdout",
          "text": [
            "Original List: [4, 8, 2, 10, 15, 18]\n",
            "After cloning: 4 8 2 10 15 18\n"
          ]
        }
      ]
    },
    {
      "cell_type": "code",
      "source": [
        "# use slice() function\n",
        "lst = [4,8,2,10,15,18]\n",
        "li_copy = lst[slice(len(lst))]\n",
        "print(\"Original List:\",lst)\n",
        "print(\"After cloning:\",li_copy)"
      ],
      "metadata": {
        "colab": {
          "base_uri": "https://localhost:8080/"
        },
        "id": "a84ZabKMyMT6",
        "outputId": "9d4bef3a-8c38-4f58-9160-05b77c381af5"
      },
      "execution_count": null,
      "outputs": [
        {
          "output_type": "stream",
          "name": "stdout",
          "text": [
            "Original List: [4, 8, 2, 10, 15, 18]\n",
            "After cloning: [4, 8, 2, 10, 15, 18]\n"
          ]
        }
      ]
    },
    {
      "cell_type": "code",
      "source": [
        "# using the deque() function\n",
        "from collections import deque\n",
        "org_lst = [4,8,2,10,15,18]\n",
        "\n",
        "copied_lst = deque(org_lst) # deque object\n",
        "copied_lst = list(copied_lst)\n",
        "\n",
        "print(\"Original List:\",org_lst)\n",
        "print(\"After cloning:\",copied_lst)"
      ],
      "metadata": {
        "colab": {
          "base_uri": "https://localhost:8080/"
        },
        "id": "RSKu2xzRy306",
        "outputId": "dad15374-59b1-4192-9d20-6ff63967bb9b"
      },
      "execution_count": null,
      "outputs": [
        {
          "output_type": "stream",
          "name": "stdout",
          "text": [
            "Original List: [4, 8, 2, 10, 15, 18]\n",
            "After cloning: [4, 8, 2, 10, 15, 18]\n"
          ]
        }
      ]
    },
    {
      "cell_type": "code",
      "source": [
        "#  using reduce method():  #***********revise******************\n",
        "from functools import reduce\n",
        "def clone_list(li1):\n",
        "    return reduce(lambda x,y:x+[y],li1,[])\n",
        "\n",
        "li1 = [4,8,2,10,15,18]\n",
        "li2 = clone_list(li1)\n",
        "print(\"Original List:\",li1)\n",
        "print(\"After cloning:\",li2)"
      ],
      "metadata": {
        "colab": {
          "base_uri": "https://localhost:8080/"
        },
        "id": "AQO1Pqwi0u5Q",
        "outputId": "75f7637f-3455-47a1-b17a-6b805009c048"
      },
      "execution_count": null,
      "outputs": [
        {
          "output_type": "stream",
          "name": "stdout",
          "text": [
            "Original List: [4, 8, 2, 10, 15, 18]\n",
            "After cloning: [4, 8, 2, 10, 15, 18]\n"
          ]
        }
      ]
    },
    {
      "cell_type": "code",
      "source": [
        "# Sort the values of first list using second list in python\n",
        "def sort_list(lst1,lst2):\n",
        "  zipped_pairs = zip(lst2,lst1)\n",
        "  z = [x for _,x in sorted(zipped_pairs)]\n",
        "  return z\n",
        "\n",
        "x = [\"a\",\"b\",\"c\",\"d\",\"e\",\"f\",\"g\",\"h\",\"i\"]\n",
        "y = [0,   1,   1,  0,  1,  2,  0,  2,  1]\n",
        "print(sort_list(x,y))\n",
        "\n",
        "x = [\"g\", \"e\", \"e\", \"k\", \"s\", \"f\", \"o\", \"r\", \"g\", \"e\", \"e\", \"k\", \"s\"]\n",
        "y = [0,   1,   1,    0,   1,   2,   2,   0,   1]\n",
        "\n",
        "print(sort_list(x,y))"
      ],
      "metadata": {
        "colab": {
          "base_uri": "https://localhost:8080/"
        },
        "id": "Lbcvcjl43EsJ",
        "outputId": "c08f93f5-7334-4eef-bd4b-098f1a656dfb"
      },
      "execution_count": null,
      "outputs": [
        {
          "output_type": "stream",
          "name": "stdout",
          "text": [
            "['a', 'd', 'g', 'b', 'c', 'e', 'i', 'f', 'h']\n",
            "['g', 'k', 'r', 'e', 'e', 'g', 's', 'f', 'o']\n"
          ]
        }
      ]
    },
    {
      "cell_type": "code",
      "source": [
        "# By using dictionary,list comprehension ,lambda function\n",
        "def sorting_of_element(lst1,lst2):\n",
        "  f_1 = {} # intializing empty dictionary\n",
        "\n",
        "  final_list =[]  # intializing empty list\n",
        "  # addition of two lists in one dictionary\n",
        "  f_1 ={lst1[i]:lst2[i] for i in range(len(lst2))}\n",
        "\n",
        "  # sorting of dictionary based on value\n",
        "  f_lst = {k: v for k,v in sorted(f_1.items(),key=lambda item:item[1])}\n",
        "\n",
        "  # element addition in the list\n",
        "  for i in f_lst.keys():\n",
        "    final_list.append(i)\n",
        "  return final_list\n",
        "\n",
        "lst1 = [\"a\", \"b\", \"c\", \"d\", \"e\", \"f\", \"g\", \"h\", \"i\"]\n",
        "lst2 = [0,   1,   1,    0,   1,   2,   2,   0,   1]\n",
        "\n",
        "lst3 = sorting_of_element(lst1,lst2)\n",
        "print(lst3)"
      ],
      "metadata": {
        "colab": {
          "base_uri": "https://localhost:8080/"
        },
        "id": "pWz-fylb7l-X",
        "outputId": "0a7871c1-525c-486b-9ed8-87ab91ad79a6"
      },
      "execution_count": null,
      "outputs": [
        {
          "output_type": "stream",
          "name": "stdout",
          "text": [
            "['a', 'd', 'h', 'b', 'c', 'e', 'i', 'f', 'g']\n"
          ]
        }
      ]
    },
    {
      "cell_type": "code",
      "source": [
        "# using sort(),list() and set()\n",
        "lst1 = [\"a\", \"b\", \"c\", \"d\", \"e\", \"f\", \"g\", \"h\", \"i\"]\n",
        "lst2 = [0,   1,   1,    0,   1,   2,   2,   0,   1]\n",
        "\n",
        "a = list(set(lst2))\n",
        "a.sort()\n",
        "res = []\n",
        "for i in a:\n",
        "  for j in range(0,len(lst2)):\n",
        "    if lst2[j] == i:\n",
        "      res.append(lst1[j])\n",
        "print(res)"
      ],
      "metadata": {
        "colab": {
          "base_uri": "https://localhost:8080/"
        },
        "id": "Ee3WZghc2Qpw",
        "outputId": "1321f68d-b48f-4b6a-b526-4304f9c098f6"
      },
      "execution_count": null,
      "outputs": [
        {
          "output_type": "stream",
          "name": "stdout",
          "text": [
            "['a', 'd', 'h', 'b', 'c', 'e', 'i', 'f', 'g']\n"
          ]
        }
      ]
    },
    {
      "cell_type": "code",
      "source": [
        "# using collections.OrderedDict()\n",
        "from collections import OrderedDict\n",
        "lst1 = [\"a\", \"b\", \"c\", \"d\", \"e\", \"f\", \"g\", \"h\", \"i\"]\n",
        "lst2 = [0,   1,   1,    0,   1,   2,   2,   0,   1]\n",
        "d = OrderedDict(zip(lst1,lst2))\n",
        "res = lst(OrderedDict(sorted(d.items(),key=lambda x: x[1])))\n",
        "print(res)"
      ],
      "metadata": {
        "id": "OjG9UMLW31mW"
      },
      "execution_count": null,
      "outputs": []
    },
    {
      "cell_type": "code",
      "source": [
        "# using the numpy.argsort() function with fancy indexing\n",
        "import numpy as np\n",
        "\n",
        "def sort_list(lst1,lst2):\n",
        "# use the numpy's argsort function to get the indices that would sort the second list\n",
        "    idx = np.argsort(lst2)\n",
        "# Index  the first lst using the sorted indices and return the result as numpy array\n",
        "    return  np.array(lst1)[idx]\n",
        "\n",
        "x = [\"a\", \"b\", \"c\", \"d\", \"e\", \"f\", \"g\", \"h\", \"i\"]  # why it was taking other than arguments passed as correct?\n",
        "y = [0,   1,   1,    0,   1,   2,   2,   0,  1]\n",
        "\n",
        "print(sort_list(x,y))"
      ],
      "metadata": {
        "colab": {
          "base_uri": "https://localhost:8080/"
        },
        "id": "lg18QN916YS4",
        "outputId": "4e0526ad-ca26-4dc5-ff97-dfd0e978d3d9"
      },
      "execution_count": null,
      "outputs": [
        {
          "output_type": "stream",
          "name": "stdout",
          "text": [
            "['a' 'd' 'h' 'b' 'c' 'e' 'f' 'g']\n"
          ]
        }
      ]
    },
    {
      "cell_type": "code",
      "source": [
        "# list comprehension\n",
        "n = [1,2,3,4,5]\n",
        "squared = [x**2 for x in n]\n",
        "print(squared)"
      ],
      "metadata": {
        "colab": {
          "base_uri": "https://localhost:8080/"
        },
        "id": "7OE3opxzB0Cj",
        "outputId": "0e61f0f9-144a-4e98-cfae-c57f1a12d15e"
      },
      "execution_count": null,
      "outputs": [
        {
          "output_type": "stream",
          "name": "stdout",
          "text": [
            "[1, 4, 9, 16, 25]\n"
          ]
        }
      ]
    },
    {
      "cell_type": "code",
      "source": [
        "# iterate through loop\n",
        "list = [character for character in [1,2,3]]\n",
        "print(list)"
      ],
      "metadata": {
        "colab": {
          "base_uri": "https://localhost:8080/"
        },
        "id": "mjLdTOYCDxOt",
        "outputId": "ecac2fb8-a43d-4105-fec2-64d191b7c751"
      },
      "execution_count": null,
      "outputs": [
        {
          "output_type": "stream",
          "name": "stdout",
          "text": [
            "[1, 2, 3]\n"
          ]
        }
      ]
    },
    {
      "cell_type": "code",
      "source": [
        "# even list using comprehension\n",
        "lst = [i for i in range(11) if i % 2 == 0]\n",
        "print(lst)"
      ],
      "metadata": {
        "colab": {
          "base_uri": "https://localhost:8080/"
        },
        "id": "3lw9wIpEERzW",
        "outputId": "b3e2447c-88ce-4f86-bbc0-2b48972383b7"
      },
      "execution_count": null,
      "outputs": [
        {
          "output_type": "stream",
          "name": "stdout",
          "text": [
            "[0, 2, 4, 6, 8, 10]\n"
          ]
        }
      ]
    },
    {
      "cell_type": "code",
      "source": [
        "# matrix using list comprehension\n",
        "matrix = [[j for j in range(3)] for i in range(3)]\n",
        "print(matrix)"
      ],
      "metadata": {
        "colab": {
          "base_uri": "https://localhost:8080/"
        },
        "id": "lPYwrPP5ErbY",
        "outputId": "4cfa315a-859b-40f3-9c24-17446403463e"
      },
      "execution_count": null,
      "outputs": [
        {
          "output_type": "stream",
          "name": "stdout",
          "text": [
            "[[0, 1, 2], [0, 1, 2], [0, 1, 2]]\n"
          ]
        }
      ]
    },
    {
      "cell_type": "code",
      "source": [
        "# list comprehension vs For loop\n",
        "lst = []\n",
        "for character in 'Ganesh chowdary!':\n",
        "   lst.append(character)\n",
        "\n",
        "print(lst)"
      ],
      "metadata": {
        "colab": {
          "base_uri": "https://localhost:8080/"
        },
        "id": "lAuJJBCAGAE_",
        "outputId": "9b2e5cf6-480e-4c13-dac7-a96e7732ea0d"
      },
      "execution_count": null,
      "outputs": [
        {
          "output_type": "stream",
          "name": "stdout",
          "text": [
            "['G', 'a', 'n', 'e', 's', 'h', ' ', 'c', 'h', 'o', 'w', 'd', 'a', 'r', 'y', '!']\n"
          ]
        }
      ]
    },
    {
      "cell_type": "code",
      "source": [
        "# time analysis in list comprehensions and loop   ***** REvise******\n",
        "import time\n",
        "\n",
        "def for_loop(n):\n",
        "  result = []\n",
        "  for i in range(n):\n",
        "    result.append(i**2)\n",
        "  return result\n",
        "\n",
        "def list_comprehension(n):\n",
        "  return [i**2 for i in range(n)]\n",
        "\n",
        "# calculate time taken by for_loop()\n",
        "begin = time.time()\n",
        "for_loop(10**6)\n",
        "end = time.time()\n",
        "\n",
        "# display time taken by for_loop()\n",
        "print('Time taken for_loop:',round(end-begin,2))\n",
        "\n",
        "# calculate time taken by list_comprehension()\n",
        "begin = time.time()\n",
        "list_comprehension(10**6)\n",
        "end = time.time()\n",
        "\n",
        "# display time taken by for_loop()\n",
        "print('Time taken for list_comprehension:',round(end-begin,2))"
      ],
      "metadata": {
        "colab": {
          "base_uri": "https://localhost:8080/"
        },
        "id": "V53NhxWXG_sB",
        "outputId": "8bab8541-6855-4f9a-fc27-fc61806715e6"
      },
      "execution_count": null,
      "outputs": [
        {
          "output_type": "stream",
          "name": "stdout",
          "text": [
            "Time taken for_loop: 0.67\n",
            "Time taken for list_comprehension: 0.57\n"
          ]
        }
      ]
    },
    {
      "cell_type": "code",
      "source": [
        "# Nested list comprehensions\n",
        "matrix = []\n",
        "for i in range(3):\n",
        "  # append an empty sublist inside the list\n",
        "  matrix.append([])\n",
        "\n",
        "  for j in range(5):\n",
        "    matrix[i].append(j)\n",
        "print(matrix)"
      ],
      "metadata": {
        "colab": {
          "base_uri": "https://localhost:8080/"
        },
        "id": "OPNCO7zlPvsi",
        "outputId": "265d32e1-fed4-49f7-a043-6856a60372e6"
      },
      "execution_count": null,
      "outputs": [
        {
          "output_type": "stream",
          "name": "stdout",
          "text": [
            "[[0, 1, 2, 3, 4], [0, 1, 2, 3, 4], [0, 1, 2, 3, 4]]\n"
          ]
        }
      ]
    },
    {
      "cell_type": "code",
      "source": [
        "# nested list comprehensions ,\n",
        "matrix = [[j for j in range(5)] for i in range(3)]\n",
        "print(matrix)"
      ],
      "metadata": {
        "colab": {
          "base_uri": "https://localhost:8080/"
        },
        "id": "k5qoWYdGQlUK",
        "outputId": "49b6b83d-bd35-4490-ddc2-0f54e0cb8676"
      },
      "execution_count": null,
      "outputs": [
        {
          "output_type": "stream",
          "name": "stdout",
          "text": [
            "[[0, 1, 2, 3, 4], [0, 1, 2, 3, 4], [0, 1, 2, 3, 4]]\n"
          ]
        }
      ]
    },
    {
      "cell_type": "code",
      "source": [
        "# LIST comprehension and lambda\n",
        "numbers = []\n",
        "for i in range(1,6):\n",
        "  numbers.append(i*10)\n",
        "print(numbers)"
      ],
      "metadata": {
        "colab": {
          "base_uri": "https://localhost:8080/"
        },
        "id": "d3_SDF6QRWDW",
        "outputId": "04d7984d-403a-44c7-c01b-14c4516a3961"
      },
      "execution_count": null,
      "outputs": [
        {
          "output_type": "stream",
          "name": "stdout",
          "text": [
            "[10, 20, 30, 40, 50]\n"
          ]
        }
      ]
    },
    {
      "cell_type": "code",
      "source": [
        "#list comprehension\n",
        "numbers = [i*10 for i in range(1,6)]\n",
        "print(numbers)"
      ],
      "metadata": {
        "colab": {
          "base_uri": "https://localhost:8080/"
        },
        "id": "aGPoQm0aR3CU",
        "outputId": "a4d0f828-8319-4434-b84a-31dc07b6f52a"
      },
      "execution_count": null,
      "outputs": [
        {
          "output_type": "stream",
          "name": "stdout",
          "text": [
            "[10, 20, 30, 40, 50]\n"
          ]
        }
      ]
    },
    {
      "cell_type": "code",
      "source": [
        "# using lambda()\n",
        "numbers = list(map(lambda i: i*10,[i for i in range(1,6)]))\n",
        "print(numbers)"
      ],
      "metadata": {
        "colab": {
          "base_uri": "https://localhost:8080/"
        },
        "id": "NreLx-fdSIfN",
        "outputId": "e9cfd516-fce2-4cea-955b-bd5b3d3a7be3"
      },
      "execution_count": null,
      "outputs": [
        {
          "output_type": "stream",
          "name": "stdout",
          "text": [
            "[10, 20, 30, 40, 50]\n"
          ]
        }
      ]
    },
    {
      "cell_type": "code",
      "source": [
        "# conditionals in List comprehension\n",
        "# python List comprehension using if-else\n",
        "lis = [\"even number\" if i%2 == 0\n",
        "       else \"odd number\" for i in range(8)]\n",
        "print(lis)"
      ],
      "metadata": {
        "id": "ob_ozYOvTeqT",
        "colab": {
          "base_uri": "https://localhost:8080/"
        },
        "outputId": "a0417828-16bf-4df4-9e32-5dc384fcd2d4"
      },
      "execution_count": null,
      "outputs": [
        {
          "output_type": "stream",
          "name": "stdout",
          "text": [
            "['even number', 'odd number', 'even number', 'odd number', 'even number', 'odd number', 'even number', 'odd number']\n"
          ]
        }
      ]
    },
    {
      "cell_type": "code",
      "source": [
        "# nested IF with List Comprehension\n",
        "lis = [num for num in range(100)\n",
        "         if num%5 == 0 if num%10 == 0]\n",
        "print(lis)       # why it is giving 0 ????????????? o is itself a multiple of every number\n",
        "# what is difference between not defined and infinity?"
      ],
      "metadata": {
        "colab": {
          "base_uri": "https://localhost:8080/"
        },
        "id": "D2HuBeBavPlR",
        "outputId": "41c0a6cd-7f0b-4f62-d3e3-97840b24258e"
      },
      "execution_count": null,
      "outputs": [
        {
          "output_type": "stream",
          "name": "stdout",
          "text": [
            "[0, 10, 20, 30, 40, 50, 60, 70, 80, 90]\n"
          ]
        }
      ]
    },
    {
      "cell_type": "code",
      "source": [
        "# square of numbers\n",
        "li = [n**2 for n in range(1,11)]\n",
        "\n",
        "print(li)"
      ],
      "metadata": {
        "colab": {
          "base_uri": "https://localhost:8080/"
        },
        "id": "1J-SFZG4yNoL",
        "outputId": "1b68bb04-11fb-41b9-f575-6b35c18d6f08"
      },
      "execution_count": null,
      "outputs": [
        {
          "output_type": "stream",
          "name": "stdout",
          "text": [
            "[1, 4, 9, 16, 25, 36, 49, 64, 81, 100]\n"
          ]
        }
      ]
    },
    {
      "cell_type": "code",
      "source": [
        "# display transpore of 2D - Matrix axis - 1 and axis -0 ***** revise*******\n",
        "twoDMatrix = [[10, 20, 30],\n",
        "              [40, 50, 60],\n",
        "              [70, 80, 90]]\n",
        "\n",
        "trans = [[i[j] for i in twoDMatrix] for j in range(len(twoDMatrix[0]))]\n",
        "\n",
        "print(trans)"
      ],
      "metadata": {
        "id": "dAQ-wMpAyuR1",
        "colab": {
          "base_uri": "https://localhost:8080/"
        },
        "outputId": "b1de387c-fb9c-4577-b322-01b315f76933"
      },
      "execution_count": null,
      "outputs": [
        {
          "output_type": "stream",
          "name": "stdout",
          "text": [
            "[[10, 40, 70], [20, 50, 80], [30, 60, 90]]\n"
          ]
        }
      ]
    },
    {
      "cell_type": "code",
      "source": [
        "# toggle the case of each character in a string  ***revise***\n",
        "string = 'ganeshchowdary'  #XOR OPERATOR\n",
        "list = list(map(lambda i: chr(ord(i)^32),string))\n",
        "print(list)"
      ],
      "metadata": {
        "id": "6WM0DlSgDhPL",
        "colab": {
          "base_uri": "https://localhost:8080/"
        },
        "outputId": "681a3ff5-6167-4f5d-a278-2328d4b955c2"
      },
      "execution_count": null,
      "outputs": [
        {
          "output_type": "stream",
          "name": "stdout",
          "text": [
            "['G', 'A', 'N', 'E', 'S', 'H', 'C', 'H', 'O', 'W', 'D', 'A', 'R', 'Y']\n"
          ]
        }
      ]
    },
    {
      "cell_type": "code",
      "source": [
        "# reverse each string in a tuple\n",
        "list = [string[::-1] for string in (\"ganesh\",\"chowdary\")]\n",
        "\n",
        "print(list)"
      ],
      "metadata": {
        "colab": {
          "base_uri": "https://localhost:8080/"
        },
        "id": "a2dg81EYFAs1",
        "outputId": "10a68557-7f36-4500-eb8c-7e2099989812"
      },
      "execution_count": null,
      "outputs": [
        {
          "output_type": "stream",
          "name": "stdout",
          "text": [
            "['hsenag', 'yradwohc']\n"
          ]
        }
      ]
    },
    {
      "cell_type": "code",
      "source": [
        "# creating a list of tuples from two seperate lists\n",
        "names = ['A','G','C']\n",
        "ages = [25,30,35]\n",
        "person_tuples = [(name,age) for name,age in zip(names,ages)]\n",
        "print(person_tuples)"
      ],
      "metadata": {
        "colab": {
          "base_uri": "https://localhost:8080/"
        },
        "id": "rqSVYuZuFoX6",
        "outputId": "dbbf31d5-b7ca-45bb-b517-31f3e5893143"
      },
      "execution_count": null,
      "outputs": [
        {
          "output_type": "stream",
          "name": "stdout",
          "text": [
            "[('A', 25), ('G', 30), ('C', 35)]\n"
          ]
        }
      ]
    },
    {
      "cell_type": "code",
      "source": [
        "# display the sum of digits of all the odd elements in a list\n",
        "def digitSum(n):\n",
        "  dsum = 0           # ************REVISE*****************\n",
        "  for ele in str(n):\n",
        "    dsum += int(ele)\n",
        "  return dsum\n",
        "\n",
        "list = [367,111,562,945,6726,873]\n",
        "# using the function on odd elements of the list\n",
        "newlist = [digitSum(i) for i in list if i & 1]\n",
        "\n",
        "print(newlist)"
      ],
      "metadata": {
        "colab": {
          "base_uri": "https://localhost:8080/"
        },
        "id": "pgNtSyZEGZ7X",
        "outputId": "43be7fd6-27a1-47d3-98be-fd58df8a85b7"
      },
      "execution_count": null,
      "outputs": [
        {
          "output_type": "stream",
          "name": "stdout",
          "text": [
            "[16, 3, 18, 18]\n"
          ]
        }
      ]
    },
    {
      "cell_type": "code",
      "source": [
        "# iterate over a list in python\n",
        "list = [1,2,3,4,5]\n",
        "for i in list:\n",
        "  print(i,end=\",\")"
      ],
      "metadata": {
        "colab": {
          "base_uri": "https://localhost:8080/"
        },
        "id": "lHPBGKMUIuHW",
        "outputId": "e746664c-76d3-447d-e952-9d7c5a833ca8"
      },
      "execution_count": null,
      "outputs": [
        {
          "output_type": "stream",
          "name": "stdout",
          "text": [
            "1,2,3,4,5,"
          ]
        }
      ]
    },
    {
      "cell_type": "code",
      "source": [
        "# for loop and range()\n",
        "lis = [1,2,3,4,5,6,7]\n",
        "len = len(lis)\n",
        "for i in range(len):\n",
        "  print(lis[i])"
      ],
      "metadata": {
        "colab": {
          "base_uri": "https://localhost:8080/",
          "height": 245
        },
        "id": "SAMyohgNJSSc",
        "outputId": "e3f1d92c-f189-41b5-ad8a-0d206ad5dcae"
      },
      "execution_count": null,
      "outputs": [
        {
          "output_type": "error",
          "ename": "TypeError",
          "evalue": "ignored",
          "traceback": [
            "\u001b[0;31m---------------------------------------------------------------------------\u001b[0m",
            "\u001b[0;31mTypeError\u001b[0m                                 Traceback (most recent call last)",
            "\u001b[0;32m<ipython-input-29-4074cbe279b1>\u001b[0m in \u001b[0;36m<cell line: 3>\u001b[0;34m()\u001b[0m\n\u001b[1;32m      1\u001b[0m \u001b[0;31m# for loop and range()\u001b[0m\u001b[0;34m\u001b[0m\u001b[0;34m\u001b[0m\u001b[0m\n\u001b[1;32m      2\u001b[0m \u001b[0mlis\u001b[0m \u001b[0;34m=\u001b[0m \u001b[0;34m[\u001b[0m\u001b[0;36m1\u001b[0m\u001b[0;34m,\u001b[0m\u001b[0;36m2\u001b[0m\u001b[0;34m,\u001b[0m\u001b[0;36m3\u001b[0m\u001b[0;34m,\u001b[0m\u001b[0;36m4\u001b[0m\u001b[0;34m,\u001b[0m\u001b[0;36m5\u001b[0m\u001b[0;34m,\u001b[0m\u001b[0;36m6\u001b[0m\u001b[0;34m,\u001b[0m\u001b[0;36m7\u001b[0m\u001b[0;34m]\u001b[0m\u001b[0;34m\u001b[0m\u001b[0;34m\u001b[0m\u001b[0m\n\u001b[0;32m----> 3\u001b[0;31m \u001b[0mlen\u001b[0m \u001b[0;34m=\u001b[0m \u001b[0mlen\u001b[0m\u001b[0;34m(\u001b[0m\u001b[0mlis\u001b[0m\u001b[0;34m)\u001b[0m\u001b[0;34m\u001b[0m\u001b[0;34m\u001b[0m\u001b[0m\n\u001b[0m\u001b[1;32m      4\u001b[0m \u001b[0;32mfor\u001b[0m \u001b[0mi\u001b[0m \u001b[0;32min\u001b[0m \u001b[0mrange\u001b[0m\u001b[0;34m(\u001b[0m\u001b[0mlen\u001b[0m\u001b[0;34m)\u001b[0m\u001b[0;34m:\u001b[0m\u001b[0;34m\u001b[0m\u001b[0;34m\u001b[0m\u001b[0m\n\u001b[1;32m      5\u001b[0m   \u001b[0mprint\u001b[0m\u001b[0;34m(\u001b[0m\u001b[0mlis\u001b[0m\u001b[0;34m[\u001b[0m\u001b[0mi\u001b[0m\u001b[0;34m]\u001b[0m\u001b[0;34m)\u001b[0m\u001b[0;34m\u001b[0m\u001b[0;34m\u001b[0m\u001b[0m\n",
            "\u001b[0;31mTypeError\u001b[0m: 'int' object is not callable"
          ]
        }
      ]
    },
    {
      "cell_type": "code",
      "source": [
        "# using while loop\n",
        "lst = [1,2,3,4,6,7]\n",
        "\n",
        "i = 0\n",
        "\n",
        "while i< len(lst):\n",
        "  print(lst[i])\n",
        "  i += 1\n"
      ],
      "metadata": {
        "colab": {
          "base_uri": "https://localhost:8080/",
          "height": 245
        },
        "id": "4ze4xHlyKBPx",
        "outputId": "b7accaca-3c60-4d78-b063-076e2b80f638"
      },
      "execution_count": null,
      "outputs": [
        {
          "output_type": "error",
          "ename": "TypeError",
          "evalue": "ignored",
          "traceback": [
            "\u001b[0;31m---------------------------------------------------------------------------\u001b[0m",
            "\u001b[0;31mTypeError\u001b[0m                                 Traceback (most recent call last)",
            "\u001b[0;32m<ipython-input-27-1a405c0eaf6c>\u001b[0m in \u001b[0;36m<cell line: 6>\u001b[0;34m()\u001b[0m\n\u001b[1;32m      4\u001b[0m \u001b[0mi\u001b[0m \u001b[0;34m=\u001b[0m \u001b[0;36m0\u001b[0m\u001b[0;34m\u001b[0m\u001b[0;34m\u001b[0m\u001b[0m\n\u001b[1;32m      5\u001b[0m \u001b[0;34m\u001b[0m\u001b[0m\n\u001b[0;32m----> 6\u001b[0;31m \u001b[0;32mwhile\u001b[0m \u001b[0mi\u001b[0m\u001b[0;34m<\u001b[0m \u001b[0mlen\u001b[0m\u001b[0;34m(\u001b[0m\u001b[0mlst\u001b[0m\u001b[0;34m)\u001b[0m\u001b[0;34m:\u001b[0m\u001b[0;34m\u001b[0m\u001b[0;34m\u001b[0m\u001b[0m\n\u001b[0m\u001b[1;32m      7\u001b[0m   \u001b[0mprint\u001b[0m\u001b[0;34m(\u001b[0m\u001b[0mlst\u001b[0m\u001b[0;34m[\u001b[0m\u001b[0mi\u001b[0m\u001b[0;34m]\u001b[0m\u001b[0;34m)\u001b[0m\u001b[0;34m\u001b[0m\u001b[0;34m\u001b[0m\u001b[0m\n\u001b[1;32m      8\u001b[0m   \u001b[0mi\u001b[0m \u001b[0;34m+=\u001b[0m \u001b[0;36m1\u001b[0m\u001b[0;34m\u001b[0m\u001b[0;34m\u001b[0m\u001b[0m\n",
            "\u001b[0;31mTypeError\u001b[0m: 'int' object is not callable"
          ]
        }
      ]
    },
    {
      "cell_type": "code",
      "source": [
        "list = [1, 3, 5, 7, 9]\n",
        "[print(i) for i in list]"
      ],
      "metadata": {
        "colab": {
          "base_uri": "https://localhost:8080/"
        },
        "id": "Fc3OJrQ8LveY",
        "outputId": "7f061070-ccdc-4e62-c8c6-96c171033eb2"
      },
      "execution_count": null,
      "outputs": [
        {
          "output_type": "stream",
          "name": "stdout",
          "text": [
            "1\n",
            "3\n",
            "5\n",
            "7\n",
            "9\n"
          ]
        },
        {
          "output_type": "execute_result",
          "data": {
            "text/plain": [
              "[None, None, None, None, None]"
            ]
          },
          "metadata": {},
          "execution_count": 30
        }
      ]
    },
    {
      "cell_type": "code",
      "source": [
        "# iterate using enumerate()\n",
        "list = [1,23,4,67,7,6]\n",
        "\n",
        "for i,val in enumerate(list):\n",
        "  print(i ,' ',val)"
      ],
      "metadata": {
        "colab": {
          "base_uri": "https://localhost:8080/"
        },
        "id": "uVsDhFaHMA6u",
        "outputId": "7fad1007-45ea-49b3-a34a-d5ed089ef017"
      },
      "execution_count": null,
      "outputs": [
        {
          "output_type": "stream",
          "name": "stdout",
          "text": [
            "0   1\n",
            "1   23\n",
            "2   4\n",
            "3   67\n",
            "4   7\n",
            "5   6\n"
          ]
        }
      ]
    },
    {
      "cell_type": "code",
      "source": [
        "# using numpy iterate\n",
        "import numpy as np\n",
        "a = np.arange(9)\n",
        "# shape array with 3 rows and 3  columns\n",
        "a = a.reshape(3,3)\n",
        "# iterating an array\n",
        "for x in np.nditer(a):\n",
        "  print(x,end=\" \")\n",
        "\n",
        "print(a)"
      ],
      "metadata": {
        "colab": {
          "base_uri": "https://localhost:8080/"
        },
        "id": "-fwgthebMe_n",
        "outputId": "f55894cb-e4b1-4c24-d322-65d0d017ee15"
      },
      "execution_count": null,
      "outputs": [
        {
          "output_type": "stream",
          "name": "stdout",
          "text": [
            "0 1 2 3 4 5 6 7 8 [[0 1 2]\n",
            " [3 4 5]\n",
            " [6 7 8]]\n"
          ]
        }
      ]
    },
    {
      "cell_type": "code",
      "source": [
        "# iterate by using iter function\n",
        "list = [1,23,4,67,7,6]   #****REVISE******\n",
        "# create an iterator object using the iter function\n",
        "iterator = iter(list)\n",
        "\n",
        "# use the next() to retrieve the elements of the iterator\n",
        "try:\n",
        "  while True:\n",
        "    element = next(iterator)\n",
        "    print(element)\n",
        "except StopIteration:\n",
        "  pass\n"
      ],
      "metadata": {
        "colab": {
          "base_uri": "https://localhost:8080/"
        },
        "id": "A0824LVWNiVa",
        "outputId": "8d1af731-ce65-45a9-a2a7-ad959f935005"
      },
      "execution_count": null,
      "outputs": [
        {
          "output_type": "stream",
          "name": "stdout",
          "text": [
            "1\n",
            "23\n",
            "4\n",
            "67\n",
            "7\n",
            "6\n"
          ]
        }
      ]
    },
    {
      "cell_type": "code",
      "source": [
        "# Iterate using map() ****** Revise*****\n",
        "def print_element(ele):\n",
        "    print(ele)\n",
        "\n",
        "my_lst = [1,23,3,455,76,8]\n",
        "\n",
        "result = map(print_element,my_lst)\n",
        "\n",
        "for _ in result:\n",
        "  pass"
      ],
      "metadata": {
        "colab": {
          "base_uri": "https://localhost:8080/"
        },
        "id": "bsSWHF4KPZ6d",
        "outputId": "a492314c-fcc9-4859-daf1-32b4f8e263e5"
      },
      "execution_count": null,
      "outputs": [
        {
          "output_type": "stream",
          "name": "stdout",
          "text": [
            "1\n",
            "23\n",
            "3\n",
            "455\n",
            "76\n",
            "8\n"
          ]
        }
      ]
    },
    {
      "cell_type": "code",
      "source": [
        "# Itearate over multiple lists simultaneously\n",
        "# zip()\n",
        "import itertools\n",
        "num = [1,2,3]\n",
        "color = ['red','white','blak']\n",
        "value = [255,256]\n",
        "# iterates over 3 lists and executes 2 times as len(value) = 2 which is the min\n",
        "# among all the three\n",
        "for (a,b,c) in zip(num,color,value):\n",
        "  print(a,b,c)"
      ],
      "metadata": {
        "colab": {
          "base_uri": "https://localhost:8080/"
        },
        "id": "oM_07YQDQ3qX",
        "outputId": "ee9c0e90-b24c-4a80-c94b-c99f8a6156ee"
      },
      "execution_count": null,
      "outputs": [
        {
          "output_type": "stream",
          "name": "stdout",
          "text": [
            "1 red 255\n",
            "2 white 256\n"
          ]
        }
      ]
    },
    {
      "cell_type": "code",
      "source": [
        "# itertools.zip_longest()\n",
        "import itertools\n",
        "\n",
        "num = [1,2,3]\n",
        "color = ['red','white','blak']\n",
        "value = [255,256]\n",
        "\n",
        "for (a,b,c) in itertools.zip_longest(num,color,value):\n",
        "  print(a,b,c)"
      ],
      "metadata": {
        "colab": {
          "base_uri": "https://localhost:8080/"
        },
        "id": "KzAeZ_nFSeiQ",
        "outputId": "8fdad0ae-94a1-4c3f-e51e-1e35593df4d9"
      },
      "execution_count": null,
      "outputs": [
        {
          "output_type": "stream",
          "name": "stdout",
          "text": [
            "1 red 255\n",
            "2 white 256\n",
            "3 blak None\n"
          ]
        }
      ]
    },
    {
      "cell_type": "code",
      "source": [
        "# we can also fill specific value to default None by fillvalue = -1 or t\n",
        "import itertools\n",
        "\n",
        "num = [1,2,3]\n",
        "color = ['red','white','blak']\n",
        "value = [255,256]\n",
        "\n",
        "for (a,b,c) in itertools.zip_longest(num,color,value,fillvalue=8):\n",
        "  print(a,b,c)"
      ],
      "metadata": {
        "colab": {
          "base_uri": "https://localhost:8080/"
        },
        "id": "6TQPs6tjTO_m",
        "outputId": "191f676b-5b93-4af1-eb68-037487b3106e"
      },
      "execution_count": null,
      "outputs": [
        {
          "output_type": "stream",
          "name": "stdout",
          "text": [
            "1 red 255\n",
            "2 white 256\n",
            "3 blak 8\n"
          ]
        }
      ]
    },
    {
      "cell_type": "code",
      "source": [
        "# using enumerate () to iterate over multiple lists\n",
        "list1 = [1, 2, 3]           # *****REVISE******\n",
        "list2 = ['a', 'b', 'c']\n",
        "list3 = ['x', 'y', 'z']\n",
        "\n",
        "for i,ele in enumerate(list1):\n",
        "  print(ele,list2[i],list3[i])"
      ],
      "metadata": {
        "colab": {
          "base_uri": "https://localhost:8080/"
        },
        "id": "lj-rTy3JT2qK",
        "outputId": "8b34e399-d6a4-4b86-dc21-0b2c45977d2a"
      },
      "execution_count": null,
      "outputs": [
        {
          "output_type": "stream",
          "name": "stdout",
          "text": [
            "1 a x\n",
            "2 b y\n",
            "3 c z\n"
          ]
        }
      ]
    },
    {
      "cell_type": "code",
      "source": [
        "# using zip() multiple lists iteration\n",
        "for item1,item2,item3 in zip((1,2,3),('a','b','c'),(True,False,True)):\n",
        "  print(item1,item2,item3)"
      ],
      "metadata": {
        "colab": {
          "base_uri": "https://localhost:8080/"
        },
        "id": "CvPG_ulrUsPk",
        "outputId": "e325ca1a-9616-4f05-c218-c093c4502e01"
      },
      "execution_count": null,
      "outputs": [
        {
          "output_type": "stream",
          "name": "stdout",
          "text": [
            "1 a True\n",
            "2 b False\n",
            "3 c True\n"
          ]
        }
      ]
    },
    {
      "cell_type": "code",
      "source": [
        "# list methods in python\n",
        "# append()\n",
        "List = ['Mathematics', 'chemistry', 1997, 2000]\n",
        "List.append(209877)\n",
        "print(List)"
      ],
      "metadata": {
        "colab": {
          "base_uri": "https://localhost:8080/"
        },
        "id": "yj35D8fLWRVn",
        "outputId": "fa61db6b-dcdb-47f8-d897-9f25ad457945"
      },
      "execution_count": null,
      "outputs": [
        {
          "output_type": "stream",
          "name": "stdout",
          "text": [
            "['Mathematics', 'chemistry', 1997, 2000, 209877]\n"
          ]
        }
      ]
    },
    {
      "cell_type": "code",
      "source": [
        "# insert()\n",
        "list = ['Mathematics', 'chemistry', 1997, 2000]\n",
        "list.insert(2,1441414)\n",
        "print(list)"
      ],
      "metadata": {
        "colab": {
          "base_uri": "https://localhost:8080/"
        },
        "id": "WD0d2JtCXDTn",
        "outputId": "fddd03f6-158c-4b4d-ee1b-e0f173db97a3"
      },
      "execution_count": null,
      "outputs": [
        {
          "output_type": "stream",
          "name": "stdout",
          "text": [
            "['Mathematics', 'chemistry', 1441414, 1997, 2000]\n"
          ]
        }
      ]
    },
    {
      "cell_type": "code",
      "source": [
        "# extend()\n",
        "lis = [1,2,3,4]\n",
        "lis1 = [5,6,7,8]\n",
        "lis.extend(lis1)\n",
        "print(lis)"
      ],
      "metadata": {
        "colab": {
          "base_uri": "https://localhost:8080/"
        },
        "id": "DwMlIxjNXdxO",
        "outputId": "b63622c9-ab88-44c4-9807-dcdc65da0631"
      },
      "execution_count": null,
      "outputs": [
        {
          "output_type": "stream",
          "name": "stdout",
          "text": [
            "[1, 2, 3, 4, 5, 6, 7, 8]\n"
          ]
        }
      ]
    },
    {
      "cell_type": "code",
      "source": [
        "list = [1,2,4,5,6,7]\n",
        "print(sum(list))"
      ],
      "metadata": {
        "colab": {
          "base_uri": "https://localhost:8080/"
        },
        "id": "0jq7tn0tX7P3",
        "outputId": "7a569e92-d518-4894-ca97-70b9fb38e699"
      },
      "execution_count": null,
      "outputs": [
        {
          "output_type": "stream",
          "name": "stdout",
          "text": [
            "25\n"
          ]
        }
      ]
    },
    {
      "cell_type": "code",
      "source": [
        "list = [1,2,4,5,6,7,7]\n",
        "print(list.count(7))"
      ],
      "metadata": {
        "colab": {
          "base_uri": "https://localhost:8080/"
        },
        "id": "8Inn4P2zYLCv",
        "outputId": "47287103-ad24-4fdb-cd2c-d8a3712c6991"
      },
      "execution_count": null,
      "outputs": [
        {
          "output_type": "stream",
          "name": "stdout",
          "text": [
            "2\n"
          ]
        }
      ]
    },
    {
      "cell_type": "code",
      "source": [
        "list = [1,2,4,5,6,7]\n",
        "print(len(list))"
      ],
      "metadata": {
        "colab": {
          "base_uri": "https://localhost:8080/",
          "height": 192
        },
        "id": "ht8IgeWWYaou",
        "outputId": "09fd2a39-c193-443a-a8a7-1ec0ea74eaf1"
      },
      "execution_count": null,
      "outputs": [
        {
          "output_type": "error",
          "ename": "TypeError",
          "evalue": "ignored",
          "traceback": [
            "\u001b[0;31m---------------------------------------------------------------------------\u001b[0m",
            "\u001b[0;31mTypeError\u001b[0m                                 Traceback (most recent call last)",
            "\u001b[0;32m<ipython-input-59-7f9dc9189772>\u001b[0m in \u001b[0;36m<cell line: 2>\u001b[0;34m()\u001b[0m\n\u001b[1;32m      1\u001b[0m \u001b[0mlist\u001b[0m \u001b[0;34m=\u001b[0m \u001b[0;34m[\u001b[0m\u001b[0;36m1\u001b[0m\u001b[0;34m,\u001b[0m\u001b[0;36m2\u001b[0m\u001b[0;34m,\u001b[0m\u001b[0;36m4\u001b[0m\u001b[0;34m,\u001b[0m\u001b[0;36m5\u001b[0m\u001b[0;34m,\u001b[0m\u001b[0;36m6\u001b[0m\u001b[0;34m,\u001b[0m\u001b[0;36m7\u001b[0m\u001b[0;34m]\u001b[0m\u001b[0;34m\u001b[0m\u001b[0;34m\u001b[0m\u001b[0m\n\u001b[0;32m----> 2\u001b[0;31m \u001b[0mprint\u001b[0m\u001b[0;34m(\u001b[0m\u001b[0mlen\u001b[0m\u001b[0;34m(\u001b[0m\u001b[0mlist\u001b[0m\u001b[0;34m)\u001b[0m\u001b[0;34m)\u001b[0m\u001b[0;34m\u001b[0m\u001b[0;34m\u001b[0m\u001b[0m\n\u001b[0m",
            "\u001b[0;31mTypeError\u001b[0m: 'int' object is not callable"
          ]
        }
      ]
    },
    {
      "cell_type": "code",
      "source": [
        "list = [1,2,4,5,6,7]\n",
        "print(list.index(2))"
      ],
      "metadata": {
        "colab": {
          "base_uri": "https://localhost:8080/"
        },
        "id": "Vvi8e1KrYlFw",
        "outputId": "23a6ade4-1520-4812-8405-1b178a343cce"
      },
      "execution_count": null,
      "outputs": [
        {
          "output_type": "stream",
          "name": "stdout",
          "text": [
            "1\n"
          ]
        }
      ]
    },
    {
      "cell_type": "code",
      "source": [
        "# what is the meaning of this ????///\n",
        "List = [1, 2, 3, 1, 2, 1, 2, 3, 2, 1]\n",
        "print(List.index(2, 2))"
      ],
      "metadata": {
        "colab": {
          "base_uri": "https://localhost:8080/"
        },
        "id": "igyes_ZnY4Yd",
        "outputId": "79eee2d0-a308-496a-d22b-508898e4fef7"
      },
      "execution_count": null,
      "outputs": [
        {
          "output_type": "stream",
          "name": "stdout",
          "text": [
            "4\n"
          ]
        }
      ]
    },
    {
      "cell_type": "code",
      "source": [
        "numbers = [2,43,53,4,6,878,33,3]\n",
        "print(min(numbers))\n",
        "print(max(numbers))"
      ],
      "metadata": {
        "colab": {
          "base_uri": "https://localhost:8080/"
        },
        "id": "YrpJ-DJMZVkv",
        "outputId": "7a9a1348-cfc3-4045-cb4f-6c42e2681965"
      },
      "execution_count": null,
      "outputs": [
        {
          "output_type": "stream",
          "name": "stdout",
          "text": [
            "2\n",
            "878\n"
          ]
        }
      ]
    },
    {
      "cell_type": "code",
      "source": [
        "# sort() and reverse()\n",
        "list = [2.3, 4.445, 3, 5.33, 1.054, 2.5]\n",
        "# what is reverse flag\n",
        "# reverse flag is set True\n",
        "list.sort(reverse=True)\n",
        "# list.sort().reverse() ,reverses the sorted list\n",
        "print(list)"
      ],
      "metadata": {
        "colab": {
          "base_uri": "https://localhost:8080/"
        },
        "id": "iMsCyorUZoJy",
        "outputId": "0d9eeea0-0d8a-4742-f348-70641893e8f5"
      },
      "execution_count": null,
      "outputs": [
        {
          "output_type": "stream",
          "name": "stdout",
          "text": [
            "[5.33, 4.445, 3, 2.5, 2.3, 1.054]\n"
          ]
        }
      ]
    },
    {
      "cell_type": "code",
      "source": [
        "# Deletion of list elements\n",
        "# pop() , remove() and keywords such as del\n",
        "list = [2.3, 4.445, 3, 5.33, 1.054, 2.5]\n",
        "#print(list.pop())\n",
        "#print(list.pop(1))\n",
        "# del keyword\n",
        "#del list[0]\n",
        "#print(list)\n",
        "# remove\n",
        "list.remove(3)\n",
        "print(list)"
      ],
      "metadata": {
        "colab": {
          "base_uri": "https://localhost:8080/"
        },
        "id": "Tw3n1RE1akT4",
        "outputId": "17ba8403-ccfe-4f04-ff8e-fb2ca7d11b8e"
      },
      "execution_count": null,
      "outputs": [
        {
          "output_type": "stream",
          "name": "stdout",
          "text": [
            "[2.3, 4.445, 5.33, 1.054, 2.5]\n"
          ]
        }
      ]
    },
    {
      "cell_type": "code",
      "source": [
        "\"\"\" variables and data structures\n",
        "datastructures list,dictionary ,tuple and set\"\"\"\n",
        "li = []\n",
        "li.append(12)\n",
        "li.append(34.5)\n",
        "li.append(\"string\")\n",
        "print(li)"
      ],
      "metadata": {
        "colab": {
          "base_uri": "https://localhost:8080/"
        },
        "id": "TMZv3H6lQFOI",
        "outputId": "f73cb7b1-ef49-42b2-b2b8-2370088e2ff9"
      },
      "execution_count": 3,
      "outputs": [
        {
          "output_type": "stream",
          "name": "stdout",
          "text": [
            "[12, 34.5, 'string']\n"
          ]
        }
      ]
    },
    {
      "cell_type": "code",
      "source": [
        "# input and output\n",
        "name = input(\"enter the name:\")\n",
        "print(\"hello\",name)"
      ],
      "metadata": {
        "colab": {
          "base_uri": "https://localhost:8080/"
        },
        "id": "xVk27b5nQ9AD",
        "outputId": "e267067b-d7ec-419a-cf13-2395e9fa670e"
      },
      "execution_count": 4,
      "outputs": [
        {
          "output_type": "stream",
          "name": "stdout",
          "text": [
            "enter the name:ganesh\n",
            "hello ganesh\n"
          ]
        }
      ]
    },
    {
      "cell_type": "code",
      "source": [
        "n1 = int(input(\"enter the number1:\"))\n",
        "n2 = int(input(\"enter the number2:\"))\n",
        "n3 = n1+n2\n",
        "print(\"Product is:\",n3)"
      ],
      "metadata": {
        "colab": {
          "base_uri": "https://localhost:8080/"
        },
        "id": "qEEcJfi6RVzb",
        "outputId": "b5daa00d-c75b-4b42-85d0-e290de599a77"
      },
      "execution_count": 5,
      "outputs": [
        {
          "output_type": "stream",
          "name": "stdout",
          "text": [
            "enter the number1:56\n",
            "enter the number2:34\n",
            "Product is: 90\n"
          ]
        }
      ]
    },
    {
      "cell_type": "code",
      "source": [
        "# selection in python is made by two keywords\n",
        "# if and elif and else\n",
        "n1 = 12.0\n",
        "if n1<12:\n",
        "  print(\"n1 is good\")\n",
        "elif n1>35:\n",
        "  print(\"n1 is not good\")\n",
        "else:\n",
        "  print(\"n1 is great\")"
      ],
      "metadata": {
        "colab": {
          "base_uri": "https://localhost:8080/"
        },
        "id": "RB3j4tw0RykN",
        "outputId": "c42cbf67-ce41-4e6a-c53d-947b4ee18b85"
      },
      "execution_count": 10,
      "outputs": [
        {
          "output_type": "stream",
          "name": "stdout",
          "text": [
            "n1 is great\n"
          ]
        }
      ]
    },
    {
      "cell_type": "code",
      "source": [
        "# functions\n",
        "def hello():\n",
        "  print(\"hello\")\n",
        "  print(\"hello again\")\n",
        "# calling the function # why it is neccesary?\n",
        "hello()"
      ],
      "metadata": {
        "colab": {
          "base_uri": "https://localhost:8080/"
        },
        "id": "99AoPHeRS3Wq",
        "outputId": "bb4a6fca-2787-46b1-bcf1-8b246008a107"
      },
      "execution_count": 12,
      "outputs": [
        {
          "output_type": "stream",
          "name": "stdout",
          "text": [
            "hello\n",
            "hello again\n",
            "hello\n",
            "hello again\n"
          ]
        }
      ]
    },
    {
      "cell_type": "code",
      "source": [
        "# lets create main function like in other programming languages\n",
        "def getInteger():\n",
        "  result = int(input(\"enter the number:\"))\n",
        "  return result # why it is neccesary to write return keyword in inside function\n",
        "\n",
        "def Main():\n",
        "  print(\"started\")      #revise the memmory allocation to objevts in a programm\n",
        "\n",
        "  # calinng the getInteger function\n",
        "  # storing its returned value in the output variable\n",
        "  output = getInteger()\n",
        "  print(output)\n",
        "\n",
        "# now we are required to tell python\n",
        "# for 'Main' function existence\n",
        "Main()"
      ],
      "metadata": {
        "colab": {
          "base_uri": "https://localhost:8080/"
        },
        "id": "7OkiTfPaT0oi",
        "outputId": "4b5beba7-c977-42a8-a4a9-471af61f256b"
      },
      "execution_count": 17,
      "outputs": [
        {
          "output_type": "stream",
          "name": "stdout",
          "text": [
            "started\n",
            "enter the number:45\n",
            "45\n"
          ]
        }
      ]
    },
    {
      "cell_type": "code",
      "source": [
        "# iteration(looping)\n",
        "for step in range(5):\n",
        "  print(step,end=\" \")"
      ],
      "metadata": {
        "colab": {
          "base_uri": "https://localhost:8080/"
        },
        "id": "bTyJd7zxWwvw",
        "outputId": "48b57c7d-c792-41ec-8c67-04378c98b05e"
      },
      "execution_count": 18,
      "outputs": [
        {
          "output_type": "stream",
          "name": "stdout",
          "text": [
            "0 1 2 3 4 "
          ]
        }
      ]
    },
    {
      "cell_type": "code",
      "source": [
        "# modules\n",
        "# math module\n",
        "import math\n",
        "\n",
        "def main():\n",
        "  num = -85\n",
        "  # fabs is used to get the absolute\n",
        "  # value of the decimal\n",
        "  num = math.fabs(num)\n",
        "  print(num)\n",
        "\n",
        "main()"
      ],
      "metadata": {
        "colab": {
          "base_uri": "https://localhost:8080/"
        },
        "id": "f3G2IE3-XBOr",
        "outputId": "2180d752-93c1-43d9-e10c-d20d4d187cf3"
      },
      "execution_count": 19,
      "outputs": [
        {
          "output_type": "stream",
          "name": "stdout",
          "text": [
            "85.0\n"
          ]
        }
      ]
    },
    {
      "cell_type": "code",
      "source": [
        "# code to get all the keywords in python\n",
        "import keyword\n",
        "# kwlist()\n",
        "print(\"The list of keywords is:\")\n",
        "print(keyword.kwlist)"
      ],
      "metadata": {
        "colab": {
          "base_uri": "https://localhost:8080/"
        },
        "id": "Qi0mzQiwdczJ",
        "outputId": "cf74069c-6529-45c8-d2b2-d5f59f951a1f"
      },
      "execution_count": 22,
      "outputs": [
        {
          "output_type": "stream",
          "name": "stdout",
          "text": [
            "The list of keywords is:\n",
            "['False', 'None', 'True', 'and', 'as', 'assert', 'async', 'await', 'break', 'class', 'continue', 'def', 'del', 'elif', 'else', 'except', 'finally', 'for', 'from', 'global', 'if', 'import', 'in', 'is', 'lambda', 'nonlocal', 'not', 'or', 'pass', 'raise', 'return', 'try', 'while', 'with', 'yield']\n"
          ]
        }
      ]
    },
    {
      "cell_type": "code",
      "source": [
        "# True ,False and None\n",
        "print(False == 0)\n",
        "print(True == 0)\n",
        "\n",
        "print(True + True + True)\n",
        "print(True + False + False)\n",
        "\n",
        "print(None == 0)\n",
        "print(None == [])"
      ],
      "metadata": {
        "colab": {
          "base_uri": "https://localhost:8080/"
        },
        "id": "dF9Jy2W3eugt",
        "outputId": "c4cbf17a-629d-4113-8858-9ca26ce56f67"
      },
      "execution_count": 23,
      "outputs": [
        {
          "output_type": "stream",
          "name": "stdout",
          "text": [
            "True\n",
            "False\n",
            "3\n",
            "1\n",
            "False\n",
            "False\n"
          ]
        }
      ]
    },
    {
      "cell_type": "code",
      "source": [
        "# and ,or ,not, is,and in\n",
        "print(True or False)\n",
        "\n",
        "print(True and False)\n",
        "\n",
        "print(not False)\n",
        "\n",
        "# using \"in \" to check\n",
        "if 's' in \"ganesh chowdary\":\n",
        "    print(\"s is part of ganesh chowdary\")\n",
        "else:\n",
        "  print(\"s is not a part of ganesh chowdary\")\n",
        "\n",
        "# using \"in\" to loop through\n",
        "for i in \"ganeshchowdary\":\n",
        "  print(i,end=\" \")\n",
        "\n",
        "print(\"\\r\")\n",
        "\n",
        "# using \"is\" to check object identity\n",
        "# string is immutable(can not changed once allocated)\n",
        "# hence occupy same  memmory location\n",
        "print(' ' is ' ')\n",
        "# dictionary is mutable(can be changed once allocated)\n",
        "# hence occupy different memory location\n",
        "print({} is {})"
      ],
      "metadata": {
        "colab": {
          "base_uri": "https://localhost:8080/"
        },
        "id": "i7mbrN7DmIOg",
        "outputId": "f5366ec9-5f1c-4fa0-8204-e8b60cafbe73"
      },
      "execution_count": 25,
      "outputs": [
        {
          "output_type": "stream",
          "name": "stdout",
          "text": [
            "True\n",
            "False\n",
            "True\n",
            "s is part of ganesh chowdary\n",
            "g a n e s h c h o w d a r y \r\n",
            "True\n",
            "False\n"
          ]
        },
        {
          "output_type": "stream",
          "name": "stderr",
          "text": [
            "<>:23: SyntaxWarning: \"is\" with a literal. Did you mean \"==\"?\n",
            "<>:23: SyntaxWarning: \"is\" with a literal. Did you mean \"==\"?\n",
            "<ipython-input-25-98185b48b9f2>:23: SyntaxWarning: \"is\" with a literal. Did you mean \"==\"?\n",
            "  print(' ' is ' ')\n"
          ]
        }
      ]
    },
    {
      "cell_type": "code",
      "source": [
        "# iteration keywords - for ,while ,break,continue\n",
        "for i in range(10):\n",
        "  print(i,end=\" \")\n",
        "  if i == 6:\n",
        "    break\n",
        "\n",
        "print()\n",
        "\n",
        "# loop 1 to 10\n",
        "i = 0\n",
        "while i<10:\n",
        "  # if i is equals to 6,\n",
        "  # continue to next iteration\n",
        "  # without printing\n",
        "  if i == 6:\n",
        "    i += 1\n",
        "    continue\n",
        "  else:\n",
        "    # otherwise print the value\n",
        "    # of i\n",
        "    print(i,end=' ')\n",
        "  i += 1"
      ],
      "metadata": {
        "colab": {
          "base_uri": "https://localhost:8080/"
        },
        "id": "446sW2oro-_x",
        "outputId": "cf63767c-5257-448f-b82a-d205ade72d0e"
      },
      "execution_count": 30,
      "outputs": [
        {
          "output_type": "stream",
          "name": "stdout",
          "text": [
            "0 1 2 3 4 5 6 \n",
            "0 1 2 3 4 5 7 8 9 "
          ]
        }
      ]
    },
    {
      "cell_type": "code",
      "source": [
        "# conditional keywords - if,else,elif\n",
        "i = 20\n",
        "if i == 10:\n",
        "  print(\"i is 10\")\n",
        "elif i == 20:\n",
        "  print(\"i is 20\")\n",
        "else:\n",
        "  print(\"i is not present\")"
      ],
      "metadata": {
        "colab": {
          "base_uri": "https://localhost:8080/"
        },
        "id": "l2cJmjjprVVh",
        "outputId": "ab75fa6b-3426-4df3-ec8d-a97be6f2d358"
      },
      "execution_count": 31,
      "outputs": [
        {
          "output_type": "stream",
          "name": "stdout",
          "text": [
            "i is 20\n"
          ]
        }
      ]
    },
    {
      "cell_type": "code",
      "source": [
        "# def is kw is used to declare user  defined functions\n",
        "def fun():\n",
        "  print(\"Inside Function\")\n",
        "fun()"
      ],
      "metadata": {
        "colab": {
          "base_uri": "https://localhost:8080/"
        },
        "id": "EuW1NfR-r6Mp",
        "outputId": "8652c11a-d97c-46d5-9e6b-77534a00b646"
      },
      "execution_count": 32,
      "outputs": [
        {
          "output_type": "stream",
          "name": "stdout",
          "text": [
            "Inside Function\n"
          ]
        }
      ]
    },
    {
      "cell_type": "code",
      "source": [
        "#Return kw - Return ,Yield\n",
        "#return- used to return from the function\n",
        "# yield - used to return generator\n",
        "\n",
        "\"\"\"\"def fun():\n",
        "  s = 0\n",
        "  for i in range(10):\n",
        "    s += i\n",
        "  return s\n",
        "\n",
        "fun()\"\"\"\n",
        "\n",
        "# what are local and global variables?\n",
        "\n",
        "# yield keyword\n",
        "def fun():\n",
        "  s = 0\n",
        "  for i in range(10):\n",
        "    s += i\n",
        "    yield s\n",
        "\n",
        "for i in fun():\n",
        "  print(i)"
      ],
      "metadata": {
        "colab": {
          "base_uri": "https://localhost:8080/"
        },
        "id": "d4tBJExhsM9J",
        "outputId": "bfe6ec72-c78c-4be7-d21a-5bc3be33d02a"
      },
      "execution_count": 39,
      "outputs": [
        {
          "output_type": "stream",
          "name": "stdout",
          "text": [
            "0\n",
            "1\n",
            "3\n",
            "6\n",
            "10\n",
            "15\n",
            "21\n",
            "28\n",
            "36\n",
            "45\n"
          ]
        }
      ]
    },
    {
      "cell_type": "code",
      "source": [
        "# class kw is used to declare user defined classes\n",
        "class Dog:\n",
        "  # a simple class\n",
        "  # attribute\n",
        "  attr1 = \"mammal\"\n",
        "  attr2 = \"dog\"\n",
        "\n",
        "  # a sample method(function)\n",
        "  def fun(self):\n",
        "    print(\"I'm a\",self.attr1)\n",
        "    print(\"I'm a\",self.attr2)\n",
        "\n",
        "\n",
        "# driver code \\\n",
        "# object instantation\n",
        "Rodger = Dog()\n",
        "# acessing the class attributes\n",
        "# and method through objects\n",
        "print(Rodger.attr1)\n",
        "Rodger.fun()"
      ],
      "metadata": {
        "colab": {
          "base_uri": "https://localhost:8080/"
        },
        "id": "n8bLNmalufUW",
        "outputId": "6a453ac0-69bf-4d63-e8cc-5d2f91ed9010"
      },
      "execution_count": 44,
      "outputs": [
        {
          "output_type": "stream",
          "name": "stdout",
          "text": [
            "mammal\n",
            "I'm a mammal\n",
            "I'm a dog\n"
          ]
        }
      ]
    },
    {
      "cell_type": "code",
      "source": [
        "# wih kw\n",
        "with open ('file_path','w') as file:\n",
        "  file.write('hello worls!')"
      ],
      "metadata": {
        "id": "Co3RyT0mxhuL"
      },
      "execution_count": 46,
      "outputs": []
    },
    {
      "cell_type": "code",
      "source": [
        "# as kw\n",
        "import math as agc\n",
        "import numpy as np\n",
        "import pandas as pd\n",
        "print(agc.factorial(5))"
      ],
      "metadata": {
        "colab": {
          "base_uri": "https://localhost:8080/"
        },
        "id": "tal8oSagx--C",
        "outputId": "32b97c9c-e18a-4c3b-a0aa-7446fed0191b"
      },
      "execution_count": 48,
      "outputs": [
        {
          "output_type": "stream",
          "name": "stdout",
          "text": [
            "120\n"
          ]
        }
      ]
    },
    {
      "cell_type": "code",
      "source": [
        "# pass used to prevent indendation errors and palceholder\n",
        "n = 10\n",
        "for i in range(n):\n",
        "  # pass can be used as place holder\n",
        "  # when code is to added later\n",
        "  pass"
      ],
      "metadata": {
        "id": "wzjdgAE4ysbC"
      },
      "execution_count": 49,
      "outputs": []
    },
    {
      "cell_type": "code",
      "source": [
        "# Lambda used to make return inline returing functions with no statetements allowed internally\n",
        "g = lambda x: x*x**x\n",
        "print(g(2))"
      ],
      "metadata": {
        "colab": {
          "base_uri": "https://localhost:8080/"
        },
        "id": "X2exzRMWzT0z",
        "outputId": "e5080f66-e191-4ed3-de44-340ed4242e18"
      },
      "execution_count": 50,
      "outputs": [
        {
          "output_type": "stream",
          "name": "stdout",
          "text": [
            "8\n"
          ]
        }
      ]
    },
    {
      "cell_type": "code",
      "source": [
        "# Import ,From\n",
        "from math import factorial\n",
        "import math\n",
        "print(math.factorial(3))\n",
        "\n",
        "# from keyword\n",
        "print(factorial(3))"
      ],
      "metadata": {
        "colab": {
          "base_uri": "https://localhost:8080/"
        },
        "id": "VNqb1Jl0zzLz",
        "outputId": "6fca12ff-e7e9-4c9d-9651-b6a8811bda2f"
      },
      "execution_count": 52,
      "outputs": [
        {
          "output_type": "stream",
          "name": "stdout",
          "text": [
            "6\n",
            "6\n"
          ]
        }
      ]
    },
    {
      "cell_type": "code",
      "source": [
        "# exception handling keywords - try ,except,raise\n",
        "a = 4\n",
        "b = 0\n",
        "\"\"\"# no exception raised in try block\n",
        "try:\n",
        "  k = a//b # raises divide by zero exception\n",
        "  print(k)\n",
        "# handles zeroDivisionError exception\n",
        "except ZeroDivisionError:\n",
        "  print(\"can't divide by zero\")\n",
        "finally:\n",
        "  # this block is always executed\n",
        "  # regardless of exception generation\n",
        "  print('This is aways executed')\n",
        "\n",
        "# assert keyword\n",
        "# using assert to check for 0\n",
        "print(\"The value of a/b is :\")\n",
        "assert b !=0, \"Divide by 0 error\"\n",
        "print(a/b)\"\"\"\n",
        "\n",
        "# raise keyword\n",
        "# Raises an user defined exception\n",
        "# if strings are not equal\n",
        "temp = \"ganeshchowdary\"\n",
        "if temp != \"are\":\n",
        "    raise TypeError(\"Both the strings are different\")"
      ],
      "metadata": {
        "colab": {
          "base_uri": "https://localhost:8080/",
          "height": 210
        },
        "id": "LzDqYOp50yGz",
        "outputId": "92ecde9e-0e5d-48c9-b476-a642fa429d0f"
      },
      "execution_count": 59,
      "outputs": [
        {
          "output_type": "error",
          "ename": "TypeError",
          "evalue": "ignored",
          "traceback": [
            "\u001b[0;31m---------------------------------------------------------------------------\u001b[0m",
            "\u001b[0;31mTypeError\u001b[0m                                 Traceback (most recent call last)",
            "\u001b[0;32m<ipython-input-59-27ec5afacc33>\u001b[0m in \u001b[0;36m<cell line: 26>\u001b[0;34m()\u001b[0m\n\u001b[1;32m     25\u001b[0m \u001b[0mtemp\u001b[0m \u001b[0;34m=\u001b[0m \u001b[0;34m\"ganeshchowdary\"\u001b[0m\u001b[0;34m\u001b[0m\u001b[0;34m\u001b[0m\u001b[0m\n\u001b[1;32m     26\u001b[0m \u001b[0;32mif\u001b[0m \u001b[0mtemp\u001b[0m \u001b[0;34m!=\u001b[0m \u001b[0;34m\"are\"\u001b[0m\u001b[0;34m:\u001b[0m\u001b[0;34m\u001b[0m\u001b[0;34m\u001b[0m\u001b[0m\n\u001b[0;32m---> 27\u001b[0;31m     \u001b[0;32mraise\u001b[0m \u001b[0mTypeError\u001b[0m\u001b[0;34m(\u001b[0m\u001b[0;34m\"Both the strings are different\"\u001b[0m\u001b[0;34m)\u001b[0m\u001b[0;34m\u001b[0m\u001b[0;34m\u001b[0m\u001b[0m\n\u001b[0m",
            "\u001b[0;31mTypeError\u001b[0m: Both the strings are different"
          ]
        }
      ]
    },
    {
      "cell_type": "code",
      "source": [
        "# del used to reference to an object.Any variable or list value can ve deleted using del\n",
        "my_variable1 = 20\n",
        "my_variable2 = \"ganeshchowdary\"\n",
        "\n",
        "# check if my_variable1 and my_variable2 exists\n",
        "print(my_variable1)\n",
        "print(my_variable2)\n",
        "\n",
        "# del both the variables\n",
        "del my_variable1\n",
        "del my_variable2\n",
        "\n",
        "# check if my_variable1 and my_variable2 exists\n",
        "print(my_variable1)\n",
        "print(my_variable2)\n"
      ],
      "metadata": {
        "colab": {
          "base_uri": "https://localhost:8080/",
          "height": 262
        },
        "id": "eM0Xh8lD8wTm",
        "outputId": "a89aea8d-d4c5-43f9-c7ab-945de4938891"
      },
      "execution_count": 60,
      "outputs": [
        {
          "output_type": "stream",
          "name": "stdout",
          "text": [
            "20\n",
            "ganeshchowdary\n"
          ]
        },
        {
          "output_type": "error",
          "ename": "NameError",
          "evalue": "ignored",
          "traceback": [
            "\u001b[0;31m---------------------------------------------------------------------------\u001b[0m",
            "\u001b[0;31mNameError\u001b[0m                                 Traceback (most recent call last)",
            "\u001b[0;32m<ipython-input-60-2abce4854d02>\u001b[0m in \u001b[0;36m<cell line: 14>\u001b[0;34m()\u001b[0m\n\u001b[1;32m     12\u001b[0m \u001b[0;34m\u001b[0m\u001b[0m\n\u001b[1;32m     13\u001b[0m \u001b[0;31m# check if my_variable1 and my_variable2 exists\u001b[0m\u001b[0;34m\u001b[0m\u001b[0;34m\u001b[0m\u001b[0m\n\u001b[0;32m---> 14\u001b[0;31m \u001b[0mprint\u001b[0m\u001b[0;34m(\u001b[0m\u001b[0mmy_variable1\u001b[0m\u001b[0;34m)\u001b[0m\u001b[0;34m\u001b[0m\u001b[0;34m\u001b[0m\u001b[0m\n\u001b[0m\u001b[1;32m     15\u001b[0m \u001b[0mprint\u001b[0m\u001b[0;34m(\u001b[0m\u001b[0mmy_variable2\u001b[0m\u001b[0;34m)\u001b[0m\u001b[0;34m\u001b[0m\u001b[0;34m\u001b[0m\u001b[0m\n",
            "\u001b[0;31mNameError\u001b[0m: name 'my_variable1' is not defined"
          ]
        }
      ]
    },
    {
      "cell_type": "code",
      "source": [
        "#Global and Nonlocal\n",
        "# global - used to define a variable inside the function to be of a global scope\n",
        "# non - local :works similar to the global,but rather than global this kw declares\n",
        "# variable to point to varible of outside enclosing function,incase of nested functions\n",
        "a = 15\n",
        "b = 10\n",
        "\n",
        "def add():\n",
        "  c = a+b\n",
        "  print(c)\n",
        "\n",
        "add()\n",
        "\n",
        "# non local keyword\n",
        "def fun():\n",
        "  var1 = 10\n",
        "  def gun():\n",
        "    # tell python explicitly that list\n",
        "    # has to access var1 intialized\n",
        "    # is fun on line 2\n",
        "    # using the keyword nonlocal\n",
        "    nonlocal var1\n",
        "\n",
        "    var1 = var1 +10\n",
        "    print(var1)\n",
        "  gun()\n",
        "fun()"
      ],
      "metadata": {
        "colab": {
          "base_uri": "https://localhost:8080/"
        },
        "id": "eKNegLkT-5eu",
        "outputId": "13390dab-50ac-44d8-a6d5-d83a9b3d1145"
      },
      "execution_count": 62,
      "outputs": [
        {
          "output_type": "stream",
          "name": "stdout",
          "text": [
            "25\n",
            "20\n"
          ]
        }
      ]
    }
  ]
}