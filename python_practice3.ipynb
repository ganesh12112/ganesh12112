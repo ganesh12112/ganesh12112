{
  "nbformat": 4,
  "nbformat_minor": 0,
  "metadata": {
    "colab": {
      "provenance": [],
      "authorship_tag": "ABX9TyOKNgWsjZqhOlbclwVEJ8mr",
      "include_colab_link": true
    },
    "kernelspec": {
      "name": "python3",
      "display_name": "Python 3"
    },
    "language_info": {
      "name": "python"
    }
  },
  "cells": [
    {
      "cell_type": "markdown",
      "metadata": {
        "id": "view-in-github",
        "colab_type": "text"
      },
      "source": [
        "<a href=\"https://colab.research.google.com/github/ganesh12112/ganesh12112/blob/main/python_practice3.ipynb\" target=\"_parent\"><img src=\"https://colab.research.google.com/assets/colab-badge.svg\" alt=\"Open In Colab\"/></a>"
      ]
    },
    {
      "cell_type": "code",
      "execution_count": null,
      "metadata": {
        "colab": {
          "base_uri": "https://localhost:8080/"
        },
        "id": "mDjU-iau6eff",
        "outputId": "69d85ac1-8b56-408a-8f69-58a849b0ba6d"
      },
      "outputs": [
        {
          "output_type": "stream",
          "name": "stdout",
          "text": [
            "Original List: [4, 8, 2, 10, 15, 18]\n",
            "After cloning: [4, 8, 2, 10, 15, 18]\n"
          ]
        }
      ],
      "source": [
        "# cloning or copying a list\n",
        "def cloning(li1):\n",
        "  li_copy = li1[:]\n",
        "  return li_copy\n",
        "\n",
        "# Driver Code\n",
        "li1 = [4,8,2,10,15,18]\n",
        "li2 = cloning(li1)\n",
        "\n",
        "print(\"Original List:\",li1)\n",
        "print(\"After cloning:\",li2)"
      ]
    },
    {
      "cell_type": "code",
      "source": [
        "# using the extend() method\n",
        "def cloning(li1):\n",
        "  li_copy = []\n",
        "  li_copy.extend(li1)\n",
        "  return li_copy\n",
        "\n",
        "li1 = [4,8,2,10,15,18]\n",
        "li2 = cloning(li1)\n",
        "print(\"Original List:\",li1)\n",
        "print(\"After cloning:\",li2)"
      ],
      "metadata": {
        "colab": {
          "base_uri": "https://localhost:8080/"
        },
        "id": "d56VRGiL-iSl",
        "outputId": "49bf924c-d476-46cb-bbd8-40e6fdffdf5d"
      },
      "execution_count": null,
      "outputs": [
        {
          "output_type": "stream",
          "name": "stdout",
          "text": [
            "Original List: [4, 8, 2, 10, 15, 18]\n",
            "After cloning: [4, 8, 2, 10, 15, 18]\n"
          ]
        }
      ]
    },
    {
      "cell_type": "code",
      "source": [
        "#  List copy using =(assignment operator)\n",
        "def cloning(li1):\n",
        "  li_copy = li1\n",
        "  return li_copy\n",
        "#driver code\n",
        "li1 = [4,8,2,10,15,18]\n",
        "li2 = cloning(li1)\n",
        "print(\"Original List:\",li1)\n",
        "print(\"After cloning:\",li2)"
      ],
      "metadata": {
        "colab": {
          "base_uri": "https://localhost:8080/"
        },
        "id": "oo_wj_jup9Ol",
        "outputId": "48a25f10-83ed-4fe2-9150-a8a1371f68b2"
      },
      "execution_count": null,
      "outputs": [
        {
          "output_type": "stream",
          "name": "stdout",
          "text": [
            "Original List: [4, 8, 2, 10, 15, 18]\n",
            "After cloning: [4, 8, 2, 10, 15, 18]\n"
          ]
        }
      ]
    },
    {
      "cell_type": "code",
      "source": [
        "# using method of shallow copy\n",
        "import copy\n",
        "\n",
        "li1 = [1,2,[3,5],4]\n",
        "# using copy for shallow copy\n",
        "li2 = copy.copy(li1)\n",
        "\n",
        "print(li2)"
      ],
      "metadata": {
        "colab": {
          "base_uri": "https://localhost:8080/"
        },
        "id": "nZRVGlymq_kK",
        "outputId": "935e141a-11b0-41ba-a95f-c6509ad13693"
      },
      "execution_count": null,
      "outputs": [
        {
          "output_type": "stream",
          "name": "stdout",
          "text": [
            "[1, 2, [3, 5], 4]\n"
          ]
        }
      ]
    },
    {
      "cell_type": "code",
      "source": [
        "# using list comprehension\n",
        "def cloning(li1):\n",
        "  li_copy = [i for i in li1]\n",
        "  return li_copy\n",
        "# Driver code\n",
        "li1 = [4,8,2,10,15,18]\n",
        "li2 = cloning(li1)\n",
        "print(\"Original List:\",li1)\n",
        "print(\"After cloning:\",li2)"
      ],
      "metadata": {
        "colab": {
          "base_uri": "https://localhost:8080/"
        },
        "id": "uq0MKtsCsAIo",
        "outputId": "214cbcc0-2b2c-42dd-99cd-69cbef94cd55"
      },
      "execution_count": null,
      "outputs": [
        {
          "output_type": "stream",
          "name": "stdout",
          "text": [
            "Original List: [4, 8, 2, 10, 15, 18]\n",
            "After cloning: [4, 8, 2, 10, 15, 18]\n"
          ]
        }
      ]
    },
    {
      "cell_type": "code",
      "source": [
        "# using the append() method\n",
        "def cloning(li1):\n",
        "  li_copy = []\n",
        "  for item in li1: li_copy.append(item)\n",
        "  return li_copy\n",
        "# driver code\n",
        "li1 = [4,8,2,10,15,18]\n",
        "li2 = cloning(li1)\n",
        "print(\"Original List:\",li1)\n",
        "print(\"After cloning:\",li2)"
      ],
      "metadata": {
        "colab": {
          "base_uri": "https://localhost:8080/"
        },
        "id": "bDN6l2Pbs1Ox",
        "outputId": "5419be9f-fe51-453a-cbef-d1a69a267fd9"
      },
      "execution_count": null,
      "outputs": [
        {
          "output_type": "stream",
          "name": "stdout",
          "text": [
            "Original List: [4, 8, 2, 10, 15, 18]\n",
            "After cloning: [4, 8, 2, 10, 15, 18]\n"
          ]
        }
      ]
    },
    {
      "cell_type": "code",
      "source": [
        "# using copy() method\n",
        "def cloning(li1):\n",
        "  li_copy = []\n",
        "  li_copy = li1.copy()\n",
        "  return li_copy\n",
        "\n",
        "li1 = [4,8,2,10,15,18]\n",
        "li2 = cloning(li1)\n",
        "print(\"Original List:\",li1)\n",
        "print(\"After cloning:\",li2)"
      ],
      "metadata": {
        "colab": {
          "base_uri": "https://localhost:8080/"
        },
        "id": "kn7l_-NFttI4",
        "outputId": "c02d0071-3bfa-49f1-e2c0-ddbd78edf295"
      },
      "execution_count": null,
      "outputs": [
        {
          "output_type": "stream",
          "name": "stdout",
          "text": [
            "Original List: [4, 8, 2, 10, 15, 18]\n",
            "After cloning: [4, 8, 2, 10, 15, 18]\n"
          ]
        }
      ]
    },
    {
      "cell_type": "code",
      "source": [
        "# using method of Deep copy\n",
        "import copy\n",
        "\n",
        "li1 = [1,2,[3,5],4]\n",
        "\n",
        "li3 = copy.deepcopy(li1)\n",
        "print(li3)"
      ],
      "metadata": {
        "colab": {
          "base_uri": "https://localhost:8080/"
        },
        "id": "t-8gDpNZucpi",
        "outputId": "e0b91c51-525c-40c4-e034-a6e9d85448e3"
      },
      "execution_count": null,
      "outputs": [
        {
          "output_type": "stream",
          "name": "stdout",
          "text": [
            "[1, 2, [3, 5], 4]\n"
          ]
        }
      ]
    },
    {
      "cell_type": "code",
      "source": [
        "# using enumerate function\n",
        "lst = [4,8,2,10,15,18]\n",
        "li_copy = list(i for a,i in enumerate(lst))\n",
        "print(\"Original List:\",lst)\n",
        "print(\"After cloning:\",li_copy)"
      ],
      "metadata": {
        "colab": {
          "base_uri": "https://localhost:8080/"
        },
        "id": "wztv6geQvVVB",
        "outputId": "7aa84f49-864f-4371-e95d-44ee49ec0de3"
      },
      "execution_count": null,
      "outputs": [
        {
          "output_type": "stream",
          "name": "stdout",
          "text": [
            "Original List: [4, 8, 2, 10, 15, 18]\n",
            "After cloning: [4, 8, 2, 10, 15, 18]\n"
          ]
        }
      ]
    },
    {
      "cell_type": "code",
      "source": [
        "# using the map()\n",
        "lst = [4,8,2,10,15,18]\n",
        "li_copy = map(int,lst)\n",
        "print(\"Original List:\",lst)\n",
        "print(\"After cloning:\",*li_copy)"
      ],
      "metadata": {
        "colab": {
          "base_uri": "https://localhost:8080/"
        },
        "id": "7vNMBWwCwErp",
        "outputId": "9e9fbe44-abb7-41f3-bb3c-124ab753f7e8"
      },
      "execution_count": null,
      "outputs": [
        {
          "output_type": "stream",
          "name": "stdout",
          "text": [
            "Original List: [4, 8, 2, 10, 15, 18]\n",
            "After cloning: 4 8 2 10 15 18\n"
          ]
        }
      ]
    },
    {
      "cell_type": "code",
      "source": [
        "# use slice() function\n",
        "lst = [4,8,2,10,15,18]\n",
        "li_copy = lst[slice(len(lst))]\n",
        "print(\"Original List:\",lst)\n",
        "print(\"After cloning:\",li_copy)"
      ],
      "metadata": {
        "colab": {
          "base_uri": "https://localhost:8080/"
        },
        "id": "a84ZabKMyMT6",
        "outputId": "9d4bef3a-8c38-4f58-9160-05b77c381af5"
      },
      "execution_count": null,
      "outputs": [
        {
          "output_type": "stream",
          "name": "stdout",
          "text": [
            "Original List: [4, 8, 2, 10, 15, 18]\n",
            "After cloning: [4, 8, 2, 10, 15, 18]\n"
          ]
        }
      ]
    },
    {
      "cell_type": "code",
      "source": [
        "# using the deque() function\n",
        "from collections import deque\n",
        "org_lst = [4,8,2,10,15,18]\n",
        "\n",
        "copied_lst = deque(org_lst) # deque object\n",
        "copied_lst = list(copied_lst)\n",
        "\n",
        "print(\"Original List:\",org_lst)\n",
        "print(\"After cloning:\",copied_lst)"
      ],
      "metadata": {
        "colab": {
          "base_uri": "https://localhost:8080/"
        },
        "id": "RSKu2xzRy306",
        "outputId": "dad15374-59b1-4192-9d20-6ff63967bb9b"
      },
      "execution_count": null,
      "outputs": [
        {
          "output_type": "stream",
          "name": "stdout",
          "text": [
            "Original List: [4, 8, 2, 10, 15, 18]\n",
            "After cloning: [4, 8, 2, 10, 15, 18]\n"
          ]
        }
      ]
    },
    {
      "cell_type": "code",
      "source": [
        "#  using reduce method():  #***********revise******************\n",
        "from functools import reduce\n",
        "def clone_list(li1):\n",
        "    return reduce(lambda x,y:x+[y],li1,[])\n",
        "\n",
        "li1 = [4,8,2,10,15,18]\n",
        "li2 = clone_list(li1)\n",
        "print(\"Original List:\",li1)\n",
        "print(\"After cloning:\",li2)"
      ],
      "metadata": {
        "colab": {
          "base_uri": "https://localhost:8080/"
        },
        "id": "AQO1Pqwi0u5Q",
        "outputId": "75f7637f-3455-47a1-b17a-6b805009c048"
      },
      "execution_count": null,
      "outputs": [
        {
          "output_type": "stream",
          "name": "stdout",
          "text": [
            "Original List: [4, 8, 2, 10, 15, 18]\n",
            "After cloning: [4, 8, 2, 10, 15, 18]\n"
          ]
        }
      ]
    },
    {
      "cell_type": "code",
      "source": [
        "# Sort the values of first list using second list in python\n",
        "def sort_list(lst1,lst2):\n",
        "  zipped_pairs = zip(lst2,lst1)\n",
        "  z = [x for _,x in sorted(zipped_pairs)]\n",
        "  return z\n",
        "\n",
        "x = [\"a\",\"b\",\"c\",\"d\",\"e\",\"f\",\"g\",\"h\",\"i\"]\n",
        "y = [0,   1,   1,  0,  1,  2,  0,  2,  1]\n",
        "print(sort_list(x,y))\n",
        "\n",
        "x = [\"g\", \"e\", \"e\", \"k\", \"s\", \"f\", \"o\", \"r\", \"g\", \"e\", \"e\", \"k\", \"s\"]\n",
        "y = [0,   1,   1,    0,   1,   2,   2,   0,   1]\n",
        "\n",
        "print(sort_list(x,y))"
      ],
      "metadata": {
        "colab": {
          "base_uri": "https://localhost:8080/"
        },
        "id": "Lbcvcjl43EsJ",
        "outputId": "c08f93f5-7334-4eef-bd4b-098f1a656dfb"
      },
      "execution_count": null,
      "outputs": [
        {
          "output_type": "stream",
          "name": "stdout",
          "text": [
            "['a', 'd', 'g', 'b', 'c', 'e', 'i', 'f', 'h']\n",
            "['g', 'k', 'r', 'e', 'e', 'g', 's', 'f', 'o']\n"
          ]
        }
      ]
    },
    {
      "cell_type": "code",
      "source": [
        "# By using dictionary,list comprehension ,lambda function\n",
        "def sorting_of_element(lst1,lst2):\n",
        "  f_1 = {} # intializing empty dictionary\n",
        "\n",
        "  final_list =[]  # intializing empty list\n",
        "  # addition of two lists in one dictionary\n",
        "  f_1 ={lst1[i]:lst2[i] for i in range(len(lst2))}\n",
        "\n",
        "  # sorting of dictionary based on value\n",
        "  f_lst = {k: v for k,v in sorted(f_1.items(),key=lambda item:item[1])}\n",
        "\n",
        "  # element addition in the list\n",
        "  for i in f_lst.keys():\n",
        "    final_list.append(i)\n",
        "  return final_list\n",
        "\n",
        "lst1 = [\"a\", \"b\", \"c\", \"d\", \"e\", \"f\", \"g\", \"h\", \"i\"]\n",
        "lst2 = [0,   1,   1,    0,   1,   2,   2,   0,   1]\n",
        "\n",
        "lst3 = sorting_of_element(lst1,lst2)\n",
        "print(lst3)"
      ],
      "metadata": {
        "colab": {
          "base_uri": "https://localhost:8080/"
        },
        "id": "pWz-fylb7l-X",
        "outputId": "0a7871c1-525c-486b-9ed8-87ab91ad79a6"
      },
      "execution_count": null,
      "outputs": [
        {
          "output_type": "stream",
          "name": "stdout",
          "text": [
            "['a', 'd', 'h', 'b', 'c', 'e', 'i', 'f', 'g']\n"
          ]
        }
      ]
    },
    {
      "cell_type": "code",
      "source": [
        "# using sort(),list() and set()\n",
        "lst1 = [\"a\", \"b\", \"c\", \"d\", \"e\", \"f\", \"g\", \"h\", \"i\"]\n",
        "lst2 = [0,   1,   1,    0,   1,   2,   2,   0,   1]\n",
        "\n",
        "a = list(set(lst2))\n",
        "a.sort()\n",
        "res = []\n",
        "for i in a:\n",
        "  for j in range(0,len(lst2)):\n",
        "    if lst2[j] == i:\n",
        "      res.append(lst1[j])\n",
        "print(res)"
      ],
      "metadata": {
        "colab": {
          "base_uri": "https://localhost:8080/"
        },
        "id": "Ee3WZghc2Qpw",
        "outputId": "1321f68d-b48f-4b6a-b526-4304f9c098f6"
      },
      "execution_count": null,
      "outputs": [
        {
          "output_type": "stream",
          "name": "stdout",
          "text": [
            "['a', 'd', 'h', 'b', 'c', 'e', 'i', 'f', 'g']\n"
          ]
        }
      ]
    },
    {
      "cell_type": "code",
      "source": [
        "# using collections.OrderedDict()\n",
        "from collections import OrderedDict\n",
        "lst1 = [\"a\", \"b\", \"c\", \"d\", \"e\", \"f\", \"g\", \"h\", \"i\"]\n",
        "lst2 = [0,   1,   1,    0,   1,   2,   2,   0,   1]\n",
        "d = OrderedDict(zip(lst1,lst2))\n",
        "res = lst(OrderedDict(sorted(d.items(),key=lambda x: x[1])))\n",
        "print(res)"
      ],
      "metadata": {
        "id": "OjG9UMLW31mW"
      },
      "execution_count": null,
      "outputs": []
    },
    {
      "cell_type": "code",
      "source": [
        "# using the numpy.argsort() function with fancy indexing\n",
        "import numpy as np\n",
        "\n",
        "def sort_list(lst1,lst2):\n",
        "# use the numpy's argsort function to get the indices that would sort the second list\n",
        "    idx = np.argsort(lst2)\n",
        "# Index  the first lst using the sorted indices and return the result as numpy array\n",
        "    return  np.array(lst1)[idx]\n",
        "\n",
        "x = [\"a\", \"b\", \"c\", \"d\", \"e\", \"f\", \"g\", \"h\", \"i\"]  # why it was taking other than arguments passed as correct?\n",
        "y = [0,   1,   1,    0,   1,   2,   2,   0,  1]\n",
        "\n",
        "print(sort_list(x,y))"
      ],
      "metadata": {
        "colab": {
          "base_uri": "https://localhost:8080/"
        },
        "id": "lg18QN916YS4",
        "outputId": "4e0526ad-ca26-4dc5-ff97-dfd0e978d3d9"
      },
      "execution_count": null,
      "outputs": [
        {
          "output_type": "stream",
          "name": "stdout",
          "text": [
            "['a' 'd' 'h' 'b' 'c' 'e' 'f' 'g']\n"
          ]
        }
      ]
    },
    {
      "cell_type": "code",
      "source": [
        "# list comprehension\n",
        "n = [1,2,3,4,5]\n",
        "squared = [x**2 for x in n]\n",
        "print(squared)"
      ],
      "metadata": {
        "colab": {
          "base_uri": "https://localhost:8080/"
        },
        "id": "7OE3opxzB0Cj",
        "outputId": "0e61f0f9-144a-4e98-cfae-c57f1a12d15e"
      },
      "execution_count": null,
      "outputs": [
        {
          "output_type": "stream",
          "name": "stdout",
          "text": [
            "[1, 4, 9, 16, 25]\n"
          ]
        }
      ]
    },
    {
      "cell_type": "code",
      "source": [
        "# iterate through loop\n",
        "list = [character for character in [1,2,3]]\n",
        "print(list)"
      ],
      "metadata": {
        "colab": {
          "base_uri": "https://localhost:8080/"
        },
        "id": "mjLdTOYCDxOt",
        "outputId": "ecac2fb8-a43d-4105-fec2-64d191b7c751"
      },
      "execution_count": null,
      "outputs": [
        {
          "output_type": "stream",
          "name": "stdout",
          "text": [
            "[1, 2, 3]\n"
          ]
        }
      ]
    },
    {
      "cell_type": "code",
      "source": [
        "# even list using comprehension\n",
        "lst = [i for i in range(11) if i % 2 == 0]\n",
        "print(lst)"
      ],
      "metadata": {
        "colab": {
          "base_uri": "https://localhost:8080/"
        },
        "id": "3lw9wIpEERzW",
        "outputId": "b3e2447c-88ce-4f86-bbc0-2b48972383b7"
      },
      "execution_count": null,
      "outputs": [
        {
          "output_type": "stream",
          "name": "stdout",
          "text": [
            "[0, 2, 4, 6, 8, 10]\n"
          ]
        }
      ]
    },
    {
      "cell_type": "code",
      "source": [
        "# matrix using list comprehension\n",
        "matrix = [[j for j in range(3)] for i in range(3)]\n",
        "print(matrix)"
      ],
      "metadata": {
        "colab": {
          "base_uri": "https://localhost:8080/"
        },
        "id": "lPYwrPP5ErbY",
        "outputId": "4cfa315a-859b-40f3-9c24-17446403463e"
      },
      "execution_count": null,
      "outputs": [
        {
          "output_type": "stream",
          "name": "stdout",
          "text": [
            "[[0, 1, 2], [0, 1, 2], [0, 1, 2]]\n"
          ]
        }
      ]
    },
    {
      "cell_type": "code",
      "source": [
        "# list comprehension vs For loop\n",
        "lst = []\n",
        "for character in 'Ganesh chowdary!':\n",
        "   lst.append(character)\n",
        "\n",
        "print(lst)"
      ],
      "metadata": {
        "colab": {
          "base_uri": "https://localhost:8080/"
        },
        "id": "lAuJJBCAGAE_",
        "outputId": "9b2e5cf6-480e-4c13-dac7-a96e7732ea0d"
      },
      "execution_count": null,
      "outputs": [
        {
          "output_type": "stream",
          "name": "stdout",
          "text": [
            "['G', 'a', 'n', 'e', 's', 'h', ' ', 'c', 'h', 'o', 'w', 'd', 'a', 'r', 'y', '!']\n"
          ]
        }
      ]
    },
    {
      "cell_type": "code",
      "source": [
        "# time analysis in list comprehensions and loop   ***** REvise******\n",
        "import time\n",
        "\n",
        "def for_loop(n):\n",
        "  result = []\n",
        "  for i in range(n):\n",
        "    result.append(i**2)\n",
        "  return result\n",
        "\n",
        "def list_comprehension(n):\n",
        "  return [i**2 for i in range(n)]\n",
        "\n",
        "# calculate time taken by for_loop()\n",
        "begin = time.time()\n",
        "for_loop(10**6)\n",
        "end = time.time()\n",
        "\n",
        "# display time taken by for_loop()\n",
        "print('Time taken for_loop:',round(end-begin,2))\n",
        "\n",
        "# calculate time taken by list_comprehension()\n",
        "begin = time.time()\n",
        "list_comprehension(10**6)\n",
        "end = time.time()\n",
        "\n",
        "# display time taken by for_loop()\n",
        "print('Time taken for list_comprehension:',round(end-begin,2))"
      ],
      "metadata": {
        "colab": {
          "base_uri": "https://localhost:8080/"
        },
        "id": "V53NhxWXG_sB",
        "outputId": "8bab8541-6855-4f9a-fc27-fc61806715e6"
      },
      "execution_count": null,
      "outputs": [
        {
          "output_type": "stream",
          "name": "stdout",
          "text": [
            "Time taken for_loop: 0.67\n",
            "Time taken for list_comprehension: 0.57\n"
          ]
        }
      ]
    },
    {
      "cell_type": "code",
      "source": [
        "# Nested list comprehensions\n",
        "matrix = []\n",
        "for i in range(3):\n",
        "  # append an empty sublist inside the list\n",
        "  matrix.append([])\n",
        "\n",
        "  for j in range(5):\n",
        "    matrix[i].append(j)\n",
        "print(matrix)"
      ],
      "metadata": {
        "colab": {
          "base_uri": "https://localhost:8080/"
        },
        "id": "OPNCO7zlPvsi",
        "outputId": "265d32e1-fed4-49f7-a043-6856a60372e6"
      },
      "execution_count": null,
      "outputs": [
        {
          "output_type": "stream",
          "name": "stdout",
          "text": [
            "[[0, 1, 2, 3, 4], [0, 1, 2, 3, 4], [0, 1, 2, 3, 4]]\n"
          ]
        }
      ]
    },
    {
      "cell_type": "code",
      "source": [
        "# nested list comprehensions ,\n",
        "matrix = [[j for j in range(5)] for i in range(3)]\n",
        "print(matrix)"
      ],
      "metadata": {
        "colab": {
          "base_uri": "https://localhost:8080/"
        },
        "id": "k5qoWYdGQlUK",
        "outputId": "49b6b83d-bd35-4490-ddc2-0f54e0cb8676"
      },
      "execution_count": null,
      "outputs": [
        {
          "output_type": "stream",
          "name": "stdout",
          "text": [
            "[[0, 1, 2, 3, 4], [0, 1, 2, 3, 4], [0, 1, 2, 3, 4]]\n"
          ]
        }
      ]
    },
    {
      "cell_type": "code",
      "source": [
        "# LIST comprehension and lambda\n",
        "numbers = []\n",
        "for i in range(1,6):\n",
        "  numbers.append(i*10)\n",
        "print(numbers)"
      ],
      "metadata": {
        "colab": {
          "base_uri": "https://localhost:8080/"
        },
        "id": "d3_SDF6QRWDW",
        "outputId": "04d7984d-403a-44c7-c01b-14c4516a3961"
      },
      "execution_count": null,
      "outputs": [
        {
          "output_type": "stream",
          "name": "stdout",
          "text": [
            "[10, 20, 30, 40, 50]\n"
          ]
        }
      ]
    },
    {
      "cell_type": "code",
      "source": [
        "#list comprehension\n",
        "numbers = [i*10 for i in range(1,6)]\n",
        "print(numbers)"
      ],
      "metadata": {
        "colab": {
          "base_uri": "https://localhost:8080/"
        },
        "id": "aGPoQm0aR3CU",
        "outputId": "a4d0f828-8319-4434-b84a-31dc07b6f52a"
      },
      "execution_count": null,
      "outputs": [
        {
          "output_type": "stream",
          "name": "stdout",
          "text": [
            "[10, 20, 30, 40, 50]\n"
          ]
        }
      ]
    },
    {
      "cell_type": "code",
      "source": [
        "# using lambda()\n",
        "numbers = list(map(lambda i: i*10,[i for i in range(1,6)]))\n",
        "print(numbers)"
      ],
      "metadata": {
        "colab": {
          "base_uri": "https://localhost:8080/"
        },
        "id": "NreLx-fdSIfN",
        "outputId": "e9cfd516-fce2-4cea-955b-bd5b3d3a7be3"
      },
      "execution_count": null,
      "outputs": [
        {
          "output_type": "stream",
          "name": "stdout",
          "text": [
            "[10, 20, 30, 40, 50]\n"
          ]
        }
      ]
    },
    {
      "cell_type": "code",
      "source": [
        "# conditionals in List comprehension\n",
        "# python List comprehension using if-else\n",
        "lis = [\"even number\" if i%2 == 0\n",
        "       else \"odd number\" for i in range(8)]\n",
        "print(lis)"
      ],
      "metadata": {
        "id": "ob_ozYOvTeqT",
        "colab": {
          "base_uri": "https://localhost:8080/"
        },
        "outputId": "a0417828-16bf-4df4-9e32-5dc384fcd2d4"
      },
      "execution_count": null,
      "outputs": [
        {
          "output_type": "stream",
          "name": "stdout",
          "text": [
            "['even number', 'odd number', 'even number', 'odd number', 'even number', 'odd number', 'even number', 'odd number']\n"
          ]
        }
      ]
    },
    {
      "cell_type": "code",
      "source": [
        "# nested IF with List Comprehension\n",
        "lis = [num for num in range(100)\n",
        "         if num%5 == 0 if num%10 == 0]\n",
        "print(lis)       # why it is giving 0 ????????????? o is itself a multiple of every number\n",
        "# what is difference between not defined and infinity?"
      ],
      "metadata": {
        "colab": {
          "base_uri": "https://localhost:8080/"
        },
        "id": "D2HuBeBavPlR",
        "outputId": "41c0a6cd-7f0b-4f62-d3e3-97840b24258e"
      },
      "execution_count": null,
      "outputs": [
        {
          "output_type": "stream",
          "name": "stdout",
          "text": [
            "[0, 10, 20, 30, 40, 50, 60, 70, 80, 90]\n"
          ]
        }
      ]
    },
    {
      "cell_type": "code",
      "source": [
        "# square of numbers\n",
        "li = [n**2 for n in range(1,11)]\n",
        "\n",
        "print(li)"
      ],
      "metadata": {
        "colab": {
          "base_uri": "https://localhost:8080/"
        },
        "id": "1J-SFZG4yNoL",
        "outputId": "1b68bb04-11fb-41b9-f575-6b35c18d6f08"
      },
      "execution_count": null,
      "outputs": [
        {
          "output_type": "stream",
          "name": "stdout",
          "text": [
            "[1, 4, 9, 16, 25, 36, 49, 64, 81, 100]\n"
          ]
        }
      ]
    },
    {
      "cell_type": "code",
      "source": [
        "# display transpore of 2D - Matrix axis - 1 and axis -0 ***** revise*******\n",
        "twoDMatrix = [[10, 20, 30],\n",
        "              [40, 50, 60],\n",
        "              [70, 80, 90]]\n",
        "\n",
        "trans = [[i[j] for i in twoDMatrix] for j in range(len(twoDMatrix[0]))]\n",
        "\n",
        "print(trans)"
      ],
      "metadata": {
        "id": "dAQ-wMpAyuR1",
        "colab": {
          "base_uri": "https://localhost:8080/"
        },
        "outputId": "b1de387c-fb9c-4577-b322-01b315f76933"
      },
      "execution_count": null,
      "outputs": [
        {
          "output_type": "stream",
          "name": "stdout",
          "text": [
            "[[10, 40, 70], [20, 50, 80], [30, 60, 90]]\n"
          ]
        }
      ]
    },
    {
      "cell_type": "code",
      "source": [
        "# toggle the case of each character in a string  ***revise***\n",
        "string = 'ganeshchowdary'  #XOR OPERATOR\n",
        "list = list(map(lambda i: chr(ord(i)^32),string))\n",
        "print(list)"
      ],
      "metadata": {
        "id": "6WM0DlSgDhPL",
        "colab": {
          "base_uri": "https://localhost:8080/"
        },
        "outputId": "681a3ff5-6167-4f5d-a278-2328d4b955c2"
      },
      "execution_count": null,
      "outputs": [
        {
          "output_type": "stream",
          "name": "stdout",
          "text": [
            "['G', 'A', 'N', 'E', 'S', 'H', 'C', 'H', 'O', 'W', 'D', 'A', 'R', 'Y']\n"
          ]
        }
      ]
    },
    {
      "cell_type": "code",
      "source": [
        "# reverse each string in a tuple\n",
        "list = [string[::-1] for string in (\"ganesh\",\"chowdary\")]\n",
        "\n",
        "print(list)"
      ],
      "metadata": {
        "colab": {
          "base_uri": "https://localhost:8080/"
        },
        "id": "a2dg81EYFAs1",
        "outputId": "10a68557-7f36-4500-eb8c-7e2099989812"
      },
      "execution_count": null,
      "outputs": [
        {
          "output_type": "stream",
          "name": "stdout",
          "text": [
            "['hsenag', 'yradwohc']\n"
          ]
        }
      ]
    },
    {
      "cell_type": "code",
      "source": [
        "# creating a list of tuples from two seperate lists\n",
        "names = ['A','G','C']\n",
        "ages = [25,30,35]\n",
        "person_tuples = [(name,age) for name,age in zip(names,ages)]\n",
        "print(person_tuples)"
      ],
      "metadata": {
        "colab": {
          "base_uri": "https://localhost:8080/"
        },
        "id": "rqSVYuZuFoX6",
        "outputId": "dbbf31d5-b7ca-45bb-b517-31f3e5893143"
      },
      "execution_count": null,
      "outputs": [
        {
          "output_type": "stream",
          "name": "stdout",
          "text": [
            "[('A', 25), ('G', 30), ('C', 35)]\n"
          ]
        }
      ]
    },
    {
      "cell_type": "code",
      "source": [
        "# display the sum of digits of all the odd elements in a list\n",
        "def digitSum(n):\n",
        "  dsum = 0           # ************REVISE*****************\n",
        "  for ele in str(n):\n",
        "    dsum += int(ele)\n",
        "  return dsum\n",
        "\n",
        "list = [367,111,562,945,6726,873]\n",
        "# using the function on odd elements of the list\n",
        "newlist = [digitSum(i) for i in list if i & 1]\n",
        "\n",
        "print(newlist)"
      ],
      "metadata": {
        "colab": {
          "base_uri": "https://localhost:8080/"
        },
        "id": "pgNtSyZEGZ7X",
        "outputId": "43be7fd6-27a1-47d3-98be-fd58df8a85b7"
      },
      "execution_count": null,
      "outputs": [
        {
          "output_type": "stream",
          "name": "stdout",
          "text": [
            "[16, 3, 18, 18]\n"
          ]
        }
      ]
    },
    {
      "cell_type": "code",
      "source": [
        "# iterate over a list in python\n",
        "list = [1,2,3,4,5]\n",
        "for i in list:\n",
        "  print(i,end=\",\")"
      ],
      "metadata": {
        "colab": {
          "base_uri": "https://localhost:8080/"
        },
        "id": "lHPBGKMUIuHW",
        "outputId": "e746664c-76d3-447d-e952-9d7c5a833ca8"
      },
      "execution_count": null,
      "outputs": [
        {
          "output_type": "stream",
          "name": "stdout",
          "text": [
            "1,2,3,4,5,"
          ]
        }
      ]
    },
    {
      "cell_type": "code",
      "source": [
        "# for loop and range()\n",
        "lis = [1,2,3,4,5,6,7]\n",
        "len = len(lis)\n",
        "for i in range(len):\n",
        "  print(lis[i])"
      ],
      "metadata": {
        "colab": {
          "base_uri": "https://localhost:8080/",
          "height": 245
        },
        "id": "SAMyohgNJSSc",
        "outputId": "e3f1d92c-f189-41b5-ad8a-0d206ad5dcae"
      },
      "execution_count": 29,
      "outputs": [
        {
          "output_type": "error",
          "ename": "TypeError",
          "evalue": "ignored",
          "traceback": [
            "\u001b[0;31m---------------------------------------------------------------------------\u001b[0m",
            "\u001b[0;31mTypeError\u001b[0m                                 Traceback (most recent call last)",
            "\u001b[0;32m<ipython-input-29-4074cbe279b1>\u001b[0m in \u001b[0;36m<cell line: 3>\u001b[0;34m()\u001b[0m\n\u001b[1;32m      1\u001b[0m \u001b[0;31m# for loop and range()\u001b[0m\u001b[0;34m\u001b[0m\u001b[0;34m\u001b[0m\u001b[0m\n\u001b[1;32m      2\u001b[0m \u001b[0mlis\u001b[0m \u001b[0;34m=\u001b[0m \u001b[0;34m[\u001b[0m\u001b[0;36m1\u001b[0m\u001b[0;34m,\u001b[0m\u001b[0;36m2\u001b[0m\u001b[0;34m,\u001b[0m\u001b[0;36m3\u001b[0m\u001b[0;34m,\u001b[0m\u001b[0;36m4\u001b[0m\u001b[0;34m,\u001b[0m\u001b[0;36m5\u001b[0m\u001b[0;34m,\u001b[0m\u001b[0;36m6\u001b[0m\u001b[0;34m,\u001b[0m\u001b[0;36m7\u001b[0m\u001b[0;34m]\u001b[0m\u001b[0;34m\u001b[0m\u001b[0;34m\u001b[0m\u001b[0m\n\u001b[0;32m----> 3\u001b[0;31m \u001b[0mlen\u001b[0m \u001b[0;34m=\u001b[0m \u001b[0mlen\u001b[0m\u001b[0;34m(\u001b[0m\u001b[0mlis\u001b[0m\u001b[0;34m)\u001b[0m\u001b[0;34m\u001b[0m\u001b[0;34m\u001b[0m\u001b[0m\n\u001b[0m\u001b[1;32m      4\u001b[0m \u001b[0;32mfor\u001b[0m \u001b[0mi\u001b[0m \u001b[0;32min\u001b[0m \u001b[0mrange\u001b[0m\u001b[0;34m(\u001b[0m\u001b[0mlen\u001b[0m\u001b[0;34m)\u001b[0m\u001b[0;34m:\u001b[0m\u001b[0;34m\u001b[0m\u001b[0;34m\u001b[0m\u001b[0m\n\u001b[1;32m      5\u001b[0m   \u001b[0mprint\u001b[0m\u001b[0;34m(\u001b[0m\u001b[0mlis\u001b[0m\u001b[0;34m[\u001b[0m\u001b[0mi\u001b[0m\u001b[0;34m]\u001b[0m\u001b[0;34m)\u001b[0m\u001b[0;34m\u001b[0m\u001b[0;34m\u001b[0m\u001b[0m\n",
            "\u001b[0;31mTypeError\u001b[0m: 'int' object is not callable"
          ]
        }
      ]
    },
    {
      "cell_type": "code",
      "source": [
        "# using while loop\n",
        "lst = [1,2,3,4,6,7]\n",
        "\n",
        "i = 0\n",
        "\n",
        "while i< len(lst):\n",
        "  print(lst[i])\n",
        "  i += 1\n"
      ],
      "metadata": {
        "colab": {
          "base_uri": "https://localhost:8080/",
          "height": 245
        },
        "id": "4ze4xHlyKBPx",
        "outputId": "b7accaca-3c60-4d78-b063-076e2b80f638"
      },
      "execution_count": null,
      "outputs": [
        {
          "output_type": "error",
          "ename": "TypeError",
          "evalue": "ignored",
          "traceback": [
            "\u001b[0;31m---------------------------------------------------------------------------\u001b[0m",
            "\u001b[0;31mTypeError\u001b[0m                                 Traceback (most recent call last)",
            "\u001b[0;32m<ipython-input-27-1a405c0eaf6c>\u001b[0m in \u001b[0;36m<cell line: 6>\u001b[0;34m()\u001b[0m\n\u001b[1;32m      4\u001b[0m \u001b[0mi\u001b[0m \u001b[0;34m=\u001b[0m \u001b[0;36m0\u001b[0m\u001b[0;34m\u001b[0m\u001b[0;34m\u001b[0m\u001b[0m\n\u001b[1;32m      5\u001b[0m \u001b[0;34m\u001b[0m\u001b[0m\n\u001b[0;32m----> 6\u001b[0;31m \u001b[0;32mwhile\u001b[0m \u001b[0mi\u001b[0m\u001b[0;34m<\u001b[0m \u001b[0mlen\u001b[0m\u001b[0;34m(\u001b[0m\u001b[0mlst\u001b[0m\u001b[0;34m)\u001b[0m\u001b[0;34m:\u001b[0m\u001b[0;34m\u001b[0m\u001b[0;34m\u001b[0m\u001b[0m\n\u001b[0m\u001b[1;32m      7\u001b[0m   \u001b[0mprint\u001b[0m\u001b[0;34m(\u001b[0m\u001b[0mlst\u001b[0m\u001b[0;34m[\u001b[0m\u001b[0mi\u001b[0m\u001b[0;34m]\u001b[0m\u001b[0;34m)\u001b[0m\u001b[0;34m\u001b[0m\u001b[0;34m\u001b[0m\u001b[0m\n\u001b[1;32m      8\u001b[0m   \u001b[0mi\u001b[0m \u001b[0;34m+=\u001b[0m \u001b[0;36m1\u001b[0m\u001b[0;34m\u001b[0m\u001b[0;34m\u001b[0m\u001b[0m\n",
            "\u001b[0;31mTypeError\u001b[0m: 'int' object is not callable"
          ]
        }
      ]
    },
    {
      "cell_type": "code",
      "source": [
        "list = [1, 3, 5, 7, 9]\n",
        "[print(i) for i in list]"
      ],
      "metadata": {
        "colab": {
          "base_uri": "https://localhost:8080/"
        },
        "id": "Fc3OJrQ8LveY",
        "outputId": "7f061070-ccdc-4e62-c8c6-96c171033eb2"
      },
      "execution_count": 30,
      "outputs": [
        {
          "output_type": "stream",
          "name": "stdout",
          "text": [
            "1\n",
            "3\n",
            "5\n",
            "7\n",
            "9\n"
          ]
        },
        {
          "output_type": "execute_result",
          "data": {
            "text/plain": [
              "[None, None, None, None, None]"
            ]
          },
          "metadata": {},
          "execution_count": 30
        }
      ]
    },
    {
      "cell_type": "code",
      "source": [
        "# iterate using enumerate()\n",
        "list = [1,23,4,67,7,6]\n",
        "\n",
        "for i,val in enumerate(list):\n",
        "  print(i ,' ',val)"
      ],
      "metadata": {
        "colab": {
          "base_uri": "https://localhost:8080/"
        },
        "id": "uVsDhFaHMA6u",
        "outputId": "7fad1007-45ea-49b3-a34a-d5ed089ef017"
      },
      "execution_count": 35,
      "outputs": [
        {
          "output_type": "stream",
          "name": "stdout",
          "text": [
            "0   1\n",
            "1   23\n",
            "2   4\n",
            "3   67\n",
            "4   7\n",
            "5   6\n"
          ]
        }
      ]
    },
    {
      "cell_type": "code",
      "source": [
        "# using numpy iterate\n",
        "import numpy as np\n",
        "a = np.arange(9)\n",
        "# shape array with 3 rows and 3  columns\n",
        "a = a.reshape(3,3)\n",
        "# iterating an array\n",
        "for x in np.nditer(a):\n",
        "  print(x,end=\" \")\n",
        "\n",
        "print(a)"
      ],
      "metadata": {
        "colab": {
          "base_uri": "https://localhost:8080/"
        },
        "id": "-fwgthebMe_n",
        "outputId": "f55894cb-e4b1-4c24-d322-65d0d017ee15"
      },
      "execution_count": 40,
      "outputs": [
        {
          "output_type": "stream",
          "name": "stdout",
          "text": [
            "0 1 2 3 4 5 6 7 8 [[0 1 2]\n",
            " [3 4 5]\n",
            " [6 7 8]]\n"
          ]
        }
      ]
    },
    {
      "cell_type": "code",
      "source": [
        "# iterate by using iter function\n",
        "list = [1,23,4,67,7,6]   #****REVISE******\n",
        "# create an iterator object using the iter function\n",
        "iterator = iter(list)\n",
        "\n",
        "# use the next() to retrieve the elements of the iterator\n",
        "try:\n",
        "  while True:\n",
        "    element = next(iterator)\n",
        "    print(element)\n",
        "except StopIteration:\n",
        "  pass\n"
      ],
      "metadata": {
        "colab": {
          "base_uri": "https://localhost:8080/"
        },
        "id": "A0824LVWNiVa",
        "outputId": "8d1af731-ce65-45a9-a2a7-ad959f935005"
      },
      "execution_count": 41,
      "outputs": [
        {
          "output_type": "stream",
          "name": "stdout",
          "text": [
            "1\n",
            "23\n",
            "4\n",
            "67\n",
            "7\n",
            "6\n"
          ]
        }
      ]
    },
    {
      "cell_type": "code",
      "source": [
        "# Iterate using map() ****** Revise*****\n",
        "def print_element(ele):\n",
        "    print(ele)\n",
        "\n",
        "my_lst = [1,23,3,455,76,8]\n",
        "\n",
        "result = map(print_element,my_lst)\n",
        "\n",
        "for _ in result:\n",
        "  pass"
      ],
      "metadata": {
        "colab": {
          "base_uri": "https://localhost:8080/"
        },
        "id": "bsSWHF4KPZ6d",
        "outputId": "a492314c-fcc9-4859-daf1-32b4f8e263e5"
      },
      "execution_count": 43,
      "outputs": [
        {
          "output_type": "stream",
          "name": "stdout",
          "text": [
            "1\n",
            "23\n",
            "3\n",
            "455\n",
            "76\n",
            "8\n"
          ]
        }
      ]
    },
    {
      "cell_type": "code",
      "source": [
        "# Itearate over multiple lists simultaneously\n",
        "# zip()\n",
        "import itertools\n",
        "num = [1,2,3]\n",
        "color = ['red','white','blak']\n",
        "value = [255,256]\n",
        "# iterates over 3 lists and executes 2 times as len(value) = 2 which is the min\n",
        "# among all the three\n",
        "for (a,b,c) in zip(num,color,value):\n",
        "  print(a,b,c)"
      ],
      "metadata": {
        "colab": {
          "base_uri": "https://localhost:8080/"
        },
        "id": "oM_07YQDQ3qX",
        "outputId": "ee9c0e90-b24c-4a80-c94b-c99f8a6156ee"
      },
      "execution_count": 44,
      "outputs": [
        {
          "output_type": "stream",
          "name": "stdout",
          "text": [
            "1 red 255\n",
            "2 white 256\n"
          ]
        }
      ]
    },
    {
      "cell_type": "code",
      "source": [
        "# itertools.zip_longest()\n",
        "import itertools\n",
        "\n",
        "num = [1,2,3]\n",
        "color = ['red','white','blak']\n",
        "value = [255,256]\n",
        "\n",
        "for (a,b,c) in itertools.zip_longest(num,color,value):\n",
        "  print(a,b,c)"
      ],
      "metadata": {
        "colab": {
          "base_uri": "https://localhost:8080/"
        },
        "id": "KzAeZ_nFSeiQ",
        "outputId": "8fdad0ae-94a1-4c3f-e51e-1e35593df4d9"
      },
      "execution_count": 45,
      "outputs": [
        {
          "output_type": "stream",
          "name": "stdout",
          "text": [
            "1 red 255\n",
            "2 white 256\n",
            "3 blak None\n"
          ]
        }
      ]
    },
    {
      "cell_type": "code",
      "source": [
        "# we can also fill specific value to default None by fillvalue = -1 or t\n",
        "import itertools\n",
        "\n",
        "num = [1,2,3]\n",
        "color = ['red','white','blak']\n",
        "value = [255,256]\n",
        "\n",
        "for (a,b,c) in itertools.zip_longest(num,color,value,fillvalue=8):\n",
        "  print(a,b,c)"
      ],
      "metadata": {
        "colab": {
          "base_uri": "https://localhost:8080/"
        },
        "id": "6TQPs6tjTO_m",
        "outputId": "191f676b-5b93-4af1-eb68-037487b3106e"
      },
      "execution_count": 46,
      "outputs": [
        {
          "output_type": "stream",
          "name": "stdout",
          "text": [
            "1 red 255\n",
            "2 white 256\n",
            "3 blak 8\n"
          ]
        }
      ]
    },
    {
      "cell_type": "code",
      "source": [
        "# using enumerate () to iterate over multiple lists\n",
        "list1 = [1, 2, 3]           # *****REVISE******\n",
        "list2 = ['a', 'b', 'c']\n",
        "list3 = ['x', 'y', 'z']\n",
        "\n",
        "for i,ele in enumerate(list1):\n",
        "  print(ele,list2[i],list3[i])"
      ],
      "metadata": {
        "colab": {
          "base_uri": "https://localhost:8080/"
        },
        "id": "lj-rTy3JT2qK",
        "outputId": "8b34e399-d6a4-4b86-dc21-0b2c45977d2a"
      },
      "execution_count": 50,
      "outputs": [
        {
          "output_type": "stream",
          "name": "stdout",
          "text": [
            "1 a x\n",
            "2 b y\n",
            "3 c z\n"
          ]
        }
      ]
    },
    {
      "cell_type": "code",
      "source": [
        "# using zip() multiple lists iteration\n",
        "for item1,item2,item3 in zip((1,2,3),('a','b','c'),(True,False,True)):\n",
        "  print(item1,item2,item3)"
      ],
      "metadata": {
        "colab": {
          "base_uri": "https://localhost:8080/"
        },
        "id": "CvPG_ulrUsPk",
        "outputId": "e325ca1a-9616-4f05-c218-c093c4502e01"
      },
      "execution_count": 51,
      "outputs": [
        {
          "output_type": "stream",
          "name": "stdout",
          "text": [
            "1 a True\n",
            "2 b False\n",
            "3 c True\n"
          ]
        }
      ]
    },
    {
      "cell_type": "code",
      "source": [
        "# list methods in python\n",
        "# append()\n",
        "List = ['Mathematics', 'chemistry', 1997, 2000]\n",
        "List.append(209877)\n",
        "print(List)"
      ],
      "metadata": {
        "colab": {
          "base_uri": "https://localhost:8080/"
        },
        "id": "yj35D8fLWRVn",
        "outputId": "fa61db6b-dcdb-47f8-d897-9f25ad457945"
      },
      "execution_count": 52,
      "outputs": [
        {
          "output_type": "stream",
          "name": "stdout",
          "text": [
            "['Mathematics', 'chemistry', 1997, 2000, 209877]\n"
          ]
        }
      ]
    },
    {
      "cell_type": "code",
      "source": [
        "# insert()\n",
        "list = ['Mathematics', 'chemistry', 1997, 2000]\n",
        "list.insert(2,1441414)\n",
        "print(list)"
      ],
      "metadata": {
        "colab": {
          "base_uri": "https://localhost:8080/"
        },
        "id": "WD0d2JtCXDTn",
        "outputId": "fddd03f6-158c-4b4d-ee1b-e0f173db97a3"
      },
      "execution_count": 53,
      "outputs": [
        {
          "output_type": "stream",
          "name": "stdout",
          "text": [
            "['Mathematics', 'chemistry', 1441414, 1997, 2000]\n"
          ]
        }
      ]
    },
    {
      "cell_type": "code",
      "source": [
        "# extend()\n",
        "lis = [1,2,3,4]\n",
        "lis1 = [5,6,7,8]\n",
        "lis.extend(lis1)\n",
        "print(lis)"
      ],
      "metadata": {
        "colab": {
          "base_uri": "https://localhost:8080/"
        },
        "id": "DwMlIxjNXdxO",
        "outputId": "b63622c9-ab88-44c4-9807-dcdc65da0631"
      },
      "execution_count": 54,
      "outputs": [
        {
          "output_type": "stream",
          "name": "stdout",
          "text": [
            "[1, 2, 3, 4, 5, 6, 7, 8]\n"
          ]
        }
      ]
    },
    {
      "cell_type": "code",
      "source": [
        "list = [1,2,4,5,6,7]\n",
        "print(sum(list))"
      ],
      "metadata": {
        "colab": {
          "base_uri": "https://localhost:8080/"
        },
        "id": "0jq7tn0tX7P3",
        "outputId": "7a569e92-d518-4894-ca97-70b9fb38e699"
      },
      "execution_count": 55,
      "outputs": [
        {
          "output_type": "stream",
          "name": "stdout",
          "text": [
            "25\n"
          ]
        }
      ]
    },
    {
      "cell_type": "code",
      "source": [
        "list = [1,2,4,5,6,7,7]\n",
        "print(list.count(7))"
      ],
      "metadata": {
        "colab": {
          "base_uri": "https://localhost:8080/"
        },
        "id": "8Inn4P2zYLCv",
        "outputId": "47287103-ad24-4fdb-cd2c-d8a3712c6991"
      },
      "execution_count": 57,
      "outputs": [
        {
          "output_type": "stream",
          "name": "stdout",
          "text": [
            "2\n"
          ]
        }
      ]
    },
    {
      "cell_type": "code",
      "source": [
        "list = [1,2,4,5,6,7]\n",
        "print(len(list))"
      ],
      "metadata": {
        "colab": {
          "base_uri": "https://localhost:8080/",
          "height": 192
        },
        "id": "ht8IgeWWYaou",
        "outputId": "09fd2a39-c193-443a-a8a7-1ec0ea74eaf1"
      },
      "execution_count": 59,
      "outputs": [
        {
          "output_type": "error",
          "ename": "TypeError",
          "evalue": "ignored",
          "traceback": [
            "\u001b[0;31m---------------------------------------------------------------------------\u001b[0m",
            "\u001b[0;31mTypeError\u001b[0m                                 Traceback (most recent call last)",
            "\u001b[0;32m<ipython-input-59-7f9dc9189772>\u001b[0m in \u001b[0;36m<cell line: 2>\u001b[0;34m()\u001b[0m\n\u001b[1;32m      1\u001b[0m \u001b[0mlist\u001b[0m \u001b[0;34m=\u001b[0m \u001b[0;34m[\u001b[0m\u001b[0;36m1\u001b[0m\u001b[0;34m,\u001b[0m\u001b[0;36m2\u001b[0m\u001b[0;34m,\u001b[0m\u001b[0;36m4\u001b[0m\u001b[0;34m,\u001b[0m\u001b[0;36m5\u001b[0m\u001b[0;34m,\u001b[0m\u001b[0;36m6\u001b[0m\u001b[0;34m,\u001b[0m\u001b[0;36m7\u001b[0m\u001b[0;34m]\u001b[0m\u001b[0;34m\u001b[0m\u001b[0;34m\u001b[0m\u001b[0m\n\u001b[0;32m----> 2\u001b[0;31m \u001b[0mprint\u001b[0m\u001b[0;34m(\u001b[0m\u001b[0mlen\u001b[0m\u001b[0;34m(\u001b[0m\u001b[0mlist\u001b[0m\u001b[0;34m)\u001b[0m\u001b[0;34m)\u001b[0m\u001b[0;34m\u001b[0m\u001b[0;34m\u001b[0m\u001b[0m\n\u001b[0m",
            "\u001b[0;31mTypeError\u001b[0m: 'int' object is not callable"
          ]
        }
      ]
    },
    {
      "cell_type": "code",
      "source": [
        "list = [1,2,4,5,6,7]\n",
        "print(list.index(2))"
      ],
      "metadata": {
        "colab": {
          "base_uri": "https://localhost:8080/"
        },
        "id": "Vvi8e1KrYlFw",
        "outputId": "23a6ade4-1520-4812-8405-1b178a343cce"
      },
      "execution_count": 63,
      "outputs": [
        {
          "output_type": "stream",
          "name": "stdout",
          "text": [
            "1\n"
          ]
        }
      ]
    },
    {
      "cell_type": "code",
      "source": [
        "# what is the meaning of this ????///\n",
        "List = [1, 2, 3, 1, 2, 1, 2, 3, 2, 1]\n",
        "print(List.index(2, 2))"
      ],
      "metadata": {
        "colab": {
          "base_uri": "https://localhost:8080/"
        },
        "id": "igyes_ZnY4Yd",
        "outputId": "79eee2d0-a308-496a-d22b-508898e4fef7"
      },
      "execution_count": 62,
      "outputs": [
        {
          "output_type": "stream",
          "name": "stdout",
          "text": [
            "4\n"
          ]
        }
      ]
    },
    {
      "cell_type": "code",
      "source": [
        "numbers = [2,43,53,4,6,878,33,3]\n",
        "print(min(numbers))\n",
        "print(max(numbers))"
      ],
      "metadata": {
        "colab": {
          "base_uri": "https://localhost:8080/"
        },
        "id": "YrpJ-DJMZVkv",
        "outputId": "7a9a1348-cfc3-4045-cb4f-6c42e2681965"
      },
      "execution_count": 65,
      "outputs": [
        {
          "output_type": "stream",
          "name": "stdout",
          "text": [
            "2\n",
            "878\n"
          ]
        }
      ]
    },
    {
      "cell_type": "code",
      "source": [
        "# sort() and reverse()\n",
        "list = [2.3, 4.445, 3, 5.33, 1.054, 2.5]\n",
        "# what is reverse flag\n",
        "# reverse flag is set True\n",
        "list.sort(reverse=True)\n",
        "# list.sort().reverse() ,reverses the sorted list\n",
        "print(list)"
      ],
      "metadata": {
        "colab": {
          "base_uri": "https://localhost:8080/"
        },
        "id": "iMsCyorUZoJy",
        "outputId": "0d9eeea0-0d8a-4742-f348-70641893e8f5"
      },
      "execution_count": 66,
      "outputs": [
        {
          "output_type": "stream",
          "name": "stdout",
          "text": [
            "[5.33, 4.445, 3, 2.5, 2.3, 1.054]\n"
          ]
        }
      ]
    },
    {
      "cell_type": "code",
      "source": [
        "# Deletion of list elements\n",
        "# pop() , remove() and keywords such as del\n",
        "list = [2.3, 4.445, 3, 5.33, 1.054, 2.5]\n",
        "#print(list.pop())\n",
        "#print(list.pop(1))\n",
        "# del keyword\n",
        "#del list[0]\n",
        "#print(list)\n",
        "# remove\n",
        "list.remove(3)\n",
        "print(list)"
      ],
      "metadata": {
        "colab": {
          "base_uri": "https://localhost:8080/"
        },
        "id": "Tw3n1RE1akT4",
        "outputId": "17ba8403-ccfe-4f04-ff8e-fb2ca7d11b8e"
      },
      "execution_count": 71,
      "outputs": [
        {
          "output_type": "stream",
          "name": "stdout",
          "text": [
            "[2.3, 4.445, 5.33, 1.054, 2.5]\n"
          ]
        }
      ]
    }
  ]
}