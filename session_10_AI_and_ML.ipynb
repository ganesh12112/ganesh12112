{
  "nbformat": 4,
  "nbformat_minor": 0,
  "metadata": {
    "colab": {
      "provenance": [],
      "authorship_tag": "ABX9TyMDMrF0zk8bX7lcI592Z8BA",
      "include_colab_link": true
    },
    "kernelspec": {
      "name": "python3",
      "display_name": "Python 3"
    },
    "language_info": {
      "name": "python"
    }
  },
  "cells": [
    {
      "cell_type": "markdown",
      "metadata": {
        "id": "view-in-github",
        "colab_type": "text"
      },
      "source": [
        "<a href=\"https://colab.research.google.com/github/ganesh12112/ganesh12112/blob/main/session_10_AI_and_ML.ipynb\" target=\"_parent\"><img src=\"https://colab.research.google.com/assets/colab-badge.svg\" alt=\"Open In Colab\"/></a>"
      ]
    },
    {
      "cell_type": "code",
      "execution_count": null,
      "metadata": {
        "id": "ojvXET3AJ6em",
        "colab": {
          "base_uri": "https://localhost:8080/"
        },
        "outputId": "7977b73b-d8a0-4423-c758-41ccddb32654"
      },
      "outputs": [
        {
          "output_type": "stream",
          "name": "stdout",
          "text": [
            "100    1\n",
            "101    2\n",
            "102    3\n",
            "103    4\n",
            "104    5\n",
            "105    6\n",
            "106    7\n",
            "dtype: int64\n"
          ]
        }
      ],
      "source": [
        "# pandas\n",
        "import pandas as pd\n",
        "import numpy as np\n",
        "A = np.array([1,2,3,4,5,6,7])\n",
        "s = pd.Series(A,index=[100,101,102,103,104,105,106])\n",
        "print(s)"
      ]
    },
    {
      "cell_type": "code",
      "source": [
        "# create series object from dictionary\n",
        "D = {'a':12,'b':20,'c':30} # keys become labels\n",
        "s2 = pd.Series(D)\n",
        "print(s2)"
      ],
      "metadata": {
        "colab": {
          "base_uri": "https://localhost:8080/"
        },
        "id": "3JCqE95oN6oF",
        "outputId": "e045c27c-9632-4a22-b18a-b2b7643c64e2"
      },
      "execution_count": null,
      "outputs": [
        {
          "output_type": "stream",
          "name": "stdout",
          "text": [
            "a    12\n",
            "b    20\n",
            "c    30\n",
            "dtype: int64\n"
          ]
        }
      ]
    },
    {
      "cell_type": "code",
      "source": [
        "# create a series object from scaler value\n",
        "s3 = pd.Series(5,index=[100,101,102,103])\n",
        "print(s3)"
      ],
      "metadata": {
        "colab": {
          "base_uri": "https://localhost:8080/"
        },
        "id": "wuWSXl3pQGVB",
        "outputId": "ba998754-7c00-4533-e379-fb86f004eb83"
      },
      "execution_count": null,
      "outputs": [
        {
          "output_type": "stream",
          "name": "stdout",
          "text": [
            "100    5\n",
            "101    5\n",
            "102    5\n",
            "103    5\n",
            "dtype: int64\n"
          ]
        }
      ]
    },
    {
      "cell_type": "code",
      "source": [
        "# acces the elements\n",
        "s = pd.Series(A,index=[100,101,102,103,104,105,106])\n",
        "print(s[:101])  # what is slicing operator"
      ],
      "metadata": {
        "colab": {
          "base_uri": "https://localhost:8080/"
        },
        "id": "eFpYqmzTQYbZ",
        "outputId": "2cbf73f1-871a-46d9-f5c1-dd32082c8e66"
      },
      "execution_count": null,
      "outputs": [
        {
          "output_type": "stream",
          "name": "stdout",
          "text": [
            "100    1\n",
            "101    2\n",
            "102    3\n",
            "103    4\n",
            "104    5\n",
            "105    6\n",
            "106    7\n",
            "dtype: int64\n"
          ]
        }
      ]
    },
    {
      "cell_type": "code",
      "source": [
        "# create the dataframe\n",
        "# from list,dictionary ,Series ,scalar values\n",
        "list = [['RRR',1300],['KGF2',1250],['BB2',1800]]\n",
        "df1 = pd.DataFrame(list,columns = ['movie_name','collections'])\n",
        "print(df1)\n",
        "print(df1.values)\n",
        "print(df1.iloc[0:2]) # integer location to acess\n",
        "print(df1['movie_name'])\n",
        "A = df1.values    #\n",
        "print(A.shape)"
      ],
      "metadata": {
        "colab": {
          "base_uri": "https://localhost:8080/"
        },
        "id": "boGdTuXcRwpd",
        "outputId": "a784c9a2-1b93-4ece-c1cb-87b5d1130df1"
      },
      "execution_count": 15,
      "outputs": [
        {
          "output_type": "stream",
          "name": "stdout",
          "text": [
            "  movie_name  collections\n",
            "0        RRR         1300\n",
            "1       KGF2         1250\n",
            "2        BB2         1800\n",
            "[['RRR' 1300]\n",
            " ['KGF2' 1250]\n",
            " ['BB2' 1800]]\n",
            "  movie_name  collections\n",
            "0        RRR         1300\n",
            "1       KGF2         1250\n",
            "0     RRR\n",
            "1    KGF2\n",
            "2     BB2\n",
            "Name: movie_name, dtype: object\n",
            "(3, 2)\n"
          ]
        }
      ]
    },
    {
      "cell_type": "code",
      "source": [
        "# creating from dictionary\n",
        "dict = {'RRR':1300,'KGF2':1250,'BB2':1800}\n",
        "df2 = pd.DataFrame(dict,index=[1])\n",
        "print(df2)\n",
        "# acess the values\n",
        "print(df2.iloc[0:])"
      ],
      "metadata": {
        "colab": {
          "base_uri": "https://localhost:8080/"
        },
        "id": "KaRopfwATj7K",
        "outputId": "ca419b3f-c398-4520-f58e-5ee5b248846e"
      },
      "execution_count": 19,
      "outputs": [
        {
          "output_type": "stream",
          "name": "stdout",
          "text": [
            "    RRR  KGF2   BB2\n",
            "1  1300  1250  1800\n",
            "    RRR  KGF2   BB2\n",
            "1  1300  1250  1800\n"
          ]
        }
      ]
    },
    {
      "cell_type": "code",
      "source": [
        "# creating dataframe from dictionary type 2\n",
        "d1 = {'movie_name':pd.Series(['rr','bb','ok'],index=[0,1,2]),'collections':pd.Series([10,20,30],index=[0,1,2])}\n",
        "df3 = pd.DataFrame(d1)\n",
        "print(df3)"
      ],
      "metadata": {
        "colab": {
          "base_uri": "https://localhost:8080/"
        },
        "id": "henfZbmqpNdK",
        "outputId": "37d01595-8cfb-458f-dc69-c3186bbdaa00"
      },
      "execution_count": 23,
      "outputs": [
        {
          "output_type": "stream",
          "name": "stdout",
          "text": [
            "  movie_name  collections\n",
            "0         rr           10\n",
            "1         bb           20\n",
            "2         ok           30\n",
            "0    10\n",
            "1    20\n",
            "2    30\n",
            "Name: collections, dtype: int64\n"
          ]
        }
      ]
    },
    {
      "cell_type": "code",
      "source": [
        "# assigngment 1 create column A and B ,add C = A+B and D = C-A use pd.Series method\n",
        "d3 = {'class':pd.Series(['first','second',],index =['A','B']),'strength':pd.Series([10,20,],index['A','B']))}\n",
        "\n",
        "\n"
      ],
      "metadata": {
        "colab": {
          "base_uri": "https://localhost:8080/",
          "height": 158
        },
        "id": "rB1tDi6Zq0aK",
        "outputId": "91fd22cc-cb3f-4105-c3be-12f725d51fc5"
      },
      "execution_count": 24,
      "outputs": [
        {
          "output_type": "error",
          "ename": "SyntaxError",
          "evalue": "ignored",
          "traceback": [
            "\u001b[0;36m  File \u001b[0;32m\"<ipython-input-24-2b3eb312b8cf>\"\u001b[0;36m, line \u001b[0;32m2\u001b[0m\n\u001b[0;31m    d3 = {'class':pd.Series(['first','second',],index =['A','B'],'strength':pd.Series([10,20,],index['A','B']))}\u001b[0m\n\u001b[0m                                                                           ^\u001b[0m\n\u001b[0;31mSyntaxError\u001b[0m\u001b[0;31m:\u001b[0m positional argument follows keyword argument\n"
          ]
        }
      ]
    }
  ]
}