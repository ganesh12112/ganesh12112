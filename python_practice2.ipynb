{
  "nbformat": 4,
  "nbformat_minor": 0,
  "metadata": {
    "colab": {
      "provenance": [],
      "authorship_tag": "ABX9TyOEgdMwoGE77TnJV6y5EW4b",
      "include_colab_link": true
    },
    "kernelspec": {
      "name": "python3",
      "display_name": "Python 3"
    },
    "language_info": {
      "name": "python"
    }
  },
  "cells": [
    {
      "cell_type": "markdown",
      "metadata": {
        "id": "view-in-github",
        "colab_type": "text"
      },
      "source": [
        "<a href=\"https://colab.research.google.com/github/ganesh12112/ganesh12112/blob/main/python_practice2.ipynb\" target=\"_parent\"><img src=\"https://colab.research.google.com/assets/colab-badge.svg\" alt=\"Open In Colab\"/></a>"
      ]
    },
    {
      "cell_type": "code",
      "execution_count": null,
      "metadata": {
        "colab": {
          "base_uri": "https://localhost:8080/"
        },
        "id": "iSffrZNTPAJb",
        "outputId": "7a47f33d-8063-4a5d-ce86-387f36cced25"
      },
      "outputs": [
        {
          "output_type": "stream",
          "name": "stdout",
          "text": [
            "the concatenated matrix: [[1, 4, 7, 5, 1, 3], [3, 8, 6, 9, 9, 4, 5, 7], [3, 4, 5, 8]]\n"
          ]
        }
      ],
      "source": [
        "# conacatenate two lists of list Row - wise\n",
        "# method 1 using enumerate() + loop\n",
        "# concatenate of 2 matrix\n",
        "# what is the diffence between intialization and declaration of variable\n",
        "test_list1 = [[1,4,7,5],[3,8,6,9],[3,4,5]]\n",
        "test_list2 = [[1,3],[9,4,5,7],[8]]\n",
        "\n",
        "#print(\" original list1 is:\",test_list1)\n",
        "#print(\" original list2 is:\",test_list2)\n",
        "\n",
        "\n",
        "for idx ,ele in enumerate(test_list1):\n",
        "  new_vals = []\n",
        "\n",
        "  # getting all the values at same index row\n",
        "  for ele in test_list2[idx]:\n",
        "      new_vals.append(ele)\n",
        "\n",
        "  # extending the intial matrix\n",
        "  test_list1[idx].extend(new_vals)\n",
        "\n",
        "print(\"the concatenated matrix:\",str(test_list1))"
      ]
    },
    {
      "cell_type": "code",
      "source": [
        "# using the zip()+list.comprehension\n",
        "test_list1 = [[1,4,7,5],[3,8,6,9],[3,4,5]]\n",
        "test_list2 = [[1,3],[9,4,5,7],[8]]\n",
        "\n",
        "#print(\" original list1 is:\",test_list1)\n",
        "#print(\" original list2 is:\",test_list2)\n",
        "\n",
        "res = list(sub1 + sub2 for sub1,sub2 in zip(test_list1,test_list2))\n",
        "print(\"concatenated Matrix:\",str(res))"
      ],
      "metadata": {
        "colab": {
          "base_uri": "https://localhost:8080/"
        },
        "id": "Dg6vkR4r4fJp",
        "outputId": "d49674c7-1782-4f3d-fc62-c734cb5f359a"
      },
      "execution_count": null,
      "outputs": [
        {
          "output_type": "stream",
          "name": "stdout",
          "text": [
            "concatenated Matrix: [[1, 4, 7, 5, 1, 3], [3, 8, 6, 9, 9, 4, 5, 7], [3, 4, 5, 8]]\n"
          ]
        }
      ]
    },
    {
      "cell_type": "code",
      "source": [
        "# using extend() + loop\n",
        "test_list1 = [[1,4,7,5],[3,8,6,9],[3,4,5]]\n",
        "test_list2 = [[1,3],[9,4,5,7],[8]]\n",
        "\n",
        "for i in range(0,len(test_list1)):\n",
        "    test_list1[i].extend(test_list2[i])\n",
        "\n",
        "print(\"concatenated Matrix:\",str(test_list1))"
      ],
      "metadata": {
        "colab": {
          "base_uri": "https://localhost:8080/"
        },
        "id": "_w5yaOtm8rV1",
        "outputId": "95123429-2a9e-4fe5-a65c-892cc849538b"
      },
      "execution_count": null,
      "outputs": [
        {
          "output_type": "stream",
          "name": "stdout",
          "text": [
            "concatenated Matrix: [[1, 4, 7, 5, 1, 3], [3, 8, 6, 9, 9, 4, 5, 7], [3, 4, 5, 8]]\n"
          ]
        }
      ]
    },
    {
      "cell_type": "code",
      "source": [
        "# using numpy # all the matrixs have same no of dimensions\n",
        "import numpy as np\n",
        "\n",
        "#initializing lists\n",
        "test_list1 = [[4, 3,4], [1, 2, 3], [3, 7, 4]]\n",
        "test_list2 = [[1, 3,5], [9, 3, 5,], [8,7,5]]\n",
        "\n",
        "#Printing original lists\n",
        "#print(\"The original list 1 is : \" + str(test_list1))\n",
        "#print(\"The original list 2 is : \" + str(test_list2))\n",
        "\n",
        "#Using numpy to concatenate two lists row-wise\n",
        "res = np.concatenate((test_list1, test_list2), axis = 1)\n",
        "\n",
        "#printing result\n",
        "print(\"The concatenated Matrix : \" + str(res))"
      ],
      "metadata": {
        "colab": {
          "base_uri": "https://localhost:8080/"
        },
        "id": "B62KkNkJ-rhR",
        "outputId": "399fc033-d27b-43de-ab1f-caf280df7b26"
      },
      "execution_count": null,
      "outputs": [
        {
          "output_type": "stream",
          "name": "stdout",
          "text": [
            "The concatenated Matrix : [[4 3 4 1 3 5]\n",
            " [1 2 3 9 3 5]\n",
            " [3 7 4 8 7 5]]\n"
          ]
        }
      ]
    },
    {
      "cell_type": "code",
      "source": [
        "# using the itertools\n",
        "import itertools\n",
        "\n",
        "test_list1 = [[4, 3,4], [1, 2, 3], [3, 7, 4]]\n",
        "test_list2 = [[1, 3,5], [9, 3, 5,], [8,7,5]]\n",
        "\n",
        "concatenated_matrix = [list(itertools.chain(*x)) for x in zip(test_list1,test_list2)]\n",
        "\n",
        "print(\"The concatenated Matrix : \" ,str(concatenated_matrix))"
      ],
      "metadata": {
        "colab": {
          "base_uri": "https://localhost:8080/"
        },
        "id": "_Wt2QY63_fDh",
        "outputId": "5fb3203a-1425-4676-f9fc-79c885d33981"
      },
      "execution_count": null,
      "outputs": [
        {
          "output_type": "stream",
          "name": "stdout",
          "text": [
            "The concatenated Matrix :  [[4, 3, 4, 1, 3, 5], [1, 2, 3, 9, 3, 5], [3, 7, 4, 8, 7, 5]]\n"
          ]
        }
      ]
    },
    {
      "cell_type": "code",
      "source": [
        "#python program to conactenate every elemnts acros lists\n",
        "test_list1 = ['ganesh',\"is\",\"good\"]\n",
        "test_list2 = [\"skill\",\"cs\"]\n",
        "\n",
        "#rint(\"The original list 1 is : \",(test_list1))\n",
        "#print(\"The original list 2 is : \" ,(test_list2))\n",
        "\n",
        "# forming pairs\n",
        "temp = [(a,b) for a in test_list1 for b in test_list2]\n",
        "\n",
        "#performing concatenation\n",
        "res = [x + '' + y for (x,y) in temp]\n",
        "\n",
        "print(\"The paired combinations:\",(res))"
      ],
      "metadata": {
        "colab": {
          "base_uri": "https://localhost:8080/"
        },
        "id": "jM5hJnuBBMe_",
        "outputId": "b3261b35-90ea-460f-c5f8-db4f953a0fb2"
      },
      "execution_count": null,
      "outputs": [
        {
          "output_type": "stream",
          "name": "stdout",
          "text": [
            "The paired combinations: ['ganeshskill', 'ganeshcs', 'isskill', 'iscs', 'goodskill', 'goodcs']\n"
          ]
        }
      ]
    },
    {
      "cell_type": "code",
      "source": [
        "# using product() + listcomprehension\n",
        "from itertools import product\n",
        "\n",
        "test_list1 = ['ganesh',\"is\",\"good\"]\n",
        "test_list2 = [\"skill\",\"cs\"]\n",
        "\n",
        "# concatenation using formatting and paring using product\n",
        "res = ['%s %s' % (ele[0],ele[1]) for ele in product(test_list1,test_list2)]\n",
        "\n",
        "print(\"The paired combinations:\",(res))"
      ],
      "metadata": {
        "colab": {
          "base_uri": "https://localhost:8080/"
        },
        "id": "3bQnFNXkDZSE",
        "outputId": "c126a6ab-0ea4-4399-e6f1-cbd4078c3794"
      },
      "execution_count": null,
      "outputs": [
        {
          "output_type": "stream",
          "name": "stdout",
          "text": [
            "The paired combinations: ['ganesh skill', 'ganesh cs', 'is skill', 'is cs', 'good skill', 'good cs']\n"
          ]
        }
      ]
    },
    {
      "cell_type": "code",
      "source": [
        "# using the map and join\n",
        "from itertools import product\n",
        "\n",
        "test_list1 = ['ganesh',\"is\",\"good\"]\n",
        "test_list2 = [\"skill\",\"cs\"]\n",
        "\n",
        "res = list(map(\"\".join,product(test_list1,test_list2)))\n",
        "\n",
        "print(\"The paired combinations:\",(res))"
      ],
      "metadata": {
        "colab": {
          "base_uri": "https://localhost:8080/"
        },
        "id": "Rmalnqn3FKs7",
        "outputId": "1c4dc2ee-cb96-4b72-ad46-3a622cea58d7"
      },
      "execution_count": null,
      "outputs": [
        {
          "output_type": "stream",
          "name": "stdout",
          "text": [
            "The paired combinations: ['ganesh   skill', 'ganesh   cs', 'is   skill', 'is   cs', 'good   skill', 'good   cs']\n"
          ]
        }
      ]
    },
    {
      "cell_type": "code",
      "source": [
        "from IPython.utils import tempdir\n",
        "# using itertools.product() and str.join\n",
        "import itertools\n",
        "\n",
        "test_list1 = ['ganesh',\"is\",\"good\"]\n",
        "test_list2 = [\"skill\",\"cs\"]\n",
        "\n",
        "# forming pairs\n",
        "temp =  itertools.product(test_list1,test_list2)\n",
        "\n",
        "res = [''.join(pair) for pair in temp]\n",
        "\n",
        "print(\"The paired combinations:\",(res))"
      ],
      "metadata": {
        "colab": {
          "base_uri": "https://localhost:8080/"
        },
        "id": "dUSVfyRLG35w",
        "outputId": "39b49b27-a976-415c-9b2a-089a3dd3e87e"
      },
      "execution_count": null,
      "outputs": [
        {
          "output_type": "stream",
          "name": "stdout",
          "text": [
            "The paired combinations: ['ganeshskill', 'ganeshcs', 'isskill', 'iscs', 'goodskill', 'goodcs']\n"
          ]
        }
      ]
    },
    {
      "cell_type": "code",
      "source": [
        "# python - elelment repetition in list\n",
        "# using list comprehension\n",
        "test_list = [4,5,6,7,3,9]\n",
        "\n",
        "print(\"the original list:\",str(test_list))\n",
        "\n",
        "#list comprehension  - to perform element duplication\n",
        "res = [ i for i in test_list for x in (0,1)]\n",
        "\n",
        "print(\"the list after element duplication:\",str(res))"
      ],
      "metadata": {
        "colab": {
          "base_uri": "https://localhost:8080/"
        },
        "id": "tFxH8122zP1l",
        "outputId": "d75a46d6-7b05-48d7-b0f3-10c20a1aab3c"
      },
      "execution_count": null,
      "outputs": [
        {
          "output_type": "stream",
          "name": "stdout",
          "text": [
            "the original list: [4, 5, 6, 7, 3, 9]\n",
            "the list after element duplication: [4, 4, 5, 5, 6, 6, 7, 7, 3, 3, 9, 9]\n"
          ]
        }
      ]
    },
    {
      "cell_type": "code",
      "source": [
        "# using itertools.chain().from_iterable() from_iterable function\n",
        "import itertools\n",
        "\n",
        "test_list = [4,5,6,7,3,9]\n",
        "\n",
        "print(\"the original list:\",str(test_list))\n",
        "\n",
        "res = list(itertools.chain.from_iterable([i,i] for i in test_list))\n",
        "\n",
        "print(\"the list after element duplication:\",str(res))"
      ],
      "metadata": {
        "colab": {
          "base_uri": "https://localhost:8080/"
        },
        "id": "VrMJSoXj2J_B",
        "outputId": "e79bc4aa-7218-4dc1-bb33-f70a0412f6e4"
      },
      "execution_count": null,
      "outputs": [
        {
          "output_type": "stream",
          "name": "stdout",
          "text": [
            "the original list: [4, 5, 6, 7, 3, 9]\n",
            "the list after element duplication: [4, 4, 5, 5, 6, 6, 7, 7, 3, 3, 9, 9]\n"
          ]
        }
      ]
    },
    {
      "cell_type": "code",
      "source": [
        "# using repeat\n",
        "from itertools import repeat\n",
        "test_list = [4,5,6,7,3,9]\n",
        "\n",
        "print(\"the original list:\",str(test_list))\n",
        "\n",
        "res = [i for i in test_list for _ in repeat(None,2)]\n",
        "\n",
        "print(\"the list after element duplication:\",str(res))"
      ],
      "metadata": {
        "colab": {
          "base_uri": "https://localhost:8080/"
        },
        "id": "kWapUtvv4mHm",
        "outputId": "8b8985e4-cc8c-4983-98a5-3a90b81f8e6f"
      },
      "execution_count": null,
      "outputs": [
        {
          "output_type": "stream",
          "name": "stdout",
          "text": [
            "the original list: [4, 5, 6, 7, 3, 9]\n",
            "the list after element duplication: [4, 4, 5, 5, 6, 6, 7, 7, 3, 3, 9, 9]\n"
          ]
        }
      ]
    },
    {
      "cell_type": "code",
      "source": [
        "#  using extend() method ***************************\n",
        "test_list = [4,5,6,7,3,9]\n",
        "\n",
        "print(\"the original list:\",str(test_list))\n",
        "\n",
        "res = []\n",
        "for i in test_list:\n",
        "  res.extend([i,i])\n",
        "\n",
        "print(\"the list after element duplication:\",str(res))"
      ],
      "metadata": {
        "colab": {
          "base_uri": "https://localhost:8080/"
        },
        "id": "yXACq41q5rHf",
        "outputId": "86d382fd-2394-422f-f7ed-15d8c7add338"
      },
      "execution_count": null,
      "outputs": [
        {
          "output_type": "stream",
          "name": "stdout",
          "text": [
            "the original list: [4, 5, 6, 7, 3, 9]\n",
            "the list after element duplication: [4, 4, 5, 5, 6, 6, 7, 7, 3, 3, 9, 9]\n"
          ]
        }
      ]
    },
    {
      "cell_type": "code",
      "source": [
        "# using slicing and concatenation\n",
        "test_list = [4,5,6,7,3,9]\n",
        "\n",
        "print(\"the original list:\",str(test_list))\n",
        "\n",
        "res = list(i for i in test_list for x in range(2))\n",
        "\n",
        "print(\"the list after element duplication:\",str(res))"
      ],
      "metadata": {
        "colab": {
          "base_uri": "https://localhost:8080/"
        },
        "id": "aJNxlWWm6vmL",
        "outputId": "5615e29b-fa07-45ba-cbce-b2b3d3519e84"
      },
      "execution_count": null,
      "outputs": [
        {
          "output_type": "stream",
          "name": "stdout",
          "text": [
            "the original list: [4, 5, 6, 7, 3, 9]\n",
            "the list after element duplication: [4, 4, 5, 5, 6, 6, 7, 7, 3, 3, 9, 9]\n"
          ]
        }
      ]
    },
    {
      "cell_type": "code",
      "source": [
        "# using numpy\n",
        "import numpy as np\n",
        "\n",
        "test_list = [4,5,6,7,3,9]\n",
        "\n",
        "print(\"the original list:\",str(test_list))\n",
        "\n",
        "# using numpy to perform element duplication\n",
        "res = np.repeat(test_list,2)\n",
        "\n",
        "print(\"the list after element duplication:\",str(res))"
      ],
      "metadata": {
        "colab": {
          "base_uri": "https://localhost:8080/"
        },
        "id": "olo0A9Sk751f",
        "outputId": "a483ac48-a3ba-435d-92e1-c651953d9be2"
      },
      "execution_count": null,
      "outputs": [
        {
          "output_type": "stream",
          "name": "stdout",
          "text": [
            "the original list: [4, 5, 6, 7, 3, 9]\n",
            "the list after element duplication: [4 4 5 5 6 6 7 7 3 3 9 9]\n"
          ]
        }
      ]
    },
    {
      "cell_type": "code",
      "source": [
        "# using heapq module\n",
        "import heapq\n",
        "\n",
        "test_list = [4,5,6,7,3,9]\n",
        "\n",
        "print(\"the original list:\",str(test_list))\n",
        "\n",
        "res = heapq.merge(test_list,test_list)\n",
        "# converting to list\n",
        "res = list(res)\n",
        "\n",
        "print(\"the list after element duplication:\",str(res))"
      ],
      "metadata": {
        "colab": {
          "base_uri": "https://localhost:8080/"
        },
        "id": "JpSQ_86c9QBf",
        "outputId": "6e36c455-a5b7-4401-ef06-4bf1cde9e932"
      },
      "execution_count": null,
      "outputs": [
        {
          "output_type": "stream",
          "name": "stdout",
          "text": [
            "the original list: [4, 5, 6, 7, 3, 9]\n",
            "the list after element duplication: [4, 4, 5, 5, 6, 6, 7, 3, 7, 3, 9, 9]\n"
          ]
        }
      ]
    },
    {
      "cell_type": "code",
      "source": [
        "# repeat alternative elements in list\n",
        "# list comprehension\n",
        "test_list = [4,5,6,7,3,9]\n",
        "\n",
        "print(\"the original list:\",str(test_list))\n",
        "\n",
        "# declaring magnitude of repetition\n",
        "k = 3\n",
        "\n",
        "res = [ele for idx,ele in enumerate(test_list)\n",
        "        for i in range(k) if idx % 2 == 0]\n",
        "\n",
        "print(\"the list after alternative repeating elements:\",str(res))"
      ],
      "metadata": {
        "colab": {
          "base_uri": "https://localhost:8080/"
        },
        "id": "QefGPoE5-LYJ",
        "outputId": "806abdc6-7ecd-49cf-a83e-8294dd15734f"
      },
      "execution_count": null,
      "outputs": [
        {
          "output_type": "stream",
          "name": "stdout",
          "text": [
            "the original list: [4, 5, 6, 7, 3, 9]\n",
            "the list after alternative repeating elements: [4, 4, 4, 6, 6, 6, 3, 3, 3]\n"
          ]
        }
      ]
    },
    {
      "cell_type": "code",
      "source": [
        "# using itertools.chain.from_iterable() + itertools.repeat()\n",
        "import itertools\n",
        "\n",
        "test_list = [4,5,6,7,9]\n",
        "\n",
        "print(\"the original list:\",str(test_list))\n",
        "\n",
        "k = 3\n",
        "\n",
        "res = list(itertools.chain.from_iterable(itertools.repeat(ele,k)\n",
        "               for idx,ele in enumerate(test_list) if idx % 2==0))\n",
        "\n",
        "print(\"the list after alternative repeating elements:\",str(res))"
      ],
      "metadata": {
        "colab": {
          "base_uri": "https://localhost:8080/"
        },
        "id": "y3iybyAN_rzi",
        "outputId": "d2f43518-62c9-434c-d7cb-9ea7daa43a63"
      },
      "execution_count": null,
      "outputs": [
        {
          "output_type": "stream",
          "name": "stdout",
          "text": [
            "the original list: [4, 5, 6, 7, 9]\n",
            "the list after alternative repeating elements: [4, 4, 4, 6, 6, 6, 9, 9, 9]\n"
          ]
        }
      ]
    },
    {
      "cell_type": "code",
      "source": [
        "# using extend() method and * operator\n",
        "test_list = [4,5,6,7]\n",
        "\n",
        "print(\"the original list:\",str(test_list))\n",
        "\n",
        "k = 3\n",
        "res = []\n",
        "for i in range(0,len(test_list)):\n",
        "  if i%2 == 0:\n",
        "    res.extend([test_list[i]]*k)\n",
        "\n",
        "print(\"the list after alternative repeating elements:\",str(res))"
      ],
      "metadata": {
        "colab": {
          "base_uri": "https://localhost:8080/"
        },
        "id": "M4ORHS1jCEJy",
        "outputId": "6e4b9617-51d4-4a59-98df-ca551a1044ac"
      },
      "execution_count": null,
      "outputs": [
        {
          "output_type": "stream",
          "name": "stdout",
          "text": [
            "the original list: [4, 5, 6, 7]\n",
            "the list after alternative repeating elements: [4, 4, 4, 6, 6, 6]\n"
          ]
        }
      ]
    },
    {
      "cell_type": "code",
      "source": [
        "# using slicing and extend() method\n",
        "test_list = [4,5,6,7]\n",
        "alternative_list = test_list[::2]\n",
        "\n",
        "print(\"the original list:\",str(test_list))\n",
        "\n",
        "k = 3\n",
        "res = []\n",
        "\n",
        "for i in range(len(alternative_list)):\n",
        "  res.extend([alternative_list[i]]*k)\n",
        "\n",
        "print(\"the list after alternative repeating elements:\",str(res))"
      ],
      "metadata": {
        "colab": {
          "base_uri": "https://localhost:8080/"
        },
        "id": "1eVmBtJHDR-W",
        "outputId": "99a5504e-e9e4-4bf3-a803-40b2de0fa03a"
      },
      "execution_count": null,
      "outputs": [
        {
          "output_type": "stream",
          "name": "stdout",
          "text": [
            "the original list: [4, 5, 6, 7]\n",
            "the list after alternative repeating elements: [4, 4, 4, 6, 6, 6]\n"
          ]
        }
      ]
    },
    {
      "cell_type": "code",
      "source": [
        "# approach by numpy library\n",
        "import numpy as np\n",
        "test_list = [4,5,6,7]\n",
        "\n",
        "k = 3\n",
        "\n",
        "res = np.repeat(np.array(test_list[::2]),k).tolist()  # what is the use of tolist()\n",
        "\n",
        "print(\"the list after alternative repeating elements:\",str(res))"
      ],
      "metadata": {
        "colab": {
          "base_uri": "https://localhost:8080/"
        },
        "id": "wg5uKf26E4-y",
        "outputId": "b3a91126-886a-4f89-85a2-3cf782e9a891"
      },
      "execution_count": null,
      "outputs": [
        {
          "output_type": "stream",
          "name": "stdout",
          "text": [
            "the list after alternative repeating elements: [4, 4, 4, 6, 6, 6]\n"
          ]
        }
      ]
    },
    {
      "cell_type": "code",
      "source": [
        "# use map()+ lammda function\n",
        "test_list = [4,5,6,7]\n",
        "\n",
        "k = 3\n",
        "\n",
        "res =[]\n",
        "\n",
        "for idx,ele in enumerate(test_list):\n",
        "  if idx % 2 ==0:\n",
        "    res.extend(map(lambda x:ele,range(k)))  # how lambda() will work?\n",
        "\n",
        "print(\"the list after alternative repeating elements:\",str(res))"
      ],
      "metadata": {
        "colab": {
          "base_uri": "https://localhost:8080/"
        },
        "id": "0O5L3gubGj6Q",
        "outputId": "7e782e1d-ed73-41dc-a6a1-784af7055cd0"
      },
      "execution_count": null,
      "outputs": [
        {
          "output_type": "stream",
          "name": "stdout",
          "text": [
            "the list after alternative repeating elements: [4, 4, 4, 6, 6, 6]\n"
          ]
        }
      ]
    },
    {
      "cell_type": "code",
      "source": [
        "# using extend()+operator.mul() methods\n",
        "test_list = [4,5,6,7]\n",
        "\n",
        "k = 3\n",
        "res = []\n",
        "import operator\n",
        "for i in range(0,len(test_list)):\n",
        "  if(i%2==0):\n",
        "    res.extend(operator.mul([test_list[i]],k))\n",
        "print(\"the list after alternative repeating elements:\",str(res))"
      ],
      "metadata": {
        "colab": {
          "base_uri": "https://localhost:8080/"
        },
        "id": "3zYg0IPDIHjU",
        "outputId": "efc306be-6664-4054-c7b3-aebe2ff6eeff"
      },
      "execution_count": null,
      "outputs": [
        {
          "output_type": "stream",
          "name": "stdout",
          "text": [
            "the list after alternative repeating elements: [4, 4, 4, 6, 6, 6]\n"
          ]
        }
      ]
    },
    {
      "cell_type": "code",
      "source": [
        "# difference between two lists\n",
        "# use \"in\" to find the the difference between two lists in python\n",
        "li1 = [10,24,5,6,78,40]\n",
        "li2 = [24,40,10]\n",
        "\n",
        "temp3 = []\n",
        "for element in li1:\n",
        "  if element not in li2:\n",
        "    temp3.append(element)\n",
        "\n",
        "print(temp3)"
      ],
      "metadata": {
        "colab": {
          "base_uri": "https://localhost:8080/"
        },
        "id": "YOV-2FPNZKFK",
        "outputId": "ff5597e4-e4b5-4844-d908-346135cb09cc"
      },
      "execution_count": null,
      "outputs": [
        {
          "output_type": "stream",
          "name": "stdout",
          "text": [
            "[5, 6, 78]\n"
          ]
        }
      ]
    },
    {
      "cell_type": "code",
      "source": [
        "# use set() to find the difference between two lists\n",
        "li1 = [10,24,5,6,78,40]\n",
        "li2 = [24,40,10]\n",
        "\n",
        "s = set(li2)  # why it is neccessary ??????????\n",
        "temp3 = [x for x in li1 if x not in s]\n",
        "print(temp3)"
      ],
      "metadata": {
        "colab": {
          "base_uri": "https://localhost:8080/"
        },
        "id": "sbv541QtaG0d",
        "outputId": "4f814cf4-cda0-43a3-dff5-c7f28977cf77"
      },
      "execution_count": null,
      "outputs": [
        {
          "output_type": "stream",
          "name": "stdout",
          "text": [
            "[5, 6, 78]\n"
          ]
        }
      ]
    },
    {
      "cell_type": "code",
      "source": [
        "# without usng set() function\n",
        "def Diff(li1,li2):\n",
        "  li_dif = list(i for i  in li1+li2 if i not in li1 or i not in li2)\n",
        "  return li_dif\n",
        "\n",
        "# Driver code\n",
        "li1 = [10,15,20,25,30,35,40]\n",
        "li2 = [25,40,35]\n",
        "li3 = Diff(li1,li2)\n",
        "print(li3)"
      ],
      "metadata": {
        "colab": {
          "base_uri": "https://localhost:8080/"
        },
        "id": "S3PyVYc0bR9f",
        "outputId": "45deef60-4585-4e5e-8773-0bc0c920c56e"
      },
      "execution_count": null,
      "outputs": [
        {
          "output_type": "stream",
          "name": "stdout",
          "text": [
            "[10, 15, 20, 30]\n"
          ]
        }
      ]
    },
    {
      "cell_type": "code",
      "source": [
        "# method using numpy numpy.concatenate()\n",
        "import numpy as np\n",
        "li1 = np.array([10,15,20,25,30,35,40])\n",
        "li2 = np.array([25,40,35])\n",
        "\n",
        "dif1 = np.setdiff1d(li1,li2)\n",
        "dif2 = np.setdiff1d(li2,li1)\n",
        "\n",
        "temp3 = np.concatenate((dif1,dif2))\n",
        "\n",
        "print(list(temp3))"
      ],
      "metadata": {
        "colab": {
          "base_uri": "https://localhost:8080/"
        },
        "id": "QNvPHtK3cYLx",
        "outputId": "a802c2c3-ead3-4679-e587-9702c0df6f18"
      },
      "execution_count": null,
      "outputs": [
        {
          "output_type": "stream",
          "name": "stdout",
          "text": [
            "[10, 15, 20, 30]\n"
          ]
        }
      ]
    },
    {
      "cell_type": "code",
      "source": [
        "# use symmetric_difference function\n",
        "li1 = [10,15,20,25,30,35,40]\n",
        "li2 = [25,40,35]\n",
        "\n",
        "set_dif = set(li1).symmetric_difference(set(li2))\n",
        "temp3 = list(set_dif)\n",
        "print(temp3)"
      ],
      "metadata": {
        "colab": {
          "base_uri": "https://localhost:8080/"
        },
        "id": "aigiae6Md2Vy",
        "outputId": "dcf4805b-d9aa-4120-b2e3-c863c5fb3f2e"
      },
      "execution_count": null,
      "outputs": [
        {
          "output_type": "stream",
          "name": "stdout",
          "text": [
            "[20, 10, 30, 15]\n"
          ]
        }
      ]
    },
    {
      "cell_type": "code",
      "source": [
        "# check if two lists are identical\n",
        "# using list.sort() and == operator sort() coupled with == operator\n",
        "# for this list should not contain duplicate elements\n",
        "test_list1 = [1, 2, 4, 3, 5]\n",
        "test_list2 = [1, 2, 4, 3, 5]\n",
        "\n",
        "print(\"The first list is : \" + str(test_list1))\n",
        "print(\"The second list is : \" + str(test_list2))\n",
        "\n",
        "# sorting\n",
        "test_list1.sort()\n",
        "test_list2.sort()\n",
        "\n",
        "if test_list1 == test_list2:\n",
        "  print(\"The lists are identical\")\n",
        "else:\n",
        "  print(\"The lists are not identical\")"
      ],
      "metadata": {
        "colab": {
          "base_uri": "https://localhost:8080/"
        },
        "id": "iDFTOWNXeV_C",
        "outputId": "edaae8fc-41cd-4874-c4c0-795ec9f31391"
      },
      "execution_count": null,
      "outputs": [
        {
          "output_type": "stream",
          "name": "stdout",
          "text": [
            "The first list is : [1, 2, 4, 3, 5]\n",
            "The second list is : [1, 2, 4, 3, 5]\n",
            "The lists are identical\n"
          ]
        }
      ]
    },
    {
      "cell_type": "code",
      "source": [
        "# using collections.Counter() - this method  ignores the ordring of\n",
        "# elements in the list and only takes into account the frequency of elements\n",
        "import collections\n",
        "\n",
        "test_list1 = [1, 2, 4, 3, 5]\n",
        "test_list2 = [1, 2, 4, 3, 5]\n",
        "\n",
        "print(\"The first list is : \" + str(test_list1))\n",
        "print(\"The second list is : \" + str(test_list2))\n",
        "\n",
        "if collections.Counter(test_list1) == collections.Counter(test_list2):\n",
        "  print(\"the lists are identical\")\n",
        "else:\n",
        "  print(\"the lists are not identical\")"
      ],
      "metadata": {
        "colab": {
          "base_uri": "https://localhost:8080/"
        },
        "id": "1oU54p7Bf4AB",
        "outputId": "4cd34ada-9dc0-4b6b-e8bb-2e4812847cc8"
      },
      "execution_count": null,
      "outputs": [
        {
          "output_type": "stream",
          "name": "stdout",
          "text": [
            "The first list is : [1, 2, 4, 3, 5]\n",
            "The second list is : [1, 2, 4, 3, 5]\n",
            "the lists are identical\n"
          ]
        }
      ]
    },
    {
      "cell_type": "code",
      "source": [
        "# using sum()+zip()+len()\n",
        "test_list1 = [1, 2, 4, 3, 5]\n",
        "test_list2 = [1, 2, 4, 3, 5]\n",
        "\n",
        "# printing lists\n",
        "print(\"The first list is : \" + str(test_list1))\n",
        "print(\"The second list is : \" + str(test_list2))\n",
        "# here 1 in the summmation sum([]) that elements are same at each(specific) index\n",
        "# 1 = true and 0 = false\n",
        "if len(test_list1) == len(test_list2) and len(test_list1) == sum([1 for i,j in zip(test_list1,test_list2) if i == j]):\n",
        "     print(\"the lists are identical\")\n",
        "else:\n",
        "  print(\"the lists are not identical\")"
      ],
      "metadata": {
        "colab": {
          "base_uri": "https://localhost:8080/"
        },
        "id": "8ceiDElihUwh",
        "outputId": "4a084d6b-a774-48aa-e296-9b8825d1dbe2"
      },
      "execution_count": null,
      "outputs": [
        {
          "output_type": "stream",
          "name": "stdout",
          "text": [
            "The first list is : [1, 2, 4, 3, 5]\n",
            "The second list is : [1, 2, 4, 3, 5]\n",
            "the lists are identical\n"
          ]
        }
      ]
    },
    {
      "cell_type": "code",
      "source": [
        "import functools # **************review************\n",
        "\n",
        "test_list1 = [1, 2, 4, 3, 5]\n",
        "test_list2 = [1, 2, 4, 3, 5]\n",
        "\n",
        "print(\"The first list is : \" + str(test_list1))\n",
        "print(\"The second list is : \" + str(test_list2))\n",
        "\n",
        "# using map() + reduce() to check if\n",
        "# lists are equal\n",
        "if functools.reduce(lambda i,j:i and j,map(lambda m,k: m==k,test_list1,test_list2),True):\n",
        "    print(\"The lists are identical\")\n",
        "else:\n",
        "    print(\"The lists are not identical\")"
      ],
      "metadata": {
        "colab": {
          "base_uri": "https://localhost:8080/"
        },
        "id": "HeSz2OsYjgcv",
        "outputId": "6759def6-731b-4dd0-bf74-c2d19b5b6963"
      },
      "execution_count": null,
      "outputs": [
        {
          "output_type": "stream",
          "name": "stdout",
          "text": [
            "The first list is : [1, 2, 4, 3, 5]\n",
            "The second list is : [1, 2, 4, 3, 5]\n",
            "The lists are identical\n"
          ]
        }
      ]
    },
    {
      "cell_type": "code",
      "source": [
        "# using all() and zip()\n",
        "test_list1 = [1, 2, 4, 3, 5]\n",
        "test_list2 = [1, 2, 4, 3, 5]\n",
        "\n",
        "print(\"list1 : \" ,test_list1)\n",
        "print(\"list2 : \" ,test_list2)\n",
        "\n",
        "result = all(x == y for x,y in zip(test_list1,test_list2))\n",
        "\n",
        "print(\"the lists are identical:\",result)"
      ],
      "metadata": {
        "colab": {
          "base_uri": "https://localhost:8080/"
        },
        "id": "izy6nfQUmJOL",
        "outputId": "34abe8ed-b4e3-48d3-fa06-bda500e830e2"
      },
      "execution_count": null,
      "outputs": [
        {
          "output_type": "stream",
          "name": "stdout",
          "text": [
            "list1 :  [1, 2, 4, 3, 5]\n",
            "list2 :  [1, 2, 4, 3, 5]\n",
            "the lists are identical: True\n"
          ]
        }
      ]
    },
    {
      "cell_type": "code",
      "source": [
        "# using operator.countOf() ********* very important *********\n",
        "import operator as op\n",
        "\n",
        "def checkIdentical(test_list1,test_list2):\n",
        "  for i in test_list1:\n",
        "    if op.countOf(test_list1,i) != op.countOf(test_list2,i):\n",
        "      return False\n",
        "  if(len(test_list1) != len(test_list2)):\n",
        "    return False\n",
        "  return True\n",
        "\n",
        "test_list1 = [1, 2, 4, 3, 5]\n",
        "test_list2 = [1, 2, 4, 3, 5]\n",
        "\n",
        "print(\"list1 : \" ,test_list1)\n",
        "print(\"list2 : \" ,test_list2)\n",
        "\n",
        "print(checkIdentical(test_list1,test_list2))\n",
        "\n",
        "#if checkIdentical(test_list1,test_list2):\n",
        " # print(\"The lists are identical\")\n",
        "#else:\n",
        " # print(\"The lists are not identical\")"
      ],
      "metadata": {
        "colab": {
          "base_uri": "https://localhost:8080/"
        },
        "id": "nUyOfn7ZnKD0",
        "outputId": "b2ce8b42-98f5-4975-c54f-81d8b87a498e"
      },
      "execution_count": null,
      "outputs": [
        {
          "output_type": "stream",
          "name": "stdout",
          "text": [
            "list1 :  [1, 2, 4, 3, 5]\n",
            "list2 :  [1, 2, 4, 3, 5]\n",
            "True\n"
          ]
        }
      ]
    },
    {
      "cell_type": "code",
      "source": [
        "# using counter()\n",
        "from collections import Counter\n",
        "\n",
        "test_list1 = [1, 2, 4, 3, 5]\n",
        "test_list2 = [1, 2, 4, 3, 5]\n",
        "\n",
        "print(\"list1 : \" ,test_list1)\n",
        "print(\"list2 : \" ,test_list2)\n",
        "\n",
        "if Counter(test_list1) == Counter(test_list2):\n",
        "  print(\"The lists are identical\")\n",
        "else:\n",
        "  print(\"The lists are not identical\")"
      ],
      "metadata": {
        "colab": {
          "base_uri": "https://localhost:8080/"
        },
        "id": "btkkNYkRqwHZ",
        "outputId": "c3af6093-ebbc-4deb-c180-37ef57c99669"
      },
      "execution_count": null,
      "outputs": [
        {
          "output_type": "stream",
          "name": "stdout",
          "text": [
            "list1 :  [1, 2, 4, 3, 5]\n",
            "list2 :  [1, 2, 4, 3, 5]\n",
            "The lists are identical\n"
          ]
        }
      ]
    },
    {
      "cell_type": "code",
      "source": [
        "# combining two sorted lists **********revise*******\n",
        "# naive method\n",
        "test_list1 = [1, 5, 6, 9, 11]\n",
        "test_list2 = [3, 4, 7, 8]\n",
        "\n",
        "print(\"list1 : \" ,test_list1)\n",
        "print(\"list2 : \" ,test_list2)\n",
        "\n",
        "# usng the naive method\n",
        "# to combine two sorted lists\n",
        "size1 = len(test_list1)\n",
        "size2 = len(test_list2)\n",
        "\n",
        "res = []\n",
        "i,j = 0,0  # why this step is important??\n",
        "\n",
        "while i < size1 and j<size2:\n",
        "  if test_list1[i] < test_list2[j]:\n",
        "    res.append(test_list1[i])\n",
        "    i += 1                      # what this expression denotes?\n",
        "\n",
        "  else:\n",
        "    res.append(test_list2[j])\n",
        "    j += 1\n",
        "\n",
        "res = res + test_list1[i:] +test_list[j:]\n",
        "\n",
        "print(\"The combined sorted list is:\",res)"
      ],
      "metadata": {
        "colab": {
          "base_uri": "https://localhost:8080/"
        },
        "id": "FexLDmbcropa",
        "outputId": "f9e067d4-3812-4052-c0e7-6a032d83c0c5"
      },
      "execution_count": null,
      "outputs": [
        {
          "output_type": "stream",
          "name": "stdout",
          "text": [
            "list1 :  [1, 5, 6, 9, 11]\n",
            "list2 :  [3, 4, 7, 8]\n",
            "The combined sorted list is: [1, 3, 4, 5, 6, 7, 8, 9, 11]\n"
          ]
        }
      ]
    },
    {
      "cell_type": "code",
      "source": [
        "# method 2 using sorted()\n",
        "test_list1 = [1, 5, 6, 9, 11]\n",
        "test_list2 = [3, 4, 7, 8]\n",
        "\n",
        "print(\"list1 : \" ,test_list1)\n",
        "print(\"list2 : \" ,test_list2)\n",
        "\n",
        "res = sorted(test_list1+test_list2)\n",
        "\n",
        "print(\"The combined sorted list is:\",res)"
      ],
      "metadata": {
        "id": "D0A8-7bV2D1W",
        "colab": {
          "base_uri": "https://localhost:8080/"
        },
        "outputId": "8c2e3131-8f8b-41be-82e7-c32062a88eb1"
      },
      "execution_count": 43,
      "outputs": [
        {
          "output_type": "stream",
          "name": "stdout",
          "text": [
            "list1 :  [1, 5, 6, 9, 11]\n",
            "list2 :  [3, 4, 7, 8]\n",
            "The combined sorted list is: [1, 3, 4, 5, 6, 7, 8, 9, 11]\n"
          ]
        }
      ]
    },
    {
      "cell_type": "code",
      "source": [
        "# using heapq.merge()\n",
        "from heapq import merge\n",
        "test_list1 = [1, 5, 6, 9, 11]\n",
        "test_list2 = [3, 4, 7, 8]\n",
        "\n",
        "print(\"list1 : \" ,test_list1)\n",
        "print(\"list2 : \" ,test_list2)\n",
        "\n",
        "res = list(merge(test_list1,test_list2))\n",
        "\n",
        "print(\"The combined sorted list is:\",res)"
      ],
      "metadata": {
        "id": "GQT0cLWV2oV8",
        "colab": {
          "base_uri": "https://localhost:8080/"
        },
        "outputId": "c2fed6ab-7b07-4478-a129-421324881aa6"
      },
      "execution_count": 44,
      "outputs": [
        {
          "output_type": "stream",
          "name": "stdout",
          "text": [
            "list1 :  [1, 5, 6, 9, 11]\n",
            "list2 :  [3, 4, 7, 8]\n",
            "The combined sorted list is: [1, 3, 4, 5, 6, 7, 8, 9, 11]\n"
          ]
        }
      ]
    },
    {
      "cell_type": "code",
      "source": [
        "# using extend and sort\n",
        "test_list1 = [1, 5, 6, 9, 11]\n",
        "test_list2 = [3, 4, 7, 8]\n",
        "\n",
        "print(\"list1 : \" ,test_list1)\n",
        "print(\"list2 : \" ,test_list2)\n",
        "\n",
        "test_list1.extend(test_list2)\n",
        "test_list1.sort()\n",
        "\n",
        "print(\"The combined sorted list is:\",test_list1)"
      ],
      "metadata": {
        "colab": {
          "base_uri": "https://localhost:8080/"
        },
        "id": "-_xIiBuI3qYs",
        "outputId": "e3b8d241-10f4-47cb-cc9a-a361e5d83cb7"
      },
      "execution_count": 45,
      "outputs": [
        {
          "output_type": "stream",
          "name": "stdout",
          "text": [
            "list1 :  [1, 5, 6, 9, 11]\n",
            "list2 :  [3, 4, 7, 8]\n",
            "The combined sorted list is: [1, 3, 4, 5, 6, 7, 8, 9, 11]\n"
          ]
        }
      ]
    },
    {
      "cell_type": "code",
      "source": [
        "# using nupy array\n",
        "import numpy as np\n",
        "test_list1 = [1, 5, 6, 9, 11]\n",
        "test_list2 = [3, 4, 7, 8]\n",
        "\n",
        "array1 = np.array(test_list1)\n",
        "array2 = np.array(test_list2)\n",
        "\n",
        "combined_array = np.concatenate((array1,array2))\n",
        "\n",
        "sorted_combined_array = np.sort(combined_array)\n",
        "\n",
        "res = sorted_combined_array.tolist()\n",
        "\n",
        "print(\"The combined sorted list is:\",res)"
      ],
      "metadata": {
        "colab": {
          "base_uri": "https://localhost:8080/"
        },
        "id": "ZhGPmgHp4I0j",
        "outputId": "ea7698ba-f2d0-4464-9e98-0a7b7a2aeeaa"
      },
      "execution_count": 46,
      "outputs": [
        {
          "output_type": "stream",
          "name": "stdout",
          "text": [
            "The combined sorted list is: [1, 3, 4, 5, 6, 7, 8, 9, 11]\n"
          ]
        }
      ]
    },
    {
      "cell_type": "code",
      "source": [
        "# using itertools.chain() and sorted()\n",
        "import itertools\n",
        "\n",
        "test_list1 = [1, 5, 6, 9, 11]\n",
        "test_list2 = [3, 4, 7, 8]\n",
        "\n",
        "merged_list = sorted(itertools.chain(test_list1,test_list2))\n",
        "\n",
        "print(\"The combined sorted list is:\",list(merged_list))"
      ],
      "metadata": {
        "colab": {
          "base_uri": "https://localhost:8080/"
        },
        "id": "dpxHx6Uj5kW7",
        "outputId": "48871acc-88c1-4d8f-9707-b5b60c3c883c"
      },
      "execution_count": 47,
      "outputs": [
        {
          "output_type": "stream",
          "name": "stdout",
          "text": [
            "The combined sorted list is: [1, 3, 4, 5, 6, 7, 8, 9, 11]\n"
          ]
        }
      ]
    }
  ]
}