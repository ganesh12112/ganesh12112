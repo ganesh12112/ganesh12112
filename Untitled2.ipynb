{
  "nbformat": 4,
  "nbformat_minor": 0,
  "metadata": {
    "colab": {
      "provenance": [],
      "authorship_tag": "ABX9TyMm060a8XPBczmRrrCXxW7l",
      "include_colab_link": true
    },
    "kernelspec": {
      "name": "python3",
      "display_name": "Python 3"
    },
    "language_info": {
      "name": "python"
    }
  },
  "cells": [
    {
      "cell_type": "markdown",
      "metadata": {
        "id": "view-in-github",
        "colab_type": "text"
      },
      "source": [
        "<a href=\"https://colab.research.google.com/github/ganesh12112/ganesh12112/blob/main/Untitled2.ipynb\" target=\"_parent\"><img src=\"https://colab.research.google.com/assets/colab-badge.svg\" alt=\"Open In Colab\"/></a>"
      ]
    },
    {
      "cell_type": "code",
      "execution_count": 6,
      "metadata": {
        "colab": {
          "base_uri": "https://localhost:8080/"
        },
        "id": "N__2me563Ibh",
        "outputId": "0a6a3b41-346f-4f0c-f9ca-58b75d5e6acc"
      },
      "outputs": [
        {
          "output_type": "stream",
          "name": "stdout",
          "text": [
            "9\n",
            "odd number= 1\n",
            "even number= 2\n",
            "odd number= 3\n",
            "even number= 4\n",
            "odd number= 5\n",
            "even number= 6\n",
            "odd number= 7\n",
            "even number= 8\n",
            "odd number= 9\n",
            "even number= 10\n",
            "odd number= 11\n",
            "even number= 12\n",
            "odd number= 13\n",
            "even number= 14\n",
            "odd number= 15\n",
            "even number= 16\n",
            "odd number= 17\n",
            "even number= 18\n",
            "odd number= 19\n",
            "even number= 20\n",
            "evensum= 110\n",
            "oddsum= 100\n"
          ]
        }
      ],
      "source": [
        "# assigment number 1\n",
        "# take numbers = 1,20 print even and odd\n",
        "list1 = range(1,20)\n",
        "print(list1[8])\n",
        "\n",
        "for i in range(1,21):\n",
        "     if (i%2 == 0):\n",
        "        print(\"even number=\",i) # even numbers\n",
        "     else:\n",
        "        print(\"odd number=\",i) # oddnumber\n",
        "# assignment number 2\n",
        "# take numbers = 1,20 print the sum even and odd\n",
        "evensum = 0\n",
        "oddsum = 0\n",
        "for i in range(1,21):\n",
        "     if (i%2 == 0):\n",
        "        #print(\"even number=\",i)\n",
        "        evensum = evensum+i # even numbers\n",
        "     else:\n",
        "        #print(\"odd number=\",i)\n",
        "        oddsum = oddsum+i # oddnumber\n",
        "print(\"evensum=\",evensum)\n",
        "print(\"oddsum=\",oddsum)"
      ]
    },
    {
      "cell_type": "code",
      "source": [
        "# comparison operators ==,>,<,>=,<= !=\n",
        "# membership operators in,is,not,in\n",
        "a = 20\n",
        "b = 30\n",
        "if (a>b):\n",
        "  print(a,\"is large\")\n",
        "else:\n",
        "  print(b,\"is large\")\n",
        "# asking the user to enter the value from keyboard\n",
        "c = int(input(\"enter the number:\"))\n",
        "d = int (input(\"enter the number:\"))\n",
        "if (c<d):\n",
        "  print(\"c is smaller\")\n",
        "else:\n",
        "  print(\"d is smaller\")\n",
        "# membership operators used in the list mostly to checik where element is present or not\n",
        "list1 = [10,20,30,40]\n",
        "x = 10\n",
        "print(x in list1)\n",
        "# cmp() used to comapre the list\n",
        "# list(seq) used to convert tuple in to list\n",
        "# list.append(obj) append object to list\n",
        "# list.count()\n",
        "# list.extend(seq) Appends contents of seq to list\n",
        "# list.index(obj)\n",
        "#list.insert(index,obj)\n",
        "# list.pop(obj=list[-1]) removes and returns last object or obj from list\n",
        "# list.remove(obj) remove obj from list\n",
        "# list.reverse() Reverses object of list in place\n",
        "# list.sort([func])"
      ],
      "metadata": {
        "colab": {
          "base_uri": "https://localhost:8080/"
        },
        "id": "_zwuY1YU5rKP",
        "outputId": "75886db5-1e88-4f85-cfd4-c282b1082ade"
      },
      "execution_count": 7,
      "outputs": [
        {
          "output_type": "stream",
          "name": "stdout",
          "text": [
            "30 is large\n",
            "enter the number:10\n",
            "enter the number:45\n",
            "c is smaller\n",
            "True\n"
          ]
        }
      ]
    },
    {
      "cell_type": "code",
      "source": [
        "list1 = [10,20,30,40]\n",
        "list2= [45]\n",
        "print(len(list1))\n",
        "print(list1+list2)\n",
        "print(list2*2)\n",
        "list1.append(90)\n",
        "print(list1)\n",
        "list1.insert(0,56)\n",
        "print(list1)\n",
        "print(list1.pop())\n",
        "list1.remove(30)\n",
        "print(list1)\n"
      ],
      "metadata": {
        "colab": {
          "base_uri": "https://localhost:8080/"
        },
        "id": "ksSmrJ8p_ubK",
        "outputId": "06bc1b27-820a-4f3f-a90a-0957f1fa4504"
      },
      "execution_count": 14,
      "outputs": [
        {
          "output_type": "stream",
          "name": "stdout",
          "text": [
            "4\n",
            "[10, 20, 30, 40, 45]\n",
            "[45, 45]\n",
            "[10, 20, 30, 40, 90]\n",
            "[56, 10, 20, 30, 40, 90]\n",
            "90\n",
            "[56, 10, 20, 40]\n"
          ]
        }
      ]
    },
    {
      "cell_type": "code",
      "source": [
        "# assignment on lists\n",
        "list1 = [10,20,30,40,30,50,30,60]\n",
        "print(list1.count(30))\n",
        "print(list1)\n",
        "list1.insert(1,100)\n",
        "print(list1)\n",
        "# reversing the list use pop and append\n",
        "list1.reverse()\n",
        "print(list1)\n",
        "list1.pop(-1)\n",
        "print(list1)\n",
        "list1.append(45)\n",
        "print(list1)\n"
      ],
      "metadata": {
        "colab": {
          "base_uri": "https://localhost:8080/"
        },
        "id": "BYCQ5q8_CWDr",
        "outputId": "3d2f79fd-82c0-4c6d-f483-4cce742ad033"
      },
      "execution_count": 23,
      "outputs": [
        {
          "output_type": "stream",
          "name": "stdout",
          "text": [
            "3\n",
            "[10, 20, 30, 40, 30, 50, 30, 60]\n",
            "[10, 100, 20, 30, 40, 30, 50, 30, 60]\n",
            "[60, 30, 50, 30, 40, 30, 20, 100, 10]\n",
            "[60, 30, 50, 30, 40, 30, 20, 100]\n",
            "[60, 30, 50, 30, 40, 30, 20, 100, 45]\n"
          ]
        }
      ]
    },
    {
      "cell_type": "code",
      "source": [
        "# reversing the string by using for loop\n",
        "list1 = [10,20,30,40,30,50,30,60]\n",
        "print(list1)\n",
        "list2 = []\n",
        "for i in range(0,len(list1)):\n",
        "    x = list1.pop()\n",
        "    list2.append(x)\n",
        "print(list2)"
      ],
      "metadata": {
        "colab": {
          "base_uri": "https://localhost:8080/"
        },
        "id": "wzIlJk9TGzf4",
        "outputId": "dd5dd25d-7743-44d6-bfd2-a341935f4b4b"
      },
      "execution_count": 25,
      "outputs": [
        {
          "output_type": "stream",
          "name": "stdout",
          "text": [
            "[10, 20, 30, 40, 30, 50, 30, 60]\n",
            "[60, 30, 50, 30, 40, 30, 20, 10]\n"
          ]
        }
      ]
    }
  ]
}