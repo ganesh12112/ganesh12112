{
  "nbformat": 4,
  "nbformat_minor": 0,
  "metadata": {
    "colab": {
      "provenance": [],
      "authorship_tag": "ABX9TyNWPUOA72Y9PgNZnvzHxMtV",
      "include_colab_link": true
    },
    "kernelspec": {
      "name": "python3",
      "display_name": "Python 3"
    },
    "language_info": {
      "name": "python"
    }
  },
  "cells": [
    {
      "cell_type": "markdown",
      "metadata": {
        "id": "view-in-github",
        "colab_type": "text"
      },
      "source": [
        "<a href=\"https://colab.research.google.com/github/ganesh12112/ganesh12112/blob/main/session_6_ai_and_ml.ipynb\" target=\"_parent\"><img src=\"https://colab.research.google.com/assets/colab-badge.svg\" alt=\"Open In Colab\"/></a>"
      ]
    },
    {
      "cell_type": "code",
      "execution_count": 2,
      "metadata": {
        "colab": {
          "base_uri": "https://localhost:8080/"
        },
        "id": "1b36-xIvzj4A",
        "outputId": "20e88cd8-9b85-4072-ab8e-48616402654b"
      },
      "outputs": [
        {
          "output_type": "stream",
          "name": "stdout",
          "text": [
            "[[1 1]\n",
            " [1 2]\n",
            " [2 2]\n",
            " [2 3]]\n",
            "[ 6  8  9 11]\n"
          ]
        }
      ],
      "source": [
        "#linear regression model\n",
        "# sklearn.linear_model.LinearRegression is the module used to implement linear regression\n",
        "# parmetres of LinearRegression module\n",
        "\n",
        "# 1.fit_intercept -Boolean,optional,default True\n",
        "# used to calculate the intercept for the model ,No intercept wil be used in the calculation if this set to false\n",
        "\n",
        "# 2.normalize - Boolean,optional,default True\n",
        "# if this parameter is set to True ,the regressor X will be normalized before regression.\n",
        "# the normalization will be done by subtracting the mean and dividing it by L2 norm.\n",
        "# if fit_intercept = False ,this parameter will be ignored.\n",
        "\n",
        "# 3.copy_X - Boolean,optional,default True\n",
        "#By default , it is true which means X will be copied.But if it is set to false,X may be overwritten\n",
        "\n",
        "# 4.n_jobs - int or None ,optional(default = None)\n",
        "#it represents the number of jobs to use for the computation\n",
        "\n",
        "# attributes\n",
        "# 1.coef_ - array,shape(n_features) or (n_targets,n_features)\n",
        "# it is used to estimate the coeffients for the linear regression problem.it-\n",
        "# would be a 2d array of shape (n_targets,n_features) if multiple targets are passed -\n",
        "#during fit Ex.(y 2D). On the other hand it would be a 1D array of length(n_features)-\n",
        "# if only one target is passed during fit\n",
        "\n",
        "# 2.Intercept_ - array\n",
        "# this is an independent term in this linear model\n",
        "\n",
        "#Implementation example\n",
        "import numpy as np\n",
        "from sklearn.linear_model import LinearRegression\n",
        "# now provide values of independent variable X\n",
        "x = np.array([[1,1],[1,2],[2,2],[2,3]]) # every sample has two features\n",
        "# for Y\n",
        "y = np.dot(x,np.array([1,2]))+3 # it is in y=mx+c i.e x as input and m (value)= taken as matrix[1,2] and c= 3\n",
        "print(x)\n",
        "print(y)\n",
        "\n",
        "# train the model\n",
        "# now create a linear regression object as follows\n",
        "regr = LinearRegression(fit_intercept = True,normalize = True,copy_x=True,n_jobs =2).fit(x,y)\n",
        "# use predict() method to predict using this linear model as follows\n",
        "#regr.predict(np.array([3,5]))"
      ]
    }
  ]
}