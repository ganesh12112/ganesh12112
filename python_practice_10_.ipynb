{
  "nbformat": 4,
  "nbformat_minor": 0,
  "metadata": {
    "colab": {
      "provenance": [],
      "authorship_tag": "ABX9TyOKQFWG/DXr39Cs21FyPKKS",
      "include_colab_link": true
    },
    "kernelspec": {
      "name": "python3",
      "display_name": "Python 3"
    },
    "language_info": {
      "name": "python"
    }
  },
  "cells": [
    {
      "cell_type": "markdown",
      "metadata": {
        "id": "view-in-github",
        "colab_type": "text"
      },
      "source": [
        "<a href=\"https://colab.research.google.com/github/ganesh12112/ganesh12112/blob/main/python_practice_10_.ipynb\" target=\"_parent\"><img src=\"https://colab.research.google.com/assets/colab-badge.svg\" alt=\"Open In Colab\"/></a>"
      ]
    },
    {
      "cell_type": "code",
      "execution_count": null,
      "metadata": {
        "id": "K3Ym5deGmnOc"
      },
      "outputs": [],
      "source": [
        "# python else if\n",
        "# control flow used in direction of program execution\n",
        "# types of control flow in python\n",
        "# if ,if - else, nested-if , if-elif-else ladder"
      ]
    },
    {
      "cell_type": "code",
      "source": [
        "# python\n",
        "# if statement - simple decision - making statement\n",
        "# example\n",
        "i = 10\n",
        "\n",
        "if i > 15:\n",
        "  print('10 is higher')\n",
        "print(\"i am not in if\")"
      ],
      "metadata": {
        "colab": {
          "base_uri": "https://localhost:8080/"
        },
        "id": "_98MyewZoXgf",
        "outputId": "8fd43788-a08c-4782-d8e7-61164a49ba10"
      },
      "execution_count": 1,
      "outputs": [
        {
          "output_type": "stream",
          "name": "stdout",
          "text": [
            "i am not in if\n"
          ]
        }
      ]
    },
    {
      "cell_type": "code",
      "source": [
        "# python if-else\n",
        "i = 20\n",
        "if i < 15:\n",
        "  print(\"i is smaller than 15\")\n",
        "else:\n",
        "  print(\"i is greater than 15\")"
      ],
      "metadata": {
        "colab": {
          "base_uri": "https://localhost:8080/"
        },
        "id": "Ac6Qx7CCsEDb",
        "outputId": "6882aa4a-3963-4af5-e244-feb0662923ad"
      },
      "execution_count": 2,
      "outputs": [
        {
          "output_type": "stream",
          "name": "stdout",
          "text": [
            "i is greater than 15\n"
          ]
        }
      ]
    },
    {
      "cell_type": "code",
      "source": [
        "# python if else in a list comprehension ###### revise\n",
        "# explict function\\\n",
        "# is it neccesary to use return stateemnt in function??\n",
        "def digitSum(n):\n",
        "    dsum = 0\n",
        "    for ele in str(n):\n",
        "        dsum += int(ele)\n",
        "    return dsum\n",
        "\n",
        "List = [367, 111, 562, 945, 6726, 873]\n",
        "\n",
        "# Using the function on odd elements of the list\n",
        "newList = [digitSum(i) for i in List if i & 1]\n",
        "\n",
        "print(newList)"
      ],
      "metadata": {
        "colab": {
          "base_uri": "https://localhost:8080/"
        },
        "id": "gyi-nWmIvYwi",
        "outputId": "2c39c854-d577-4df5-b48f-2b1713ccda89"
      },
      "execution_count": 3,
      "outputs": [
        {
          "output_type": "stream",
          "name": "stdout",
          "text": [
            "[16, 3, 18, 18]\n"
          ]
        }
      ]
    },
    {
      "cell_type": "code",
      "source": [
        "# nested if statement in python\n",
        "i = 10\n",
        "if i == 10:\n",
        "  if i <15:\n",
        "    print(\"i is smaller than 15\")\n",
        "  if i<12:                              # nested if statement\n",
        "    print(\"i is the smaller than 12 too\")\n",
        "  else:\n",
        "    print(\"i is greater than 15\")"
      ],
      "metadata": {
        "colab": {
          "base_uri": "https://localhost:8080/"
        },
        "id": "2_Re-zEAzYPA",
        "outputId": "d22628c2-1ddb-42e4-f22d-7faa08801dec"
      },
      "execution_count": 4,
      "outputs": [
        {
          "output_type": "stream",
          "name": "stdout",
          "text": [
            "i is smaller than 15\n",
            "i is the smaller than 12 too\n"
          ]
        }
      ]
    },
    {
      "cell_type": "code",
      "source": [
        "# python if - elif - else ladder\n",
        "i = 20\n",
        "if i == 10:\n",
        "  print(\"i is 10\")\n",
        "elif i == 15:\n",
        "  print(\"i is 15\")\n",
        "elif i == 20:\n",
        "  print(\"i is 20\")\n",
        "else:\n",
        "  print(\"i is not present\")"
      ],
      "metadata": {
        "colab": {
          "base_uri": "https://localhost:8080/"
        },
        "id": "RCTX-NE40Q94",
        "outputId": "2929bd7f-d3e2-43ad-9e70-94318c40bd66"
      },
      "execution_count": 5,
      "outputs": [
        {
          "output_type": "stream",
          "name": "stdout",
          "text": [
            "i is 20\n"
          ]
        }
      ]
    },
    {
      "cell_type": "code",
      "source": [
        "# short hand if  statement\n",
        "i = 10\n",
        "if i < 15: print(\"i is less than 15\")"
      ],
      "metadata": {
        "colab": {
          "base_uri": "https://localhost:8080/"
        },
        "id": "j3MxnWEQ1c3Z",
        "outputId": "d013e158-78c0-4c7c-da71-c106915060fa"
      },
      "execution_count": 7,
      "outputs": [
        {
          "output_type": "stream",
          "name": "stdout",
          "text": [
            "i is less than 15\n"
          ]
        }
      ]
    },
    {
      "cell_type": "code",
      "source": [
        "# short hand if - else statement\n",
        "# if- else in single line\n",
        "i = 10\n",
        "print(True) if i <15 else print(False)"
      ],
      "metadata": {
        "colab": {
          "base_uri": "https://localhost:8080/"
        },
        "id": "0esLGAYy1EZ5",
        "outputId": "ec35a94c-dc09-49b2-b13f-77a5d1af2c47"
      },
      "execution_count": 6,
      "outputs": [
        {
          "output_type": "stream",
          "name": "stdout",
          "text": [
            "True\n"
          ]
        }
      ]
    }
  ]
}