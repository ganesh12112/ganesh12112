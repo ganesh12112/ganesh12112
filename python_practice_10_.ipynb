{
  "nbformat": 4,
  "nbformat_minor": 0,
  "metadata": {
    "colab": {
      "provenance": [],
      "authorship_tag": "ABX9TyPObpaAfAs4ywtDegvbFZRM",
      "include_colab_link": true
    },
    "kernelspec": {
      "name": "python3",
      "display_name": "Python 3"
    },
    "language_info": {
      "name": "python"
    }
  },
  "cells": [
    {
      "cell_type": "markdown",
      "metadata": {
        "id": "view-in-github",
        "colab_type": "text"
      },
      "source": [
        "<a href=\"https://colab.research.google.com/github/ganesh12112/ganesh12112/blob/main/python_practice_10_.ipynb\" target=\"_parent\"><img src=\"https://colab.research.google.com/assets/colab-badge.svg\" alt=\"Open In Colab\"/></a>"
      ]
    },
    {
      "cell_type": "code",
      "execution_count": null,
      "metadata": {
        "id": "K3Ym5deGmnOc"
      },
      "outputs": [],
      "source": [
        "# python else if\n",
        "# control flow used in direction of program execution\n",
        "# types of control flow in python\n",
        "# if ,if - else, nested-if , if-elif-else ladder"
      ]
    },
    {
      "cell_type": "code",
      "source": [
        "# python\n",
        "# if statement - simple decision - making statement\n",
        "# example\n",
        "i = 10\n",
        "\n",
        "if i > 15:\n",
        "  print('10 is higher')\n",
        "print(\"i am not in if\")"
      ],
      "metadata": {
        "colab": {
          "base_uri": "https://localhost:8080/"
        },
        "id": "_98MyewZoXgf",
        "outputId": "8fd43788-a08c-4782-d8e7-61164a49ba10"
      },
      "execution_count": null,
      "outputs": [
        {
          "output_type": "stream",
          "name": "stdout",
          "text": [
            "i am not in if\n"
          ]
        }
      ]
    },
    {
      "cell_type": "code",
      "source": [
        "# python if-else\n",
        "i = 20\n",
        "if i < 15:\n",
        "  print(\"i is smaller than 15\")\n",
        "else:\n",
        "  print(\"i is greater than 15\")"
      ],
      "metadata": {
        "colab": {
          "base_uri": "https://localhost:8080/"
        },
        "id": "Ac6Qx7CCsEDb",
        "outputId": "6882aa4a-3963-4af5-e244-feb0662923ad"
      },
      "execution_count": null,
      "outputs": [
        {
          "output_type": "stream",
          "name": "stdout",
          "text": [
            "i is greater than 15\n"
          ]
        }
      ]
    },
    {
      "cell_type": "code",
      "source": [
        "# python if else in a list comprehension ###### revise\n",
        "# explict function\\\n",
        "# is it neccesary to use return stateemnt in function??\n",
        "def digitSum(n):\n",
        "    dsum = 0\n",
        "    for ele in str(n):\n",
        "        dsum += int(ele)\n",
        "    return dsum\n",
        "\n",
        "List = [367, 111, 562, 945, 6726, 873]\n",
        "\n",
        "# Using the function on odd elements of the list\n",
        "newList = [digitSum(i) for i in List if i & 1]\n",
        "\n",
        "print(newList)"
      ],
      "metadata": {
        "colab": {
          "base_uri": "https://localhost:8080/"
        },
        "id": "gyi-nWmIvYwi",
        "outputId": "2c39c854-d577-4df5-b48f-2b1713ccda89"
      },
      "execution_count": null,
      "outputs": [
        {
          "output_type": "stream",
          "name": "stdout",
          "text": [
            "[16, 3, 18, 18]\n"
          ]
        }
      ]
    },
    {
      "cell_type": "code",
      "source": [
        "# nested if statement in python\n",
        "i = 10\n",
        "if i == 10:\n",
        "  if i <15:\n",
        "    print(\"i is smaller than 15\")\n",
        "  if i<12:                              # nested if statement\n",
        "    print(\"i is the smaller than 12 too\")\n",
        "  else:\n",
        "    print(\"i is greater than 15\")"
      ],
      "metadata": {
        "colab": {
          "base_uri": "https://localhost:8080/"
        },
        "id": "2_Re-zEAzYPA",
        "outputId": "d22628c2-1ddb-42e4-f22d-7faa08801dec"
      },
      "execution_count": null,
      "outputs": [
        {
          "output_type": "stream",
          "name": "stdout",
          "text": [
            "i is smaller than 15\n",
            "i is the smaller than 12 too\n"
          ]
        }
      ]
    },
    {
      "cell_type": "code",
      "source": [
        "# python if - elif - else ladder\n",
        "i = 20\n",
        "if i == 10:\n",
        "  print(\"i is 10\")\n",
        "elif i == 15:\n",
        "  print(\"i is 15\")\n",
        "elif i == 20:\n",
        "  print(\"i is 20\")\n",
        "else:\n",
        "  print(\"i is not present\")"
      ],
      "metadata": {
        "colab": {
          "base_uri": "https://localhost:8080/"
        },
        "id": "RCTX-NE40Q94",
        "outputId": "2929bd7f-d3e2-43ad-9e70-94318c40bd66"
      },
      "execution_count": null,
      "outputs": [
        {
          "output_type": "stream",
          "name": "stdout",
          "text": [
            "i is 20\n"
          ]
        }
      ]
    },
    {
      "cell_type": "code",
      "source": [
        "# short hand if  statement\n",
        "i = 10\n",
        "if i < 15: print(\"i is less than 15\")"
      ],
      "metadata": {
        "colab": {
          "base_uri": "https://localhost:8080/"
        },
        "id": "j3MxnWEQ1c3Z",
        "outputId": "d013e158-78c0-4c7c-da71-c106915060fa"
      },
      "execution_count": null,
      "outputs": [
        {
          "output_type": "stream",
          "name": "stdout",
          "text": [
            "i is less than 15\n"
          ]
        }
      ]
    },
    {
      "cell_type": "code",
      "source": [
        "# short hand if - else statement\n",
        "# if- else in single line\n",
        "i = 10\n",
        "print(True) if i <15 else print(False)"
      ],
      "metadata": {
        "colab": {
          "base_uri": "https://localhost:8080/"
        },
        "id": "0esLGAYy1EZ5",
        "outputId": "ec35a94c-dc09-49b2-b13f-77a5d1af2c47"
      },
      "execution_count": null,
      "outputs": [
        {
          "output_type": "stream",
          "name": "stdout",
          "text": [
            "True\n"
          ]
        }
      ]
    },
    {
      "cell_type": "code",
      "source": [
        "# chain comparison operators in python\n",
        "# comparison of more than two chain operators\n",
        "# they result in boolean values - TRue or False\n",
        "# they can be chained arbitrarily\n",
        "x = 5\n",
        "print(1 < x <10)\n",
        "print(10 < x <20)\n",
        "print(x < 10 < x*10 <100)\n",
        "print(10 < x <=9)\n",
        "print(5 == x > 4)"
      ],
      "metadata": {
        "colab": {
          "base_uri": "https://localhost:8080/"
        },
        "id": "lY0vuYL6NpBu",
        "outputId": "0a62de66-9735-4727-c071-106fad7ae0f4"
      },
      "execution_count": null,
      "outputs": [
        {
          "output_type": "stream",
          "name": "stdout",
          "text": [
            "True\n",
            "False\n",
            "True\n",
            "False\n",
            "True\n"
          ]
        }
      ]
    },
    {
      "cell_type": "code",
      "source": [
        "a, b,c,d,e,f = 0,5,12,0,15,15\n",
        "exp1 = a <= b < c > d is not e is f\n",
        "exp2 = a is d > f is not c\n",
        "print(exp1)\n",
        "print(exp2)"
      ],
      "metadata": {
        "colab": {
          "base_uri": "https://localhost:8080/"
        },
        "id": "Jtr6pPDLQQ7k",
        "outputId": "094f8a03-8490-411a-945d-16d3578599f4"
      },
      "execution_count": null,
      "outputs": [
        {
          "output_type": "stream",
          "name": "stdout",
          "text": [
            "True\n",
            "False\n"
          ]
        }
      ]
    },
    {
      "cell_type": "code",
      "source": [
        "x = 5\n",
        "y = 10\n",
        "z = 15\n",
        "\n",
        "if x < y < z:\n",
        "  print(\"y is greater than x and less than z\")"
      ],
      "metadata": {
        "colab": {
          "base_uri": "https://localhost:8080/"
        },
        "id": "L_goz_LBRVZd",
        "outputId": "206a3213-1803-4bda-f8a3-122ee972c247"
      },
      "execution_count": null,
      "outputs": [
        {
          "output_type": "stream",
          "name": "stdout",
          "text": [
            "y is greater than x and less than z\n"
          ]
        }
      ]
    },
    {
      "cell_type": "code",
      "source": [
        "x = 5\n",
        "y = 10\n",
        "z = 15\n",
        "\n",
        "if x < y or y < z and z < x:\n",
        "  print(\"This will not be printed as expected\")"
      ],
      "metadata": {
        "colab": {
          "base_uri": "https://localhost:8080/"
        },
        "id": "LB3HMBrGS35r",
        "outputId": "3a77c287-dc72-4772-f4d2-a6aa24cf1cda"
      },
      "execution_count": null,
      "outputs": [
        {
          "output_type": "stream",
          "name": "stdout",
          "text": [
            "This will not be printed as expected\n"
          ]
        }
      ]
    },
    {
      "cell_type": "code",
      "source": [
        "# use parenthesis to get expected result\n",
        "x = 5\n",
        "y = 10\n",
        "z = 15\n",
        "\n",
        "if (x < y or y < z )and z < x:\n",
        "  print(\"This will be printed as expected\") # it correctly reflects intended logic"
      ],
      "metadata": {
        "id": "y5AGxiC6TUMc"
      },
      "execution_count": null,
      "outputs": []
    },
    {
      "cell_type": "code",
      "source": [
        "# python for loops\n",
        "# for loops only implement the collection - based iteration\n",
        "l = [\"ganesh\",\"vinod\",\"fayaz\"]\n",
        "\n",
        "for i in l:\n",
        "  print(i)"
      ],
      "metadata": {
        "colab": {
          "base_uri": "https://localhost:8080/"
        },
        "id": "Ws1sfpBATsHS",
        "outputId": "d3deda77-cb55-4ef9-f560-8587a1d2da13"
      },
      "execution_count": null,
      "outputs": [
        {
          "output_type": "stream",
          "name": "stdout",
          "text": [
            "ganesh\n",
            "vinod\n",
            "fayaz\n"
          ]
        }
      ]
    },
    {
      "cell_type": "code",
      "source": [
        "# for loop in dictionary\n",
        "print(\"Dictionary Iteration\")\n",
        "# why string formatting is important?\n",
        "d = dict()\n",
        "\n",
        "d['xyz'] = 123\n",
        "d['abc'] = 345\n",
        "\n",
        "for i in d:\n",
        "  print(\"% s % d\" % (i,d[i]))"
      ],
      "metadata": {
        "colab": {
          "base_uri": "https://localhost:8080/"
        },
        "id": "WNdZZk4rVTex",
        "outputId": "f4e74d42-9d6d-4e87-aa71-6a5c6592de7e"
      },
      "execution_count": null,
      "outputs": [
        {
          "output_type": "stream",
          "name": "stdout",
          "text": [
            "Dictionary Iteration\n",
            "xyz  123\n",
            "abc  345\n"
          ]
        }
      ]
    },
    {
      "cell_type": "code",
      "source": [
        "s = \"ganesh\"\n",
        "for i in s:\n",
        "  print(i)"
      ],
      "metadata": {
        "colab": {
          "base_uri": "https://localhost:8080/"
        },
        "id": "urmgeXETWeGz",
        "outputId": "c37faeaa-f70f-4ed7-f039-6b4591a20922"
      },
      "execution_count": null,
      "outputs": [
        {
          "output_type": "stream",
          "name": "stdout",
          "text": [
            "g\n",
            "a\n",
            "n\n",
            "e\n",
            "s\n",
            "h\n"
          ]
        }
      ]
    },
    {
      "cell_type": "code",
      "source": [
        "# for loop with a step size\n",
        "for i in range(0,10,2):\n",
        "    print(i)"
      ],
      "metadata": {
        "colab": {
          "base_uri": "https://localhost:8080/"
        },
        "id": "HJxhbd0DWr6i",
        "outputId": "63c318b1-9e4c-4229-caee-2a4828ad9200"
      },
      "execution_count": null,
      "outputs": [
        {
          "output_type": "stream",
          "name": "stdout",
          "text": [
            "0\n",
            "2\n",
            "4\n",
            "6\n",
            "8\n"
          ]
        }
      ]
    },
    {
      "cell_type": "code",
      "source": [
        "# python for loop inside for loop\n",
        "# working of nested for loops ????\n",
        "for i in range(1,4):\n",
        "  for j in range(1,4):\n",
        "    print(i,j)"
      ],
      "metadata": {
        "colab": {
          "base_uri": "https://localhost:8080/"
        },
        "id": "T0t6VRSNW__9",
        "outputId": "f6cfe5a5-71c8-4e22-829a-2d7251e265e5"
      },
      "execution_count": null,
      "outputs": [
        {
          "output_type": "stream",
          "name": "stdout",
          "text": [
            "1 1\n",
            "1 2\n",
            "1 3\n",
            "2 1\n",
            "2 2\n",
            "2 3\n",
            "3 1\n",
            "3 2\n",
            "3 3\n"
          ]
        }
      ]
    },
    {
      "cell_type": "code",
      "source": [
        "fruits = [\"apple\", \"banana\", \"cherry\"]\n",
        "colors = [\"red\", \"yellow\", \"green\"]\n",
        "for fruit,color in zip(fruits,colors):\n",
        "    print(fruit , \"is\" , color)"
      ],
      "metadata": {
        "colab": {
          "base_uri": "https://localhost:8080/"
        },
        "id": "KVOMGCVCbfyJ",
        "outputId": "d069c79d-0f90-478a-a8ac-ef2c63676681"
      },
      "execution_count": null,
      "outputs": [
        {
          "output_type": "stream",
          "name": "stdout",
          "text": [
            "apple is red\n",
            "banana is yellow\n",
            "cherry is green\n"
          ]
        }
      ]
    },
    {
      "cell_type": "code",
      "source": [
        "# what is tuple unpacking?\n",
        "t = ((1,2),(3,4),(5,6))\n",
        "for a , b in t:\n",
        "  print(a,b)"
      ],
      "metadata": {
        "colab": {
          "base_uri": "https://localhost:8080/"
        },
        "id": "K4zDLd_EcBX5",
        "outputId": "27b046d5-3fdb-443e-9871-9ae530757a88"
      },
      "execution_count": null,
      "outputs": [
        {
          "output_type": "stream",
          "name": "stdout",
          "text": [
            "1 2\n",
            "3 4\n",
            "5 6\n"
          ]
        }
      ]
    },
    {
      "cell_type": "code",
      "source": [
        "# loop control statements\n",
        "# what is scope and objects in programming?\n",
        "# for loop with continue statement - returns controll to the beginning of the loop\n",
        "for letter in \"ganeshchowdary\":\n",
        "\n",
        "  if letter == 'e' or letter == \"s\":\n",
        "      continue\n",
        "  print('current letter:',letter)"
      ],
      "metadata": {
        "colab": {
          "base_uri": "https://localhost:8080/"
        },
        "id": "x7E-mhV6cfOV",
        "outputId": "c2992bf3-dfd1-40e4-80af-8ac2bbf9bf7e"
      },
      "execution_count": null,
      "outputs": [
        {
          "output_type": "stream",
          "name": "stdout",
          "text": [
            "current letter: g\n",
            "current letter: a\n",
            "current letter: n\n",
            "current letter: h\n",
            "current letter: c\n",
            "current letter: h\n",
            "current letter: o\n",
            "current letter: w\n",
            "current letter: d\n",
            "current letter: a\n",
            "current letter: r\n",
            "current letter: y\n"
          ]
        }
      ]
    },
    {
      "cell_type": "code",
      "source": [
        "# for loop with break statement\n",
        "for letter in \"ganeshchowdary\":\n",
        "      if letter == 'e' or letter == \"s\":\n",
        "         break\n",
        "      print('current letter:',letter)"
      ],
      "metadata": {
        "colab": {
          "base_uri": "https://localhost:8080/"
        },
        "id": "wvXyJDXCdgu5",
        "outputId": "e67166a1-6f88-4bfa-ac94-d787f746c267"
      },
      "execution_count": null,
      "outputs": [
        {
          "output_type": "stream",
          "name": "stdout",
          "text": [
            "current letter: g\n",
            "current letter: a\n",
            "current letter: n\n"
          ]
        }
      ]
    },
    {
      "cell_type": "code",
      "source": [
        "# for loop with pass statement\n",
        "# write empty loops also used fro empty control statements , functions and classes\n",
        "for letter in \"ganeshchowdary\":\n",
        "    pass\n",
        "print('last letter:',letter)"
      ],
      "metadata": {
        "colab": {
          "base_uri": "https://localhost:8080/"
        },
        "id": "ViKb0gwIeDRQ",
        "outputId": "88830b83-7f0d-45a2-c58e-db8f9f04f5fc"
      },
      "execution_count": null,
      "outputs": [
        {
          "output_type": "stream",
          "name": "stdout",
          "text": [
            "last letter: y\n"
          ]
        }
      ]
    },
    {
      "cell_type": "code",
      "source": [
        "# for loop with range function\n",
        "for i in range(10):\n",
        "  print(i,end=\"\\n\")\n",
        "\n",
        "\n",
        "sum = 0\n",
        "for i in range(1,10):\n",
        "    sum = sum + i\n",
        "print(\"sum of first 10 numbers:\",sum)"
      ],
      "metadata": {
        "colab": {
          "base_uri": "https://localhost:8080/"
        },
        "id": "pACi5Hgpe8NY",
        "outputId": "da681fe8-d761-4dae-e3f6-b4903005d094"
      },
      "execution_count": null,
      "outputs": [
        {
          "output_type": "stream",
          "name": "stdout",
          "text": [
            "0\n",
            "1\n",
            "2\n",
            "3\n",
            "4\n",
            "5\n",
            "6\n",
            "7\n",
            "8\n",
            "9\n",
            "sum of first 10 numbers: 45\n"
          ]
        }
      ]
    },
    {
      "cell_type": "code",
      "source": [
        "# else with for loop\n",
        "# else block is just after for/while is executed only when loop is NOT terminated\n",
        "# by a break statement\n",
        "for i in range(1,4):\n",
        "    print(i)\n",
        "    pass\n",
        "#else:\n",
        "  #print(\"No Break\\n\")"
      ],
      "metadata": {
        "colab": {
          "base_uri": "https://localhost:8080/"
        },
        "id": "K3SZG7GufrIg",
        "outputId": "6686317e-fa74-429c-d5ff-54ee1705b864"
      },
      "execution_count": null,
      "outputs": [
        {
          "output_type": "stream",
          "name": "stdout",
          "text": [
            "1\n",
            "2\n",
            "3\n"
          ]
        }
      ]
    },
    {
      "cell_type": "code",
      "source": [
        "# while loop - indefinite iteration\n",
        "# while loop\n",
        "# what is the difference between intialization and declaration\n",
        "count = 0\n",
        "while count < 3:\n",
        "  count = count + 1\n",
        "  print(\"Hello Ganesh\")"
      ],
      "metadata": {
        "colab": {
          "base_uri": "https://localhost:8080/"
        },
        "id": "D6QmCx_Jg2xa",
        "outputId": "808dca2d-114f-4694-e958-4dc30c90ef71"
      },
      "execution_count": null,
      "outputs": [
        {
          "output_type": "stream",
          "name": "stdout",
          "text": [
            "Hello Ganesh\n",
            "Hello Ganesh\n",
            "Hello Ganesh\n"
          ]
        }
      ]
    },
    {
      "cell_type": "code",
      "source": [
        "# while loop with list\n",
        "# checks if list still contains any element\n",
        "a = [1,2,3,4]\n",
        "\n",
        "while a:\n",
        "  print(a.pop())"
      ],
      "metadata": {
        "colab": {
          "base_uri": "https://localhost:8080/"
        },
        "id": "fmWmr2fqhxdX",
        "outputId": "eae16bf9-0d9d-4e5d-9385-ff5d152ad259"
      },
      "execution_count": null,
      "outputs": [
        {
          "output_type": "stream",
          "name": "stdout",
          "text": [
            "4\n",
            "3\n",
            "2\n",
            "1\n"
          ]
        }
      ]
    },
    {
      "cell_type": "code",
      "source": [
        "# single statement while block\n",
        "count = 0\n",
        "while count < 5: count +=1 ; print(\"Hello Ganesh\")"
      ],
      "metadata": {
        "colab": {
          "base_uri": "https://localhost:8080/"
        },
        "id": "pWciL4kmiYHt",
        "outputId": "65d904a6-e1bb-4b26-e4bc-c766c13d8721"
      },
      "execution_count": null,
      "outputs": [
        {
          "output_type": "stream",
          "name": "stdout",
          "text": [
            "Hello Ganesh\n",
            "Hello Ganesh\n",
            "Hello Ganesh\n",
            "Hello Ganesh\n",
            "Hello Ganesh\n"
          ]
        }
      ]
    },
    {
      "cell_type": "code",
      "source": [
        "# loop control statements\n",
        "# continue in while loop\n",
        "# Prints all letters except 'e' and 's'\n",
        "i = 0\n",
        "a = \"Ganeshchowdary\"\n",
        "\n",
        "while i < len(a):\n",
        "  if a[i] == 'e' or a[i] == 's':\n",
        "      i += 1\n",
        "      continue\n",
        "  print(\"current letter:\",a[i])\n",
        "  i += 1\n",
        "# expression is provided at the last in case of while loops"
      ],
      "metadata": {
        "colab": {
          "base_uri": "https://localhost:8080/"
        },
        "id": "k2h6Eyy-ivAy",
        "outputId": "95569579-54de-4d48-9fcd-f48766815bcc"
      },
      "execution_count": null,
      "outputs": [
        {
          "output_type": "stream",
          "name": "stdout",
          "text": [
            "current letter: G\n",
            "current letter: a\n",
            "current letter: n\n",
            "current letter: h\n",
            "current letter: c\n",
            "current letter: h\n",
            "current letter: o\n",
            "current letter: w\n",
            "current letter: d\n",
            "current letter: a\n",
            "current letter: r\n",
            "current letter: y\n"
          ]
        }
      ]
    },
    {
      "cell_type": "code",
      "source": [
        "# break statement - bring control out of the loop\n",
        "i = 0\n",
        "a = \"Ganeshchowdary\"\n",
        "\n",
        "while i < len(a):\n",
        "  if a[i] == 'e' or a[i] == 's':\n",
        "      i += 1\n",
        "      break\n",
        "  print(\"current letter:\",a[i])\n",
        "  i += 1"
      ],
      "metadata": {
        "colab": {
          "base_uri": "https://localhost:8080/"
        },
        "id": "kqLCFo_4kIgO",
        "outputId": "4b535d4f-a29d-4f7e-c253-dc076fd838d0"
      },
      "execution_count": null,
      "outputs": [
        {
          "output_type": "stream",
          "name": "stdout",
          "text": [
            "current letter: G\n",
            "current letter: a\n",
            "current letter: n\n"
          ]
        }
      ]
    },
    {
      "cell_type": "code",
      "source": [
        "# pass staement\n",
        "i = 0\n",
        "a = \"Ganeshchowdary\"\n",
        "\n",
        "while i < len(a):\n",
        "  if a[i] == 'e' or a[i] == 's':\n",
        "      i += 1\n",
        "      pass\n",
        "  print(\"current letter:\",a[i])\n",
        "  i += 1"
      ],
      "metadata": {
        "colab": {
          "base_uri": "https://localhost:8080/"
        },
        "id": "4amfgBh1kiTS",
        "outputId": "ca9032fd-1b8e-4c7e-9886-cbb41f69b15a"
      },
      "execution_count": null,
      "outputs": [
        {
          "output_type": "stream",
          "name": "stdout",
          "text": [
            "current letter: G\n",
            "current letter: a\n",
            "current letter: n\n",
            "current letter: s\n",
            "current letter: h\n",
            "current letter: c\n",
            "current letter: h\n",
            "current letter: o\n",
            "current letter: w\n",
            "current letter: d\n",
            "current letter: a\n",
            "current letter: r\n",
            "current letter: y\n"
          ]
        }
      ]
    },
    {
      "cell_type": "code",
      "source": [
        "i = 0\n",
        "a = \"Ganeshchowdary\"\n",
        "\n",
        "while i < len(a):\n",
        "      i += 1\n",
        "      pass\n",
        "print(\"Value of i:\", i)"
      ],
      "metadata": {
        "colab": {
          "base_uri": "https://localhost:8080/"
        },
        "id": "ZCaARooCkyWj",
        "outputId": "2934a801-bd9a-4d3e-e80f-53f9e9f9d613"
      },
      "execution_count": null,
      "outputs": [
        {
          "output_type": "stream",
          "name": "stdout",
          "text": [
            "Value of i: 14\n"
          ]
        }
      ]
    },
    {
      "cell_type": "code",
      "source": [
        "# while loop with else:\n",
        "i = 0\n",
        "while i < 4:\n",
        "  i += 1\n",
        "  print(i)\n",
        "else: # Executed because no break in for\n",
        "  print(\"No Break\\n\")\n",
        "\n",
        "i = 0\n",
        "while i < 4:\n",
        "   i += 1\n",
        "   print(i)\n",
        "   break\n",
        "else:  # Not executed as there is a break\n",
        "  print(\"No break\")"
      ],
      "metadata": {
        "colab": {
          "base_uri": "https://localhost:8080/"
        },
        "id": "n5THrxkWlDCv",
        "outputId": "21f950e9-1602-47d0-dacf-f324fbccba4f"
      },
      "execution_count": null,
      "outputs": [
        {
          "output_type": "stream",
          "name": "stdout",
          "text": [
            "1\n",
            "2\n",
            "3\n",
            "4\n",
            "No Break\n",
            "\n",
            "1\n"
          ]
        }
      ]
    },
    {
      "cell_type": "code",
      "source": [
        "#sentinel controlled statements\n",
        "a = int(input('Enter a number (-1 to quit):'))\n",
        "\n",
        "while a != -1:\n",
        "  a = int(input('Enter a number (-1 to quit):'))\n"
      ],
      "metadata": {
        "colab": {
          "base_uri": "https://localhost:8080/"
        },
        "id": "My2y6hYwmRth",
        "outputId": "4c747991-5c3b-4e74-de3a-90d46f3b3a5e"
      },
      "execution_count": null,
      "outputs": [
        {
          "name": "stdout",
          "output_type": "stream",
          "text": [
            "Enter a number (-1 to quit):7\n",
            "Enter a number (-1 to quit):8\n",
            "Enter a number (-1 to quit):8\n",
            "Enter a number (-1 to quit):4\n",
            "Enter a number (-1 to quit):7\n",
            "Enter a number (-1 to quit):9\n",
            "Enter a number (-1 to quit):10\n",
            "Enter a number (-1 to quit):-1\n"
          ]
        }
      ]
    },
    {
      "cell_type": "code",
      "source": [
        "# while loop on boolean values\n",
        "count = 0\n",
        "\n",
        "while True:\n",
        "  count += 1\n",
        "  print(f\"count is {count}\")\n",
        "\n",
        "    # Check if the counter has reached a certain value\n",
        "  if count == 10:\n",
        "    # if so , exit the loop\n",
        "    break\n",
        "print(\"The loop has ended.\")"
      ],
      "metadata": {
        "colab": {
          "base_uri": "https://localhost:8080/"
        },
        "id": "w5uMw1emnNSV",
        "outputId": "30d4356b-8249-435c-d513-9b62ca5a9c07"
      },
      "execution_count": null,
      "outputs": [
        {
          "output_type": "stream",
          "name": "stdout",
          "text": [
            "count is 1\n",
            "count is 2\n",
            "count is 3\n",
            "count is 4\n",
            "count is 5\n",
            "count is 6\n",
            "count is 7\n",
            "count is 8\n",
            "count is 9\n",
            "count is 10\n",
            "The loop has ended.\n"
          ]
        }
      ]
    },
    {
      "cell_type": "code",
      "source": [
        "# python break statement\n",
        "for i in range (10):\n",
        "  print(i)\n",
        "  if i == 2:\n",
        "    break"
      ],
      "metadata": {
        "colab": {
          "base_uri": "https://localhost:8080/"
        },
        "id": "A8sSzO96n07Q",
        "outputId": "6d7925b3-384c-46e9-a938-c86961fd2280"
      },
      "execution_count": null,
      "outputs": [
        {
          "output_type": "stream",
          "name": "stdout",
          "text": [
            "0\n",
            "1\n",
            "2\n"
          ]
        }
      ]
    },
    {
      "cell_type": "code",
      "source": [
        "a = \"ganeshchowdary\"\n",
        "\n",
        "for letter in a:\n",
        "  print(letter)\n",
        "\n",
        "  if letter == \"e\" or letter == 's':\n",
        "     break\n",
        "\n",
        "print(\"out of for loop\")\n",
        "print()\n",
        "\n",
        "i = 0\n",
        "while True:\n",
        "  print(a[i])\n",
        "\n",
        "\n",
        "  if a[i] == \"e\" or a[i] == 's':\n",
        "     break\n",
        "  i += 1\n",
        "print(\"out of while loop\")"
      ],
      "metadata": {
        "colab": {
          "base_uri": "https://localhost:8080/"
        },
        "id": "keUg3MO2qEg0",
        "outputId": "c121b7e6-6d2b-46ec-c2cf-cdf7414f8aff"
      },
      "execution_count": null,
      "outputs": [
        {
          "output_type": "stream",
          "name": "stdout",
          "text": [
            "g\n",
            "a\n",
            "n\n",
            "e\n",
            "out of for loop\n",
            "\n",
            "g\n",
            "a\n",
            "n\n",
            "e\n",
            "out of while loop\n"
          ]
        }
      ]
    },
    {
      "cell_type": "code",
      "source": [
        "# exaple of break unsing for loop with if\n",
        "num = 0\n",
        "for i in range(10):\n",
        "  num += 1\n",
        "  if num == 8:\n",
        "    break\n",
        "  print(\"the num has value:\",num)\n",
        "print(\"out of loop\")"
      ],
      "metadata": {
        "colab": {
          "base_uri": "https://localhost:8080/"
        },
        "id": "UiQTE8fes0F7",
        "outputId": "6b7b1dd5-01a8-4cf9-cee4-bd181c27f99f"
      },
      "execution_count": null,
      "outputs": [
        {
          "output_type": "stream",
          "name": "stdout",
          "text": [
            "the num has value: 1\n",
            "the num has value: 2\n",
            "the num has value: 3\n",
            "the num has value: 4\n",
            "the num has value: 5\n",
            "the num has value: 6\n",
            "the num has value: 7\n",
            "out of loop\n"
          ]
        }
      ]
    },
    {
      "cell_type": "code",
      "source": [
        "# continue statement:\n",
        "for var in \"ganeshchowdary\":\n",
        "  if var == \"e\":\n",
        "    continue\n",
        "  print(var,end=\" \")"
      ],
      "metadata": {
        "colab": {
          "base_uri": "https://localhost:8080/"
        },
        "id": "MfCL_-irtiNs",
        "outputId": "9d43de25-6778-4148-d927-cd9d30638c33"
      },
      "execution_count": null,
      "outputs": [
        {
          "output_type": "stream",
          "name": "stdout",
          "text": [
            "g a n s h c h o w d a r y "
          ]
        }
      ]
    },
    {
      "cell_type": "code",
      "source": [
        "# another example\n",
        "for  i in range(1,11):\n",
        "  if i == 6:\n",
        "    continue\n",
        "  else:\n",
        "    print(i,end=\" \")"
      ],
      "metadata": {
        "colab": {
          "base_uri": "https://localhost:8080/"
        },
        "id": "cZYBsA_luZhD",
        "outputId": "14aa924d-cca2-4a51-8140-796181e035d8"
      },
      "execution_count": null,
      "outputs": [
        {
          "output_type": "stream",
          "name": "stdout",
          "text": [
            "1 2 3 4 5 7 8 9 10 "
          ]
        }
      ]
    },
    {
      "cell_type": "code",
      "source": [
        "#continue with nested loops\n",
        "# prints all the elements in the nested list\n",
        "# except for the ones with value 3\n",
        "nested_list = [[1,2,3],[4,5,6],[7,8,9]]\n",
        "\n",
        "for i in nested_list:\n",
        "  for j in i:\n",
        "    if j == 3:\n",
        "      continue\n",
        "    print(j)"
      ],
      "metadata": {
        "colab": {
          "base_uri": "https://localhost:8080/"
        },
        "id": "FLfdjS3Auspy",
        "outputId": "29c4d4c2-dc5e-4bbd-ef62-90917300a1f0"
      },
      "execution_count": null,
      "outputs": [
        {
          "output_type": "stream",
          "name": "stdout",
          "text": [
            "1\n",
            "2\n",
            "4\n",
            "5\n",
            "6\n",
            "7\n",
            "8\n",
            "9\n"
          ]
        }
      ]
    },
    {
      "cell_type": "code",
      "source": [
        "# continue with while loop\n",
        "i = 0\n",
        "while i < 10:\n",
        "  if i == 5:\n",
        "    i += 1\n",
        "    continue\n",
        "  print(i)\n",
        "  i += 1"
      ],
      "metadata": {
        "colab": {
          "base_uri": "https://localhost:8080/"
        },
        "id": "q1g187bKBrHf",
        "outputId": "136a91ff-fd59-4247-abf1-7556e018eabb"
      },
      "execution_count": null,
      "outputs": [
        {
          "output_type": "stream",
          "name": "stdout",
          "text": [
            "0\n",
            "1\n",
            "2\n",
            "3\n",
            "4\n",
            "6\n",
            "7\n",
            "8\n",
            "9\n"
          ]
        }
      ]
    },
    {
      "cell_type": "code",
      "source": [
        "# python pass statement - null statement\n",
        "# comment is ignored by the interpreter but pass is not\n",
        "# if we don't use pass here - gives the indendation error\n",
        "n = 26\n",
        "if n > 26:\n",
        "  pass\n",
        "print(\"geeks\")"
      ],
      "metadata": {
        "colab": {
          "base_uri": "https://localhost:8080/"
        },
        "id": "Qw9-s_ETC3-I",
        "outputId": "9d2a2546-3c78-4054-8835-f942830ea8e3"
      },
      "execution_count": null,
      "outputs": [
        {
          "output_type": "stream",
          "name": "stdout",
          "text": [
            "geeks\n"
          ]
        }
      ]
    },
    {
      "cell_type": "code",
      "source": [
        "# python pass keywords can be used in empty functions\n",
        "def function():\n",
        "  pass"
      ],
      "metadata": {
        "id": "ErB5D8h8EOWH"
      },
      "execution_count": null,
      "outputs": []
    },
    {
      "cell_type": "code",
      "source": [
        "# pass kw in class\n",
        "class ganesh:\n",
        "  pass"
      ],
      "metadata": {
        "id": "5RxHOG-cEZL8"
      },
      "execution_count": null,
      "outputs": []
    },
    {
      "cell_type": "code",
      "source": [
        "# pass kw in loop\n",
        "n = 10\n",
        "for i in range(n):\n",
        "  # it can be used as place holder - where we want to write the code later\n",
        "  pass"
      ],
      "metadata": {
        "id": "YRIt6PbREguu"
      },
      "execution_count": null,
      "outputs": []
    },
    {
      "cell_type": "code",
      "source": [
        "# pass kw in conditional statement\n",
        "a = 10\n",
        "b = 20\n",
        "\n",
        "if a < b:\n",
        "  pass\n",
        "else:\n",
        "  print(\"b<a\")"
      ],
      "metadata": {
        "id": "zTF-sGWkE27H"
      },
      "execution_count": null,
      "outputs": []
    },
    {
      "cell_type": "code",
      "source": [
        "li = [\"a\",\"b\",\"c\",\"d\"]\n",
        "\n",
        "for i in li:\n",
        "  if i == 'a':\n",
        "    pass\n",
        "  else:\n",
        "    print(i)"
      ],
      "metadata": {
        "colab": {
          "base_uri": "https://localhost:8080/"
        },
        "id": "IUB---u6FKf3",
        "outputId": "d726a50f-523c-4c79-d946-d8420905969f"
      },
      "execution_count": null,
      "outputs": [
        {
          "output_type": "stream",
          "name": "stdout",
          "text": [
            "b\n",
            "c\n",
            "d\n"
          ]
        }
      ]
    },
    {
      "cell_type": "code",
      "source": [
        "# pass in class\n",
        "# what is the use of self keyword\n",
        "class MyClass:\n",
        "  def _init_(self):\n",
        "    pass"
      ],
      "metadata": {
        "id": "r_jElVmIGNk4"
      },
      "execution_count": null,
      "outputs": []
    },
    {
      "cell_type": "code",
      "source": [
        "# looping techniques in python\n",
        "# using enumerate()\n",
        "for key,value in enumerate(['SALLAR','CIESE','FIRE','PART-1']):\n",
        "    print(key,value)"
      ],
      "metadata": {
        "colab": {
          "base_uri": "https://localhost:8080/"
        },
        "id": "WhBGu2hnGpsv",
        "outputId": "1cb9057d-acb6-4899-8fee-c2b151ce3ffb"
      },
      "execution_count": null,
      "outputs": [
        {
          "output_type": "stream",
          "name": "stdout",
          "text": [
            "0 SALLAR\n",
            "1 CIESE\n",
            "2 FIRE\n",
            "3 PART-1\n"
          ]
        }
      ]
    },
    {
      "cell_type": "code",
      "source": [
        "for key,value in enumerate(['SALLAR','CIESE','FIRE','PART-1']):\n",
        "    print(value,end=\" \")"
      ],
      "metadata": {
        "colab": {
          "base_uri": "https://localhost:8080/"
        },
        "id": "Z18mrX2_Jq2-",
        "outputId": "cc68c2be-d2a6-4b46-8a88-05859cced2a2"
      },
      "execution_count": null,
      "outputs": [
        {
          "output_type": "stream",
          "name": "stdout",
          "text": [
            "SALLAR CIESE FIRE PART-1 "
          ]
        }
      ]
    },
    {
      "cell_type": "code",
      "source": [
        "# using zip()\n",
        "# two different data type(list,tuple)\n",
        "names = ['SALAAR','CIESE','FIRE','PART-1']\n",
        "charac = (\"deva\",\"varadha\",\"ranga\",\"radha\")\n",
        "\n",
        "for names,charac in zip(names,charac):\n",
        "  print('Name:',names)\n",
        "  print('Charac:',charac)\n",
        "  print()\n"
      ],
      "metadata": {
        "colab": {
          "base_uri": "https://localhost:8080/"
        },
        "id": "Yk84PVYOJxUW",
        "outputId": "61a776ac-e726-4f94-b07c-308777ad50ed"
      },
      "execution_count": null,
      "outputs": [
        {
          "output_type": "stream",
          "name": "stdout",
          "text": [
            "Name: SALAAR\n",
            "Charac: deva\n",
            "\n",
            "Name: CIESE\n",
            "Charac: varadha\n",
            "\n",
            "Name: FIRE\n",
            "Charac: ranga\n",
            "\n",
            "Name: PART-1\n",
            "Charac: radha\n",
            "\n"
          ]
        }
      ]
    },
    {
      "cell_type": "code",
      "source": [
        "# with two similar data types\n",
        "questions = ['name', 'colour', 'shape']\n",
        "answers = ['apple', 'red', 'a circle']\n",
        "\n",
        "for questions,answers in zip(questions,answers):\n",
        "  print('what is your {0}? I am {1}.'.format(questions,answers))"
      ],
      "metadata": {
        "colab": {
          "base_uri": "https://localhost:8080/"
        },
        "id": "QiL7Mm5jK4gO",
        "outputId": "377067a0-aa1f-412d-8083-8d8b3d286549"
      },
      "execution_count": null,
      "outputs": [
        {
          "output_type": "stream",
          "name": "stdout",
          "text": [
            "what is your name? I am apple.\n",
            "what is your colour? I am red.\n",
            "what is your shape? I am a circle.\n"
          ]
        }
      ]
    },
    {
      "cell_type": "code",
      "source": [
        "# using the iteritem():\n",
        "names = {'SALAAR':'CIESE','FIRE':'PART-1'}\n",
        "\n",
        "print(\"The key value pair using items is:\")\n",
        "for i , j in names.items():\n",
        "    print(i,j)"
      ],
      "metadata": {
        "colab": {
          "base_uri": "https://localhost:8080/"
        },
        "id": "SCHUwRv0LhKl",
        "outputId": "d28a3452-ec26-4fca-c646-bf2e539dc17c"
      },
      "execution_count": null,
      "outputs": [
        {
          "output_type": "stream",
          "name": "stdout",
          "text": [
            "The key value pair using items is:\n",
            "SALAAR CIESE\n",
            "FIRE PART-1\n"
          ]
        }
      ]
    },
    {
      "cell_type": "code",
      "source": [
        "# example 2\n",
        "names = {'SALAAR':'CIESE','FIRE':'PART-1'}\n",
        "\n",
        "for key,value in names.items():\n",
        "  print(key,value)"
      ],
      "metadata": {
        "colab": {
          "base_uri": "https://localhost:8080/"
        },
        "id": "lGUMh92kNAB9",
        "outputId": "36077356-771a-44a0-c6b8-05f7f77443f2"
      },
      "execution_count": null,
      "outputs": [
        {
          "output_type": "stream",
          "name": "stdout",
          "text": [
            "SALAAR CIESE\n",
            "FIRE PART-1\n"
          ]
        }
      ]
    },
    {
      "cell_type": "code",
      "source": [
        "# uisng sorted()\n",
        "li = [1,3,5,6,2,1,3]\n",
        "\n",
        "print(\"list in sorted order:\")\n",
        "for i in sorted(set(li)):\n",
        "  print(i,end=\" \")   # it prints the list without duplicates"
      ],
      "metadata": {
        "colab": {
          "base_uri": "https://localhost:8080/"
        },
        "id": "tfyS6g37Nbyd",
        "outputId": "b307002d-ba92-4d4e-e386-b6ea22f10fe3"
      },
      "execution_count": null,
      "outputs": [
        {
          "output_type": "stream",
          "name": "stdout",
          "text": [
            "list in sorted order:\n",
            "1 2 3 5 6 "
          ]
        }
      ]
    },
    {
      "cell_type": "code",
      "source": [
        "names = ['SALAAR','CIESE','FIRE','PART-1','BHAHUBALI','SALAAR',\n",
        "         'THE','CONCLUSION']\n",
        "\n",
        "for names in sorted(set(names)):\n",
        "  print(names)"
      ],
      "metadata": {
        "colab": {
          "base_uri": "https://localhost:8080/"
        },
        "id": "iVAqN13IOWyd",
        "outputId": "cf2b30ba-e223-41e9-f080-7b03bc54c409"
      },
      "execution_count": null,
      "outputs": [
        {
          "output_type": "stream",
          "name": "stdout",
          "text": [
            "BHAHUBALI\n",
            "CIESE\n",
            "CONCLUSION\n",
            "FIRE\n",
            "PART-1\n",
            "SALAAR\n",
            "THE\n"
          ]
        }
      ]
    },
    {
      "cell_type": "code",
      "source": [
        "# using reversed():\n",
        "li = [1, 3, 5, 6, 2, 1, 3]\n",
        "\n",
        "for i in reversed(li):\n",
        "  print(i,end=\" \")"
      ],
      "metadata": {
        "colab": {
          "base_uri": "https://localhost:8080/"
        },
        "id": "AFORd7AlO2SV",
        "outputId": "65f18940-85c5-4ba9-9042-2931659ec068"
      },
      "execution_count": null,
      "outputs": [
        {
          "output_type": "stream",
          "name": "stdout",
          "text": [
            "3 1 2 6 5 3 1 "
          ]
        }
      ]
    },
    {
      "cell_type": "code",
      "source": [
        "# example 2\n",
        "for i in reversed(range(1,10,3)):\n",
        "  print(i)"
      ],
      "metadata": {
        "colab": {
          "base_uri": "https://localhost:8080/"
        },
        "id": "J6SgK0HXPYmv",
        "outputId": "d78b8099-441e-4b65-f0b5-c8e4c33353f0"
      },
      "execution_count": null,
      "outputs": [
        {
          "output_type": "stream",
          "name": "stdout",
          "text": [
            "7\n",
            "4\n",
            "1\n"
          ]
        }
      ]
    },
    {
      "cell_type": "code",
      "source": [
        "count = 0\n",
        "\n",
        "while count < 5:\n",
        "  if count == 3:\n",
        "     print(\"count is equal to 3\")\n",
        "  count += 1"
      ],
      "metadata": {
        "colab": {
          "base_uri": "https://localhost:8080/"
        },
        "id": "mCLFVJc3P9k1",
        "outputId": "b704fdd7-2eb9-4dda-d04d-0c97abdbf1ec"
      },
      "execution_count": null,
      "outputs": [
        {
          "output_type": "stream",
          "name": "stdout",
          "text": [
            "count is equal to 3\n"
          ]
        }
      ]
    },
    {
      "cell_type": "code",
      "source": [
        "# python function - block of statements - that return the specific task\n",
        "# for the same code to write again and again for different inputs - we can do the\n",
        "#The idea is to put some commonly or repeatedly done tasks together and make a func so\n",
        "#function calls to reuse code contained in it over and over again\n",
        "# types of function"
      ],
      "metadata": {
        "id": "gX9gFMZ4Qxuk"
      },
      "execution_count": null,
      "outputs": []
    },
    {
      "cell_type": "code",
      "source": [
        "# creating function in python\n",
        "# user defined function by def keyword\n",
        "def fun():\n",
        "  print(\"welcome to my home\")\n"
      ],
      "metadata": {
        "id": "sbFbEL_lScEr"
      },
      "execution_count": null,
      "outputs": []
    },
    {
      "cell_type": "code",
      "source": [
        "# calling a python function\n",
        "def fun():\n",
        "  print(\"welcome to my home\")\n",
        "\n",
        "# function calling - when you call only it will print the block the statements\n",
        "fun()"
      ],
      "metadata": {
        "colab": {
          "base_uri": "https://localhost:8080/"
        },
        "id": "A0treZYySvkC",
        "outputId": "b6a02370-eb66-4388-da81-612487e749ca"
      },
      "execution_count": null,
      "outputs": [
        {
          "output_type": "stream",
          "name": "stdout",
          "text": [
            "welcome to my home\n"
          ]
        }
      ]
    },
    {
      "cell_type": "code",
      "source": [
        "# python function with parameters\n",
        "# what are doc strings?\n",
        "def add(num1:int,num2:int) -> int:\n",
        "  num3 = num2 + num2\n",
        "\n",
        "  return num3\n",
        "\n",
        "num1,num2 = 5,6\n",
        "ans = add(num1,num2)\n",
        "print(f\"The addition of {num1} and {num2} results {ans}.\")"
      ],
      "metadata": {
        "colab": {
          "base_uri": "https://localhost:8080/"
        },
        "id": "T8d2JVbfTI2z",
        "outputId": "6e8d588d-e17c-48bd-bcc2-27e4dbcd7e05"
      },
      "execution_count": null,
      "outputs": [
        {
          "output_type": "stream",
          "name": "stdout",
          "text": [
            "The addition of 5 and 6 results 12.\n"
          ]
        }
      ]
    },
    {
      "cell_type": "code",
      "source": [
        "# another example of prime numbers # revise ????????????\n",
        "def is_prime(n):\n",
        "  if n in [2,3]:\n",
        "    return True\n",
        "  if n == 1 or n % 2 == 0:\n",
        "    return False\n",
        "\n",
        "  r = 3\n",
        "  while r * r <= n:\n",
        "    if n % r == 0:\n",
        "      return False\n",
        "    r += 2\n",
        "  return True\n",
        "print(is_prime(78),is_prime(79))\n"
      ],
      "metadata": {
        "colab": {
          "base_uri": "https://localhost:8080/"
        },
        "id": "FYtgtP5MUMHC",
        "outputId": "bffebb78-2e20-4b9d-b677-8a22b751ef80"
      },
      "execution_count": null,
      "outputs": [
        {
          "output_type": "stream",
          "name": "stdout",
          "text": [
            "False True\n"
          ]
        }
      ]
    },
    {
      "cell_type": "code",
      "source": [
        "# python function arguments\n",
        "def evenodd(x):\n",
        "  if x % 2 == 0:\n",
        "    print(\"even\")\n",
        "  else:\n",
        "    print(\"odd\")\n",
        "\n",
        "# driver code - function call\n",
        "evenodd(4)\n",
        "evenodd(7)"
      ],
      "metadata": {
        "colab": {
          "base_uri": "https://localhost:8080/"
        },
        "id": "BHIVj4iA8DMN",
        "outputId": "15dec656-2f68-4ee4-d3fe-0c1fc72bb62a"
      },
      "execution_count": null,
      "outputs": [
        {
          "output_type": "stream",
          "name": "stdout",
          "text": [
            "even\n",
            "odd\n"
          ]
        }
      ]
    },
    {
      "cell_type": "code",
      "source": [
        "# types of python function arguments\n",
        "# default,keyword argument, positional and arbitrary(variable - length *args and\n",
        "# *kwargs)\n",
        "# Default arguments"
      ],
      "metadata": {
        "id": "8QgHxpcy8rL1"
      },
      "execution_count": null,
      "outputs": []
    },
    {
      "cell_type": "code",
      "source": [
        "# Default arguments\n",
        "# example - when we not provided any argument in function call - it assumes defualt\n",
        "# value\n",
        "def myfun(x, y = 50):\n",
        "  print(\"x:\",x)\n",
        "  print(\"y:\",y)\n",
        "\n",
        "myfun(10)\n",
        "# here we have not provided any value for y in function - it takes bydefualt value\n",
        "# present in the fumction argumentsin main function"
      ],
      "metadata": {
        "colab": {
          "base_uri": "https://localhost:8080/"
        },
        "id": "ej0uwSr09KiB",
        "outputId": "05b9cfd5-04fa-4d90-dd28-e04bfd25dde7"
      },
      "execution_count": null,
      "outputs": [
        {
          "output_type": "stream",
          "name": "stdout",
          "text": [
            "x: 10\n",
            "y: 50\n"
          ]
        }
      ]
    },
    {
      "cell_type": "code",
      "source": [
        "# keyword arguments\n",
        "# allow the caller to specify the name with values - so that caller does not need\n",
        "# to remember the order of parameters\n",
        "def student(firstname,lastname):\n",
        "  print(firstname,lastname)\n",
        "\n",
        "student(firstname = \"Ganesh\",lastname = \"Chowdary\")\n",
        "student(firstname = \"Are\",lastname = \"Gani\")"
      ],
      "metadata": {
        "colab": {
          "base_uri": "https://localhost:8080/"
        },
        "id": "XTGUAoHA_ePO",
        "outputId": "a7ae35e5-675c-48dc-88be-6822d23d4aab"
      },
      "execution_count": null,
      "outputs": [
        {
          "output_type": "stream",
          "name": "stdout",
          "text": [
            "Ganesh Chowdary\n",
            "Are Gani\n"
          ]
        }
      ]
    },
    {
      "cell_type": "code",
      "source": [
        "# positional arguments\n",
        "# when there is an arguments like name and age\n",
        "def nameage(name,age):\n",
        "  print(\"Hi, I am\",name)\n",
        "  print(\"My age is\",age)\n",
        "\n",
        "print(\"case-1\")\n",
        "nameage(\"Ganesh\",22)\n",
        "\n",
        "print(\"case-2\")\n",
        "nameage(21,\"Ganesh\")"
      ],
      "metadata": {
        "colab": {
          "base_uri": "https://localhost:8080/"
        },
        "id": "s7Ep-mYEAe_z",
        "outputId": "66164f55-233d-4d86-9c7e-8e13533a13ed"
      },
      "execution_count": null,
      "outputs": [
        {
          "output_type": "stream",
          "name": "stdout",
          "text": [
            "case-1\n",
            "Hi, I am Ganesh\n",
            "My age is 22\n",
            "case-2\n",
            "Hi, I am 21\n",
            "My age is Ganesh\n"
          ]
        }
      ]
    },
    {
      "cell_type": "code",
      "source": [
        "# arbitrary keyword arguments\n",
        "# *args and **kwargs - can pass a varible number of arguments to a function\n",
        "# using special symbols\n",
        "#*args(non-keyword arguments) and **kwargs(keyword arguments)"
      ],
      "metadata": {
        "id": "fvrNVlwmBcsr"
      },
      "execution_count": null,
      "outputs": []
    },
    {
      "cell_type": "code",
      "source": [
        "# variable length non-keyword argument\n",
        "def myfun(*argv):\n",
        "  for arg in argv:\n",
        "    print(arg)\n",
        "\n",
        "myfun('Hello', 'Welcome', 'to', 'My house')\n",
        "# what is actual meaning of function call??????????????"
      ],
      "metadata": {
        "colab": {
          "base_uri": "https://localhost:8080/"
        },
        "id": "XufgXuhmCGz5",
        "outputId": "dc953408-a4f1-4899-eca9-e5c926c3840f"
      },
      "execution_count": null,
      "outputs": [
        {
          "output_type": "stream",
          "name": "stdout",
          "text": [
            "Hello\n",
            "Welcome\n",
            "to\n",
            "My house\n"
          ]
        }
      ]
    },
    {
      "cell_type": "code",
      "source": [
        "# variable length with keyword arguments\n",
        "def myfun(**kwargs):\n",
        "  for key , value in kwargs.items():\n",
        "    print(\"%s == %s\" % (key,value))\n",
        "\n",
        "myfun(first = \"Are\",mid = \"Ganesh\",last = \"Chowdary\")"
      ],
      "metadata": {
        "colab": {
          "base_uri": "https://localhost:8080/"
        },
        "id": "jictVMybCw5D",
        "outputId": "da87ebab-c969-4362-cd7f-b9f4d6e17088"
      },
      "execution_count": null,
      "outputs": [
        {
          "output_type": "stream",
          "name": "stdout",
          "text": [
            "first == Are\n",
            "mid == Ganesh\n",
            "last == Chowdary\n"
          ]
        }
      ]
    },
    {
      "cell_type": "code",
      "source": [
        "# Doc string\n",
        "# first string after the function is called Document string or Docstring\n",
        "# describes the functionality of the function - it is an optionall\n",
        "# example - adding docstring to the function\n",
        "def evenodd(x):\n",
        "   if x % 2 ==0:\n",
        "      print(\"even\")\n",
        "   else:\n",
        "     print(\"odd\")\n",
        "\n",
        "print(evenodd.__doc__)"
      ],
      "metadata": {
        "colab": {
          "base_uri": "https://localhost:8080/"
        },
        "id": "cXldBAtWD7eT",
        "outputId": "6c8e4bc7-4ece-4888-9c1c-a687fd859c20"
      },
      "execution_count": null,
      "outputs": [
        {
          "output_type": "stream",
          "name": "stdout",
          "text": [
            "None\n"
          ]
        }
      ]
    },
    {
      "cell_type": "code",
      "source": [
        "# python functions within functions\n",
        "def f1():\n",
        "  s = 'Ganeshchowdary'\n",
        "\n",
        "  def f2():\n",
        "    print(s)\n",
        "  f2()\n",
        "\n",
        "f1()"
      ],
      "metadata": {
        "colab": {
          "base_uri": "https://localhost:8080/"
        },
        "id": "uz2AAcolHRzz",
        "outputId": "a8909803-e6f5-46c5-afcb-2bbe90a86f3c"
      },
      "execution_count": null,
      "outputs": [
        {
          "output_type": "stream",
          "name": "stdout",
          "text": [
            "Ganeshchowdary\n"
          ]
        }
      ]
    },
    {
      "cell_type": "code",
      "source": [
        "# anonymous functions in python\n",
        "# functio without name\n",
        "# lambda kw - used to create anonoymous functions\n",
        "def cube(x):  return x*x*x\n",
        "\n",
        "cube_v2 = lambda x: x*x*x\n",
        "\n",
        "print(cube(7))\n",
        "print(cube_v2(7))"
      ],
      "metadata": {
        "colab": {
          "base_uri": "https://localhost:8080/"
        },
        "id": "j1V1OyuSHmTL",
        "outputId": "8ce270ac-be45-4845-fe5d-ce4ba8a296bd"
      },
      "execution_count": null,
      "outputs": [
        {
          "output_type": "stream",
          "name": "stdout",
          "text": [
            "343\n",
            "343\n"
          ]
        }
      ]
    },
    {
      "cell_type": "code",
      "source": [
        "# return statement in python\n",
        "# it is used to exit from the function and go back to the function caller and\n",
        "# return the specified value or data item to the caller\n",
        "# it consists of varible,expression,constant - which is returned at the end of\n",
        "# the function execution"
      ],
      "metadata": {
        "id": "3qiWjd8bIp4B"
      },
      "execution_count": null,
      "outputs": []
    },
    {
      "cell_type": "code",
      "source": [
        "# python function with return keyword\n",
        "def square_value(num):\n",
        "\n",
        "  return num**2\n",
        "\n",
        "print(square_value(2))\n",
        "print(square_value(-4))"
      ],
      "metadata": {
        "colab": {
          "base_uri": "https://localhost:8080/"
        },
        "id": "BayDCntiJx34",
        "outputId": "affe018d-fabf-4f86-a81d-79f6204a9aac"
      },
      "execution_count": null,
      "outputs": [
        {
          "output_type": "stream",
          "name": "stdout",
          "text": [
            "4\n",
            "16\n"
          ]
        }
      ]
    },
    {
      "cell_type": "code",
      "source": [
        "# what is the working of function call()????????????"
      ],
      "metadata": {
        "id": "Wfeu4FIFKfFD"
      },
      "execution_count": null,
      "outputs": []
    },
    {
      "cell_type": "code",
      "source": [
        "# pass by refernce and pass by value\n",
        "# every variable name is reference\n",
        "# when we pass a variable to a function , a new reference to the objects is created\n",
        "# Here x is a new reference to same list lst\n",
        "def myfun(x):\n",
        "  x[0] = 20\n",
        "\n",
        "lst = [10,11,12,13,14,15]\n",
        "myfun(lst)\n",
        "print(lst)"
      ],
      "metadata": {
        "colab": {
          "base_uri": "https://localhost:8080/"
        },
        "id": "5-_Rs2KSKreK",
        "outputId": "20064357-ee71-4059-c365-9c1da3036cc5"
      },
      "execution_count": null,
      "outputs": [
        {
          "output_type": "stream",
          "name": "stdout",
          "text": [
            "[20, 11, 12, 13, 14, 15]\n"
          ]
        }
      ]
    },
    {
      "cell_type": "code",
      "source": [
        "# case 2\n",
        "#When we pass a reference and change the received reference to something else,\n",
        "#the connection between the passed and received parameter is broken.\n",
        "#For example\n",
        "def myfun(x):\n",
        "\n",
        "  x = [20,30,40]\n",
        "\n",
        "lst =  [10,11,12,13,14,15]\n",
        "myfun(lst)\n",
        "print(lst)"
      ],
      "metadata": {
        "colab": {
          "base_uri": "https://localhost:8080/"
        },
        "id": "mKoJ4n0qL03L",
        "outputId": "1faa747e-7762-4248-b4a8-f65e910fdb1e"
      },
      "execution_count": null,
      "outputs": [
        {
          "output_type": "stream",
          "name": "stdout",
          "text": [
            "[10, 11, 12, 13, 14, 15]\n"
          ]
        }
      ]
    },
    {
      "cell_type": "code",
      "source": [
        "# case 3\n",
        "#Another example demonstrates that the reference link is broken if we assign a\n",
        "#new value (inside the function).\n",
        "def myfun(x):\n",
        "  x = 20\n",
        "\n",
        "#(Note that x is not modified\n",
        "# after function call.\n",
        "x = 10\n",
        "myfun(x)\n",
        "print(x)"
      ],
      "metadata": {
        "colab": {
          "base_uri": "https://localhost:8080/"
        },
        "id": "Xb9ShCQxMdxd",
        "outputId": "59fc596b-630a-42fa-87a2-d03288b3160d"
      },
      "execution_count": null,
      "outputs": [
        {
          "output_type": "stream",
          "name": "stdout",
          "text": [
            "10\n"
          ]
        }
      ]
    },
    {
      "cell_type": "code",
      "source": [
        "# exercise  # working of swaping ?????????????\n",
        "def swap(x,y):\n",
        "  temp = x\n",
        "  x = y\n",
        "  y = temp\n",
        "\n",
        "x = 2\n",
        "y = 3\n",
        "swap(x,y)\n",
        "print(x)\n",
        "print(y)"
      ],
      "metadata": {
        "colab": {
          "base_uri": "https://localhost:8080/"
        },
        "id": "IQwpAhSKNBBg",
        "outputId": "2c244597-6a93-4c2e-c7d5-d7b20b646ebc"
      },
      "execution_count": null,
      "outputs": [
        {
          "output_type": "stream",
          "name": "stdout",
          "text": [
            "2\n",
            "3\n"
          ]
        }
      ]
    },
    {
      "cell_type": "code",
      "source": [
        "# * args and **kwargs in python\n",
        "#Using the *, the variable that we associate with the * becomes iterable meaning\n",
        "# you can do things like iterate over it, run some higher-order functions\n",
        "#such as map and filter, etc.\n",
        "# example 1\n",
        "def myfun(*argv):\n",
        "   for argv in argv:\n",
        "     print(argv)\n",
        "\n",
        "myfun('Hello', 'Welcome', 'to', 'Ganesh')"
      ],
      "metadata": {
        "id": "5gCPw270bOUx"
      },
      "execution_count": null,
      "outputs": []
    },
    {
      "cell_type": "code",
      "source": [
        "# example 2\n",
        "#Python program to illustrate *args with a first extra argument\n",
        "def myfun(arg1,*argv):\n",
        "  print(\"first argument:\",arg1)\n",
        "  for arg in argv:\n",
        "    print(\"next argument through *argv:\",arg)\n",
        "\n",
        "myfun('Hello', 'Welcome', 'to', 'Ganesh')"
      ],
      "metadata": {
        "colab": {
          "base_uri": "https://localhost:8080/"
        },
        "id": "ObBPhH2jfVWA",
        "outputId": "c9843add-fe66-414d-aaf5-bd231ae9788c"
      },
      "execution_count": null,
      "outputs": [
        {
          "output_type": "stream",
          "name": "stdout",
          "text": [
            "first argument: Hello\n",
            "next argument through *argv: Welcome\n",
            "next argument through *argv: to\n",
            "next argument through *argv: Ganesh\n"
          ]
        }
      ]
    },
    {
      "cell_type": "code",
      "source": [
        "# **kwargs\n",
        "#A keyword argument is where you provide a name to the variable as you pass it\n",
        "#into the function.\n",
        "# the extra argument will not called by the function call\n",
        "# example 1\n",
        "def myfun(**kwargs):\n",
        "  for key,value in kwargs.items():\n",
        "    print(\"%s > %s\" % (key,value))\n",
        "\n",
        "myfun(first = \"Are\",mid = \"Ganesh\",last = \"Chowdary\")"
      ],
      "metadata": {
        "colab": {
          "base_uri": "https://localhost:8080/"
        },
        "id": "tcJ9NXs_gjFO",
        "outputId": "f40e30a7-1785-4ebb-815d-08a931b7d656"
      },
      "execution_count": null,
      "outputs": [
        {
          "output_type": "stream",
          "name": "stdout",
          "text": [
            "first > Are\n",
            "mid > Ganesh\n",
            "last > Chowdary\n"
          ]
        }
      ]
    },
    {
      "cell_type": "code",
      "source": [
        "#example 2\n",
        "# keyword argument with one extra argument\n",
        "def myfun(arg1,**kwargs):\n",
        "  print(\"first argument:\",arg1)\n",
        "  for key,value in kwargs.items():\n",
        "    print(\"%s > %s\" % (key,value))\n",
        "\n",
        "myfun(\"Hi\",first = \"Are\",mid = \"Ganesh\",last = \"Chowdary\")"
      ],
      "metadata": {
        "colab": {
          "base_uri": "https://localhost:8080/"
        },
        "id": "EjY7jWv8iLAo",
        "outputId": "935ec5ad-6327-4221-825e-ca6707b69f81"
      },
      "execution_count": null,
      "outputs": [
        {
          "output_type": "stream",
          "name": "stdout",
          "text": [
            "first argument: Hi\n",
            "first > Are\n",
            "mid > Ganesh\n",
            "last > Chowdary\n"
          ]
        }
      ]
    },
    {
      "cell_type": "code",
      "source": [
        "# using the both * args and **kwargs in python to call a function\n",
        "def myfun(arg1,arg2,arg3):\n",
        "    print(\"arg1:\",arg1)\n",
        "    print(\"arg2:\",arg2)\n",
        "    print(\"arg3:\",arg3)\n",
        "\n",
        "args = (\"Are\",\"Ganesh\",\"Chowdary\")\n",
        "myfun(*args)\n",
        "\n",
        "kwargs = {\"arg1\":\"Are\",\"arg2\":\"Ganesh\",\"arg3\":\"Chowdary\"}\n",
        "myfun(**kwargs)"
      ],
      "metadata": {
        "colab": {
          "base_uri": "https://localhost:8080/"
        },
        "id": "Z2hp3W2ejUNu",
        "outputId": "b4ae4b89-a8af-4a46-c9f9-bbcd8eeda4c6"
      },
      "execution_count": null,
      "outputs": [
        {
          "output_type": "stream",
          "name": "stdout",
          "text": [
            "arg1: Are\n",
            "arg2: Ganesh\n",
            "arg3: Chowdary\n",
            "arg1: Are\n",
            "arg2: Ganesh\n",
            "arg3: Chowdary\n"
          ]
        }
      ]
    },
    {
      "cell_type": "code",
      "source": [
        "# example 2\n",
        "def myfun(*args,**kwargs):\n",
        "  print(\"args:\",args)\n",
        "  print(\"kwargs\",kwargs)\n",
        "\n",
        "myfun(\"Are\",\"Ganesh\",\"Chowdary\",first = \"Are\",mid = \"Ganesh\",last = \"Chowdary\")"
      ],
      "metadata": {
        "colab": {
          "base_uri": "https://localhost:8080/"
        },
        "id": "yYKjG33fk7gV",
        "outputId": "206bf3b5-2a32-47ba-c939-85da4d9d072a"
      },
      "execution_count": null,
      "outputs": [
        {
          "output_type": "stream",
          "name": "stdout",
          "text": [
            "args: ('Are', 'Ganesh', 'Chowdary')\n",
            "kwargs {'first': 'Are', 'mid': 'Ganesh', 'last': 'Chowdary'}\n"
          ]
        }
      ]
    },
    {
      "cell_type": "code",
      "source": [
        "# use of *args and **kwargs in python to set values of object\n",
        "# *args - recieve arguments as a tuple\n",
        "# **kwargs recieves arguments as a dictionary"
      ],
      "metadata": {
        "id": "c378li8MlbyV"
      },
      "execution_count": null,
      "outputs": []
    },
    {
      "cell_type": "code",
      "source": [
        "# example 1\n",
        "# *args\n",
        "class car():\n",
        "  # args receives unlimited no. of arguments as an array\n",
        "  def __init__(self,*args):\n",
        "     # access args index like array does\n",
        "     self.speed = args[0]\n",
        "     self.color = args[1]\n",
        "\n",
        "# creating objects of a car class\n",
        "audi = car(200,'red')\n",
        "bmw = car(250,'black')\n",
        "mb = car(190,'white')\n",
        "\n",
        "print(audi.color)\n",
        "print(bmw.speed)"
      ],
      "metadata": {
        "colab": {
          "base_uri": "https://localhost:8080/"
        },
        "id": "iz_qlZvbl2ed",
        "outputId": "19b0a557-b141-4117-962c-6da493afe8de"
      },
      "execution_count": null,
      "outputs": [
        {
          "output_type": "stream",
          "name": "stdout",
          "text": [
            "red\n",
            "250\n"
          ]
        }
      ]
    },
    {
      "cell_type": "code",
      "source": [
        "# example 2\n",
        "# **kwargs\n",
        "class car():\n",
        "\n",
        "  def __init__(self,**kwargs):\n",
        "    self.speed = kwargs['s']\n",
        "    self.color = kwargs['c']\n",
        "\n",
        "audi = car(s=200, c='red')\n",
        "bmw = car(s=250, c='black')\n",
        "mb = car(s=190, c='white')\n",
        "\n",
        "print(audi.color)\n",
        "print(bmw.speed)"
      ],
      "metadata": {
        "colab": {
          "base_uri": "https://localhost:8080/"
        },
        "id": "khQL6RfbnNfd",
        "outputId": "83185cb2-6432-4e2d-dd99-9a14d95f12aa"
      },
      "execution_count": null,
      "outputs": [
        {
          "output_type": "stream",
          "name": "stdout",
          "text": [
            "red\n",
            "250\n"
          ]
        }
      ]
    },
    {
      "cell_type": "code",
      "source": [
        "# when to use yield instead of return in python?\n",
        "# A Simple Python program to demonstrate working\n",
        "# of yield\n",
        "\n",
        "# A generator function that yields 1 for the first time,\n",
        "# 2 second time and 3 third time\n",
        "#We should use yield when we want to iterate over a sequence,\n",
        "#A generator function is defined just like a normal function, but whenever it\n",
        "#needs to generate a value, it does so with the yield keyword rather than return\n",
        "def simpleGeneratorfun():\n",
        "  yield 1\n",
        "  yield 2\n",
        "  yield 3\n",
        "\n",
        "for value in simpleGeneratorfun():\n",
        "  print(value)"
      ],
      "metadata": {
        "colab": {
          "base_uri": "https://localhost:8080/"
        },
        "id": "10pO-D0inXfj",
        "outputId": "6e2955ff-0895-4f77-abc4-313b1dfe0190"
      },
      "execution_count": null,
      "outputs": [
        {
          "output_type": "stream",
          "name": "stdout",
          "text": [
            "1\n",
            "2\n",
            "3\n"
          ]
        }
      ]
    },
    {
      "cell_type": "code",
      "source": [
        "# A Python program to generate squares from 1\n",
        "# to 100 using yield and therefore generator\n",
        "# difference between while and while true??????????????\n",
        "# difference between return and yield?\n",
        "def nextsquare():\n",
        "  i = 1\n",
        "\n",
        "  # an infinite loop to generate squares\n",
        "  while True:\n",
        "    yield i*i\n",
        "    i += 1    # Next execution resumes from this point\n",
        "\n",
        "\n",
        "for num in nextsquare():\n",
        "  if num > 100:\n",
        "    break\n",
        "  print(num)"
      ],
      "metadata": {
        "colab": {
          "base_uri": "https://localhost:8080/"
        },
        "id": "raZURBq_uH5g",
        "outputId": "4dd33976-5e0d-4467-e195-8ca081f581e5"
      },
      "execution_count": null,
      "outputs": [
        {
          "output_type": "stream",
          "name": "stdout",
          "text": [
            "1\n",
            "4\n",
            "9\n",
            "16\n",
            "25\n",
            "36\n",
            "49\n",
            "64\n",
            "81\n",
            "100\n"
          ]
        }
      ]
    },
    {
      "cell_type": "code",
      "source": [
        "# Generators in python\n",
        "#A Generator in Python is a function that returns an iterator using the Yield kw.\n",
        "#we will create a simple generator that will yield three integers.\n",
        "def simpleGeneratorfun():\n",
        "  yield 1\n",
        "  yield 2\n",
        "  yield 3\n",
        "\n",
        "x = simpleGeneratorfun()\n",
        "\n",
        "# Iterating over the generator object using next\n",
        "\n",
        "print(next(x))\n",
        "print(next(x))\n",
        "print(next(x))"
      ],
      "metadata": {
        "colab": {
          "base_uri": "https://localhost:8080/"
        },
        "id": "kZycCrw_v6Ng",
        "outputId": "5c311e97-5b0d-442c-c2f8-2bc9056e308d"
      },
      "execution_count": null,
      "outputs": [
        {
          "output_type": "stream",
          "name": "stdout",
          "text": [
            "1\n",
            "2\n",
            "3\n"
          ]
        }
      ]
    },
    {
      "cell_type": "code",
      "source": [
        "# example - two generators for fibonacci numbers\n",
        "# what are fibonacci numbers\n",
        "def fib(limit):\n",
        "  # Initialize first two Fibonacci Numbers\n",
        "  a,b = 0,1\n",
        "\n",
        "  # one by one yield next fibonacci number\n",
        "  while a < limit:\n",
        "    yield a\n",
        "    a,b = b,a+b\n",
        "\n",
        "# Create a generator object\n",
        "x = fib(5)\n",
        "\n",
        "print(next(x))\n",
        "print(next(x))\n",
        "print(next(x))\n",
        "print(next(x))\n",
        "print(next(x))\n",
        "\n",
        "# Iterating over the generator object using for\n",
        "# in loop.\n",
        "print(\"\\n using for in loop\")\n",
        "for i in fib(5):\n",
        "  print(i)"
      ],
      "metadata": {
        "colab": {
          "base_uri": "https://localhost:8080/"
        },
        "id": "jb5YWVUs7mx2",
        "outputId": "a2d2cf9d-455a-4254-cb73-c22b9912bc5e"
      },
      "execution_count": null,
      "outputs": [
        {
          "output_type": "stream",
          "name": "stdout",
          "text": [
            "0\n",
            "1\n",
            "1\n",
            "2\n",
            "3\n",
            "\n",
            " using for in loop\n",
            "0\n",
            "1\n",
            "1\n",
            "2\n",
            "3\n"
          ]
        }
      ]
    },
    {
      "cell_type": "code",
      "source": [
        "# python genrator function\n",
        "# example\n",
        "generator_exp = (i * 5 for i in range(5) if i % 2 == 0)\n",
        "\n",
        "for i in generator_exp:\n",
        "  print(i)"
      ],
      "metadata": {
        "colab": {
          "base_uri": "https://localhost:8080/"
        },
        "id": "RHmnWcVv8a46",
        "outputId": "030825d6-e8d1-4b44-d337-48ecaac2cef5"
      },
      "execution_count": null,
      "outputs": [
        {
          "output_type": "stream",
          "name": "stdout",
          "text": [
            "0\n",
            "10\n",
            "20\n"
          ]
        }
      ]
    },
    {
      "cell_type": "code",
      "source": [
        "# python lamda -This function can have any number of arguments but only\n",
        "#one expression, which is evaluated and returned.\n",
        "# example\n",
        "calc = lambda num : \"even number\" if num % 2 == 0 else \"oddnumber\"\n",
        "\n",
        "print(calc(20))"
      ],
      "metadata": {
        "colab": {
          "base_uri": "https://localhost:8080/"
        },
        "id": "G09bcGKP_Gv0",
        "outputId": "8080c922-3d5f-43b0-d814-3d0d2d20e586"
      },
      "execution_count": null,
      "outputs": [
        {
          "output_type": "stream",
          "name": "stdout",
          "text": [
            "even number\n"
          ]
        }
      ]
    },
    {
      "cell_type": "code",
      "source": [
        "# example 1 :prohram to demonstrate return type of python lambda keyword\n",
        "str = \"ganeshchowdary\"\n",
        "\n",
        "# lambda returns a function object\n",
        "print(lambda str:str)"
      ],
      "metadata": {
        "colab": {
          "base_uri": "https://localhost:8080/"
        },
        "id": "4Iqqy1wc_tIK",
        "outputId": "8015105c-dbde-45cb-adb6-55a5b3ab9599"
      },
      "execution_count": null,
      "outputs": [
        {
          "output_type": "stream",
          "name": "stdout",
          "text": [
            "<function <lambda> at 0x7b70ac7d56c0>\n"
          ]
        }
      ]
    },
    {
      "cell_type": "code",
      "source": [
        "# example 2 - invoking lambda return value to perform various operations\n",
        "filter_nums = lambda s: ''.join([ch for ch in s if not ch.isdigit()])\n",
        "print(\"filter_nums():\",filter_nums(\"Ganesh884\"))\n",
        "\n",
        "do_exclaim = lambda s: s + '!'\n",
        "print(\"do_exclaim():\",do_exclaim(\"I am tired\"))\n"
      ],
      "metadata": {
        "colab": {
          "base_uri": "https://localhost:8080/"
        },
        "id": "OTCTLQNCATNy",
        "outputId": "dbba9794-a13d-44b6-9c47-578e5d69a620"
      },
      "execution_count": null,
      "outputs": [
        {
          "output_type": "stream",
          "name": "stdout",
          "text": [
            "filter_nums(): Ganesh\n",
            "do_exclaim(): I am tired!\n"
          ]
        }
      ]
    },
    {
      "cell_type": "code",
      "source": [
        "# difference between lambda and normal function\n",
        "def cube(y):\n",
        "  print(f\"finding the cube of number:{y}\")\n",
        "  return y*y*y\n",
        "\n",
        "lambda_cube = lambda num: num**3\n",
        "\n",
        "print(\"invoking function defined with def keyword:\")\n",
        "print(cube(30))\n",
        "\n",
        "# invoking lambda function\n",
        "print(\"invoking lambda function:\",lambda_cube(30))"
      ],
      "metadata": {
        "colab": {
          "base_uri": "https://localhost:8080/"
        },
        "id": "mZtAeitNCmb6",
        "outputId": "521e923c-1220-4c12-9cc0-332d07506743"
      },
      "execution_count": null,
      "outputs": [
        {
          "output_type": "stream",
          "name": "stdout",
          "text": [
            "invoking function defined with def keyword:\n",
            "finding the cube of number:30\n",
            "27000\n",
            "invoking lambda function: 27000\n"
          ]
        }
      ]
    },
    {
      "cell_type": "code",
      "source": [
        "# lambda function gets more useful when used inside a function\n",
        "#We can use lambda function inside map(), filter(), sorted()  # revise\n",
        "l  = [\"1\",\"2\",\"9\",\"0\",\"-1\",\"-2\"]\n",
        "\n",
        "print(\"sorted numerically:\",sorted(l,key = lambda x: int(x)))\n",
        "\n",
        "# filter positive even numbers\n",
        "# using filter() and lambda function\n",
        "print(\"Filter positive even numbers:\",list(filter(lambda x: not(int(x) % 2 == 0\n",
        "                                and int(x) > 0), l)))\n",
        "\n"
      ],
      "metadata": {
        "colab": {
          "base_uri": "https://localhost:8080/",
          "height": 331
        },
        "id": "Xuafuv-lDibB",
        "outputId": "c3ad3a01-14bc-4174-9ba0-3e763fd8a78d"
      },
      "execution_count": null,
      "outputs": [
        {
          "output_type": "stream",
          "name": "stdout",
          "text": [
            "sorted numerically: ['-2', '-1', '0', '1', '2', '9']\n",
            "Filter positive even numbers: ['1', '9', '0', '-1', '-2']\n"
          ]
        },
        {
          "output_type": "error",
          "ename": "TypeError",
          "evalue": "ignored",
          "traceback": [
            "\u001b[0;31m---------------------------------------------------------------------------\u001b[0m",
            "\u001b[0;31mTypeError\u001b[0m                                 Traceback (most recent call last)",
            "\u001b[0;32m<ipython-input-54-b1d7e052293f>\u001b[0m in \u001b[0;36m<cell line: 14>\u001b[0;34m()\u001b[0m\n\u001b[1;32m     13\u001b[0m \u001b[0;31m# casting to int, then convert items to string again\u001b[0m\u001b[0;34m\u001b[0m\u001b[0;34m\u001b[0m\u001b[0m\n\u001b[1;32m     14\u001b[0m print(\"Operation on each item using lambda and map()\",\n\u001b[0;32m---> 15\u001b[0;31m       list(map(lambda x: str(int(x) + 10), l)))\n\u001b[0m",
            "\u001b[0;32m<ipython-input-54-b1d7e052293f>\u001b[0m in \u001b[0;36m<lambda>\u001b[0;34m(x)\u001b[0m\n\u001b[1;32m     13\u001b[0m \u001b[0;31m# casting to int, then convert items to string again\u001b[0m\u001b[0;34m\u001b[0m\u001b[0;34m\u001b[0m\u001b[0m\n\u001b[1;32m     14\u001b[0m print(\"Operation on each item using lambda and map()\",\n\u001b[0;32m---> 15\u001b[0;31m       list(map(lambda x: str(int(x) + 10), l)))\n\u001b[0m",
            "\u001b[0;31mTypeError\u001b[0m: 'str' object is not callable"
          ]
        }
      ]
    },
    {
      "cell_type": "code",
      "source": [
        "# another function to filter out even number from list\n",
        "my_list = [1,2,3,4,5]\n",
        "\n",
        "new_list = list(filter(lambda x: x%2 != 0,my_list))\n",
        "\n",
        "print(new_list)"
      ],
      "metadata": {
        "colab": {
          "base_uri": "https://localhost:8080/"
        },
        "id": "6I8BTaGYFf0o",
        "outputId": "f28de28a-0c07-4e0a-a26f-03c5c4ba2e39"
      },
      "execution_count": null,
      "outputs": [
        {
          "output_type": "stream",
          "name": "stdout",
          "text": [
            "[1, 3, 5]\n"
          ]
        }
      ]
    },
    {
      "cell_type": "code",
      "source": [
        "# globaland local variables\n",
        "# local variables - whuch are intialized inside a function and belong only to that\n",
        "# particular function . it cannot be accessed anywhere outside the function"
      ],
      "metadata": {
        "id": "IMd_VDvX1sLp"
      },
      "execution_count": null,
      "outputs": []
    },
    {
      "cell_type": "code",
      "source": [
        "# creating the local variables in python\n",
        "def  f():\n",
        "\n",
        "  # local variable\n",
        "  s = \"GaneshChowdary\"\n",
        "  print(s)\n",
        "\n",
        "f()"
      ],
      "metadata": {
        "colab": {
          "base_uri": "https://localhost:8080/"
        },
        "id": "JdS6JROX2agE",
        "outputId": "0f177945-d396-470b-8dec-0ff9768a145e"
      },
      "execution_count": null,
      "outputs": [
        {
          "output_type": "stream",
          "name": "stdout",
          "text": [
            "GaneshChowdary\n"
          ]
        }
      ]
    },
    {
      "cell_type": "code",
      "source": [
        "# if we try to use local variable outside the function\n",
        "# it will give name error\n",
        "# from defining function to function call is boundary of tasks performed by\n",
        "#function\n",
        "def  f():\n",
        "\n",
        "  # local variable\n",
        "  s = \"GaneshChowdary\"\n",
        "  print(s)\n",
        "\n",
        "f()\n",
        "print(s)"
      ],
      "metadata": {
        "colab": {
          "base_uri": "https://localhost:8080/",
          "height": 227
        },
        "id": "ehI7lXMW257w",
        "outputId": "cd1779b7-7bf9-4c51-fea9-65c0162ded4b"
      },
      "execution_count": null,
      "outputs": [
        {
          "output_type": "stream",
          "name": "stdout",
          "text": [
            "GaneshChowdary\n"
          ]
        },
        {
          "output_type": "error",
          "ename": "NameError",
          "evalue": "ignored",
          "traceback": [
            "\u001b[0;31m---------------------------------------------------------------------------\u001b[0m",
            "\u001b[0;31mNameError\u001b[0m                                 Traceback (most recent call last)",
            "\u001b[0;32m<ipython-input-2-9a24248b723e>\u001b[0m in \u001b[0;36m<cell line: 12>\u001b[0;34m()\u001b[0m\n\u001b[1;32m     10\u001b[0m \u001b[0;34m\u001b[0m\u001b[0m\n\u001b[1;32m     11\u001b[0m \u001b[0mf\u001b[0m\u001b[0;34m(\u001b[0m\u001b[0;34m)\u001b[0m\u001b[0;34m\u001b[0m\u001b[0;34m\u001b[0m\u001b[0m\n\u001b[0;32m---> 12\u001b[0;31m \u001b[0mprint\u001b[0m\u001b[0;34m(\u001b[0m\u001b[0ms\u001b[0m\u001b[0;34m)\u001b[0m\u001b[0;34m\u001b[0m\u001b[0;34m\u001b[0m\u001b[0m\n\u001b[0m",
            "\u001b[0;31mNameError\u001b[0m: name 's' is not defined"
          ]
        }
      ]
    },
    {
      "cell_type": "code",
      "source": [
        "# global variables\n",
        "# these are those which are defined outside any function and accessible throughout\n",
        "# the program i.e inside and outside of every function\n",
        "# what is actual scope of the variable ???????????"
      ],
      "metadata": {
        "id": "H9B7jr183mLY"
      },
      "execution_count": null,
      "outputs": []
    },
    {
      "cell_type": "code",
      "source": [
        "# create global varible\n",
        "def f():\n",
        "  print(\"Inside function\",s)\n",
        "\n",
        "# global scope\n",
        "s = \"Ganeshchowdary\"\n",
        "f()\n",
        "print(\"outside function\",s)"
      ],
      "metadata": {
        "colab": {
          "base_uri": "https://localhost:8080/"
        },
        "id": "b2jG-ykg3939",
        "outputId": "393ff680-deee-4d8f-ec7c-4c70d0084985"
      },
      "execution_count": null,
      "outputs": [
        {
          "output_type": "stream",
          "name": "stdout",
          "text": [
            "Inside function Ganeshchowdary\n",
            "outside function Ganeshchowdary\n"
          ]
        }
      ]
    },
    {
      "cell_type": "code",
      "source": [
        "#what if there is a Python variable with the same name initialized inside\n",
        "#a function as well as globally?\n",
        "# if there are two scope varibles local varible is called first why??\n",
        "#example\n",
        "def f():\n",
        "  s = \"Me too\"\n",
        "  print(s)\n",
        "\n",
        "# global scope\n",
        "s = \"GaneshChowdary\"\n",
        "f()\n",
        "print(s)"
      ],
      "metadata": {
        "colab": {
          "base_uri": "https://localhost:8080/"
        },
        "id": "YKddLRa449Ux",
        "outputId": "f401d29f-84ba-40ad-e08a-7b0ac1c3ffa1"
      },
      "execution_count": null,
      "outputs": [
        {
          "output_type": "stream",
          "name": "stdout",
          "text": [
            "Me too\n",
            "GaneshChowdary\n"
          ]
        }
      ]
    },
    {
      "cell_type": "code",
      "source": [
        "#what if we try to change the value of a global variable inside the function\n",
        "def f():\n",
        "  s += 'GFG'\n",
        "  print(\"Inside function\",s)\n",
        "\n",
        "s = \"Ganeshchowdary\"\n",
        "f()"
      ],
      "metadata": {
        "colab": {
          "base_uri": "https://localhost:8080/",
          "height": 349
        },
        "id": "f6ShKT-U6EeX",
        "outputId": "fbf3fdd2-1810-4d84-dd9f-7d1c2c614fb4"
      },
      "execution_count": null,
      "outputs": [
        {
          "output_type": "error",
          "ename": "UnboundLocalError",
          "evalue": "ignored",
          "traceback": [
            "\u001b[0;31m---------------------------------------------------------------------------\u001b[0m",
            "\u001b[0;31mUnboundLocalError\u001b[0m                         Traceback (most recent call last)",
            "\u001b[0;32m<ipython-input-5-65d38a1b66cd>\u001b[0m in \u001b[0;36m<cell line: 7>\u001b[0;34m()\u001b[0m\n\u001b[1;32m      5\u001b[0m \u001b[0;34m\u001b[0m\u001b[0m\n\u001b[1;32m      6\u001b[0m \u001b[0ms\u001b[0m \u001b[0;34m=\u001b[0m \u001b[0;34m\"Ganeshchowdary\"\u001b[0m\u001b[0;34m\u001b[0m\u001b[0;34m\u001b[0m\u001b[0m\n\u001b[0;32m----> 7\u001b[0;31m \u001b[0mf\u001b[0m\u001b[0;34m(\u001b[0m\u001b[0;34m)\u001b[0m\u001b[0;34m\u001b[0m\u001b[0;34m\u001b[0m\u001b[0m\n\u001b[0m",
            "\u001b[0;32m<ipython-input-5-65d38a1b66cd>\u001b[0m in \u001b[0;36mf\u001b[0;34m()\u001b[0m\n\u001b[1;32m      1\u001b[0m \u001b[0;31m#what if we try to change the value of a global variable inside the function\u001b[0m\u001b[0;34m\u001b[0m\u001b[0;34m\u001b[0m\u001b[0m\n\u001b[1;32m      2\u001b[0m \u001b[0;32mdef\u001b[0m \u001b[0mf\u001b[0m\u001b[0;34m(\u001b[0m\u001b[0;34m)\u001b[0m\u001b[0;34m:\u001b[0m\u001b[0;34m\u001b[0m\u001b[0;34m\u001b[0m\u001b[0m\n\u001b[0;32m----> 3\u001b[0;31m   \u001b[0ms\u001b[0m \u001b[0;34m+=\u001b[0m \u001b[0;34m'GFG'\u001b[0m\u001b[0;34m\u001b[0m\u001b[0;34m\u001b[0m\u001b[0m\n\u001b[0m\u001b[1;32m      4\u001b[0m   \u001b[0mprint\u001b[0m\u001b[0;34m(\u001b[0m\u001b[0;34m\"Inside function\"\u001b[0m\u001b[0;34m,\u001b[0m\u001b[0ms\u001b[0m\u001b[0;34m)\u001b[0m\u001b[0;34m\u001b[0m\u001b[0;34m\u001b[0m\u001b[0m\n\u001b[1;32m      5\u001b[0m \u001b[0;34m\u001b[0m\u001b[0m\n",
            "\u001b[0;31mUnboundLocalError\u001b[0m: local variable 's' referenced before assignment"
          ]
        }
      ]
    },
    {
      "cell_type": "code",
      "source": [
        "# to prevent the error we use global kw\n",
        "# example 1 - python global keyword\n",
        "# this function modifies the global variable 's.\n",
        "def f():\n",
        "  global s\n",
        "  s += ' GFG'\n",
        "  print(s)\n",
        "  s = \"Look for ganesh chowdary for photoshoot\"\n",
        "  print(s)\n",
        "\n",
        "# global scope\n",
        "s = \"Ganesh is great!\"\n",
        "f()\n",
        "print(s)"
      ],
      "metadata": {
        "colab": {
          "base_uri": "https://localhost:8080/"
        },
        "id": "pFRDDOjo65-v",
        "outputId": "12aa5228-645f-49a5-db8a-6248c93e6640"
      },
      "execution_count": null,
      "outputs": [
        {
          "output_type": "stream",
          "name": "stdout",
          "text": [
            "Ganesh is great! GFG\n",
            "Look for ganesh chowdary for photoshoot\n",
            "Look for ganesh chowdary for photoshoot\n"
          ]
        }
      ]
    },
    {
      "cell_type": "code",
      "source": [
        "# using python local and global variables\n",
        "a = 1\n",
        "\n",
        "# Uses global because there is no local 'a'\n",
        "def f():\n",
        "  print(\"inside f():\",a)\n",
        "\n",
        "# variable 'a' is redefined as a local\n",
        "def g():\n",
        "  a = 2\n",
        "  print(\"inside g():\",a)\n",
        "\n",
        "# use global keyword to modify global 'a'\n",
        "def h():\n",
        "  global a\n",
        "  a = 3\n",
        "  print(\"inside h():\",a)\n",
        "\n",
        "# global scope\n",
        "f()\n",
        "print('global: ',a)\n",
        "g()\n",
        "print('local: ',a)\n",
        "h()\n",
        "print('global: ',a)\n"
      ],
      "metadata": {
        "colab": {
          "base_uri": "https://localhost:8080/"
        },
        "id": "-ngFDTNd8l3U",
        "outputId": "624ac741-8151-4b91-d75a-8bcab26d8e3a"
      },
      "execution_count": null,
      "outputs": [
        {
          "output_type": "stream",
          "name": "stdout",
          "text": [
            "inside f(): 1\n",
            "global:  1\n",
            "inside g(): 2\n",
            "local:  1\n",
            "inside h(): 3\n",
            "global:  3\n"
          ]
        }
      ]
    },
    {
      "cell_type": "code",
      "source": [
        "# global kw in python\n",
        "# example 1\n",
        "a = 15\n",
        "b = 10\n",
        "\n",
        "def add():\n",
        "  c = a+b\n",
        "  print(c)\n",
        "# calling  a function\n",
        "add()"
      ],
      "metadata": {
        "colab": {
          "base_uri": "https://localhost:8080/"
        },
        "id": "HXpP-myq_KXY",
        "outputId": "697f697a-2c28-44cf-955f-fd1cbfbed1e7"
      },
      "execution_count": null,
      "outputs": [
        {
          "output_type": "stream",
          "name": "stdout",
          "text": [
            "25\n"
          ]
        }
      ]
    },
    {
      "cell_type": "code",
      "source": [
        "# modifying global variable from inside the function\n",
        "a = 15\n",
        "\n",
        "def change():\n",
        "  # increament value of a by 5\n",
        "  global a\n",
        "  a = a+5\n",
        "  print(\"value of a inside a function:\",a)\n",
        "\n",
        "change()\n",
        "print(\"value of a outside the function:\",a)"
      ],
      "metadata": {
        "colab": {
          "base_uri": "https://localhost:8080/"
        },
        "id": "Ebeqlks6AyWy",
        "outputId": "1e190393-7708-4ac4-b3b6-b4772e1bec2f"
      },
      "execution_count": null,
      "outputs": [
        {
          "output_type": "stream",
          "name": "stdout",
          "text": [
            "value of a inside a function: 20\n",
            "value of a outside the function: 20\n"
          ]
        }
      ]
    },
    {
      "cell_type": "code",
      "source": [
        "# modifying global mutable objects\n",
        "# modifying list elements without using global keyword\n",
        "#Since lists are mutable data structures, thus we can modify its contents.\n",
        "arr = [10,20,30]\n",
        "\n",
        "def fun():\n",
        "  for i in range(len(arr)):\n",
        "    arr[i] += 10\n",
        "\n",
        "print(\"'arr' list before executing fun():\",arr)\n",
        "fun()\n",
        "print(\"'arr' list after executing fun():\",arr)"
      ],
      "metadata": {
        "colab": {
          "base_uri": "https://localhost:8080/"
        },
        "id": "4i2N6bRTB6nu",
        "outputId": "99ddd6b2-5f17-4d16-f2f9-932d806a4245"
      },
      "execution_count": null,
      "outputs": [
        {
          "output_type": "stream",
          "name": "stdout",
          "text": [
            "'arr' list before executing fun(): [10, 20, 30]\n",
            "'arr' list after executing fun(): [20, 30, 40]\n"
          ]
        }
      ]
    },
    {
      "cell_type": "code",
      "source": [
        "# modifying list variable with global kw\n",
        "#if we don’t use the global keyword, then a new local variable arr will be\n",
        "#created with the new list elements. But the global variable arr will be unchanged.\n",
        "arr = [10,20,30]\n",
        "\n",
        "def fun():\n",
        "  global arr\n",
        "  arr = [20,30,40]\n",
        "\n",
        "print(\"'arr' list before executing fun():\",arr)\n",
        "fun()\n",
        "print(\"'arr' list after executing fun():\",arr)"
      ],
      "metadata": {
        "colab": {
          "base_uri": "https://localhost:8080/"
        },
        "id": "4F5JDGKWDsFG",
        "outputId": "a4048e02-49ab-45a8-879a-325300840e04"
      },
      "execution_count": null,
      "outputs": [
        {
          "output_type": "stream",
          "name": "stdout",
          "text": [
            "'arr' list before executing fun(): [10, 20, 30]\n",
            "'arr' list after executing fun(): [20, 30, 40]\n"
          ]
        }
      ]
    },
    {
      "cell_type": "code",
      "source": [
        "# global varibles across python variables\n",
        "# create a congig.py file to store global variables\n",
        "x = 0\n",
        "y = 0\n",
        "z = \"none\""
      ],
      "metadata": {
        "id": "hs_fu1NsE9BO"
      },
      "execution_count": null,
      "outputs": []
    },
    {
      "cell_type": "code",
      "source": [
        "# create modify.py file to modify global variables\n",
        "import config\n",
        "config.x = 1\n",
        "config.y = 2\n",
        "config.z = \"Ganeshchowdary\""
      ],
      "metadata": {
        "colab": {
          "base_uri": "https://localhost:8080/",
          "height": 383
        },
        "id": "VxQOpvtaFb5_",
        "outputId": "3ce4676b-3443-4f6b-fa65-2c57bd51666c"
      },
      "execution_count": null,
      "outputs": [
        {
          "output_type": "error",
          "ename": "ModuleNotFoundError",
          "evalue": "ignored",
          "traceback": [
            "\u001b[0;31m---------------------------------------------------------------------------\u001b[0m",
            "\u001b[0;31mModuleNotFoundError\u001b[0m                       Traceback (most recent call last)",
            "\u001b[0;32m<ipython-input-23-da3650745f00>\u001b[0m in \u001b[0;36m<cell line: 2>\u001b[0;34m()\u001b[0m\n\u001b[1;32m      1\u001b[0m \u001b[0;31m# create modify.py file to modify global variables\u001b[0m\u001b[0;34m\u001b[0m\u001b[0;34m\u001b[0m\u001b[0m\n\u001b[0;32m----> 2\u001b[0;31m \u001b[0;32mimport\u001b[0m \u001b[0mconfig\u001b[0m\u001b[0;34m\u001b[0m\u001b[0;34m\u001b[0m\u001b[0m\n\u001b[0m\u001b[1;32m      3\u001b[0m \u001b[0mconfig\u001b[0m\u001b[0;34m.\u001b[0m\u001b[0mx\u001b[0m \u001b[0;34m=\u001b[0m \u001b[0;36m1\u001b[0m\u001b[0;34m\u001b[0m\u001b[0;34m\u001b[0m\u001b[0m\n\u001b[1;32m      4\u001b[0m \u001b[0mconfig\u001b[0m\u001b[0;34m.\u001b[0m\u001b[0my\u001b[0m \u001b[0;34m=\u001b[0m \u001b[0;36m2\u001b[0m\u001b[0;34m\u001b[0m\u001b[0;34m\u001b[0m\u001b[0m\n\u001b[1;32m      5\u001b[0m \u001b[0mconfig\u001b[0m\u001b[0;34m.\u001b[0m\u001b[0mz\u001b[0m \u001b[0;34m=\u001b[0m \u001b[0;34m\"Ganeshchowdary\"\u001b[0m\u001b[0;34m\u001b[0m\u001b[0;34m\u001b[0m\u001b[0m\n",
            "\u001b[0;31mModuleNotFoundError\u001b[0m: No module named 'config'",
            "",
            "\u001b[0;31m---------------------------------------------------------------------------\u001b[0;32m\nNOTE: If your import is failing due to a missing package, you can\nmanually install dependencies using either !pip or !apt.\n\nTo view examples of installing some common dependencies, click the\n\"Open Examples\" button below.\n\u001b[0;31m---------------------------------------------------------------------------\u001b[0m\n"
          ],
          "errorDetails": {
            "actions": [
              {
                "action": "open_url",
                "actionText": "Open Examples",
                "url": "/notebooks/snippets/importing_libraries.ipynb"
              }
            ]
          }
        }
      ]
    },
    {
      "cell_type": "code",
      "source": [
        "#Create a main.py file to modify global variables\n",
        "import config\n",
        "import modify\n",
        "print(config.x)\n",
        "print(config.y)\n",
        "print(config.z)"
      ],
      "metadata": {
        "colab": {
          "base_uri": "https://localhost:8080/",
          "height": 383
        },
        "id": "oIsmBWbfGGXq",
        "outputId": "0a90cad9-6d26-4fec-8680-df76a972cf2c"
      },
      "execution_count": null,
      "outputs": [
        {
          "output_type": "error",
          "ename": "ModuleNotFoundError",
          "evalue": "ignored",
          "traceback": [
            "\u001b[0;31m---------------------------------------------------------------------------\u001b[0m",
            "\u001b[0;31mModuleNotFoundError\u001b[0m                       Traceback (most recent call last)",
            "\u001b[0;32m<ipython-input-24-411427201644>\u001b[0m in \u001b[0;36m<cell line: 2>\u001b[0;34m()\u001b[0m\n\u001b[1;32m      1\u001b[0m \u001b[0;31m#Create a main.py file to modify global variables\u001b[0m\u001b[0;34m\u001b[0m\u001b[0;34m\u001b[0m\u001b[0m\n\u001b[0;32m----> 2\u001b[0;31m \u001b[0;32mimport\u001b[0m \u001b[0mconfig\u001b[0m\u001b[0;34m\u001b[0m\u001b[0;34m\u001b[0m\u001b[0m\n\u001b[0m\u001b[1;32m      3\u001b[0m \u001b[0;32mimport\u001b[0m \u001b[0mmodify\u001b[0m\u001b[0;34m\u001b[0m\u001b[0;34m\u001b[0m\u001b[0m\n\u001b[1;32m      4\u001b[0m \u001b[0mprint\u001b[0m\u001b[0;34m(\u001b[0m\u001b[0mconfig\u001b[0m\u001b[0;34m.\u001b[0m\u001b[0mx\u001b[0m\u001b[0;34m)\u001b[0m\u001b[0;34m\u001b[0m\u001b[0;34m\u001b[0m\u001b[0m\n\u001b[1;32m      5\u001b[0m \u001b[0mprint\u001b[0m\u001b[0;34m(\u001b[0m\u001b[0mconfig\u001b[0m\u001b[0;34m.\u001b[0m\u001b[0my\u001b[0m\u001b[0;34m)\u001b[0m\u001b[0;34m\u001b[0m\u001b[0;34m\u001b[0m\u001b[0m\n",
            "\u001b[0;31mModuleNotFoundError\u001b[0m: No module named 'config'",
            "",
            "\u001b[0;31m---------------------------------------------------------------------------\u001b[0;32m\nNOTE: If your import is failing due to a missing package, you can\nmanually install dependencies using either !pip or !apt.\n\nTo view examples of installing some common dependencies, click the\n\"Open Examples\" button below.\n\u001b[0;31m---------------------------------------------------------------------------\u001b[0m\n"
          ],
          "errorDetails": {
            "actions": [
              {
                "action": "open_url",
                "actionText": "Open Examples",
                "url": "/notebooks/snippets/importing_libraries.ipynb"
              }
            ]
          }
        }
      ]
    },
    {
      "cell_type": "code",
      "source": [
        "# global  in nested functions\n",
        "#In order to use global inside a nested function, we have to declare a variable\n",
        "# with a global keyword inside a nested function\n",
        "def add():\n",
        "    x = 15\n",
        "    def change():\n",
        "        global x\n",
        "        x = 20\n",
        "    print(\"Before making changing:\",x)\n",
        "    print(\"Making change\")\n",
        "    change()\n",
        "    print(\"After making change:\",x)\n",
        "\n",
        "add()\n",
        "print(\"value of x\",x)"
      ],
      "metadata": {
        "colab": {
          "base_uri": "https://localhost:8080/"
        },
        "id": "dMr7TQVqGODJ",
        "outputId": "2d1db4b9-bd1c-4d41-a316-f1d4a342360e"
      },
      "execution_count": null,
      "outputs": [
        {
          "output_type": "stream",
          "name": "stdout",
          "text": [
            "Before making changing: 15\n",
            "Making change\n",
            "After making change: 15\n",
            "value of x 20\n"
          ]
        }
      ]
    },
    {
      "cell_type": "code",
      "source": [
        "# first class objects\n",
        "#. They may be stored in data structures, passed as arguments, or used in control\n",
        "# structures. A programming language is said to support first-class functions if\n",
        "# it treats functions as first-class objects. Python supports the concept of\n",
        "#First Class functions."
      ],
      "metadata": {
        "id": "4K-8aGHVIcpV"
      },
      "execution_count": null,
      "outputs": []
    },
    {
      "cell_type": "code",
      "source": [
        "#Properties of first class functions:\n",
        "\n",
        "#A function is an instance of the Object type.\n",
        "#You can store the function in a variable.\n",
        "#You can pass the function as a parameter to another function.\n",
        "#You can return the function from a function.\n",
        "#You can store them in data structures such as hash tables, lists, …"
      ],
      "metadata": {
        "id": "5WbJh7hYJEXz"
      },
      "execution_count": null,
      "outputs": []
    },
    {
      "cell_type": "code",
      "source": [
        "#1. Functions are objects: Python functions are first class objects.\n",
        "#In the example below, we are assigning function to a variable. This assignment\n",
        "# doesn’t call the function. It takes the function object referenced by shout\n",
        "#and creates a second name pointing to it, yell.\n",
        "def shout(text):\n",
        "  return text.upper()\n",
        "\n",
        "print(shout('Hello'))\n",
        "\n",
        "yell = shout\n",
        "\n",
        "print(yell('Hello'))\n",
        "# what is the major difference between void and non void functions ?"
      ],
      "metadata": {
        "colab": {
          "base_uri": "https://localhost:8080/"
        },
        "id": "hdo9QpctJXj3",
        "outputId": "75303db8-497b-43e8-8169-8495b35817a5"
      },
      "execution_count": null,
      "outputs": [
        {
          "output_type": "stream",
          "name": "stdout",
          "text": [
            "HELLO\n",
            "HELLO\n"
          ]
        }
      ]
    },
    {
      "cell_type": "code",
      "source": [
        "#2. Functions can be passed as arguments to other functions\n",
        "def shout(text):\n",
        "  return text.upper()\n",
        "\n",
        "def whisper(text):\n",
        "  return text.lower()\n",
        "\n",
        "def greet(func):\n",
        "  # storing the function in a variable\n",
        "  greeting = func(\"\"\"Hi, I am created by a function\n",
        "                    passed as an argument.\"\"\")\n",
        "  print(greeting)\n",
        "\n",
        "greet(shout)\n",
        "greet(whisper)"
      ],
      "metadata": {
        "colab": {
          "base_uri": "https://localhost:8080/"
        },
        "id": "-IlV3jDRLL1t",
        "outputId": "00ccf60a-3d57-4368-91f8-350845e8adc1"
      },
      "execution_count": null,
      "outputs": [
        {
          "output_type": "stream",
          "name": "stdout",
          "text": [
            "HI, I AM CREATED BY A FUNCTION \n",
            "                    PASSED AS AN ARGUMENT.\n",
            "hi, i am created by a function \n",
            "                    passed as an argument.\n"
          ]
        }
      ]
    },
    {
      "cell_type": "code",
      "source": [
        "#3. Functions can return another function: Because functions are objects we can\n",
        "#return a function from another function. # working ?????????????\n",
        "def create_adder(x):\n",
        "  def adder(y):\n",
        "    return x+y\n",
        "  return adder\n",
        "\n",
        "add_15 = create_adder(15)\n",
        "print(add_15(10))"
      ],
      "metadata": {
        "colab": {
          "base_uri": "https://localhost:8080/"
        },
        "id": "X-Zx8M7LMdBa",
        "outputId": "f457d397-651f-4c74-bd4b-73dc063bf8bb"
      },
      "execution_count": null,
      "outputs": [
        {
          "output_type": "stream",
          "name": "stdout",
          "text": [
            "25\n"
          ]
        }
      ]
    },
    {
      "cell_type": "code",
      "source": [
        "# nested function in python ??????????????????more practice\n",
        "def outerfunc(text):\n",
        "\n",
        "  def innerfunc():\n",
        "    print(text)\n",
        "\n",
        "  innerfunc()\n",
        "\n",
        "if __name__ == '__main__':\n",
        "     outerfunc('Hey!')\n",
        "#As we can see innerFunction() can easily be accessed inside the outerFunction\n",
        "#body but not outside of its body. Hence, here, innerFunction() is treated as\n",
        "# a nested Function that uses text as a non-local variable."
      ],
      "metadata": {
        "colab": {
          "base_uri": "https://localhost:8080/"
        },
        "id": "rJFmINpfNTrY",
        "outputId": "62382600-aa8b-4f6c-b09f-09c246fa5f06"
      },
      "execution_count": null,
      "outputs": [
        {
          "output_type": "stream",
          "name": "stdout",
          "text": [
            "Hey!\n"
          ]
        }
      ]
    },
    {
      "cell_type": "code",
      "source": [
        "# what are non-local variables?\n",
        "#A Closure in Python is a function object that remembers values in enclosing\n",
        "#scopes even if they are not present in memory.\n",
        "def outerfunc(text):\n",
        "\n",
        "  def innerfunc():\n",
        "    print(text)\n",
        "\n",
        "  return innerfunc\n",
        "\n",
        "if __name__ == '__main__':  # why we are using main here??????????revise????\n",
        "  myfunc = outerfunc('hey!')\n",
        "  myfunc()"
      ],
      "metadata": {
        "colab": {
          "base_uri": "https://localhost:8080/"
        },
        "id": "KtorMqu9OmYv",
        "outputId": "f0437dd6-f477-44a5-a60c-75c3a1197e64"
      },
      "execution_count": null,
      "outputs": [
        {
          "output_type": "stream",
          "name": "stdout",
          "text": [
            "hey!\n"
          ]
        }
      ]
    },
    {
      "cell_type": "code",
      "source": [
        "import logging\n",
        "logging.basicConfig(filename='example.log',\n",
        "                    level=logging.INFO)\n",
        "\n",
        "def logger(func):\n",
        "    def log_func(*args):\n",
        "        logging.info(\n",
        "            'Running \"{}\" with arguments {}'.format(func.__name__,\n",
        "                                                    args))\n",
        "        print(func(*args))\n",
        "\n",
        "    # Necessary for closure to\n",
        "    # work (returning WITHOUT parenthesis)\n",
        "    return log_func\n",
        "\n",
        "def add(x, y):\n",
        "    return x+y\n",
        "\n",
        "def sub(x, y):\n",
        "    return x-y\n",
        "\n",
        "add_logger = logger(add)\n",
        "sub_logger = logger(sub)\n",
        "\n",
        "add_logger(3, 3)\n",
        "add_logger(4, 5)\n",
        "\n",
        "sub_logger(10, 5)\n",
        "sub_logger(20, 10)"
      ],
      "metadata": {
        "colab": {
          "base_uri": "https://localhost:8080/"
        },
        "id": "QDydEYWmSfJK",
        "outputId": "ee1f5573-1b7b-4b37-e6c0-e0c7a3e2f1a5"
      },
      "execution_count": null,
      "outputs": [
        {
          "output_type": "stream",
          "name": "stdout",
          "text": [
            "6\n",
            "9\n",
            "5\n",
            "10\n"
          ]
        }
      ]
    },
    {
      "cell_type": "code",
      "source": [
        "# Decorators in python\n",
        "# revise it from google bard\n",
        "# Decarators can modify the behaviour\n",
        "def hello_decarator(func):\n",
        "  # inner1 is a Wrapper function in\n",
        "    # which the argument is called\n",
        "\n",
        "    # inner function can access the outer local\n",
        "    # functions like in this case \"func\"\n",
        "    def inner1():\n",
        "        print(\"Hello , this is before function execution\")\n",
        "\n",
        "\n",
        "        # calling the actual function now\n",
        "        # inside the wrapper function.\n",
        "        func()\n",
        "\n",
        "        print(\"this is after execution!!\")\n",
        "    return inner1\n",
        "\n",
        "# defining a function, to be called inside wrapper\n",
        "def function_to_be_used():\n",
        "  print(\"this is inside the function!!\")\n",
        "\n",
        "# passing 'function_to_be_used' inside the\n",
        "# decorator to control its behaviour\n",
        "function_to_be_used = hello_decarator(function_to_be_used)\n",
        "\n",
        "function_to_be_used()"
      ],
      "metadata": {
        "colab": {
          "base_uri": "https://localhost:8080/"
        },
        "id": "sTP6Ip1FT7O6",
        "outputId": "9f475f54-57a2-4e4d-aed6-d2e4778914ce"
      },
      "execution_count": null,
      "outputs": [
        {
          "output_type": "stream",
          "name": "stdout",
          "text": [
            "Hello , this is before function execution\n",
            "this is inside the function!!\n",
            "this is after execution!!\n"
          ]
        }
      ]
    },
    {
      "cell_type": "code",
      "source": [
        "# another example\n",
        "import time\n",
        "import math\n",
        "\n",
        "# decorator to claculate duration\n",
        "# taken by any function\n",
        "\n",
        "def calculate_time(func):\n",
        "    #added arguments inside the inner1,\n",
        "    #if function takes any arguments,\n",
        "    # can be added like this\n",
        "    def inner1(*args,**kwargs):\n",
        "      # storing time before execution\n",
        "      begin = time.time()\n",
        "\n",
        "      func(*args,**kwargs)\n",
        "\n",
        "      #storing time after function execution\n",
        "      end = time.time()\n",
        "      print(\"Total time taken in: \",func.__name__,end - begin)\n",
        "\n",
        "    return inner1\n",
        "\n",
        "\n",
        "# this is added to any function present\n",
        "# in this case to calculate a factorial\n",
        "@calculate_time\n",
        "def factorial(num):\n",
        "\n",
        "  # sleep 2 seconds because it takes very less time\n",
        "  # so that you can see actual difference\n",
        "  time.sleep(2)\n",
        "  print(math.factorial(num))\n",
        "\n",
        "# calling function\n",
        "factorial(10)"
      ],
      "metadata": {
        "colab": {
          "base_uri": "https://localhost:8080/"
        },
        "id": "8MKO699rqy7e",
        "outputId": "c5b48636-bcc8-4244-9972-b511b0f9af14"
      },
      "execution_count": 8,
      "outputs": [
        {
          "output_type": "stream",
          "name": "stdout",
          "text": [
            "3628800\n",
            "Total time taken in:  factorial 2.002652645111084\n"
          ]
        }
      ]
    },
    {
      "cell_type": "code",
      "source": [
        "# what if function returms something or an argument is passed to the function\n",
        "def hello_decorator(func):\n",
        "  def inner1(*args,**kwargs):\n",
        "    print(\"before execution\")\n",
        "\n",
        "    # getting the returned value\n",
        "    returned_value = func(*args,**kwargs)\n",
        "    print(\"after execution\")\n",
        "\n",
        "    # returning the value to the original frame\n",
        "    return returned_value\n",
        "  return inner1\n",
        "\n",
        "# adding decorator to the function\n",
        "@hello_decorator\n",
        "def sum_two_numbers(a,b):\n",
        "  print(\"inside the function\")\n",
        "  return a + b\n",
        "\n",
        "a,b = 1,2\n",
        "\n",
        "# getting the value through return of the function\n",
        "print(\"sum=\",sum_two_numbers(a,b))"
      ],
      "metadata": {
        "colab": {
          "base_uri": "https://localhost:8080/"
        },
        "id": "XxjS9bi4vGmB",
        "outputId": "87399ef9-c769-4dc7-d168-8cd104c5343c"
      },
      "execution_count": 9,
      "outputs": [
        {
          "output_type": "stream",
          "name": "stdout",
          "text": [
            "before execution\n",
            "inside the function\n",
            "after execution\n",
            "sum= 3\n"
          ]
        }
      ]
    },
    {
      "cell_type": "code",
      "source": [
        "# chaining decorators\n",
        "# means decorating a function with multiple decorators\n",
        "def decor1(func):\n",
        "  def inner():\n",
        "    x = func()\n",
        "    return x * x\n",
        "  return inner\n",
        "\n",
        "def decor(func):\n",
        "    def inner():\n",
        "        x = func()\n",
        "        return 2 * x\n",
        "    return inner\n",
        "\n",
        "@decor1\n",
        "@decor\n",
        "def num():\n",
        "  return 10\n",
        "\n",
        "@decor\n",
        "@decor1\n",
        "def num2():\n",
        "  return 10\n",
        "\n",
        "print(num())\n",
        "print(num2())"
      ],
      "metadata": {
        "colab": {
          "base_uri": "https://localhost:8080/"
        },
        "id": "YkOBxrpXxLP5",
        "outputId": "ee73ea15-704b-4f86-e097-548af4081e55"
      },
      "execution_count": 10,
      "outputs": [
        {
          "output_type": "stream",
          "name": "stdout",
          "text": [
            "400\n",
            "200\n"
          ]
        }
      ]
    },
    {
      "cell_type": "code",
      "source": [
        "# decorators with parmeters is implemented\n",
        "def decorators(*args,**kwargs):\n",
        "    def inner(func):\n",
        "       '''\n",
        "       do operation with func\n",
        "\n",
        "       '''\n",
        "       return func\n",
        "    return inner #this is the fun_obj mentioned in the above content\n",
        "\n",
        "@decorators(params)\n",
        "def func():\n",
        "  '''\n",
        "  function implementation\n",
        "\n",
        "  '''"
      ],
      "metadata": {
        "colab": {
          "base_uri": "https://localhost:8080/",
          "height": 245
        },
        "id": "V7-kbWNo0GSy",
        "outputId": "c7d2162e-1184-4a15-a6d2-db63f2fe0ab0"
      },
      "execution_count": 11,
      "outputs": [
        {
          "output_type": "error",
          "ename": "NameError",
          "evalue": "ignored",
          "traceback": [
            "\u001b[0;31m---------------------------------------------------------------------------\u001b[0m",
            "\u001b[0;31mNameError\u001b[0m                                 Traceback (most recent call last)",
            "\u001b[0;32m<ipython-input-11-d35397535678>\u001b[0m in \u001b[0;36m<cell line: 11>\u001b[0;34m()\u001b[0m\n\u001b[1;32m      9\u001b[0m     \u001b[0;32mreturn\u001b[0m \u001b[0minner\u001b[0m \u001b[0;31m#this is the fun_obj mentioned in the above content\u001b[0m\u001b[0;34m\u001b[0m\u001b[0;34m\u001b[0m\u001b[0m\n\u001b[1;32m     10\u001b[0m \u001b[0;34m\u001b[0m\u001b[0m\n\u001b[0;32m---> 11\u001b[0;31m \u001b[0;34m@\u001b[0m\u001b[0mdecorators\u001b[0m\u001b[0;34m(\u001b[0m\u001b[0mparams\u001b[0m\u001b[0;34m)\u001b[0m\u001b[0;34m\u001b[0m\u001b[0;34m\u001b[0m\u001b[0m\n\u001b[0m\u001b[1;32m     12\u001b[0m \u001b[0;32mdef\u001b[0m \u001b[0mfunc\u001b[0m\u001b[0;34m(\u001b[0m\u001b[0;34m)\u001b[0m\u001b[0;34m:\u001b[0m\u001b[0;34m\u001b[0m\u001b[0;34m\u001b[0m\u001b[0m\n\u001b[1;32m     13\u001b[0m   '''\n",
            "\u001b[0;31mNameError\u001b[0m: name 'params' is not defined"
          ]
        }
      ]
    },
    {
      "cell_type": "code",
      "source": [
        "def decorator_func(func):\n",
        "  print(\"inside decorator\")\n",
        "  def inner(*args,**kwargs):\n",
        "    print(\"inside inner function\")\n",
        "    print(\"decorated the function\")\n",
        "\n",
        "    # do operations with func\n",
        "    func()\n",
        "  return inner()\n",
        "@decorator_func\n",
        "def func_to():\n",
        "  print(\"inside actual function\")\n",
        "func_to"
      ],
      "metadata": {
        "colab": {
          "base_uri": "https://localhost:8080/"
        },
        "id": "Kl4zJ0wx2XqZ",
        "outputId": "e5940350-060a-4aa3-8927-7b19cdeabc7f"
      },
      "execution_count": 12,
      "outputs": [
        {
          "output_type": "stream",
          "name": "stdout",
          "text": [
            "inside decorator\n",
            "inside inner function\n",
            "decorated the function\n",
            "inside actual function\n"
          ]
        }
      ]
    },
    {
      "cell_type": "code",
      "source": [
        "def decorator_fun(func):\n",
        "   print(\"inside decorator\")\n",
        "\n",
        "   def inner(*args,**kwargs):\n",
        "     print(\"inside inner function\")\n",
        "     print(\"decorated the function\")\n",
        "\n",
        "     func()\n",
        "   return inner\n",
        "\n",
        "def func_to():\n",
        "  print(\"inside actual function\")\n",
        "\n",
        "# another way of using decorators\n",
        "decorator_func(func_to)()"
      ],
      "metadata": {
        "colab": {
          "base_uri": "https://localhost:8080/",
          "height": 279
        },
        "id": "ndJOC5X44F58",
        "outputId": "8778b67b-abb3-4181-dde4-86d0aaf62488"
      },
      "execution_count": 13,
      "outputs": [
        {
          "output_type": "stream",
          "name": "stdout",
          "text": [
            "inside decorator\n",
            "inside inner function\n",
            "decorated the function\n",
            "inside actual function\n"
          ]
        },
        {
          "output_type": "error",
          "ename": "TypeError",
          "evalue": "ignored",
          "traceback": [
            "\u001b[0;31m---------------------------------------------------------------------------\u001b[0m",
            "\u001b[0;31mTypeError\u001b[0m                                 Traceback (most recent call last)",
            "\u001b[0;32m<ipython-input-13-775fb55d27b1>\u001b[0m in \u001b[0;36m<cell line: 15>\u001b[0;34m()\u001b[0m\n\u001b[1;32m     13\u001b[0m \u001b[0;34m\u001b[0m\u001b[0m\n\u001b[1;32m     14\u001b[0m \u001b[0;31m# another way of using decorators\u001b[0m\u001b[0;34m\u001b[0m\u001b[0;34m\u001b[0m\u001b[0m\n\u001b[0;32m---> 15\u001b[0;31m \u001b[0mdecorator_func\u001b[0m\u001b[0;34m(\u001b[0m\u001b[0mfunc_to\u001b[0m\u001b[0;34m)\u001b[0m\u001b[0;34m(\u001b[0m\u001b[0;34m)\u001b[0m\u001b[0;34m\u001b[0m\u001b[0;34m\u001b[0m\u001b[0m\n\u001b[0m",
            "\u001b[0;31mTypeError\u001b[0m: 'NoneType' object is not callable"
          ]
        }
      ]
    },
    {
      "cell_type": "code",
      "source": [
        "# example 1\n",
        "def decorator(*args,**kwargs):\n",
        "  print(\"inside decorator\")\n",
        "\n",
        "  def inner(func):\n",
        "\n",
        "    # code functionality here\n",
        "    print(\"inside inner function\")\n",
        "    print(\"i like\",kwargs['like'])\n",
        "\n",
        "    func()\n",
        "\n",
        "  # returning inner function\n",
        "  return inner\n",
        "\n",
        "@decorator(like = \"areganeshchowdary\")\n",
        "def my_func():\n",
        "  print(\"inside actual function\")\n",
        ""
      ],
      "metadata": {
        "colab": {
          "base_uri": "https://localhost:8080/"
        },
        "id": "3gfDnbEg46Gz",
        "outputId": "afddd95e-d316-4a74-c05a-fcb15d6daa88"
      },
      "execution_count": 14,
      "outputs": [
        {
          "output_type": "stream",
          "name": "stdout",
          "text": [
            "inside decorator\n",
            "inside inner function\n",
            "i like areganeshchowdary\n",
            "inside actual function\n"
          ]
        }
      ]
    },
    {
      "cell_type": "code",
      "source": [
        "# example 2\n",
        "def decorator_func(x,y):\n",
        "\n",
        "  def inner(func):\n",
        "\n",
        "    def wrapper(*args,**kwargs):\n",
        "      print(\"i like ganeshchowdary\")\n",
        "      print(\"summation of values = {}\".format(x+y))\n",
        "\n",
        "      func(*args,**kwargs)\n",
        "\n",
        "    return wrapper\n",
        "  return inner\n",
        "\n",
        "# not using decorator\n",
        "def my_fun(*args):\n",
        "  for ele in args:\n",
        "      print(ele)\n",
        "\n",
        "# another way of using decorators\n",
        "decorator_func(12,15)(my_fun)(\"are\",\"ganesh\",\"chowdary\")"
      ],
      "metadata": {
        "colab": {
          "base_uri": "https://localhost:8080/"
        },
        "id": "zIkOygFQ-Sh-",
        "outputId": "30aefcd7-7413-42f8-f23f-b2268b7a8df5"
      },
      "execution_count": 17,
      "outputs": [
        {
          "output_type": "stream",
          "name": "stdout",
          "text": [
            "i like ganeshchowdary\n",
            "summation of values = 27\n",
            "are\n",
            "ganesh\n",
            "chowdary\n"
          ]
        }
      ]
    },
    {
      "cell_type": "code",
      "source": [
        "# example 3\n",
        "# Decorators with parameters in Python  (Multi-level Decorators)\n",
        "def decodecorator(datatype,message1,message2):\n",
        "  def decorator(fun):\n",
        "    print(message1)\n",
        "    def wrapper(*args,**kwargs):\n",
        "      print(message2)\n",
        "      if all([type(arg) == datatype for arg in args]):\n",
        "        return fun(*args,**kwargs)\n",
        "      return \"inavalid input\"\n",
        "    return wrapper\n",
        "  return decorator\n",
        "\n",
        "@decodecorator(str,\"decorator for 'stringjoin'\",\"stringjoin started ...\")\n",
        "def stringjoin(*args):\n",
        "  st = ''\n",
        "  for i in args:\n",
        "    st += i\n",
        "  return st\n",
        "\n",
        "@decodecorator(int,\"decorator for 'summation'\\n\",\"summation started ...\")\n",
        "def summation(*args):\n",
        "  summ = 0\n",
        "  for arg in args:\n",
        "    summ += arg\n",
        "  return summ\n",
        "\n",
        "print(stringjoin(\"i \",\"like \",\"ganesh \",\"chowdary \"))\n",
        "print()\n",
        "print(summation(19,2,8,533,67,981,119))"
      ],
      "metadata": {
        "colab": {
          "base_uri": "https://localhost:8080/"
        },
        "id": "oqKrb7-9_oJg",
        "outputId": "6363a4a0-d1b7-4f89-8a5b-db719696297a"
      },
      "execution_count": 19,
      "outputs": [
        {
          "output_type": "stream",
          "name": "stdout",
          "text": [
            "decorator for 'stringjoin'\n",
            "decorator for 'summation'\n",
            "\n",
            "stringjoin started ...\n",
            "i like ganesh chowdary \n",
            "\n",
            "summation started ...\n",
            "1729\n"
          ]
        }
      ]
    },
    {
      "cell_type": "code",
      "source": [
        "# memoization using decorators in python\n",
        "def facto(num):\n",
        "    if num == 1:\n",
        "      return 1\n",
        "    else:\n",
        "      return num * facto(num-1)\n",
        "\n",
        "print(facto(5))\n",
        "print(facto(5)) # again performing same calculation"
      ],
      "metadata": {
        "colab": {
          "base_uri": "https://localhost:8080/"
        },
        "id": "B_F12q_uDGkX",
        "outputId": "2b768800-319a-4732-c062-0a31e91467b3"
      },
      "execution_count": 20,
      "outputs": [
        {
          "output_type": "stream",
          "name": "stdout",
          "text": [
            "120\n",
            "120\n"
          ]
        }
      ]
    },
    {
      "cell_type": "code",
      "source": [
        "# Factorial program with memoization using\n",
        "# decorators.\n",
        "\n",
        "# a decorator function for function 'f' passed as parameter\n",
        "memory = {}\n",
        "def memoize_factorial(f):\n",
        "\n",
        "  # this inner function has access to memory and 'f'\n",
        "  def inner(num):\n",
        "    if num not in memory:\n",
        "      memory[num] = f(num)\n",
        "      print(\"result saved in memory\")\n",
        "    else:\n",
        "      print('returning result from saved memory')\n",
        "    return memory[num]\n",
        "  return inner\n",
        "\n",
        "@memoize_factorial\n",
        "def facto(num):\n",
        "  if num == 1:\n",
        "    return 1\n",
        "  else:\n",
        "    return num * facto(num-1)\n",
        "\n",
        "print(facto(5))\n",
        "print(facto(5)) # directly coming from saved memory"
      ],
      "metadata": {
        "colab": {
          "base_uri": "https://localhost:8080/"
        },
        "id": "rWb6QX4TEyZS",
        "outputId": "6bec7517-08c2-475e-c6b1-0c122da6a7a6"
      },
      "execution_count": 21,
      "outputs": [
        {
          "output_type": "stream",
          "name": "stdout",
          "text": [
            "result saved in memory\n",
            "result saved in memory\n",
            "result saved in memory\n",
            "result saved in memory\n",
            "result saved in memory\n",
            "120\n",
            "returning result from saved memory\n",
            "120\n"
          ]
        }
      ]
    }
  ]
}