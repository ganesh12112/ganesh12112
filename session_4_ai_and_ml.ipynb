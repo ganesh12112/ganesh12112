{
  "nbformat": 4,
  "nbformat_minor": 0,
  "metadata": {
    "colab": {
      "provenance": [],
      "authorship_tag": "ABX9TyPuhvKgmmJWsy6AUFQebJeu",
      "include_colab_link": true
    },
    "kernelspec": {
      "name": "python3",
      "display_name": "Python 3"
    },
    "language_info": {
      "name": "python"
    }
  },
  "cells": [
    {
      "cell_type": "markdown",
      "metadata": {
        "id": "view-in-github",
        "colab_type": "text"
      },
      "source": [
        "<a href=\"https://colab.research.google.com/github/ganesh12112/ganesh12112/blob/main/session_4_ai_and_ml.ipynb\" target=\"_parent\"><img src=\"https://colab.research.google.com/assets/colab-badge.svg\" alt=\"Open In Colab\"/></a>"
      ]
    },
    {
      "cell_type": "code",
      "execution_count": null,
      "metadata": {
        "colab": {
          "base_uri": "https://localhost:8080/"
        },
        "id": "q1GjCSYbojAy",
        "outputId": "6cf9dbb2-2345-43b9-e929-f30039355282"
      },
      "outputs": [
        {
          "output_type": "stream",
          "name": "stdout",
          "text": [
            "(10, 12, 23, 'a', 'b')\n",
            "[45, 3, 4, 5, 6]\n"
          ]
        }
      ],
      "source": [
        "# session 4\n",
        "#tuples,dictionaries,dataframes(numpy and pandas)\n",
        "tuple = (10,12,23,'a','b') # thes are immutable\n",
        "list = [1,3,4,5,6] # mutable\n",
        "#tuple[0] = 56\n",
        "list[0] = 45\n",
        "print(tuple)\n",
        "print(list)"
      ]
    },
    {
      "cell_type": "code",
      "source": [
        "# concatenation of number\n",
        "t1 = (1,2,3,4,5)\n",
        "t2 = (45,6,78,34)\n",
        "print(t1+t2)\n",
        "print(len(t1)) # lenth of tuple1\n",
        "print(t1*2) # repetition of tuple 1\n",
        "print(12 in t1)\n",
        "# using for lopp to acess every element in tuple1\n",
        "for i in t1:\n",
        "  print(i)"
      ],
      "metadata": {
        "colab": {
          "base_uri": "https://localhost:8080/"
        },
        "id": "m8xEl91pqCid",
        "outputId": "1d2289be-f86d-4f6e-bc8a-34c5601590a3"
      },
      "execution_count": null,
      "outputs": [
        {
          "output_type": "stream",
          "name": "stdout",
          "text": [
            "(1, 2, 3, 4, 5, 45, 6, 78, 34)\n",
            "5\n",
            "(1, 2, 3, 4, 5, 1, 2, 3, 4, 5)\n",
            "False\n",
            "1\n",
            "2\n",
            "3\n",
            "4\n",
            "5\n"
          ]
        }
      ]
    },
    {
      "cell_type": "code",
      "source": [
        "# dictionaries - set of items with \"key-value pair\" enclosed in { }.\n",
        "dict1 = {'a':100,'b':200,'c':300} # a = key ,100= value like that\n",
        "print(dict1)\n",
        "# we can acess the value by keys in the dictionary\n",
        "print(dict1['a'])\n",
        "print(dict1.keys())\n",
        "print(dict1.values())\n",
        "# use for loop to find the values of key\n",
        "i = 0\n",
        "for score in dict1.values():\n",
        "  i = i+score\n",
        "print(i/len(dict1))\n",
        "# why we intialize i = 0 or any varible in loops(for)\n",
        "# solution  we are not printing the list of items in a dictionarie i.e\n",
        "# performing the operation called calculation of average\n",
        "# rsfer some more examples to get clarity on this"
      ],
      "metadata": {
        "colab": {
          "base_uri": "https://localhost:8080/"
        },
        "id": "pWCpoKlprH1y",
        "outputId": "999fd719-bbf0-4179-f4cc-e7d3ef74d3ab"
      },
      "execution_count": null,
      "outputs": [
        {
          "output_type": "stream",
          "name": "stdout",
          "text": [
            "{'a': 100, 'b': 200, 'c': 300}\n",
            "100\n",
            "dict_keys(['a', 'b', 'c'])\n",
            "dict_values([100, 200, 300])\n",
            "200.0\n"
          ]
        }
      ]
    },
    {
      "cell_type": "code",
      "source": [
        "# numpy data struture - numerical python librarary\n",
        "# it contains all the neccessary routines that operate on array\n",
        "# we can various array objects 1d, 2d and multi dimensional\n",
        "# it providesset tof routines to operate on all array objects\n",
        "# import numpy\n",
        "import numpy as np\n",
        "A = np.array([1,2,3,4,5]) # creating an array 1d\n",
        "B = np.array([[1,2,3],[4,5,6]]) # creating an 2d array\n",
        "print(A)\n",
        "print(B)\n",
        "print(A.shape) # gives the no of rows and columns\n",
        "print(B.shape)\n",
        "# acessinng the individual elements\n",
        "print(B[0,0]) # Acessing the first element of array i.e it is 2d array\n",
        "print(B[0,1]) # second element\n"
      ],
      "metadata": {
        "colab": {
          "base_uri": "https://localhost:8080/"
        },
        "id": "IFSpJ9txvQSL",
        "outputId": "9358dbf6-0051-4a9b-9da5-348c759ecf3b"
      },
      "execution_count": null,
      "outputs": [
        {
          "output_type": "stream",
          "name": "stdout",
          "text": [
            "[1 2 3 4 5]\n",
            "[[1 2 3]\n",
            " [4 5 6]]\n",
            "(5,)\n",
            "(2, 3)\n",
            "1\n",
            "2\n"
          ]
        }
      ]
    },
    {
      "cell_type": "code",
      "source": [
        "# assignment 1 = create 2d array ,find sum of all elments\n",
        "import numpy as np\n",
        "A = np.array([[1,2,3],[4,5,6]])\n",
        "r,c = B.shape # r= rows,c= columns\n",
        "s=0\n",
        "for i in range(0,r):\n",
        "  for j in range(0,c):\n",
        "    s = s+B[i,j]\n",
        "print(\"sum=\",s)\n",
        "# assigment 2 = sum of each row and sum of each column\n",
        "# each row\n",
        "import numpy as np\n",
        "A = np.array([[1,2,3],[4,5,6]])\n",
        "r,c = B.shape # r= rows,c= columns\n",
        "print(A)\n",
        "print(np.sum(B,axis = 1))\n",
        "print(np.sum(B,axis = 0))"
      ],
      "metadata": {
        "colab": {
          "base_uri": "https://localhost:8080/"
        },
        "id": "GsiWSMBax3ZH",
        "outputId": "080a4e6d-2b32-4bf1-bea9-c3938348d063"
      },
      "execution_count": null,
      "outputs": [
        {
          "output_type": "stream",
          "name": "stdout",
          "text": [
            "sum= 21\n",
            "[[1 2 3]\n",
            " [4 5 6]]\n",
            "[ 6 15]\n",
            "[5 7 9]\n"
          ]
        }
      ]
    },
    {
      "cell_type": "code",
      "source": [
        "# finding the sum of each row and column by the for loop\n",
        "import numpy as np\n",
        "A = np.array([[1,2,3],[4,5,6]])\n",
        "for i in range(0,r):\n",
        "  s = 0\n",
        "  for j in range(0,c):\n",
        "      s = s+A[i,j]\n",
        "  print(\"sum of rows=\",i,\"is=\",s)\n",
        "\n",
        "# what is the differnce between intialize a varible outside the loop and inside the loop"
      ],
      "metadata": {
        "colab": {
          "base_uri": "https://localhost:8080/"
        },
        "id": "W0vAw8ov14VC",
        "outputId": "06212a4e-97df-411c-e655-f47baf4c50cc"
      },
      "execution_count": null,
      "outputs": [
        {
          "output_type": "stream",
          "name": "stdout",
          "text": [
            "sum of rows= 0 is= 6\n",
            "sum of rows= 1 is= 15\n"
          ]
        }
      ]
    },
    {
      "cell_type": "code",
      "source": [
        "# Another way to find sum  of each row\n",
        "import numpy as np\n",
        "A = np.array([[1,2,3],[4,5,6]])\n",
        "B = A.shape\n",
        "print(\"rows=\", r)\n",
        "print(\"col=\", c)\n",
        "s = 0\n",
        "for i in range(0,r):\n",
        "  for j in range(0,c):\n",
        "    s = s+A[i,j]\n",
        "print(s)"
      ],
      "metadata": {
        "colab": {
          "base_uri": "https://localhost:8080/"
        },
        "id": "B1lK5sQS9xce",
        "outputId": "55a1bec7-cb7c-4269-da19-bd2a07c15b6c"
      },
      "execution_count": 42,
      "outputs": [
        {
          "output_type": "stream",
          "name": "stdout",
          "text": [
            "rows= 2\n",
            "col= 3\n",
            "21\n"
          ]
        }
      ]
    },
    {
      "cell_type": "code",
      "source": [
        "# finding the  sum of each column\n",
        "import numpy as np\n",
        "A = np.array([[1,2,3],[4,5,6]])\n",
        "for i in range(0,c): # interchange row with column\n",
        "  s = 0\n",
        "  for j in range(0,r):\n",
        "      s = s+A[j,i]   # here also\n",
        "  print(\"sum of columns=\",i,\"is=\",s)"
      ],
      "metadata": {
        "colab": {
          "base_uri": "https://localhost:8080/"
        },
        "id": "UzOfxH3v4tFY",
        "outputId": "655f2725-6595-4a94-c52f-8e282912eaa8"
      },
      "execution_count": null,
      "outputs": [
        {
          "output_type": "stream",
          "name": "stdout",
          "text": [
            "sum of columns= 0 is= 5\n",
            "sum of columns= 1 is= 7\n",
            "sum of columns= 2 is= 9\n"
          ]
        }
      ]
    },
    {
      "cell_type": "code",
      "source": [
        "# methods avalilable in numpy\n",
        "# add,subtract,multiply,divide,sum ,std ,average\n",
        "A = np.array([[0,2,2],[4,7,8]])\n",
        "B = np.array([[1,2,3],[4,5,6]])\n",
        "print(np.add(A,B))\n",
        "print(np.subtract(A,B))\n",
        "print(np.multiply(A,B))\n",
        "print(np.divide(A,B))\n"
      ],
      "metadata": {
        "colab": {
          "base_uri": "https://localhost:8080/"
        },
        "id": "GM0SQyy95S72",
        "outputId": "44d10a39-f56f-40c5-bedc-46eb2df534e0"
      },
      "execution_count": 46,
      "outputs": [
        {
          "output_type": "stream",
          "name": "stdout",
          "text": [
            "[[ 1  4  5]\n",
            " [ 8 12 14]]\n",
            "[[-1  0 -1]\n",
            " [ 0  2  2]]\n",
            "[[ 0  4  6]\n",
            " [16 35 48]]\n",
            "[[0.         1.         0.66666667]\n",
            " [1.         1.4        1.33333333]]\n"
          ]
        }
      ]
    },
    {
      "cell_type": "code",
      "source": [
        "# create sparse matrix and count number of zeros in the matrix\n",
        "import numpy as np\n",
        "from scipy.sparse import csr_matrix\n",
        "A = np.array([[1,2,3,0,0],[0,0,4,5,6],[0,0,0,1,1],[2,3,4,5,0]])\n",
        "B = A.shape\n",
        "print(B)\n",
        "sparseMatrix = csr_matrix((4,5),dtype = np.int8).toarray()\n",
        "print(sparseMatrix)"
      ],
      "metadata": {
        "colab": {
          "base_uri": "https://localhost:8080/"
        },
        "id": "JfhcStAuDZ7w",
        "outputId": "0dadf177-5f71-4b8e-9132-60ba279b44ca"
      },
      "execution_count": 51,
      "outputs": [
        {
          "output_type": "stream",
          "name": "stdout",
          "text": [
            "(4, 5)\n",
            "[[0 0 0 0 0]\n",
            " [0 0 0 0 0]\n",
            " [0 0 0 0 0]\n",
            " [0 0 0 0 0]]\n"
          ]
        }
      ]
    },
    {
      "cell_type": "code",
      "source": [
        "# another way to create\n",
        "import numpy as np\n",
        "A = np.array([[1,2,3,0,0],[0,0,4,5,6],[0,0,0,1,1],[2,3,4,5,0]])\n",
        "r,c = A.shape\n",
        "s = 0\n",
        "for i in range(0,r):\n",
        "   for j in range(0,c):\n",
        "     if A[i,j] == 0:\n",
        "       s = s+1\n",
        "print(\"Zeroes count=\",s)"
      ],
      "metadata": {
        "colab": {
          "base_uri": "https://localhost:8080/"
        },
        "id": "8VzF_4DNGOKc",
        "outputId": "cbf5143b-cf5c-47d2-f1d7-41bdb99d033b"
      },
      "execution_count": 60,
      "outputs": [
        {
          "output_type": "stream",
          "name": "stdout",
          "text": [
            "Zeroes count= 8\n"
          ]
        }
      ]
    },
    {
      "cell_type": "code",
      "source": [
        "# pandas - data analysis package\n",
        "# datatypes - series ,dataframe and panel\n",
        "#series - 1d object creation\n",
        "#dataframe - tabular form of data\n",
        "# panel - 3d data representation(images,video analysis)\n",
        "# lets start with series data type\n",
        "import pandas as pd\n",
        "S = pd.Series([10,20,30,40])\n",
        "print(S)\n",
        "# WE CAN ASLO GIVE THE INDEX VALUES to our series manually\n",
        "S1 = pd.Series([10,20,30,40],index =[1,2,3,4])\n",
        "print(S1)\n",
        "print(S1[1])"
      ],
      "metadata": {
        "colab": {
          "base_uri": "https://localhost:8080/"
        },
        "id": "mNSxcEb1JEde",
        "outputId": "a8352f01-22a2-4d2b-a19b-e57014f3df7c"
      },
      "execution_count": 64,
      "outputs": [
        {
          "output_type": "stream",
          "name": "stdout",
          "text": [
            "0    10\n",
            "1    20\n",
            "2    30\n",
            "3    40\n",
            "dtype: int64\n",
            "1    10\n",
            "2    20\n",
            "3    30\n",
            "4    40\n",
            "dtype: int64\n",
            "10\n"
          ]
        }
      ]
    },
    {
      "cell_type": "code",
      "source": [
        "# dataframe object\n",
        "import pandas as pd\n",
        "D = pd.DataFrame([['a',10],['b',20],['c',12],['d',13]],columns =['name','age'])\n",
        "print(D)"
      ],
      "metadata": {
        "colab": {
          "base_uri": "https://localhost:8080/"
        },
        "id": "izPGf7Q-M3al",
        "outputId": "7494485d-3ac3-46c8-83b5-e5f0d4d1bec1"
      },
      "execution_count": 69,
      "outputs": [
        {
          "output_type": "stream",
          "name": "stdout",
          "text": [
            "  name  age\n",
            "0    a   10\n",
            "1    b   20\n",
            "2    c   12\n",
            "3    d   13\n"
          ]
        }
      ]
    },
    {
      "cell_type": "code",
      "source": [
        "# we can also create dataframe from dictionary\n",
        "import pandas as pd\n",
        "D = pd.DataFrame([{'mmk':20,'sss':34}])\n",
        "print(D)"
      ],
      "metadata": {
        "colab": {
          "base_uri": "https://localhost:8080/"
        },
        "id": "OW4g4xlRO73w",
        "outputId": "741e51cc-8177-4dea-d376-723df0f2e9ea"
      },
      "execution_count": 74,
      "outputs": [
        {
          "output_type": "stream",
          "name": "stdout",
          "text": [
            "   mmk  sss\n",
            "0   20   34\n"
          ]
        }
      ]
    },
    {
      "cell_type": "code",
      "source": [
        "import pandas as pd\n",
        "D = {\"name\":['x','y','z'],'age':[10,20,30],'ratings':[4.3,5.3,6.3]}\n",
        "P = pd.DataFrame(D)\n",
        "print(P.describe())"
      ],
      "metadata": {
        "colab": {
          "base_uri": "https://localhost:8080/"
        },
        "id": "QNLzRD9ZQXsC",
        "outputId": "4529b9c0-e97f-4c09-b453-277a5b1af466"
      },
      "execution_count": 76,
      "outputs": [
        {
          "output_type": "stream",
          "name": "stdout",
          "text": [
            "        age  ratings\n",
            "count   3.0      3.0\n",
            "mean   20.0      5.3\n",
            "std    10.0      1.0\n",
            "min    10.0      4.3\n",
            "25%    15.0      4.8\n",
            "50%    20.0      5.3\n",
            "75%    25.0      5.8\n",
            "max    30.0      6.3\n"
          ]
        }
      ]
    }
  ]
}