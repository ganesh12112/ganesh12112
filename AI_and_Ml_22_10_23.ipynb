{
  "nbformat": 4,
  "nbformat_minor": 0,
  "metadata": {
    "colab": {
      "provenance": [],
      "authorship_tag": "ABX9TyO2i373gxuErAu9rXWhHRBk",
      "include_colab_link": true
    },
    "kernelspec": {
      "name": "python3",
      "display_name": "Python 3"
    },
    "language_info": {
      "name": "python"
    }
  },
  "cells": [
    {
      "cell_type": "markdown",
      "metadata": {
        "id": "view-in-github",
        "colab_type": "text"
      },
      "source": [
        "<a href=\"https://colab.research.google.com/github/ganesh12112/ganesh12112/blob/main/AI_and_Ml_22_10_23.ipynb\" target=\"_parent\"><img src=\"https://colab.research.google.com/assets/colab-badge.svg\" alt=\"Open In Colab\"/></a>"
      ]
    },
    {
      "cell_type": "code",
      "execution_count": 3,
      "metadata": {
        "colab": {
          "base_uri": "https://localhost:8080/"
        },
        "id": "oxzieA2AjKpc",
        "outputId": "bdea8439-d0cd-445b-cc51-47c82852cfda"
      },
      "outputs": [
        {
          "output_type": "stream",
          "name": "stdout",
          "text": [
            "0.016226214000000017\n"
          ]
        }
      ],
      "source": [
        "# Numpy\n",
        "# why Numpy ?  takes an object return c type array!\n",
        "import time\n",
        "\n",
        "li = [i for i in range(100000)]\n",
        "\n",
        "starttime =  time.process_time()\n",
        "\n",
        "li = [i*2 for i in li]\n",
        "\n",
        "endtime = time.process_time()\n",
        "\n",
        "print(endtime-starttime)"
      ]
    },
    {
      "cell_type": "code",
      "source": [
        "import numpy as np\n",
        "import time\n",
        "\n",
        "nparr = np.array([i for i in range(100000)])\n",
        "\n",
        "starttime =  time.process_time()\n",
        "\n",
        "#for i in range(1000000):\n",
        "  #nparr[i] = nparr[i] *2\n",
        "nparr *= 2 # performs *@ operation fo every ele in nparr\n",
        "endtime = time.process_time()\n",
        "\n",
        "print(endtime-starttime)"
      ],
      "metadata": {
        "colab": {
          "base_uri": "https://localhost:8080/"
        },
        "id": "vtqzx7zimASr",
        "outputId": "a7c81bc3-00f8-4345-f49c-536d24296141"
      },
      "execution_count": 7,
      "outputs": [
        {
          "output_type": "stream",
          "name": "stdout",
          "text": [
            "0.0006501910000000777\n"
          ]
        }
      ]
    },
    {
      "cell_type": "code",
      "source": [
        "def fun(firstname = 'Ganesh',lastname='chowdary'):\n",
        "    print(\"welcome\",firstname,lastname)\n",
        "\n",
        "fun(\"are\",\"gani\")"
      ],
      "metadata": {
        "colab": {
          "base_uri": "https://localhost:8080/"
        },
        "id": "Gmtmb88nm9Hv",
        "outputId": "0c93749f-217e-47e0-e632-3fa6ab95980c"
      },
      "execution_count": 6,
      "outputs": [
        {
          "output_type": "stream",
          "name": "stdout",
          "text": [
            "welcome are gani\n"
          ]
        }
      ]
    },
    {
      "cell_type": "code",
      "source": [
        "marklist = [60,79,88,95,57,84]\n",
        "markarray = np.array(marklist)\n",
        "print(type(marklist))\n",
        "print(type(markarray))"
      ],
      "metadata": {
        "colab": {
          "base_uri": "https://localhost:8080/"
        },
        "id": "NJY7zvQmp34i",
        "outputId": "1927e50a-522c-4dff-fca6-ffeb47a7ce5c"
      },
      "execution_count": 8,
      "outputs": [
        {
          "output_type": "stream",
          "name": "stdout",
          "text": [
            "<class 'list'>\n",
            "<class 'numpy.ndarray'>\n"
          ]
        }
      ]
    },
    {
      "cell_type": "code",
      "source": [
        "markarray = np.array(marklist,dtype=np.int8)\n",
        "print(markarray.dtype)"
      ],
      "metadata": {
        "colab": {
          "base_uri": "https://localhost:8080/"
        },
        "id": "oRpHzipvqV1V",
        "outputId": "cc20c037-133e-471f-d0f8-ea9a709d6363"
      },
      "execution_count": 9,
      "outputs": [
        {
          "output_type": "stream",
          "name": "stdout",
          "text": [
            "int8\n"
          ]
        }
      ]
    },
    {
      "cell_type": "code",
      "source": [
        "import numpy as np\n",
        "temp = np.array([16,8,10,3,16,12,9,6,7])\n",
        "print(temp)\n",
        "temp1 = temp.reshape(3,3)\n",
        "print(temp1.shape)\n",
        "print(temp1[0][1])"
      ],
      "metadata": {
        "colab": {
          "base_uri": "https://localhost:8080/"
        },
        "id": "UZhgEFH2reOP",
        "outputId": "be7ac144-ec4b-4aa4-9fd8-b823c73d5b0f"
      },
      "execution_count": 16,
      "outputs": [
        {
          "output_type": "stream",
          "name": "stdout",
          "text": [
            "[16  8 10  3 16 12  9  6  7]\n",
            "(3, 3)\n",
            "8\n"
          ]
        }
      ]
    },
    {
      "cell_type": "code",
      "source": [
        "temp2 = np.reshape(temp,(-1,1)) #-1 indicates rows will not change\n",
        "print(temp)\n",
        "print(temp.shape)"
      ],
      "metadata": {
        "colab": {
          "base_uri": "https://localhost:8080/"
        },
        "id": "9RMthkLeuEi-",
        "outputId": "06fe02c9-a64a-4cda-e242-2218af2e023a"
      },
      "execution_count": 18,
      "outputs": [
        {
          "output_type": "stream",
          "name": "stdout",
          "text": [
            "[16  8 10  3 16 12  9  6  7]\n",
            "(9,)\n"
          ]
        }
      ]
    },
    {
      "cell_type": "code",
      "source": [
        "li = [ i for i in range(1,26)]\n",
        "print(li)\n",
        "\n",
        "array = np.array([ i for i in range(1,26)])\n",
        "print(array.reshape(5,5))"
      ],
      "metadata": {
        "colab": {
          "base_uri": "https://localhost:8080/"
        },
        "id": "4THilL8zupYh",
        "outputId": "5a739348-9f87-47d9-9839-e57db5d8ea48"
      },
      "execution_count": 23,
      "outputs": [
        {
          "output_type": "stream",
          "name": "stdout",
          "text": [
            "[1, 2, 3, 4, 5, 6, 7, 8, 9, 10, 11, 12, 13, 14, 15, 16, 17, 18, 19, 20, 21, 22, 23, 24, 25]\n",
            "[[ 1  2  3  4  5]\n",
            " [ 6  7  8  9 10]\n",
            " [11 12 13 14 15]\n",
            " [16 17 18 19 20]\n",
            " [21 22 23 24 25]]\n"
          ]
        }
      ]
    },
    {
      "cell_type": "code",
      "source": [
        "array = array%2 == 0\n",
        "array\n",
        "print(array)\n",
        "for i in range(0,4):\n",
        "  for j in range(0,4):\n",
        "      if array[i][j] == True:\n",
        "          array[i] = \"Even\"\n",
        "      else:\n",
        "          array[i][j] = \"odd\""
      ],
      "metadata": {
        "colab": {
          "base_uri": "https://localhost:8080/",
          "height": 297
        },
        "id": "XKkVmoZjw0d3",
        "outputId": "f5adc7bc-a222-4d99-bcde-9ff98eaae737"
      },
      "execution_count": 38,
      "outputs": [
        {
          "output_type": "stream",
          "name": "stdout",
          "text": [
            "[ True False False False False False False False False False False False\n",
            " False False False False False False False False False False False False\n",
            " False]\n"
          ]
        },
        {
          "output_type": "error",
          "ename": "IndexError",
          "evalue": "ignored",
          "traceback": [
            "\u001b[0;31m---------------------------------------------------------------------------\u001b[0m",
            "\u001b[0;31mIndexError\u001b[0m                                Traceback (most recent call last)",
            "\u001b[0;32m<ipython-input-38-4da88ff7205d>\u001b[0m in \u001b[0;36m<cell line: 4>\u001b[0;34m()\u001b[0m\n\u001b[1;32m      4\u001b[0m \u001b[0;32mfor\u001b[0m \u001b[0mi\u001b[0m \u001b[0;32min\u001b[0m \u001b[0mrange\u001b[0m\u001b[0;34m(\u001b[0m\u001b[0;36m0\u001b[0m\u001b[0;34m,\u001b[0m\u001b[0;36m4\u001b[0m\u001b[0;34m)\u001b[0m\u001b[0;34m:\u001b[0m\u001b[0;34m\u001b[0m\u001b[0;34m\u001b[0m\u001b[0m\n\u001b[1;32m      5\u001b[0m   \u001b[0;32mfor\u001b[0m \u001b[0mj\u001b[0m \u001b[0;32min\u001b[0m \u001b[0mrange\u001b[0m\u001b[0;34m(\u001b[0m\u001b[0;36m0\u001b[0m\u001b[0;34m,\u001b[0m\u001b[0;36m4\u001b[0m\u001b[0;34m)\u001b[0m\u001b[0;34m:\u001b[0m\u001b[0;34m\u001b[0m\u001b[0;34m\u001b[0m\u001b[0m\n\u001b[0;32m----> 6\u001b[0;31m       \u001b[0;32mif\u001b[0m \u001b[0marray\u001b[0m\u001b[0;34m[\u001b[0m\u001b[0mi\u001b[0m\u001b[0;34m]\u001b[0m\u001b[0;34m[\u001b[0m\u001b[0mj\u001b[0m\u001b[0;34m]\u001b[0m \u001b[0;34m==\u001b[0m \u001b[0;32mTrue\u001b[0m\u001b[0;34m:\u001b[0m\u001b[0;34m\u001b[0m\u001b[0;34m\u001b[0m\u001b[0m\n\u001b[0m\u001b[1;32m      7\u001b[0m           \u001b[0marray\u001b[0m\u001b[0;34m[\u001b[0m\u001b[0mi\u001b[0m\u001b[0;34m]\u001b[0m \u001b[0;34m=\u001b[0m \u001b[0;34m\"Even\"\u001b[0m\u001b[0;34m\u001b[0m\u001b[0;34m\u001b[0m\u001b[0m\n\u001b[1;32m      8\u001b[0m       \u001b[0;32melse\u001b[0m\u001b[0;34m:\u001b[0m\u001b[0;34m\u001b[0m\u001b[0;34m\u001b[0m\u001b[0m\n",
            "\u001b[0;31mIndexError\u001b[0m: invalid index to scalar variable."
          ]
        }
      ]
    },
    {
      "cell_type": "code",
      "source": [
        "import numpy.random as rd\n",
        "rndobj = rd.default_rng(seed = 10) # seed - reference values\n",
        "rndobj.standard_normal(5)"
      ],
      "metadata": {
        "colab": {
          "base_uri": "https://localhost:8080/"
        },
        "id": "mDwbyooF0KNb",
        "outputId": "3dcfc312-f5ce-45b6-f973-8063889e53d7"
      },
      "execution_count": 45,
      "outputs": [
        {
          "output_type": "execute_result",
          "data": {
            "text/plain": [
              "array([-1.10333845, -0.72502464, -0.78180526,  0.26697586, -0.24858073])"
            ]
          },
          "metadata": {},
          "execution_count": 45
        }
      ]
    },
    {
      "cell_type": "code",
      "source": [
        "li = [ i for i in range (1,26)]\n",
        "matrix = np.array(li)\n",
        "print(matrix.reshape(5,5))"
      ],
      "metadata": {
        "colab": {
          "base_uri": "https://localhost:8080/"
        },
        "id": "K3pLzUNQ1ATq",
        "outputId": "3508dd6e-4785-4030-c1e8-aea8fabb41d8"
      },
      "execution_count": 42,
      "outputs": [
        {
          "output_type": "stream",
          "name": "stdout",
          "text": [
            "[[ 1  2  3  4  5]\n",
            " [ 6  7  8  9 10]\n",
            " [11 12 13 14 15]\n",
            " [16 17 18 19 20]\n",
            " [21 22 23 24 25]]\n"
          ]
        }
      ]
    },
    {
      "cell_type": "code",
      "source": [
        "# IQR = Q3-Q2\n",
        "# 1.5(IQR) + Q3\n",
        "# almost every data follows normal distribution curve any mean value and sd also any\n",
        "# standard normal curve - mean = 0 and standard deviation = 1\n",
        "# z score = x-mu/\n",
        "# poissons and binomial"
      ],
      "metadata": {
        "id": "tZaYSgDR43IZ"
      },
      "execution_count": null,
      "outputs": []
    },
    {
      "cell_type": "code",
      "source": [
        "# pandas\n",
        "# video games sales\n",
        "#panda - panel Data Tabular-XLS, XLSX ,RDBMS ,CSV\n",
        "# -read,wrangle,clean,replace,merge\n",
        "# what is data wrangling\n",
        "# datatypes - series and dataframe"
      ],
      "metadata": {
        "id": "fUQdEAK0_0wR"
      },
      "execution_count": null,
      "outputs": []
    },
    {
      "cell_type": "code",
      "source": [
        "series ="
      ],
      "metadata": {
        "id": "y5BDAVPzCCCE"
      },
      "execution_count": null,
      "outputs": []
    },
    {
      "cell_type": "code",
      "source": [
        "import pandas as pd\n",
        "temp = {'Date':['22-10-23','23-10-23'],\n",
        "        'MinTemp':[7,11],\n",
        "        'Maxtemp':[23,18]}\n",
        "\n",
        "temp_df = pd.DataFrame(temp)\n",
        "print(temp_df)\n",
        "\n",
        "print(temp_df['MinTemp'][0])"
      ],
      "metadata": {
        "colab": {
          "base_uri": "https://localhost:8080/"
        },
        "id": "NxMZddUsCnNW",
        "outputId": "a55abc25-caec-4362-9809-e87243d4411f"
      },
      "execution_count": 48,
      "outputs": [
        {
          "output_type": "stream",
          "name": "stdout",
          "text": [
            "       Date  MinTemp  Maxtemp\n",
            "0  22-10-23        7       23\n",
            "1  23-10-23       11       18\n",
            "7\n"
          ]
        }
      ]
    },
    {
      "cell_type": "code",
      "source": [
        "# load or read the file in pandas\n",
        "vsd = pd.read_excel('/content/vgsales.xlsx')"
      ],
      "metadata": {
        "id": "NCeiGRvzEfO6"
      },
      "execution_count": 53,
      "outputs": []
    },
    {
      "cell_type": "code",
      "source": [
        "print(vsd.shape)"
      ],
      "metadata": {
        "colab": {
          "base_uri": "https://localhost:8080/"
        },
        "id": "Yv5sM6nzFduE",
        "outputId": "d4669a19-fe33-44b8-ebdd-364706120154"
      },
      "execution_count": 54,
      "outputs": [
        {
          "output_type": "stream",
          "name": "stdout",
          "text": [
            "(16598, 11)\n"
          ]
        }
      ]
    },
    {
      "cell_type": "code",
      "source": [
        "vsd.show"
      ],
      "metadata": {
        "colab": {
          "base_uri": "https://localhost:8080/",
          "height": 297
        },
        "id": "_isACjK2Fwiy",
        "outputId": "c4396f62-4e7d-48b6-879d-bb4bba5d8f57"
      },
      "execution_count": 56,
      "outputs": [
        {
          "output_type": "error",
          "ename": "AttributeError",
          "evalue": "ignored",
          "traceback": [
            "\u001b[0;31m---------------------------------------------------------------------------\u001b[0m",
            "\u001b[0;31mAttributeError\u001b[0m                            Traceback (most recent call last)",
            "\u001b[0;32m<ipython-input-56-6337eff8d524>\u001b[0m in \u001b[0;36m<cell line: 1>\u001b[0;34m()\u001b[0m\n\u001b[0;32m----> 1\u001b[0;31m \u001b[0mvsd\u001b[0m\u001b[0;34m.\u001b[0m\u001b[0mshow\u001b[0m\u001b[0;34m\u001b[0m\u001b[0;34m\u001b[0m\u001b[0m\n\u001b[0m",
            "\u001b[0;32m/usr/local/lib/python3.10/dist-packages/pandas/core/generic.py\u001b[0m in \u001b[0;36m__getattr__\u001b[0;34m(self, name)\u001b[0m\n\u001b[1;32m   5900\u001b[0m         ):\n\u001b[1;32m   5901\u001b[0m             \u001b[0;32mreturn\u001b[0m \u001b[0mself\u001b[0m\u001b[0;34m[\u001b[0m\u001b[0mname\u001b[0m\u001b[0;34m]\u001b[0m\u001b[0;34m\u001b[0m\u001b[0;34m\u001b[0m\u001b[0m\n\u001b[0;32m-> 5902\u001b[0;31m         \u001b[0;32mreturn\u001b[0m \u001b[0mobject\u001b[0m\u001b[0;34m.\u001b[0m\u001b[0m__getattribute__\u001b[0m\u001b[0;34m(\u001b[0m\u001b[0mself\u001b[0m\u001b[0;34m,\u001b[0m \u001b[0mname\u001b[0m\u001b[0;34m)\u001b[0m\u001b[0;34m\u001b[0m\u001b[0;34m\u001b[0m\u001b[0m\n\u001b[0m\u001b[1;32m   5903\u001b[0m \u001b[0;34m\u001b[0m\u001b[0m\n\u001b[1;32m   5904\u001b[0m     \u001b[0;32mdef\u001b[0m \u001b[0m__setattr__\u001b[0m\u001b[0;34m(\u001b[0m\u001b[0mself\u001b[0m\u001b[0;34m,\u001b[0m \u001b[0mname\u001b[0m\u001b[0;34m:\u001b[0m \u001b[0mstr\u001b[0m\u001b[0;34m,\u001b[0m \u001b[0mvalue\u001b[0m\u001b[0;34m)\u001b[0m \u001b[0;34m->\u001b[0m \u001b[0;32mNone\u001b[0m\u001b[0;34m:\u001b[0m\u001b[0;34m\u001b[0m\u001b[0;34m\u001b[0m\u001b[0m\n",
            "\u001b[0;31mAttributeError\u001b[0m: 'DataFrame' object has no attribute 'show'"
          ]
        }
      ]
    }
  ]
}