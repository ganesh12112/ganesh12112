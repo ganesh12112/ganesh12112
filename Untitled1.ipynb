{
  "nbformat": 4,
  "nbformat_minor": 0,
  "metadata": {
    "colab": {
      "provenance": [],
      "authorship_tag": "ABX9TyOcqFWNBPZPJy2OFJEg4U38",
      "include_colab_link": true
    },
    "kernelspec": {
      "name": "python3",
      "display_name": "Python 3"
    },
    "language_info": {
      "name": "python"
    }
  },
  "cells": [
    {
      "cell_type": "markdown",
      "metadata": {
        "id": "view-in-github",
        "colab_type": "text"
      },
      "source": [
        "<a href=\"https://colab.research.google.com/github/ganesh12112/ganesh12112/blob/main/Untitled1.ipynb\" target=\"_parent\"><img src=\"https://colab.research.google.com/assets/colab-badge.svg\" alt=\"Open In Colab\"/></a>"
      ]
    },
    {
      "cell_type": "code",
      "execution_count": 3,
      "metadata": {
        "colab": {
          "base_uri": "https://localhost:8080/"
        },
        "id": "ypfAcUg-hlCv",
        "outputId": "293fe1a2-e8e0-449a-deac-bd5571749b92"
      },
      "outputs": [
        {
          "output_type": "stream",
          "name": "stdout",
          "text": [
            "12\n",
            "3.5\n",
            "this is google collab\n"
          ]
        }
      ],
      "source": [
        "#python variables\n",
        "x = 12\n",
        "y = 3.5\n",
        "z = \"this is google collab\"\n",
        "print(x)\n",
        "print(y)\n",
        "print(z)"
      ]
    },
    {
      "cell_type": "code",
      "source": [
        "# naming convention\n",
        "a1 = 1234\n",
        "_name = \"msd\"\n",
        "b2101 = 12.6"
      ],
      "metadata": {
        "id": "uByg4ZLRi2Kz"
      },
      "execution_count": null,
      "outputs": []
    },
    {
      "cell_type": "code",
      "source": [
        "#data types\n",
        "# numeric,string ,tuple,dictionary,series and dataframes\n",
        "a = 12 # integer data type\n",
        "b = 3.12 # float data type\n",
        "c = 3+4j # complex data type\n",
        "print(a,type(a))\n",
        "print(b,type(b))\n",
        "print(c,type(c))"
      ],
      "metadata": {
        "colab": {
          "base_uri": "https://localhost:8080/"
        },
        "id": "piPmB_6kjc8z",
        "outputId": "60638d0b-4917-4eaa-c721-f62bccfe66a8"
      },
      "execution_count": 4,
      "outputs": [
        {
          "output_type": "stream",
          "name": "stdout",
          "text": [
            "12 <class 'int'>\n",
            "3.12 <class 'float'>\n",
            "(3+4j) <class 'complex'>\n"
          ]
        }
      ]
    },
    {
      "cell_type": "code",
      "source": [
        "# string data type\n",
        "str = \"this is programming in google colllab\"\n",
        "print(str,type(str))\n",
        "print(str[1]) # how to print string in the vertical list\n",
        "print(len(str))"
      ],
      "metadata": {
        "colab": {
          "base_uri": "https://localhost:8080/"
        },
        "id": "3ChhoYvdkh9C",
        "outputId": "e899819d-44d8-48b4-826d-dc4468bdafa9"
      },
      "execution_count": 7,
      "outputs": [
        {
          "output_type": "stream",
          "name": "stdout",
          "text": [
            "this is programming in google colllab <class 'str'>\n",
            "h\n",
            "37\n"
          ]
        }
      ]
    },
    {
      "cell_type": "code",
      "source": [
        "# methods in string\n",
        "# concatenate the string\n",
        "str1 = \"ntr is one of the character in the RRR movie\"\n",
        "str2 = \"ram\"\n",
        "str3 = str1+str2\n",
        "print(str1+str2)\n",
        "print(str1*2)# repition of strings\n",
        "print(str1.find(\"nt\")) # checking for the sub string present in the string or not\n",
        "print(str1.count(\"nt\")) # counting the string  from entire string\n",
        "str4 = str1.split() # here it will seperate the large string in to words\n",
        "print(str4)\n",
        "# we have studied find ,count ,split,lower ,upper\n",
        "print(str1.upper()) # convert the all the string charaters  in to  upper case\n",
        "print(str1.lower()) # convert  the all the string characters in to lower case"
      ],
      "metadata": {
        "colab": {
          "base_uri": "https://localhost:8080/"
        },
        "id": "p5ujnzvbleKB",
        "outputId": "fe19b198-71ea-428a-e57c-dc2b36e856a7"
      },
      "execution_count": 16,
      "outputs": [
        {
          "output_type": "stream",
          "name": "stdout",
          "text": [
            "ntr is one of the character in the RRR movieram\n",
            "ntr is one of the character in the RRR movientr is one of the character in the RRR movie\n",
            "0\n",
            "1\n",
            "['ntr', 'is', 'one', 'of', 'the', 'character', 'in', 'the', 'RRR', 'movie']\n",
            "NTR IS ONE OF THE CHARACTER IN THE RRR MOVIE\n",
            "ntr is one of the character in the rrr movie\n"
          ]
        }
      ]
    },
    {
      "cell_type": "code",
      "source": [
        "# list data type\n",
        "# along with it we can also learn conditinal statements and loops\n",
        "list1 = [10,23,'a','b',123.4,'yummy'] # it can be defined as various type of items belongs to different data types are enclosed in square bracket seperated by comma\n",
        "print(len(list1))\n",
        "print(\"first item=\",list1[0])\n",
        "print(\"third item = \",list1[2])\n",
        "# using the for loop in list to prnit all values in a list\n",
        "for x in list1:\n",
        "  print(x)\n",
        "# another way of implementation loop in list by using range function range()\n",
        "for i in range(0,len(list1)):\n",
        "  print(list1[i])\n",
        "# list of all integers\n",
        "list2 = [12,34,62,75,89]\n",
        "print(len(list2))\n",
        "# for loop to print the all integer values in the list\n",
        "r = 0\n",
        "for i in range(0,len(list2)):\n",
        "     r = r+list2[i]\n",
        "print(\"sum =\",r)"
      ],
      "metadata": {
        "colab": {
          "base_uri": "https://localhost:8080/"
        },
        "id": "Gc2v5jJ-p5Uk",
        "outputId": "c69101a0-a8ca-4776-80a1-853b00a6fa57"
      },
      "execution_count": 30,
      "outputs": [
        {
          "output_type": "stream",
          "name": "stdout",
          "text": [
            "6\n",
            "first item= 10\n",
            "third item =  a\n",
            "10\n",
            "23\n",
            "a\n",
            "b\n",
            "123.4\n",
            "yummy\n",
            "10\n",
            "23\n",
            "a\n",
            "b\n",
            "123.4\n",
            "yummy\n",
            "5\n",
            "sum = 272\n"
          ]
        }
      ]
    },
    {
      "cell_type": "code",
      "source": [
        "#arithematic operators in python\n",
        "a = 11\n",
        "b = 20\n",
        "c = a+b\n",
        "d = a-b\n",
        "e = a*b\n",
        "f = a/b\n",
        "g = a%2\n",
        "h = a//2\n",
        "print(c,d,e,f,g,h)"
      ],
      "metadata": {
        "colab": {
          "base_uri": "https://localhost:8080/"
        },
        "id": "8S4WHlo4v89N",
        "outputId": "6c37fb04-47e0-49bb-9254-addad245b57b"
      },
      "execution_count": 31,
      "outputs": [
        {
          "output_type": "stream",
          "name": "stdout",
          "text": [
            "31 -9 220 0.55 1 5\n"
          ]
        }
      ]
    },
    {
      "cell_type": "code",
      "source": [
        "# assigment number 1\n",
        "# take numbers = 1,20 print even and odd\n",
        "list1 = range(1,20)\n",
        "print(list1[8])\n",
        "\n",
        "for i in range(1,20)\n",
        "     if (i%2 == 0):\n",
        "        print(\"even number\"=,i) # even numbers\n",
        "     else:\n",
        "        print(\"odd number=\",i)\n",
        "# assignment number 2\n",
        "# take numbers = 1,20 print the sum even and odd"
      ],
      "metadata": {
        "id": "cfS6qeXh2w6b"
      },
      "execution_count": null,
      "outputs": []
    }
  ]
}