{
  "nbformat": 4,
  "nbformat_minor": 0,
  "metadata": {
    "colab": {
      "provenance": [],
      "authorship_tag": "ABX9TyO7aZqgSJchaDlzwHjFhiaj",
      "include_colab_link": true
    },
    "kernelspec": {
      "name": "python3",
      "display_name": "Python 3"
    },
    "language_info": {
      "name": "python"
    }
  },
  "cells": [
    {
      "cell_type": "markdown",
      "metadata": {
        "id": "view-in-github",
        "colab_type": "text"
      },
      "source": [
        "<a href=\"https://colab.research.google.com/github/ganesh12112/ganesh12112/blob/main/AI_and_ML_ASSIGNMENTS(PANDAS)ipynb.ipynb\" target=\"_parent\"><img src=\"https://colab.research.google.com/assets/colab-badge.svg\" alt=\"Open In Colab\"/></a>"
      ]
    },
    {
      "cell_type": "code",
      "execution_count": 3,
      "metadata": {
        "id": "aPzxx0BrbRQl",
        "colab": {
          "base_uri": "https://localhost:8080/"
        },
        "outputId": "401cd9a2-ab4d-4e69-ef3c-6c8bb36223ed"
      },
      "outputs": [
        {
          "output_type": "stream",
          "name": "stdout",
          "text": [
            "             Tag  number\n",
            "0           Geek      25\n",
            "1             is      30\n",
            "2            for      26\n",
            "3  Geeksforgeeks      22\n"
          ]
        }
      ],
      "source": [
        "# create pandas datframe with two dimensional list(python)\n",
        "import pandas as pd\n",
        "\n",
        "# list1\n",
        "lst =[['Geek',25],['is',30],\n",
        "      ['for',26],['Geeksforgeeks',22]]\n",
        "\n",
        "# creation df object with columns specified\n",
        "df = pd.DataFrame(lst,columns = ['Tag','number'])\n",
        "print(df)"
      ]
    },
    {
      "cell_type": "code",
      "source": [
        "# example 2\n",
        "import pandas as pd\n",
        "#list\n",
        "lst = [['tom','reacher',25],['krish','pete',30],\n",
        "       ['nick','wilson',26],['john','williams',22]]\n",
        "\n",
        "df = pd.DataFrame(lst,columns =['FName','LName','Age'],\n",
        "                                        dtype = float)\n",
        "\n",
        "print(df)"
      ],
      "metadata": {
        "colab": {
          "base_uri": "https://localhost:8080/"
        },
        "id": "JdHu6qm_ASrD",
        "outputId": "cf5dc0d9-83c4-480d-8938-217a30e060df"
      },
      "execution_count": 9,
      "outputs": [
        {
          "output_type": "stream",
          "name": "stdout",
          "text": [
            "   FName     LName   Age\n",
            "0    tom   reacher  25.0\n",
            "1  krish      pete  30.0\n",
            "2   nick    wilson  26.0\n",
            "3   john  williams  22.0\n"
          ]
        },
        {
          "output_type": "stream",
          "name": "stderr",
          "text": [
            "<ipython-input-9-c8f08df269a5>:7: FutureWarning: Could not cast to float64, falling back to object. This behavior is deprecated. In a future version, when a dtype is passed to 'DataFrame', either all columns will be cast to that dtype, or a TypeError will be raised.\n",
            "  df = pd.DataFrame(lst,columns =['FName','LName','Age'],\n"
          ]
        }
      ]
    },
    {
      "cell_type": "code",
      "source": [
        "# creating Dataframe from dict of narray/lists\n",
        "# what is the meaning of ndarray(or lists)? are they same?\n",
        "#example 1 : we will use pd.DataFrame() function to create the dataframe from the list\n",
        "import pandas as pd\n",
        "\n",
        "# intialise data of lists\n",
        "data = {'category':['Array','Stack','queue'],\n",
        "        'Marks':[20,21,19]}\n",
        "\n",
        "# create DataFrame\n",
        "df = pd.DataFrame(data)\n",
        "\n",
        "print(df)\n"
      ],
      "metadata": {
        "colab": {
          "base_uri": "https://localhost:8080/"
        },
        "id": "gltZ5734CFxf",
        "outputId": "300d4088-edb2-4787-87d0-18e96432c136"
      },
      "execution_count": 10,
      "outputs": [
        {
          "output_type": "stream",
          "name": "stdout",
          "text": [
            "  category  Marks\n",
            "0    Array     20\n",
            "1    Stack     21\n",
            "2    queue     19\n"
          ]
        }
      ]
    },
    {
      "cell_type": "code",
      "source": [
        "# example 2\n",
        "import pandas as pd\n",
        "\n",
        "data = {'category':['Array','Stack','Queue'],\n",
        "        'Student_1':[20,21,19],'Student_2':[15,20,14]}\n",
        "\n",
        "df = pd.DataFrame(data)\n",
        "\n",
        "print(df.transpose())"
      ],
      "metadata": {
        "colab": {
          "base_uri": "https://localhost:8080/"
        },
        "id": "hpzGiSuQD6Jk",
        "outputId": "93169feb-6130-4d9f-f213-2022c4ad24ca"
      },
      "execution_count": 13,
      "outputs": [
        {
          "output_type": "stream",
          "name": "stdout",
          "text": [
            "               0      1      2\n",
            "category   Array  Stack  Queue\n",
            "Student_1     20     21     19\n",
            "Student_2     15     20     14\n"
          ]
        }
      ]
    },
    {
      "cell_type": "code",
      "source": [
        "# using Pandas DataFrame with the index parameter\n",
        "# example 1:providing index list to dataframe\n",
        "import pandas as pd\n",
        "\n",
        "data = {'Area':['Array','stack','Queue'],\n",
        "        'Student_1':[20,21,19],'Student_2':[15,20,14]}\n",
        "\n",
        "df = pd.DataFrame(data,index =['cat_1','cat_2','cat_3'])\n",
        "\n",
        "print(df)"
      ],
      "metadata": {
        "colab": {
          "base_uri": "https://localhost:8080/"
        },
        "id": "Q5u7xNHsFGyK",
        "outputId": "f4590a0e-45eb-43f9-f8e3-471cc30bc5ea"
      },
      "execution_count": 14,
      "outputs": [
        {
          "output_type": "stream",
          "name": "stdout",
          "text": [
            "        Area  Student_1  Student_2\n",
            "cat_1  Array         20         15\n",
            "cat_2  stack         21         20\n",
            "cat_3  Queue         19         14\n"
          ]
        }
      ]
    },
    {
      "cell_type": "code",
      "source": [
        "# Creating Pandas datframe using list of lists\n",
        "# example 1\n",
        "import pandas as pd\n",
        "\n",
        "data = [['geeks',10],['for',15],['Geeks',20]]\n",
        "\n",
        "df = pd.DataFrame(data,columns = ['Name','Age'])\n",
        "\n",
        "print(df)"
      ],
      "metadata": {
        "colab": {
          "base_uri": "https://localhost:8080/"
        },
        "id": "LU60HUGeGk8p",
        "outputId": "176cba5c-bbba-4452-f10e-eba89fa8494f"
      },
      "execution_count": 18,
      "outputs": [
        {
          "output_type": "stream",
          "name": "stdout",
          "text": [
            "    Name  Age\n",
            "0  geeks   10\n",
            "1    for   15\n",
            "2  Geeks   20\n"
          ]
        }
      ]
    },
    {
      "cell_type": "code",
      "source": [
        "# example 2\n",
        "import pandas as pd\n",
        "\n",
        "data = [['Ds','Linked_list',10],['DS','Stack',9],['DS','Queue',7],\n",
        "        ['Algo','Greedy',8],['Algo','DP',6],['Algo','BackTrack',5]]\n",
        "\n",
        "df = pd.DataFrame(data,columns = ['Category','Name','Marks'])\n",
        "\n",
        "print(df)"
      ],
      "metadata": {
        "colab": {
          "base_uri": "https://localhost:8080/"
        },
        "id": "ARHTjvqcH4om",
        "outputId": "18ac44af-1d4e-4f95-8ca6-4f5e6feb9cad"
      },
      "execution_count": 19,
      "outputs": [
        {
          "output_type": "stream",
          "name": "stdout",
          "text": [
            "  Category         Name  Marks\n",
            "0       Ds  Linked_list     10\n",
            "1       DS        Stack      9\n",
            "2       DS        Queue      7\n",
            "3     Algo       Greedy      8\n",
            "4     Algo           DP      6\n",
            "5     Algo    BackTrack      5\n"
          ]
        }
      ]
    },
    {
      "cell_type": "code",
      "source": [
        "# Defining column names using DataFrame.columns() function\n",
        "import pandas as pd\n",
        "\n",
        "data = [[1,5,10],[2,6,9],[3,7,8]]\n",
        "# create the pandas Dataframe\n",
        "df = pd.DataFrame(data)\n",
        "\n",
        "# specifying coulmn names\n",
        "df.coulmns = ['col_1','col_2','col_3']\n",
        "\n",
        "# print dataframe\n",
        "print(df,\"\\n\")\n",
        "\n",
        "df = df.transpose()\n",
        "print(\"Transpose of above datframe is-\\n\",df)"
      ],
      "metadata": {
        "colab": {
          "base_uri": "https://localhost:8080/"
        },
        "id": "pYLmGEHjJTH0",
        "outputId": "60c2a228-f8bb-433c-ce45-b5ce310203f2"
      },
      "execution_count": 1,
      "outputs": [
        {
          "output_type": "stream",
          "name": "stdout",
          "text": [
            "   0  1   2\n",
            "0  1  5  10\n",
            "1  2  6   9\n",
            "2  3  7   8 \n",
            "\n",
            "Transpose of above datframe is-\n",
            "     0  1  2\n",
            "0   1  2  3\n",
            "1   5  6  7\n",
            "2  10  9  8\n"
          ]
        },
        {
          "output_type": "stream",
          "name": "stderr",
          "text": [
            "<ipython-input-1-e9f36337a05f>:9: UserWarning: Pandas doesn't allow columns to be created via a new attribute name - see https://pandas.pydata.org/pandas-docs/stable/indexing.html#attribute-access\n",
            "  df.coulmns = ['col_1','col_2','col_3']\n"
          ]
        }
      ]
    },
    {
      "cell_type": "code",
      "source": [
        "# Creating the Pandas DataFrame using the list of tuples\n",
        "# example 1:we will pass to the dataframe constructor which will return a pandas dataframe\n",
        "import pandas as pd\n",
        "\n",
        "# data in the the form of list of tuples\n",
        "data = [('peter',18,7),\n",
        "      ('ganesh',34,8),\n",
        "      ('are',45,4),\n",
        "      ('raghu',23,6),\n",
        "      ('shreya',20,3)]\n",
        "\n",
        "# create dataframe using data\n",
        "df = pd.DataFrame(data,columns = ['Name','Age','Score'])\n",
        "\n",
        "print(df)"
      ],
      "metadata": {
        "colab": {
          "base_uri": "https://localhost:8080/"
        },
        "id": "WhvvjRqvZiR5",
        "outputId": "513288e0-06fe-4482-a7c9-e009d7595e6e"
      },
      "execution_count": 5,
      "outputs": [
        {
          "output_type": "stream",
          "name": "stdout",
          "text": [
            "     Name  Age  Score\n",
            "0   peter   18      7\n",
            "1  ganesh   34      8\n",
            "2     are   45      4\n",
            "3   raghu   23      6\n",
            "4  shreya   20      3\n"
          ]
        }
      ]
    },
    {
      "cell_type": "code",
      "source": [
        "# using from_records() method\n",
        "# example 2 :df.from_records()\n",
        "\n",
        "import pandas as pd\n",
        "data = [('peter',18,7),\n",
        "      ('ganesh',34,8),\n",
        "      ('are',45,4),\n",
        "      ('raghu',23,6),\n",
        "      ('shreya',20,3)]\n",
        "\n",
        "df = pd.DataFrame.from_records(data,columns =['Team','Age','Score'])\n",
        "\n",
        "print(df)"
      ],
      "metadata": {
        "colab": {
          "base_uri": "https://localhost:8080/"
        },
        "id": "_qdb7LyqcM43",
        "outputId": "b20362f3-9276-48f6-ae45-22ab4e327392"
      },
      "execution_count": 6,
      "outputs": [
        {
          "output_type": "stream",
          "name": "stdout",
          "text": [
            "     Team  Age  Score\n",
            "0   peter   18      7\n",
            "1  ganesh   34      8\n",
            "2     are   45      4\n",
            "3   raghu   23      6\n",
            "4  shreya   20      3\n"
          ]
        }
      ]
    },
    {
      "cell_type": "code",
      "source": [
        "# using df.pivot() function\n",
        "\n",
        "import pandas as pd\n",
        "data = [('peter',18,7),\n",
        "      ('ganesh',34,8),\n",
        "      ('are',45,4),\n",
        "      ('raghu',23,6),\n",
        "      ('shreya',20,3)]\n",
        "\n",
        "df = pd.DataFrame.from_records(data,columns =['Team','Age','Score'])\n",
        "\n",
        "a = df.pivot('Team','Score','Age')\n",
        "\n",
        "print(a)"
      ],
      "metadata": {
        "colab": {
          "base_uri": "https://localhost:8080/"
        },
        "id": "IAVVSfRddEep",
        "outputId": "bb51248c-6edf-4409-f868-d27ec0900a8a"
      },
      "execution_count": 7,
      "outputs": [
        {
          "output_type": "stream",
          "name": "stdout",
          "text": [
            "Score      3     4     6     7     8\n",
            "Team                                \n",
            "are      NaN  45.0   NaN   NaN   NaN\n",
            "ganesh   NaN   NaN   NaN   NaN  34.0\n",
            "peter    NaN   NaN   NaN  18.0   NaN\n",
            "raghu    NaN   NaN  23.0   NaN   NaN\n",
            "shreya  20.0   NaN   NaN   NaN   NaN\n"
          ]
        },
        {
          "output_type": "stream",
          "name": "stderr",
          "text": [
            "<ipython-input-7-26b53fb5e96d>:12: FutureWarning: In a future version of pandas all arguments of DataFrame.pivot will be keyword-only.\n",
            "  a = df.pivot('Team','Score','Age')\n"
          ]
        }
      ]
    },
    {
      "cell_type": "code",
      "source": [
        "# create pandas dataframe from Lists of Dicts\n",
        "# Method 1:Convert a list of dictionaries to a pandas Dataframe using from_records()\n",
        "# from_records() it converts a structured ndarrray,tuple or dictsequence,or Dataframe in to Dataframe object\n",
        "import pandas as pd\n",
        "data = [{'ganesh':'dataframe','is':'using','workalcoholic':'list'},\n",
        "        {'ganesh':20,'is':10,'workalcoholic':30}]\n",
        "\n",
        "df = pd.DataFrame.from_records(data,index=['1','2'])\n",
        "print(df)"
      ],
      "metadata": {
        "colab": {
          "base_uri": "https://localhost:8080/"
        },
        "id": "K9wLpps7dvQR",
        "outputId": "d6ac3b66-97dc-43ed-e542-6bbb19567881"
      },
      "execution_count": 8,
      "outputs": [
        {
          "output_type": "stream",
          "name": "stdout",
          "text": [
            "      ganesh     is workalcoholic\n",
            "1  dataframe  using          list\n",
            "2         20     10            30\n"
          ]
        }
      ]
    },
    {
      "cell_type": "code",
      "source": [
        "# Method 2:Convert a list of dictionaries to a pandas DataFrame using pd.DataFrame.from_dict()\n",
        "import pandas as pd\n",
        "data = [{'ganesh':'dataframe','is':'using','workalcoholic':'list'},\n",
        "        {'ganesh':20,'is':10,'workalcoholic':30}]\n",
        "\n",
        "df = pd.DataFrame.from_dict(data)\n",
        "print(df)"
      ],
      "metadata": {
        "colab": {
          "base_uri": "https://localhost:8080/"
        },
        "id": "OdUAVlnagR1Q",
        "outputId": "cd95c25a-ff32-4f06-d5dc-46ccaca348a9"
      },
      "execution_count": 9,
      "outputs": [
        {
          "output_type": "stream",
          "name": "stdout",
          "text": [
            "      ganesh     is workalcoholic\n",
            "0  dataframe  using          list\n",
            "1         20     10            30\n"
          ]
        }
      ]
    },
    {
      "cell_type": "code",
      "source": [
        "# Method 3:  Converts a list of dictionaries to pandas DataFrame using pd.json_normalize\n",
        "# json_normalize()\n",
        "import pandas as pd\n",
        "data = [{'ganesh':'dataframe','is':'using','workalcoholic':'list'},\n",
        "        {'ganesh':20,'is':10,'workalcoholic':30}]\n",
        "\n",
        "df = pd.json_normalize(data)\n",
        "print(df)"
      ],
      "metadata": {
        "colab": {
          "base_uri": "https://localhost:8080/"
        },
        "id": "mxwWE1Aui-MQ",
        "outputId": "5470f46f-fca4-4df7-814d-69fa1e635ce1"
      },
      "execution_count": 10,
      "outputs": [
        {
          "output_type": "stream",
          "name": "stdout",
          "text": [
            "      ganesh     is workalcoholic\n",
            "0  dataframe  using          list\n",
            "1         20     10            30\n"
          ]
        }
      ]
    },
    {
      "cell_type": "code",
      "source": [
        "# method 4: pd.DataFrame()"
      ],
      "metadata": {
        "id": "B0_WithTjmH4"
      },
      "execution_count": null,
      "outputs": []
    },
    {
      "cell_type": "code",
      "source": [
        "# example2:\n",
        "# creating a dataframe by explicitly providing user defined values for both index and columns\n",
        "import pandas as pd\n",
        "\n",
        "data = [{'ganesh':'dataframe','is':'using','workalcoholic':'list'},\n",
        "        {'ganesh':20,'is':10,'workalcoholic':30}]\n",
        "#with two column indices ,values same\n",
        "# as Dictionary keys\n",
        "df1 = pd.DataFrame(data,index = ['ind1','ind2'],\n",
        "                       columns = ['ganesh','is'])\n",
        "\n",
        "# with two column indices with\n",
        "# one index with other name\n",
        "df2 = pd.DataFrame(data,index=['index','indy'])\n",
        "\n",
        "print(df1,\"\\n\")\n",
        "\n",
        "print(df2)\n",
        "\n",
        "\n"
      ],
      "metadata": {
        "colab": {
          "base_uri": "https://localhost:8080/"
        },
        "id": "bL3NAVAQkBJn",
        "outputId": "91e2ad16-8277-4f28-feca-cb0bc98bde09"
      },
      "execution_count": 12,
      "outputs": [
        {
          "output_type": "stream",
          "name": "stdout",
          "text": [
            "         ganesh     is\n",
            "ind1  dataframe  using\n",
            "ind2         20     10 \n",
            "\n",
            "          ganesh     is workalcoholic\n",
            "index  dataframe  using          list\n",
            "indy          20     10            30\n"
          ]
        }
      ]
    },
    {
      "cell_type": "code",
      "source": [
        "# convert a list of nested dictionary in to Pandas DataFrame\n",
        "# step1 :creating a list of nested dictionary\n",
        "import pandas as pd\n",
        "\n",
        "# list of nested dictinary intialization\n",
        "list = [{\"student\":[{\"exam\":90,\"Grade\":\"a\"},\n",
        "                    {\"exam\":90,\"Grade\":\"a\"},\n",
        "                    {\"exam\":90,\"Grade\":\"a\"},\n",
        "                  ],\n",
        "         \"Name\":\"paras Jain\"\n",
        "         },\n",
        "        {\"student\":[{\"exam\":89,\"Grade\":\"a\"},\n",
        "                    {\"exam\":89,\"Grade\":\"a\"}\n",
        "                    ],\n",
        "         \"Name\":\"chunky pandey\"\n",
        "         }\n",
        "     ]\n",
        "\n",
        "print(list)"
      ],
      "metadata": {
        "colab": {
          "base_uri": "https://localhost:8080/"
        },
        "id": "lLfPuoUgmakI",
        "outputId": "a51e6c2c-091a-4244-a808-12ee75ab0039"
      },
      "execution_count": 13,
      "outputs": [
        {
          "output_type": "stream",
          "name": "stdout",
          "text": [
            "[{'student': [{'exam': 90, 'Grade': 'a'}, {'exam': 90, 'Grade': 'a'}, {'exam': 90, 'Grade': 'a'}], 'Name': 'paras Jain'}, {'student': [{'exam': 89, 'Grade': 'a'}, {'exam': 89, 'Grade': 'a'}], 'Name': 'chunky pandey'}]\n"
          ]
        }
      ]
    },
    {
      "cell_type": "markdown",
      "source": [],
      "metadata": {
        "id": "WmCh0TKRc_FZ"
      }
    },
    {
      "cell_type": "code",
      "source": [],
      "metadata": {
        "id": "6gCj2UVhpRjP"
      },
      "execution_count": null,
      "outputs": []
    }
  ]
}