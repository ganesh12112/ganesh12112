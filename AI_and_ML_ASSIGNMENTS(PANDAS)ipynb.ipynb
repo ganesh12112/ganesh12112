{
  "nbformat": 4,
  "nbformat_minor": 0,
  "metadata": {
    "colab": {
      "provenance": [],
      "authorship_tag": "ABX9TyOE9m65pe7QrJ7SHdVRD+YS",
      "include_colab_link": true
    },
    "kernelspec": {
      "name": "python3",
      "display_name": "Python 3"
    },
    "language_info": {
      "name": "python"
    }
  },
  "cells": [
    {
      "cell_type": "markdown",
      "metadata": {
        "id": "view-in-github",
        "colab_type": "text"
      },
      "source": [
        "<a href=\"https://colab.research.google.com/github/ganesh12112/ganesh12112/blob/main/AI_and_ML_ASSIGNMENTS(PANDAS)ipynb.ipynb\" target=\"_parent\"><img src=\"https://colab.research.google.com/assets/colab-badge.svg\" alt=\"Open In Colab\"/></a>"
      ]
    },
    {
      "cell_type": "code",
      "execution_count": null,
      "metadata": {
        "id": "aPzxx0BrbRQl",
        "colab": {
          "base_uri": "https://localhost:8080/"
        },
        "outputId": "401cd9a2-ab4d-4e69-ef3c-6c8bb36223ed"
      },
      "outputs": [
        {
          "output_type": "stream",
          "name": "stdout",
          "text": [
            "             Tag  number\n",
            "0           Geek      25\n",
            "1             is      30\n",
            "2            for      26\n",
            "3  Geeksforgeeks      22\n"
          ]
        }
      ],
      "source": [
        "# create pandas datframe with two dimensional list(python)\n",
        "import pandas as pd\n",
        "\n",
        "# list1\n",
        "lst =[['Geek',25],['is',30],\n",
        "      ['for',26],['Geeksforgeeks',22]]\n",
        "\n",
        "# creation df object with columns specified\n",
        "df = pd.DataFrame(lst,columns = ['Tag','number'])\n",
        "print(df)"
      ]
    },
    {
      "cell_type": "code",
      "source": [
        "# example 2\n",
        "import pandas as pd\n",
        "#list\n",
        "lst = [['tom','reacher',25],['krish','pete',30],\n",
        "       ['nick','wilson',26],['john','williams',22]]\n",
        "\n",
        "df = pd.DataFrame(lst,columns =['FName','LName','Age'],\n",
        "                                        dtype = float)\n",
        "\n",
        "print(df)"
      ],
      "metadata": {
        "colab": {
          "base_uri": "https://localhost:8080/"
        },
        "id": "JdHu6qm_ASrD",
        "outputId": "cf5dc0d9-83c4-480d-8938-217a30e060df"
      },
      "execution_count": null,
      "outputs": [
        {
          "output_type": "stream",
          "name": "stdout",
          "text": [
            "   FName     LName   Age\n",
            "0    tom   reacher  25.0\n",
            "1  krish      pete  30.0\n",
            "2   nick    wilson  26.0\n",
            "3   john  williams  22.0\n"
          ]
        },
        {
          "output_type": "stream",
          "name": "stderr",
          "text": [
            "<ipython-input-9-c8f08df269a5>:7: FutureWarning: Could not cast to float64, falling back to object. This behavior is deprecated. In a future version, when a dtype is passed to 'DataFrame', either all columns will be cast to that dtype, or a TypeError will be raised.\n",
            "  df = pd.DataFrame(lst,columns =['FName','LName','Age'],\n"
          ]
        }
      ]
    },
    {
      "cell_type": "code",
      "source": [
        "# creating Dataframe from dict of narray/lists\n",
        "# what is the meaning of ndarray(or lists)? are they same?\n",
        "#example 1 : we will use pd.DataFrame() function to create the dataframe from the list\n",
        "import pandas as pd\n",
        "\n",
        "# intialise data of lists\n",
        "data = {'category':['Array','Stack','queue'],\n",
        "        'Marks':[20,21,19]}\n",
        "\n",
        "# create DataFrame\n",
        "df = pd.DataFrame(data)\n",
        "\n",
        "print(df)\n"
      ],
      "metadata": {
        "colab": {
          "base_uri": "https://localhost:8080/"
        },
        "id": "gltZ5734CFxf",
        "outputId": "300d4088-edb2-4787-87d0-18e96432c136"
      },
      "execution_count": null,
      "outputs": [
        {
          "output_type": "stream",
          "name": "stdout",
          "text": [
            "  category  Marks\n",
            "0    Array     20\n",
            "1    Stack     21\n",
            "2    queue     19\n"
          ]
        }
      ]
    },
    {
      "cell_type": "code",
      "source": [
        "# example 2\n",
        "import pandas as pd\n",
        "\n",
        "data = {'category':['Array','Stack','Queue'],\n",
        "        'Student_1':[20,21,19],'Student_2':[15,20,14]}\n",
        "\n",
        "df = pd.DataFrame(data)\n",
        "\n",
        "print(df.transpose())"
      ],
      "metadata": {
        "colab": {
          "base_uri": "https://localhost:8080/"
        },
        "id": "hpzGiSuQD6Jk",
        "outputId": "93169feb-6130-4d9f-f213-2022c4ad24ca"
      },
      "execution_count": null,
      "outputs": [
        {
          "output_type": "stream",
          "name": "stdout",
          "text": [
            "               0      1      2\n",
            "category   Array  Stack  Queue\n",
            "Student_1     20     21     19\n",
            "Student_2     15     20     14\n"
          ]
        }
      ]
    },
    {
      "cell_type": "code",
      "source": [
        "# using Pandas DataFrame with the index parameter\n",
        "# example 1:providing index list to dataframe\n",
        "import pandas as pd\n",
        "\n",
        "data = {'Area':['Array','stack','Queue'],\n",
        "        'Student_1':[20,21,19],'Student_2':[15,20,14]}\n",
        "\n",
        "df = pd.DataFrame(data,index =['cat_1','cat_2','cat_3'])\n",
        "\n",
        "print(df)"
      ],
      "metadata": {
        "colab": {
          "base_uri": "https://localhost:8080/"
        },
        "id": "Q5u7xNHsFGyK",
        "outputId": "f4590a0e-45eb-43f9-f8e3-471cc30bc5ea"
      },
      "execution_count": null,
      "outputs": [
        {
          "output_type": "stream",
          "name": "stdout",
          "text": [
            "        Area  Student_1  Student_2\n",
            "cat_1  Array         20         15\n",
            "cat_2  stack         21         20\n",
            "cat_3  Queue         19         14\n"
          ]
        }
      ]
    },
    {
      "cell_type": "code",
      "source": [
        "# Creating Pandas datframe using list of lists\n",
        "# example 1\n",
        "import pandas as pd\n",
        "\n",
        "data = [['geeks',10],['for',15],['Geeks',20]]\n",
        "\n",
        "df = pd.DataFrame(data,columns = ['Name','Age'])\n",
        "\n",
        "print(df)"
      ],
      "metadata": {
        "colab": {
          "base_uri": "https://localhost:8080/"
        },
        "id": "LU60HUGeGk8p",
        "outputId": "176cba5c-bbba-4452-f10e-eba89fa8494f"
      },
      "execution_count": null,
      "outputs": [
        {
          "output_type": "stream",
          "name": "stdout",
          "text": [
            "    Name  Age\n",
            "0  geeks   10\n",
            "1    for   15\n",
            "2  Geeks   20\n"
          ]
        }
      ]
    },
    {
      "cell_type": "code",
      "source": [
        "# example 2\n",
        "import pandas as pd\n",
        "\n",
        "data = [['Ds','Linked_list',10],['DS','Stack',9],['DS','Queue',7],\n",
        "        ['Algo','Greedy',8],['Algo','DP',6],['Algo','BackTrack',5]]\n",
        "\n",
        "df = pd.DataFrame(data,columns = ['Category','Name','Marks'])\n",
        "\n",
        "print(df)"
      ],
      "metadata": {
        "colab": {
          "base_uri": "https://localhost:8080/"
        },
        "id": "ARHTjvqcH4om",
        "outputId": "18ac44af-1d4e-4f95-8ca6-4f5e6feb9cad"
      },
      "execution_count": null,
      "outputs": [
        {
          "output_type": "stream",
          "name": "stdout",
          "text": [
            "  Category         Name  Marks\n",
            "0       Ds  Linked_list     10\n",
            "1       DS        Stack      9\n",
            "2       DS        Queue      7\n",
            "3     Algo       Greedy      8\n",
            "4     Algo           DP      6\n",
            "5     Algo    BackTrack      5\n"
          ]
        }
      ]
    },
    {
      "cell_type": "code",
      "source": [
        "# Defining column names using DataFrame.columns() function\n",
        "import pandas as pd\n",
        "\n",
        "data = [[1,5,10],[2,6,9],[3,7,8]]\n",
        "# create the pandas Dataframe\n",
        "df = pd.DataFrame(data)\n",
        "\n",
        "# specifying coulmn names\n",
        "df.coulmns = ['col_1','col_2','col_3']\n",
        "\n",
        "# print dataframe\n",
        "print(df,\"\\n\")\n",
        "\n",
        "df = df.transpose()\n",
        "print(\"Transpose of above datframe is-\\n\",df)"
      ],
      "metadata": {
        "colab": {
          "base_uri": "https://localhost:8080/"
        },
        "id": "pYLmGEHjJTH0",
        "outputId": "60c2a228-f8bb-433c-ce45-b5ce310203f2"
      },
      "execution_count": null,
      "outputs": [
        {
          "output_type": "stream",
          "name": "stdout",
          "text": [
            "   0  1   2\n",
            "0  1  5  10\n",
            "1  2  6   9\n",
            "2  3  7   8 \n",
            "\n",
            "Transpose of above datframe is-\n",
            "     0  1  2\n",
            "0   1  2  3\n",
            "1   5  6  7\n",
            "2  10  9  8\n"
          ]
        },
        {
          "output_type": "stream",
          "name": "stderr",
          "text": [
            "<ipython-input-1-e9f36337a05f>:9: UserWarning: Pandas doesn't allow columns to be created via a new attribute name - see https://pandas.pydata.org/pandas-docs/stable/indexing.html#attribute-access\n",
            "  df.coulmns = ['col_1','col_2','col_3']\n"
          ]
        }
      ]
    },
    {
      "cell_type": "code",
      "source": [
        "# Creating the Pandas DataFrame using the list of tuples\n",
        "# example 1:we will pass to the dataframe constructor which will return a pandas dataframe\n",
        "import pandas as pd\n",
        "\n",
        "# data in the the form of list of tuples\n",
        "data = [('peter',18,7),\n",
        "      ('ganesh',34,8),\n",
        "      ('are',45,4),\n",
        "      ('raghu',23,6),\n",
        "      ('shreya',20,3)]\n",
        "\n",
        "# create dataframe using data\n",
        "df = pd.DataFrame(data,columns = ['Name','Age','Score'])\n",
        "\n",
        "print(df)"
      ],
      "metadata": {
        "colab": {
          "base_uri": "https://localhost:8080/"
        },
        "id": "WhvvjRqvZiR5",
        "outputId": "513288e0-06fe-4482-a7c9-e009d7595e6e"
      },
      "execution_count": null,
      "outputs": [
        {
          "output_type": "stream",
          "name": "stdout",
          "text": [
            "     Name  Age  Score\n",
            "0   peter   18      7\n",
            "1  ganesh   34      8\n",
            "2     are   45      4\n",
            "3   raghu   23      6\n",
            "4  shreya   20      3\n"
          ]
        }
      ]
    },
    {
      "cell_type": "code",
      "source": [
        "# using from_records() method\n",
        "# example 2 :df.from_records()\n",
        "\n",
        "import pandas as pd\n",
        "data = [('peter',18,7),\n",
        "      ('ganesh',34,8),\n",
        "      ('are',45,4),\n",
        "      ('raghu',23,6),\n",
        "      ('shreya',20,3)]\n",
        "\n",
        "df = pd.DataFrame.from_records(data,columns =['Team','Age','Score'])\n",
        "\n",
        "print(df)"
      ],
      "metadata": {
        "colab": {
          "base_uri": "https://localhost:8080/"
        },
        "id": "_qdb7LyqcM43",
        "outputId": "b20362f3-9276-48f6-ae45-22ab4e327392"
      },
      "execution_count": null,
      "outputs": [
        {
          "output_type": "stream",
          "name": "stdout",
          "text": [
            "     Team  Age  Score\n",
            "0   peter   18      7\n",
            "1  ganesh   34      8\n",
            "2     are   45      4\n",
            "3   raghu   23      6\n",
            "4  shreya   20      3\n"
          ]
        }
      ]
    },
    {
      "cell_type": "code",
      "source": [
        "# using df.pivot() function\n",
        "\n",
        "import pandas as pd\n",
        "data = [('peter',18,7),\n",
        "      ('ganesh',34,8),\n",
        "      ('are',45,4),\n",
        "      ('raghu',23,6),\n",
        "      ('shreya',20,3)]\n",
        "\n",
        "df = pd.DataFrame.from_records(data,columns =['Team','Age','Score'])\n",
        "\n",
        "a = df.pivot('Team','Score','Age')\n",
        "\n",
        "print(a)"
      ],
      "metadata": {
        "colab": {
          "base_uri": "https://localhost:8080/"
        },
        "id": "IAVVSfRddEep",
        "outputId": "bb51248c-6edf-4409-f868-d27ec0900a8a"
      },
      "execution_count": null,
      "outputs": [
        {
          "output_type": "stream",
          "name": "stdout",
          "text": [
            "Score      3     4     6     7     8\n",
            "Team                                \n",
            "are      NaN  45.0   NaN   NaN   NaN\n",
            "ganesh   NaN   NaN   NaN   NaN  34.0\n",
            "peter    NaN   NaN   NaN  18.0   NaN\n",
            "raghu    NaN   NaN  23.0   NaN   NaN\n",
            "shreya  20.0   NaN   NaN   NaN   NaN\n"
          ]
        },
        {
          "output_type": "stream",
          "name": "stderr",
          "text": [
            "<ipython-input-7-26b53fb5e96d>:12: FutureWarning: In a future version of pandas all arguments of DataFrame.pivot will be keyword-only.\n",
            "  a = df.pivot('Team','Score','Age')\n"
          ]
        }
      ]
    },
    {
      "cell_type": "code",
      "source": [
        "# create pandas dataframe from Lists of Dicts\n",
        "# Method 1:Convert a list of dictionaries to a pandas Dataframe using from_records()\n",
        "# from_records() it converts a structured ndarrray,tuple or dictsequence,or Dataframe in to Dataframe object\n",
        "import pandas as pd\n",
        "data = [{'ganesh':'dataframe','is':'using','workalcoholic':'list'},\n",
        "        {'ganesh':20,'is':10,'workalcoholic':30}]\n",
        "\n",
        "df = pd.DataFrame.from_records(data,index=['1','2'])\n",
        "print(df)"
      ],
      "metadata": {
        "colab": {
          "base_uri": "https://localhost:8080/"
        },
        "id": "K9wLpps7dvQR",
        "outputId": "d6ac3b66-97dc-43ed-e542-6bbb19567881"
      },
      "execution_count": null,
      "outputs": [
        {
          "output_type": "stream",
          "name": "stdout",
          "text": [
            "      ganesh     is workalcoholic\n",
            "1  dataframe  using          list\n",
            "2         20     10            30\n"
          ]
        }
      ]
    },
    {
      "cell_type": "code",
      "source": [
        "# Method 2:Convert a list of dictionaries to a pandas DataFrame using pd.DataFrame.from_dict()\n",
        "import pandas as pd\n",
        "data = [{'ganesh':'dataframe','is':'using','workalcoholic':'list'},\n",
        "        {'ganesh':20,'is':10,'workalcoholic':30}]\n",
        "\n",
        "df = pd.DataFrame.from_dict(data)\n",
        "print(df)"
      ],
      "metadata": {
        "colab": {
          "base_uri": "https://localhost:8080/"
        },
        "id": "OdUAVlnagR1Q",
        "outputId": "cd95c25a-ff32-4f06-d5dc-46ccaca348a9"
      },
      "execution_count": null,
      "outputs": [
        {
          "output_type": "stream",
          "name": "stdout",
          "text": [
            "      ganesh     is workalcoholic\n",
            "0  dataframe  using          list\n",
            "1         20     10            30\n"
          ]
        }
      ]
    },
    {
      "cell_type": "code",
      "source": [
        "# Method 3:  Converts a list of dictionaries to pandas DataFrame using pd.json_normalize\n",
        "# json_normalize()\n",
        "import pandas as pd\n",
        "data = [{'ganesh':'dataframe','is':'using','workalcoholic':'list'},\n",
        "        {'ganesh':20,'is':10,'workalcoholic':30}]\n",
        "\n",
        "df = pd.json_normalize(data)\n",
        "print(df)"
      ],
      "metadata": {
        "colab": {
          "base_uri": "https://localhost:8080/"
        },
        "id": "mxwWE1Aui-MQ",
        "outputId": "5470f46f-fca4-4df7-814d-69fa1e635ce1"
      },
      "execution_count": null,
      "outputs": [
        {
          "output_type": "stream",
          "name": "stdout",
          "text": [
            "      ganesh     is workalcoholic\n",
            "0  dataframe  using          list\n",
            "1         20     10            30\n"
          ]
        }
      ]
    },
    {
      "cell_type": "code",
      "source": [
        "# method 4: pd.DataFrame()"
      ],
      "metadata": {
        "id": "B0_WithTjmH4"
      },
      "execution_count": null,
      "outputs": []
    },
    {
      "cell_type": "code",
      "source": [
        "# example2:\n",
        "# creating a dataframe by explicitly providing user defined values for both index and columns\n",
        "import pandas as pd\n",
        "\n",
        "data = [{'ganesh':'dataframe','is':'using','workalcoholic':'list'},\n",
        "        {'ganesh':20,'is':10,'workalcoholic':30}]\n",
        "#with two column indices ,values same\n",
        "# as Dictionary keys\n",
        "df1 = pd.DataFrame(data,index = ['ind1','ind2'],\n",
        "                       columns = ['ganesh','is'])\n",
        "\n",
        "# with two column indices with\n",
        "# one index with other name\n",
        "df2 = pd.DataFrame(data,index=['index','indy'])\n",
        "\n",
        "print(df1,\"\\n\")\n",
        "\n",
        "print(df2)\n",
        "\n",
        "\n"
      ],
      "metadata": {
        "colab": {
          "base_uri": "https://localhost:8080/"
        },
        "id": "bL3NAVAQkBJn",
        "outputId": "91e2ad16-8277-4f28-feca-cb0bc98bde09"
      },
      "execution_count": null,
      "outputs": [
        {
          "output_type": "stream",
          "name": "stdout",
          "text": [
            "         ganesh     is\n",
            "ind1  dataframe  using\n",
            "ind2         20     10 \n",
            "\n",
            "          ganesh     is workalcoholic\n",
            "index  dataframe  using          list\n",
            "indy          20     10            30\n"
          ]
        }
      ]
    },
    {
      "cell_type": "code",
      "source": [
        "# convert a list of nested dictionary in to Pandas DataFrame\n",
        "# step1 :creating a list of nested dictionary\n",
        "import pandas as pd\n",
        "\n",
        "# list of nested dictinary intialization\n",
        "list = [{\"student\":[{\"exam\":90,\"Grade\":\"a\"},\n",
        "                    {\"exam\":90,\"Grade\":\"a\"},\n",
        "                    {\"exam\":90,\"Grade\":\"a\"},\n",
        "                  ],\n",
        "         \"Name\":\"paras Jain\"\n",
        "         },\n",
        "        {\"student\":[{\"exam\":89,\"Grade\":\"a\"},\n",
        "                    {\"exam\":89,\"Grade\":\"a\"}\n",
        "                    ],\n",
        "         \"Name\":\"chunky pandey\"\n",
        "         }\n",
        "     ]\n",
        "\n",
        "print(list)"
      ],
      "metadata": {
        "colab": {
          "base_uri": "https://localhost:8080/"
        },
        "id": "lLfPuoUgmakI",
        "outputId": "a7d48f3b-0479-43a6-be7f-c2fcead01af4"
      },
      "execution_count": null,
      "outputs": [
        {
          "output_type": "stream",
          "name": "stdout",
          "text": [
            "[{'student': [{'exam': 90, 'Grade': 'a'}, {'exam': 90, 'Grade': 'a'}, {'exam': 90, 'Grade': 'a'}], 'Name': 'paras Jain'}, {'student': [{'exam': 89, 'Grade': 'a'}, {'exam': 89, 'Grade': 'a'}], 'Name': 'chunky pandey'}]\n"
          ]
        }
      ]
    },
    {
      "cell_type": "markdown",
      "source": [],
      "metadata": {
        "id": "WmCh0TKRc_FZ"
      }
    },
    {
      "cell_type": "code",
      "source": [
        "# step 2:Adding dict values to rows\n",
        "# rows list intialization\n",
        "rows = []\n",
        "# appending rows\n",
        "for data in list:\n",
        "  data_row = data['student']\n",
        "  time = data['Name']\n",
        "\n",
        "  for row in data_row:\n",
        "    row['Name'] = time\n",
        "    rows.append(row)\n",
        "\n",
        "# using dataframe\n",
        "df = pd.DataFrame(rows)\n",
        "\n",
        "print(df)"
      ],
      "metadata": {
        "id": "6gCj2UVhpRjP",
        "colab": {
          "base_uri": "https://localhost:8080/"
        },
        "outputId": "35af3591-fee4-4dcb-d6f5-80a529369412"
      },
      "execution_count": null,
      "outputs": [
        {
          "output_type": "stream",
          "name": "stdout",
          "text": [
            "   exam Grade           Name\n",
            "0    90     a     paras Jain\n",
            "1    90     a     paras Jain\n",
            "2    90     a     paras Jain\n",
            "3    89     a  chunky pandey\n",
            "4    89     a  chunky pandey\n"
          ]
        }
      ]
    },
    {
      "cell_type": "code",
      "source": [
        "# step3 :pivoting DataFrame and assigning column names\n",
        "df = df.pivot_table(index = 'Name',columns = ['Grade'],\n",
        "                         values = ['exam']).reset_index()\n",
        "\n",
        "# defining columns\n",
        "df.columns =['Name','Maths','Physics','Chemistry']\n",
        "\n",
        "# print dataframe\n",
        "print(df.coulmns)"
      ],
      "metadata": {
        "colab": {
          "base_uri": "https://localhost:8080/",
          "height": 442
        },
        "id": "LnVhUdYgtKtq",
        "outputId": "ec592327-2381-42ce-e214-967dd9dad65d"
      },
      "execution_count": null,
      "outputs": [
        {
          "output_type": "error",
          "ename": "ValueError",
          "evalue": "ignored",
          "traceback": [
            "\u001b[0;31m---------------------------------------------------------------------------\u001b[0m",
            "\u001b[0;31mValueError\u001b[0m                                Traceback (most recent call last)",
            "\u001b[0;32m<ipython-input-15-d8e49bed3e65>\u001b[0m in \u001b[0;36m<cell line: 6>\u001b[0;34m()\u001b[0m\n\u001b[1;32m      4\u001b[0m \u001b[0;34m\u001b[0m\u001b[0m\n\u001b[1;32m      5\u001b[0m \u001b[0;31m# defining columns\u001b[0m\u001b[0;34m\u001b[0m\u001b[0;34m\u001b[0m\u001b[0m\n\u001b[0;32m----> 6\u001b[0;31m \u001b[0mdf\u001b[0m\u001b[0;34m.\u001b[0m\u001b[0mcolumns\u001b[0m \u001b[0;34m=\u001b[0m\u001b[0;34m[\u001b[0m\u001b[0;34m'Name'\u001b[0m\u001b[0;34m,\u001b[0m\u001b[0;34m'Maths'\u001b[0m\u001b[0;34m,\u001b[0m\u001b[0;34m'Physics'\u001b[0m\u001b[0;34m,\u001b[0m\u001b[0;34m'Chemistry'\u001b[0m\u001b[0;34m]\u001b[0m\u001b[0;34m\u001b[0m\u001b[0;34m\u001b[0m\u001b[0m\n\u001b[0m\u001b[1;32m      7\u001b[0m \u001b[0;34m\u001b[0m\u001b[0m\n\u001b[1;32m      8\u001b[0m \u001b[0;31m# print dataframe\u001b[0m\u001b[0;34m\u001b[0m\u001b[0;34m\u001b[0m\u001b[0m\n",
            "\u001b[0;32m/usr/local/lib/python3.10/dist-packages/pandas/core/generic.py\u001b[0m in \u001b[0;36m__setattr__\u001b[0;34m(self, name, value)\u001b[0m\n\u001b[1;32m   5913\u001b[0m         \u001b[0;32mtry\u001b[0m\u001b[0;34m:\u001b[0m\u001b[0;34m\u001b[0m\u001b[0;34m\u001b[0m\u001b[0m\n\u001b[1;32m   5914\u001b[0m             \u001b[0mobject\u001b[0m\u001b[0;34m.\u001b[0m\u001b[0m__getattribute__\u001b[0m\u001b[0;34m(\u001b[0m\u001b[0mself\u001b[0m\u001b[0;34m,\u001b[0m \u001b[0mname\u001b[0m\u001b[0;34m)\u001b[0m\u001b[0;34m\u001b[0m\u001b[0;34m\u001b[0m\u001b[0m\n\u001b[0;32m-> 5915\u001b[0;31m             \u001b[0;32mreturn\u001b[0m \u001b[0mobject\u001b[0m\u001b[0;34m.\u001b[0m\u001b[0m__setattr__\u001b[0m\u001b[0;34m(\u001b[0m\u001b[0mself\u001b[0m\u001b[0;34m,\u001b[0m \u001b[0mname\u001b[0m\u001b[0;34m,\u001b[0m \u001b[0mvalue\u001b[0m\u001b[0;34m)\u001b[0m\u001b[0;34m\u001b[0m\u001b[0;34m\u001b[0m\u001b[0m\n\u001b[0m\u001b[1;32m   5916\u001b[0m         \u001b[0;32mexcept\u001b[0m \u001b[0mAttributeError\u001b[0m\u001b[0;34m:\u001b[0m\u001b[0;34m\u001b[0m\u001b[0;34m\u001b[0m\u001b[0m\n\u001b[1;32m   5917\u001b[0m             \u001b[0;32mpass\u001b[0m\u001b[0;34m\u001b[0m\u001b[0;34m\u001b[0m\u001b[0m\n",
            "\u001b[0;32m/usr/local/lib/python3.10/dist-packages/pandas/_libs/properties.pyx\u001b[0m in \u001b[0;36mpandas._libs.properties.AxisProperty.__set__\u001b[0;34m()\u001b[0m\n",
            "\u001b[0;32m/usr/local/lib/python3.10/dist-packages/pandas/core/generic.py\u001b[0m in \u001b[0;36m_set_axis\u001b[0;34m(self, axis, labels)\u001b[0m\n\u001b[1;32m    821\u001b[0m     \u001b[0;32mdef\u001b[0m \u001b[0m_set_axis\u001b[0m\u001b[0;34m(\u001b[0m\u001b[0mself\u001b[0m\u001b[0;34m,\u001b[0m \u001b[0maxis\u001b[0m\u001b[0;34m:\u001b[0m \u001b[0mint\u001b[0m\u001b[0;34m,\u001b[0m \u001b[0mlabels\u001b[0m\u001b[0;34m:\u001b[0m \u001b[0mAnyArrayLike\u001b[0m \u001b[0;34m|\u001b[0m \u001b[0mlist\u001b[0m\u001b[0;34m)\u001b[0m \u001b[0;34m->\u001b[0m \u001b[0;32mNone\u001b[0m\u001b[0;34m:\u001b[0m\u001b[0;34m\u001b[0m\u001b[0;34m\u001b[0m\u001b[0m\n\u001b[1;32m    822\u001b[0m         \u001b[0mlabels\u001b[0m \u001b[0;34m=\u001b[0m \u001b[0mensure_index\u001b[0m\u001b[0;34m(\u001b[0m\u001b[0mlabels\u001b[0m\u001b[0;34m)\u001b[0m\u001b[0;34m\u001b[0m\u001b[0;34m\u001b[0m\u001b[0m\n\u001b[0;32m--> 823\u001b[0;31m         \u001b[0mself\u001b[0m\u001b[0;34m.\u001b[0m\u001b[0m_mgr\u001b[0m\u001b[0;34m.\u001b[0m\u001b[0mset_axis\u001b[0m\u001b[0;34m(\u001b[0m\u001b[0maxis\u001b[0m\u001b[0;34m,\u001b[0m \u001b[0mlabels\u001b[0m\u001b[0;34m)\u001b[0m\u001b[0;34m\u001b[0m\u001b[0;34m\u001b[0m\u001b[0m\n\u001b[0m\u001b[1;32m    824\u001b[0m         \u001b[0mself\u001b[0m\u001b[0;34m.\u001b[0m\u001b[0m_clear_item_cache\u001b[0m\u001b[0;34m(\u001b[0m\u001b[0;34m)\u001b[0m\u001b[0;34m\u001b[0m\u001b[0;34m\u001b[0m\u001b[0m\n\u001b[1;32m    825\u001b[0m \u001b[0;34m\u001b[0m\u001b[0m\n",
            "\u001b[0;32m/usr/local/lib/python3.10/dist-packages/pandas/core/internals/managers.py\u001b[0m in \u001b[0;36mset_axis\u001b[0;34m(self, axis, new_labels)\u001b[0m\n\u001b[1;32m    228\u001b[0m     \u001b[0;32mdef\u001b[0m \u001b[0mset_axis\u001b[0m\u001b[0;34m(\u001b[0m\u001b[0mself\u001b[0m\u001b[0;34m,\u001b[0m \u001b[0maxis\u001b[0m\u001b[0;34m:\u001b[0m \u001b[0mint\u001b[0m\u001b[0;34m,\u001b[0m \u001b[0mnew_labels\u001b[0m\u001b[0;34m:\u001b[0m \u001b[0mIndex\u001b[0m\u001b[0;34m)\u001b[0m \u001b[0;34m->\u001b[0m \u001b[0;32mNone\u001b[0m\u001b[0;34m:\u001b[0m\u001b[0;34m\u001b[0m\u001b[0;34m\u001b[0m\u001b[0m\n\u001b[1;32m    229\u001b[0m         \u001b[0;31m# Caller is responsible for ensuring we have an Index object.\u001b[0m\u001b[0;34m\u001b[0m\u001b[0;34m\u001b[0m\u001b[0m\n\u001b[0;32m--> 230\u001b[0;31m         \u001b[0mself\u001b[0m\u001b[0;34m.\u001b[0m\u001b[0m_validate_set_axis\u001b[0m\u001b[0;34m(\u001b[0m\u001b[0maxis\u001b[0m\u001b[0;34m,\u001b[0m \u001b[0mnew_labels\u001b[0m\u001b[0;34m)\u001b[0m\u001b[0;34m\u001b[0m\u001b[0;34m\u001b[0m\u001b[0m\n\u001b[0m\u001b[1;32m    231\u001b[0m         \u001b[0mself\u001b[0m\u001b[0;34m.\u001b[0m\u001b[0maxes\u001b[0m\u001b[0;34m[\u001b[0m\u001b[0maxis\u001b[0m\u001b[0;34m]\u001b[0m \u001b[0;34m=\u001b[0m \u001b[0mnew_labels\u001b[0m\u001b[0;34m\u001b[0m\u001b[0;34m\u001b[0m\u001b[0m\n\u001b[1;32m    232\u001b[0m \u001b[0;34m\u001b[0m\u001b[0m\n",
            "\u001b[0;32m/usr/local/lib/python3.10/dist-packages/pandas/core/internals/base.py\u001b[0m in \u001b[0;36m_validate_set_axis\u001b[0;34m(self, axis, new_labels)\u001b[0m\n\u001b[1;32m     68\u001b[0m \u001b[0;34m\u001b[0m\u001b[0m\n\u001b[1;32m     69\u001b[0m         \u001b[0;32melif\u001b[0m \u001b[0mnew_len\u001b[0m \u001b[0;34m!=\u001b[0m \u001b[0mold_len\u001b[0m\u001b[0;34m:\u001b[0m\u001b[0;34m\u001b[0m\u001b[0;34m\u001b[0m\u001b[0m\n\u001b[0;32m---> 70\u001b[0;31m             raise ValueError(\n\u001b[0m\u001b[1;32m     71\u001b[0m                 \u001b[0;34mf\"Length mismatch: Expected axis has {old_len} elements, new \"\u001b[0m\u001b[0;34m\u001b[0m\u001b[0;34m\u001b[0m\u001b[0m\n\u001b[1;32m     72\u001b[0m                 \u001b[0;34mf\"values have {new_len} elements\"\u001b[0m\u001b[0;34m\u001b[0m\u001b[0;34m\u001b[0m\u001b[0m\n",
            "\u001b[0;31mValueError\u001b[0m: Length mismatch: Expected axis has 2 elements, new values have 4 elements"
          ]
        }
      ]
    },
    {
      "cell_type": "code",
      "source": [
        "# convert a list of nested dictionary in to Pandas DataFrame\n",
        "# step1 :creating a list of nested dictionary\n",
        "import pandas as pd\n",
        "\n",
        "# list of nested dictinary intialization\n",
        "list = [{\"student\":[{\"Exam\":90,\"Grade\":\"a\"},\n",
        "                    {\"Exam\":90,\"Grade\":\"a\"},\n",
        "                    {\"Exam\":90,\"Grade\":\"a\"},\n",
        "                  ],\n",
        "         \"Name\":\"paras Jain\"\n",
        "         },\n",
        "        {\"student\":[{\"Exam\":89,\"Grade\":\"a\"},\n",
        "                    {\"Exam\":89,\"Grade\":\"a\"}\n",
        "                    ],\n",
        "         \"Name\":\"chunky pandey\"\n",
        "         }\n",
        "     ]\n",
        "\n",
        "\n",
        "# step 2:Adding dict values to rows\n",
        "# rows list intialization\n",
        "rows = []\n",
        "# appending rows\n",
        "for data in list:\n",
        "  data_row = data['student']\n",
        "  time = data['Name']\n",
        "\n",
        "  for row in data_row:\n",
        "    row['Name'] = time\n",
        "    rows.append(row)\n",
        "\n",
        "# using dataframe\n",
        "df = pd.DataFrame(rows)\n",
        "\n",
        "# step3 :pivoting DataFrame and assigning column names\n",
        "df = df.pivot_table(index = 'Name',columns = ['Grade'],\n",
        "                         values = ['Exam']).reset_index()\n",
        "\n",
        "# defining columns\n",
        "df.columns =['Name', 'Maths', 'Physics', 'Chemistry']\n",
        "\n",
        "# print dataframe\n",
        "print(df)"
      ],
      "metadata": {
        "colab": {
          "base_uri": "https://localhost:8080/",
          "height": 442
        },
        "id": "S38xsVbVwt09",
        "outputId": "8af2aa36-ba7b-49b2-8a41-0ea6b3123da4"
      },
      "execution_count": null,
      "outputs": [
        {
          "output_type": "error",
          "ename": "ValueError",
          "evalue": "ignored",
          "traceback": [
            "\u001b[0;31m---------------------------------------------------------------------------\u001b[0m",
            "\u001b[0;31mValueError\u001b[0m                                Traceback (most recent call last)",
            "\u001b[0;32m<ipython-input-21-13737c0b9066>\u001b[0m in \u001b[0;36m<cell line: 40>\u001b[0;34m()\u001b[0m\n\u001b[1;32m     38\u001b[0m \u001b[0;34m\u001b[0m\u001b[0m\n\u001b[1;32m     39\u001b[0m \u001b[0;31m# defining columns\u001b[0m\u001b[0;34m\u001b[0m\u001b[0;34m\u001b[0m\u001b[0m\n\u001b[0;32m---> 40\u001b[0;31m \u001b[0mdf\u001b[0m\u001b[0;34m.\u001b[0m\u001b[0mcolumns\u001b[0m \u001b[0;34m=\u001b[0m\u001b[0;34m[\u001b[0m\u001b[0;34m'Name'\u001b[0m\u001b[0;34m,\u001b[0m \u001b[0;34m'Maths'\u001b[0m\u001b[0;34m,\u001b[0m \u001b[0;34m'Physics'\u001b[0m\u001b[0;34m,\u001b[0m \u001b[0;34m'Chemistry'\u001b[0m\u001b[0;34m]\u001b[0m\u001b[0;34m\u001b[0m\u001b[0;34m\u001b[0m\u001b[0m\n\u001b[0m\u001b[1;32m     41\u001b[0m \u001b[0;34m\u001b[0m\u001b[0m\n\u001b[1;32m     42\u001b[0m \u001b[0;31m# print dataframe\u001b[0m\u001b[0;34m\u001b[0m\u001b[0;34m\u001b[0m\u001b[0m\n",
            "\u001b[0;32m/usr/local/lib/python3.10/dist-packages/pandas/core/generic.py\u001b[0m in \u001b[0;36m__setattr__\u001b[0;34m(self, name, value)\u001b[0m\n\u001b[1;32m   5913\u001b[0m         \u001b[0;32mtry\u001b[0m\u001b[0;34m:\u001b[0m\u001b[0;34m\u001b[0m\u001b[0;34m\u001b[0m\u001b[0m\n\u001b[1;32m   5914\u001b[0m             \u001b[0mobject\u001b[0m\u001b[0;34m.\u001b[0m\u001b[0m__getattribute__\u001b[0m\u001b[0;34m(\u001b[0m\u001b[0mself\u001b[0m\u001b[0;34m,\u001b[0m \u001b[0mname\u001b[0m\u001b[0;34m)\u001b[0m\u001b[0;34m\u001b[0m\u001b[0;34m\u001b[0m\u001b[0m\n\u001b[0;32m-> 5915\u001b[0;31m             \u001b[0;32mreturn\u001b[0m \u001b[0mobject\u001b[0m\u001b[0;34m.\u001b[0m\u001b[0m__setattr__\u001b[0m\u001b[0;34m(\u001b[0m\u001b[0mself\u001b[0m\u001b[0;34m,\u001b[0m \u001b[0mname\u001b[0m\u001b[0;34m,\u001b[0m \u001b[0mvalue\u001b[0m\u001b[0;34m)\u001b[0m\u001b[0;34m\u001b[0m\u001b[0;34m\u001b[0m\u001b[0m\n\u001b[0m\u001b[1;32m   5916\u001b[0m         \u001b[0;32mexcept\u001b[0m \u001b[0mAttributeError\u001b[0m\u001b[0;34m:\u001b[0m\u001b[0;34m\u001b[0m\u001b[0;34m\u001b[0m\u001b[0m\n\u001b[1;32m   5917\u001b[0m             \u001b[0;32mpass\u001b[0m\u001b[0;34m\u001b[0m\u001b[0;34m\u001b[0m\u001b[0m\n",
            "\u001b[0;32m/usr/local/lib/python3.10/dist-packages/pandas/_libs/properties.pyx\u001b[0m in \u001b[0;36mpandas._libs.properties.AxisProperty.__set__\u001b[0;34m()\u001b[0m\n",
            "\u001b[0;32m/usr/local/lib/python3.10/dist-packages/pandas/core/generic.py\u001b[0m in \u001b[0;36m_set_axis\u001b[0;34m(self, axis, labels)\u001b[0m\n\u001b[1;32m    821\u001b[0m     \u001b[0;32mdef\u001b[0m \u001b[0m_set_axis\u001b[0m\u001b[0;34m(\u001b[0m\u001b[0mself\u001b[0m\u001b[0;34m,\u001b[0m \u001b[0maxis\u001b[0m\u001b[0;34m:\u001b[0m \u001b[0mint\u001b[0m\u001b[0;34m,\u001b[0m \u001b[0mlabels\u001b[0m\u001b[0;34m:\u001b[0m \u001b[0mAnyArrayLike\u001b[0m \u001b[0;34m|\u001b[0m \u001b[0mlist\u001b[0m\u001b[0;34m)\u001b[0m \u001b[0;34m->\u001b[0m \u001b[0;32mNone\u001b[0m\u001b[0;34m:\u001b[0m\u001b[0;34m\u001b[0m\u001b[0;34m\u001b[0m\u001b[0m\n\u001b[1;32m    822\u001b[0m         \u001b[0mlabels\u001b[0m \u001b[0;34m=\u001b[0m \u001b[0mensure_index\u001b[0m\u001b[0;34m(\u001b[0m\u001b[0mlabels\u001b[0m\u001b[0;34m)\u001b[0m\u001b[0;34m\u001b[0m\u001b[0;34m\u001b[0m\u001b[0m\n\u001b[0;32m--> 823\u001b[0;31m         \u001b[0mself\u001b[0m\u001b[0;34m.\u001b[0m\u001b[0m_mgr\u001b[0m\u001b[0;34m.\u001b[0m\u001b[0mset_axis\u001b[0m\u001b[0;34m(\u001b[0m\u001b[0maxis\u001b[0m\u001b[0;34m,\u001b[0m \u001b[0mlabels\u001b[0m\u001b[0;34m)\u001b[0m\u001b[0;34m\u001b[0m\u001b[0;34m\u001b[0m\u001b[0m\n\u001b[0m\u001b[1;32m    824\u001b[0m         \u001b[0mself\u001b[0m\u001b[0;34m.\u001b[0m\u001b[0m_clear_item_cache\u001b[0m\u001b[0;34m(\u001b[0m\u001b[0;34m)\u001b[0m\u001b[0;34m\u001b[0m\u001b[0;34m\u001b[0m\u001b[0m\n\u001b[1;32m    825\u001b[0m \u001b[0;34m\u001b[0m\u001b[0m\n",
            "\u001b[0;32m/usr/local/lib/python3.10/dist-packages/pandas/core/internals/managers.py\u001b[0m in \u001b[0;36mset_axis\u001b[0;34m(self, axis, new_labels)\u001b[0m\n\u001b[1;32m    228\u001b[0m     \u001b[0;32mdef\u001b[0m \u001b[0mset_axis\u001b[0m\u001b[0;34m(\u001b[0m\u001b[0mself\u001b[0m\u001b[0;34m,\u001b[0m \u001b[0maxis\u001b[0m\u001b[0;34m:\u001b[0m \u001b[0mint\u001b[0m\u001b[0;34m,\u001b[0m \u001b[0mnew_labels\u001b[0m\u001b[0;34m:\u001b[0m \u001b[0mIndex\u001b[0m\u001b[0;34m)\u001b[0m \u001b[0;34m->\u001b[0m \u001b[0;32mNone\u001b[0m\u001b[0;34m:\u001b[0m\u001b[0;34m\u001b[0m\u001b[0;34m\u001b[0m\u001b[0m\n\u001b[1;32m    229\u001b[0m         \u001b[0;31m# Caller is responsible for ensuring we have an Index object.\u001b[0m\u001b[0;34m\u001b[0m\u001b[0;34m\u001b[0m\u001b[0m\n\u001b[0;32m--> 230\u001b[0;31m         \u001b[0mself\u001b[0m\u001b[0;34m.\u001b[0m\u001b[0m_validate_set_axis\u001b[0m\u001b[0;34m(\u001b[0m\u001b[0maxis\u001b[0m\u001b[0;34m,\u001b[0m \u001b[0mnew_labels\u001b[0m\u001b[0;34m)\u001b[0m\u001b[0;34m\u001b[0m\u001b[0;34m\u001b[0m\u001b[0m\n\u001b[0m\u001b[1;32m    231\u001b[0m         \u001b[0mself\u001b[0m\u001b[0;34m.\u001b[0m\u001b[0maxes\u001b[0m\u001b[0;34m[\u001b[0m\u001b[0maxis\u001b[0m\u001b[0;34m]\u001b[0m \u001b[0;34m=\u001b[0m \u001b[0mnew_labels\u001b[0m\u001b[0;34m\u001b[0m\u001b[0;34m\u001b[0m\u001b[0m\n\u001b[1;32m    232\u001b[0m \u001b[0;34m\u001b[0m\u001b[0m\n",
            "\u001b[0;32m/usr/local/lib/python3.10/dist-packages/pandas/core/internals/base.py\u001b[0m in \u001b[0;36m_validate_set_axis\u001b[0;34m(self, axis, new_labels)\u001b[0m\n\u001b[1;32m     68\u001b[0m \u001b[0;34m\u001b[0m\u001b[0m\n\u001b[1;32m     69\u001b[0m         \u001b[0;32melif\u001b[0m \u001b[0mnew_len\u001b[0m \u001b[0;34m!=\u001b[0m \u001b[0mold_len\u001b[0m\u001b[0;34m:\u001b[0m\u001b[0;34m\u001b[0m\u001b[0;34m\u001b[0m\u001b[0m\n\u001b[0;32m---> 70\u001b[0;31m             raise ValueError(\n\u001b[0m\u001b[1;32m     71\u001b[0m                 \u001b[0;34mf\"Length mismatch: Expected axis has {old_len} elements, new \"\u001b[0m\u001b[0;34m\u001b[0m\u001b[0;34m\u001b[0m\u001b[0m\n\u001b[1;32m     72\u001b[0m                 \u001b[0;34mf\"values have {new_len} elements\"\u001b[0m\u001b[0;34m\u001b[0m\u001b[0;34m\u001b[0m\u001b[0m\n",
            "\u001b[0;31mValueError\u001b[0m: Length mismatch: Expected axis has 2 elements, new values have 4 elements"
          ]
        }
      ]
    },
    {
      "cell_type": "code",
      "source": [
        "# Replace values in Pandas dataframe using regex\n",
        "# DataFrame.replace() function\n",
        "# problem 1 : cities name start with New or new change it to New_\n",
        "import pandas as pd\n",
        "#create a dataframe\n",
        "df = pd.DataFrame({'city':['New York','Parague','New Delhi','Venice','new orleans'],\n",
        "                   'Event':['Music','poetry','Theatre','Comedy','Tech_summit'],\n",
        "                   'Cost':[10000,5000,15000,2000,12000]})\n",
        "\n",
        "# lets create the index\n",
        "index_ = [pd.Period('02-2018'),pd.Period('04-2018'),\n",
        "        pd.Period('06-2018'),pd.Period('10-2018'),pd.Period('12-2018')]\n",
        "\n",
        "#set the indedx\n",
        "df.index = index_\n",
        "\n",
        "# print the dataframe\n",
        "print(df)\n"
      ],
      "metadata": {
        "colab": {
          "base_uri": "https://localhost:8080/"
        },
        "id": "id4DWdzqyhNi",
        "outputId": "cff776b3-8286-4938-f308-b1699165969b"
      },
      "execution_count": null,
      "outputs": [
        {
          "output_type": "stream",
          "name": "stdout",
          "text": [
            "                city        Event   Cost\n",
            "2018-02     New York        Music  10000\n",
            "2018-04      Parague       poetry   5000\n",
            "2018-06    New Delhi      Theatre  15000\n",
            "2018-10       Venice       Comedy   2000\n",
            "2018-12  new orleans  Tech_summit  12000\n"
          ]
        }
      ]
    },
    {
      "cell_type": "code",
      "source": [
        "# Replace the matching strings\n",
        "df_updated = df.replace(to_replace = '[nN]ew',value = 'New_',regex = True)\n",
        "\n",
        "print(df_updated)"
      ],
      "metadata": {
        "colab": {
          "base_uri": "https://localhost:8080/"
        },
        "id": "HXRPKQTt2zA6",
        "outputId": "e986f402-2b11-47ad-c401-2516d9890c8c"
      },
      "execution_count": null,
      "outputs": [
        {
          "output_type": "stream",
          "name": "stdout",
          "text": [
            "                 city        Event   Cost\n",
            "2018-02     New_ York        Music  10000\n",
            "2018-04       Parague       poetry   5000\n",
            "2018-06    New_ Delhi      Theatre  15000\n",
            "2018-10        Venice       Comedy   2000\n",
            "2018-12  New_ orleans  Tech_summit  12000\n"
          ]
        }
      ]
    },
    {
      "cell_type": "code",
      "source": [
        "# removing additional details\n",
        "# DataFrame.apply() to apply our customized function on each values the column\n",
        "import pandas as pd\n",
        "\n",
        "df = pd.DataFrame({'city':['New York(city)','Parague','New Delhi(delhi)','Venice','new orleans'],\n",
        "                   'Event':['Music','poetry','Theatre','Comedy','Tech_summit'],\n",
        "                   'Cost':[10000,5000,15000,2000,12000]})\n",
        "\n",
        "#  create the index\n",
        "index_ = [pd.Period('02-2018'),pd.Period('04-2018'),\n",
        "        pd.Period('06-2018'),pd.Period('10-2018'),pd.Period('12-2018')]\n",
        "\n",
        "# set the index\n",
        "df.index = index_\n",
        "\n",
        "print(df)\n"
      ],
      "metadata": {
        "colab": {
          "base_uri": "https://localhost:8080/"
        },
        "id": "jxu6_cRb3jKM",
        "outputId": "d0004745-305e-4e0d-973b-ac2647ab26b9"
      },
      "execution_count": null,
      "outputs": [
        {
          "output_type": "stream",
          "name": "stdout",
          "text": [
            "                     city        Event   Cost\n",
            "2018-02    New York(city)        Music  10000\n",
            "2018-04           Parague       poetry   5000\n",
            "2018-06  New Delhi(delhi)      Theatre  15000\n",
            "2018-10            Venice       Comedy   2000\n",
            "2018-12       new orleans  Tech_summit  12000\n"
          ]
        }
      ]
    },
    {
      "cell_type": "code",
      "source": [
        "# importing re package for using regular expression\n",
        "import re\n",
        "\n",
        "# functions to clean the names\n",
        "def Clean_names(city_name):\n",
        "  # search for opening bracket in the name followed by\n",
        "  # any characteristics repeated any number of times\n",
        "  if re.search('\\(.*',city_name):\n",
        "\n",
        "    # extract the position of begining of pattern\n",
        "     pos = re.search('\\(.*',city_name).start()\n",
        "\n",
        "     # return the cleaned name\n",
        "     return city_name[:pos]\n",
        "\n",
        "  else:\n",
        "  # if clean up needed return the same name\n",
        "       return city_name\n",
        "\n",
        "# updated the city columns\n",
        "df['city'] = df['city'].apply(Clean_names)\n",
        "\n",
        "print(df)\n"
      ],
      "metadata": {
        "colab": {
          "base_uri": "https://localhost:8080/"
        },
        "id": "Sv9QAOeb48QC",
        "outputId": "6d498400-5fd6-4aa9-e8bd-5b077b36d1d7"
      },
      "execution_count": null,
      "outputs": [
        {
          "output_type": "stream",
          "name": "stdout",
          "text": [
            "                city        Event   Cost\n",
            "2018-02     New York        Music  10000\n",
            "2018-04      Parague       poetry   5000\n",
            "2018-06    New Delhi      Theatre  15000\n",
            "2018-10       Venice       Comedy   2000\n",
            "2018-12  new orleans  Tech_summit  12000\n"
          ]
        }
      ]
    },
    {
      "cell_type": "code",
      "source": [
        "# creating dataframe from pandas series\n",
        "import pandas as pd\n",
        "author = ['ganesh','raghavendra','shreya','pragaya']\n",
        "\n",
        "# creating a series by passing list\n",
        "# variable to series() function\n",
        "auth_series = pd.Series(author)\n",
        "\n",
        "print(auth_series)\n",
        "\n",
        "print(type(auth_series))"
      ],
      "metadata": {
        "colab": {
          "base_uri": "https://localhost:8080/"
        },
        "id": "aLfNdU067U-M",
        "outputId": "a2c95bd2-c8ae-4e90-c48e-b7d434f7dbbf"
      },
      "execution_count": null,
      "outputs": [
        {
          "output_type": "stream",
          "name": "stdout",
          "text": [
            "0         ganesh\n",
            "1    raghavendra\n",
            "2         shreya\n",
            "3        pragaya\n",
            "dtype: object\n",
            "<class 'pandas.core.series.Series'>\n"
          ]
        }
      ]
    },
    {
      "cell_type": "code",
      "source": [
        "# create DataFrame from Multiple series\n",
        "# two lists passed to pd.Series()\n",
        "\n",
        "# creating two lists\n",
        "author = ['ganesh','raghavendra','shreya','pragaya']\n",
        "\n",
        "article = [210,211,114,178]\n",
        "\n",
        "# creating two series by passing lists\n",
        "auth_series = pd.Series(author)\n",
        "article_series = pd.Series(article)\n",
        "\n",
        "# creating a dictionary by passing Series objects as values\n",
        "frame  = {'author':auth_series,\n",
        "          'article':article_series}\n",
        "\n",
        "result = pd.DataFrame(frame)\n",
        "\n",
        "print(result)"
      ],
      "metadata": {
        "colab": {
          "base_uri": "https://localhost:8080/"
        },
        "id": "9E8gEkjx9Lh3",
        "outputId": "5b686c95-3a4b-4023-88fd-3dff2607489b"
      },
      "execution_count": null,
      "outputs": [
        {
          "output_type": "stream",
          "name": "stdout",
          "text": [
            "        author  article\n",
            "0       ganesh      210\n",
            "1  raghavendra      211\n",
            "2       shreya      114\n",
            "3      pragaya      178\n"
          ]
        }
      ]
    },
    {
      "cell_type": "code",
      "source": [
        "# Add a column in Pandas DartaFrame\n",
        "import pandas as pd\n",
        "#creating series\n",
        "auth_series = pd.Series(['ganesh','raghavendra','shreya','pragaya'])\n",
        "\n",
        "article_series = pd.Series([210,211,114,178])\n",
        "\n",
        "# creating a dictionary by passing Series objects as values\n",
        "frame  = {'author':auth_series,\n",
        "          'article':article_series}\n",
        "\n",
        "# creating DataFrame\n",
        "result = pd.DataFrame(frame)\n",
        "# careting another list\n",
        "age = [21,21,24,23]\n",
        "\n",
        "# creating new column in the dataframe by providing Series created using list\n",
        "result['age'] = pd.Series(age)\n",
        "\n",
        "print(result)"
      ],
      "metadata": {
        "colab": {
          "base_uri": "https://localhost:8080/"
        },
        "id": "gsj0eI1E_KIX",
        "outputId": "faf2c8ac-a9fe-49da-b8f0-c3ca3429fbb7"
      },
      "execution_count": null,
      "outputs": [
        {
          "output_type": "stream",
          "name": "stdout",
          "text": [
            "        author  article  age\n",
            "0       ganesh      210   21\n",
            "1  raghavendra      211   21\n",
            "2       shreya      114   24\n",
            "3      pragaya      178   23\n"
          ]
        }
      ]
    },
    {
      "cell_type": "code",
      "source": [
        "#missing the value in pandas DataFrame\n",
        "import pandas as pd\n",
        "\n",
        "auth_series = pd.Series(['ganesh','raghavendra','shreya','pragya'])\n",
        "\n",
        "article_series = pd.Series([210, 211, 114, 178])\n",
        "\n",
        "frame  = {'author':auth_series,\n",
        "          'article':article_series}\n",
        "\n",
        "result = pd.DataFrame(frame)\n",
        "\n",
        "age = [21, 21, 24]\n",
        "\n",
        "result['Age'] = pd.Series(age)\n",
        "\n",
        "print(result)\n",
        "\n",
        "\n",
        "\n",
        "\n"
      ],
      "metadata": {
        "colab": {
          "base_uri": "https://localhost:8080/"
        },
        "id": "HHNso7-jDEQt",
        "outputId": "23d3012e-338d-4bbd-ae25-2a650b7e1e1c"
      },
      "execution_count": null,
      "outputs": [
        {
          "output_type": "stream",
          "name": "stdout",
          "text": [
            "        author  article   Age\n",
            "0       ganesh      210  21.0\n",
            "1  raghavendra      211  21.0\n",
            "2       shreya      114  24.0\n",
            "3       pragya      178   NaN\n"
          ]
        }
      ]
    },
    {
      "cell_type": "code",
      "source": [
        "# creating dataframe using a dictionary of series\n",
        "import pandas as pd\n",
        "# Creating dictionay of  series\n",
        "dict1 = {'auth_name':pd.Series(['ganesh','raghavendra','shreya','pragya']),\n",
        "         'author_book_no':pd.Series([210, 211, 114, 178]),'age':pd.Series([21, 21, 24,23])}\n",
        "\n",
        "df = pd.DataFrame(dict1)\n",
        "\n",
        "print(df)"
      ],
      "metadata": {
        "colab": {
          "base_uri": "https://localhost:8080/"
        },
        "id": "bp6_4Cz1GehV",
        "outputId": "c12a7db5-90fe-4428-9cb0-b86a57d7418e"
      },
      "execution_count": null,
      "outputs": [
        {
          "output_type": "stream",
          "name": "stdout",
          "text": [
            "     auth_name  author_book_no  age\n",
            "0       ganesh             210   21\n",
            "1  raghavendra             211   21\n",
            "2       shreya             114   24\n",
            "3       pragya             178   23\n"
          ]
        }
      ]
    },
    {
      "cell_type": "code",
      "source": [
        "# explict indexing in pandas dataframe\n",
        "import pandas as pd\n",
        "# Creating dictionay of  series\n",
        "dict1 = {'auth_name':pd.Series(['ganesh','raghavendra','shreya','pragya']),\n",
        "         'author_book_no':pd.Series([210, 211, 114, 178]),'age':pd.Series([21, 21, 24,23])}\n",
        "\n",
        "df = pd.DataFrame(dict1,index = ['SNO1','SNO2','SNO3','SNO4'])\n",
        "\n",
        "print(df)"
      ],
      "metadata": {
        "colab": {
          "base_uri": "https://localhost:8080/"
        },
        "id": "EsTX1GuxISfJ",
        "outputId": "34baf381-79d9-4dd5-a66a-bc5fb7434964"
      },
      "execution_count": null,
      "outputs": [
        {
          "output_type": "stream",
          "name": "stdout",
          "text": [
            "     auth_name  author_book_no  age\n",
            "SNO1       NaN             NaN  NaN\n",
            "SNO2       NaN             NaN  NaN\n",
            "SNO3       NaN             NaN  NaN\n",
            "SNO4       NaN             NaN  NaN\n"
          ]
        }
      ]
    },
    {
      "cell_type": "code",
      "source": [
        "import pandas as pd\n",
        "# Creating dictionay of  series\n",
        "dict1 = {'auth_name':pd.Series(['ganesh',\n",
        "                'raghavendra','shreya','pragya'],\n",
        "          index=['SNo1', 'SNo2', 'SNo3', 'SNo4']),\n",
        "         'author_book_no':pd.Series([210, 211, 114, 178],\n",
        "          index=['SNo1', 'SNo2', 'SNo3', 'SNo4']),\n",
        "         'age':pd.Series([21, 21, 24,23],\n",
        "          index=['SNo1', 'SNo2', 'SNo3', 'SNo4'])}\n",
        "\n",
        "df = pd.DataFrame(dict1,index = ['SNO1','SNO2','SNO3','SNO4'])\n",
        "\n",
        "print(df)"
      ],
      "metadata": {
        "colab": {
          "base_uri": "https://localhost:8080/"
        },
        "id": "U4LQMiIXJZKT",
        "outputId": "081bd7c0-6c0b-4561-8cd0-6660701af030"
      },
      "execution_count": null,
      "outputs": [
        {
          "output_type": "stream",
          "name": "stdout",
          "text": [
            "     auth_name  author_book_no  age\n",
            "SNO1       NaN             NaN  NaN\n",
            "SNO2       NaN             NaN  NaN\n",
            "SNO3       NaN             NaN  NaN\n",
            "SNO4       NaN             NaN  NaN\n"
          ]
        }
      ]
    },
    {
      "cell_type": "code",
      "source": [
        "#Construct a DataFrame in pandas using string data\n",
        "# method 1 : Create pandas dataframe from a string using StringIO()\n",
        "# read the data using pd.read_csv()\n",
        "import pandas as pd\n",
        "\n",
        "# import the stringIo Function\n",
        "# from io module\n",
        "\n",
        "from io import StringIO\n",
        "\n",
        "# wrap the string data in stringIo function\n",
        "\n",
        "stringdata = StringIO(\"\"\"Date;Event;Cost\n",
        "           10/2/2022;music;10000\n",
        "           11/2/202;poetry;12000\n",
        "           12/2/2022;Theatre;5000\n",
        "           13/2/2022;Comedy;8000\n",
        "           \"\"\")\n",
        "# read the data using the pandas\n",
        "# read_csv()\n",
        "df = pd.read_csv(stringdata,sep =\";\")\n",
        "\n",
        "print(df)"
      ],
      "metadata": {
        "colab": {
          "base_uri": "https://localhost:8080/"
        },
        "id": "0F6D3Lrm5ZvM",
        "outputId": "872a369b-8c6f-41a7-d917-4fe3722c43d7"
      },
      "execution_count": 4,
      "outputs": [
        {
          "output_type": "stream",
          "name": "stdout",
          "text": [
            "                   Date    Event   Cost\n",
            "0             10/2/2022    music  10000\n",
            "1              11/2/202   poetry  12000\n",
            "2             12/2/2022  Theatre   5000\n",
            "3             13/2/2022   Comedy   8000\n"
          ]
        }
      ]
    },
    {
      "cell_type": "code",
      "source": [
        "# clean the string data in the given pandas dataframe\n",
        "# DataFrame example ,where the product names are not in correct manner\n",
        "import pandas as pd\n",
        "\n",
        "df = pd.DataFrame({'Date':['10/2/2022','11/2/2022','12/2/2022','13/2/2022'],\n",
        "                   'Product':['UMbrella','  maTtress','BaDmintoN','shuttle'],\n",
        "                   'updated_price':[1250,1450,1550,400],\n",
        "                   'Discount':[10,8,15,10]})\n",
        "\n",
        "print(df)"
      ],
      "metadata": {
        "colab": {
          "base_uri": "https://localhost:8080/"
        },
        "id": "xrYbplBK-eoF",
        "outputId": "b3629a03-d5bb-4e30-a170-df6ae9a4aa4a"
      },
      "execution_count": 9,
      "outputs": [
        {
          "output_type": "stream",
          "name": "stdout",
          "text": [
            "        Date     Product  updated_price  Discount\n",
            "0  10/2/2022    UMbrella           1250        10\n",
            "1  11/2/2022    maTtress           1450         8\n",
            "2  12/2/2022   BaDmintoN           1550        15\n",
            "3  13/2/2022     shuttle            400        10\n"
          ]
        }
      ]
    },
    {
      "cell_type": "code",
      "source": [
        "# Creating custom function\n",
        "def Format_data(df):\n",
        "  # iterate over all the rows\n",
        "  for i in range(df.shape[0]):\n",
        "\n",
        "    # reassign the values to the product coulmn\n",
        "    # we first strip the whitespace using strip() function\n",
        "    # then we capitalize the first letter using capitalize()  function\n",
        "    df.iat[i,1]  = df.iat[i,1].strip().capitalize()\n",
        "\n",
        "#call the function\n",
        "Format_data(df)\n",
        "\n",
        "print(df)"
      ],
      "metadata": {
        "colab": {
          "base_uri": "https://localhost:8080/"
        },
        "id": "mLHf0n1SBW1Q",
        "outputId": "8533e4a7-7485-4b00-c37c-90d6a0894a93"
      },
      "execution_count": 10,
      "outputs": [
        {
          "output_type": "stream",
          "name": "stdout",
          "text": [
            "        Date    Product  updated_price  Discount\n",
            "0  10/2/2022   Umbrella           1250        10\n",
            "1  11/2/2022   Mattress           1450         8\n",
            "2  12/2/2022  Badminton           1550        15\n",
            "3  13/2/2022    Shuttle            400        10\n"
          ]
        }
      ]
    },
    {
      "cell_type": "code",
      "source": [
        "# using the pandas apply function\n",
        "# lambda function\n",
        "import pandas as pd\n",
        "\n",
        "df = pd.DataFrame({'Date':['10/2/2011', '11/2/2011', '12/2/2011', '13/2/2011'],\n",
        "                   'Product':[' UMbreLla', '  maTtress', 'BaDmintoN ', 'Shuttle'],\n",
        "                   'Updated_Price':[1250, 1450, 1550, 400],\n",
        "                   'Discount':[10, 8, 15, 10]})\n",
        "\n",
        " # using the df.apply() function on product column\n",
        "df['Product'] = df['Product'].apply(lambda x : x.strip().capitalize())\n",
        "\n",
        "print(df)\n"
      ],
      "metadata": {
        "colab": {
          "base_uri": "https://localhost:8080/"
        },
        "id": "zch2d2P8DFUc",
        "outputId": "3759ce41-573a-47f8-dea1-701949844d0b"
      },
      "execution_count": 13,
      "outputs": [
        {
          "output_type": "stream",
          "name": "stdout",
          "text": [
            "        Date    Product  Updated_Price  Discount\n",
            "0  10/2/2011   Umbrella           1250        10\n",
            "1  11/2/2011   Mattress           1450         8\n",
            "2  12/2/2011  Badminton           1550        15\n",
            "3  13/2/2011    Shuttle            400        10\n"
          ]
        }
      ]
    },
    {
      "cell_type": "code",
      "source": [
        "# Reindexing in pandas in pandas DataFrame\n",
        "# reindex() single row or mutiple row\n",
        "import pandas as pd\n",
        "import numpy as np\n",
        "\n",
        "column = ['a','b','c','d','e']\n",
        "index = ['A','B','C','D','E']\n",
        "\n",
        "# create a dataframe of random values of array\n",
        "df1 = pd.DataFrame(np.random.rand(5,5),\n",
        "              columns =column,index = index)\n",
        "\n",
        "print(df1)\n",
        "\n",
        "print('\\n\\nDataframe after reindexing rows: \\n',\n",
        "df1.reindex(['B','D','C','A','E']))"
      ],
      "metadata": {
        "colab": {
          "base_uri": "https://localhost:8080/"
        },
        "id": "uvweYnGDE1wD",
        "outputId": "f4d11dc6-f5fd-4d76-bbd6-b2d55d20c92f"
      },
      "execution_count": 21,
      "outputs": [
        {
          "output_type": "stream",
          "name": "stdout",
          "text": [
            "          a         b         c         d         e\n",
            "A  0.923414  0.786603  0.894581  0.618954  0.521883\n",
            "B  0.550998  0.450504  0.152650  0.507389  0.498735\n",
            "C  0.514281  0.118887  0.084975  0.541616  0.602670\n",
            "D  0.226399  0.467414  0.206220  0.730322  0.529542\n",
            "E  0.922593  0.969973  0.195678  0.625668  0.269147\n",
            "\n",
            "\n",
            "Dataframe after reindexing rows: \n",
            "           a         b         c         d         e\n",
            "B  0.550998  0.450504  0.152650  0.507389  0.498735\n",
            "D  0.226399  0.467414  0.206220  0.730322  0.529542\n",
            "C  0.514281  0.118887  0.084975  0.541616  0.602670\n",
            "A  0.923414  0.786603  0.894581  0.618954  0.521883\n",
            "E  0.922593  0.969973  0.195678  0.625668  0.269147\n"
          ]
        }
      ]
    },
    {
      "cell_type": "code",
      "source": [
        "# reindexing the columns using the axis keyword\n",
        "import pandas as pd\n",
        "import numpy as np\n",
        "\n",
        "column = ['a','b','c','d','e']\n",
        "index = ['A','B','C','D','E']\n",
        "\n",
        "# create a dataframe of random values of array\n",
        "df1 = pd.DataFrame(np.random.rand(5,5),\n",
        "              columns =column,index = index)\n",
        "\n",
        "column = ['e','a','b','c','d']\n",
        "\n",
        "# create the new index for columns\n",
        "print(df1.reindex(column,axis = 'columns'))"
      ],
      "metadata": {
        "colab": {
          "base_uri": "https://localhost:8080/"
        },
        "id": "nPqLYHgwMwqY",
        "outputId": "3407a418-9a61-4f27-ceb7-c3d44de1b06a"
      },
      "execution_count": 22,
      "outputs": [
        {
          "output_type": "stream",
          "name": "stdout",
          "text": [
            "          e         a         b         c         d\n",
            "A  0.510907  0.214963  0.735934  0.384942  0.728102\n",
            "B  0.498698  0.507633  0.207877  0.913989  0.930677\n",
            "C  0.989695  0.804499  0.626443  0.604898  0.896104\n",
            "D  0.548283  0.843529  0.413268  0.457625  0.528829\n",
            "E  0.296663  0.787504  0.495125  0.951802  0.045154\n"
          ]
        }
      ]
    },
    {
      "cell_type": "code",
      "source": [
        "# replacing the missing the values\n",
        "# code1:Misiing values from dataframe can be filled by passing a value to the\n",
        "# keyword fill_value. This keyword replaces the NaN value\n",
        "# import numpy and pandas module\n",
        "import pandas as pd\n",
        "import numpy as np\n",
        "\n",
        "column =['a', 'b', 'c', 'd', 'e']\n",
        "index =['A', 'B', 'C', 'D', 'E']\n",
        "\n",
        "# create a dataframe of random values of array\n",
        "df1 = pd.DataFrame(np.random.rand(5, 5),\n",
        "        columns = column, index = index)\n",
        "\n",
        "column =['a', 'b', 'c', 'g', 'h']\n",
        "\n",
        "# create the new index for columns\n",
        "print(df1.reindex(column,axis ='columns',fill_value = 1.5))\n",
        "\n",
        "# we can also fill missing data by 'string value'"
      ],
      "metadata": {
        "colab": {
          "base_uri": "https://localhost:8080/"
        },
        "id": "CwA5MCaRN0pV",
        "outputId": "ca076d98-6e55-4e43-8ba8-4e18c16efc49"
      },
      "execution_count": 23,
      "outputs": [
        {
          "output_type": "stream",
          "name": "stdout",
          "text": [
            "          a         b         c    g    h\n",
            "A  0.000104  0.508418  0.513248  1.5  1.5\n",
            "B  0.205364  0.994006  0.882370  1.5  1.5\n",
            "C  0.753469  0.343525  0.380904  1.5  1.5\n",
            "D  0.970713  0.035909  0.537073  1.5  1.5\n",
            "E  0.325792  0.752212  0.794210  1.5  1.5\n"
          ]
        }
      ]
    },
    {
      "cell_type": "code",
      "source": [
        "# Mapping exaternal values to dataframes values in pandas\n",
        "# method 1:Using the mappimg function\n",
        "import pandas as pd\n",
        "\n",
        "intial_data = {'First_name':['Ram','Mohan','Tina','Jeetu','Meera'],\n",
        "               'Last_name':['Kumar','sharma','Ali','Gandhi','kumari'],\n",
        "               'Age':[42,52,36,21,23],\n",
        "               'City':['Mumbai','Noida','pune','delhi','Bihar']}\n",
        "\n",
        "df = pd.DataFrame(intial_data,columns = ['First_name','Last_name','Age','City'])\n",
        "\n",
        "# create new column using dictionary\n",
        "new_data = {\"Ram\":\"B.com\",\n",
        "            \"Mohan\":\"IAS\",\n",
        "            \"Tina\":\"LLB\",\n",
        "            \"Jeetu\":\"B.Tech\",\n",
        "            \"Meera\":\"MBBS\" }\n",
        "\n",
        "# combine this new data with existing DataFrame\n",
        "df[\"Qualification\"] = df[\"First_name\"].map(new_data)\n",
        "\n",
        "print(df)"
      ],
      "metadata": {
        "colab": {
          "base_uri": "https://localhost:8080/"
        },
        "id": "oC_gqAIQO4a0",
        "outputId": "631ca093-9cf4-445e-9695-df946db8994d"
      },
      "execution_count": 25,
      "outputs": [
        {
          "output_type": "stream",
          "name": "stdout",
          "text": [
            "  First_name Last_name  Age    City Qualification\n",
            "0        Ram     Kumar   42  Mumbai         B.com\n",
            "1      Mohan    sharma   52   Noida           IAS\n",
            "2       Tina       Ali   36    pune           LLB\n",
            "3      Jeetu    Gandhi   21   delhi        B.Tech\n",
            "4      Meera    kumari   23   Bihar          MBBS\n"
          ]
        }
      ]
    },
    {
      "cell_type": "markdown",
      "source": [],
      "metadata": {
        "id": "Ko6NK6jFAZzD"
      }
    },
    {
      "cell_type": "code",
      "source": [
        "# method 2 :using replace function\n",
        "import pandas as pd\n",
        "\n",
        "intial_data = {'First_name':['Ram','Mohan','Tina','Jeetu','Meera'],\n",
        "               'Last_name':['Kumar','sharma','Ali','Gandhi','kumari'],\n",
        "               'Age':[42,52,36,21,23],\n",
        "               'City':['Mumbai','Noida','pune','delhi','Bihar']}\n",
        "\n",
        "df = pd.DataFrame(intial_data,columns = ['First_name','Last_name','Age','City'])\n",
        "\n",
        "# create new column using dictionary\n",
        "new_data = {\"Ram\":\"shyam\",\n",
        "            \"Tina\":\"Riya\",\n",
        "            \"Jeetu\":\"Jeetender\",\n",
        "             }\n",
        "\n",
        "print(df,end = \"\\n\\n\")\n",
        "\n",
        "# combine this new data with existing dataframes\n",
        "df = df.replace({\"First_name\":new_data})\n",
        "print(df)"
      ],
      "metadata": {
        "colab": {
          "base_uri": "https://localhost:8080/"
        },
        "id": "zVHe3hibTOPD",
        "outputId": "ec051f06-a9f2-46df-936b-e2145c28011b"
      },
      "execution_count": 26,
      "outputs": [
        {
          "output_type": "stream",
          "name": "stdout",
          "text": [
            "  First_name Last_name  Age    City\n",
            "0        Ram     Kumar   42  Mumbai\n",
            "1      Mohan    sharma   52   Noida\n",
            "2       Tina       Ali   36    pune\n",
            "3      Jeetu    Gandhi   21   delhi\n",
            "4      Meera    kumari   23   Bihar\n",
            "\n",
            "  First_name Last_name  Age    City\n",
            "0      shyam     Kumar   42  Mumbai\n",
            "1      Mohan    sharma   52   Noida\n",
            "2       Riya       Ali   36    pune\n",
            "3  Jeetender    Gandhi   21   delhi\n",
            "4      Meera    kumari   23   Bihar\n"
          ]
        }
      ]
    },
    {
      "cell_type": "code",
      "source": [
        "# Method : using update function\n",
        "import pandas as pd\n",
        "\n",
        "intial_data = {'First_name':['Ram','Mohan','Tina','Jeetu','Meera'],\n",
        "               'Last_name':['Kumar','sharma','Ali','Gandhi','kumari'],\n",
        "               'Age':[42,52,36,21,23],\n",
        "               'City':['Mumbai','Noida','pune','delhi','Bihar']}\n",
        "\n",
        "df = pd.DataFrame(intial_data,columns = ['First_name','Last_name','Age','City'])\n",
        "\n",
        "# create new column using dictionary\n",
        "new_data = { 0:\"shyam\",\n",
        "             2:\"Riya\",\n",
        "             3:\"Jeetender\",\n",
        "             }\n",
        "\n",
        "df[\"First_name\"].update(pd.Series(new_data))\n",
        "print(df)"
      ],
      "metadata": {
        "colab": {
          "base_uri": "https://localhost:8080/"
        },
        "id": "TBYMFmn1UcVN",
        "outputId": "33425b64-2024-49b0-cce1-6cd25c0e2634"
      },
      "execution_count": 27,
      "outputs": [
        {
          "output_type": "stream",
          "name": "stdout",
          "text": [
            "  First_name Last_name  Age    City\n",
            "0      shyam     Kumar   42  Mumbai\n",
            "1      Mohan    sharma   52   Noida\n",
            "2       Riya       Ali   36    pune\n",
            "3  Jeetender    Gandhi   21   delhi\n",
            "4      Meera    kumari   23   Bihar\n"
          ]
        }
      ]
    },
    {
      "cell_type": "code",
      "source": [
        "# reshape a pandas DataFrame using stack ,unstack and melt method\n",
        "# first import dataset\n",
        "\n",
        "# making the dataframe\n",
        "import pandas as pd\n",
        "\n",
        "df = pd.read_csv(\"C:\\Users\\ganes\\OneDrive\\Desktop\\nba.csv\")\n",
        "\n",
        "\n",
        "print(df.head())"
      ],
      "metadata": {
        "colab": {
          "base_uri": "https://localhost:8080/",
          "height": 158
        },
        "id": "yrTUWp5HVQNw",
        "outputId": "9890c1e6-5afe-47ef-aaad-b457a598e738"
      },
      "execution_count": 52,
      "outputs": [
        {
          "output_type": "error",
          "ename": "SyntaxError",
          "evalue": "ignored",
          "traceback": [
            "\u001b[0;36m  File \u001b[0;32m\"<ipython-input-52-a69e56b0630a>\"\u001b[0;36m, line \u001b[0;32m6\u001b[0m\n\u001b[0;31m    open(\"C:\\Users\\ganes\\OneDrive\\Desktop\\nba.csv\")\u001b[0m\n\u001b[0m                                                  ^\u001b[0m\n\u001b[0;31mSyntaxError\u001b[0m\u001b[0;31m:\u001b[0m (unicode error) 'unicodeescape' codec can't decode bytes in position 2-3: truncated \\UXXXXXXXX escape\n"
          ]
        }
      ]
    },
    {
      "cell_type": "code",
      "source": [
        "# using stack() method\n",
        "# works with Multindex objects in dataframe ,it returns a dataframe with an inner\n",
        "# -most level of row level. It changes the wide table to a long table\n",
        "\n",
        "import pandas as pd\n",
        "\n",
        "# making dataframe\n",
        "df = pd.read_csv(\"nba.csv\")\n",
        "\n",
        "\n",
        "# reshape the dataframe using stack() method\n",
        "df_stacked = df.satck()\n",
        "\n",
        "print(df_stacked.head(26))"
      ],
      "metadata": {
        "colab": {
          "base_uri": "https://localhost:8080/",
          "height": 425
        },
        "id": "8ipZ80tYXR0d",
        "outputId": "f2e494e2-76e9-4c67-c9b3-3aa0a217c9b2"
      },
      "execution_count": 33,
      "outputs": [
        {
          "output_type": "error",
          "ename": "FileNotFoundError",
          "evalue": "ignored",
          "traceback": [
            "\u001b[0;31m---------------------------------------------------------------------------\u001b[0m",
            "\u001b[0;31mFileNotFoundError\u001b[0m                         Traceback (most recent call last)",
            "\u001b[0;32m<ipython-input-33-c8f5871500dd>\u001b[0m in \u001b[0;36m<cell line: 8>\u001b[0;34m()\u001b[0m\n\u001b[1;32m      6\u001b[0m \u001b[0;34m\u001b[0m\u001b[0m\n\u001b[1;32m      7\u001b[0m \u001b[0;31m# making dataframe\u001b[0m\u001b[0;34m\u001b[0m\u001b[0;34m\u001b[0m\u001b[0m\n\u001b[0;32m----> 8\u001b[0;31m \u001b[0mdf\u001b[0m \u001b[0;34m=\u001b[0m \u001b[0mpd\u001b[0m\u001b[0;34m.\u001b[0m\u001b[0mread_csv\u001b[0m\u001b[0;34m(\u001b[0m\u001b[0;34m\"nba.csv\"\u001b[0m\u001b[0;34m)\u001b[0m\u001b[0;34m\u001b[0m\u001b[0;34m\u001b[0m\u001b[0m\n\u001b[0m\u001b[1;32m      9\u001b[0m \u001b[0;34m\u001b[0m\u001b[0m\n\u001b[1;32m     10\u001b[0m \u001b[0;34m\u001b[0m\u001b[0m\n",
            "\u001b[0;32m/usr/local/lib/python3.10/dist-packages/pandas/util/_decorators.py\u001b[0m in \u001b[0;36mwrapper\u001b[0;34m(*args, **kwargs)\u001b[0m\n\u001b[1;32m    209\u001b[0m                 \u001b[0;32melse\u001b[0m\u001b[0;34m:\u001b[0m\u001b[0;34m\u001b[0m\u001b[0;34m\u001b[0m\u001b[0m\n\u001b[1;32m    210\u001b[0m                     \u001b[0mkwargs\u001b[0m\u001b[0;34m[\u001b[0m\u001b[0mnew_arg_name\u001b[0m\u001b[0;34m]\u001b[0m \u001b[0;34m=\u001b[0m \u001b[0mnew_arg_value\u001b[0m\u001b[0;34m\u001b[0m\u001b[0;34m\u001b[0m\u001b[0m\n\u001b[0;32m--> 211\u001b[0;31m             \u001b[0;32mreturn\u001b[0m \u001b[0mfunc\u001b[0m\u001b[0;34m(\u001b[0m\u001b[0;34m*\u001b[0m\u001b[0margs\u001b[0m\u001b[0;34m,\u001b[0m \u001b[0;34m**\u001b[0m\u001b[0mkwargs\u001b[0m\u001b[0;34m)\u001b[0m\u001b[0;34m\u001b[0m\u001b[0;34m\u001b[0m\u001b[0m\n\u001b[0m\u001b[1;32m    212\u001b[0m \u001b[0;34m\u001b[0m\u001b[0m\n\u001b[1;32m    213\u001b[0m         \u001b[0;32mreturn\u001b[0m \u001b[0mcast\u001b[0m\u001b[0;34m(\u001b[0m\u001b[0mF\u001b[0m\u001b[0;34m,\u001b[0m \u001b[0mwrapper\u001b[0m\u001b[0;34m)\u001b[0m\u001b[0;34m\u001b[0m\u001b[0;34m\u001b[0m\u001b[0m\n",
            "\u001b[0;32m/usr/local/lib/python3.10/dist-packages/pandas/util/_decorators.py\u001b[0m in \u001b[0;36mwrapper\u001b[0;34m(*args, **kwargs)\u001b[0m\n\u001b[1;32m    329\u001b[0m                     \u001b[0mstacklevel\u001b[0m\u001b[0;34m=\u001b[0m\u001b[0mfind_stack_level\u001b[0m\u001b[0;34m(\u001b[0m\u001b[0;34m)\u001b[0m\u001b[0;34m,\u001b[0m\u001b[0;34m\u001b[0m\u001b[0;34m\u001b[0m\u001b[0m\n\u001b[1;32m    330\u001b[0m                 )\n\u001b[0;32m--> 331\u001b[0;31m             \u001b[0;32mreturn\u001b[0m \u001b[0mfunc\u001b[0m\u001b[0;34m(\u001b[0m\u001b[0;34m*\u001b[0m\u001b[0margs\u001b[0m\u001b[0;34m,\u001b[0m \u001b[0;34m**\u001b[0m\u001b[0mkwargs\u001b[0m\u001b[0;34m)\u001b[0m\u001b[0;34m\u001b[0m\u001b[0;34m\u001b[0m\u001b[0m\n\u001b[0m\u001b[1;32m    332\u001b[0m \u001b[0;34m\u001b[0m\u001b[0m\n\u001b[1;32m    333\u001b[0m         \u001b[0;31m# error: \"Callable[[VarArg(Any), KwArg(Any)], Any]\" has no\u001b[0m\u001b[0;34m\u001b[0m\u001b[0;34m\u001b[0m\u001b[0m\n",
            "\u001b[0;32m/usr/local/lib/python3.10/dist-packages/pandas/io/parsers/readers.py\u001b[0m in \u001b[0;36mread_csv\u001b[0;34m(filepath_or_buffer, sep, delimiter, header, names, index_col, usecols, squeeze, prefix, mangle_dupe_cols, dtype, engine, converters, true_values, false_values, skipinitialspace, skiprows, skipfooter, nrows, na_values, keep_default_na, na_filter, verbose, skip_blank_lines, parse_dates, infer_datetime_format, keep_date_col, date_parser, dayfirst, cache_dates, iterator, chunksize, compression, thousands, decimal, lineterminator, quotechar, quoting, doublequote, escapechar, comment, encoding, encoding_errors, dialect, error_bad_lines, warn_bad_lines, on_bad_lines, delim_whitespace, low_memory, memory_map, float_precision, storage_options)\u001b[0m\n\u001b[1;32m    948\u001b[0m     \u001b[0mkwds\u001b[0m\u001b[0;34m.\u001b[0m\u001b[0mupdate\u001b[0m\u001b[0;34m(\u001b[0m\u001b[0mkwds_defaults\u001b[0m\u001b[0;34m)\u001b[0m\u001b[0;34m\u001b[0m\u001b[0;34m\u001b[0m\u001b[0m\n\u001b[1;32m    949\u001b[0m \u001b[0;34m\u001b[0m\u001b[0m\n\u001b[0;32m--> 950\u001b[0;31m     \u001b[0;32mreturn\u001b[0m \u001b[0m_read\u001b[0m\u001b[0;34m(\u001b[0m\u001b[0mfilepath_or_buffer\u001b[0m\u001b[0;34m,\u001b[0m \u001b[0mkwds\u001b[0m\u001b[0;34m)\u001b[0m\u001b[0;34m\u001b[0m\u001b[0;34m\u001b[0m\u001b[0m\n\u001b[0m\u001b[1;32m    951\u001b[0m \u001b[0;34m\u001b[0m\u001b[0m\n\u001b[1;32m    952\u001b[0m \u001b[0;34m\u001b[0m\u001b[0m\n",
            "\u001b[0;32m/usr/local/lib/python3.10/dist-packages/pandas/io/parsers/readers.py\u001b[0m in \u001b[0;36m_read\u001b[0;34m(filepath_or_buffer, kwds)\u001b[0m\n\u001b[1;32m    603\u001b[0m \u001b[0;34m\u001b[0m\u001b[0m\n\u001b[1;32m    604\u001b[0m     \u001b[0;31m# Create the parser.\u001b[0m\u001b[0;34m\u001b[0m\u001b[0;34m\u001b[0m\u001b[0m\n\u001b[0;32m--> 605\u001b[0;31m     \u001b[0mparser\u001b[0m \u001b[0;34m=\u001b[0m \u001b[0mTextFileReader\u001b[0m\u001b[0;34m(\u001b[0m\u001b[0mfilepath_or_buffer\u001b[0m\u001b[0;34m,\u001b[0m \u001b[0;34m**\u001b[0m\u001b[0mkwds\u001b[0m\u001b[0;34m)\u001b[0m\u001b[0;34m\u001b[0m\u001b[0;34m\u001b[0m\u001b[0m\n\u001b[0m\u001b[1;32m    606\u001b[0m \u001b[0;34m\u001b[0m\u001b[0m\n\u001b[1;32m    607\u001b[0m     \u001b[0;32mif\u001b[0m \u001b[0mchunksize\u001b[0m \u001b[0;32mor\u001b[0m \u001b[0miterator\u001b[0m\u001b[0;34m:\u001b[0m\u001b[0;34m\u001b[0m\u001b[0;34m\u001b[0m\u001b[0m\n",
            "\u001b[0;32m/usr/local/lib/python3.10/dist-packages/pandas/io/parsers/readers.py\u001b[0m in \u001b[0;36m__init__\u001b[0;34m(self, f, engine, **kwds)\u001b[0m\n\u001b[1;32m   1440\u001b[0m \u001b[0;34m\u001b[0m\u001b[0m\n\u001b[1;32m   1441\u001b[0m         \u001b[0mself\u001b[0m\u001b[0;34m.\u001b[0m\u001b[0mhandles\u001b[0m\u001b[0;34m:\u001b[0m \u001b[0mIOHandles\u001b[0m \u001b[0;34m|\u001b[0m \u001b[0;32mNone\u001b[0m \u001b[0;34m=\u001b[0m \u001b[0;32mNone\u001b[0m\u001b[0;34m\u001b[0m\u001b[0;34m\u001b[0m\u001b[0m\n\u001b[0;32m-> 1442\u001b[0;31m         \u001b[0mself\u001b[0m\u001b[0;34m.\u001b[0m\u001b[0m_engine\u001b[0m \u001b[0;34m=\u001b[0m \u001b[0mself\u001b[0m\u001b[0;34m.\u001b[0m\u001b[0m_make_engine\u001b[0m\u001b[0;34m(\u001b[0m\u001b[0mf\u001b[0m\u001b[0;34m,\u001b[0m \u001b[0mself\u001b[0m\u001b[0;34m.\u001b[0m\u001b[0mengine\u001b[0m\u001b[0;34m)\u001b[0m\u001b[0;34m\u001b[0m\u001b[0;34m\u001b[0m\u001b[0m\n\u001b[0m\u001b[1;32m   1443\u001b[0m \u001b[0;34m\u001b[0m\u001b[0m\n\u001b[1;32m   1444\u001b[0m     \u001b[0;32mdef\u001b[0m \u001b[0mclose\u001b[0m\u001b[0;34m(\u001b[0m\u001b[0mself\u001b[0m\u001b[0;34m)\u001b[0m \u001b[0;34m->\u001b[0m \u001b[0;32mNone\u001b[0m\u001b[0;34m:\u001b[0m\u001b[0;34m\u001b[0m\u001b[0;34m\u001b[0m\u001b[0m\n",
            "\u001b[0;32m/usr/local/lib/python3.10/dist-packages/pandas/io/parsers/readers.py\u001b[0m in \u001b[0;36m_make_engine\u001b[0;34m(self, f, engine)\u001b[0m\n\u001b[1;32m   1733\u001b[0m                 \u001b[0;32mif\u001b[0m \u001b[0;34m\"b\"\u001b[0m \u001b[0;32mnot\u001b[0m \u001b[0;32min\u001b[0m \u001b[0mmode\u001b[0m\u001b[0;34m:\u001b[0m\u001b[0;34m\u001b[0m\u001b[0;34m\u001b[0m\u001b[0m\n\u001b[1;32m   1734\u001b[0m                     \u001b[0mmode\u001b[0m \u001b[0;34m+=\u001b[0m \u001b[0;34m\"b\"\u001b[0m\u001b[0;34m\u001b[0m\u001b[0;34m\u001b[0m\u001b[0m\n\u001b[0;32m-> 1735\u001b[0;31m             self.handles = get_handle(\n\u001b[0m\u001b[1;32m   1736\u001b[0m                 \u001b[0mf\u001b[0m\u001b[0;34m,\u001b[0m\u001b[0;34m\u001b[0m\u001b[0;34m\u001b[0m\u001b[0m\n\u001b[1;32m   1737\u001b[0m                 \u001b[0mmode\u001b[0m\u001b[0;34m,\u001b[0m\u001b[0;34m\u001b[0m\u001b[0;34m\u001b[0m\u001b[0m\n",
            "\u001b[0;32m/usr/local/lib/python3.10/dist-packages/pandas/io/common.py\u001b[0m in \u001b[0;36mget_handle\u001b[0;34m(path_or_buf, mode, encoding, compression, memory_map, is_text, errors, storage_options)\u001b[0m\n\u001b[1;32m    854\u001b[0m         \u001b[0;32mif\u001b[0m \u001b[0mioargs\u001b[0m\u001b[0;34m.\u001b[0m\u001b[0mencoding\u001b[0m \u001b[0;32mand\u001b[0m \u001b[0;34m\"b\"\u001b[0m \u001b[0;32mnot\u001b[0m \u001b[0;32min\u001b[0m \u001b[0mioargs\u001b[0m\u001b[0;34m.\u001b[0m\u001b[0mmode\u001b[0m\u001b[0;34m:\u001b[0m\u001b[0;34m\u001b[0m\u001b[0;34m\u001b[0m\u001b[0m\n\u001b[1;32m    855\u001b[0m             \u001b[0;31m# Encoding\u001b[0m\u001b[0;34m\u001b[0m\u001b[0;34m\u001b[0m\u001b[0m\n\u001b[0;32m--> 856\u001b[0;31m             handle = open(\n\u001b[0m\u001b[1;32m    857\u001b[0m                 \u001b[0mhandle\u001b[0m\u001b[0;34m,\u001b[0m\u001b[0;34m\u001b[0m\u001b[0;34m\u001b[0m\u001b[0m\n\u001b[1;32m    858\u001b[0m                 \u001b[0mioargs\u001b[0m\u001b[0;34m.\u001b[0m\u001b[0mmode\u001b[0m\u001b[0;34m,\u001b[0m\u001b[0;34m\u001b[0m\u001b[0;34m\u001b[0m\u001b[0m\n",
            "\u001b[0;31mFileNotFoundError\u001b[0m: [Errno 2] No such file or directory: 'nba.csv'"
          ]
        }
      ]
    },
    {
      "cell_type": "code",
      "source": [
        "# reset the index in pandas dataframe\n",
        "# reset_index()\n",
        "import pandas as pd\n",
        "\n",
        "# Define a dictionary containing employee data\n",
        "data = {'Name':['Jai', 'Princi', 'Gaurav', 'Anuj', 'Geeku'],\n",
        "        'Age':[27, 24, 22, 32, 15],\n",
        "        'Address':['Delhi', 'Kanpur', 'Allahabad', 'Kannauj', 'Noida'],\n",
        "        'Qualification':['Msc', 'MA', 'MCA', 'Phd', '10th'] }\n",
        "\n",
        "# Convert the dictionary into DataFrame\n",
        "df = pd.DataFrame(data)\n",
        "\n",
        "print(df)"
      ],
      "metadata": {
        "colab": {
          "base_uri": "https://localhost:8080/"
        },
        "id": "i4QhxBWQY0kO",
        "outputId": "5fac4ea1-1a4e-44d4-b537-0695105ab185"
      },
      "execution_count": 42,
      "outputs": [
        {
          "output_type": "stream",
          "name": "stdout",
          "text": [
            "     Name  Age    Address Qualification\n",
            "0     Jai   27      Delhi           Msc\n",
            "1  Princi   24     Kanpur            MA\n",
            "2  Gaurav   22  Allahabad           MCA\n",
            "3    Anuj   32    Kannauj           Phd\n",
            "4   Geeku   15      Noida          10th\n"
          ]
        }
      ]
    },
    {
      "cell_type": "code",
      "source": [
        "# create index Make own index value without removing Default index\n",
        "import pandas as pd\n",
        "\n",
        "# Define a dictionary containing employee data\n",
        "data = {'Name':['Jai', 'Princi', 'Gaurav', 'Anuj', 'Geeku'],\n",
        "        'Age':[27, 24, 22, 32, 15],\n",
        "        'Address':['Delhi', 'Kanpur', 'Allahabad', 'Kannauj', 'Noida'],\n",
        "        'Qualification':['Msc', 'MA', 'MCA', 'Phd', '10th'] }\n",
        "\n",
        "index = ['a', 'b', 'c', 'd', 'e']\n",
        "\n",
        "# convert dictionary in to dataframe\n",
        "df = pd.DataFrame(data,index)\n",
        "\n",
        "# make our own index as index\n",
        "# in this case default index is exist\n",
        "df.reset_index(inplace = True)\n",
        "\n",
        "print(df)\n"
      ],
      "metadata": {
        "colab": {
          "base_uri": "https://localhost:8080/"
        },
        "id": "XcuYB6w9fj3a",
        "outputId": "794ad1bb-9d64-4c4a-c09e-7b647bc1fafb"
      },
      "execution_count": 55,
      "outputs": [
        {
          "output_type": "stream",
          "name": "stdout",
          "text": [
            "  index    Name  Age    Address Qualification\n",
            "0     a     Jai   27      Delhi           Msc\n",
            "1     b  Princi   24     Kanpur            MA\n",
            "2     c  Gaurav   22  Allahabad           MCA\n",
            "3     d    Anuj   32    Kannauj           Phd\n",
            "4     e   Geeku   15      Noida          10th\n"
          ]
        }
      ]
    },
    {
      "cell_type": "code",
      "source": [
        "# make column of dataframe as index with remove default index\n",
        "import pandas as pd\n",
        "\n",
        "data = {'Name':['Jai', 'Princi', 'Gaurav', 'Anuj', 'Geeku'],\n",
        "        'Age':[27, 24, 22, 32, 15],\n",
        "        'Address':['Delhi', 'Kanpur', 'Allahabad', 'Kannauj', 'Noida'],\n",
        "        'Qualification':['Msc', 'MA', 'MCA', 'Phd', '10th'] }\n",
        "\n",
        "# Create own index\n",
        "index = ['a', 'b', 'c', 'd', 'e']\n",
        "\n",
        "# Convert the dictionary into DataFrame\n",
        "df = pd.DataFrame(data, index)\n",
        "\n",
        "# set index any column of our DF and#\n",
        "# remove default index\n",
        "df.set_index(['Age'],inplace = True)\n",
        "\n",
        "print(df)"
      ],
      "metadata": {
        "colab": {
          "base_uri": "https://localhost:8080/"
        },
        "id": "ap1Z8lh_g4aZ",
        "outputId": "c7391217-a479-43fa-9549-4e8eef0895fa"
      },
      "execution_count": 57,
      "outputs": [
        {
          "output_type": "stream",
          "name": "stdout",
          "text": [
            "       Name    Address Qualification\n",
            "Age                                 \n",
            "27      Jai      Delhi           Msc\n",
            "24   Princi     Kanpur            MA\n",
            "22   Gaurav  Allahabad           MCA\n",
            "32     Anuj    Kannauj           Phd\n",
            "15    Geeku      Noida          10th\n"
          ]
        }
      ]
    },
    {
      "cell_type": "code",
      "source": [
        "# make column of dataframe as index with without removing default index\n",
        "import pandas as pd\n",
        "\n",
        "data = {'Name':['Jai', 'Princi', 'Gaurav', 'Anuj', 'Geeku'],\n",
        "        'Age':[27, 24, 22, 32, 15],\n",
        "        'Address':['Delhi', 'Kanpur', 'Allahabad', 'Kannauj', 'Noida'],\n",
        "        'Qualification':['Msc', 'MA', 'MCA', 'Phd', '10th'] }\n",
        "\n",
        "# Create own index\n",
        "index = ['a', 'b', 'c', 'd', 'e']\n",
        "\n",
        "# Convert the dictionary into DataFrame\n",
        "df = pd.DataFrame(data, index)\n",
        "\n",
        "# set any column as index\n",
        "# here we set age column as index\n",
        "df.set_index(['Age'],inplace =True)\n",
        "\n",
        "# reset index without removing default index\n",
        "df.reset_index(level=['Age'],inplace = True)\n",
        "\n",
        "print(df)"
      ],
      "metadata": {
        "colab": {
          "base_uri": "https://localhost:8080/"
        },
        "id": "oenmyAJGh_nm",
        "outputId": "3e1d7283-99a0-4b36-d8c2-179ad93faa03"
      },
      "execution_count": 61,
      "outputs": [
        {
          "output_type": "stream",
          "name": "stdout",
          "text": [
            "   Age    Name    Address Qualification\n",
            "0   27     Jai      Delhi           Msc\n",
            "1   24  Princi     Kanpur            MA\n",
            "2   22  Gaurav  Allahabad           MCA\n",
            "3   32    Anuj    Kannauj           Phd\n",
            "4   15   Geeku      Noida          10th\n"
          ]
        }
      ]
    }
  ]
}