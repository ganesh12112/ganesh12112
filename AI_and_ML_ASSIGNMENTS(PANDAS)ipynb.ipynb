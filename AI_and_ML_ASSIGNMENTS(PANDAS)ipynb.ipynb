{
  "nbformat": 4,
  "nbformat_minor": 0,
  "metadata": {
    "colab": {
      "provenance": [],
      "authorship_tag": "ABX9TyPON9RfGYeFNC9gpvRaPOtD",
      "include_colab_link": true
    },
    "kernelspec": {
      "name": "python3",
      "display_name": "Python 3"
    },
    "language_info": {
      "name": "python"
    }
  },
  "cells": [
    {
      "cell_type": "markdown",
      "metadata": {
        "id": "view-in-github",
        "colab_type": "text"
      },
      "source": [
        "<a href=\"https://colab.research.google.com/github/ganesh12112/ganesh12112/blob/main/AI_and_ML_ASSIGNMENTS(PANDAS)ipynb.ipynb\" target=\"_parent\"><img src=\"https://colab.research.google.com/assets/colab-badge.svg\" alt=\"Open In Colab\"/></a>"
      ]
    },
    {
      "cell_type": "code",
      "execution_count": null,
      "metadata": {
        "id": "aPzxx0BrbRQl",
        "colab": {
          "base_uri": "https://localhost:8080/"
        },
        "outputId": "401cd9a2-ab4d-4e69-ef3c-6c8bb36223ed"
      },
      "outputs": [
        {
          "output_type": "stream",
          "name": "stdout",
          "text": [
            "             Tag  number\n",
            "0           Geek      25\n",
            "1             is      30\n",
            "2            for      26\n",
            "3  Geeksforgeeks      22\n"
          ]
        }
      ],
      "source": [
        "# create pandas datframe with two dimensional list(python)\n",
        "import pandas as pd\n",
        "\n",
        "# list1\n",
        "lst =[['Geek',25],['is',30],\n",
        "      ['for',26],['Geeksforgeeks',22]]\n",
        "\n",
        "# creation df object with columns specified\n",
        "df = pd.DataFrame(lst,columns = ['Tag','number'])\n",
        "print(df)"
      ]
    },
    {
      "cell_type": "code",
      "source": [
        "# example 2\n",
        "import pandas as pd\n",
        "#list\n",
        "lst = [['tom','reacher',25],['krish','pete',30],\n",
        "       ['nick','wilson',26],['john','williams',22]]\n",
        "\n",
        "df = pd.DataFrame(lst,columns =['FName','LName','Age'],\n",
        "                                        dtype = float)\n",
        "\n",
        "print(df)"
      ],
      "metadata": {
        "colab": {
          "base_uri": "https://localhost:8080/"
        },
        "id": "JdHu6qm_ASrD",
        "outputId": "cf5dc0d9-83c4-480d-8938-217a30e060df"
      },
      "execution_count": null,
      "outputs": [
        {
          "output_type": "stream",
          "name": "stdout",
          "text": [
            "   FName     LName   Age\n",
            "0    tom   reacher  25.0\n",
            "1  krish      pete  30.0\n",
            "2   nick    wilson  26.0\n",
            "3   john  williams  22.0\n"
          ]
        },
        {
          "output_type": "stream",
          "name": "stderr",
          "text": [
            "<ipython-input-9-c8f08df269a5>:7: FutureWarning: Could not cast to float64, falling back to object. This behavior is deprecated. In a future version, when a dtype is passed to 'DataFrame', either all columns will be cast to that dtype, or a TypeError will be raised.\n",
            "  df = pd.DataFrame(lst,columns =['FName','LName','Age'],\n"
          ]
        }
      ]
    },
    {
      "cell_type": "code",
      "source": [
        "# creating Dataframe from dict of narray/lists\n",
        "# what is the meaning of ndarray(or lists)? are they same?\n",
        "#example 1 : we will use pd.DataFrame() function to create the dataframe from the list\n",
        "import pandas as pd\n",
        "\n",
        "# intialise data of lists\n",
        "data = {'category':['Array','Stack','queue'],\n",
        "        'Marks':[20,21,19]}\n",
        "\n",
        "# create DataFrame\n",
        "df = pd.DataFrame(data)\n",
        "\n",
        "print(df)\n"
      ],
      "metadata": {
        "colab": {
          "base_uri": "https://localhost:8080/"
        },
        "id": "gltZ5734CFxf",
        "outputId": "300d4088-edb2-4787-87d0-18e96432c136"
      },
      "execution_count": null,
      "outputs": [
        {
          "output_type": "stream",
          "name": "stdout",
          "text": [
            "  category  Marks\n",
            "0    Array     20\n",
            "1    Stack     21\n",
            "2    queue     19\n"
          ]
        }
      ]
    },
    {
      "cell_type": "code",
      "source": [
        "# example 2\n",
        "import pandas as pd\n",
        "\n",
        "data = {'category':['Array','Stack','Queue'],\n",
        "        'Student_1':[20,21,19],'Student_2':[15,20,14]}\n",
        "\n",
        "df = pd.DataFrame(data)\n",
        "\n",
        "print(df.transpose())"
      ],
      "metadata": {
        "colab": {
          "base_uri": "https://localhost:8080/"
        },
        "id": "hpzGiSuQD6Jk",
        "outputId": "93169feb-6130-4d9f-f213-2022c4ad24ca"
      },
      "execution_count": null,
      "outputs": [
        {
          "output_type": "stream",
          "name": "stdout",
          "text": [
            "               0      1      2\n",
            "category   Array  Stack  Queue\n",
            "Student_1     20     21     19\n",
            "Student_2     15     20     14\n"
          ]
        }
      ]
    },
    {
      "cell_type": "code",
      "source": [
        "# using Pandas DataFrame with the index parameter\n",
        "# example 1:providing index list to dataframe\n",
        "import pandas as pd\n",
        "\n",
        "data = {'Area':['Array','stack','Queue'],\n",
        "        'Student_1':[20,21,19],'Student_2':[15,20,14]}\n",
        "\n",
        "df = pd.DataFrame(data,index =['cat_1','cat_2','cat_3'])\n",
        "\n",
        "print(df)"
      ],
      "metadata": {
        "colab": {
          "base_uri": "https://localhost:8080/"
        },
        "id": "Q5u7xNHsFGyK",
        "outputId": "f4590a0e-45eb-43f9-f8e3-471cc30bc5ea"
      },
      "execution_count": null,
      "outputs": [
        {
          "output_type": "stream",
          "name": "stdout",
          "text": [
            "        Area  Student_1  Student_2\n",
            "cat_1  Array         20         15\n",
            "cat_2  stack         21         20\n",
            "cat_3  Queue         19         14\n"
          ]
        }
      ]
    },
    {
      "cell_type": "code",
      "source": [
        "# Creating Pandas datframe using list of lists\n",
        "# example 1\n",
        "import pandas as pd\n",
        "\n",
        "data = [['geeks',10],['for',15],['Geeks',20]]\n",
        "\n",
        "df = pd.DataFrame(data,columns = ['Name','Age'])\n",
        "\n",
        "print(df)"
      ],
      "metadata": {
        "colab": {
          "base_uri": "https://localhost:8080/"
        },
        "id": "LU60HUGeGk8p",
        "outputId": "176cba5c-bbba-4452-f10e-eba89fa8494f"
      },
      "execution_count": null,
      "outputs": [
        {
          "output_type": "stream",
          "name": "stdout",
          "text": [
            "    Name  Age\n",
            "0  geeks   10\n",
            "1    for   15\n",
            "2  Geeks   20\n"
          ]
        }
      ]
    },
    {
      "cell_type": "code",
      "source": [
        "# example 2\n",
        "import pandas as pd\n",
        "\n",
        "data = [['Ds','Linked_list',10],['DS','Stack',9],['DS','Queue',7],\n",
        "        ['Algo','Greedy',8],['Algo','DP',6],['Algo','BackTrack',5]]\n",
        "\n",
        "df = pd.DataFrame(data,columns = ['Category','Name','Marks'])\n",
        "\n",
        "print(df)"
      ],
      "metadata": {
        "colab": {
          "base_uri": "https://localhost:8080/"
        },
        "id": "ARHTjvqcH4om",
        "outputId": "18ac44af-1d4e-4f95-8ca6-4f5e6feb9cad"
      },
      "execution_count": null,
      "outputs": [
        {
          "output_type": "stream",
          "name": "stdout",
          "text": [
            "  Category         Name  Marks\n",
            "0       Ds  Linked_list     10\n",
            "1       DS        Stack      9\n",
            "2       DS        Queue      7\n",
            "3     Algo       Greedy      8\n",
            "4     Algo           DP      6\n",
            "5     Algo    BackTrack      5\n"
          ]
        }
      ]
    },
    {
      "cell_type": "code",
      "source": [
        "# Defining column names using DataFrame.columns() function\n",
        "import pandas as pd\n",
        "\n",
        "data = [[1,5,10],[2,6,9],[3,7,8]]\n",
        "# create the pandas Dataframe\n",
        "df = pd.DataFrame(data)\n",
        "\n",
        "# specifying coulmn names\n",
        "df.coulmns = ['col_1','col_2','col_3']\n",
        "\n",
        "# print dataframe\n",
        "print(df,\"\\n\")\n",
        "\n",
        "df = df.transpose()\n",
        "print(\"Transpose of above datframe is-\\n\",df)"
      ],
      "metadata": {
        "colab": {
          "base_uri": "https://localhost:8080/"
        },
        "id": "pYLmGEHjJTH0",
        "outputId": "60c2a228-f8bb-433c-ce45-b5ce310203f2"
      },
      "execution_count": null,
      "outputs": [
        {
          "output_type": "stream",
          "name": "stdout",
          "text": [
            "   0  1   2\n",
            "0  1  5  10\n",
            "1  2  6   9\n",
            "2  3  7   8 \n",
            "\n",
            "Transpose of above datframe is-\n",
            "     0  1  2\n",
            "0   1  2  3\n",
            "1   5  6  7\n",
            "2  10  9  8\n"
          ]
        },
        {
          "output_type": "stream",
          "name": "stderr",
          "text": [
            "<ipython-input-1-e9f36337a05f>:9: UserWarning: Pandas doesn't allow columns to be created via a new attribute name - see https://pandas.pydata.org/pandas-docs/stable/indexing.html#attribute-access\n",
            "  df.coulmns = ['col_1','col_2','col_3']\n"
          ]
        }
      ]
    },
    {
      "cell_type": "code",
      "source": [
        "# Creating the Pandas DataFrame using the list of tuples\n",
        "# example 1:we will pass to the dataframe constructor which will return a pandas dataframe\n",
        "import pandas as pd\n",
        "\n",
        "# data in the the form of list of tuples\n",
        "data = [('peter',18,7),\n",
        "      ('ganesh',34,8),\n",
        "      ('are',45,4),\n",
        "      ('raghu',23,6),\n",
        "      ('shreya',20,3)]\n",
        "\n",
        "# create dataframe using data\n",
        "df = pd.DataFrame(data,columns = ['Name','Age','Score'])\n",
        "\n",
        "print(df)"
      ],
      "metadata": {
        "colab": {
          "base_uri": "https://localhost:8080/"
        },
        "id": "WhvvjRqvZiR5",
        "outputId": "513288e0-06fe-4482-a7c9-e009d7595e6e"
      },
      "execution_count": null,
      "outputs": [
        {
          "output_type": "stream",
          "name": "stdout",
          "text": [
            "     Name  Age  Score\n",
            "0   peter   18      7\n",
            "1  ganesh   34      8\n",
            "2     are   45      4\n",
            "3   raghu   23      6\n",
            "4  shreya   20      3\n"
          ]
        }
      ]
    },
    {
      "cell_type": "code",
      "source": [
        "# using from_records() method\n",
        "# example 2 :df.from_records()\n",
        "\n",
        "import pandas as pd\n",
        "data = [('peter',18,7),\n",
        "      ('ganesh',34,8),\n",
        "      ('are',45,4),\n",
        "      ('raghu',23,6),\n",
        "      ('shreya',20,3)]\n",
        "\n",
        "df = pd.DataFrame.from_records(data,columns =['Team','Age','Score'])\n",
        "\n",
        "print(df)"
      ],
      "metadata": {
        "colab": {
          "base_uri": "https://localhost:8080/"
        },
        "id": "_qdb7LyqcM43",
        "outputId": "b20362f3-9276-48f6-ae45-22ab4e327392"
      },
      "execution_count": null,
      "outputs": [
        {
          "output_type": "stream",
          "name": "stdout",
          "text": [
            "     Team  Age  Score\n",
            "0   peter   18      7\n",
            "1  ganesh   34      8\n",
            "2     are   45      4\n",
            "3   raghu   23      6\n",
            "4  shreya   20      3\n"
          ]
        }
      ]
    },
    {
      "cell_type": "code",
      "source": [
        "# using df.pivot() function\n",
        "\n",
        "import pandas as pd\n",
        "data = [('peter',18,7),\n",
        "      ('ganesh',34,8),\n",
        "      ('are',45,4),\n",
        "      ('raghu',23,6),\n",
        "      ('shreya',20,3)]\n",
        "\n",
        "df = pd.DataFrame.from_records(data,columns =['Team','Age','Score'])\n",
        "\n",
        "a = df.pivot('Team','Score','Age')\n",
        "\n",
        "print(a)"
      ],
      "metadata": {
        "colab": {
          "base_uri": "https://localhost:8080/"
        },
        "id": "IAVVSfRddEep",
        "outputId": "bb51248c-6edf-4409-f868-d27ec0900a8a"
      },
      "execution_count": null,
      "outputs": [
        {
          "output_type": "stream",
          "name": "stdout",
          "text": [
            "Score      3     4     6     7     8\n",
            "Team                                \n",
            "are      NaN  45.0   NaN   NaN   NaN\n",
            "ganesh   NaN   NaN   NaN   NaN  34.0\n",
            "peter    NaN   NaN   NaN  18.0   NaN\n",
            "raghu    NaN   NaN  23.0   NaN   NaN\n",
            "shreya  20.0   NaN   NaN   NaN   NaN\n"
          ]
        },
        {
          "output_type": "stream",
          "name": "stderr",
          "text": [
            "<ipython-input-7-26b53fb5e96d>:12: FutureWarning: In a future version of pandas all arguments of DataFrame.pivot will be keyword-only.\n",
            "  a = df.pivot('Team','Score','Age')\n"
          ]
        }
      ]
    },
    {
      "cell_type": "code",
      "source": [
        "# create pandas dataframe from Lists of Dicts\n",
        "# Method 1:Convert a list of dictionaries to a pandas Dataframe using from_records()\n",
        "# from_records() it converts a structured ndarrray,tuple or dictsequence,or Dataframe in to Dataframe object\n",
        "import pandas as pd\n",
        "data = [{'ganesh':'dataframe','is':'using','workalcoholic':'list'},\n",
        "        {'ganesh':20,'is':10,'workalcoholic':30}]\n",
        "\n",
        "df = pd.DataFrame.from_records(data,index=['1','2'])\n",
        "print(df)"
      ],
      "metadata": {
        "colab": {
          "base_uri": "https://localhost:8080/"
        },
        "id": "K9wLpps7dvQR",
        "outputId": "d6ac3b66-97dc-43ed-e542-6bbb19567881"
      },
      "execution_count": null,
      "outputs": [
        {
          "output_type": "stream",
          "name": "stdout",
          "text": [
            "      ganesh     is workalcoholic\n",
            "1  dataframe  using          list\n",
            "2         20     10            30\n"
          ]
        }
      ]
    },
    {
      "cell_type": "code",
      "source": [
        "# Method 2:Convert a list of dictionaries to a pandas DataFrame using pd.DataFrame.from_dict()\n",
        "import pandas as pd\n",
        "data = [{'ganesh':'dataframe','is':'using','workalcoholic':'list'},\n",
        "        {'ganesh':20,'is':10,'workalcoholic':30}]\n",
        "\n",
        "df = pd.DataFrame.from_dict(data)\n",
        "print(df)"
      ],
      "metadata": {
        "colab": {
          "base_uri": "https://localhost:8080/"
        },
        "id": "OdUAVlnagR1Q",
        "outputId": "cd95c25a-ff32-4f06-d5dc-46ccaca348a9"
      },
      "execution_count": null,
      "outputs": [
        {
          "output_type": "stream",
          "name": "stdout",
          "text": [
            "      ganesh     is workalcoholic\n",
            "0  dataframe  using          list\n",
            "1         20     10            30\n"
          ]
        }
      ]
    },
    {
      "cell_type": "code",
      "source": [
        "# Method 3:  Converts a list of dictionaries to pandas DataFrame using pd.json_normalize\n",
        "# json_normalize()\n",
        "import pandas as pd\n",
        "data = [{'ganesh':'dataframe','is':'using','workalcoholic':'list'},\n",
        "        {'ganesh':20,'is':10,'workalcoholic':30}]\n",
        "\n",
        "df = pd.json_normalize(data)\n",
        "print(df)"
      ],
      "metadata": {
        "colab": {
          "base_uri": "https://localhost:8080/"
        },
        "id": "mxwWE1Aui-MQ",
        "outputId": "5470f46f-fca4-4df7-814d-69fa1e635ce1"
      },
      "execution_count": null,
      "outputs": [
        {
          "output_type": "stream",
          "name": "stdout",
          "text": [
            "      ganesh     is workalcoholic\n",
            "0  dataframe  using          list\n",
            "1         20     10            30\n"
          ]
        }
      ]
    },
    {
      "cell_type": "code",
      "source": [
        "# method 4: pd.DataFrame()"
      ],
      "metadata": {
        "id": "B0_WithTjmH4"
      },
      "execution_count": null,
      "outputs": []
    },
    {
      "cell_type": "code",
      "source": [
        "# example2:\n",
        "# creating a dataframe by explicitly providing user defined values for both index and columns\n",
        "import pandas as pd\n",
        "\n",
        "data = [{'ganesh':'dataframe','is':'using','workalcoholic':'list'},\n",
        "        {'ganesh':20,'is':10,'workalcoholic':30}]\n",
        "#with two column indices ,values same\n",
        "# as Dictionary keys\n",
        "df1 = pd.DataFrame(data,index = ['ind1','ind2'],\n",
        "                       columns = ['ganesh','is'])\n",
        "\n",
        "# with two column indices with\n",
        "# one index with other name\n",
        "df2 = pd.DataFrame(data,index=['index','indy'])\n",
        "\n",
        "print(df1,\"\\n\")\n",
        "\n",
        "print(df2)\n",
        "\n",
        "\n"
      ],
      "metadata": {
        "colab": {
          "base_uri": "https://localhost:8080/"
        },
        "id": "bL3NAVAQkBJn",
        "outputId": "91e2ad16-8277-4f28-feca-cb0bc98bde09"
      },
      "execution_count": null,
      "outputs": [
        {
          "output_type": "stream",
          "name": "stdout",
          "text": [
            "         ganesh     is\n",
            "ind1  dataframe  using\n",
            "ind2         20     10 \n",
            "\n",
            "          ganesh     is workalcoholic\n",
            "index  dataframe  using          list\n",
            "indy          20     10            30\n"
          ]
        }
      ]
    },
    {
      "cell_type": "code",
      "source": [
        "# convert a list of nested dictionary in to Pandas DataFrame\n",
        "# step1 :creating a list of nested dictionary\n",
        "import pandas as pd\n",
        "\n",
        "# list of nested dictinary intialization\n",
        "list = [{\"student\":[{\"exam\":90,\"Grade\":\"a\"},\n",
        "                    {\"exam\":90,\"Grade\":\"a\"},\n",
        "                    {\"exam\":90,\"Grade\":\"a\"},\n",
        "                  ],\n",
        "         \"Name\":\"paras Jain\"\n",
        "         },\n",
        "        {\"student\":[{\"exam\":89,\"Grade\":\"a\"},\n",
        "                    {\"exam\":89,\"Grade\":\"a\"}\n",
        "                    ],\n",
        "         \"Name\":\"chunky pandey\"\n",
        "         }\n",
        "     ]\n",
        "\n",
        "print(list)"
      ],
      "metadata": {
        "colab": {
          "base_uri": "https://localhost:8080/"
        },
        "id": "lLfPuoUgmakI",
        "outputId": "a7d48f3b-0479-43a6-be7f-c2fcead01af4"
      },
      "execution_count": null,
      "outputs": [
        {
          "output_type": "stream",
          "name": "stdout",
          "text": [
            "[{'student': [{'exam': 90, 'Grade': 'a'}, {'exam': 90, 'Grade': 'a'}, {'exam': 90, 'Grade': 'a'}], 'Name': 'paras Jain'}, {'student': [{'exam': 89, 'Grade': 'a'}, {'exam': 89, 'Grade': 'a'}], 'Name': 'chunky pandey'}]\n"
          ]
        }
      ]
    },
    {
      "cell_type": "markdown",
      "source": [],
      "metadata": {
        "id": "WmCh0TKRc_FZ"
      }
    },
    {
      "cell_type": "code",
      "source": [
        "# step 2:Adding dict values to rows\n",
        "# rows list intialization\n",
        "rows = []\n",
        "# appending rows\n",
        "for data in list:\n",
        "  data_row = data['student']\n",
        "  time = data['Name']\n",
        "\n",
        "  for row in data_row:\n",
        "    row['Name'] = time\n",
        "    rows.append(row)\n",
        "\n",
        "# using dataframe\n",
        "df = pd.DataFrame(rows)\n",
        "\n",
        "print(df)"
      ],
      "metadata": {
        "id": "6gCj2UVhpRjP",
        "colab": {
          "base_uri": "https://localhost:8080/"
        },
        "outputId": "35af3591-fee4-4dcb-d6f5-80a529369412"
      },
      "execution_count": null,
      "outputs": [
        {
          "output_type": "stream",
          "name": "stdout",
          "text": [
            "   exam Grade           Name\n",
            "0    90     a     paras Jain\n",
            "1    90     a     paras Jain\n",
            "2    90     a     paras Jain\n",
            "3    89     a  chunky pandey\n",
            "4    89     a  chunky pandey\n"
          ]
        }
      ]
    },
    {
      "cell_type": "code",
      "source": [
        "# step3 :pivoting DataFrame and assigning column names\n",
        "df = df.pivot_table(index = 'Name',columns = ['Grade'],\n",
        "                         values = ['exam']).reset_index()\n",
        "\n",
        "# defining columns\n",
        "df.columns =['Name','Maths','Physics','Chemistry']\n",
        "\n",
        "# print dataframe\n",
        "print(df.coulmns)"
      ],
      "metadata": {
        "colab": {
          "base_uri": "https://localhost:8080/",
          "height": 442
        },
        "id": "LnVhUdYgtKtq",
        "outputId": "ec592327-2381-42ce-e214-967dd9dad65d"
      },
      "execution_count": null,
      "outputs": [
        {
          "output_type": "error",
          "ename": "ValueError",
          "evalue": "ignored",
          "traceback": [
            "\u001b[0;31m---------------------------------------------------------------------------\u001b[0m",
            "\u001b[0;31mValueError\u001b[0m                                Traceback (most recent call last)",
            "\u001b[0;32m<ipython-input-15-d8e49bed3e65>\u001b[0m in \u001b[0;36m<cell line: 6>\u001b[0;34m()\u001b[0m\n\u001b[1;32m      4\u001b[0m \u001b[0;34m\u001b[0m\u001b[0m\n\u001b[1;32m      5\u001b[0m \u001b[0;31m# defining columns\u001b[0m\u001b[0;34m\u001b[0m\u001b[0;34m\u001b[0m\u001b[0m\n\u001b[0;32m----> 6\u001b[0;31m \u001b[0mdf\u001b[0m\u001b[0;34m.\u001b[0m\u001b[0mcolumns\u001b[0m \u001b[0;34m=\u001b[0m\u001b[0;34m[\u001b[0m\u001b[0;34m'Name'\u001b[0m\u001b[0;34m,\u001b[0m\u001b[0;34m'Maths'\u001b[0m\u001b[0;34m,\u001b[0m\u001b[0;34m'Physics'\u001b[0m\u001b[0;34m,\u001b[0m\u001b[0;34m'Chemistry'\u001b[0m\u001b[0;34m]\u001b[0m\u001b[0;34m\u001b[0m\u001b[0;34m\u001b[0m\u001b[0m\n\u001b[0m\u001b[1;32m      7\u001b[0m \u001b[0;34m\u001b[0m\u001b[0m\n\u001b[1;32m      8\u001b[0m \u001b[0;31m# print dataframe\u001b[0m\u001b[0;34m\u001b[0m\u001b[0;34m\u001b[0m\u001b[0m\n",
            "\u001b[0;32m/usr/local/lib/python3.10/dist-packages/pandas/core/generic.py\u001b[0m in \u001b[0;36m__setattr__\u001b[0;34m(self, name, value)\u001b[0m\n\u001b[1;32m   5913\u001b[0m         \u001b[0;32mtry\u001b[0m\u001b[0;34m:\u001b[0m\u001b[0;34m\u001b[0m\u001b[0;34m\u001b[0m\u001b[0m\n\u001b[1;32m   5914\u001b[0m             \u001b[0mobject\u001b[0m\u001b[0;34m.\u001b[0m\u001b[0m__getattribute__\u001b[0m\u001b[0;34m(\u001b[0m\u001b[0mself\u001b[0m\u001b[0;34m,\u001b[0m \u001b[0mname\u001b[0m\u001b[0;34m)\u001b[0m\u001b[0;34m\u001b[0m\u001b[0;34m\u001b[0m\u001b[0m\n\u001b[0;32m-> 5915\u001b[0;31m             \u001b[0;32mreturn\u001b[0m \u001b[0mobject\u001b[0m\u001b[0;34m.\u001b[0m\u001b[0m__setattr__\u001b[0m\u001b[0;34m(\u001b[0m\u001b[0mself\u001b[0m\u001b[0;34m,\u001b[0m \u001b[0mname\u001b[0m\u001b[0;34m,\u001b[0m \u001b[0mvalue\u001b[0m\u001b[0;34m)\u001b[0m\u001b[0;34m\u001b[0m\u001b[0;34m\u001b[0m\u001b[0m\n\u001b[0m\u001b[1;32m   5916\u001b[0m         \u001b[0;32mexcept\u001b[0m \u001b[0mAttributeError\u001b[0m\u001b[0;34m:\u001b[0m\u001b[0;34m\u001b[0m\u001b[0;34m\u001b[0m\u001b[0m\n\u001b[1;32m   5917\u001b[0m             \u001b[0;32mpass\u001b[0m\u001b[0;34m\u001b[0m\u001b[0;34m\u001b[0m\u001b[0m\n",
            "\u001b[0;32m/usr/local/lib/python3.10/dist-packages/pandas/_libs/properties.pyx\u001b[0m in \u001b[0;36mpandas._libs.properties.AxisProperty.__set__\u001b[0;34m()\u001b[0m\n",
            "\u001b[0;32m/usr/local/lib/python3.10/dist-packages/pandas/core/generic.py\u001b[0m in \u001b[0;36m_set_axis\u001b[0;34m(self, axis, labels)\u001b[0m\n\u001b[1;32m    821\u001b[0m     \u001b[0;32mdef\u001b[0m \u001b[0m_set_axis\u001b[0m\u001b[0;34m(\u001b[0m\u001b[0mself\u001b[0m\u001b[0;34m,\u001b[0m \u001b[0maxis\u001b[0m\u001b[0;34m:\u001b[0m \u001b[0mint\u001b[0m\u001b[0;34m,\u001b[0m \u001b[0mlabels\u001b[0m\u001b[0;34m:\u001b[0m \u001b[0mAnyArrayLike\u001b[0m \u001b[0;34m|\u001b[0m \u001b[0mlist\u001b[0m\u001b[0;34m)\u001b[0m \u001b[0;34m->\u001b[0m \u001b[0;32mNone\u001b[0m\u001b[0;34m:\u001b[0m\u001b[0;34m\u001b[0m\u001b[0;34m\u001b[0m\u001b[0m\n\u001b[1;32m    822\u001b[0m         \u001b[0mlabels\u001b[0m \u001b[0;34m=\u001b[0m \u001b[0mensure_index\u001b[0m\u001b[0;34m(\u001b[0m\u001b[0mlabels\u001b[0m\u001b[0;34m)\u001b[0m\u001b[0;34m\u001b[0m\u001b[0;34m\u001b[0m\u001b[0m\n\u001b[0;32m--> 823\u001b[0;31m         \u001b[0mself\u001b[0m\u001b[0;34m.\u001b[0m\u001b[0m_mgr\u001b[0m\u001b[0;34m.\u001b[0m\u001b[0mset_axis\u001b[0m\u001b[0;34m(\u001b[0m\u001b[0maxis\u001b[0m\u001b[0;34m,\u001b[0m \u001b[0mlabels\u001b[0m\u001b[0;34m)\u001b[0m\u001b[0;34m\u001b[0m\u001b[0;34m\u001b[0m\u001b[0m\n\u001b[0m\u001b[1;32m    824\u001b[0m         \u001b[0mself\u001b[0m\u001b[0;34m.\u001b[0m\u001b[0m_clear_item_cache\u001b[0m\u001b[0;34m(\u001b[0m\u001b[0;34m)\u001b[0m\u001b[0;34m\u001b[0m\u001b[0;34m\u001b[0m\u001b[0m\n\u001b[1;32m    825\u001b[0m \u001b[0;34m\u001b[0m\u001b[0m\n",
            "\u001b[0;32m/usr/local/lib/python3.10/dist-packages/pandas/core/internals/managers.py\u001b[0m in \u001b[0;36mset_axis\u001b[0;34m(self, axis, new_labels)\u001b[0m\n\u001b[1;32m    228\u001b[0m     \u001b[0;32mdef\u001b[0m \u001b[0mset_axis\u001b[0m\u001b[0;34m(\u001b[0m\u001b[0mself\u001b[0m\u001b[0;34m,\u001b[0m \u001b[0maxis\u001b[0m\u001b[0;34m:\u001b[0m \u001b[0mint\u001b[0m\u001b[0;34m,\u001b[0m \u001b[0mnew_labels\u001b[0m\u001b[0;34m:\u001b[0m \u001b[0mIndex\u001b[0m\u001b[0;34m)\u001b[0m \u001b[0;34m->\u001b[0m \u001b[0;32mNone\u001b[0m\u001b[0;34m:\u001b[0m\u001b[0;34m\u001b[0m\u001b[0;34m\u001b[0m\u001b[0m\n\u001b[1;32m    229\u001b[0m         \u001b[0;31m# Caller is responsible for ensuring we have an Index object.\u001b[0m\u001b[0;34m\u001b[0m\u001b[0;34m\u001b[0m\u001b[0m\n\u001b[0;32m--> 230\u001b[0;31m         \u001b[0mself\u001b[0m\u001b[0;34m.\u001b[0m\u001b[0m_validate_set_axis\u001b[0m\u001b[0;34m(\u001b[0m\u001b[0maxis\u001b[0m\u001b[0;34m,\u001b[0m \u001b[0mnew_labels\u001b[0m\u001b[0;34m)\u001b[0m\u001b[0;34m\u001b[0m\u001b[0;34m\u001b[0m\u001b[0m\n\u001b[0m\u001b[1;32m    231\u001b[0m         \u001b[0mself\u001b[0m\u001b[0;34m.\u001b[0m\u001b[0maxes\u001b[0m\u001b[0;34m[\u001b[0m\u001b[0maxis\u001b[0m\u001b[0;34m]\u001b[0m \u001b[0;34m=\u001b[0m \u001b[0mnew_labels\u001b[0m\u001b[0;34m\u001b[0m\u001b[0;34m\u001b[0m\u001b[0m\n\u001b[1;32m    232\u001b[0m \u001b[0;34m\u001b[0m\u001b[0m\n",
            "\u001b[0;32m/usr/local/lib/python3.10/dist-packages/pandas/core/internals/base.py\u001b[0m in \u001b[0;36m_validate_set_axis\u001b[0;34m(self, axis, new_labels)\u001b[0m\n\u001b[1;32m     68\u001b[0m \u001b[0;34m\u001b[0m\u001b[0m\n\u001b[1;32m     69\u001b[0m         \u001b[0;32melif\u001b[0m \u001b[0mnew_len\u001b[0m \u001b[0;34m!=\u001b[0m \u001b[0mold_len\u001b[0m\u001b[0;34m:\u001b[0m\u001b[0;34m\u001b[0m\u001b[0;34m\u001b[0m\u001b[0m\n\u001b[0;32m---> 70\u001b[0;31m             raise ValueError(\n\u001b[0m\u001b[1;32m     71\u001b[0m                 \u001b[0;34mf\"Length mismatch: Expected axis has {old_len} elements, new \"\u001b[0m\u001b[0;34m\u001b[0m\u001b[0;34m\u001b[0m\u001b[0m\n\u001b[1;32m     72\u001b[0m                 \u001b[0;34mf\"values have {new_len} elements\"\u001b[0m\u001b[0;34m\u001b[0m\u001b[0;34m\u001b[0m\u001b[0m\n",
            "\u001b[0;31mValueError\u001b[0m: Length mismatch: Expected axis has 2 elements, new values have 4 elements"
          ]
        }
      ]
    },
    {
      "cell_type": "code",
      "source": [
        "# convert a list of nested dictionary in to Pandas DataFrame\n",
        "# step1 :creating a list of nested dictionary\n",
        "import pandas as pd\n",
        "\n",
        "# list of nested dictinary intialization\n",
        "list = [{\"student\":[{\"Exam\":90,\"Grade\":\"a\"},\n",
        "                    {\"Exam\":90,\"Grade\":\"a\"},\n",
        "                    {\"Exam\":90,\"Grade\":\"a\"},\n",
        "                  ],\n",
        "         \"Name\":\"paras Jain\"\n",
        "         },\n",
        "        {\"student\":[{\"Exam\":89,\"Grade\":\"a\"},\n",
        "                    {\"Exam\":89,\"Grade\":\"a\"}\n",
        "                    ],\n",
        "         \"Name\":\"chunky pandey\"\n",
        "         }\n",
        "     ]\n",
        "\n",
        "\n",
        "# step 2:Adding dict values to rows\n",
        "# rows list intialization\n",
        "rows = []\n",
        "# appending rows\n",
        "for data in list:\n",
        "  data_row = data['student']\n",
        "  time = data['Name']\n",
        "\n",
        "  for row in data_row:\n",
        "    row['Name'] = time\n",
        "    rows.append(row)\n",
        "\n",
        "# using dataframe\n",
        "df = pd.DataFrame(rows)\n",
        "\n",
        "# step3 :pivoting DataFrame and assigning column names\n",
        "df = df.pivot_table(index = 'Name',columns = ['Grade'],\n",
        "                         values = ['Exam']).reset_index()\n",
        "\n",
        "# defining columns\n",
        "df.columns =['Name', 'Maths', 'Physics', 'Chemistry']\n",
        "\n",
        "# print dataframe\n",
        "print(df)"
      ],
      "metadata": {
        "colab": {
          "base_uri": "https://localhost:8080/",
          "height": 442
        },
        "id": "S38xsVbVwt09",
        "outputId": "8af2aa36-ba7b-49b2-8a41-0ea6b3123da4"
      },
      "execution_count": null,
      "outputs": [
        {
          "output_type": "error",
          "ename": "ValueError",
          "evalue": "ignored",
          "traceback": [
            "\u001b[0;31m---------------------------------------------------------------------------\u001b[0m",
            "\u001b[0;31mValueError\u001b[0m                                Traceback (most recent call last)",
            "\u001b[0;32m<ipython-input-21-13737c0b9066>\u001b[0m in \u001b[0;36m<cell line: 40>\u001b[0;34m()\u001b[0m\n\u001b[1;32m     38\u001b[0m \u001b[0;34m\u001b[0m\u001b[0m\n\u001b[1;32m     39\u001b[0m \u001b[0;31m# defining columns\u001b[0m\u001b[0;34m\u001b[0m\u001b[0;34m\u001b[0m\u001b[0m\n\u001b[0;32m---> 40\u001b[0;31m \u001b[0mdf\u001b[0m\u001b[0;34m.\u001b[0m\u001b[0mcolumns\u001b[0m \u001b[0;34m=\u001b[0m\u001b[0;34m[\u001b[0m\u001b[0;34m'Name'\u001b[0m\u001b[0;34m,\u001b[0m \u001b[0;34m'Maths'\u001b[0m\u001b[0;34m,\u001b[0m \u001b[0;34m'Physics'\u001b[0m\u001b[0;34m,\u001b[0m \u001b[0;34m'Chemistry'\u001b[0m\u001b[0;34m]\u001b[0m\u001b[0;34m\u001b[0m\u001b[0;34m\u001b[0m\u001b[0m\n\u001b[0m\u001b[1;32m     41\u001b[0m \u001b[0;34m\u001b[0m\u001b[0m\n\u001b[1;32m     42\u001b[0m \u001b[0;31m# print dataframe\u001b[0m\u001b[0;34m\u001b[0m\u001b[0;34m\u001b[0m\u001b[0m\n",
            "\u001b[0;32m/usr/local/lib/python3.10/dist-packages/pandas/core/generic.py\u001b[0m in \u001b[0;36m__setattr__\u001b[0;34m(self, name, value)\u001b[0m\n\u001b[1;32m   5913\u001b[0m         \u001b[0;32mtry\u001b[0m\u001b[0;34m:\u001b[0m\u001b[0;34m\u001b[0m\u001b[0;34m\u001b[0m\u001b[0m\n\u001b[1;32m   5914\u001b[0m             \u001b[0mobject\u001b[0m\u001b[0;34m.\u001b[0m\u001b[0m__getattribute__\u001b[0m\u001b[0;34m(\u001b[0m\u001b[0mself\u001b[0m\u001b[0;34m,\u001b[0m \u001b[0mname\u001b[0m\u001b[0;34m)\u001b[0m\u001b[0;34m\u001b[0m\u001b[0;34m\u001b[0m\u001b[0m\n\u001b[0;32m-> 5915\u001b[0;31m             \u001b[0;32mreturn\u001b[0m \u001b[0mobject\u001b[0m\u001b[0;34m.\u001b[0m\u001b[0m__setattr__\u001b[0m\u001b[0;34m(\u001b[0m\u001b[0mself\u001b[0m\u001b[0;34m,\u001b[0m \u001b[0mname\u001b[0m\u001b[0;34m,\u001b[0m \u001b[0mvalue\u001b[0m\u001b[0;34m)\u001b[0m\u001b[0;34m\u001b[0m\u001b[0;34m\u001b[0m\u001b[0m\n\u001b[0m\u001b[1;32m   5916\u001b[0m         \u001b[0;32mexcept\u001b[0m \u001b[0mAttributeError\u001b[0m\u001b[0;34m:\u001b[0m\u001b[0;34m\u001b[0m\u001b[0;34m\u001b[0m\u001b[0m\n\u001b[1;32m   5917\u001b[0m             \u001b[0;32mpass\u001b[0m\u001b[0;34m\u001b[0m\u001b[0;34m\u001b[0m\u001b[0m\n",
            "\u001b[0;32m/usr/local/lib/python3.10/dist-packages/pandas/_libs/properties.pyx\u001b[0m in \u001b[0;36mpandas._libs.properties.AxisProperty.__set__\u001b[0;34m()\u001b[0m\n",
            "\u001b[0;32m/usr/local/lib/python3.10/dist-packages/pandas/core/generic.py\u001b[0m in \u001b[0;36m_set_axis\u001b[0;34m(self, axis, labels)\u001b[0m\n\u001b[1;32m    821\u001b[0m     \u001b[0;32mdef\u001b[0m \u001b[0m_set_axis\u001b[0m\u001b[0;34m(\u001b[0m\u001b[0mself\u001b[0m\u001b[0;34m,\u001b[0m \u001b[0maxis\u001b[0m\u001b[0;34m:\u001b[0m \u001b[0mint\u001b[0m\u001b[0;34m,\u001b[0m \u001b[0mlabels\u001b[0m\u001b[0;34m:\u001b[0m \u001b[0mAnyArrayLike\u001b[0m \u001b[0;34m|\u001b[0m \u001b[0mlist\u001b[0m\u001b[0;34m)\u001b[0m \u001b[0;34m->\u001b[0m \u001b[0;32mNone\u001b[0m\u001b[0;34m:\u001b[0m\u001b[0;34m\u001b[0m\u001b[0;34m\u001b[0m\u001b[0m\n\u001b[1;32m    822\u001b[0m         \u001b[0mlabels\u001b[0m \u001b[0;34m=\u001b[0m \u001b[0mensure_index\u001b[0m\u001b[0;34m(\u001b[0m\u001b[0mlabels\u001b[0m\u001b[0;34m)\u001b[0m\u001b[0;34m\u001b[0m\u001b[0;34m\u001b[0m\u001b[0m\n\u001b[0;32m--> 823\u001b[0;31m         \u001b[0mself\u001b[0m\u001b[0;34m.\u001b[0m\u001b[0m_mgr\u001b[0m\u001b[0;34m.\u001b[0m\u001b[0mset_axis\u001b[0m\u001b[0;34m(\u001b[0m\u001b[0maxis\u001b[0m\u001b[0;34m,\u001b[0m \u001b[0mlabels\u001b[0m\u001b[0;34m)\u001b[0m\u001b[0;34m\u001b[0m\u001b[0;34m\u001b[0m\u001b[0m\n\u001b[0m\u001b[1;32m    824\u001b[0m         \u001b[0mself\u001b[0m\u001b[0;34m.\u001b[0m\u001b[0m_clear_item_cache\u001b[0m\u001b[0;34m(\u001b[0m\u001b[0;34m)\u001b[0m\u001b[0;34m\u001b[0m\u001b[0;34m\u001b[0m\u001b[0m\n\u001b[1;32m    825\u001b[0m \u001b[0;34m\u001b[0m\u001b[0m\n",
            "\u001b[0;32m/usr/local/lib/python3.10/dist-packages/pandas/core/internals/managers.py\u001b[0m in \u001b[0;36mset_axis\u001b[0;34m(self, axis, new_labels)\u001b[0m\n\u001b[1;32m    228\u001b[0m     \u001b[0;32mdef\u001b[0m \u001b[0mset_axis\u001b[0m\u001b[0;34m(\u001b[0m\u001b[0mself\u001b[0m\u001b[0;34m,\u001b[0m \u001b[0maxis\u001b[0m\u001b[0;34m:\u001b[0m \u001b[0mint\u001b[0m\u001b[0;34m,\u001b[0m \u001b[0mnew_labels\u001b[0m\u001b[0;34m:\u001b[0m \u001b[0mIndex\u001b[0m\u001b[0;34m)\u001b[0m \u001b[0;34m->\u001b[0m \u001b[0;32mNone\u001b[0m\u001b[0;34m:\u001b[0m\u001b[0;34m\u001b[0m\u001b[0;34m\u001b[0m\u001b[0m\n\u001b[1;32m    229\u001b[0m         \u001b[0;31m# Caller is responsible for ensuring we have an Index object.\u001b[0m\u001b[0;34m\u001b[0m\u001b[0;34m\u001b[0m\u001b[0m\n\u001b[0;32m--> 230\u001b[0;31m         \u001b[0mself\u001b[0m\u001b[0;34m.\u001b[0m\u001b[0m_validate_set_axis\u001b[0m\u001b[0;34m(\u001b[0m\u001b[0maxis\u001b[0m\u001b[0;34m,\u001b[0m \u001b[0mnew_labels\u001b[0m\u001b[0;34m)\u001b[0m\u001b[0;34m\u001b[0m\u001b[0;34m\u001b[0m\u001b[0m\n\u001b[0m\u001b[1;32m    231\u001b[0m         \u001b[0mself\u001b[0m\u001b[0;34m.\u001b[0m\u001b[0maxes\u001b[0m\u001b[0;34m[\u001b[0m\u001b[0maxis\u001b[0m\u001b[0;34m]\u001b[0m \u001b[0;34m=\u001b[0m \u001b[0mnew_labels\u001b[0m\u001b[0;34m\u001b[0m\u001b[0;34m\u001b[0m\u001b[0m\n\u001b[1;32m    232\u001b[0m \u001b[0;34m\u001b[0m\u001b[0m\n",
            "\u001b[0;32m/usr/local/lib/python3.10/dist-packages/pandas/core/internals/base.py\u001b[0m in \u001b[0;36m_validate_set_axis\u001b[0;34m(self, axis, new_labels)\u001b[0m\n\u001b[1;32m     68\u001b[0m \u001b[0;34m\u001b[0m\u001b[0m\n\u001b[1;32m     69\u001b[0m         \u001b[0;32melif\u001b[0m \u001b[0mnew_len\u001b[0m \u001b[0;34m!=\u001b[0m \u001b[0mold_len\u001b[0m\u001b[0;34m:\u001b[0m\u001b[0;34m\u001b[0m\u001b[0;34m\u001b[0m\u001b[0m\n\u001b[0;32m---> 70\u001b[0;31m             raise ValueError(\n\u001b[0m\u001b[1;32m     71\u001b[0m                 \u001b[0;34mf\"Length mismatch: Expected axis has {old_len} elements, new \"\u001b[0m\u001b[0;34m\u001b[0m\u001b[0;34m\u001b[0m\u001b[0m\n\u001b[1;32m     72\u001b[0m                 \u001b[0;34mf\"values have {new_len} elements\"\u001b[0m\u001b[0;34m\u001b[0m\u001b[0;34m\u001b[0m\u001b[0m\n",
            "\u001b[0;31mValueError\u001b[0m: Length mismatch: Expected axis has 2 elements, new values have 4 elements"
          ]
        }
      ]
    },
    {
      "cell_type": "code",
      "source": [
        "# Replace values in Pandas dataframe using regex\n",
        "# DataFrame.replace() function\n",
        "# problem 1 : cities name start with New or new change it to New_\n",
        "import pandas as pd\n",
        "#create a dataframe\n",
        "df = pd.DataFrame({'city':['New York','Parague','New Delhi','Venice','new orleans'],\n",
        "                   'Event':['Music','poetry','Theatre','Comedy','Tech_summit'],\n",
        "                   'Cost':[10000,5000,15000,2000,12000]})\n",
        "\n",
        "# lets create the index\n",
        "index_ = [pd.Period('02-2018'),pd.Period('04-2018'),\n",
        "        pd.Period('06-2018'),pd.Period('10-2018'),pd.Period('12-2018')]\n",
        "\n",
        "#set the indedx\n",
        "df.index = index_\n",
        "\n",
        "# print the dataframe\n",
        "print(df)\n"
      ],
      "metadata": {
        "colab": {
          "base_uri": "https://localhost:8080/"
        },
        "id": "id4DWdzqyhNi",
        "outputId": "cff776b3-8286-4938-f308-b1699165969b"
      },
      "execution_count": null,
      "outputs": [
        {
          "output_type": "stream",
          "name": "stdout",
          "text": [
            "                city        Event   Cost\n",
            "2018-02     New York        Music  10000\n",
            "2018-04      Parague       poetry   5000\n",
            "2018-06    New Delhi      Theatre  15000\n",
            "2018-10       Venice       Comedy   2000\n",
            "2018-12  new orleans  Tech_summit  12000\n"
          ]
        }
      ]
    },
    {
      "cell_type": "code",
      "source": [
        "# Replace the matching strings\n",
        "df_updated = df.replace(to_replace = '[nN]ew',value = 'New_',regex = True)\n",
        "\n",
        "print(df_updated)"
      ],
      "metadata": {
        "colab": {
          "base_uri": "https://localhost:8080/"
        },
        "id": "HXRPKQTt2zA6",
        "outputId": "e986f402-2b11-47ad-c401-2516d9890c8c"
      },
      "execution_count": null,
      "outputs": [
        {
          "output_type": "stream",
          "name": "stdout",
          "text": [
            "                 city        Event   Cost\n",
            "2018-02     New_ York        Music  10000\n",
            "2018-04       Parague       poetry   5000\n",
            "2018-06    New_ Delhi      Theatre  15000\n",
            "2018-10        Venice       Comedy   2000\n",
            "2018-12  New_ orleans  Tech_summit  12000\n"
          ]
        }
      ]
    },
    {
      "cell_type": "code",
      "source": [
        "# removing additional details\n",
        "# DataFrame.apply() to apply our customized function on each values the column\n",
        "import pandas as pd\n",
        "\n",
        "df = pd.DataFrame({'city':['New York(city)','Parague','New Delhi(delhi)','Venice','new orleans'],\n",
        "                   'Event':['Music','poetry','Theatre','Comedy','Tech_summit'],\n",
        "                   'Cost':[10000,5000,15000,2000,12000]})\n",
        "\n",
        "#  create the index\n",
        "index_ = [pd.Period('02-2018'),pd.Period('04-2018'),\n",
        "        pd.Period('06-2018'),pd.Period('10-2018'),pd.Period('12-2018')]\n",
        "\n",
        "# set the index\n",
        "df.index = index_\n",
        "\n",
        "print(df)\n"
      ],
      "metadata": {
        "colab": {
          "base_uri": "https://localhost:8080/"
        },
        "id": "jxu6_cRb3jKM",
        "outputId": "d0004745-305e-4e0d-973b-ac2647ab26b9"
      },
      "execution_count": null,
      "outputs": [
        {
          "output_type": "stream",
          "name": "stdout",
          "text": [
            "                     city        Event   Cost\n",
            "2018-02    New York(city)        Music  10000\n",
            "2018-04           Parague       poetry   5000\n",
            "2018-06  New Delhi(delhi)      Theatre  15000\n",
            "2018-10            Venice       Comedy   2000\n",
            "2018-12       new orleans  Tech_summit  12000\n"
          ]
        }
      ]
    },
    {
      "cell_type": "code",
      "source": [
        "# importing re package for using regular expression\n",
        "import re\n",
        "\n",
        "# functions to clean the names\n",
        "def Clean_names(city_name):\n",
        "  # search for opening bracket in the name followed by\n",
        "  # any characteristics repeated any number of times\n",
        "  if re.search('\\(.*',city_name):\n",
        "\n",
        "    # extract the position of begining of pattern\n",
        "     pos = re.search('\\(.*',city_name).start()\n",
        "\n",
        "     # return the cleaned name\n",
        "     return city_name[:pos]\n",
        "\n",
        "  else:\n",
        "  # if clean up needed return the same name\n",
        "       return city_name\n",
        "\n",
        "# updated the city columns\n",
        "df['city'] = df['city'].apply(Clean_names)\n",
        "\n",
        "print(df)\n"
      ],
      "metadata": {
        "colab": {
          "base_uri": "https://localhost:8080/"
        },
        "id": "Sv9QAOeb48QC",
        "outputId": "6d498400-5fd6-4aa9-e8bd-5b077b36d1d7"
      },
      "execution_count": null,
      "outputs": [
        {
          "output_type": "stream",
          "name": "stdout",
          "text": [
            "                city        Event   Cost\n",
            "2018-02     New York        Music  10000\n",
            "2018-04      Parague       poetry   5000\n",
            "2018-06    New Delhi      Theatre  15000\n",
            "2018-10       Venice       Comedy   2000\n",
            "2018-12  new orleans  Tech_summit  12000\n"
          ]
        }
      ]
    },
    {
      "cell_type": "code",
      "source": [
        "# creating dataframe from pandas series\n",
        "import pandas as pd\n",
        "author = ['ganesh','raghavendra','shreya','pragaya']\n",
        "\n",
        "# creating a series by passing list\n",
        "# variable to series() function\n",
        "auth_series = pd.Series(author)\n",
        "\n",
        "print(auth_series)\n",
        "\n",
        "print(type(auth_series))"
      ],
      "metadata": {
        "colab": {
          "base_uri": "https://localhost:8080/"
        },
        "id": "aLfNdU067U-M",
        "outputId": "a2c95bd2-c8ae-4e90-c48e-b7d434f7dbbf"
      },
      "execution_count": null,
      "outputs": [
        {
          "output_type": "stream",
          "name": "stdout",
          "text": [
            "0         ganesh\n",
            "1    raghavendra\n",
            "2         shreya\n",
            "3        pragaya\n",
            "dtype: object\n",
            "<class 'pandas.core.series.Series'>\n"
          ]
        }
      ]
    },
    {
      "cell_type": "code",
      "source": [
        "# create DataFrame from Multiple series\n",
        "# two lists passed to pd.Series()\n",
        "\n",
        "# creating two lists\n",
        "author = ['ganesh','raghavendra','shreya','pragaya']\n",
        "\n",
        "article = [210,211,114,178]\n",
        "\n",
        "# creating two series by passing lists\n",
        "auth_series = pd.Series(author)\n",
        "article_series = pd.Series(article)\n",
        "\n",
        "# creating a dictionary by passing Series objects as values\n",
        "frame  = {'author':auth_series,\n",
        "          'article':article_series}\n",
        "\n",
        "result = pd.DataFrame(frame)\n",
        "\n",
        "print(result)"
      ],
      "metadata": {
        "colab": {
          "base_uri": "https://localhost:8080/"
        },
        "id": "9E8gEkjx9Lh3",
        "outputId": "5b686c95-3a4b-4023-88fd-3dff2607489b"
      },
      "execution_count": null,
      "outputs": [
        {
          "output_type": "stream",
          "name": "stdout",
          "text": [
            "        author  article\n",
            "0       ganesh      210\n",
            "1  raghavendra      211\n",
            "2       shreya      114\n",
            "3      pragaya      178\n"
          ]
        }
      ]
    },
    {
      "cell_type": "code",
      "source": [
        "# Add a column in Pandas DartaFrame\n",
        "import pandas as pd\n",
        "#creating series\n",
        "auth_series = pd.Series(['ganesh','raghavendra','shreya','pragaya'])\n",
        "\n",
        "article_series = pd.Series([210,211,114,178])\n",
        "\n",
        "# creating a dictionary by passing Series objects as values\n",
        "frame  = {'author':auth_series,\n",
        "          'article':article_series}\n",
        "\n",
        "# creating DataFrame\n",
        "result = pd.DataFrame(frame)\n",
        "# careting another list\n",
        "age = [21,21,24,23]\n",
        "\n",
        "# creating new column in the dataframe by providing Series created using list\n",
        "result['age'] = pd.Series(age)\n",
        "\n",
        "print(result)"
      ],
      "metadata": {
        "colab": {
          "base_uri": "https://localhost:8080/"
        },
        "id": "gsj0eI1E_KIX",
        "outputId": "faf2c8ac-a9fe-49da-b8f0-c3ca3429fbb7"
      },
      "execution_count": null,
      "outputs": [
        {
          "output_type": "stream",
          "name": "stdout",
          "text": [
            "        author  article  age\n",
            "0       ganesh      210   21\n",
            "1  raghavendra      211   21\n",
            "2       shreya      114   24\n",
            "3      pragaya      178   23\n"
          ]
        }
      ]
    },
    {
      "cell_type": "code",
      "source": [
        "#missing the value in pandas DataFrame\n",
        "import pandas as pd\n",
        "\n",
        "auth_series = pd.Series(['ganesh','raghavendra','shreya','pragya'])\n",
        "\n",
        "article_series = pd.Series([210, 211, 114, 178])\n",
        "\n",
        "frame  = {'author':auth_series,\n",
        "          'article':article_series}\n",
        "\n",
        "result = pd.DataFrame(frame)\n",
        "\n",
        "age = [21, 21, 24]\n",
        "\n",
        "result['Age'] = pd.Series(age)\n",
        "\n",
        "print(result)\n",
        "\n",
        "\n",
        "\n",
        "\n"
      ],
      "metadata": {
        "colab": {
          "base_uri": "https://localhost:8080/"
        },
        "id": "HHNso7-jDEQt",
        "outputId": "23d3012e-338d-4bbd-ae25-2a650b7e1e1c"
      },
      "execution_count": null,
      "outputs": [
        {
          "output_type": "stream",
          "name": "stdout",
          "text": [
            "        author  article   Age\n",
            "0       ganesh      210  21.0\n",
            "1  raghavendra      211  21.0\n",
            "2       shreya      114  24.0\n",
            "3       pragya      178   NaN\n"
          ]
        }
      ]
    },
    {
      "cell_type": "code",
      "source": [
        "# creating dataframe using a dictionary of series\n",
        "import pandas as pd\n",
        "# Creating dictionay of  series\n",
        "dict1 = {'auth_name':pd.Series(['ganesh','raghavendra','shreya','pragya']),\n",
        "         'author_book_no':pd.Series([210, 211, 114, 178]),'age':pd.Series([21, 21, 24,23])}\n",
        "\n",
        "df = pd.DataFrame(dict1)\n",
        "\n",
        "print(df)"
      ],
      "metadata": {
        "colab": {
          "base_uri": "https://localhost:8080/"
        },
        "id": "bp6_4Cz1GehV",
        "outputId": "c12a7db5-90fe-4428-9cb0-b86a57d7418e"
      },
      "execution_count": null,
      "outputs": [
        {
          "output_type": "stream",
          "name": "stdout",
          "text": [
            "     auth_name  author_book_no  age\n",
            "0       ganesh             210   21\n",
            "1  raghavendra             211   21\n",
            "2       shreya             114   24\n",
            "3       pragya             178   23\n"
          ]
        }
      ]
    },
    {
      "cell_type": "code",
      "source": [
        "# explict indexing in pandas dataframe\n",
        "import pandas as pd\n",
        "# Creating dictionay of  series\n",
        "dict1 = {'auth_name':pd.Series(['ganesh','raghavendra','shreya','pragya']),\n",
        "         'author_book_no':pd.Series([210, 211, 114, 178]),'age':pd.Series([21, 21, 24,23])}\n",
        "\n",
        "df = pd.DataFrame(dict1,index = ['SNO1','SNO2','SNO3','SNO4'])\n",
        "\n",
        "print(df)"
      ],
      "metadata": {
        "colab": {
          "base_uri": "https://localhost:8080/"
        },
        "id": "EsTX1GuxISfJ",
        "outputId": "34baf381-79d9-4dd5-a66a-bc5fb7434964"
      },
      "execution_count": null,
      "outputs": [
        {
          "output_type": "stream",
          "name": "stdout",
          "text": [
            "     auth_name  author_book_no  age\n",
            "SNO1       NaN             NaN  NaN\n",
            "SNO2       NaN             NaN  NaN\n",
            "SNO3       NaN             NaN  NaN\n",
            "SNO4       NaN             NaN  NaN\n"
          ]
        }
      ]
    },
    {
      "cell_type": "code",
      "source": [
        "import pandas as pd\n",
        "# Creating dictionay of  series\n",
        "dict1 = {'auth_name':pd.Series(['ganesh',\n",
        "                'raghavendra','shreya','pragya'],\n",
        "          index=['SNo1', 'SNo2', 'SNo3', 'SNo4']),\n",
        "         'author_book_no':pd.Series([210, 211, 114, 178],\n",
        "          index=['SNo1', 'SNo2', 'SNo3', 'SNo4']),\n",
        "         'age':pd.Series([21, 21, 24,23],\n",
        "          index=['SNo1', 'SNo2', 'SNo3', 'SNo4'])}\n",
        "\n",
        "df = pd.DataFrame(dict1,index = ['SNO1','SNO2','SNO3','SNO4'])\n",
        "\n",
        "print(df)"
      ],
      "metadata": {
        "colab": {
          "base_uri": "https://localhost:8080/"
        },
        "id": "U4LQMiIXJZKT",
        "outputId": "081bd7c0-6c0b-4561-8cd0-6660701af030"
      },
      "execution_count": 46,
      "outputs": [
        {
          "output_type": "stream",
          "name": "stdout",
          "text": [
            "     auth_name  author_book_no  age\n",
            "SNO1       NaN             NaN  NaN\n",
            "SNO2       NaN             NaN  NaN\n",
            "SNO3       NaN             NaN  NaN\n",
            "SNO4       NaN             NaN  NaN\n"
          ]
        }
      ]
    }
  ]
}