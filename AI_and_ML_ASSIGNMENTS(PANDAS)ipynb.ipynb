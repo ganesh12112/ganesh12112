{
  "nbformat": 4,
  "nbformat_minor": 0,
  "metadata": {
    "colab": {
      "provenance": [],
      "authorship_tag": "ABX9TyMhZltKBo5kkCuA+OrOD645",
      "include_colab_link": true
    },
    "kernelspec": {
      "name": "python3",
      "display_name": "Python 3"
    },
    "language_info": {
      "name": "python"
    }
  },
  "cells": [
    {
      "cell_type": "markdown",
      "metadata": {
        "id": "view-in-github",
        "colab_type": "text"
      },
      "source": [
        "<a href=\"https://colab.research.google.com/github/ganesh12112/ganesh12112/blob/main/AI_and_ML_ASSIGNMENTS(PANDAS)ipynb.ipynb\" target=\"_parent\"><img src=\"https://colab.research.google.com/assets/colab-badge.svg\" alt=\"Open In Colab\"/></a>"
      ]
    },
    {
      "cell_type": "code",
      "execution_count": 3,
      "metadata": {
        "id": "aPzxx0BrbRQl",
        "colab": {
          "base_uri": "https://localhost:8080/"
        },
        "outputId": "401cd9a2-ab4d-4e69-ef3c-6c8bb36223ed"
      },
      "outputs": [
        {
          "output_type": "stream",
          "name": "stdout",
          "text": [
            "             Tag  number\n",
            "0           Geek      25\n",
            "1             is      30\n",
            "2            for      26\n",
            "3  Geeksforgeeks      22\n"
          ]
        }
      ],
      "source": [
        "# create pandas datframe with two dimensional list(python)\n",
        "import pandas as pd\n",
        "\n",
        "# list1\n",
        "lst =[['Geek',25],['is',30],\n",
        "      ['for',26],['Geeksforgeeks',22]]\n",
        "\n",
        "# creation df object with columns specified\n",
        "df = pd.DataFrame(lst,columns = ['Tag','number'])\n",
        "print(df)"
      ]
    },
    {
      "cell_type": "code",
      "source": [
        "# example 2\n",
        "import pandas as pd\n",
        "#list\n",
        "lst = [['tom','reacher',25],['krish','pete',30],\n",
        "       ['nick','wilson',26],['john','williams',22]]\n",
        "\n",
        "df = pd.DataFrame(lst,columns =['FName','LName','Age'],\n",
        "                                        dtype = float)\n",
        "\n",
        "print(df)"
      ],
      "metadata": {
        "colab": {
          "base_uri": "https://localhost:8080/"
        },
        "id": "JdHu6qm_ASrD",
        "outputId": "cf5dc0d9-83c4-480d-8938-217a30e060df"
      },
      "execution_count": 9,
      "outputs": [
        {
          "output_type": "stream",
          "name": "stdout",
          "text": [
            "   FName     LName   Age\n",
            "0    tom   reacher  25.0\n",
            "1  krish      pete  30.0\n",
            "2   nick    wilson  26.0\n",
            "3   john  williams  22.0\n"
          ]
        },
        {
          "output_type": "stream",
          "name": "stderr",
          "text": [
            "<ipython-input-9-c8f08df269a5>:7: FutureWarning: Could not cast to float64, falling back to object. This behavior is deprecated. In a future version, when a dtype is passed to 'DataFrame', either all columns will be cast to that dtype, or a TypeError will be raised.\n",
            "  df = pd.DataFrame(lst,columns =['FName','LName','Age'],\n"
          ]
        }
      ]
    },
    {
      "cell_type": "code",
      "source": [
        "# creating Dataframe from dict of narray/lists\n",
        "# what is the meaning of ndarray(or lists)? are they same?\n",
        "#example 1 : we will use pd.DataFrame() function to create the dataframe from the list\n",
        "import pandas as pd\n",
        "\n",
        "# intialise data of lists\n",
        "data = {'category':['Array','Stack','queue'],\n",
        "        'Marks':[20,21,19]}\n",
        "\n",
        "# create DataFrame\n",
        "df = pd.DataFrame(data)\n",
        "\n",
        "print(df)\n"
      ],
      "metadata": {
        "colab": {
          "base_uri": "https://localhost:8080/"
        },
        "id": "gltZ5734CFxf",
        "outputId": "300d4088-edb2-4787-87d0-18e96432c136"
      },
      "execution_count": 10,
      "outputs": [
        {
          "output_type": "stream",
          "name": "stdout",
          "text": [
            "  category  Marks\n",
            "0    Array     20\n",
            "1    Stack     21\n",
            "2    queue     19\n"
          ]
        }
      ]
    },
    {
      "cell_type": "code",
      "source": [
        "# example 2\n",
        "import pandas as pd\n",
        "\n",
        "data = {'category':['Array','Stack','Queue'],\n",
        "        'Student_1':[20,21,19],'Student_2':[15,20,14]}\n",
        "\n",
        "df = pd.DataFrame(data)\n",
        "\n",
        "print(df.transpose())"
      ],
      "metadata": {
        "colab": {
          "base_uri": "https://localhost:8080/"
        },
        "id": "hpzGiSuQD6Jk",
        "outputId": "93169feb-6130-4d9f-f213-2022c4ad24ca"
      },
      "execution_count": 13,
      "outputs": [
        {
          "output_type": "stream",
          "name": "stdout",
          "text": [
            "               0      1      2\n",
            "category   Array  Stack  Queue\n",
            "Student_1     20     21     19\n",
            "Student_2     15     20     14\n"
          ]
        }
      ]
    },
    {
      "cell_type": "code",
      "source": [
        "# using Pandas DataFrame with the index parameter\n",
        "# example 1:providing index list to dataframe\n",
        "import pandas as pd\n",
        "\n",
        "data = {'Area':['Array','stack','Queue'],\n",
        "        'Student_1':[20,21,19],'Student_2':[15,20,14]}\n",
        "\n",
        "df = pd.DataFrame(data,index =['cat_1','cat_2','cat_3'])\n",
        "\n",
        "print(df)"
      ],
      "metadata": {
        "colab": {
          "base_uri": "https://localhost:8080/"
        },
        "id": "Q5u7xNHsFGyK",
        "outputId": "f4590a0e-45eb-43f9-f8e3-471cc30bc5ea"
      },
      "execution_count": 14,
      "outputs": [
        {
          "output_type": "stream",
          "name": "stdout",
          "text": [
            "        Area  Student_1  Student_2\n",
            "cat_1  Array         20         15\n",
            "cat_2  stack         21         20\n",
            "cat_3  Queue         19         14\n"
          ]
        }
      ]
    },
    {
      "cell_type": "code",
      "source": [
        "# Creating Pandas datframe using list of lists\n",
        "# example 1\n",
        "import pandas as pd\n",
        "\n",
        "data = [['geeks',10],['for',15],['Geeks',20]]\n",
        "\n",
        "df = pd.DataFrame(data,columns = ['Name','Age'])\n",
        "\n",
        "print(df)"
      ],
      "metadata": {
        "colab": {
          "base_uri": "https://localhost:8080/"
        },
        "id": "LU60HUGeGk8p",
        "outputId": "176cba5c-bbba-4452-f10e-eba89fa8494f"
      },
      "execution_count": 18,
      "outputs": [
        {
          "output_type": "stream",
          "name": "stdout",
          "text": [
            "    Name  Age\n",
            "0  geeks   10\n",
            "1    for   15\n",
            "2  Geeks   20\n"
          ]
        }
      ]
    },
    {
      "cell_type": "code",
      "source": [
        "# example 2\n",
        "import pandas as pd\n",
        "\n",
        "data = [['Ds','Linked_list',10],['DS','Stack',9],['DS','Queue',7],\n",
        "        ['Algo','Greedy',8],['Algo','DP',6],['Algo','BackTrack',5]]\n",
        "\n",
        "df = pd.DataFrame(data,columns = ['Category','Name','Marks'])\n",
        "\n",
        "print(df)"
      ],
      "metadata": {
        "colab": {
          "base_uri": "https://localhost:8080/"
        },
        "id": "ARHTjvqcH4om",
        "outputId": "18ac44af-1d4e-4f95-8ca6-4f5e6feb9cad"
      },
      "execution_count": 19,
      "outputs": [
        {
          "output_type": "stream",
          "name": "stdout",
          "text": [
            "  Category         Name  Marks\n",
            "0       Ds  Linked_list     10\n",
            "1       DS        Stack      9\n",
            "2       DS        Queue      7\n",
            "3     Algo       Greedy      8\n",
            "4     Algo           DP      6\n",
            "5     Algo    BackTrack      5\n"
          ]
        }
      ]
    },
    {
      "cell_type": "code",
      "source": [
        "# Defining column names using DataFrame.columns() function\n",
        "import pandas as pd\n",
        "# carete the oandas Dataframe\n",
        "df = pd.DataFrame(data)\n",
        "\n",
        "# specifying coulmn names\n",
        "df.coulmns = ['col_1','col_2','col_3']\n",
        "\n",
        "# print dataframe\n",
        "print(df,\"\\n\")\n",
        "\n",
        "df = df.transpose()\n",
        "print(\"Transpose of above datframe is-\\n\",df)"
      ],
      "metadata": {
        "colab": {
          "base_uri": "https://localhost:8080/"
        },
        "id": "pYLmGEHjJTH0",
        "outputId": "4e736e3e-49a2-472b-aa78-576b08fc530c"
      },
      "execution_count": 20,
      "outputs": [
        {
          "output_type": "stream",
          "name": "stdout",
          "text": [
            "      0            1   2\n",
            "0    Ds  Linked_list  10\n",
            "1    DS        Stack   9\n",
            "2    DS        Queue   7\n",
            "3  Algo       Greedy   8\n",
            "4  Algo           DP   6\n",
            "5  Algo    BackTrack   5 \n",
            "\n",
            "Transpose of above datframe is-\n",
            "              0      1      2       3     4          5\n",
            "0           Ds     DS     DS    Algo  Algo       Algo\n",
            "1  Linked_list  Stack  Queue  Greedy    DP  BackTrack\n",
            "2           10      9      7       8     6          5\n"
          ]
        },
        {
          "output_type": "stream",
          "name": "stderr",
          "text": [
            "<ipython-input-20-712f27973b08>:7: UserWarning: Pandas doesn't allow columns to be created via a new attribute name - see https://pandas.pydata.org/pandas-docs/stable/indexing.html#attribute-access\n",
            "  df.coulmns = ['col_1','col_2','col_3']\n"
          ]
        }
      ]
    }
  ]
}