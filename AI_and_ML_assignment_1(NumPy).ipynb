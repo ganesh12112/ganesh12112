{
  "nbformat": 4,
  "nbformat_minor": 0,
  "metadata": {
    "colab": {
      "provenance": [],
      "authorship_tag": "ABX9TyMtp2lBCzYr3ZzuCxrpnrNK",
      "include_colab_link": true
    },
    "kernelspec": {
      "name": "python3",
      "display_name": "Python 3"
    },
    "language_info": {
      "name": "python"
    }
  },
  "cells": [
    {
      "cell_type": "markdown",
      "metadata": {
        "id": "view-in-github",
        "colab_type": "text"
      },
      "source": [
        "<a href=\"https://colab.research.google.com/github/ganesh12112/ganesh12112/blob/main/AI_and_ML_assignment_1(NumPy).ipynb\" target=\"_parent\"><img src=\"https://colab.research.google.com/assets/colab-badge.svg\" alt=\"Open In Colab\"/></a>"
      ]
    },
    {
      "cell_type": "code",
      "execution_count": 2,
      "metadata": {
        "colab": {
          "base_uri": "https://localhost:8080/"
        },
        "id": "CV3F8Tdy1930",
        "outputId": "0cadd65d-6856-4de4-8f9a-8082a4d04587"
      },
      "outputs": [
        {
          "output_type": "stream",
          "name": "stdout",
          "text": [
            "54\n"
          ]
        }
      ],
      "source": [
        "#assignment on machine learning libraries\n",
        "# assignments on numpy\n",
        "# 1.get the max value from matrix\n",
        "# Syntax : matrix.max()\n",
        "# return max value from given matrix\n",
        "# example 1:\n",
        "import numpy as np\n",
        "gf = np.matrix('[54, 1; 12, 3]')\n",
        "max = gf.max()\n",
        "print(max)"
      ]
    },
    {
      "cell_type": "code",
      "source": [
        "# example 2\n",
        "import numpy as np\n",
        "gf = np.matrix('[1,2,3; 4,5,6;7,8,9]')\n",
        "max = gf.max()\n",
        "print(max)"
      ],
      "metadata": {
        "colab": {
          "base_uri": "https://localhost:8080/"
        },
        "id": "uvptkWHw5RnB",
        "outputId": "a40566c1-d57b-4b13-a181-8a77f7d06e04"
      },
      "execution_count": 3,
      "outputs": [
        {
          "output_type": "stream",
          "name": "stdout",
          "text": [
            "9\n"
          ]
        }
      ]
    },
    {
      "cell_type": "code",
      "source": [
        "# get the minnimum value of matrix\n",
        "# example 1\n",
        "import numpy as np\n",
        "# make matrix with numpy\n",
        "gf = np.matrix('[32,45;56,78]')\n",
        "min = gf.min()\n",
        "print(min)"
      ],
      "metadata": {
        "colab": {
          "base_uri": "https://localhost:8080/"
        },
        "id": "I83hcDXu5wIA",
        "outputId": "d518106f-6e07-4f17-cdfd-b6bc8e5632eb"
      },
      "execution_count": 5,
      "outputs": [
        {
          "output_type": "stream",
          "name": "stdout",
          "text": [
            "32\n"
          ]
        }
      ]
    },
    {
      "cell_type": "code",
      "source": [
        "# Find the number of rows and columns of a given matrix using NumPy\n",
        "# eaxmple 1:using the .shape Attribute\n",
        "import numpy as np\n",
        "matrix = np.array([[9,9,9],[8,8,8]])\n",
        "dimensions = np.shape(matrix)\n",
        "rows , columns = dimensions\n",
        "print(\"rows:\",rows)\n",
        "print(\"columns:\",columns)"
      ],
      "metadata": {
        "colab": {
          "base_uri": "https://localhost:8080/"
        },
        "id": "hQRtut1b6NjJ",
        "outputId": "558dc546-e1aa-4e27-a34e-3caff1b2df5f"
      },
      "execution_count": 7,
      "outputs": [
        {
          "output_type": "stream",
          "name": "stdout",
          "text": [
            "rows: 2\n",
            "columns: 3\n"
          ]
        }
      ]
    },
    {
      "cell_type": "code",
      "source": [
        "# numpy.reshape() to find number of rows and columns of a matrix\n",
        "import numpy as np\n",
        "matrix = np.arange(1,10).reshape((3,3))\n",
        "# original matrix\n",
        "print(matrix)\n",
        "# Number of rows and columns of the said matrix\n",
        "print(matrix.shape)"
      ],
      "metadata": {
        "colab": {
          "base_uri": "https://localhost:8080/"
        },
        "id": "ZdOUJBH98Vwp",
        "outputId": "8784a160-1a4e-4eb3-db02-93d63e546f31"
      },
      "execution_count": 9,
      "outputs": [
        {
          "output_type": "stream",
          "name": "stdout",
          "text": [
            "[[1 2 3]\n",
            " [4 5 6]\n",
            " [7 8 9]]\n",
            "(3, 3)\n"
          ]
        }
      ]
    },
    {
      "cell_type": "code",
      "source": [
        "# example 2 : using indexing\n",
        "import numpy as np\n",
        "\n",
        "matrix = np.array([[4,3,2],[8,7,6]])\n",
        "rows = matrix.shape[0]\n",
        "columns = matrix.shape[1]\n",
        "\n",
        "print(\"rows:\",rows)\n",
        "print(\"columns:\",columns)"
      ],
      "metadata": {
        "colab": {
          "base_uri": "https://localhost:8080/"
        },
        "id": "RCzP4Kjd9nWW",
        "outputId": "b817bd17-1e87-4186-992d-6a166a79ae87"
      },
      "execution_count": 11,
      "outputs": [
        {
          "output_type": "stream",
          "name": "stdout",
          "text": [
            "rows: 2\n",
            "columns: 3\n"
          ]
        }
      ]
    },
    {
      "cell_type": "code",
      "source": [
        "# select elements from given matrix\n",
        "# with the help of Numpy as matrix.take() method , we can select elelments from a given\n",
        "# matrix by passing the parameter as index value of that element. it will return a matrix\n",
        "# having one dimension. Remember that it will work for one axis at a time\n",
        "\n",
        "# syntax: matrix.take(index,axis)\n",
        "# return :return matrix of selected indexes\n",
        "\n",
        "# example 1\n",
        "import numpy as np\n",
        "\n",
        "gf = np.matrix('[4,1,12,3,4,6,7]')\n",
        "\n",
        "gf1 = np.matrix('[4, 12, 1; 3, 4, 5; 7, 5, 4]')\n",
        "\n",
        "value = gf.take(2)\n",
        "\n",
        "value1 = gf.take(0,1)\n",
        "\n",
        "value2 = gf1.take(0,1)\n",
        "\n",
        "print(value)\n",
        "\n",
        "print(value1)\n",
        "\n",
        "print(value2)"
      ],
      "metadata": {
        "colab": {
          "base_uri": "https://localhost:8080/"
        },
        "id": "uM8mmJ53-nDV",
        "outputId": "495f1bcf-c98a-480b-83ad-436f9c522112"
      },
      "execution_count": 23,
      "outputs": [
        {
          "output_type": "stream",
          "name": "stdout",
          "text": [
            "[[12]]\n",
            "[[4]]\n",
            "[[4 3 7]]\n"
          ]
        }
      ]
    },
    {
      "cell_type": "code",
      "source": [
        "# find the sum of values in a matrix\n",
        "# syntax: matrix.sum()\n",
        "# return: return sum of values in  matrix\n",
        "# example 1\n",
        "import numpy as np\n",
        "gf = np.matrix('[4,1;12,3]')\n",
        "\n",
        "sum = gf.sum()\n",
        "\n",
        "print(sum)"
      ],
      "metadata": {
        "colab": {
          "base_uri": "https://localhost:8080/"
        },
        "id": "3YH4KCK9_h6t",
        "outputId": "93883e89-8a1d-4fd1-d8af-12c53908a734"
      },
      "execution_count": 24,
      "outputs": [
        {
          "output_type": "stream",
          "name": "stdout",
          "text": [
            "20\n"
          ]
        }
      ]
    },
    {
      "cell_type": "code",
      "source": [
        "# example 2\n",
        "import numpy as np\n",
        "gf = np.matrix('[4,1,9;12,3,4;4,5,6]')\n",
        "sum = gf.sum(axis = 1)\n",
        "print(sum)"
      ],
      "metadata": {
        "colab": {
          "base_uri": "https://localhost:8080/"
        },
        "id": "qZHQ-qKJPip1",
        "outputId": "82e576ac-207c-4425-9fdf-1254a867ecf8"
      },
      "execution_count": 25,
      "outputs": [
        {
          "output_type": "stream",
          "name": "stdout",
          "text": [
            "[[14]\n",
            " [19]\n",
            " [15]]\n"
          ]
        }
      ]
    },
    {
      "cell_type": "code",
      "source": [
        "# calculate the sum of diagonal elements of a NumpPy array\n",
        "# sometimes we have to find the sum of upper right ,lower right and lower left,lower right diagonal elments\n",
        "# Numpy provides us the facility to compute the sum of different diagonals elments using\n",
        "# numpy.trace() and numpy.diagonal() method\n",
        "# method 1 :Finding the sum of elments using numpy.trace()\n",
        "# syntax: numpyy.trace(a,offset=0,axis1 = 0,axis2 = 1,dype = None ,out = None)\n",
        "# example 1:For 3x3 Numpy matrix\n",
        "import numpy as np\n",
        "n_array = np.array([[44,55,13],\n",
        "                    [12,67,89],\n",
        "                    [34,58,75]])\n",
        "# displaying the matrix\n",
        "print(\"Numpy Matrix is:\")\n",
        "print(n_array)\n",
        "\n",
        "# calculating the trace of a matrix\n",
        "trace = np.trace(n_array)\n",
        "\n",
        "print(\"\\nTrace of given 3x3 matrix:\")\n",
        "print(trace)\n"
      ],
      "metadata": {
        "colab": {
          "base_uri": "https://localhost:8080/"
        },
        "id": "bZnaBiyRQTty",
        "outputId": "f83dfb50-0efc-4a43-f499-d84c1a6a9000"
      },
      "execution_count": 26,
      "outputs": [
        {
          "output_type": "stream",
          "name": "stdout",
          "text": [
            "Numpy Matrix is:\n",
            "[[44 55 13]\n",
            " [12 67 89]\n",
            " [34 58 75]]\n",
            "\n",
            "Trace of given 3x3 matrix:\n",
            "186\n"
          ]
        }
      ]
    },
    {
      "cell_type": "code",
      "source": [
        "# exaple 2 :For 4x4 Numpy matrix\n",
        "import numpy as np\n",
        "n_array = np.array([[44,55,13,34],\n",
        "                    [12,67,89,56],\n",
        "                    [34,58,75,78],\n",
        "                    [23,14,76,98]])\n",
        "# displaying the matrix\n",
        "print(\"Numpy Matrix is:\")\n",
        "print(n_array)\n",
        "\n",
        "# calculating the trace of a matrix\n",
        "trace = np.trace(n_array)\n",
        "\n",
        "print(\"\\nTrace of given 3x3 matrix:\")\n",
        "print(trace)"
      ],
      "metadata": {
        "colab": {
          "base_uri": "https://localhost:8080/"
        },
        "id": "m1bCRZUSUR4y",
        "outputId": "851a3ba4-0661-40fb-ebaf-42e4ffdcc2f0"
      },
      "execution_count": 28,
      "outputs": [
        {
          "output_type": "stream",
          "name": "stdout",
          "text": [
            "Numpy Matrix is:\n",
            "[[44 55 13 34]\n",
            " [12 67 89 56]\n",
            " [34 58 75 78]\n",
            " [23 14 76 98]]\n",
            "\n",
            "Trace of given 3x3 matrix:\n",
            "284\n"
          ]
        }
      ]
    },
    {
      "cell_type": "code",
      "source": [
        "# Method 2 : Finding the sum of diagonal elements using numpy.diagonal()\n",
        "# syntax: numpy.diagonal(a,offset=0,axis1 = 0, axis2=1)\n",
        "# example 1: for 3x3 Numpy Matrix\n",
        "import numpy as np\n",
        "n_array = np.array([[44,55,13],\n",
        "                    [12,67,89],\n",
        "                    [34,58,75]])\n",
        "\n",
        "print(\"Numpy Matrix is:\")\n",
        "print(n_array)\n",
        "# finding the diagonal elements of matrix\n",
        "diag = np.diagonal (n_array)\n",
        "\n",
        "print(\"\\nDiagonal elements are:\")\n",
        "print(diag)\n",
        "\n",
        "print(\"\\nsum of Diagonal elements is:\")\n",
        "print(np.sum(diag))"
      ],
      "metadata": {
        "colab": {
          "base_uri": "https://localhost:8080/"
        },
        "id": "6uF8T5SUU2ZA",
        "outputId": "4858e53d-1a62-42ba-8f51-d488795a1b11"
      },
      "execution_count": 36,
      "outputs": [
        {
          "output_type": "stream",
          "name": "stdout",
          "text": [
            "Numpy Matrix is:\n",
            "[[44 55 13]\n",
            " [12 67 89]\n",
            " [34 58 75]]\n",
            "\n",
            "Diagonal elements are:\n",
            "[44 67 75]\n",
            "\n",
            "sum of Diagonal elements is:\n",
            "186\n"
          ]
        }
      ]
    },
    {
      "cell_type": "code",
      "source": [
        "# example2 : For 5x5 Numpy as Matrix\n",
        "import numpy as np\n",
        "n_array = np.array([[5, 2, 1, 4, 6],\n",
        "                    [9, 4, 2, 5, 2],\n",
        "                    [11, 5, 7, 3, 9],\n",
        "                    [5, 6, 6, 7, 2],\n",
        "                    [7, 5, 9, 3, 3]])\n",
        "\n",
        "print(\"Numpy Matrix is:\")\n",
        "print(n_array)\n",
        "\n",
        "diag = np.diagonal(n_array)\n",
        "\n",
        "print(\"\\nDiagonal elements are:\")\n",
        "print(diag)\n",
        "\n",
        "print(\"\\nSum of Diagonal elements is:\")\n",
        "print(np.sum(diag))"
      ],
      "metadata": {
        "colab": {
          "base_uri": "https://localhost:8080/"
        },
        "id": "KG4ZQ7Hnaf8B",
        "outputId": "fab85309-6067-41a4-eba0-ca437a3832ea"
      },
      "execution_count": 37,
      "outputs": [
        {
          "output_type": "stream",
          "name": "stdout",
          "text": [
            "Numpy Matrix is:\n",
            "[[ 5  2  1  4  6]\n",
            " [ 9  4  2  5  2]\n",
            " [11  5  7  3  9]\n",
            " [ 5  6  6  7  2]\n",
            " [ 7  5  9  3  3]]\n",
            "\n",
            "Diagonal elements are:\n",
            "[5 4 7 7 3]\n",
            "\n",
            "Sum of Diagonal elements is:\n",
            "26\n"
          ]
        }
      ]
    },
    {
      "cell_type": "code",
      "source": [],
      "metadata": {
        "id": "Qqcsz6r4bVok"
      },
      "execution_count": null,
      "outputs": []
    }
  ]
}