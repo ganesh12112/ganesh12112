{
  "nbformat": 4,
  "nbformat_minor": 0,
  "metadata": {
    "colab": {
      "provenance": [],
      "authorship_tag": "ABX9TyPHHhaYY0Oi2/6M6MEZHnNq",
      "include_colab_link": true
    },
    "kernelspec": {
      "name": "python3",
      "display_name": "Python 3"
    },
    "language_info": {
      "name": "python"
    }
  },
  "cells": [
    {
      "cell_type": "markdown",
      "metadata": {
        "id": "view-in-github",
        "colab_type": "text"
      },
      "source": [
        "<a href=\"https://colab.research.google.com/github/ganesh12112/ganesh12112/blob/main/AI_and_ML_assignment_1(NumPy).ipynb\" target=\"_parent\"><img src=\"https://colab.research.google.com/assets/colab-badge.svg\" alt=\"Open In Colab\"/></a>"
      ]
    },
    {
      "cell_type": "code",
      "execution_count": null,
      "metadata": {
        "colab": {
          "base_uri": "https://localhost:8080/"
        },
        "id": "CV3F8Tdy1930",
        "outputId": "0cadd65d-6856-4de4-8f9a-8082a4d04587"
      },
      "outputs": [
        {
          "output_type": "stream",
          "name": "stdout",
          "text": [
            "54\n"
          ]
        }
      ],
      "source": [
        "#assignment on machine learning libraries\n",
        "# assignments on numpy\n",
        "# 1.get the max value from matrix\n",
        "# Syntax : matrix.max()\n",
        "# return max value from given matrix\n",
        "# example 1:\n",
        "import numpy as np\n",
        "gf = np.matrix('[54, 1; 12, 3]')\n",
        "max = gf.max()\n",
        "print(max)"
      ]
    },
    {
      "cell_type": "code",
      "source": [
        "# example 2\n",
        "import numpy as np\n",
        "gf = np.matrix('[1,2,3; 4,5,6;7,8,9]')\n",
        "max = gf.max()\n",
        "print(max)"
      ],
      "metadata": {
        "colab": {
          "base_uri": "https://localhost:8080/"
        },
        "id": "uvptkWHw5RnB",
        "outputId": "a40566c1-d57b-4b13-a181-8a77f7d06e04"
      },
      "execution_count": null,
      "outputs": [
        {
          "output_type": "stream",
          "name": "stdout",
          "text": [
            "9\n"
          ]
        }
      ]
    },
    {
      "cell_type": "code",
      "source": [
        "# get the minnimum value of matrix\n",
        "# example 1\n",
        "import numpy as np\n",
        "# make matrix with numpy\n",
        "gf = np.matrix('[32,45;56,78]')\n",
        "min = gf.min()\n",
        "print(min)"
      ],
      "metadata": {
        "colab": {
          "base_uri": "https://localhost:8080/"
        },
        "id": "I83hcDXu5wIA",
        "outputId": "d518106f-6e07-4f17-cdfd-b6bc8e5632eb"
      },
      "execution_count": null,
      "outputs": [
        {
          "output_type": "stream",
          "name": "stdout",
          "text": [
            "32\n"
          ]
        }
      ]
    },
    {
      "cell_type": "code",
      "source": [
        "# Find the number of rows and columns of a given matrix using NumPy\n",
        "# eaxmple 1:using the .shape Attribute\n",
        "import numpy as np\n",
        "matrix = np.array([[9,9,9],[8,8,8]])\n",
        "dimensions = np.shape(matrix)\n",
        "rows , columns = dimensions\n",
        "print(\"rows:\",rows)\n",
        "print(\"columns:\",columns)"
      ],
      "metadata": {
        "colab": {
          "base_uri": "https://localhost:8080/"
        },
        "id": "hQRtut1b6NjJ",
        "outputId": "558dc546-e1aa-4e27-a34e-3caff1b2df5f"
      },
      "execution_count": null,
      "outputs": [
        {
          "output_type": "stream",
          "name": "stdout",
          "text": [
            "rows: 2\n",
            "columns: 3\n"
          ]
        }
      ]
    },
    {
      "cell_type": "code",
      "source": [
        "# numpy.reshape() to find number of rows and columns of a matrix\n",
        "import numpy as np\n",
        "matrix = np.arange(1,10).reshape((3,3))\n",
        "# original matrix\n",
        "print(matrix)\n",
        "# Number of rows and columns of the said matrix\n",
        "print(matrix.shape)"
      ],
      "metadata": {
        "colab": {
          "base_uri": "https://localhost:8080/"
        },
        "id": "ZdOUJBH98Vwp",
        "outputId": "8784a160-1a4e-4eb3-db02-93d63e546f31"
      },
      "execution_count": null,
      "outputs": [
        {
          "output_type": "stream",
          "name": "stdout",
          "text": [
            "[[1 2 3]\n",
            " [4 5 6]\n",
            " [7 8 9]]\n",
            "(3, 3)\n"
          ]
        }
      ]
    },
    {
      "cell_type": "code",
      "source": [
        "# example 2 : using indexing\n",
        "import numpy as np\n",
        "\n",
        "matrix = np.array([[4,3,2],[8,7,6]])\n",
        "rows = matrix.shape[0]\n",
        "columns = matrix.shape[1]\n",
        "\n",
        "print(\"rows:\",rows)\n",
        "print(\"columns:\",columns)"
      ],
      "metadata": {
        "colab": {
          "base_uri": "https://localhost:8080/"
        },
        "id": "RCzP4Kjd9nWW",
        "outputId": "b817bd17-1e87-4186-992d-6a166a79ae87"
      },
      "execution_count": null,
      "outputs": [
        {
          "output_type": "stream",
          "name": "stdout",
          "text": [
            "rows: 2\n",
            "columns: 3\n"
          ]
        }
      ]
    },
    {
      "cell_type": "code",
      "source": [
        "# select elements from given matrix\n",
        "# with the help of Numpy as matrix.take() method , we can select elelments from a given\n",
        "# matrix by passing the parameter as index value of that element. it will return a matrix\n",
        "# having one dimension. Remember that it will work for one axis at a time\n",
        "\n",
        "# syntax: matrix.take(index,axis)\n",
        "# return :return matrix of selected indexes\n",
        "\n",
        "# example 1\n",
        "import numpy as np\n",
        "\n",
        "gf = np.matrix('[4,1,12,3,4,6,7]')\n",
        "\n",
        "gf1 = np.matrix('[4, 12, 1; 3, 4, 5; 7, 5, 4]')\n",
        "\n",
        "value = gf.take(2)\n",
        "\n",
        "value1 = gf.take(0,1)\n",
        "\n",
        "value2 = gf1.take(0,1)\n",
        "\n",
        "print(value)\n",
        "\n",
        "print(value1)\n",
        "\n",
        "print(value2)"
      ],
      "metadata": {
        "colab": {
          "base_uri": "https://localhost:8080/"
        },
        "id": "uM8mmJ53-nDV",
        "outputId": "495f1bcf-c98a-480b-83ad-436f9c522112"
      },
      "execution_count": null,
      "outputs": [
        {
          "output_type": "stream",
          "name": "stdout",
          "text": [
            "[[12]]\n",
            "[[4]]\n",
            "[[4 3 7]]\n"
          ]
        }
      ]
    },
    {
      "cell_type": "code",
      "source": [
        "# find the sum of values in a matrix\n",
        "# syntax: matrix.sum()\n",
        "# return: return sum of values in  matrix\n",
        "# example 1\n",
        "import numpy as np\n",
        "gf = np.matrix('[4,1;12,3]')\n",
        "\n",
        "sum = gf.sum()\n",
        "\n",
        "print(sum)"
      ],
      "metadata": {
        "colab": {
          "base_uri": "https://localhost:8080/"
        },
        "id": "3YH4KCK9_h6t",
        "outputId": "93883e89-8a1d-4fd1-d8af-12c53908a734"
      },
      "execution_count": null,
      "outputs": [
        {
          "output_type": "stream",
          "name": "stdout",
          "text": [
            "20\n"
          ]
        }
      ]
    },
    {
      "cell_type": "code",
      "source": [
        "# example 2\n",
        "import numpy as np\n",
        "gf = np.matrix('[4,1,9;12,3,4;4,5,6]')\n",
        "sum = gf.sum(axis = 1)\n",
        "print(sum)"
      ],
      "metadata": {
        "colab": {
          "base_uri": "https://localhost:8080/"
        },
        "id": "qZHQ-qKJPip1",
        "outputId": "82e576ac-207c-4425-9fdf-1254a867ecf8"
      },
      "execution_count": null,
      "outputs": [
        {
          "output_type": "stream",
          "name": "stdout",
          "text": [
            "[[14]\n",
            " [19]\n",
            " [15]]\n"
          ]
        }
      ]
    },
    {
      "cell_type": "code",
      "source": [
        "# calculate the sum of diagonal elements of a NumpPy array\n",
        "# sometimes we have to find the sum of upper right ,lower right and lower left,lower right diagonal elments\n",
        "# Numpy provides us the facility to compute the sum of different diagonals elments using\n",
        "# numpy.trace() and numpy.diagonal() method\n",
        "# method 1 :Finding the sum of elments using numpy.trace()\n",
        "# syntax: numpyy.trace(a,offset=0,axis1 = 0,axis2 = 1,dype = None ,out = None)\n",
        "# example 1:For 3x3 Numpy matrix\n",
        "import numpy as np\n",
        "n_array = np.array([[44,55,13],\n",
        "                    [12,67,89],\n",
        "                    [34,58,75]])\n",
        "# displaying the matrix\n",
        "print(\"Numpy Matrix is:\")\n",
        "print(n_array)\n",
        "\n",
        "# calculating the trace of a matrix\n",
        "trace = np.trace(n_array)\n",
        "\n",
        "print(\"\\nTrace of given 3x3 matrix:\")\n",
        "print(trace)\n"
      ],
      "metadata": {
        "colab": {
          "base_uri": "https://localhost:8080/"
        },
        "id": "bZnaBiyRQTty",
        "outputId": "f83dfb50-0efc-4a43-f499-d84c1a6a9000"
      },
      "execution_count": null,
      "outputs": [
        {
          "output_type": "stream",
          "name": "stdout",
          "text": [
            "Numpy Matrix is:\n",
            "[[44 55 13]\n",
            " [12 67 89]\n",
            " [34 58 75]]\n",
            "\n",
            "Trace of given 3x3 matrix:\n",
            "186\n"
          ]
        }
      ]
    },
    {
      "cell_type": "code",
      "source": [
        "# exaple 2 :For 4x4 Numpy matrix\n",
        "import numpy as np\n",
        "n_array = np.array([[44,55,13,34],\n",
        "                    [12,67,89,56],\n",
        "                    [34,58,75,78],\n",
        "                    [23,14,76,98]])\n",
        "# displaying the matrix\n",
        "print(\"Numpy Matrix is:\")\n",
        "print(n_array)\n",
        "\n",
        "# calculating the trace of a matrix\n",
        "trace = np.trace(n_array)\n",
        "\n",
        "print(\"\\nTrace of given 3x3 matrix:\")\n",
        "print(trace)"
      ],
      "metadata": {
        "colab": {
          "base_uri": "https://localhost:8080/"
        },
        "id": "m1bCRZUSUR4y",
        "outputId": "851a3ba4-0661-40fb-ebaf-42e4ffdcc2f0"
      },
      "execution_count": null,
      "outputs": [
        {
          "output_type": "stream",
          "name": "stdout",
          "text": [
            "Numpy Matrix is:\n",
            "[[44 55 13 34]\n",
            " [12 67 89 56]\n",
            " [34 58 75 78]\n",
            " [23 14 76 98]]\n",
            "\n",
            "Trace of given 3x3 matrix:\n",
            "284\n"
          ]
        }
      ]
    },
    {
      "cell_type": "code",
      "source": [
        "# Method 2 : Finding the sum of diagonal elements using numpy.diagonal()\n",
        "# syntax: numpy.diagonal(a,offset=0,axis1 = 0, axis2=1)\n",
        "# example 1: for 3x3 Numpy Matrix\n",
        "import numpy as np\n",
        "n_array = np.array([[44,55,13],\n",
        "                    [12,67,89],\n",
        "                    [34,58,75]])\n",
        "\n",
        "print(\"Numpy Matrix is:\")\n",
        "print(n_array)\n",
        "# finding the diagonal elements of matrix\n",
        "diag = np.diagonal (n_array)\n",
        "\n",
        "print(\"\\nDiagonal elements are:\")\n",
        "print(diag)\n",
        "\n",
        "print(\"\\nsum of Diagonal elements is:\")\n",
        "print(np.sum(diag))"
      ],
      "metadata": {
        "colab": {
          "base_uri": "https://localhost:8080/"
        },
        "id": "6uF8T5SUU2ZA",
        "outputId": "4858e53d-1a62-42ba-8f51-d488795a1b11"
      },
      "execution_count": null,
      "outputs": [
        {
          "output_type": "stream",
          "name": "stdout",
          "text": [
            "Numpy Matrix is:\n",
            "[[44 55 13]\n",
            " [12 67 89]\n",
            " [34 58 75]]\n",
            "\n",
            "Diagonal elements are:\n",
            "[44 67 75]\n",
            "\n",
            "sum of Diagonal elements is:\n",
            "186\n"
          ]
        }
      ]
    },
    {
      "cell_type": "code",
      "source": [
        "# example2 : For 5x5 Numpy as Matrix\n",
        "import numpy as np\n",
        "n_array = np.array([[5, 2, 1, 4, 6],\n",
        "                    [9, 4, 2, 5, 2],\n",
        "                    [11, 5, 7, 3, 9],\n",
        "                    [5, 6, 6, 7, 2],\n",
        "                    [7, 5, 9, 3, 3]])\n",
        "\n",
        "print(\"Numpy Matrix is:\")\n",
        "print(n_array)\n",
        "\n",
        "diag = np.diagonal(n_array)\n",
        "\n",
        "print(\"\\nDiagonal elements are:\")\n",
        "print(diag)\n",
        "\n",
        "print(\"\\nSum of Diagonal elements is:\")\n",
        "print(np.sum(diag))"
      ],
      "metadata": {
        "colab": {
          "base_uri": "https://localhost:8080/"
        },
        "id": "KG4ZQ7Hnaf8B",
        "outputId": "fab85309-6067-41a4-eba0-ca437a3832ea"
      },
      "execution_count": null,
      "outputs": [
        {
          "output_type": "stream",
          "name": "stdout",
          "text": [
            "Numpy Matrix is:\n",
            "[[ 5  2  1  4  6]\n",
            " [ 9  4  2  5  2]\n",
            " [11  5  7  3  9]\n",
            " [ 5  6  6  7  2]\n",
            " [ 7  5  9  3  3]]\n",
            "\n",
            "Diagonal elements are:\n",
            "[5 4 7 7 3]\n",
            "\n",
            "Sum of Diagonal elements is:\n",
            "26\n"
          ]
        }
      ]
    },
    {
      "cell_type": "code",
      "source": [
        "# adding and subtracting the matrices in python\n",
        "# 1,adding elements of the matrix\n",
        "# np.add() method used to add elements . if the shape of two arrays rae not same\n",
        "#,that is arr1.shape != arr2.shape ,they must be broard carstable to a common shape\n",
        "#(which maybe the shape of one or the other)\n",
        "import numpy as np\n",
        "A = np.array([[1,2],[3,4]])\n",
        "B = np.array([[4,5],[6,7]])\n",
        "\n",
        "print(\"Printing elements of first matrix\")\n",
        "print(A)\n",
        "\n",
        "print(\"Printing the elements of second matrix\")\n",
        "print(B)\n",
        "\n",
        "# adding the two matrix\n",
        "print(\"Addition of two matrix\")\n",
        "print(np.add(A,B))"
      ],
      "metadata": {
        "id": "Qqcsz6r4bVok",
        "colab": {
          "base_uri": "https://localhost:8080/"
        },
        "outputId": "3d506a71-38e2-4d8b-d10c-6a797cbfeb4d"
      },
      "execution_count": null,
      "outputs": [
        {
          "output_type": "stream",
          "name": "stdout",
          "text": [
            "Printing elements of first matrix\n",
            "[[1 2]\n",
            " [3 4]]\n",
            "Printing the elements of second matrix\n",
            "[[4 5]\n",
            " [6 7]]\n",
            "Addition of two matrix\n",
            "[[ 5  7]\n",
            " [ 9 11]]\n"
          ]
        }
      ]
    },
    {
      "cell_type": "code",
      "source": [
        "# subtracting elements of the matrix\n",
        "# np.subtract()\n",
        "# it returns the difference of arr1 and arr2 ,element-wise\n",
        "import numpy as np\n",
        "A = np.array([[1,2],[3,4]])\n",
        "B = np.array([[4,5],[6,7]])\n",
        "\n",
        "print(\"Printing elements of first matrix\")\n",
        "print(A)\n",
        "\n",
        "print(\"Printing the elements of second matrix\")\n",
        "print(B)\n",
        "\n",
        "# subtracting the two matrix\n",
        "print(\"Addition of two matrix\")\n",
        "print(np.subtract(A,B))"
      ],
      "metadata": {
        "colab": {
          "base_uri": "https://localhost:8080/"
        },
        "id": "cZXioWksFb7m",
        "outputId": "28be3471-8aae-4e4d-b69b-26d846f0215e"
      },
      "execution_count": null,
      "outputs": [
        {
          "output_type": "stream",
          "name": "stdout",
          "text": [
            "Printing elements of first matrix\n",
            "[[1 2]\n",
            " [3 4]]\n",
            "Printing the elements of second matrix\n",
            "[[4 5]\n",
            " [6 7]]\n",
            "Addition of two matrix\n",
            "[[-3 -3]\n",
            " [-3 -3]]\n"
          ]
        }
      ]
    },
    {
      "cell_type": "code",
      "source": [
        "# method 3 :using nested loops\n",
        "# it uses the nested loops to print the elemnets of two matrices then subtract the\n",
        "# corresponding elements of the matrices to get the result matrix\n",
        "# algorithm :\n",
        "# 1.Define two matrices 1 and 2\n",
        "# 2. print the elements of matrix 1 and matrix 2 using the nested loops\n",
        "# 3. Define an empty matrix result of the same size as matrix1\n",
        "# 4. Subtract the corresponding elements of matrix 1 and matrix 2 using the nested loops\n",
        "# and store the result in the result matrix:\n",
        "# 5.print the result matrix\n",
        "matrix1 = [[1,2],[3,4]]\n",
        "matrix2 = [[4,5],[6,7]]\n",
        "\n",
        "# printing the elements of matrix1\n",
        "print(\"Printing elements of first matrix\")\n",
        "for row in matrix1:\n",
        "  for element in row:\n",
        "      print(element,end=\" \")\n",
        "  print()\n",
        "\n",
        "\n",
        "#printing the elements of matrix2\n",
        "print(\"Printing elements of second matrix\")\n",
        "for row in matrix2:\n",
        "  for element in row:\n",
        "      print(element,end=\" \")\n",
        "  print() # this print is for what?\n",
        "\n",
        "# subtracting two matrices\n",
        "result = [[0,0],[0,0]]\n",
        "for i in range(len(matrix1)):\n",
        "  for j in range(len(matrix1[0])):\n",
        "      result[i][j] = matrix1[i][j] - matrix2[i][j]\n",
        "\n",
        "# printing the result\n",
        "print(\"Subtraction of two matrix\")\n",
        "for row in result:\n",
        "  for elemnet in row:\n",
        "    print(element,end=\" \")\n",
        "  print()"
      ],
      "metadata": {
        "colab": {
          "base_uri": "https://localhost:8080/"
        },
        "id": "ODBZBc4YGKm9",
        "outputId": "1c0ad39d-78ae-40db-cd3f-643eea941897"
      },
      "execution_count": null,
      "outputs": [
        {
          "output_type": "stream",
          "name": "stdout",
          "text": [
            "Printing elements of first matrix\n",
            "1 2 \n",
            "3 4 \n",
            "Printing elements of second matrix\n",
            "4 5 \n",
            "6 7 \n",
            "Subtraction of two matrix\n",
            "7 7 \n",
            "7 7 \n"
          ]
        }
      ]
    },
    {
      "cell_type": "code",
      "source": [
        "matrix1 = [[1, 2], [3, 4]]\n",
        "matrix2 = [[4, 5], [6, 7]]\n",
        "\n",
        "# Printing elements of matrix1\n",
        "print(\"Printing elements of first matrix\")\n",
        "for row in matrix1:\n",
        "    for element in row:\n",
        "        print(element, end=\" \")\n",
        "    print()\n",
        "\n",
        "# Printing elements of matrix2\n",
        "print(\"Printing elements of second matrix\")\n",
        "for row in matrix2:\n",
        "    for element in row:\n",
        "        print(element, end=\" \")\n",
        "    print()\n",
        "\n",
        "# Subtracting two matrices\n",
        "result = [[0, 0], [0, 0]]\n",
        "for i in range(len(matrix1)):\n",
        "    for j in range(len(matrix1[0])):\n",
        "        result[i][j] = matrix1[i][j] - matrix2[i][j]\n",
        "\n",
        "# Printing the result\n",
        "print(\"Subtraction of two matrix\")\n",
        "for row in result:\n",
        "    for element in row:\n",
        "       print(element, end=\" \")\n",
        "    print()"
      ],
      "metadata": {
        "colab": {
          "base_uri": "https://localhost:8080/"
        },
        "id": "ZcqEHKdGLJxb",
        "outputId": "825ac99a-2734-4f83-8a6f-8a85780c20af"
      },
      "execution_count": null,
      "outputs": [
        {
          "output_type": "stream",
          "name": "stdout",
          "text": [
            "Printing elements of first matrix\n",
            "1 2 \n",
            "3 4 \n",
            "Printing elements of second matrix\n",
            "4 5 \n",
            "6 7 \n",
            "Subtraction of two matrix\n",
            "-3 -3 \n",
            "-3 -3 \n"
          ]
        }
      ]
    },
    {
      "cell_type": "code",
      "source": [
        "# ways to add row and columns in numpy array\n",
        "# Add colmns in the numpy array\n",
        "# method 1 :Using np.append()\n",
        "import numpy as np\n",
        "ini_array = np.array([[1,2,3],[45,4,7],[9,6,10]])\n",
        "\n",
        "# printing the intial array\n",
        "print(\"intial_array:\",str(ini_array));\n",
        "\n",
        "#array to be added as column\n",
        "column_to_be_added = np.array([[1],[2],[3]])\n",
        "\n",
        "# Adding column to array using append() method\n",
        "arr = np.append(ini_array,column_to_be_added,axis = 1)\n",
        "\n",
        "# printing the result\n",
        "print(\"result array \",str(arr))"
      ],
      "metadata": {
        "colab": {
          "base_uri": "https://localhost:8080/"
        },
        "id": "zoflVVUz-JBZ",
        "outputId": "86145d22-e12e-4143-a71d-166011bcad6a"
      },
      "execution_count": 4,
      "outputs": [
        {
          "output_type": "stream",
          "name": "stdout",
          "text": [
            "intial_array: [[ 1  2  3]\n",
            " [45  4  7]\n",
            " [ 9  6 10]]\n",
            "result array  [[ 1  2  3  1]\n",
            " [45  4  7  2]\n",
            " [ 9  6 10  3]]\n"
          ]
        }
      ]
    },
    {
      "cell_type": "code",
      "source": [
        "# method 2 :using concatenate\n",
        "import numpy as np\n",
        "ini_array = np.array([[1,2,3],[45,4,7],[9,6,10]])\n",
        "\n",
        "# printing the intial array\n",
        "print(\"intial_array:\",str(ini_array));\n",
        "\n",
        "#array to be added as column\n",
        "column_to_be_added = np.array([[1],[2],[3]])\n",
        "\n",
        "# Adding column to array using append() method\n",
        "arr = np.concatenate([ini_array,column_to_be_added],axis = 1)\n",
        "\n",
        "# printing the result\n",
        "print(\"result array \",str(arr))"
      ],
      "metadata": {
        "colab": {
          "base_uri": "https://localhost:8080/"
        },
        "id": "cTzSJVMuA2vg",
        "outputId": "dd05957f-21d2-481e-c3b2-99537e7d0dad"
      },
      "execution_count": 6,
      "outputs": [
        {
          "output_type": "stream",
          "name": "stdout",
          "text": [
            "intial_array: [[ 1  2  3]\n",
            " [45  4  7]\n",
            " [ 9  6 10]]\n",
            "result array  [[ 1  2  3  1]\n",
            " [45  4  7  2]\n",
            " [ 9  6 10  3]]\n"
          ]
        }
      ]
    },
    {
      "cell_type": "code",
      "source": [
        "#method 3: using insert()\n",
        "import numpy as np\n",
        "ini_array = np.array([[1, 2, 3], [45, 4, 7], [9, 6, 10]])\n",
        "\n",
        "# Array to be added as column\n",
        "column_to_be_added = np.array([[1], [2], [3]])\n",
        "\n",
        "# adding column to array using append() method\n",
        "arr = np.insert(ini_array,0,column_to_be_added,axis=1)\n",
        "\n",
        "# print the result\n",
        "print(\"resultant array:\",str(arr))"
      ],
      "metadata": {
        "colab": {
          "base_uri": "https://localhost:8080/"
        },
        "id": "nFE6d4KEBeCR",
        "outputId": "b93f3292-f5e9-4a7b-eec2-1abad430efd2"
      },
      "execution_count": 7,
      "outputs": [
        {
          "output_type": "stream",
          "name": "stdout",
          "text": [
            "resultant array: [[ 1  2  3  1  2  3]\n",
            " [ 1  2  3 45  4  7]\n",
            " [ 1  2  3  9  6 10]]\n"
          ]
        }
      ]
    },
    {
      "cell_type": "code",
      "source": [
        " # method 4:using np.hstack()\n",
        "import numpy as np\n",
        "\n",
        "ini_array = np.array([[1, 2, 3], [45, 4, 7], [9, 6, 10]])\n",
        "\n",
        "# Array to be added as column\n",
        "column_to_be_added = np.array([1, 2, 3])\n",
        "\n",
        "# adding coulmn to numpy array\n",
        "result = np.hstack((ini_array,np.atleast_2d(column_to_be_added).T))\n",
        "\n",
        "print(\"resultant array\",str(result))"
      ],
      "metadata": {
        "colab": {
          "base_uri": "https://localhost:8080/"
        },
        "id": "jP-5KFGUCun_",
        "outputId": "ca965684-e4f7-4a7d-f4d3-4fe7e3e550ff"
      },
      "execution_count": 8,
      "outputs": [
        {
          "output_type": "stream",
          "name": "stdout",
          "text": [
            "resultant array [[ 1  2  3  1]\n",
            " [45  4  7  2]\n",
            " [ 9  6 10  3]]\n"
          ]
        }
      ]
    },
    {
      "cell_type": "code",
      "source": [
        "# method 5 :using np.coulmn_stack()\n",
        "import numpy as np\n",
        "\n",
        "ini_array = np.array([[1, 2, 3], [45, 4, 7], [9, 6, 10]])\n",
        "\n",
        "# Array to be added as column\n",
        "column_to_be_added = np.array([1, 2, 3])\n",
        "\n",
        "# Adding column to numpy array\n",
        "result = np.column_stack((ini_array,column_to_be_added))\n",
        "\n",
        "print(\"resultant array:\",str(result))"
      ],
      "metadata": {
        "colab": {
          "base_uri": "https://localhost:8080/"
        },
        "id": "LXcH8q5fD4LH",
        "outputId": "0c8a6474-9e31-41d5-e3c5-03205dbebc08"
      },
      "execution_count": 9,
      "outputs": [
        {
          "output_type": "stream",
          "name": "stdout",
          "text": [
            "resultant array: [[ 1  2  3  1]\n",
            " [45  4  7  2]\n",
            " [ 9  6 10  3]]\n"
          ]
        }
      ]
    },
    {
      "cell_type": "code",
      "source": [
        "# ADD ROWS IN NUMPY ARRAY\n",
        "# method 1 :using np.r_\n",
        "import numpy as np\n",
        "\n",
        "ini_array = np.array([[1, 2, 3], [45, 4, 7], [9, 6, 10]])\n",
        "\n",
        "# printing initial array\n",
        "print(\"initial_array : \", str(ini_array));\n",
        "\n",
        "# array to be added as row\n",
        "row_to_be_added = np.array([1,2,3])\n",
        "\n",
        "# adding row to numpy array\n",
        "result = np.r_[ini_array,[row_to_be_added]]\n",
        "\n",
        "print(\"resultant array\",str(result))"
      ],
      "metadata": {
        "colab": {
          "base_uri": "https://localhost:8080/"
        },
        "id": "Tofbl9F7Eo1O",
        "outputId": "759f812a-affd-4702-cc23-b0de8dfdbae5"
      },
      "execution_count": 11,
      "outputs": [
        {
          "output_type": "stream",
          "name": "stdout",
          "text": [
            "initial_array :  [[ 1  2  3]\n",
            " [45  4  7]\n",
            " [ 9  6 10]]\n",
            "resultant array [[ 1  2  3]\n",
            " [45  4  7]\n",
            " [ 9  6 10]\n",
            " [ 1  2  3]]\n"
          ]
        }
      ]
    },
    {
      "cell_type": "code",
      "source": [
        "# method 2 using np.insert()\n",
        "import numpy as np\n",
        "\n",
        "ini_array = np.array([[1, 2, 3], [45, 4, 7], [9, 6, 10]])\n",
        "\n",
        "# Array to be added as row\n",
        "row_to_be_added = np.array([1, 2, 3])\n",
        "\n",
        "#last row\n",
        "row_n = arr.shape[0]\n",
        "arr = np.insert(ini_array,row_n,[row_to_be_added],axis= 0)\n",
        "\n",
        "# printing result\n",
        "print (\"resultant array\", str(arr))"
      ],
      "metadata": {
        "colab": {
          "base_uri": "https://localhost:8080/"
        },
        "id": "-ZWaQQDMGgbt",
        "outputId": "56f194af-2c8f-4727-a364-b60beae950a7"
      },
      "execution_count": 12,
      "outputs": [
        {
          "output_type": "stream",
          "name": "stdout",
          "text": [
            "resultant array [[ 1  2  3]\n",
            " [45  4  7]\n",
            " [ 9  6 10]\n",
            " [ 1  2  3]]\n"
          ]
        }
      ]
    },
    {
      "cell_type": "code",
      "source": [
        "# method 4: numpy.append()\n",
        "# example 1:Adding new rows to an empty 2-D array\n",
        "import numpy as np\n",
        "\n",
        "# creating the an empty 2d array of int type\n",
        "empt_array = np.empty((0,2),int)\n",
        "print(\"Empty array:\")\n",
        "print(empt_array)\n",
        "\n",
        "# adding two new rows to empt_array\n",
        "# using np.append()\n",
        "empt_array = np.append(empt_array,np.array([[10,20]]),axis = 0)\n",
        "empt_array = np.append(empt_array,np.array([[40,50]]),axis = 0)\n",
        "\n",
        "print(\"\\nNow array is:\")\n",
        "print(empt_array)"
      ],
      "metadata": {
        "colab": {
          "base_uri": "https://localhost:8080/"
        },
        "id": "VKPVLqZXHTOG",
        "outputId": "22650b0d-52c1-45f1-a064-3e2e9dc0825c"
      },
      "execution_count": 14,
      "outputs": [
        {
          "output_type": "stream",
          "name": "stdout",
          "text": [
            "Empty array:\n",
            "[]\n",
            "\n",
            "Now array is:\n",
            "[[10 20]\n",
            " [40 50]]\n"
          ]
        }
      ]
    },
    {
      "cell_type": "code",
      "source": [
        "# Matrix multiplication in NumPY\n",
        "# IN python numpy.dot() method is used to calculate the dot product between two arrays\n",
        "# example1 :Matrix Multiplication of 2 square matrices\n",
        "import numpy as np\n",
        "\n",
        "# creaing two matrices\n",
        "p = [[1,2],[2,3]]\n",
        "q = [[4,5],[6,7]]\n",
        "print(\"Matrix p:\")\n",
        "print(p)\n",
        "print(\"Matrix q:\")\n",
        "print(q)\n",
        "\n",
        "# computing product\n",
        "result = np.dot(p,q)\n",
        "\n",
        "# printing the result\n",
        "print(\"The matrix multiplication is:\")\n",
        "print(result)\n"
      ],
      "metadata": {
        "colab": {
          "base_uri": "https://localhost:8080/"
        },
        "id": "FxWAiRrxKHnd",
        "outputId": "a72ee5ea-f77b-48c0-d6c6-ca949e50f15d"
      },
      "execution_count": 16,
      "outputs": [
        {
          "output_type": "stream",
          "name": "stdout",
          "text": [
            "Matrix p:\n",
            "[[1, 2], [2, 3]]\n",
            "Matrix q:\n",
            "[[4, 5], [6, 7]]\n",
            "The matrix multiplication is:\n",
            "[[16 19]\n",
            " [26 31]]\n"
          ]
        }
      ]
    },
    {
      "cell_type": "code",
      "source": [
        "# Matrix multiplication of rectangular matrix"
      ],
      "metadata": {
        "id": "AHEQpgnlN_Q7"
      },
      "execution_count": null,
      "outputs": []
    },
    {
      "cell_type": "code",
      "source": [
        "# get eigen values of a matrix\n",
        "# method : np.eignvals()\n",
        "# example 1 :\n",
        "\n",
        "from numpy import linalg as LA # what is LA?\n",
        "\n",
        "# using the np.eiganvals() method\n",
        "gf = LA.eigvals([[1,2],[3,4]])\n",
        "\n",
        "print(gf)"
      ],
      "metadata": {
        "colab": {
          "base_uri": "https://localhost:8080/"
        },
        "id": "GCly4HsxOMn9",
        "outputId": "ec3110e7-ab89-43da-bd40-37d908892801"
      },
      "execution_count": 25,
      "outputs": [
        {
          "output_type": "stream",
          "name": "stdout",
          "text": [
            "[-0.37228132  5.37228132]\n"
          ]
        }
      ]
    },
    {
      "cell_type": "code",
      "source": [
        "# example 2:\n",
        "from numpy import linalg as LA\n",
        "gf = LA.eigvals([[1,2,3],[4,5,6],[7,8,9]])\n",
        "\n",
        "print(gf)"
      ],
      "metadata": {
        "colab": {
          "base_uri": "https://localhost:8080/"
        },
        "id": "CKSxQ_OCR5jI",
        "outputId": "9d0c8001-2de3-4c01-f20e-7f2b096336ce"
      },
      "execution_count": 27,
      "outputs": [
        {
          "output_type": "stream",
          "name": "stdout",
          "text": [
            "[ 1.61168440e+01 -1.11684397e+00 -1.30367773e-15]\n"
          ]
        }
      ]
    },
    {
      "cell_type": "code",
      "source": [
        "# Calculating the determinant of a matrix using NumPy\n",
        "# A Special number that can be calculated from a square matrix - Determinant of a square matrix\n",
        "# syntax: numpy.linalg.det(array)\n",
        "# example 1: Determinant of 2x2 Numpy matrix\n",
        "import numpy as np\n",
        "\n",
        "n_array = np.array([[50,29],[30,44]])\n",
        "\n",
        "# displaying the matrix\n",
        "print(\"Numpy Matrix is:\")\n",
        "print(n_array)\n",
        "\n",
        "# calculating the determinant of matrix\n",
        "det = np.linalg.det(n_array)\n",
        "\n",
        "print(\"n\\Determinant of given 2x2 matrix:\")\n",
        "print(int(det))"
      ],
      "metadata": {
        "colab": {
          "base_uri": "https://localhost:8080/"
        },
        "id": "MaIZfqw0SlhL",
        "outputId": "75455460-2e3a-4299-ee0a-c650fd4a69f6"
      },
      "execution_count": 28,
      "outputs": [
        {
          "output_type": "stream",
          "name": "stdout",
          "text": [
            "Numpy Matrix is:\n",
            "[[50 29]\n",
            " [30 44]]\n",
            "n\\Determinant of given 2x2 matrix:\n",
            "1330\n"
          ]
        }
      ]
    },
    {
      "cell_type": "code",
      "source": [
        "# Inverse a matrix using numpy\n",
        "# syntax :numpy.linalg.inv(a)\n",
        "# parmeters\n",
        "# a:Matrix to be inverted\n",
        "# Returns: inverse of matrix\n",
        "# example 1:\n",
        "import numpy as np\n",
        "\n",
        "# taking 3x3 matrix\n",
        "A = np.array([[6, 1, 1],\n",
        "              [4, -2, 5],\n",
        "              [2, 8, 7]])\n",
        "\n",
        "# calculating the inverse of the matrix\n",
        "print(np.linalg.inv(A))"
      ],
      "metadata": {
        "colab": {
          "base_uri": "https://localhost:8080/"
        },
        "id": "yCmlUOUMVZyv",
        "outputId": "20df65d5-9039-47be-92f8-0c1cca5d29f9"
      },
      "execution_count": 29,
      "outputs": [
        {
          "output_type": "stream",
          "name": "stdout",
          "text": [
            "[[ 0.17647059 -0.00326797 -0.02287582]\n",
            " [ 0.05882353 -0.13071895  0.08496732]\n",
            " [-0.11764706  0.1503268   0.05228758]]\n"
          ]
        }
      ]
    },
    {
      "cell_type": "code",
      "source": [
        "# example 2: create multiple numpy array matrices and then convert them in to\n",
        "# their inverse matrices using np.linalg.inv() function\n",
        "import numpy as np\n",
        "\n",
        "# Inverse of several matrices can be computed at once\n",
        "A = np.array([[[1.,2.],[3.,4.]],\n",
        "             [[1,3],[3,5]]])\n",
        "\n",
        "# calculating the inverse of matrix\n",
        "print(np.linalg.inv(A))"
      ],
      "metadata": {
        "colab": {
          "base_uri": "https://localhost:8080/"
        },
        "id": "xZL_bFMdZH81",
        "outputId": "2baa2f04-4938-437b-a1c8-1d140b5e803c"
      },
      "execution_count": 33,
      "outputs": [
        {
          "output_type": "stream",
          "name": "stdout",
          "text": [
            "[[[-2.    1.  ]\n",
            "  [ 1.5  -0.5 ]]\n",
            "\n",
            " [[-1.25  0.75]\n",
            "  [ 0.75 -0.25]]]\n"
          ]
        }
      ]
    }
  ]
}