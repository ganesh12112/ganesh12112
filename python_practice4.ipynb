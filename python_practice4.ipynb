{
  "nbformat": 4,
  "nbformat_minor": 0,
  "metadata": {
    "colab": {
      "provenance": [],
      "authorship_tag": "ABX9TyPnHVWf4zdUwvhqIsuYtC9X",
      "include_colab_link": true
    },
    "kernelspec": {
      "name": "python3",
      "display_name": "Python 3"
    },
    "language_info": {
      "name": "python"
    }
  },
  "cells": [
    {
      "cell_type": "markdown",
      "metadata": {
        "id": "view-in-github",
        "colab_type": "text"
      },
      "source": [
        "<a href=\"https://colab.research.google.com/github/ganesh12112/ganesh12112/blob/main/python_practice4.ipynb\" target=\"_parent\"><img src=\"https://colab.research.google.com/assets/colab-badge.svg\" alt=\"Open In Colab\"/></a>"
      ]
    },
    {
      "cell_type": "code",
      "execution_count": null,
      "metadata": {
        "id": "hxV685kZup0A"
      },
      "outputs": [],
      "source": [
        "# Name spaces and Scope in python\n",
        "# variable vs method\n",
        "# it self maintains name space in the form of dictionary\n",
        "# namespace - it is system unique name for each and every object in python\n",
        "# eg - Directory file sysytem in the computer\n",
        "# realtime example - surname like -ganeshchowdary and ganeshchoube and ganeshtanaji\n",
        "# name - unique identifier and space - scope\n",
        "# name might be a any python method or variable and space\n",
        "# depends upon the location from where is trying to access a varible or a method\n",
        "# when user creates module,a global namespaces gets created"
      ]
    },
    {
      "cell_type": "code",
      "source": [
        "# lifetime of a namespace\n",
        "# depends upon the scope of objects ,if it ends ,lifetime also comes to end\n",
        "# hence it's not possible to access the inner namespace's objects from an outerspace\n",
        "\n",
        "# var 1 is the global namespace\n",
        "var1 = 5\n",
        "def some_func():\n",
        "\n",
        "  # var2 is the localspace\n",
        "  var2 = 6\n",
        "  return var2\n",
        "  def some_inner_func():\n",
        "\n",
        "    # var3 is the nested local\n",
        "    # namespace\n",
        "    var3 = 7\n",
        "    return var3\n",
        "    some_inner_func()\n",
        "some_func()"
      ],
      "metadata": {
        "colab": {
          "base_uri": "https://localhost:8080/"
        },
        "id": "K5-ZdnnD0WPf",
        "outputId": "34d153d6-751e-49f8-b8f7-c7709eb208c0"
      },
      "execution_count": 5,
      "outputs": [
        {
          "output_type": "execute_result",
          "data": {
            "text/plain": [
              "6"
            ]
          },
          "metadata": {},
          "execution_count": 5
        }
      ]
    },
    {
      "cell_type": "code",
      "source": [
        "# same object name can be present in multiple namespaces as isolation between the same\n",
        "#name is maintainedby thier namespace\n",
        "# each namespace conatibs different variables and sometimes same also\n",
        "# ex - nsp1 - var1,var2,var4 and nsp2 - var3,var2,var7 and nsp3 - var8,var7,var9\n",
        "\n",
        "\n",
        "# Note that the line “count = count +1” references the global variable and\n",
        "# therefore uses the global variable, but compare this to the same line\n",
        "# written “count = 1”.  Then the line “global count” is absolutely needed\n",
        "#according to scope rules.\n",
        "# what are scope rule here?"
      ],
      "metadata": {
        "id": "pVKfSqQh31dF"
      },
      "execution_count": null,
      "outputs": []
    },
    {
      "cell_type": "code",
      "source": [
        "# global variable\n",
        "count = 5\n",
        "def some_method():\n",
        "  global count\n",
        "  count = count + 1   #*****\n",
        "  print(count)\n",
        "some_method()"
      ],
      "metadata": {
        "colab": {
          "base_uri": "https://localhost:8080/"
        },
        "id": "AN2_xV-D5-N8",
        "outputId": "1c4f2080-94c3-4b29-f83f-22184a4e6c58"
      },
      "execution_count": 6,
      "outputs": [
        {
          "output_type": "stream",
          "name": "stdout",
          "text": [
            "6\n"
          ]
        }
      ]
    },
    {
      "cell_type": "code",
      "source": [
        "# scope of objects in python\n",
        "# scope refers to the coding region from which a particular python object is\n",
        "# accessible . Hence one cannot access any particular python object from anywhere\n",
        "# from the code ,the accessing has to allowed by the scope of the object\n",
        "\n",
        "# scope of object\n",
        "# example 1\n",
        "def some_func():\n",
        "  print(\"inside some_func\")\n",
        "  def some_inner_func():\n",
        "      var = 10\n",
        "      print(\"inside inner function,value of var:\",var)\n",
        "  some_inner_func()\n",
        "  print(\"Try printing var from outer function:\",var)\n",
        "some_func()"
      ],
      "metadata": {
        "colab": {
          "base_uri": "https://localhost:8080/",
          "height": 349
        },
        "id": "OQV_pSBZ8guN",
        "outputId": "2e85c907-2f4b-4158-9a0b-3f94ba898e95"
      },
      "execution_count": 10,
      "outputs": [
        {
          "output_type": "stream",
          "name": "stdout",
          "text": [
            "inside some_func\n",
            "inside inner function,value of var: 10\n"
          ]
        },
        {
          "output_type": "error",
          "ename": "NameError",
          "evalue": "ignored",
          "traceback": [
            "\u001b[0;31m---------------------------------------------------------------------------\u001b[0m",
            "\u001b[0;31mNameError\u001b[0m                                 Traceback (most recent call last)",
            "\u001b[0;32m<ipython-input-10-519b551ffde4>\u001b[0m in \u001b[0;36m<cell line: 15>\u001b[0;34m()\u001b[0m\n\u001b[1;32m     13\u001b[0m   \u001b[0msome_inner_func\u001b[0m\u001b[0;34m(\u001b[0m\u001b[0;34m)\u001b[0m\u001b[0;34m\u001b[0m\u001b[0;34m\u001b[0m\u001b[0m\n\u001b[1;32m     14\u001b[0m   \u001b[0mprint\u001b[0m\u001b[0;34m(\u001b[0m\u001b[0;34m\"Try printing var from outer function:\"\u001b[0m\u001b[0;34m,\u001b[0m\u001b[0mvar\u001b[0m\u001b[0;34m)\u001b[0m\u001b[0;34m\u001b[0m\u001b[0;34m\u001b[0m\u001b[0m\n\u001b[0;32m---> 15\u001b[0;31m \u001b[0msome_func\u001b[0m\u001b[0;34m(\u001b[0m\u001b[0;34m)\u001b[0m\u001b[0;34m\u001b[0m\u001b[0;34m\u001b[0m\u001b[0m\n\u001b[0m",
            "\u001b[0;32m<ipython-input-10-519b551ffde4>\u001b[0m in \u001b[0;36msome_func\u001b[0;34m()\u001b[0m\n\u001b[1;32m     12\u001b[0m       \u001b[0mprint\u001b[0m\u001b[0;34m(\u001b[0m\u001b[0;34m\"inside inner function,value of var:\"\u001b[0m\u001b[0;34m,\u001b[0m\u001b[0mvar\u001b[0m\u001b[0;34m)\u001b[0m\u001b[0;34m\u001b[0m\u001b[0;34m\u001b[0m\u001b[0m\n\u001b[1;32m     13\u001b[0m   \u001b[0msome_inner_func\u001b[0m\u001b[0;34m(\u001b[0m\u001b[0;34m)\u001b[0m\u001b[0;34m\u001b[0m\u001b[0;34m\u001b[0m\u001b[0m\n\u001b[0;32m---> 14\u001b[0;31m   \u001b[0mprint\u001b[0m\u001b[0;34m(\u001b[0m\u001b[0;34m\"Try printing var from outer function:\"\u001b[0m\u001b[0;34m,\u001b[0m\u001b[0mvar\u001b[0m\u001b[0;34m)\u001b[0m\u001b[0;34m\u001b[0m\u001b[0;34m\u001b[0m\u001b[0m\n\u001b[0m\u001b[1;32m     15\u001b[0m \u001b[0msome_func\u001b[0m\u001b[0;34m(\u001b[0m\u001b[0;34m)\u001b[0m\u001b[0;34m\u001b[0m\u001b[0;34m\u001b[0m\u001b[0m\n",
            "\u001b[0;31mNameError\u001b[0m: name 'var' is not defined"
          ]
        }
      ]
    },
    {
      "cell_type": "code",
      "source": [
        "# statement ,Indendation and Commet in python\n",
        "# difference between 'Docstrings' and 'Multi-line Comments'\n",
        "# statements - assigment,conditional,loooping etc -----\n",
        "# 'Multiline statements\n",
        "# python conditional and loop statements - if-else,for,while-loop,try-except,with\n",
        "# python expression statements -pass,del,return,import,continue,break"
      ],
      "metadata": {
        "id": "WCRjcioD_OIG"
      },
      "execution_count": null,
      "outputs": []
    }
  ]
}