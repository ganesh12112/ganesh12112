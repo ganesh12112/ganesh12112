{
  "nbformat": 4,
  "nbformat_minor": 0,
  "metadata": {
    "colab": {
      "provenance": [],
      "authorship_tag": "ABX9TyNn0o+sunoUIbqHfDfwSF1Q",
      "include_colab_link": true
    },
    "kernelspec": {
      "name": "python3",
      "display_name": "Python 3"
    },
    "language_info": {
      "name": "python"
    }
  },
  "cells": [
    {
      "cell_type": "markdown",
      "metadata": {
        "id": "view-in-github",
        "colab_type": "text"
      },
      "source": [
        "<a href=\"https://colab.research.google.com/github/ganesh12112/ganesh12112/blob/main/python_practice_1_.ipynb\" target=\"_parent\"><img src=\"https://colab.research.google.com/assets/colab-badge.svg\" alt=\"Open In Colab\"/></a>"
      ]
    },
    {
      "cell_type": "code",
      "execution_count": 1,
      "metadata": {
        "colab": {
          "base_uri": "https://localhost:8080/"
        },
        "id": "Gg6vjN0xutkH",
        "outputId": "e6ff4bf2-43c0-4d03-c63c-6044bf486181"
      },
      "outputs": [
        {
          "output_type": "stream",
          "name": "stdout",
          "text": [
            "[24, 35, 9, 56, 12]\n"
          ]
        }
      ],
      "source": [
        "# python 3 program to swaap  first and last element of list\n",
        "# swap function\n",
        "def swapList(newList):\n",
        "  size = len(newList)\n",
        "\n",
        "  # swapping\n",
        "  temp = newList[0]              # explain this code\n",
        "  newList[0] = newList[size-1]\n",
        "  newList[size-1] = temp\n",
        "\n",
        "  return newList\n",
        "\n",
        "# Driver code\n",
        "newList = [12,35,9,56,24]\n",
        "print(swapList(newList))"
      ]
    },
    {
      "cell_type": "code",
      "source": [
        "# method 2\n",
        "def swapList(newList):\n",
        "\n",
        "  newList[0],newList[-1] = newList[-1],newList[0]\n",
        "\n",
        "  return newList\n",
        "# driver code\n",
        "\n",
        "newList = [12,35,9,56,24]\n",
        "print(swapList(newList))"
      ],
      "metadata": {
        "colab": {
          "base_uri": "https://localhost:8080/"
        },
        "id": "Er14dYbhxiMW",
        "outputId": "7cfb0aba-0d71-45ce-cb4a-1f9021594df5"
      },
      "execution_count": 2,
      "outputs": [
        {
          "output_type": "stream",
          "name": "stdout",
          "text": [
            "[24, 35, 9, 56, 12]\n"
          ]
        }
      ]
    },
    {
      "cell_type": "code",
      "source": [
        "# python program to swap two elements in a list\n",
        "def swapPositions(list,pos1,pos2):\n",
        "\n",
        "  list[pos1],list[pos2] = list[pos2],list[pos1]\n",
        "  return list        # why return is important ?\n",
        "\n",
        "# driver function\n",
        "list = [23,65,19,90]\n",
        "\n",
        "pos1 ,pos2 = 1,3\n",
        "\n",
        "print(swapPositions(list,pos1-1,pos2-1))"
      ],
      "metadata": {
        "colab": {
          "base_uri": "https://localhost:8080/"
        },
        "id": "a9zXhIdQyxZB",
        "outputId": "14a8bbf2-4a9e-41f4-be76-811413e12bef"
      },
      "execution_count": 3,
      "outputs": [
        {
          "output_type": "stream",
          "name": "stdout",
          "text": [
            "[19, 65, 23, 90]\n"
          ]
        }
      ]
    },
    {
      "cell_type": "code",
      "source": [
        "# swapping using temp variable\n",
        "def swapPositions(list,pos1,pos2):\n",
        "\n",
        "    temp = list[pos1]\n",
        "    list[pos1] = list[pos2]\n",
        "    list[pos2] = temp\n",
        "\n",
        "    return list\n",
        "\n",
        "# driver function\n",
        "list = [23,35,9,90]\n",
        "pos1,pos2 = 1,3\n",
        "\n",
        "print(swapPositions(list,pos1-1,pos2-1))"
      ],
      "metadata": {
        "colab": {
          "base_uri": "https://localhost:8080/"
        },
        "id": "Br0OUDKQ1Th1",
        "outputId": "dc0b96df-6b16-4532-e73c-c307fb9b577f"
      },
      "execution_count": 4,
      "outputs": [
        {
          "output_type": "stream",
          "name": "stdout",
          "text": [
            "[9, 35, 23, 90]\n"
          ]
        }
      ]
    },
    {
      "cell_type": "code",
      "source": [
        "# swapping using enumerate\n",
        "def swapPositions(list,pos1,pos2):\n",
        "  for i ,x in enumerate(list):\n",
        "    if i == pos1:\n",
        "      elem1 = x\n",
        "    if i == pos2:\n",
        "      elem2 = x\n",
        "\n",
        "  list[pos1] = elem2\n",
        "  list[pos2] = elem1\n",
        "  return list\n",
        "\n",
        "list = [23,35,9,56]\n",
        "pos1,pos2 = 1,3\n",
        "print(swapPositions(list,pos1-1,pos2-1))"
      ],
      "metadata": {
        "colab": {
          "base_uri": "https://localhost:8080/"
        },
        "id": "qo3QRti42g3O",
        "outputId": "0ddf612b-5b37-4a0e-d6bc-45ce28e149b4"
      },
      "execution_count": 5,
      "outputs": [
        {
          "output_type": "stream",
          "name": "stdout",
          "text": [
            "[9, 35, 23, 56]\n"
          ]
        }
      ]
    },
    {
      "cell_type": "code",
      "source": [
        "# find length of a list in python\n",
        "li = [10,20,30]\n",
        "n = len(li)\n",
        "print(\"the length of list is:\",n)"
      ],
      "metadata": {
        "colab": {
          "base_uri": "https://localhost:8080/"
        },
        "id": "7qTi4fFB4vNY",
        "outputId": "e6624f32-2c87-4e2d-f126-65dafdc608b9"
      },
      "execution_count": 6,
      "outputs": [
        {
          "output_type": "stream",
          "name": "stdout",
          "text": [
            "the length of list is: 3\n"
          ]
        }
      ]
    },
    {
      "cell_type": "code",
      "source": [
        "# by sum method\n",
        "test_list = [1,4,5,7,8]\n",
        "\n",
        "print(\"the list is:\" + str(test_list))\n",
        "\n",
        "list_len = sum(1 for i in test_list)\n",
        "\n",
        "print(\"length of list using len() is:\" , str(list_len))"
      ],
      "metadata": {
        "colab": {
          "base_uri": "https://localhost:8080/"
        },
        "id": "JRURkVz85rhB",
        "outputId": "90bec76b-5740-41b3-d8be-d3c34acdbbab"
      },
      "execution_count": 10,
      "outputs": [
        {
          "output_type": "stream",
          "name": "stdout",
          "text": [
            "the list is:[1, 4, 5, 7, 8]\n",
            "length of list using len() is: 5\n"
          ]
        }
      ]
    },
    {
      "cell_type": "code",
      "source": [
        "# checks if element exists in list in python\n",
        "list = [1,6,3,5,3,4]\n",
        "\n",
        "i = 7\n",
        "\n",
        "if i in list:\n",
        "  print(\"exist\")\n",
        "else:\n",
        "  print(\"not exist\")"
      ],
      "metadata": {
        "colab": {
          "base_uri": "https://localhost:8080/"
        },
        "id": "Yt5sf4bz6jxb",
        "outputId": "40f0d642-a362-4f37-a97d-abb15717f96f"
      },
      "execution_count": 11,
      "outputs": [
        {
          "output_type": "stream",
          "name": "stdout",
          "text": [
            "not exist\n"
          ]
        }
      ]
    },
    {
      "cell_type": "code",
      "source": [
        "#using the loop\n",
        "test_list = [1,5,5,6,7,4]\n",
        "\n",
        "for i in test_list:\n",
        "  if(i == 8):\n",
        "    print(\"element exists\")\n"
      ],
      "metadata": {
        "id": "5wdMvarj8uPw"
      },
      "execution_count": 18,
      "outputs": []
    },
    {
      "cell_type": "code",
      "source": [
        "# using try-except block\n",
        "def element_exists(list,element):\n",
        "  # try to get index of  elements in the list\n",
        "  try:\n",
        "    list.index(element)\n",
        "    # if the element is found ,return true\n",
        "    return True\n",
        "    # if a value error is riased , the element is not in the list\n",
        "  except ValueError:\n",
        "    # return false in this case\n",
        "    return False\n",
        "\n",
        "# test the function\n",
        "test_list = [1,6,3,5,3,4]\n",
        "\n",
        "print(element_exists(test_list,3))\n",
        "print(element_exists(test_list,7))"
      ],
      "metadata": {
        "colab": {
          "base_uri": "https://localhost:8080/"
        },
        "id": "3yonvV-l90FY",
        "outputId": "7ba78471-d5c4-4ca7-bdd4-652c059a065f"
      },
      "execution_count": 22,
      "outputs": [
        {
          "output_type": "stream",
          "name": "stdout",
          "text": [
            "True\n",
            "False\n"
          ]
        }
      ]
    },
    {
      "cell_type": "code",
      "source": [
        "# different ways to clear list\n",
        "ganesh = [1,2,3,4,5]\n",
        "print('ganesh before clear:',ganesh)\n",
        "\n",
        "ganesh.clear()\n",
        "print('ganesh after clear:',ganesh)"
      ],
      "metadata": {
        "colab": {
          "base_uri": "https://localhost:8080/"
        },
        "id": "KV8PVN3S_2Vo",
        "outputId": "906d7916-f877-495f-e8cf-73c93a8246de"
      },
      "execution_count": 23,
      "outputs": [
        {
          "output_type": "stream",
          "name": "stdout",
          "text": [
            "ganesh before clear: [1, 2, 3, 4, 5]\n",
            "ganesh after clear: []\n"
          ]
        }
      ]
    },
    {
      "cell_type": "code",
      "source": [
        "# using del method\n",
        "list1 = [1,2,3]\n",
        "list2 = [4,5,6]\n",
        "\n",
        "print(\"list1 before deleting is:\",str(list1))\n",
        "\n",
        "del list1[:]\n",
        "\n",
        "print(\"list1 after clearing using del:\",str(list1))\n",
        "\n",
        "print(\"list2 before deleting is:\",str(list2))\n",
        "\n",
        "del list2[:]\n",
        "\n",
        "print(\"list2 after clearing using del:\",str(list2))"
      ],
      "metadata": {
        "colab": {
          "base_uri": "https://localhost:8080/"
        },
        "id": "7_hhnFRhA9jW",
        "outputId": "89e9fda7-7de8-40d9-bcbe-0c240c1e79dd"
      },
      "execution_count": 24,
      "outputs": [
        {
          "output_type": "stream",
          "name": "stdout",
          "text": [
            "list1 before deleting is: [1, 2, 3]\n",
            "list1 after clearing using del: []\n",
            "list2 before deleting is: [4, 5, 6]\n",
            "list2 after clearing using del: []\n"
          ]
        }
      ]
    },
    {
      "cell_type": "code",
      "source": [
        "# pop method\n",
        "list1 = [1,2,3]\n",
        "\n",
        "print(\"list1 before deleting is:\",str(list1))\n",
        "\n",
        "# deleting the list1\n",
        "while(len(list1) !=0):\n",
        "  list1.pop()\n",
        "print(\"list1 after clearing using pop:\",str(list1))"
      ],
      "metadata": {
        "colab": {
          "base_uri": "https://localhost:8080/"
        },
        "id": "qshOnh15B47g",
        "outputId": "2f29bbf0-7892-484c-e5b4-a4464d1d8346"
      },
      "execution_count": 25,
      "outputs": [
        {
          "output_type": "stream",
          "name": "stdout",
          "text": [
            "list1 before deleting is: [1, 2, 3]\n",
            "list1 after clearing using pop: []\n"
          ]
        }
      ]
    },
    {
      "cell_type": "code",
      "source": [
        "# reversing the list\n",
        "# slicing technique\n",
        "def Reverse(list):\n",
        "  new_list = list[::-1]\n",
        "  return new_list\n",
        "\n",
        "list = [10,11,12,13,14,15]\n",
        "print(Reverse(list))"
      ],
      "metadata": {
        "colab": {
          "base_uri": "https://localhost:8080/"
        },
        "id": "M8ufT5u-DFan",
        "outputId": "2a2735e6-822c-487a-cf55-41eecae468ef"
      },
      "execution_count": 26,
      "outputs": [
        {
          "output_type": "stream",
          "name": "stdout",
          "text": [
            "[15, 14, 13, 12, 11, 10]\n"
          ]
        }
      ]
    },
    {
      "cell_type": "code",
      "source": [
        "# using insert function\n",
        "list = [10,11,12,13,14,15]\n",
        "l = []\n",
        "\n",
        "for i in list:\n",
        "  l.insert(0,i)\n",
        "\n",
        "print(l)"
      ],
      "metadata": {
        "colab": {
          "base_uri": "https://localhost:8080/"
        },
        "id": "oNqz8yWvD9iW",
        "outputId": "7288dc41-3a6c-48ae-d112-8a9c69f68f8f"
      },
      "execution_count": 28,
      "outputs": [
        {
          "output_type": "stream",
          "name": "stdout",
          "text": [
            "[15, 14, 13, 12, 11, 10]\n"
          ]
        }
      ]
    },
    {
      "cell_type": "code",
      "source": [],
      "metadata": {
        "id": "5Rwk5Vq_EvH8"
      },
      "execution_count": null,
      "outputs": []
    }
  ]
}