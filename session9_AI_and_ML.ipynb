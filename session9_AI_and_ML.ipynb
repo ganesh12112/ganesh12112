{
  "nbformat": 4,
  "nbformat_minor": 0,
  "metadata": {
    "colab": {
      "provenance": [],
      "authorship_tag": "ABX9TyOFMLrnIT1ZZFEszLR1a1J/",
      "include_colab_link": true
    },
    "kernelspec": {
      "name": "python3",
      "display_name": "Python 3"
    },
    "language_info": {
      "name": "python"
    }
  },
  "cells": [
    {
      "cell_type": "markdown",
      "metadata": {
        "id": "view-in-github",
        "colab_type": "text"
      },
      "source": [
        "<a href=\"https://colab.research.google.com/github/ganesh12112/ganesh12112/blob/main/session9_AI_and_ML.ipynb\" target=\"_parent\"><img src=\"https://colab.research.google.com/assets/colab-badge.svg\" alt=\"Open In Colab\"/></a>"
      ]
    },
    {
      "cell_type": "code",
      "execution_count": null,
      "metadata": {
        "id": "J3Zfl5eYe5mW"
      },
      "outputs": [],
      "source": [
        "# NUMPY AND STATISTICS\n",
        "#1.NUMPY\n",
        "#2.CREATION\n",
        "#3. INDEXING\n",
        "#4.SLICING\n",
        "#5.ATTRIBUTES\n",
        "#6.STATISTICS"
      ]
    },
    {
      "cell_type": "code",
      "source": [
        "# CREATION OF ARRAYS\n",
        "import numpy as np\n",
        "A = np.array([[1,2,3],[4,5,6]])\n",
        "B = np.empty([2,2])\n",
        "C = np.zeros([3,3])\n",
        "D = np.ones([4,4])\n",
        "print(\"array A:\")\n",
        "print(A)\n",
        "print(\"array B:\")\n",
        "print(B)\n",
        "print(\"array C:\")\n",
        "print(C)\n",
        "print(\"array D:\")\n",
        "print(D)"
      ],
      "metadata": {
        "colab": {
          "base_uri": "https://localhost:8080/"
        },
        "id": "HeGZSE6xgENh",
        "outputId": "05078397-c3af-4093-fc17-9a9daee9fc92"
      },
      "execution_count": 1,
      "outputs": [
        {
          "output_type": "stream",
          "name": "stdout",
          "text": [
            "array A:\n",
            "[[1 2 3]\n",
            " [4 5 6]]\n",
            "array B:\n",
            "[[4.78046723e-310 0.00000000e+000]\n",
            " [0.00000000e+000 0.00000000e+000]]\n",
            "array C:\n",
            "[[0. 0. 0.]\n",
            " [0. 0. 0.]\n",
            " [0. 0. 0.]]\n",
            "array D:\n",
            "[[1. 1. 1. 1.]\n",
            " [1. 1. 1. 1.]\n",
            " [1. 1. 1. 1.]\n",
            " [1. 1. 1. 1.]]\n"
          ]
        }
      ]
    },
    {
      "cell_type": "code",
      "source": [
        "import numpy as np\n",
        "l = \"hello string\" # converting list,tuple,string\n",
        "A = np.asarray(l)\n",
        "print(A)"
      ],
      "metadata": {
        "colab": {
          "base_uri": "https://localhost:8080/"
        },
        "id": "HOy4fk-YhTbM",
        "outputId": "e5f45b0f-c920-4fc4-d45e-14260ed9a062"
      },
      "execution_count": 4,
      "outputs": [
        {
          "output_type": "stream",
          "name": "stdout",
          "text": [
            "hello string\n"
          ]
        }
      ]
    },
    {
      "cell_type": "code",
      "source": [
        "# array with arange function\n",
        "a = np.arange(13)\n",
        "print(a)"
      ],
      "metadata": {
        "colab": {
          "base_uri": "https://localhost:8080/"
        },
        "id": "nJpuGygxiNEH",
        "outputId": "f3c76779-fb4d-419a-de9e-2b73047f9499"
      },
      "execution_count": 5,
      "outputs": [
        {
          "output_type": "stream",
          "name": "stdout",
          "text": [
            "[ 0  1  2  3  4  5  6  7  8  9 10 11 12]\n"
          ]
        }
      ]
    },
    {
      "cell_type": "code",
      "source": [
        "# attributes of the array\n",
        "import numpy as np\n",
        "A = np.array([[1,2,3],[4,5,6]])\n",
        "print(A.shape)\n",
        "print(A.ndim)\n",
        "print(A.itemsize)\n",
        "print(A.reshape(3,2))"
      ],
      "metadata": {
        "colab": {
          "base_uri": "https://localhost:8080/"
        },
        "id": "abacxSfkigYQ",
        "outputId": "34858f83-116e-4690-9cab-e1ff2f793f3d"
      },
      "execution_count": 18,
      "outputs": [
        {
          "output_type": "stream",
          "name": "stdout",
          "text": [
            "(2, 3)\n",
            "2\n",
            "8\n",
            "[[1 2]\n",
            " [3 4]\n",
            " [5 6]]\n"
          ]
        }
      ]
    },
    {
      "cell_type": "code",
      "source": [
        "# indexing and slicing operations on array\n",
        "print(A[:,[1]]) #\n",
        "print(A[0,1]) # acess the 2nd element in the first row\n",
        "print(A[:,0:3])\n",
        "print(A[1,:])\n",
        "B = A[0,:]\n",
        "C = A[1,:]\n",
        "print('B=',B )\n",
        "\n",
        "S = 0\n",
        "for X in B:\n",
        "  S = S+X\n",
        "print('sum = ',S)\n"
      ],
      "metadata": {
        "colab": {
          "base_uri": "https://localhost:8080/"
        },
        "id": "Y7vTMGmVjUBu",
        "outputId": "26515a87-b4bd-43b7-d12f-3918e1a3bb48"
      },
      "execution_count": 24,
      "outputs": [
        {
          "output_type": "stream",
          "name": "stdout",
          "text": [
            "[[2]\n",
            " [5]]\n",
            "2\n",
            "[[1 2 3]\n",
            " [4 5 6]]\n",
            "[4 5 6]\n",
            "B= [1 2 3]\n",
            "sum =  6\n"
          ]
        }
      ]
    },
    {
      "cell_type": "code",
      "source": [
        "# HOW TO STORE ROWS, CLOUMNS\n",
        "A = np.array([[1,2,3],[4,5,6]])\n",
        "r,c = A.shape\n",
        "print('rows=',r)\n",
        "print('columns=',c)\n",
        "\n",
        "for x in A:\n",
        "  for y in x:\n",
        "    print(y)\n"
      ],
      "metadata": {
        "colab": {
          "base_uri": "https://localhost:8080/"
        },
        "id": "Mz5rrkyemVB2",
        "outputId": "02596d21-8527-47ec-d712-68a086909ddf"
      },
      "execution_count": 25,
      "outputs": [
        {
          "output_type": "stream",
          "name": "stdout",
          "text": [
            "rows= 2\n",
            "columns= 3\n",
            "1\n",
            "2\n",
            "3\n",
            "4\n",
            "5\n",
            "6\n"
          ]
        }
      ]
    },
    {
      "cell_type": "code",
      "source": [
        "# assignment 1 - create a 3*3 matrix print the sum of each column\n",
        "# assigmnet 2 - count no of zeros and print\n",
        "\n",
        "A = np.array([[1,2,3],[4,5,6],[7,8,9]])\n",
        "B = A[:,0]\n",
        "C = A[:,1]\n",
        "D = A[:,2]\n",
        "\n",
        "print('B=',B )\n",
        "print('C=',C )\n",
        "print('D=',D )\n",
        "\n",
        "for i in range(3):\n",
        "  column_sum = 0\n",
        "  for j in range(3):\n",
        "    column_sum += A[j][i]\n",
        "  print(column_sum)\n",
        "zeros = np.count_nonzero(A == 0,axis =0)\n",
        "print(zeros)"
      ],
      "metadata": {
        "colab": {
          "base_uri": "https://localhost:8080/"
        },
        "id": "aXCiZWhznRo3",
        "outputId": "c379a098-495d-4bcd-f7a9-d3b233a328af"
      },
      "execution_count": 41,
      "outputs": [
        {
          "output_type": "stream",
          "name": "stdout",
          "text": [
            "B= [1 4 7]\n",
            "C= [2 5 8]\n",
            "D= [3 6 9]\n",
            "12\n",
            "15\n",
            "18\n",
            "[0 0 0]\n"
          ]
        }
      ]
    },
    {
      "cell_type": "code",
      "source": [
        "# Arithematic operations\n",
        "import numpy as np\n",
        "A = np.array([[11,20,30],[25,38,60]])\n",
        "B = np.array([2,1,2])\n",
        "\n",
        "print(A)\n",
        "print(B)\n",
        "\n",
        "print(np.add(A,B))"
      ],
      "metadata": {
        "colab": {
          "base_uri": "https://localhost:8080/"
        },
        "id": "2arbBG7yuYtH",
        "outputId": "db4563a8-842e-4315-b92f-39c1c841def8"
      },
      "execution_count": 47,
      "outputs": [
        {
          "output_type": "stream",
          "name": "stdout",
          "text": [
            "[[11 20 30]\n",
            " [25 38 60]]\n",
            "[2 1 2]\n",
            "[[13 21 32]\n",
            " [27 39 62]]\n"
          ]
        }
      ]
    },
    {
      "cell_type": "code",
      "source": [
        "print(np.subtract(A,B))"
      ],
      "metadata": {
        "colab": {
          "base_uri": "https://localhost:8080/"
        },
        "id": "yfAHudOSvBfu",
        "outputId": "f7094313-7595-4c32-cc10-fb95ba428890"
      },
      "execution_count": 44,
      "outputs": [
        {
          "output_type": "stream",
          "name": "stdout",
          "text": [
            "[[ 8 19 28]\n",
            " [38 49 58]]\n"
          ]
        }
      ]
    },
    {
      "cell_type": "code",
      "source": [
        "print(np.multiply(A,B))"
      ],
      "metadata": {
        "colab": {
          "base_uri": "https://localhost:8080/"
        },
        "id": "yByTjtBKvvc-",
        "outputId": "11ce788e-ffee-4bc1-9cf3-aad65e07b8d1"
      },
      "execution_count": 45,
      "outputs": [
        {
          "output_type": "stream",
          "name": "stdout",
          "text": [
            "[[ 20  20  60]\n",
            " [ 80  50 120]]\n"
          ]
        }
      ]
    },
    {
      "cell_type": "code",
      "source": [
        "print(np.mod(A,B))"
      ],
      "metadata": {
        "colab": {
          "base_uri": "https://localhost:8080/"
        },
        "id": "ndrPkry9wHBw",
        "outputId": "016ab9ba-e798-4510-e2b1-d1fd58109bd9"
      },
      "execution_count": 48,
      "outputs": [
        {
          "output_type": "stream",
          "name": "stdout",
          "text": [
            "[[1 0 0]\n",
            " [1 0 0]]\n"
          ]
        }
      ]
    },
    {
      "cell_type": "code",
      "source": [
        "print(np.power(A,B))"
      ],
      "metadata": {
        "colab": {
          "base_uri": "https://localhost:8080/"
        },
        "id": "zWD81BX1wWTA",
        "outputId": "88f4b65d-3304-44df-8b2e-b20bd9cc2c7c"
      },
      "execution_count": 49,
      "outputs": [
        {
          "output_type": "stream",
          "name": "stdout",
          "text": [
            "[[ 121   20  900]\n",
            " [ 625   38 3600]]\n"
          ]
        }
      ]
    },
    {
      "cell_type": "code",
      "source": [
        "# statistics with numpy\n",
        "A = np.array([[11,20,30],[25,38,60]])\n",
        "print(A)\n",
        "\n",
        "print(np.amin(A,1)) # MIN VALUE AXIS = 0 IT WILL WORK ON COLUMN\n",
        "print(np.amax(A,1))\n",
        "\n",
        "print(np.median(A,0))\n",
        "print(np.mean(A,0))\n",
        "print(np.std(A,0))\n"
      ],
      "metadata": {
        "colab": {
          "base_uri": "https://localhost:8080/"
        },
        "id": "AFBA6Ggvwqf5",
        "outputId": "43f98aef-0b24-4a06-e659-32893fa31e32"
      },
      "execution_count": 64,
      "outputs": [
        {
          "output_type": "stream",
          "name": "stdout",
          "text": [
            "[[11 20 30]\n",
            " [25 38 60]]\n",
            "[11 25]\n",
            "[30 60]\n",
            "[18. 29. 45.]\n",
            "[18. 29. 45.]\n",
            "[ 7.  9. 15.]\n"
          ]
        }
      ]
    },
    {
      "cell_type": "code",
      "source": [
        "# create 4*4 matrix and compute the statistics of all rows and columns and print\n",
        "import numpy as np\n",
        "import scipy.stats as stats\n",
        "#A = np.array([[1,2,3],[4,5,6],[7,8,9],[4,6,8]])\n",
        "#print(A)\n",
        "\n",
        "A = np.array([[6,8,5,2],[6,2,8,1],[7,2,1,6],[8,5,2,3]])\n",
        "print(\"matrix is:\")\n",
        "\n",
        "print(A)\n",
        "\n",
        "# COMPUTE THE statistics of all rows\n",
        "#row_stats = stats.describe(A ,axis = 1)\n",
        "#print(\"statistics of all rows are:\")\n",
        "#print(row_stats)\n",
        "\n",
        "\n",
        "# COMPUTE THE statistics of all columns\n",
        "#column_stats = stats.describe(A ,axis = 0)\n",
        "#print(\"statistics of all rows are:\")\n",
        "#print(column_stats)\n",
        "\n",
        "print(np.amin(A,0))\n",
        "print(np.amax(A,0))\n",
        "\n",
        "print(np.median(A,0))\n",
        "print(np.mean(A,0))\n",
        "print(np.std(A,0))\n"
      ],
      "metadata": {
        "colab": {
          "base_uri": "https://localhost:8080/"
        },
        "id": "4RTPBO9L0sNv",
        "outputId": "80b3e1d7-7ac9-4c7c-c11f-d7e1e25d6457"
      },
      "execution_count": 73,
      "outputs": [
        {
          "output_type": "stream",
          "name": "stdout",
          "text": [
            "matrix is:\n",
            "[[6 8 5 2]\n",
            " [6 2 8 1]\n",
            " [7 2 1 6]\n",
            " [8 5 2 3]]\n",
            "[6 2 1 1]\n",
            "[8 8 8 6]\n",
            "[6.5 3.5 3.5 2.5]\n",
            "[6.75 4.25 4.   3.  ]\n",
            "[0.8291562  2.48746859 2.73861279 1.87082869]\n"
          ]
        }
      ]
    },
    {
      "cell_type": "code",
      "source": [
        "# SORTING THE elements in an array\n",
        "import numpy as np\n",
        "A = np.array([[1,2,3],[10,20,-9],[8,6,7]])\n",
        "B = np.array([['bxy'],['axy'],['xxy']])\n",
        "print(\"original array\")\n",
        "print(A)\n",
        "print(\"sorted array\")\n",
        "print(np.sort(A,0))\n",
        "print(np.sort(B,0))"
      ],
      "metadata": {
        "colab": {
          "base_uri": "https://localhost:8080/"
        },
        "id": "jXJe7Z1jRV_6",
        "outputId": "61d3629c-80af-492a-dd6d-5fbc055f00b7"
      },
      "execution_count": 8,
      "outputs": [
        {
          "output_type": "stream",
          "name": "stdout",
          "text": [
            "original array\n",
            "[[ 1  2  3]\n",
            " [10 20 -9]\n",
            " [ 8  6  7]]\n",
            "sorted array\n",
            "[[ 1  2 -9]\n",
            " [ 8  6  3]\n",
            " [10 20  7]]\n",
            "[['axy']\n",
            " ['bxy']\n",
            " ['xxy']]\n"
          ]
        }
      ]
    },
    {
      "cell_type": "code",
      "source": [
        "# searching operations\n",
        "A = np.array([[1,2,3],[10,20,-9],[8,6,7]])\n",
        "print(A)\n",
        "y = np.where(A>5)\n",
        "print(\"Indices\")\n",
        "print(y)\n",
        "print(\"values\")\n",
        "print(A[y])"
      ],
      "metadata": {
        "colab": {
          "base_uri": "https://localhost:8080/"
        },
        "id": "o3_XnQ5JS3-R",
        "outputId": "90da95aa-b203-4ad8-d37c-99dd8edf77cb"
      },
      "execution_count": 13,
      "outputs": [
        {
          "output_type": "stream",
          "name": "stdout",
          "text": [
            "[[ 1  2  3]\n",
            " [10 20 -9]\n",
            " [ 8  6  7]]\n",
            "Indices\n",
            "(array([1, 1, 2, 2, 2]), array([0, 1, 0, 1, 2]))\n",
            "values\n",
            "[10 20  8  6  7]\n"
          ]
        }
      ]
    },
    {
      "cell_type": "code",
      "source": [
        "# assisnment matrix function with arange function , find the elemnts >6 and sum of all elements\n",
        "A = np.arange(16).reshape((4,4))\n",
        "print(A)\n",
        "y = np.where(A>6)\n",
        "print(\"Indices\")\n",
        "print(y)\n",
        "print(\"values\")\n",
        "print(A[y])\n",
        "\n",
        "sum = np.sum(A)\n",
        "print(sum)\n",
        "\n",
        "# another method with for loop\n",
        "sum = 0\n",
        "for row in A:\n",
        "  for element in row:\n",
        "    sum += element\n",
        "# print the sum\n",
        "print(sum)\n"
      ],
      "metadata": {
        "colab": {
          "base_uri": "https://localhost:8080/"
        },
        "id": "xhLeZjzfVJgF",
        "outputId": "1b63b532-e837-4a49-8322-720199991fca"
      },
      "execution_count": 18,
      "outputs": [
        {
          "output_type": "stream",
          "name": "stdout",
          "text": [
            "[[ 0  1  2  3]\n",
            " [ 4  5  6  7]\n",
            " [ 8  9 10 11]\n",
            " [12 13 14 15]]\n",
            "Indices\n",
            "(array([1, 2, 2, 2, 2, 3, 3, 3, 3]), array([3, 0, 1, 2, 3, 0, 1, 2, 3]))\n",
            "values\n",
            "[ 7  8  9 10 11 12 13 14 15]\n",
            "120\n",
            "120\n"
          ]
        }
      ]
    }
  ]
}