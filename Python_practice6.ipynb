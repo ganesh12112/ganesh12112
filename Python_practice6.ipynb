{
  "nbformat": 4,
  "nbformat_minor": 0,
  "metadata": {
    "colab": {
      "provenance": [],
      "authorship_tag": "ABX9TyNkZ2yxbgXAZLl7X/G7oqDU",
      "include_colab_link": true
    },
    "kernelspec": {
      "name": "python3",
      "display_name": "Python 3"
    },
    "language_info": {
      "name": "python"
    }
  },
  "cells": [
    {
      "cell_type": "markdown",
      "metadata": {
        "id": "view-in-github",
        "colab_type": "text"
      },
      "source": [
        "<a href=\"https://colab.research.google.com/github/ganesh12112/ganesh12112/blob/main/Python_practice6.ipynb\" target=\"_parent\"><img src=\"https://colab.research.google.com/assets/colab-badge.svg\" alt=\"Open In Colab\"/></a>"
      ]
    },
    {
      "cell_type": "code",
      "execution_count": 1,
      "metadata": {
        "id": "4_SplmfaLiZ7",
        "colab": {
          "base_uri": "https://localhost:8080/"
        },
        "outputId": "f429784b-bfc8-4396-ff20-2806a7c67655"
      },
      "outputs": [
        {
          "output_type": "stream",
          "name": "stdout",
          "text": [
            "ganesh is a student of btech biotechnology\n",
            "a\n"
          ]
        }
      ],
      "source": [
        "#applications - storing and manipulating text data,representing names,adress\n",
        "# and other\n",
        "print(\"ganesh is a student of btech biotechnology\")\n",
        "print('a')"
      ]
    },
    {
      "cell_type": "code",
      "source": [
        "# creating a string in python\n"
      ],
      "metadata": {
        "id": "mX6Ys3ESaja8"
      },
      "execution_count": null,
      "outputs": []
    },
    {
      "cell_type": "code",
      "execution_count": 5,
      "metadata": {
        "colab": {
          "base_uri": "https://localhost:8080/"
        },
        "outputId": "ca8e1d0a-9980-474e-eed9-3028de11f7ff",
        "id": "DKDuJFkzaxjz"
      },
      "outputs": [
        {
          "output_type": "stream",
          "name": "stdout",
          "text": [
            "ganesh is a student of btech biotechnology\n",
            "\n",
            " i\n",
            "h\n"
          ]
        }
      ],
      "source": [
        "str1 = \"ganesh is a student of btech biotechnology\"\n",
        "print(str1)\n",
        "print(\"\\n\",str1[7])\n",
        "print(str1[-7])"
      ]
    },
    {
      "cell_type": "code",
      "source": [
        "# string slicing\n",
        "print(str1[3:12])\n",
        "print(str1[1:-7])"
      ],
      "metadata": {
        "colab": {
          "base_uri": "https://localhost:8080/"
        },
        "id": "hyHceSwWbNKE",
        "outputId": "c89df932-f8a9-499d-d96e-e32b6c57d50d"
      },
      "execution_count": 8,
      "outputs": [
        {
          "output_type": "stream",
          "name": "stdout",
          "text": [
            "esh is a \n",
            "anesh is a student of btech biotec\n"
          ]
        }
      ]
    },
    {
      "cell_type": "code",
      "source": [
        "# reverse the string\n",
        "print(str1[::-1])"
      ],
      "metadata": {
        "colab": {
          "base_uri": "https://localhost:8080/"
        },
        "id": "fnNbMQ7Hbs7c",
        "outputId": "21cf978c-9134-4801-9fbf-5cc83a6d99a8"
      },
      "execution_count": 9,
      "outputs": [
        {
          "output_type": "stream",
          "name": "stdout",
          "text": [
            "ygolonhcetoib hcetb fo tneduts a si hsenag\n"
          ]
        }
      ]
    },
    {
      "cell_type": "code",
      "source": [
        "# also rerese the string by using built-in join and reversed function\n",
        "# passing the string as paramter to reversed ()\n",
        "str1 = \"\".join(reversed(str1))\n",
        "print(str1)"
      ],
      "metadata": {
        "colab": {
          "base_uri": "https://localhost:8080/"
        },
        "id": "CYtSQrEKcCV7",
        "outputId": "8fea5290-fcd7-4f30-953a-d505c4b6c01d"
      },
      "execution_count": 12,
      "outputs": [
        {
          "output_type": "stream",
          "name": "stdout",
          "text": [
            "y g o l o n h c e t o i b   h c e t b   f o   t n e d u t s   a   s i   h s e n a g\n"
          ]
        }
      ]
    },
    {
      "cell_type": "code",
      "source": [
        "# deleting or updating the string\n",
        "# del - entire string ,not for single character\n",
        "# updating is possible by converting in to list and back to string !\n",
        "# aanother mathod to update - string slicing and seperately add and concatenate them\n",
        "# string.join()\n",
        "str1 = \"hello i'm ganesh\"\n",
        "print(\"Intial string:\")\n",
        "print(str1)\n",
        "\n",
        "# by the list\n",
        "list1 = list(str1)\n",
        "list1[2] = 'p'\n",
        "str2 = ''.join(list1)\n",
        "print(\"\\nupdating the charcter at the 2nd Index:\",)\n",
        "print(str2)\n",
        "\n",
        "# by using the slicing\n",
        "str3 = str1[0:6] + 'p' + str1[7:]\n",
        "print(str3)"
      ],
      "metadata": {
        "colab": {
          "base_uri": "https://localhost:8080/"
        },
        "id": "Iu_bmqL8cmTd",
        "outputId": "80a33e28-a047-4f26-d871-40ef4fb0dd2f"
      },
      "execution_count": 13,
      "outputs": [
        {
          "output_type": "stream",
          "name": "stdout",
          "text": [
            "Intial string:\n",
            "hello i'm ganesh\n",
            "\n",
            "updating the charcter at the 2nd Index:\n",
            "heplo i'm ganesh\n",
            "hello p'm ganesh\n"
          ]
        }
      ]
    },
    {
      "cell_type": "code",
      "source": [
        "# updating entire string\n",
        "# here assiging completely new string to the same variable\n",
        "str1 = \"hello i'm ganesh\"\n",
        "print(\"Intial string\")\n",
        "print(str1)\n",
        "\n",
        "str1 = \"welcome to the updated string\"\n",
        "print(\"\\nupdated string\")\n",
        "print(str1)"
      ],
      "metadata": {
        "colab": {
          "base_uri": "https://localhost:8080/"
        },
        "id": "0gcMFeXRe--i",
        "outputId": "3044e5cb-0dbf-4faa-82cc-1b422c789e2b"
      },
      "execution_count": 15,
      "outputs": [
        {
          "output_type": "stream",
          "name": "stdout",
          "text": [
            "Intial string\n",
            "hello i'm ganesh\n",
            "\n",
            "updated string\n",
            "welcome to the updated string\n"
          ]
        }
      ]
    },
    {
      "cell_type": "code",
      "source": [
        "# deletion of a chracter\n",
        "str5 = \"hello i'm ganesh\"\n",
        "#del str5\n",
        "print(str5)\n",
        "del str5[2]\n",
        "print(str5)"
      ],
      "metadata": {
        "colab": {
          "base_uri": "https://localhost:8080/",
          "height": 245
        },
        "id": "e2AGnG-ygLIy",
        "outputId": "02200a01-cb0f-4644-ec7f-32844d42c69e"
      },
      "execution_count": 20,
      "outputs": [
        {
          "output_type": "stream",
          "name": "stdout",
          "text": [
            "hello i'm ganesh\n"
          ]
        },
        {
          "output_type": "error",
          "ename": "TypeError",
          "evalue": "ignored",
          "traceback": [
            "\u001b[0;31m---------------------------------------------------------------------------\u001b[0m",
            "\u001b[0;31mTypeError\u001b[0m                                 Traceback (most recent call last)",
            "\u001b[0;32m<ipython-input-20-e57eb3a08481>\u001b[0m in \u001b[0;36m<cell line: 5>\u001b[0;34m()\u001b[0m\n\u001b[1;32m      3\u001b[0m \u001b[0;31m#del str5\u001b[0m\u001b[0;34m\u001b[0m\u001b[0;34m\u001b[0m\u001b[0m\n\u001b[1;32m      4\u001b[0m \u001b[0mprint\u001b[0m\u001b[0;34m(\u001b[0m\u001b[0mstr5\u001b[0m\u001b[0;34m)\u001b[0m\u001b[0;34m\u001b[0m\u001b[0;34m\u001b[0m\u001b[0m\n\u001b[0;32m----> 5\u001b[0;31m \u001b[0;32mdel\u001b[0m \u001b[0mstr5\u001b[0m\u001b[0;34m[\u001b[0m\u001b[0;36m2\u001b[0m\u001b[0;34m]\u001b[0m\u001b[0;34m\u001b[0m\u001b[0;34m\u001b[0m\u001b[0m\n\u001b[0m\u001b[1;32m      6\u001b[0m \u001b[0mprint\u001b[0m\u001b[0;34m(\u001b[0m\u001b[0mstr5\u001b[0m\u001b[0;34m)\u001b[0m\u001b[0;34m\u001b[0m\u001b[0;34m\u001b[0m\u001b[0m\n",
            "\u001b[0;31mTypeError\u001b[0m: 'str' object doesn't support item deletion"
          ]
        }
      ]
    },
    {
      "cell_type": "code",
      "source": [
        "# updating by slicing\n",
        "str1 = \"hello i'm ganesh\"\n",
        "print(\"Intial string\")\n",
        "print(str1)\n",
        "\n",
        "str3 = str1[0:2] + str1[3:]\n",
        "print(str3)"
      ],
      "metadata": {
        "colab": {
          "base_uri": "https://localhost:8080/"
        },
        "id": "YJZrV4rhhEns",
        "outputId": "79d26fc8-3e98-49e8-97a4-d94b468da532"
      },
      "execution_count": 21,
      "outputs": [
        {
          "output_type": "stream",
          "name": "stdout",
          "text": [
            "Intial string\n",
            "hello i'm ganesh\n",
            "helo i'm ganesh\n"
          ]
        }
      ]
    },
    {
      "cell_type": "markdown",
      "source": [
        "While printing Strings with single and double quotes in it causes SyntaxError because String already contains Single and Double Quotes and hence cannot be printed with the use of either of these. Hence, to print such a String either Triple Quotes are used or Escape sequences are used to print Strings.\n",
        "\n",
        "Escape sequences start with a backslash and can be interpreted differently. If single quotes are used to represent a string, then all the single quotes present in the string must be escaped and the same is done for Double Quotes."
      ],
      "metadata": {
        "id": "CIsbCmCIh_Ai"
      }
    },
    {
      "cell_type": "code",
      "source": [
        "# what is the impotance of escaping characters\n",
        "# escape sequencing in python\n",
        "Str1 = '''I'm a \"Ganesh'''\n",
        "print(\"Initial String with use of Triple Quotes: \")\n",
        "print(Str1)\n",
        "\n",
        "str2 = 'I\\'m a \"Geek\"'\n",
        "print(\"\\nEscaping single quote:\")\n",
        "print(str2)\n",
        "\n",
        "# escaping the double quote\n",
        "str2 = \"I'm a \\\"Ganesh\\\"\"\n",
        "print(str2)\n",
        "\n",
        "# printing paths with the use of escape sequences\n",
        "str3 = \"c:\\\\Python\\\\Ganesh\"\n",
        "print(\"\\nEscaping Backslashes:\")\n",
        "print(str3)\n",
        "\n",
        "# prnting paths with the use of tab\n",
        "str4 = \"Hi\\tGanesh\"\n",
        "print(\"\\ntab\")\n",
        "print(str4)\n",
        "\n",
        "# printing the path with the use of newline\n",
        "str5 = \"ganesh\\nare\"\n",
        "print(\"\\nNew Line:\")\n",
        "print(str5)"
      ],
      "metadata": {
        "colab": {
          "base_uri": "https://localhost:8080/"
        },
        "id": "orBnefFhhnU9",
        "outputId": "df50b2ff-2070-466b-cf23-48fe5c7add29"
      },
      "execution_count": 22,
      "outputs": [
        {
          "output_type": "stream",
          "name": "stdout",
          "text": [
            "Initial String with use of Triple Quotes: \n",
            "I'm a \"Ganesh\n",
            "\n",
            "Escaping single quote:\n",
            "I'm a \"Geek\"\n",
            "I'm a \"Ganesh\"\n",
            "\n",
            "Escaping Backslashes:\n",
            "c:\\Python\\Ganesh\n",
            "\n",
            "tab\n",
            "Hi\tGanesh\n",
            "\n",
            "New Line:\n",
            "ganesh\n",
            "are\n"
          ]
        }
      ]
    },
    {
      "cell_type": "markdown",
      "source": [
        "To ignore the escape sequences in a String, r or R is used, this implies that the string is a raw string and escape sequences inside it are to be ignored.\n",
        "# what is raw string??"
      ],
      "metadata": {
        "id": "GDjcraGEmSFZ"
      }
    },
    {
      "cell_type": "code",
      "source": [
        "import re\n",
        "\n",
        "pattern = '\"Hello, world!\"'\n",
        "\n",
        "match = re.search(pattern, '\"Hello, world!\"')\n",
        "\n",
        "if match:\n",
        "    print(\"The string matches the regular expression.\")\n",
        "else:\n",
        "    print(\"The string does not match the regular expression.\")\n"
      ],
      "metadata": {
        "colab": {
          "base_uri": "https://localhost:8080/"
        },
        "id": "lsPQ1XjEliUI",
        "outputId": "16a7ff83-50be-4d12-f878-b8ed3e27a848"
      },
      "execution_count": 34,
      "outputs": [
        {
          "output_type": "stream",
          "name": "stdout",
          "text": [
            "The string matches the regular expression.\n"
          ]
        }
      ]
    },
    {
      "cell_type": "code",
      "source": [
        "str1 = \"\\110\\145\\154\\154\\157\"\n",
        "print(\"n\\Printing in octal with the use of Escape sequnces:\")\n",
        "print(str1)\n",
        "\n",
        "# using raw string to ignore escape sequences\n",
        "str2 = r\"This is \\110\\145\\154\\154\\157\"\n",
        "print(\"\\nPrinting raw string in octal format:\")\n",
        "print(str2)\n",
        "\n",
        "# printing geeks in HEX\n",
        "str3 = \"This is \\x47\\x65\\x65\\x6b\\x73 in \\x48\\x45\\x58\"\n",
        "print(\"\\nPrinting in HEX with the use of Escape Sequences:\")\n",
        "print(str3)\n",
        "\n",
        "str4 = r\"This is \\x47\\x65\\x6b\\x73 in \\x48\\x45\\x58\"\n",
        "print(\"\\nPrinting Raw string in HEX Format:\")\n",
        "print(str4)"
      ],
      "metadata": {
        "colab": {
          "base_uri": "https://localhost:8080/"
        },
        "id": "KSeQ7dSwo2i5",
        "outputId": "f1f1024f-ef2e-4569-dc03-4b0b6268779e"
      },
      "execution_count": 36,
      "outputs": [
        {
          "output_type": "stream",
          "name": "stdout",
          "text": [
            "n\\Printing in octal with the use of Escape sequnces:\n",
            "Hello\n",
            "\n",
            "Printing raw string in octal format:\n",
            "This is \\110\\145\\154\\154\\157\n",
            "\n",
            "Printing in HEX with the use of Escape Sequences:\n",
            "This is Geeks in HEX\n",
            "\n",
            "Printing Raw string in HEX Format:\n",
            "This is \\x47\\x65\\x6b\\x73 in \\x48\\x45\\x58\n"
          ]
        }
      ]
    },
    {
      "cell_type": "markdown",
      "source": [
        "Formatting of Strings\n",
        "Strings in Python can be formatted with the use of format() method which is a very versatile and powerful tool for formatting Strings. Format method in String contains curly braces {} as placeholders which can hold arguments according to position or keyword to specify the order."
      ],
      "metadata": {
        "id": "a_ZilkPFr37c"
      }
    },
    {
      "cell_type": "code",
      "source": [
        "# formatting of strings\n",
        "# fromat() and {} - as place holder\n",
        "# example 1\n"
      ],
      "metadata": {
        "id": "tC7Suogordse"
      },
      "execution_count": null,
      "outputs": []
    }
  ]
}