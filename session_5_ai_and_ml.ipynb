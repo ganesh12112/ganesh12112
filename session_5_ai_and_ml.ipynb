{
  "nbformat": 4,
  "nbformat_minor": 0,
  "metadata": {
    "colab": {
      "provenance": [],
      "toc_visible": true,
      "authorship_tag": "ABX9TyPOKkObMCcRhZfz2sWENBeT",
      "include_colab_link": true
    },
    "kernelspec": {
      "name": "python3",
      "display_name": "Python 3"
    },
    "language_info": {
      "name": "python"
    }
  },
  "cells": [
    {
      "cell_type": "markdown",
      "metadata": {
        "id": "view-in-github",
        "colab_type": "text"
      },
      "source": [
        "<a href=\"https://colab.research.google.com/github/ganesh12112/ganesh12112/blob/main/session_5_ai_and_ml.ipynb\" target=\"_parent\"><img src=\"https://colab.research.google.com/assets/colab-badge.svg\" alt=\"Open In Colab\"/></a>"
      ]
    },
    {
      "cell_type": "code",
      "execution_count": 5,
      "metadata": {
        "colab": {
          "base_uri": "https://localhost:8080/"
        },
        "id": "QIp5VpkXN6fO",
        "outputId": "69106278-b042-4b49-c61c-939a31b4cb5e"
      },
      "outputs": [
        {
          "output_type": "stream",
          "name": "stdout",
          "text": [
            "['sepal length (cm)', 'sepal width (cm)', 'petal length (cm)', 'petal width (cm)']\n",
            "['setosa' 'versicolor' 'virginica']\n",
            "[0 0 0 0 0 0 0 0 0 0 0 0 0 0 0 0 0 0 0 0 0 0 0 0 0 0 0 0 0 0 0 0 0 0 0 0 0\n",
            " 0 0 0 0 0 0 0 0 0 0 0 0 0 1 1 1 1 1 1 1 1 1 1 1 1 1 1 1 1 1 1 1 1 1 1 1 1\n",
            " 1 1 1 1 1 1 1 1 1 1 1 1 1 1 1 1 1 1 1 1 1 1 1 1 1 1 2 2 2 2 2 2 2 2 2 2 2\n",
            " 2 2 2 2 2 2 2 2 2 2 2 2 2 2 2 2 2 2 2 2 2 2 2 2 2 2 2 2 2 2 2 2 2 2 2 2 2\n",
            " 2 2]\n",
            "\n",
            " First 10 rows of X:\n",
            " [[5.1 3.5 1.4 0.2]\n",
            " [4.9 3.  1.4 0.2]\n",
            " [4.7 3.2 1.3 0.2]\n",
            " [4.6 3.1 1.5 0.2]\n",
            " [5.  3.6 1.4 0.2]\n",
            " [5.4 3.9 1.7 0.4]\n",
            " [4.6 3.4 1.4 0.3]\n",
            " [5.  3.4 1.5 0.2]\n",
            " [4.4 2.9 1.4 0.2]\n",
            " [4.9 3.1 1.5 0.1]]\n"
          ]
        }
      ],
      "source": [
        "# Machine learning\n",
        "# sk learn ml\n",
        "# load the data set Iris\n",
        "from sklearn.datasets import load_iris\n",
        "iris = load_iris()\n",
        "X = iris.data\n",
        "Y = iris.target\n",
        "features = iris.feature_names\n",
        "targets = iris.target_names\n",
        "print(iris.feature_names)\n",
        "print(iris.target_names)\n",
        "print(Y)\n",
        "print(\"\\n First 10 rows of X:\\n\",X[:10])"
      ]
    },
    {
      "cell_type": "code",
      "source": [
        "# splitting the dataset\n",
        "# to check accuracy of model we can split the dataset in two training and testing set\n",
        "# assumption 7:3 train to test split\n",
        "from sklearn.datasets import load_iris\n",
        "iris = load_iris()\n",
        "x = iris.data\n",
        "y = iris.target\n",
        "\n",
        "from sklearn.model_selection import train_test_split\n",
        "\n",
        "x_train,x_test,y_train,y_test = train_test_split(x,y,test_size=0.3,random_state = 1)\n",
        "print(x.shape)\n",
        "print(x_train.shape)\n",
        "print(y.shape)\n",
        "print(y_train.shape)"
      ],
      "metadata": {
        "colab": {
          "base_uri": "https://localhost:8080/"
        },
        "id": "0i9bAcWkQ0Cx",
        "outputId": "a1efe9d3-7dd9-4c44-d7b5-fc1be0957335"
      },
      "execution_count": 9,
      "outputs": [
        {
          "output_type": "stream",
          "name": "stdout",
          "text": [
            "(150, 4)\n",
            "(105, 4)\n",
            "(150,)\n",
            "(105,)\n"
          ]
        }
      ]
    },
    {
      "cell_type": "code",
      "source": [
        "# train the model\n",
        "# SCIKIT(machine leraning libraray in python) learn has wide range of Machine learning algorithms which have consisitent interface for fitting,predicting accuracy,recall etc\n",
        "# K- NEAREST NIEGHBOUR ALGORITHM - 1ST MODEL IN DISCCUSSION\n",
        "from sklearn.datasets import load_iris\n",
        "from sklearn.model_selection import train_test_split\n",
        "from sklearn.neighbors import KNeighborsClassifier\n",
        "from sklearn import metrics\n",
        "\n",
        "# loaded the dataset\n",
        "iris = load_iris()\n",
        "x = iris.data\n",
        "y = iris.target\n",
        "features = iris.feature_names\n",
        "targets = iris.target_names\n",
        "\n",
        "#split into tarining and training samples\n",
        "x_train,x_test,y_train,y_test = train_test_split(x,y,test_size =0.3,random_state=1)\n",
        "\n",
        "# train the model\n",
        "knnc = KNeighborsClassifier(n_neighbors=3)\n",
        "knnc.fit(x_train,y_train) # use of fit?\n",
        "knnc.predict(x_test)\n",
        "\n",
        "#tested the model\n",
        "sample_class = knnc.predict(x_test[0:45,:])\n",
        "print(x_test[0])\n",
        "print(x_test[1])\n",
        "print(sample_class)\n",
        "# here how we are dividing the data in to classes?????\n",
        "# does split of data into test and train always random or in a sequence\n",
        "# for example 10 samples 7:3 ratio 7 as train and 3 as test\n",
        "\n",
        "# accuracy of the model\n",
        "acc = metrics.accuracy_score(sample_class,y_test)\n",
        "print(\"accuracy=\",acc)\n"
      ],
      "metadata": {
        "colab": {
          "base_uri": "https://localhost:8080/"
        },
        "id": "8ta67EQhUNm5",
        "outputId": "00178a1c-1d8d-405b-81a1-3046d4b85c7f"
      },
      "execution_count": 14,
      "outputs": [
        {
          "output_type": "stream",
          "name": "stdout",
          "text": [
            "[5.8 4.  1.2 0.2]\n",
            "[5.1 2.5 3.  1.1]\n",
            "[0 1 1 0 2 1 2 0 0 2 1 0 2 1 1 0 1 1 0 0 1 1 1 0 2 1 0 0 1 2 1 2 1 2 2 0 1\n",
            " 0 1 2 2 0 1 2 1]\n",
            "accuracy= 0.9777777777777777\n"
          ]
        }
      ]
    },
    {
      "cell_type": "code",
      "source": [
        "#assignmentt ------- by bt creating own numpy array of glass hieght and width\n",
        "#from sklearn.datasets import load_iris\n",
        "from sklearn.model_selection import train_test_split\n",
        "from sklearn.neighbors import KNeighborsClassifier\n",
        "from sklearn import metrics\n",
        "import numpy as np\n",
        "\n",
        "x = np.array([[1,0.3],[1.2,0.4],[1,0.6],[2,0.7],[3,0.3],[2,0.2],[4,1.2],[1,0.2],[2,0.6],[5,0.9],\\\n",
        "[0.02,2],[0.03,3],[0.01,2],[0.05,3],[0.01,2],[0.02,3],[0.01,2],[0.05,3],[0.03,2],[0.04,3]])\n",
        "y =np.array([0,0,0,0,0,0,0,0,0,0,1,1,1,1,1,1,1,1,1,1])\n",
        "\n",
        "#split into tarining and training samples\n",
        "x_train,x_test,y_train,y_test = train_test_split(x,y,test_size =0.3,random_state=1)\n",
        "\n",
        "# train the model\n",
        "knnc = KNeighborsClassifier(n_neighbors=3)\n",
        "knnc.fit(x_train,y_train) # use of fit?\n",
        "knnc.predict(x_test)\n",
        "\n",
        "#tested the model\n",
        "sample_class = knnc.predict(x_test[0:5,:])\n",
        "print(x_test[0])\n",
        "print(x_test[1])\n",
        "print(sample_class)\n",
        "\n",
        "# accuracy of the model\n",
        "#acc = metrics.accuracy_score(sample_class,y_test)\n",
        "#print(\"accuracy=\",acc)"
      ],
      "metadata": {
        "colab": {
          "base_uri": "https://localhost:8080/"
        },
        "id": "_Q4eXQsRkemx",
        "outputId": "04d1ae7d-1428-4d40-f1b5-9e3784ca3e78"
      },
      "execution_count": 21,
      "outputs": [
        {
          "output_type": "stream",
          "name": "stdout",
          "text": [
            "[2.  0.7]\n",
            "[0.01 2.  ]\n",
            "[0 1 0 1 0]\n"
          ]
        }
      ]
    }
  ]
}