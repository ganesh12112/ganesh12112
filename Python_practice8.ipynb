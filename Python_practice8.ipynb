{
  "nbformat": 4,
  "nbformat_minor": 0,
  "metadata": {
    "colab": {
      "provenance": [],
      "authorship_tag": "ABX9TyM9GMo5ZUmlscwh7ExK3FRX",
      "include_colab_link": true
    },
    "kernelspec": {
      "name": "python3",
      "display_name": "Python 3"
    },
    "language_info": {
      "name": "python"
    }
  },
  "cells": [
    {
      "cell_type": "markdown",
      "metadata": {
        "id": "view-in-github",
        "colab_type": "text"
      },
      "source": [
        "<a href=\"https://colab.research.google.com/github/ganesh12112/ganesh12112/blob/main/Python_practice8.ipynb\" target=\"_parent\"><img src=\"https://colab.research.google.com/assets/colab-badge.svg\" alt=\"Open In Colab\"/></a>"
      ]
    },
    {
      "cell_type": "code",
      "execution_count": null,
      "metadata": {
        "colab": {
          "base_uri": "https://localhost:8080/"
        },
        "id": "uytkXtmwIueA",
        "outputId": "3b19c5bf-3308-4428-8ddd-9a18a94c964f"
      },
      "outputs": [
        {
          "output_type": "stream",
          "name": "stdout",
          "text": [
            "['Ganesh', 'raghavendra', 'shreya']\n"
          ]
        }
      ],
      "source": [
        "var = [\"Ganesh\",\"raghavendra\",\"shreya\"]\n",
        "print(var)"
      ]
    },
    {
      "cell_type": "code",
      "source": [
        "# example 1\n",
        "lst = []\n",
        "print(\"Blank List:\")\n",
        "print(lst)\n",
        "\n",
        "lst1 = [1,2,3]\n",
        "print(\"\\n\",lst1)\n",
        "\n",
        "lst2 = [\"Ganesh\",\"raghavendra\",\"shreya\"]\n",
        "print(lst2)\n",
        "print(lst2[1])"
      ],
      "metadata": {
        "colab": {
          "base_uri": "https://localhost:8080/"
        },
        "id": "UyQHCNpAJ42l",
        "outputId": "9a3d5da2-3419-4557-cafc-0cf855244bb3"
      },
      "execution_count": null,
      "outputs": [
        {
          "output_type": "stream",
          "name": "stdout",
          "text": [
            "Blank List:\n",
            "[]\n",
            "\n",
            " [1, 2, 3]\n",
            "['Ganesh', 'raghavendra', 'shreya']\n",
            "raghavendra\n"
          ]
        }
      ]
    },
    {
      "cell_type": "code",
      "source": [
        "# example list with distinct values or duplicate values\n",
        "lst = [1,2,23,43,45,66,23,3,2,1]\n",
        "print(\"\\n\",lst)\n",
        "\n",
        "lst1 = [1,2,'Geeks',4,'For',6,'Geeks']\n",
        "print(\"\\n\",lst1)"
      ],
      "metadata": {
        "colab": {
          "base_uri": "https://localhost:8080/"
        },
        "id": "WmioFjpOLCzt",
        "outputId": "d3d65588-65ec-4cb3-890d-32b5486807b3"
      },
      "execution_count": null,
      "outputs": [
        {
          "output_type": "stream",
          "name": "stdout",
          "text": [
            "\n",
            " [1, 2, 23, 43, 45, 66, 23, 3, 2, 1]\n",
            "\n",
            " [1, 2, 'Geeks', 4, 'For', 6, 'Geeks']\n"
          ]
        }
      ]
    },
    {
      "cell_type": "code",
      "source": [
        "#Accessing elements from the list\n",
        "# example 1\n",
        "lst2 = [\"Ganesh\",\"raghavendra\",\"shreya\"]\n",
        "print(lst2[1])\n",
        "\n",
        "print(\"\\n\",lst2[2])"
      ],
      "metadata": {
        "colab": {
          "base_uri": "https://localhost:8080/"
        },
        "id": "9Nz48IMMLwQO",
        "outputId": "e61efc83-be94-4552-aa34-65abbb730b0b"
      },
      "execution_count": null,
      "outputs": [
        {
          "output_type": "stream",
          "name": "stdout",
          "text": [
            "raghavendra\n",
            "\n",
            " shreya\n"
          ]
        }
      ]
    },
    {
      "cell_type": "code",
      "source": [
        "#Accessing elements from from multidimensional list\n",
        "lst2 = [\"Ganesh\",[\"raghavendra\",\"shreya\"]]\n",
        "print(lst2[1][1])\n",
        "print(lst2[1][0])"
      ],
      "metadata": {
        "colab": {
          "base_uri": "https://localhost:8080/"
        },
        "id": "MtDdNJdcMmLA",
        "outputId": "ca25c736-68f6-4361-d813-b86f1e9c906c"
      },
      "execution_count": null,
      "outputs": [
        {
          "output_type": "stream",
          "name": "stdout",
          "text": [
            "shreya\n",
            "raghavendra\n"
          ]
        }
      ]
    },
    {
      "cell_type": "code",
      "source": [
        "# negative index\n",
        "lst1 = [1,2,'Geeks',4,'For',6,'Geeks']\n",
        "\n",
        "print([-1])"
      ],
      "metadata": {
        "id": "WvSTaKlWNNlv",
        "colab": {
          "base_uri": "https://localhost:8080/"
        },
        "outputId": "c614e748-485e-4700-fb7e-7d1df08e4665"
      },
      "execution_count": null,
      "outputs": [
        {
          "output_type": "stream",
          "name": "stdout",
          "text": [
            "[-1]\n"
          ]
        }
      ]
    },
    {
      "cell_type": "code",
      "source": [
        "# getting the size of python list\n",
        "lst = []\n",
        "print(len(lst))\n",
        "\n",
        "Lst1 = [10, 20, 14]\n",
        "print(len(Lst1))"
      ],
      "metadata": {
        "colab": {
          "base_uri": "https://localhost:8080/"
        },
        "id": "TqDxJcPpNvOb",
        "outputId": "ecba1528-0686-4f65-fa27-83acb5895e1b"
      },
      "execution_count": null,
      "outputs": [
        {
          "output_type": "stream",
          "name": "stdout",
          "text": [
            "0\n",
            "3\n"
          ]
        }
      ]
    },
    {
      "cell_type": "code",
      "source": [
        "# taking input of a python list\n",
        "string = input(\"Enter elements (space-Seperated):\")\n",
        "\n",
        "lst = string.split()\n",
        "print('The list is:',lst)"
      ],
      "metadata": {
        "colab": {
          "base_uri": "https://localhost:8080/"
        },
        "id": "C6xmmLs_OJYa",
        "outputId": "e91be51f-a5f7-4d09-fe31-d3b1ee4137f8"
      },
      "execution_count": null,
      "outputs": [
        {
          "output_type": "stream",
          "name": "stdout",
          "text": [
            "Enter elements (space-Seperated):Ganesh Chow dary \n",
            "The list is: ['Ganesh', 'Chow', 'dary']\n"
          ]
        }
      ]
    },
    {
      "cell_type": "code",
      "source": [
        "# example 2\n",
        "n = int(input(\"Enter the size of the list:\"))\n",
        "\n",
        "lst = list(map(int,input(\"Enter the integer\\\n",
        "               elemets:\").strip().split()))[:n]\n",
        "\n",
        "# printing the list\n",
        "print('The list is:',lst)"
      ],
      "metadata": {
        "colab": {
          "base_uri": "https://localhost:8080/"
        },
        "id": "8tMQNBJCO4dA",
        "outputId": "778b8989-9383-4c23-f04d-8fdbfd2835a5"
      },
      "execution_count": null,
      "outputs": [
        {
          "output_type": "stream",
          "name": "stdout",
          "text": [
            "Enter the size of the list:4\n",
            "Enter the integer               elemets:1 2 3 4\n",
            "The list is: [1, 2, 3, 4]\n"
          ]
        }
      ]
    },
    {
      "cell_type": "code",
      "source": [
        "# Adding elements to a python list\n",
        "# method 1 using append() method\n",
        "List = []\n",
        "print(\"Initial blank List: \")\n",
        "print(List)\n",
        "\n",
        "List.append(1)\n",
        "List.append(2)\n",
        "List.append(3)\n",
        "List.append(4)\n",
        "print(\"\\nList after Addition of Three elements: \")\n",
        "print(List)"
      ],
      "metadata": {
        "colab": {
          "base_uri": "https://localhost:8080/"
        },
        "id": "5CWxFYnzQgi3",
        "outputId": "22e0db3c-1b13-428a-cc03-7a04e5407c54"
      },
      "execution_count": null,
      "outputs": [
        {
          "output_type": "stream",
          "name": "stdout",
          "text": [
            "Initial blank List: \n",
            "[]\n",
            "\n",
            "List after Addition of Three elements: \n",
            "[1, 2, 3, 4]\n"
          ]
        }
      ]
    },
    {
      "cell_type": "code",
      "source": [
        "for  i in range(1,4):\n",
        "  List.append(i)\n",
        "print(List)\n",
        "\n",
        "List.append((5,6))\n",
        "print(List)\n",
        "\n",
        "List1 = ['ganesh','chowdary']\n",
        "List1.append(List)\n",
        "print(List1)"
      ],
      "metadata": {
        "colab": {
          "base_uri": "https://localhost:8080/"
        },
        "id": "g4EoiZ5VReQh",
        "outputId": "8dd567cd-ab26-4700-ae0b-569a75de4981"
      },
      "execution_count": null,
      "outputs": [
        {
          "output_type": "stream",
          "name": "stdout",
          "text": [
            "[1, 2, 3, 4, 1, 2, 3, 1, 2, 3, (5, 6), 1, 2, 3]\n",
            "[1, 2, 3, 4, 1, 2, 3, 1, 2, 3, (5, 6), 1, 2, 3, (5, 6)]\n",
            "['ganesh', 'chowdary', [1, 2, 3, 4, 1, 2, 3, 1, 2, 3, (5, 6), 1, 2, 3, (5, 6)]]\n"
          ]
        }
      ]
    },
    {
      "cell_type": "code",
      "source": [
        "# using insert() method\n",
        "lst3 = [1,2,3,4]\n",
        "print(lst3)\n",
        "\n",
        "lst3.insert(3,12)\n",
        "lst3.insert(0,'Ganesh')\n",
        "print(lst3)"
      ],
      "metadata": {
        "colab": {
          "base_uri": "https://localhost:8080/"
        },
        "id": "G_ZYtuExSZc4",
        "outputId": "70bbf537-2e43-4ff4-9dbe-8d6380ec23b1"
      },
      "execution_count": null,
      "outputs": [
        {
          "output_type": "stream",
          "name": "stdout",
          "text": [
            "[1, 2, 3, 4]\n",
            "['Ganesh', 1, 2, 3, 12, 4]\n"
          ]
        }
      ]
    },
    {
      "cell_type": "code",
      "source": [
        "# using the extend()\n",
        "lst3.extend([8,'Ganesh','Always'])\n",
        "print(lst3)"
      ],
      "metadata": {
        "colab": {
          "base_uri": "https://localhost:8080/"
        },
        "id": "O6w8esR_TKTi",
        "outputId": "f0f0f925-e4cb-45c9-ba64-667cea43e4e1"
      },
      "execution_count": null,
      "outputs": [
        {
          "output_type": "stream",
          "name": "stdout",
          "text": [
            "['Ganesh', 1, 2, 3, 12, 4, 8, 'Ganesh', 'Always']\n"
          ]
        }
      ]
    },
    {
      "cell_type": "code",
      "source": [
        "# Reversing list\n",
        "# reverse()\n",
        "mylist = [1, 2, 3, 4, 5, 'Ganesh', 'Chowdary']\n",
        "mylist.reverse()\n",
        "print(mylist)"
      ],
      "metadata": {
        "colab": {
          "base_uri": "https://localhost:8080/"
        },
        "id": "nycBrrVrTh8K",
        "outputId": "3ebef69c-777e-4101-9370-e74d4d35a39a"
      },
      "execution_count": null,
      "outputs": [
        {
          "output_type": "stream",
          "name": "stdout",
          "text": [
            "['Chowdary', 'Ganesh', 5, 4, 3, 2, 1]\n"
          ]
        }
      ]
    },
    {
      "cell_type": "code",
      "source": [
        "# reversed()\n",
        "my_list = [1,2,3,4,5]\n",
        "reversed_list = list(reversed(my_list))\n",
        "print(reversed_list)"
      ],
      "metadata": {
        "colab": {
          "base_uri": "https://localhost:8080/"
        },
        "id": "HTi9I-U_Tyn0",
        "outputId": "8654f158-891b-4ec0-fb21-6b0219dff102"
      },
      "execution_count": null,
      "outputs": [
        {
          "output_type": "stream",
          "name": "stdout",
          "text": [
            "[5, 4, 3, 2, 1]\n"
          ]
        }
      ]
    },
    {
      "cell_type": "code",
      "source": [
        "# Removing elements from list\n",
        "# method 1 :using remove()\n",
        "List = [1, 2, 3, 4, 5, 6,\n",
        "        7, 8, 9, 10, 11, 12]\n",
        "\n",
        "List.remove(5)\n",
        "List.remove(6)\n",
        "print(List)"
      ],
      "metadata": {
        "colab": {
          "base_uri": "https://localhost:8080/"
        },
        "id": "G_Shda_2Uadf",
        "outputId": "ed0260ee-690c-4264-c592-bf2851562dde"
      },
      "execution_count": null,
      "outputs": [
        {
          "output_type": "stream",
          "name": "stdout",
          "text": [
            "[1, 2, 3, 4, 7, 8, 9, 10, 11, 12]\n"
          ]
        }
      ]
    },
    {
      "cell_type": "code",
      "source": [
        "# EXAMPLE 2\n",
        "List = [1, 2, 3, 4, 5, 6,\n",
        "        7, 8, 9, 10, 11, 12]\n",
        "\n",
        "for i in range(1,5):\n",
        "  List.remove(i)\n",
        "print(List)"
      ],
      "metadata": {
        "colab": {
          "base_uri": "https://localhost:8080/"
        },
        "id": "x8uoNa4WVCLg",
        "outputId": "112074fd-1d09-442c-afa1-e34e3888062d"
      },
      "execution_count": null,
      "outputs": [
        {
          "output_type": "stream",
          "name": "stdout",
          "text": [
            "[5, 6, 7, 8, 9, 10, 11, 12]\n"
          ]
        }
      ]
    },
    {
      "cell_type": "code",
      "source": [
        "# method using pop()\n",
        "List = [1, 2, 3, 4, 5]\n",
        "\n",
        "List.pop()\n",
        "print(\"\\n\",List)\n",
        "\n",
        "List.pop(2)\n",
        "print(List)"
      ],
      "metadata": {
        "colab": {
          "base_uri": "https://localhost:8080/"
        },
        "id": "hsGtgBaeVj0H",
        "outputId": "66b42332-9135-403f-a679-91056d1f4375"
      },
      "execution_count": null,
      "outputs": [
        {
          "output_type": "stream",
          "name": "stdout",
          "text": [
            "\n",
            " [1, 2, 3, 4]\n",
            "[1, 2, 4]\n"
          ]
        }
      ]
    },
    {
      "cell_type": "code",
      "source": [
        "# slicing of a list\n",
        "List = ['G','a','n','e','s','h','c','h','o','w','d','a','r','y']\n",
        "\n",
        "sliced_list = List[3:8]\n",
        "print(\"\\n\",sliced_list)\n",
        "\n",
        "sliced_list = List[5:]\n",
        "print(\"\\n\",List)\n",
        "\n",
        "sliced_list = List[:]\n",
        "print(\"\\n\",sliced_list)"
      ],
      "metadata": {
        "colab": {
          "base_uri": "https://localhost:8080/"
        },
        "id": "n7f2dX55WOa9",
        "outputId": "a64574ac-30ed-4b57-ec72-fcc378070f32"
      },
      "execution_count": null,
      "outputs": [
        {
          "output_type": "stream",
          "name": "stdout",
          "text": [
            "\n",
            " ['e', 's', 'h', 'c', 'h']\n",
            "\n",
            " ['G', 'a', 'n', 'e', 's', 'h', 'c', 'h', 'o', 'w', 'd', 'a', 'r', 'y']\n",
            "\n",
            " ['G', 'a', 'n', 'e', 's', 'h', 'c', 'h', 'o', 'w', 'd', 'a', 'r', 'y']\n"
          ]
        }
      ]
    },
    {
      "cell_type": "code",
      "source": [
        "# negative list slicing\n",
        "sliced_list = List[:-6]\n",
        "print(sliced_list)\n",
        "\n",
        "sliced_list = List[-6:-1]\n",
        "print(sliced_list)\n",
        "\n",
        "sliced_list = List[::-1]\n",
        "print(sliced_list)"
      ],
      "metadata": {
        "colab": {
          "base_uri": "https://localhost:8080/"
        },
        "id": "7pjIdfPNYWIb",
        "outputId": "c33d1471-7068-46b4-b46c-0ca04fd7b4f0"
      },
      "execution_count": null,
      "outputs": [
        {
          "output_type": "stream",
          "name": "stdout",
          "text": [
            "['G', 'a', 'n', 'e', 's', 'h', 'c', 'h']\n",
            "['o', 'w', 'd', 'a', 'r']\n",
            "['y', 'r', 'a', 'd', 'w', 'o', 'h', 'c', 'h', 's', 'e', 'n', 'a', 'G']\n"
          ]
        }
      ]
    },
    {
      "cell_type": "code",
      "source": [
        "# List  Comprehension\n",
        "odd_square = [x ** 2 for x in range(1,11) if  x%2 ==1]\n",
        "print(odd_square)"
      ],
      "metadata": {
        "colab": {
          "base_uri": "https://localhost:8080/"
        },
        "id": "K_ELOKIFZpRb",
        "outputId": "cf5041cd-9680-4895-e38e-f058d2262113"
      },
      "execution_count": null,
      "outputs": [
        {
          "output_type": "stream",
          "name": "stdout",
          "text": [
            "[1, 9, 25, 49, 81]\n"
          ]
        }
      ]
    },
    {
      "cell_type": "code",
      "source": [
        "# by using the for loop\n",
        "odd_square = []\n",
        "for x in range(1,11):\n",
        "  if x % 2 == 1:\n",
        "      odd_square.append(x**2)\n",
        "print(odd_square)"
      ],
      "metadata": {
        "colab": {
          "base_uri": "https://localhost:8080/"
        },
        "id": "1lLbNsrwa0p9",
        "outputId": "3ff499bc-a9f0-4c05-ac6a-c948a8b6b144"
      },
      "execution_count": null,
      "outputs": [
        {
          "output_type": "stream",
          "name": "stdout",
          "text": [
            "[1, 9, 25, 49, 81]\n"
          ]
        }
      ]
    },
    {
      "cell_type": "code",
      "source": [
        "# create list of numbers with given range\n",
        "# Naive approach using loop\n",
        "lst = []\n",
        "for i in range(5,9):\n",
        "  lst.append(i)\n",
        "  print(i)"
      ],
      "metadata": {
        "colab": {
          "base_uri": "https://localhost:8080/"
        },
        "id": "LOCfFu34eHnS",
        "outputId": "a12c99ce-4766-43b1-8ce2-552c3e0df34a"
      },
      "execution_count": null,
      "outputs": [
        {
          "output_type": "stream",
          "name": "stdout",
          "text": [
            "5\n",
            "6\n",
            "7\n",
            "8\n"
          ]
        }
      ]
    },
    {
      "cell_type": "code",
      "source": [
        "# list comprehensions are used for creating new lists from other iterable like tuples\n",
        "# ,strings, arrays ,lists. A list comprehension consists of brackets containing\n",
        "# the expression, which is executed for each element along with the for loop to iterate over each element."
      ],
      "metadata": {
        "id": "PXLeGqJpk74v"
      },
      "execution_count": null,
      "outputs": []
    },
    {
      "cell_type": "code",
      "source": [
        "#example 1 :\n",
        "odd_square = [ x ** 2 for x in range(1 ,11) if x % 2 == 1]\n",
        "print(odd_square)"
      ],
      "metadata": {
        "colab": {
          "base_uri": "https://localhost:8080/"
        },
        "id": "Q3KTXMSPloqm",
        "outputId": "d617971d-022d-4c13-c822-fcbaea4b8d8a"
      },
      "execution_count": null,
      "outputs": [
        {
          "output_type": "stream",
          "name": "stdout",
          "text": [
            "[1, 9, 25, 49, 81]\n"
          ]
        }
      ]
    },
    {
      "cell_type": "code",
      "source": [
        "# also we can write the code in\n",
        "odd_square = []\n",
        "\n",
        "for x in range(1,11):\n",
        "  if x % 2 == 1:\n",
        "    odd_square.append(x**2)\n",
        "print(odd_square)"
      ],
      "metadata": {
        "colab": {
          "base_uri": "https://localhost:8080/"
        },
        "id": "2O3h6nwDmHZG",
        "outputId": "259a0437-ac3c-4d8c-a0ba-4c4e6141919d"
      },
      "execution_count": null,
      "outputs": [
        {
          "output_type": "stream",
          "name": "stdout",
          "text": [
            "[1, 9, 25, 49, 81]\n"
          ]
        }
      ]
    },
    {
      "cell_type": "code",
      "source": [
        "# creating a list of numbers with given range\n",
        "# naive approach using a loop\n",
        "def createlist(r1,r2):\n",
        "\n",
        " if (r1 == r2):\n",
        "   return r1\n",
        "\n",
        " else:\n",
        "   res = []\n",
        "\n",
        "   while (r1 < r2+1):\n",
        "\n",
        "      res.append(r1)\n",
        "      r1 += 1\n",
        "   return res\n",
        "\n",
        "# driver code\n",
        "r1,r2 = -1,1\n",
        "print(createlist(r1,r2))"
      ],
      "metadata": {
        "colab": {
          "base_uri": "https://localhost:8080/"
        },
        "id": "50pEZL3Jo9Xu",
        "outputId": "12c09296-7d13-492f-9dae-d89abc9a9374"
      },
      "execution_count": null,
      "outputs": [
        {
          "output_type": "stream",
          "name": "stdout",
          "text": [
            "[-1, 0, 1]\n"
          ]
        }
      ]
    },
    {
      "cell_type": "code",
      "source": [
        "# same creating a range of list by using list comprehension\n",
        "def createlist(r1,r2):\n",
        "  return [item for item in range(r1,r2+1)]\n",
        "\n",
        "r1, r2 = -1,1\n",
        "print(createlist(r1,r2))"
      ],
      "metadata": {
        "colab": {
          "base_uri": "https://localhost:8080/"
        },
        "id": "uMMKbsofsF6K",
        "outputId": "880588c2-b39e-4e14-f562-937b40c54bc9"
      },
      "execution_count": null,
      "outputs": [
        {
          "output_type": "stream",
          "name": "stdout",
          "text": [
            "[-1, 0, 1]\n"
          ]
        }
      ]
    },
    {
      "cell_type": "code",
      "source": [
        "# using python range\n",
        "def createlist(r1,r2):\n",
        "  return list(range(r1,r2+1))\n",
        "\n",
        "r1,r2 = -1,1\n",
        "print(createlist(r1,r2))"
      ],
      "metadata": {
        "colab": {
          "base_uri": "https://localhost:8080/"
        },
        "id": "BihMO2Nhs2iK",
        "outputId": "489209ed-27c0-4a36-f1e3-8c3bc2f1619f"
      },
      "execution_count": null,
      "outputs": [
        {
          "output_type": "stream",
          "name": "stdout",
          "text": [
            "[-1, 0, 1]\n"
          ]
        }
      ]
    },
    {
      "cell_type": "code",
      "source": [
        "# using itertools module chain function\n",
        "import itertools\n",
        "r1 = -5\n",
        "r2 = 5\n",
        "\n",
        "numbers = list(itertools.chain(range(r1,r2+1)))\n",
        "print(numbers)"
      ],
      "metadata": {
        "colab": {
          "base_uri": "https://localhost:8080/"
        },
        "id": "I3lQt_DsuUhd",
        "outputId": "fd819e9f-658b-43e1-80eb-2a331b06b992"
      },
      "execution_count": null,
      "outputs": [
        {
          "output_type": "stream",
          "name": "stdout",
          "text": [
            "[-5, -4, -3, -2, -1, 0, 1, 2, 3, 4, 5]\n"
          ]
        }
      ]
    },
    {
      "cell_type": "code",
      "source": [
        "# using numpy.arange()\n",
        "import numpy as np\n",
        "def createlist(r1,r2):\n",
        "  return np.arange(r1,r2+1)\n",
        "\n",
        "r1,r2 = -1,1\n",
        "print(createlist(r1,r2))"
      ],
      "metadata": {
        "colab": {
          "base_uri": "https://localhost:8080/"
        },
        "id": "552F_17IvDGC",
        "outputId": "1af5605e-628c-4cbd-b58e-4ddf69cd8aa8"
      },
      "execution_count": null,
      "outputs": [
        {
          "output_type": "stream",
          "name": "stdout",
          "text": [
            "[-1  0  1]\n"
          ]
        }
      ]
    },
    {
      "cell_type": "code",
      "source": [
        "# using numpy to create a list of numbers with given range\n",
        "import numpy as np\n",
        "def fun(start,end,step):\n",
        "  num = np.linspace(start,end,(end-start)*int(1/step)+1).tolist()\n",
        "  return [ round (i,2) for i in num]\n",
        "\n",
        "print(fun(1,5,0.5))"
      ],
      "metadata": {
        "colab": {
          "base_uri": "https://localhost:8080/"
        },
        "id": "sheO4lt6vxJ0",
        "outputId": "470a6924-e49f-4b18-9ed7-839ce133d8e9"
      },
      "execution_count": null,
      "outputs": [
        {
          "output_type": "stream",
          "name": "stdout",
          "text": [
            "[1.0, 1.5, 2.0, 2.5, 3.0, 3.5, 4.0, 4.5, 5.0]\n"
          ]
        }
      ]
    },
    {
      "cell_type": "code",
      "source": [
        "# using recursive function\n",
        "def createlist(r1,r2,lst):\n",
        "  if r1 == r2:\n",
        "    return lst\n",
        "  else:\n",
        "    lst.append(r1)\n",
        "    return createlist(r1 + 1,r2,lst)\n",
        "\n",
        "print(createlist(5,9,[]))\n",
        "print(createlist(-1,1,[]))"
      ],
      "metadata": {
        "colab": {
          "base_uri": "https://localhost:8080/"
        },
        "id": "AGqqj3xoxMba",
        "outputId": "196e2641-1d37-4c09-8f5f-6599230ec8a7"
      },
      "execution_count": null,
      "outputs": [
        {
          "output_type": "stream",
          "name": "stdout",
          "text": [
            "[5, 6, 7, 8]\n",
            "[-1, 0]\n"
          ]
        }
      ]
    },
    {
      "cell_type": "code",
      "source": [
        "# using map() and lambda ()\n",
        "def createlist(r1,r2):\n",
        "  return list(map(lambda x:x , range (r1,r2+1)))\n",
        "\n",
        "print(createlist(5,9))\n",
        "print(createlist(-1,1))"
      ],
      "metadata": {
        "colab": {
          "base_uri": "https://localhost:8080/"
        },
        "id": "9zfo3ZniyqbR",
        "outputId": "e8e3bdce-9e91-407b-be19-73d2b7aa7fe9"
      },
      "execution_count": null,
      "outputs": [
        {
          "output_type": "stream",
          "name": "stdout",
          "text": [
            "[5, 6, 7, 8, 9]\n",
            "[-1, 0, 1]\n"
          ]
        }
      ]
    },
    {
      "cell_type": "code",
      "source": [
        "# python program to accessing the index and value in list\n",
        "test_list = [1,2,4,5]\n",
        "\n",
        "print(\"original list:\",test_list)-\n",
        "\n",
        "print(\"list index- value are:\")\n",
        "for i in range(len(test_list)):\n",
        "  print(i,end = \" \")\n",
        "  print(test_list[i])"
      ],
      "metadata": {
        "colab": {
          "base_uri": "https://localhost:8080/"
        },
        "id": "yqWKnW9ZQPFO",
        "outputId": "5c777233-a612-4a24-98e7-b404a72fa71d"
      },
      "execution_count": 2,
      "outputs": [
        {
          "output_type": "stream",
          "name": "stdout",
          "text": [
            "original list: [1, 2, 4, 5]\n",
            "list index- value are:\n",
            "0 1\n",
            "1 2\n",
            "2 4\n",
            "3 5\n"
          ]
        }
      ]
    },
    {
      "cell_type": "code",
      "source": [
        "# accessing using list comprehension method\n",
        "print([list((i,test_list[i])) for i in range(len(test_list))])"
      ],
      "metadata": {
        "colab": {
          "base_uri": "https://localhost:8080/"
        },
        "id": "ACsBKZipRt6K",
        "outputId": "2b471ba0-1977-4e5d-b703-1c84493d3275"
      },
      "execution_count": 3,
      "outputs": [
        {
          "output_type": "stream",
          "name": "stdout",
          "text": [
            "[[0, 1], [1, 2], [2, 4], [3, 5]]\n"
          ]
        }
      ]
    },
    {
      "cell_type": "code",
      "source": [
        "# accessing using list enumerate method\n",
        "for index,value in enumerate(test_list):\n",
        "  print(index,value)"
      ],
      "metadata": {
        "colab": {
          "base_uri": "https://localhost:8080/"
        },
        "id": "NIUq4fu1S1ga",
        "outputId": "18edc282-2962-45ff-ab1a-06f88da0ffa5"
      },
      "execution_count": 4,
      "outputs": [
        {
          "output_type": "stream",
          "name": "stdout",
          "text": [
            "0 1\n",
            "1 2\n",
            "2 4\n",
            "3 5\n"
          ]
        }
      ]
    },
    {
      "cell_type": "code",
      "source": [
        "# accessing using list zip() method\n",
        "for index,value in zip(range(len(test_list)),test_list):\n",
        "  print(index,value)"
      ],
      "metadata": {
        "colab": {
          "base_uri": "https://localhost:8080/"
        },
        "id": "GuSvds5NTjtB",
        "outputId": "a01b3e8b-7820-4c80-d7dd-a1aa73aab886"
      },
      "execution_count": 5,
      "outputs": [
        {
          "output_type": "stream",
          "name": "stdout",
          "text": [
            "0 1\n",
            "1 2\n",
            "2 4\n",
            "3 5\n"
          ]
        }
      ]
    },
    {
      "cell_type": "code",
      "source": [
        "# accessing elements in list using numpy.ndenumerate()\n",
        "import numpy as np\n",
        "test_list = [1,2,3,4,5,6]\n",
        "\n",
        "for index,value in np.ndenumerate(test_list):\n",
        "  print(index[0],value)"
      ],
      "metadata": {
        "colab": {
          "base_uri": "https://localhost:8080/"
        },
        "id": "5r2VIjb1UO_v",
        "outputId": "5850e350-9be6-4340-db57-dc7235d325ec"
      },
      "execution_count": 9,
      "outputs": [
        {
          "output_type": "stream",
          "name": "stdout",
          "text": [
            "0 1\n",
            "1 2\n",
            "2 3\n",
            "3 4\n",
            "4 5\n",
            "5 6\n"
          ]
        }
      ]
    },
    {
      "cell_type": "code",
      "source": [
        "# how to find length of a list in python\n",
        "# using len()\n",
        "li = [1,3,4,5,7,8,9]\n",
        "n = len(li)\n",
        "n"
      ],
      "metadata": {
        "colab": {
          "base_uri": "https://localhost:8080/"
        },
        "id": "hxjtNw9hWWLS",
        "outputId": "056d0c9c-04db-4791-cdc0-89e7609372fa"
      },
      "execution_count": 10,
      "outputs": [
        {
          "output_type": "execute_result",
          "data": {
            "text/plain": [
              "7"
            ]
          },
          "metadata": {},
          "execution_count": 10
        }
      ]
    },
    {
      "cell_type": "code",
      "source": [
        "# using naive method\n",
        "test_list = [1,4,5,6]\n",
        "\n",
        "counter = 0\n",
        "for i in test_list:\n",
        "  # increamenting counter\n",
        "  counter = counter +1\n",
        "print(\"length of list by using naive method is:\",counter)"
      ],
      "metadata": {
        "colab": {
          "base_uri": "https://localhost:8080/"
        },
        "id": "bJ0FQzKTW8uS",
        "outputId": "aeb187a7-14b1-4bc6-9105-48a245f8a0c1"
      },
      "execution_count": 11,
      "outputs": [
        {
          "output_type": "stream",
          "name": "stdout",
          "text": [
            "length of list by using naive method is: 4\n"
          ]
        }
      ]
    },
    {
      "cell_type": "code",
      "source": [
        "# using length_hint\n",
        "# particularly defined in operator class\n",
        "from operator import length_hint\n",
        "\n",
        "test_list = [1,2,3,4,5,6,7]\n",
        "\n",
        "list_len = len(test_list)\n",
        "\n",
        "list_len_hint = length_hint(test_list)\n",
        "\n",
        "print(list_len)\n",
        "\n",
        "print(list_len_hint)"
      ],
      "metadata": {
        "colab": {
          "base_uri": "https://localhost:8080/"
        },
        "id": "wcL98hP0XnXR",
        "outputId": "28faddd8-3525-4067-b095-5e5c5470f3dc"
      },
      "execution_count": 12,
      "outputs": [
        {
          "output_type": "stream",
          "name": "stdout",
          "text": [
            "7\n",
            "7\n"
          ]
        }
      ]
    },
    {
      "cell_type": "code",
      "source": [
        "# using the sum() method\n",
        "\n",
        "test_list = [1,2,3,4,5,6,7]\n",
        "\n",
        "list_len = sum( 1 for i in test_list)\n",
        "\n",
        "list_len"
      ],
      "metadata": {
        "colab": {
          "base_uri": "https://localhost:8080/"
        },
        "id": "UpmOblBjYjie",
        "outputId": "f53cc4b9-81cd-4d5b-b25f-4018e4ce5bbc"
      },
      "execution_count": 16,
      "outputs": [
        {
          "output_type": "execute_result",
          "data": {
            "text/plain": [
              "7"
            ]
          },
          "metadata": {},
          "execution_count": 16
        }
      ]
    },
    {
      "cell_type": "code",
      "source": [
        "# using list comprehension\n",
        "\n",
        "test_list = [1,2,3,4,5,6,7]\n",
        "\n",
        "#length = 0\n",
        "\n",
        "list_len = [list (i for i in range(0,len(test_list)))]\n",
        "\n",
        "len = length_hint(list_len)\n",
        "len"
      ],
      "metadata": {
        "colab": {
          "base_uri": "https://localhost:8080/",
          "height": 245
        },
        "id": "kNxKA0NUZYjY",
        "outputId": "8f1f1a15-fa20-4bd9-e021-2f201dde49f4"
      },
      "execution_count": 20,
      "outputs": [
        {
          "output_type": "error",
          "ename": "TypeError",
          "evalue": "ignored",
          "traceback": [
            "\u001b[0;31m---------------------------------------------------------------------------\u001b[0m",
            "\u001b[0;31mTypeError\u001b[0m                                 Traceback (most recent call last)",
            "\u001b[0;32m<ipython-input-20-b70a31b6bf51>\u001b[0m in \u001b[0;36m<cell line: 7>\u001b[0;34m()\u001b[0m\n\u001b[1;32m      5\u001b[0m \u001b[0;31m#length = 0\u001b[0m\u001b[0;34m\u001b[0m\u001b[0;34m\u001b[0m\u001b[0m\n\u001b[1;32m      6\u001b[0m \u001b[0;34m\u001b[0m\u001b[0m\n\u001b[0;32m----> 7\u001b[0;31m \u001b[0mlist_len\u001b[0m \u001b[0;34m=\u001b[0m \u001b[0;34m[\u001b[0m\u001b[0mlist\u001b[0m \u001b[0;34m(\u001b[0m\u001b[0;36m1\u001b[0m \u001b[0;32mfor\u001b[0m \u001b[0mi\u001b[0m \u001b[0;32min\u001b[0m \u001b[0mrange\u001b[0m\u001b[0;34m(\u001b[0m\u001b[0;36m0\u001b[0m\u001b[0;34m,\u001b[0m\u001b[0mlen\u001b[0m\u001b[0;34m(\u001b[0m\u001b[0mtest_list\u001b[0m\u001b[0;34m)\u001b[0m\u001b[0;34m)\u001b[0m\u001b[0;34m)\u001b[0m\u001b[0;34m]\u001b[0m\u001b[0;34m\u001b[0m\u001b[0;34m\u001b[0m\u001b[0m\n\u001b[0m\u001b[1;32m      8\u001b[0m \u001b[0;34m\u001b[0m\u001b[0m\n\u001b[1;32m      9\u001b[0m \u001b[0mlen\u001b[0m \u001b[0;34m=\u001b[0m \u001b[0mlength_hint\u001b[0m\u001b[0;34m(\u001b[0m\u001b[0mlist_len\u001b[0m\u001b[0;34m)\u001b[0m\u001b[0;34m\u001b[0m\u001b[0;34m\u001b[0m\u001b[0m\n",
            "\u001b[0;31mTypeError\u001b[0m: 'int' object is not callable"
          ]
        }
      ]
    },
    {
      "cell_type": "code",
      "source": [
        "def count_element_recursion(lst):\n",
        "  # Base case: if the list is empty, return 0\n",
        "  if not lst:\n",
        "    return 0\n",
        "  # Recursive case: add 1 to the count of the remaining elements in the list\n",
        "  return 1 +count_element_recursion(lst[1:])\n",
        "\n",
        "lst = [1,2,3,4,5]\n",
        "\n",
        "print(\"The length of the list is:\", count_element_recursion(lst))"
      ],
      "metadata": {
        "colab": {
          "base_uri": "https://localhost:8080/"
        },
        "id": "GRXvoIica-4Q",
        "outputId": "6b67a31d-66d5-4942-fe61-a2cf183e2035"
      },
      "execution_count": 21,
      "outputs": [
        {
          "output_type": "stream",
          "name": "stdout",
          "text": [
            "The length of the list is: 5\n"
          ]
        }
      ]
    },
    {
      "cell_type": "code",
      "source": [
        "# using the enumerate function\n",
        "list1 = [1,2,3,4,5,6]\n",
        "\n",
        "s = 0\n",
        "\n",
        "for i, a in enumerate(list1):\n",
        "  s += 1\n",
        "print(s)"
      ],
      "metadata": {
        "colab": {
          "base_uri": "https://localhost:8080/"
        },
        "id": "8Zicgx0_cGZE",
        "outputId": "209e9765-79f2-4576-b61d-249a18b163cc"
      },
      "execution_count": 22,
      "outputs": [
        {
          "output_type": "stream",
          "name": "stdout",
          "text": [
            "6\n"
          ]
        }
      ]
    },
    {
      "cell_type": "code",
      "source": [
        "# using collections\n",
        "from collections import Counter\n",
        "\n",
        "list1 = [1,2,3,4,5,6]\n",
        "\n",
        "list_len = sum(Counter(list1).values())\n",
        "\n",
        "list_len"
      ],
      "metadata": {
        "colab": {
          "base_uri": "https://localhost:8080/"
        },
        "id": "U9IifkNJcqdY",
        "outputId": "0f8bcf91-3964-4d2c-ca5e-aab26009b4d8"
      },
      "execution_count": 26,
      "outputs": [
        {
          "output_type": "execute_result",
          "data": {
            "text/plain": [
              "6"
            ]
          },
          "metadata": {},
          "execution_count": 26
        }
      ]
    },
    {
      "cell_type": "code",
      "source": [
        "# checking whether element exist in list or not ?\n",
        "\n",
        "list1 = [1,2,3,4,5,6]\n",
        "\n",
        "i = 6\n",
        "\n",
        "if i in list1:\n",
        "  print(\"exist\")\n",
        "\n",
        "else:\n",
        "  print(\"not exist\")"
      ],
      "metadata": {
        "colab": {
          "base_uri": "https://localhost:8080/"
        },
        "id": "e-mc70daeI6P",
        "outputId": "2644d13c-f7b7-4a23-bf08-27972f9238b6"
      },
      "execution_count": 27,
      "outputs": [
        {
          "output_type": "stream",
          "name": "stdout",
          "text": [
            "exist\n"
          ]
        }
      ]
    },
    {
      "cell_type": "code",
      "source": [
        "\n",
        "list1 = [1,2,3,4,5,6]\n",
        "\n",
        "for i in list1:\n",
        "  if(i == 4):\n",
        "    print(\"element exists\")"
      ],
      "metadata": {
        "colab": {
          "base_uri": "https://localhost:8080/"
        },
        "id": "3F1O6jL3e8Yo",
        "outputId": "7e216fb6-3adf-469c-b306-41c41fa400f8"
      },
      "execution_count": 28,
      "outputs": [
        {
          "output_type": "stream",
          "name": "stdout",
          "text": [
            "element exists\n"
          ]
        }
      ]
    },
    {
      "cell_type": "code",
      "source": [
        "\n",
        "list1 = [1,2,3,4,5,6]\n",
        "\n",
        "result = any(item in list1 for item in list1)\n",
        "print(\"Does any string contain list element:\",result)"
      ],
      "metadata": {
        "colab": {
          "base_uri": "https://localhost:8080/"
        },
        "id": "PBBA9QojfbWf",
        "outputId": "5e5ec477-a9be-4ecd-e9e8-c8a44eceb92c"
      },
      "execution_count": 31,
      "outputs": [
        {
          "output_type": "stream",
          "name": "stdout",
          "text": [
            "Does any string contain list element: True\n"
          ]
        }
      ]
    },
    {
      "cell_type": "code",
      "source": [
        "# using count()\n",
        "\n",
        "list1 = [1,2,3,4,5,6]\n",
        "\n",
        "exist_count = list1.count(5)\n",
        "\n",
        "if exist_count > 0:\n",
        "  print(\"present\")\n",
        "else:\n",
        "  print(\"not present\")"
      ],
      "metadata": {
        "colab": {
          "base_uri": "https://localhost:8080/"
        },
        "id": "w5OPwQDZglXE",
        "outputId": "a656b8c5-6f51-4682-bf37-c427d5a90fcc"
      },
      "execution_count": 33,
      "outputs": [
        {
          "output_type": "stream",
          "name": "stdout",
          "text": [
            "present\n"
          ]
        }
      ]
    },
    {
      "cell_type": "code",
      "source": [
        "from bisect import bisect_left,bisect\n",
        "\n",
        "list1 = [1,4,7,8,9,4,5,6]\n",
        "\n",
        "list1_bisect = [1,2,3,4,5,6,5,9]\n",
        "\n",
        "list1 = set(list1_bisect)\n",
        "if 4 in list1:\n",
        "  print(\"element exist\")\n",
        "\n",
        "# by sort()+bisect_left()\n",
        "\n",
        "list1_bisect.sort()\n",
        "if bisect_left(list1_bisect,4)!= bisect(list1_bisect,4):\n",
        "    print(\"element exists\")\n",
        "else:\n",
        "    print(\"element doesnt exist\")"
      ],
      "metadata": {
        "colab": {
          "base_uri": "https://localhost:8080/"
        },
        "id": "PZLiD6jBgsaJ",
        "outputId": "289ca03f-b629-4c0f-e6cb-1c6e97cd8f76"
      },
      "execution_count": 36,
      "outputs": [
        {
          "output_type": "stream",
          "name": "stdout",
          "text": [
            "element exist\n",
            "element exists\n"
          ]
        }
      ]
    },
    {
      "cell_type": "code",
      "source": [
        "\n",
        "list1 = [1,2,3,4,5,6]\n",
        "\n",
        "x = list(map(str,test_li))"
      ],
      "metadata": {
        "id": "b-Eh7ORoh_ly"
      },
      "execution_count": null,
      "outputs": []
    }
  ]
}