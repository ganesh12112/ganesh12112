{
  "nbformat": 4,
  "nbformat_minor": 0,
  "metadata": {
    "colab": {
      "provenance": [],
      "authorship_tag": "ABX9TyPN+hiEcUTE2jmcpXTC1jpK",
      "include_colab_link": true
    },
    "kernelspec": {
      "name": "python3",
      "display_name": "Python 3"
    },
    "language_info": {
      "name": "python"
    }
  },
  "cells": [
    {
      "cell_type": "markdown",
      "metadata": {
        "id": "view-in-github",
        "colab_type": "text"
      },
      "source": [
        "<a href=\"https://colab.research.google.com/github/ganesh12112/ganesh12112/blob/main/Python_practice8.ipynb\" target=\"_parent\"><img src=\"https://colab.research.google.com/assets/colab-badge.svg\" alt=\"Open In Colab\"/></a>"
      ]
    },
    {
      "cell_type": "code",
      "execution_count": 1,
      "metadata": {
        "colab": {
          "base_uri": "https://localhost:8080/"
        },
        "id": "uytkXtmwIueA",
        "outputId": "3b19c5bf-3308-4428-8ddd-9a18a94c964f"
      },
      "outputs": [
        {
          "output_type": "stream",
          "name": "stdout",
          "text": [
            "['Ganesh', 'raghavendra', 'shreya']\n"
          ]
        }
      ],
      "source": [
        "var = [\"Ganesh\",\"raghavendra\",\"shreya\"]\n",
        "print(var)"
      ]
    },
    {
      "cell_type": "code",
      "source": [
        "# example 1\n",
        "lst = []\n",
        "print(\"Blank List:\")\n",
        "print(lst)\n",
        "\n",
        "lst1 = [1,2,3]\n",
        "print(\"\\n\",lst1)\n",
        "\n",
        "lst2 = [\"Ganesh\",\"raghavendra\",\"shreya\"]\n",
        "print(lst2)\n",
        "print(lst2[1])"
      ],
      "metadata": {
        "colab": {
          "base_uri": "https://localhost:8080/"
        },
        "id": "UyQHCNpAJ42l",
        "outputId": "9a3d5da2-3419-4557-cafc-0cf855244bb3"
      },
      "execution_count": 4,
      "outputs": [
        {
          "output_type": "stream",
          "name": "stdout",
          "text": [
            "Blank List:\n",
            "[]\n",
            "\n",
            " [1, 2, 3]\n",
            "['Ganesh', 'raghavendra', 'shreya']\n",
            "raghavendra\n"
          ]
        }
      ]
    },
    {
      "cell_type": "code",
      "source": [
        "# example list with distinct values or duplicate values\n",
        "lst = [1,2,23,43,45,66,23,3,2,1]\n",
        "print(\"\\n\",lst)\n",
        "\n",
        "lst1 = [1,2,'Geeks',4,'For',6,'Geeks']\n",
        "print(\"\\n\",lst1)"
      ],
      "metadata": {
        "colab": {
          "base_uri": "https://localhost:8080/"
        },
        "id": "WmioFjpOLCzt",
        "outputId": "d3d65588-65ec-4cb3-890d-32b5486807b3"
      },
      "execution_count": 6,
      "outputs": [
        {
          "output_type": "stream",
          "name": "stdout",
          "text": [
            "\n",
            " [1, 2, 23, 43, 45, 66, 23, 3, 2, 1]\n",
            "\n",
            " [1, 2, 'Geeks', 4, 'For', 6, 'Geeks']\n"
          ]
        }
      ]
    },
    {
      "cell_type": "code",
      "source": [
        "#Accessing elements from the list\n",
        "# example 1\n",
        "lst2 = [\"Ganesh\",\"raghavendra\",\"shreya\"]\n",
        "print(lst2[1])\n",
        "\n",
        "print(\"\\n\",lst2[2])"
      ],
      "metadata": {
        "colab": {
          "base_uri": "https://localhost:8080/"
        },
        "id": "9Nz48IMMLwQO",
        "outputId": "e61efc83-be94-4552-aa34-65abbb730b0b"
      },
      "execution_count": 8,
      "outputs": [
        {
          "output_type": "stream",
          "name": "stdout",
          "text": [
            "raghavendra\n",
            "\n",
            " shreya\n"
          ]
        }
      ]
    },
    {
      "cell_type": "code",
      "source": [
        "#Accessing elements from from multidimensional list\n",
        "lst2 = [\"Ganesh\",[\"raghavendra\",\"shreya\"]]\n",
        "print(lst2[1][1])\n",
        "print(lst2[1][0])"
      ],
      "metadata": {
        "colab": {
          "base_uri": "https://localhost:8080/"
        },
        "id": "MtDdNJdcMmLA",
        "outputId": "ca25c736-68f6-4361-d813-b86f1e9c906c"
      },
      "execution_count": 11,
      "outputs": [
        {
          "output_type": "stream",
          "name": "stdout",
          "text": [
            "shreya\n",
            "raghavendra\n"
          ]
        }
      ]
    },
    {
      "cell_type": "code",
      "source": [],
      "metadata": {
        "id": "WvSTaKlWNNlv"
      },
      "execution_count": null,
      "outputs": []
    }
  ]
}