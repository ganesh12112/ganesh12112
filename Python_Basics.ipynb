{
  "nbformat": 4,
  "nbformat_minor": 0,
  "metadata": {
    "colab": {
      "provenance": [],
      "include_colab_link": true
    },
    "kernelspec": {
      "name": "python3",
      "display_name": "Python 3"
    },
    "language_info": {
      "name": "python"
    }
  },
  "cells": [
    {
      "cell_type": "markdown",
      "metadata": {
        "id": "view-in-github",
        "colab_type": "text"
      },
      "source": [
        "<a href=\"https://colab.research.google.com/github/ganesh12112/ganesh12112/blob/main/Python_Basics.ipynb\" target=\"_parent\"><img src=\"https://colab.research.google.com/assets/colab-badge.svg\" alt=\"Open In Colab\"/></a>"
      ]
    },
    {
      "cell_type": "markdown",
      "metadata": {
        "id": "4ryXbpUTfC25"
      },
      "source": [
        "towardsdatascience\n",
        "\n",
        "medium\n",
        "\n",
        "analyticsvidhya\n",
        "\n",
        "machinelearningmastery\n",
        "\n",
        "kaggle\n",
        "\n"
      ]
    },
    {
      "cell_type": "markdown",
      "metadata": {
        "id": "Ig-aByQ6gOyC"
      },
      "source": [
        "For each project, we may need to different versions of packages.\n",
        "To ensure running of prev. and cur. projects, we use separate virtual environment for each projet."
      ]
    },
    {
      "cell_type": "code",
      "metadata": {
        "id": "l2V6Kc8vamcs",
        "colab": {
          "base_uri": "https://localhost:8080/"
        },
        "outputId": "05cb8fee-e125-42e8-8377-f14580247458"
      },
      "source": [
        "print(\"Hello World\")"
      ],
      "execution_count": null,
      "outputs": [
        {
          "output_type": "stream",
          "text": [
            "Hello World\n"
          ],
          "name": "stdout"
        }
      ]
    },
    {
      "cell_type": "markdown",
      "metadata": {
        "id": "WqvwyJ5KhYxJ"
      },
      "source": [
        "Keywords:\n",
        "33 keywords (Except for 3 keywords, rest begin with lower case)\n",
        "\n",
        "True, False and None\n",
        "\n",
        "Variable name / identifiers: begin with alphabets or underscore and can contain digits afterwards"
      ]
    },
    {
      "cell_type": "code",
      "metadata": {
        "colab": {
          "base_uri": "https://localhost:8080/",
          "height": 35
        },
        "id": "-b_0GqSghbXv",
        "outputId": "615105c5-bc80-467b-bd64-bb0249b0cd08"
      },
      "source": [
        "#Single Line Comments\n",
        "\"\"\"Multi\n",
        "Line\n",
        "Comments\"\"\"\n",
        "'''Multi\n",
        "Line\n",
        "Comments'''"
      ],
      "execution_count": null,
      "outputs": [
        {
          "output_type": "execute_result",
          "data": {
            "application/vnd.google.colaboratory.intrinsic+json": {
              "type": "string"
            },
            "text/plain": [
              "'Multi\\nLine\\nComments'"
            ]
          },
          "metadata": {
            "tags": []
          },
          "execution_count": 62
        }
      ]
    },
    {
      "cell_type": "code",
      "metadata": {
        "colab": {
          "base_uri": "https://localhost:8080/"
        },
        "id": "7IRlJUMwi5KC",
        "outputId": "b4f4410d-4139-4dd7-b8b4-a5fdad99b21f"
      },
      "source": [
        "print(\"Hello World\")\n",
        "print('Hello World')"
      ],
      "execution_count": null,
      "outputs": [
        {
          "output_type": "stream",
          "text": [
            "Hello World\n",
            "Hello World\n"
          ],
          "name": "stdout"
        }
      ]
    },
    {
      "cell_type": "markdown",
      "metadata": {
        "id": "8kArhWgakENQ"
      },
      "source": [
        "DATATYPES"
      ]
    },
    {
      "cell_type": "code",
      "metadata": {
        "colab": {
          "base_uri": "https://localhost:8080/"
        },
        "id": "BxS2mg7_jNYo",
        "outputId": "868fe6d0-ff27-4869-d039-d8f24c777153"
      },
      "source": [
        "#str\n",
        "string = \"Hello\"\n",
        "print(type(string))\n",
        "string = 'Hello'\n",
        "print(type(string))\n",
        "\n",
        "#int\n",
        "a = 5\n",
        "print(type(a))\n",
        "\n",
        "#float\n",
        "b = 5.0\n",
        "print(type(b))\n",
        "\n",
        "#bool\n",
        "bool_value = True\n",
        "print(type(bool_value))\n",
        "\n",
        "#complex\n",
        "complex_num = 3+5j\n",
        "print(type(complex_num))\n",
        "\n",
        "#NoneType\n",
        "element = None\n",
        "print(type(element))"
      ],
      "execution_count": null,
      "outputs": [
        {
          "output_type": "stream",
          "text": [
            "<class 'str'>\n",
            "<class 'str'>\n",
            "<class 'int'>\n",
            "<class 'float'>\n",
            "<class 'bool'>\n",
            "<class 'complex'>\n",
            "<class 'NoneType'>\n"
          ],
          "name": "stdout"
        }
      ]
    },
    {
      "cell_type": "markdown",
      "metadata": {
        "id": "nvsxvx6Dm0bx"
      },
      "source": [
        "Non Primitive Datatypes / Collections / Data Structures in Python\n",
        "\n",
        "List\n",
        "Tuple\n",
        "Set\n",
        "Dictionary\n",
        "\n",
        "\n",
        "Documentation: https://docs.python.org/3/\n",
        "\n",
        "https://docs.python.org/3/library/stdtypes.html#string-methods"
      ]
    },
    {
      "cell_type": "code",
      "metadata": {
        "colab": {
          "base_uri": "https://localhost:8080/"
        },
        "id": "UechebQjm0OB",
        "outputId": "d091fb13-f1b0-442e-adba-96600fbd095d"
      },
      "source": [
        "string = \"Hello World\"\n",
        "print(string[0]) #print one index value\n",
        "print(string[0:4]) #[a:b] start from index a until you reach index b. (index b value is not printed)\n",
        "print(string[0:11:2])\n",
        "#[start:stop:step] is same as (for i = start;i<stop;i+=step)\n",
        "\n",
        "print(string[-1]) #Points to last index\n",
        "print(string[-6:-1]) #prints from index -6 till -2\n",
        "print(string[-1:-6]) #Empty (By default step is +1)\n",
        "print(string[-1:-6:-1]) #Prints from -1 to -5 index\n",
        "print(string[::1]) #print from left to right (start = 0, stop = length of string)\n",
        "print(string[::-1]) #print the reverse of the string\n",
        "\n",
        "string1 = \"Hello John Welcome to the party!\"\n",
        "print(string1.split(sep=\" \"))"
      ],
      "execution_count": null,
      "outputs": [
        {
          "output_type": "stream",
          "text": [
            "H\n",
            "Hell\n",
            "HloWrd\n",
            "d\n",
            " Worl\n",
            "\n",
            "dlroW\n",
            "Hello World\n",
            "dlroW olleH\n",
            "['Hello', 'John', 'Welcome', 'to', 'the', 'party!']\n"
          ],
          "name": "stdout"
        }
      ]
    },
    {
      "cell_type": "markdown",
      "metadata": {
        "id": "g9-PZZ2yvIIJ"
      },
      "source": [
        "https://docs.anaconda.com/anaconda/install/"
      ]
    },
    {
      "cell_type": "markdown",
      "metadata": {
        "id": "dE1WlTj8jaB4"
      },
      "source": [
        "Operators within Python:\n",
        "\n",
        "arithmetic\n",
        "\n",
        "relational\n",
        "\n",
        "logical\n",
        "\n",
        "bitwise\n",
        "\n",
        "assignment\n",
        "\n",
        "membership\n",
        "\n",
        "identity"
      ]
    },
    {
      "cell_type": "markdown",
      "metadata": {
        "id": "kEINdcuTnvkq"
      },
      "source": [
        "Arithmetic: +,-,*,/,%,**,//"
      ]
    },
    {
      "cell_type": "code",
      "metadata": {
        "colab": {
          "base_uri": "https://localhost:8080/"
        },
        "id": "uDF49w1ZnvTx",
        "outputId": "b789499c-7d0e-4a72-c863-2112b084b430"
      },
      "source": [
        "a = 5\n",
        "b = 3\n",
        "print(a+b) #8\n",
        "print(a-b) #2\n",
        "print(a*b) #15\n",
        "print(a/b) #1.666666666666666667\n",
        "print(round(a/b,2)) #1.67\n",
        "print(a%b) # 2\n",
        "print(a//b) # (Floor Division) 1\n",
        "print(a**b) # 125"
      ],
      "execution_count": null,
      "outputs": [
        {
          "output_type": "stream",
          "text": [
            "8\n",
            "2\n",
            "15\n",
            "1.6666666666666667\n",
            "1.67\n",
            "2\n",
            "1\n",
            "125\n"
          ],
          "name": "stdout"
        }
      ]
    },
    {
      "cell_type": "markdown",
      "metadata": {
        "id": "kuq9bKIvqxyA"
      },
      "source": [
        "Conditional / Relational / Comparison Operators\n",
        "\n",
        "All comparison operators return either True or False"
      ]
    },
    {
      "cell_type": "code",
      "metadata": {
        "id": "-WABse9PmiQi",
        "colab": {
          "base_uri": "https://localhost:8080/"
        },
        "outputId": "bf6fd7ac-34b9-4c2c-8755-e2d43c8c2d55"
      },
      "source": [
        "a = 50\n",
        "b = 10\n",
        "if(a>b):\n",
        "      print(\"We are\")\n",
        "      print(\"IN IF\")\n",
        "      print(\"Division if a and b is\",a/b)\n",
        "else:\n",
        " print(\"We are\")\n",
        " print(\"IN ELSE\")\n",
        "print(\"End of Program\")"
      ],
      "execution_count": null,
      "outputs": [
        {
          "output_type": "stream",
          "text": [
            "We are\n",
            "IN IF\n",
            "Division if a and b is 5.0\n",
            "End of Program\n"
          ],
          "name": "stdout"
        }
      ]
    },
    {
      "cell_type": "code",
      "metadata": {
        "colab": {
          "base_uri": "https://localhost:8080/"
        },
        "id": "t8Bb0vJOtoLh",
        "outputId": "d8097f1d-f801-4f0a-c50f-389d784f5aaf"
      },
      "source": [
        "a = 5\n",
        "b = 10\n",
        "if(a>b):\n",
        "      print(\"We are\")\n",
        "      print(\"IN IF\")\n",
        "      print(\"Division if a and b is\",a/b)\n",
        "else: pass\n",
        "print(\"End of Program\")"
      ],
      "execution_count": null,
      "outputs": [
        {
          "output_type": "stream",
          "text": [
            "End of Program\n"
          ],
          "name": "stdout"
        }
      ]
    },
    {
      "cell_type": "markdown",
      "metadata": {
        "id": "fPEYzNC-uEXh"
      },
      "source": [
        "Conditional Operators\n",
        "\n",
        "\\>\n",
        "\n",
        "<\n",
        "\n",
        "\\>=\n",
        "\n",
        "<=\n",
        "\n",
        "==\n",
        "\n",
        "!=\n",
        "\n"
      ]
    },
    {
      "cell_type": "code",
      "metadata": {
        "colab": {
          "base_uri": "https://localhost:8080/"
        },
        "id": "FbrV3zdQu1mS",
        "outputId": "d1fb7b2a-1f9c-4d67-c2a1-7d0370606408"
      },
      "source": [
        "a = 10\n",
        "b = 5\n",
        "print(a>b)\n",
        "print(a<b)\n",
        "print(a==b)\n",
        "print(a!=b)\n",
        "print(a>=b)\n",
        "print(a<=b)"
      ],
      "execution_count": null,
      "outputs": [
        {
          "output_type": "stream",
          "text": [
            "True\n",
            "False\n",
            "False\n",
            "True\n",
            "True\n",
            "False\n"
          ],
          "name": "stdout"
        }
      ]
    },
    {
      "cell_type": "markdown",
      "metadata": {
        "id": "1QjY12GUviSS"
      },
      "source": [
        "Logical Operators:\n",
        "\n",
        "and\n",
        "\n",
        "or\n",
        "\n",
        "not"
      ]
    },
    {
      "cell_type": "markdown",
      "metadata": {
        "id": "Y-Dfs17cv9tR"
      },
      "source": [
        "Print greatest of 3 numbers"
      ]
    },
    {
      "cell_type": "code",
      "metadata": {
        "colab": {
          "base_uri": "https://localhost:8080/"
        },
        "id": "9GaXA-HLwQDD",
        "outputId": "32973899-eaa5-4e55-9779-cc3e8ab2e78d"
      },
      "source": [
        "a = 500\n",
        "b = 500\n",
        "c = 15\n",
        "if(a>b and a>c):\n",
        "    print(a,\"is greatest\")\n",
        "elif(b>a and b>c):\n",
        "    print(b,\"is greatest\")\n",
        "elif(c>a and c>b):\n",
        "    print(c,\"is greatest\")\n",
        "else:\n",
        "    print(\"At least two numbers are equal\")"
      ],
      "execution_count": null,
      "outputs": [
        {
          "output_type": "stream",
          "text": [
            "At least two numbers are equal\n"
          ],
          "name": "stdout"
        }
      ]
    },
    {
      "cell_type": "code",
      "metadata": {
        "colab": {
          "base_uri": "https://localhost:8080/"
        },
        "id": "MOJvQoYnw3BC",
        "outputId": "4a16cf46-2f9d-4f4e-fc03-093ff4eb16ac"
      },
      "source": [
        "a = 500\n",
        "b = 500\n",
        "c = 15\n",
        "if(a>b):\n",
        "  if(a>c):\n",
        "      print(a,\"is greatest\")\n",
        "elif(b>a):\n",
        "    if(b>c):\n",
        "      print(b,\"is greatest\")\n",
        "elif(c>a):\n",
        "    if(c>b):\n",
        "      print(c,\"is greatest\")\n",
        "else:\n",
        "    print(\"At least two numbers are equal\")"
      ],
      "execution_count": null,
      "outputs": [
        {
          "output_type": "stream",
          "text": [
            "At least two numbers are equal\n"
          ],
          "name": "stdout"
        }
      ]
    },
    {
      "cell_type": "code",
      "metadata": {
        "colab": {
          "base_uri": "https://localhost:8080/"
        },
        "id": "Zp7D34r0yKUT",
        "outputId": "beccde8b-cda2-4397-acc1-4c7b4533b2be"
      },
      "source": [
        "a = 5\n",
        "b = 4\n",
        "if(a>b or a>10):\n",
        "    print(\"IN IF\")"
      ],
      "execution_count": null,
      "outputs": [
        {
          "output_type": "stream",
          "text": [
            "IN IF\n"
          ],
          "name": "stdout"
        }
      ]
    },
    {
      "cell_type": "markdown",
      "metadata": {
        "id": "RaSNAbB7yvDa"
      },
      "source": [
        "Membership operator:\n",
        "\n",
        "in\n",
        "\n",
        "not in\n",
        "\n",
        "If some value is present in some sequence of values"
      ]
    },
    {
      "cell_type": "code",
      "metadata": {
        "colab": {
          "base_uri": "https://localhost:8080/"
        },
        "id": "89KCu6qDydEi",
        "outputId": "e4b6f079-907c-476e-998e-7f9825c3d964"
      },
      "source": [
        "string = \"Hello World\"\n",
        "if \"o W\" in string:\n",
        "      print(\"IN IF\")\n",
        "else:\n",
        "      print(\"IN ELSE\")"
      ],
      "execution_count": null,
      "outputs": [
        {
          "output_type": "stream",
          "text": [
            "IN IF\n"
          ],
          "name": "stdout"
        }
      ]
    },
    {
      "cell_type": "code",
      "metadata": {
        "colab": {
          "base_uri": "https://localhost:8080/"
        },
        "id": "kIuI4wgTzlwt",
        "outputId": "db20ed10-d044-45d0-cb57-8ce51c0b2cd3"
      },
      "source": [
        "string = \"Hello World\"\n",
        "if 'o W' not in string:\n",
        "      print(\"IN IF\")\n",
        "else:\n",
        "      print(\"IN ELSE\")"
      ],
      "execution_count": null,
      "outputs": [
        {
          "output_type": "stream",
          "text": [
            "IN ELSE\n"
          ],
          "name": "stdout"
        }
      ]
    },
    {
      "cell_type": "markdown",
      "metadata": {
        "id": "MXVnX0IU0V_L"
      },
      "source": [
        "Identity Operator:\n",
        "\n",
        "is\n",
        "\n",
        "is not\n",
        "\n",
        "If both elements point to same memory location, then identity operator returns True"
      ]
    },
    {
      "cell_type": "code",
      "metadata": {
        "colab": {
          "base_uri": "https://localhost:8080/"
        },
        "id": "cDzdKXrR0ljL",
        "outputId": "f20001da-dace-4b22-e843-3056588aae19"
      },
      "source": [
        "a = 5\n",
        "b = 5\n",
        "print(a is b)\n",
        "\n",
        "s1 = \"Hello\"\n",
        "s2 = \"Hello\"\n",
        "print(s1 is s2)"
      ],
      "execution_count": null,
      "outputs": [
        {
          "output_type": "stream",
          "text": [
            "True\n",
            "True\n"
          ],
          "name": "stdout"
        }
      ]
    },
    {
      "cell_type": "code",
      "metadata": {
        "colab": {
          "base_uri": "https://localhost:8080/"
        },
        "id": "yshoiK2o1Y-y",
        "outputId": "ff5ec9ae-3f89-48ca-9292-cadd0b10ec6f"
      },
      "source": [
        "x = 5\n",
        "y = 5\n",
        "print(id(x))\n",
        "print(id(y))\n",
        "\n",
        "y = 6\n",
        "print(id(x))\n",
        "print(id(y))"
      ],
      "execution_count": null,
      "outputs": [
        {
          "output_type": "stream",
          "text": [
            "94459884255872\n",
            "94459884255872\n",
            "94459884255872\n",
            "94459884255904\n"
          ],
          "name": "stdout"
        }
      ]
    },
    {
      "cell_type": "code",
      "metadata": {
        "colab": {
          "base_uri": "https://localhost:8080/"
        },
        "id": "ggXjHm9b2Dai",
        "outputId": "222b434f-7554-40ec-ee79-6ebff828d22f"
      },
      "source": [
        "x = 5\n",
        "print(id(x))\n",
        "x = 6\n",
        "print(id(x))"
      ],
      "execution_count": null,
      "outputs": [
        {
          "output_type": "stream",
          "text": [
            "94459884255872\n",
            "94459884255904\n"
          ],
          "name": "stdout"
        }
      ]
    },
    {
      "cell_type": "markdown",
      "metadata": {
        "id": "HTQOeUnq2n7x"
      },
      "source": [
        "Strings are immutable within Python"
      ]
    },
    {
      "cell_type": "code",
      "metadata": {
        "colab": {
          "base_uri": "https://localhost:8080/",
          "height": 201
        },
        "id": "zNDh_0ve2C1Q",
        "outputId": "10488db8-4c8e-4c19-e5d0-9fd92b7529ad"
      },
      "source": [
        "string = \"HELLO\"\n",
        "string[0] = \"J\"\n",
        "print(string)"
      ],
      "execution_count": null,
      "outputs": [
        {
          "output_type": "error",
          "ename": "TypeError",
          "evalue": "ignored",
          "traceback": [
            "\u001b[0;31m---------------------------------------------------------------------------\u001b[0m",
            "\u001b[0;31mTypeError\u001b[0m                                 Traceback (most recent call last)",
            "\u001b[0;32m<ipython-input-1-0e56ede7e4e1>\u001b[0m in \u001b[0;36m<module>\u001b[0;34m()\u001b[0m\n\u001b[1;32m      1\u001b[0m \u001b[0mstring\u001b[0m \u001b[0;34m=\u001b[0m \u001b[0;34m\"HELLO\"\u001b[0m\u001b[0;34m\u001b[0m\u001b[0;34m\u001b[0m\u001b[0m\n\u001b[0;32m----> 2\u001b[0;31m \u001b[0mstring\u001b[0m\u001b[0;34m[\u001b[0m\u001b[0;36m0\u001b[0m\u001b[0;34m]\u001b[0m \u001b[0;34m=\u001b[0m \u001b[0;34m\"J\"\u001b[0m\u001b[0;34m\u001b[0m\u001b[0;34m\u001b[0m\u001b[0m\n\u001b[0m\u001b[1;32m      3\u001b[0m \u001b[0mprint\u001b[0m\u001b[0;34m(\u001b[0m\u001b[0mstring\u001b[0m\u001b[0;34m)\u001b[0m\u001b[0;34m\u001b[0m\u001b[0;34m\u001b[0m\u001b[0m\n",
            "\u001b[0;31mTypeError\u001b[0m: 'str' object does not support item assignment"
          ]
        }
      ]
    },
    {
      "cell_type": "code",
      "metadata": {
        "colab": {
          "base_uri": "https://localhost:8080/"
        },
        "id": "rjYeggEO26Cf",
        "outputId": "6b010b93-8a8d-40f3-ee97-eaf33cc5ff02"
      },
      "source": [
        "string = \"HELLO\"\n",
        "print(id(string))\n",
        "string = \"J\"+string[1:]\n",
        "print(string)\n",
        "print(id(string))"
      ],
      "execution_count": null,
      "outputs": [
        {
          "output_type": "stream",
          "text": [
            "140035258380208\n",
            "JELLO\n",
            "140035086612656\n"
          ],
          "name": "stdout"
        }
      ]
    },
    {
      "cell_type": "markdown",
      "metadata": {
        "id": "q7lYGqvT4CGw"
      },
      "source": [
        "Immutable within python: string, integer, float, bool and tuple\n",
        "\n",
        "Mutable objects: list, set, dictionary\n",
        "\n",
        "1: immutable objects are quicker to access than mutable objects"
      ]
    },
    {
      "cell_type": "markdown",
      "metadata": {
        "id": "v4o6si0Q3bdy"
      },
      "source": [
        "Why does python make certain datatypes as immutable?\n",
        "\n",
        "Why arrays were equal in data but were in different memory locations?\n",
        "\n",
        "Python docs - string methods\n",
        "\n",
        "w3schools\n",
        "\n",
        "https://www.w3schools.com/python/default.asp"
      ]
    },
    {
      "cell_type": "markdown",
      "metadata": {
        "id": "NaphwwlN6kIH"
      },
      "source": [
        "Collections / Non Prim. Datatypes / Data Structures:\n",
        "\n",
        "List\n",
        "Tuple\n",
        "Set\n",
        "Dictionary\n",
        "\n",
        "Each of these is a class.\n",
        "\n",
        "Lists takle larger memory immaterial of whether you store elements of same datatype or not.\n",
        "\n",
        "Arrays are more memory efficient.\n",
        "\n",
        "To implement C type arrays, we use a package called \"numpy\""
      ]
    },
    {
      "cell_type": "code",
      "metadata": {
        "colab": {
          "base_uri": "https://localhost:8080/"
        },
        "id": "u2yaRV1b5G9Q",
        "outputId": "fb951a17-ae02-458b-e78e-28e99fb637f6"
      },
      "source": [
        "#List\n",
        "li = [1,'2',3,None,True,'Hello']\n",
        "print(id(li))\n",
        "li[0] = 5\n",
        "print(id(li))\n",
        "print(type(li))"
      ],
      "execution_count": null,
      "outputs": [
        {
          "output_type": "stream",
          "text": [
            "140035086397024\n",
            "140035086397024\n",
            "<class 'list'>\n"
          ],
          "name": "stdout"
        }
      ]
    },
    {
      "cell_type": "code",
      "metadata": {
        "colab": {
          "base_uri": "https://localhost:8080/"
        },
        "id": "zX4m7CNl-E1o",
        "outputId": "ded203d3-007d-4154-e64f-18fb7e2e24a7"
      },
      "source": [
        "li1 = [1,2,3]\n",
        "li2 = [4,5,6]\n",
        "li2.append(li1) #Adds single element to the end of the list\n",
        "print(li2)"
      ],
      "execution_count": null,
      "outputs": [
        {
          "output_type": "stream",
          "text": [
            "[4, 5, 6, [1, 2, 3]]\n"
          ],
          "name": "stdout"
        }
      ]
    },
    {
      "cell_type": "code",
      "metadata": {
        "colab": {
          "base_uri": "https://localhost:8080/"
        },
        "id": "AJlI1cjT-iAI",
        "outputId": "7d07d0da-fd8d-4065-a95d-b5434a333d17"
      },
      "source": [
        "li1 = [1,2,3]\n",
        "li2 = [4,5,6]\n",
        "li2.extend(li1) #Adds second list to the end of the list\n",
        "print(li2)"
      ],
      "execution_count": null,
      "outputs": [
        {
          "output_type": "stream",
          "text": [
            "[4, 5, 6, 1, 2, 3]\n"
          ],
          "name": "stdout"
        }
      ]
    },
    {
      "cell_type": "code",
      "metadata": {
        "colab": {
          "base_uri": "https://localhost:8080/"
        },
        "id": "Kr7a4GAN-244",
        "outputId": "83b82395-b048-4ec8-b726-6b947b3460af"
      },
      "source": [
        "li = [1,2,3,4,6,7,8,9]\n",
        "li[4] = 5 #replaces 6 with 5\n",
        "print(li)"
      ],
      "execution_count": null,
      "outputs": [
        {
          "output_type": "stream",
          "text": [
            "[1, 2, 3, 4, 5, 7, 8, 9]\n"
          ],
          "name": "stdout"
        }
      ]
    },
    {
      "cell_type": "code",
      "metadata": {
        "colab": {
          "base_uri": "https://localhost:8080/"
        },
        "id": "nH3Bs1ii_NgQ",
        "outputId": "91499f3e-8054-4a9d-dc55-97f208a116ba"
      },
      "source": [
        "li = [1,2,3,4,6,7,8,9]\n",
        "li.insert(4,5) #insert(index,value)\n",
        "print(li)"
      ],
      "execution_count": null,
      "outputs": [
        {
          "output_type": "stream",
          "text": [
            "[1, 2, 3, 4, 5, 6, 7, 8, 9]\n"
          ],
          "name": "stdout"
        }
      ]
    },
    {
      "cell_type": "code",
      "metadata": {
        "colab": {
          "base_uri": "https://localhost:8080/"
        },
        "id": "tt99idCy_nl4",
        "outputId": "a6776edb-6c7f-4ec6-f0c6-ea4f12ee2ed6"
      },
      "source": [
        "li = [1,2,3,4,6,7,8,9]\n",
        "print(len(li))"
      ],
      "execution_count": null,
      "outputs": [
        {
          "output_type": "stream",
          "text": [
            "8\n"
          ],
          "name": "stdout"
        }
      ]
    },
    {
      "cell_type": "code",
      "metadata": {
        "colab": {
          "base_uri": "https://localhost:8080/"
        },
        "id": "jiA3j0pcAIF4",
        "outputId": "0168715e-dc10-4bc0-f21a-6338093ffa3e"
      },
      "source": [
        "li = [1,2,1,3]\n",
        "li.remove(1) #element exists, remove first occurence\n",
        "print(li)"
      ],
      "execution_count": null,
      "outputs": [
        {
          "output_type": "stream",
          "text": [
            "[2, 1, 3]\n"
          ],
          "name": "stdout"
        }
      ]
    },
    {
      "cell_type": "code",
      "metadata": {
        "colab": {
          "base_uri": "https://localhost:8080/",
          "height": 201
        },
        "id": "gCe_wyG8AblI",
        "outputId": "ac2fe7a9-89a5-4d90-bd10-8877f237ef5b"
      },
      "source": [
        "li = [1,2,1,3]\n",
        "li.remove(5) #element doesn't occur, gives exception\n",
        "print(li)"
      ],
      "execution_count": null,
      "outputs": [
        {
          "output_type": "error",
          "ename": "ValueError",
          "evalue": "ignored",
          "traceback": [
            "\u001b[0;31m---------------------------------------------------------------------------\u001b[0m",
            "\u001b[0;31mValueError\u001b[0m                                Traceback (most recent call last)",
            "\u001b[0;32m<ipython-input-18-33551be326b0>\u001b[0m in \u001b[0;36m<module>\u001b[0;34m()\u001b[0m\n\u001b[1;32m      1\u001b[0m \u001b[0mli\u001b[0m \u001b[0;34m=\u001b[0m \u001b[0;34m[\u001b[0m\u001b[0;36m1\u001b[0m\u001b[0;34m,\u001b[0m\u001b[0;36m2\u001b[0m\u001b[0;34m,\u001b[0m\u001b[0;36m1\u001b[0m\u001b[0;34m,\u001b[0m\u001b[0;36m3\u001b[0m\u001b[0;34m]\u001b[0m\u001b[0;34m\u001b[0m\u001b[0;34m\u001b[0m\u001b[0m\n\u001b[0;32m----> 2\u001b[0;31m \u001b[0mli\u001b[0m\u001b[0;34m.\u001b[0m\u001b[0mremove\u001b[0m\u001b[0;34m(\u001b[0m\u001b[0;36m5\u001b[0m\u001b[0;34m)\u001b[0m\u001b[0;34m\u001b[0m\u001b[0;34m\u001b[0m\u001b[0m\n\u001b[0m\u001b[1;32m      3\u001b[0m \u001b[0mprint\u001b[0m\u001b[0;34m(\u001b[0m\u001b[0mli\u001b[0m\u001b[0;34m)\u001b[0m\u001b[0;34m\u001b[0m\u001b[0;34m\u001b[0m\u001b[0m\n",
            "\u001b[0;31mValueError\u001b[0m: list.remove(x): x not in list"
          ]
        }
      ]
    },
    {
      "cell_type": "code",
      "metadata": {
        "colab": {
          "base_uri": "https://localhost:8080/"
        },
        "id": "3gPkVRFuA2H8",
        "outputId": "e6dc6e93-830e-41ae-aaf5-747b28627934"
      },
      "source": [
        "li = [1,2,1,3]\n",
        "li.pop() #removes last element\n",
        "print(li)"
      ],
      "execution_count": null,
      "outputs": [
        {
          "output_type": "stream",
          "text": [
            "[1, 2, 1]\n"
          ],
          "name": "stdout"
        }
      ]
    },
    {
      "cell_type": "code",
      "metadata": {
        "colab": {
          "base_uri": "https://localhost:8080/"
        },
        "id": "mSdQMbgk_1Zu",
        "outputId": "d4c58c21-d675-4108-cfe3-a783f40f6a9c"
      },
      "source": [
        "li = [1,2,1,3]\n",
        "li.pop(1) #removes element at index i\n",
        "print(li)"
      ],
      "execution_count": null,
      "outputs": [
        {
          "output_type": "stream",
          "text": [
            "[1, 1, 3]\n"
          ],
          "name": "stdout"
        }
      ]
    },
    {
      "cell_type": "code",
      "metadata": {
        "colab": {
          "base_uri": "https://localhost:8080/"
        },
        "id": "TqZkRdZ1Buuo",
        "outputId": "bcbc373a-5cfc-4966-ccab-a9c10a694c2c"
      },
      "source": [
        "li = [1,2,1,3]\n",
        "li.clear()\n",
        "print(li)"
      ],
      "execution_count": null,
      "outputs": [
        {
          "output_type": "stream",
          "text": [
            "[]\n"
          ],
          "name": "stdout"
        }
      ]
    },
    {
      "cell_type": "code",
      "metadata": {
        "colab": {
          "base_uri": "https://localhost:8080/"
        },
        "id": "3xBOzBeXCAo6",
        "outputId": "da67c525-5570-496c-f858-0d23c44ac967"
      },
      "source": [
        "li = [1,2,3]\n",
        "li.append(li) #self referencing list\n",
        "print(li)"
      ],
      "execution_count": null,
      "outputs": [
        {
          "output_type": "stream",
          "text": [
            "[1, 2, 3, [...]]\n"
          ],
          "name": "stdout"
        }
      ]
    },
    {
      "cell_type": "code",
      "metadata": {
        "colab": {
          "base_uri": "https://localhost:8080/",
          "height": 218
        },
        "id": "dp4SG2-5DXsJ",
        "outputId": "7132c86e-87cc-47f4-c029-47ac540b96b5"
      },
      "source": [
        "#sort\n",
        "#lists of only homogeneous elements can be sorted.\n",
        "li = [1,2,3,\"hello\"]\n",
        "li.sort()\n",
        "print(li)"
      ],
      "execution_count": null,
      "outputs": [
        {
          "output_type": "error",
          "ename": "TypeError",
          "evalue": "ignored",
          "traceback": [
            "\u001b[0;31m---------------------------------------------------------------------------\u001b[0m",
            "\u001b[0;31mTypeError\u001b[0m                                 Traceback (most recent call last)",
            "\u001b[0;32m<ipython-input-36-280787342afb>\u001b[0m in \u001b[0;36m<module>\u001b[0;34m()\u001b[0m\n\u001b[1;32m      2\u001b[0m \u001b[0;31m#lists of only homogeneous elements can be sorted.\u001b[0m\u001b[0;34m\u001b[0m\u001b[0;34m\u001b[0m\u001b[0;34m\u001b[0m\u001b[0m\n\u001b[1;32m      3\u001b[0m \u001b[0mli\u001b[0m \u001b[0;34m=\u001b[0m \u001b[0;34m[\u001b[0m\u001b[0;36m1\u001b[0m\u001b[0;34m,\u001b[0m\u001b[0;36m2\u001b[0m\u001b[0;34m,\u001b[0m\u001b[0;36m3\u001b[0m\u001b[0;34m,\u001b[0m\u001b[0;34m\"hello\"\u001b[0m\u001b[0;34m]\u001b[0m\u001b[0;34m\u001b[0m\u001b[0;34m\u001b[0m\u001b[0m\n\u001b[0;32m----> 4\u001b[0;31m \u001b[0mli\u001b[0m\u001b[0;34m.\u001b[0m\u001b[0msort\u001b[0m\u001b[0;34m(\u001b[0m\u001b[0;34m)\u001b[0m\u001b[0;34m\u001b[0m\u001b[0;34m\u001b[0m\u001b[0m\n\u001b[0m\u001b[1;32m      5\u001b[0m \u001b[0mprint\u001b[0m\u001b[0;34m(\u001b[0m\u001b[0mli\u001b[0m\u001b[0;34m)\u001b[0m\u001b[0;34m\u001b[0m\u001b[0;34m\u001b[0m\u001b[0m\n",
            "\u001b[0;31mTypeError\u001b[0m: '<' not supported between instances of 'str' and 'int'"
          ]
        }
      ]
    },
    {
      "cell_type": "code",
      "metadata": {
        "colab": {
          "base_uri": "https://localhost:8080/"
        },
        "id": "1Ktmtw4RIpG4",
        "outputId": "51471a7d-d3b3-4b34-a870-e17e07827695"
      },
      "source": [
        "#sort\n",
        "#lists of only homogeneous elements can be sorted.\n",
        "li = [1,2,3,2.5]\n",
        "li.sort()\n",
        "print(li)"
      ],
      "execution_count": null,
      "outputs": [
        {
          "output_type": "stream",
          "text": [
            "[1, 2, 2.5, 3]\n"
          ],
          "name": "stdout"
        }
      ]
    },
    {
      "cell_type": "code",
      "metadata": {
        "id": "gYCxI28aIxZX"
      },
      "source": [],
      "execution_count": null,
      "outputs": []
    },
    {
      "cell_type": "code",
      "metadata": {
        "colab": {
          "base_uri": "https://localhost:8080/"
        },
        "id": "SfJOLXBtDnQY",
        "outputId": "8776078c-da15-4b05-8b6d-90aed20ad007"
      },
      "source": [
        "#Functions without parameter, no return type\n",
        "def evenorodd():\n",
        "    if(5%2==0):\n",
        "        print(\"Even\")\n",
        "    else:\n",
        "        print(\"Odd\")\n",
        "\n",
        "evenorodd()\n"
      ],
      "execution_count": null,
      "outputs": [
        {
          "output_type": "stream",
          "text": [
            "Odd\n"
          ],
          "name": "stdout"
        }
      ]
    },
    {
      "cell_type": "code",
      "metadata": {
        "id": "vi_C09DJFoKY"
      },
      "source": [
        "#Functions with parameter, no return type\n",
        "def evenorodd(var):\n",
        "    if(var%2==0):\n",
        "        print(\"Even\")\n",
        "    else:\n",
        "        print(\"Odd\")\n",
        "\n",
        "evenorodd(5)"
      ],
      "execution_count": null,
      "outputs": []
    },
    {
      "cell_type": "code",
      "metadata": {
        "colab": {
          "base_uri": "https://localhost:8080/"
        },
        "id": "BaRPchuAF1R6",
        "outputId": "75d46474-0b1f-428d-bcab-8dfbf08ddce4"
      },
      "source": [
        "#Functions with default parameter, no return type\n",
        "def evenorodd(var = 20): #20 is the default value if no value is sent.\n",
        "    if(var%2==0):\n",
        "        print(\"Even\")\n",
        "    else:\n",
        "        print(\"Odd\")\n",
        "\n",
        "evenorodd(5)"
      ],
      "execution_count": null,
      "outputs": [
        {
          "output_type": "stream",
          "text": [
            "Odd\n"
          ],
          "name": "stdout"
        }
      ]
    },
    {
      "cell_type": "code",
      "metadata": {
        "colab": {
          "base_uri": "https://localhost:8080/"
        },
        "id": "EV0930jcGVWA",
        "outputId": "80f785c2-5829-41b3-c69e-25849f582a0f"
      },
      "source": [
        "#Functions with default parameter, no return type\n",
        "def evenorodd(var = 20): #20 is the default value if no value is sent.\n",
        "    if(var%2==0):\n",
        "        print(\"Even\")\n",
        "    else:\n",
        "        print(\"Odd\")\n",
        "\n",
        "evenorodd()"
      ],
      "execution_count": null,
      "outputs": [
        {
          "output_type": "stream",
          "text": [
            "Even\n"
          ],
          "name": "stdout"
        }
      ]
    },
    {
      "cell_type": "code",
      "metadata": {
        "colab": {
          "base_uri": "https://localhost:8080/"
        },
        "id": "G5_YfBKtGkkI",
        "outputId": "0fbcd4f0-ea1d-4909-f464-b9d269388329"
      },
      "source": [
        "#Functions with default parameter, no return type\n",
        "def evenorodd(var): #20 is the default value if no value is sent.\n",
        "    if(var%2==0):\n",
        "        return \"even\"\n",
        "    else:\n",
        "        return \"odd\"\n",
        "\n",
        "string = evenorodd(20)\n",
        "print(string)"
      ],
      "execution_count": null,
      "outputs": [
        {
          "output_type": "stream",
          "text": [
            "even\n"
          ],
          "name": "stdout"
        }
      ]
    },
    {
      "cell_type": "code",
      "metadata": {
        "colab": {
          "base_uri": "https://localhost:8080/"
        },
        "id": "S5z3G-FOG3RY",
        "outputId": "535cb34a-cfb5-4647-b93d-0317383902ba"
      },
      "source": [
        "def fun(string):\n",
        "    return string[0:5],string[6:]\n",
        "\n",
        "\n",
        "var1,var2 = fun(\"Hello World\")\n",
        "print(var1,var2,sep='\\n')"
      ],
      "execution_count": null,
      "outputs": [
        {
          "output_type": "stream",
          "text": [
            "Hello\n",
            "World\n"
          ],
          "name": "stdout"
        }
      ]
    },
    {
      "cell_type": "markdown",
      "metadata": {
        "id": "EksxIcHtI0ig"
      },
      "source": [
        "Given a list of strings (Consider car names), sort the strings in the descending order of number of vowels in them. Use inbuilt sort function of list ONLY!\n",
        "\n",
        "Tesla Model S\n",
        "Toyota GT86\n",
        "2013 Ford Fiesta ST (and 2018)\n",
        "BMW i8\n",
        "Alfa Romeo Giulia QV\n",
        "2017 Honda Civic Type R\n",
        "Ferrari 458 Speciale\n",
        "McLaren P1\n",
        "Ferrari LaFerrari\n",
        "Porsche 918.\n",
        "\n",
        "Implement a function to find out how to reverse a number\n",
        "Implement a function to find out whether a number is prime or not\n",
        "Implement a function to find nth fibonacci number\n"
      ]
    },
    {
      "cell_type": "code",
      "metadata": {
        "colab": {
          "base_uri": "https://localhost:8080/"
        },
        "id": "UW1yjp1Z_4qU",
        "outputId": "f9cb7956-6be9-4c22-acf8-d07ffee86700"
      },
      "source": [
        "list_of_strings = [\"Tesla Model S\",\"Toyota GT86\",\"2013 Ford Fiesta ST (and 2018)\",\"BMW i8\",\n",
        " \"Alfa Romeo Giulia QV\",\"2017 Honda Civic Type R\",\"Ferrari 458 Speciale\",\n",
        " \"McLaren P1\",\"Ferrari LaFerrari\",\"Porsche 918\"]\n",
        "\n",
        "list_of_strings.sort(reverse = False)\n",
        "\n",
        "print(list_of_strings)"
      ],
      "execution_count": null,
      "outputs": [
        {
          "output_type": "stream",
          "text": [
            "['2013 Ford Fiesta ST (and 2018)', '2017 Honda Civic Type R', 'Alfa Romeo Giulia QV', 'BMW i8', 'Ferrari 458 Speciale', 'Ferrari LaFerrari', 'McLaren P1', 'Porsche 918', 'Tesla Model S', 'Toyota GT86']\n"
          ],
          "name": "stdout"
        }
      ]
    },
    {
      "cell_type": "code",
      "metadata": {
        "colab": {
          "base_uri": "https://localhost:8080/"
        },
        "id": "TpXJI2onBYgN",
        "outputId": "7d37f88e-7023-4158-da5f-0aa21bd41db0"
      },
      "source": [
        "list_of_strings = [\"Tesla Model S\",\"Toyota GT86\",\"2013 Ford Fiesta ST (and 2018)\",\"BMW i8\",\n",
        " \"Alfa Romeo Giulia QV\",\"2017 Honda Civic Type R\",\"Ferrari 458 Speciale\",\n",
        " \"McLaren P1\",\"Ferrari LaFerrari\",\"Porsche 918\"]\n",
        "\n",
        "list_of_strings.sort(reverse = True)\n",
        "\n",
        "print(list_of_strings)"
      ],
      "execution_count": null,
      "outputs": [
        {
          "output_type": "stream",
          "text": [
            "['Toyota GT86', 'Tesla Model S', 'Porsche 918', 'McLaren P1', 'Ferrari LaFerrari', 'Ferrari 458 Speciale', 'BMW i8', 'Alfa Romeo Giulia QV', '2017 Honda Civic Type R', '2013 Ford Fiesta ST (and 2018)']\n"
          ],
          "name": "stdout"
        }
      ]
    },
    {
      "cell_type": "code",
      "metadata": {
        "colab": {
          "base_uri": "https://localhost:8080/"
        },
        "id": "kSCZZGfgBfes",
        "outputId": "2984a705-8776-4d37-d189-5c3093613b26"
      },
      "source": [
        "def countVowels(string):\n",
        "    count = 0\n",
        "    string = string.upper()\n",
        "    vowel_list = ['A','E','I','O','U']\n",
        "    for character in string:\n",
        "        if character in vowel_list:\n",
        "            count+=1\n",
        "    return count\n",
        "\n",
        "\n",
        "list_of_strings = [\"Tesla Model S\",\"Toyota GT86\",\"2013 Ford Fiesta ST (and 2018)\",\"BMW i8\",\n",
        " \"Alfa Romeo Giulia QV\",\"2017 Honda Civic Type R\",\"Ferrari 458 Speciale\",\n",
        " \"McLaren P1\",\"Ferrari LaFerrari\",\"Porsche 918\"]\n",
        "\n",
        "list_of_strings.sort(key = countVowels,reverse = True)\n",
        "\n",
        "print(list_of_strings)"
      ],
      "execution_count": null,
      "outputs": [
        {
          "output_type": "stream",
          "text": [
            "['Alfa Romeo Giulia QV', 'Ferrari 458 Speciale', 'Ferrari LaFerrari', '2013 Ford Fiesta ST (and 2018)', '2017 Honda Civic Type R', 'Tesla Model S', 'Toyota GT86', 'McLaren P1', 'Porsche 918', 'BMW i8']\n"
          ],
          "name": "stdout"
        }
      ]
    },
    {
      "cell_type": "code",
      "metadata": {
        "colab": {
          "base_uri": "https://localhost:8080/"
        },
        "id": "AGyPZ7sWL_dU",
        "outputId": "79e4719e-161b-4fdf-e8ee-6819207ff59f"
      },
      "source": [
        "li = [1,2,3,4,5,6]\n",
        "li2 = li #li2 is a reference to li\n",
        "li.pop()\n",
        "print(li2)"
      ],
      "execution_count": null,
      "outputs": [
        {
          "output_type": "stream",
          "text": [
            "[1, 2, 3, 4, 5]\n"
          ],
          "name": "stdout"
        }
      ]
    },
    {
      "cell_type": "code",
      "metadata": {
        "colab": {
          "base_uri": "https://localhost:8080/"
        },
        "id": "KFDCClumMlns",
        "outputId": "ff4419fb-238a-4a10-af5f-ba2c32f51f32"
      },
      "source": [
        "li = [1,2,3,4,5,6]\n",
        "li2 = li.copy() #li2 is a copy of li in a separate memory location\n",
        "li.pop()\n",
        "print(li2)"
      ],
      "execution_count": null,
      "outputs": [
        {
          "output_type": "stream",
          "text": [
            "[1, 2, 3, 4, 5, 6]\n"
          ],
          "name": "stdout"
        }
      ]
    },
    {
      "cell_type": "markdown",
      "metadata": {
        "id": "F58K_23fNAzM"
      },
      "source": [
        "#Tuple\n",
        "A Constant set of elements\n",
        "Immutable (No functions such as insert / pop)\n"
      ]
    },
    {
      "cell_type": "code",
      "metadata": {
        "colab": {
          "base_uri": "https://localhost:8080/"
        },
        "id": "TqlbN6izND6k",
        "outputId": "b0a01ebb-2615-4f3d-a96b-d84462924a6b"
      },
      "source": [
        "t = (1,2,3,4,5,6)\n",
        "print(type(t))"
      ],
      "execution_count": null,
      "outputs": [
        {
          "output_type": "stream",
          "text": [
            "<class 'tuple'>\n"
          ],
          "name": "stdout"
        }
      ]
    },
    {
      "cell_type": "code",
      "metadata": {
        "colab": {
          "base_uri": "https://localhost:8080/"
        },
        "id": "LwkNUraKNm8c",
        "outputId": "70613246-08a1-485d-be88-72dc9abdd281"
      },
      "source": [
        "t = (1,2,3,4,5,6)\n",
        "for element in t:\n",
        "    print(element)"
      ],
      "execution_count": null,
      "outputs": [
        {
          "output_type": "stream",
          "text": [
            "1\n",
            "2\n",
            "3\n",
            "4\n",
            "5\n",
            "6\n"
          ],
          "name": "stdout"
        }
      ]
    },
    {
      "cell_type": "code",
      "metadata": {
        "colab": {
          "base_uri": "https://localhost:8080/"
        },
        "id": "5l4SLWTlN8WM",
        "outputId": "643f8bfc-65a2-4e63-dd9e-9eecbccf8f2d"
      },
      "source": [
        "t = (1,2,3,4,5,6)\n",
        "li = list(t) #Converting tuple to a list\n",
        "li.pop()\n",
        "print(li)"
      ],
      "execution_count": null,
      "outputs": [
        {
          "output_type": "stream",
          "text": [
            "[1, 2, 3, 4, 5]\n"
          ],
          "name": "stdout"
        }
      ]
    },
    {
      "cell_type": "markdown",
      "metadata": {
        "id": "I18KyQxOPLO0"
      },
      "source": [
        "#SET\n",
        "\n",
        "Collection of unique elements\n",
        "\n",
        "Set is mutable\n",
        "\n",
        "Elements of different datatypes can be stored\n",
        "\n",
        "Union, Intersection, Difference, all of these functions can be performed between two elements of datatype set"
      ]
    },
    {
      "cell_type": "code",
      "metadata": {
        "colab": {
          "base_uri": "https://localhost:8080/"
        },
        "id": "QUyMbO_HOvlL",
        "outputId": "889151cf-7219-41d9-96aa-531a354f15d3"
      },
      "source": [
        "s1 = {1,2,3,4,5,\"Hello\"}\n",
        "print(s1)\n",
        "print(type(s1))"
      ],
      "execution_count": null,
      "outputs": [
        {
          "output_type": "stream",
          "text": [
            "{1, 2, 3, 4, 5, 'Hello'}\n",
            "<class 'set'>\n"
          ],
          "name": "stdout"
        }
      ]
    },
    {
      "cell_type": "code",
      "metadata": {
        "colab": {
          "base_uri": "https://localhost:8080/"
        },
        "id": "aW2-EojjQxfl",
        "outputId": "836b9ff2-1ca8-43e6-dfd7-8cb30b313eba"
      },
      "source": [
        "s1 = {}\n",
        "print(type(s1))"
      ],
      "execution_count": null,
      "outputs": [
        {
          "output_type": "stream",
          "text": [
            "<class 'dict'>\n"
          ],
          "name": "stdout"
        }
      ]
    },
    {
      "cell_type": "code",
      "metadata": {
        "colab": {
          "base_uri": "https://localhost:8080/"
        },
        "id": "tOL1Mm3MQ8sb",
        "outputId": "328eab78-96e4-4ec9-a757-60f78ee6c07c"
      },
      "source": [
        "s1 = set()\n",
        "print(type(s1))\n",
        "print(s1)"
      ],
      "execution_count": null,
      "outputs": [
        {
          "output_type": "stream",
          "text": [
            "<class 'set'>\n",
            "set()\n"
          ],
          "name": "stdout"
        }
      ]
    },
    {
      "cell_type": "code",
      "metadata": {
        "colab": {
          "base_uri": "https://localhost:8080/"
        },
        "id": "C8VBnl4BRJrD",
        "outputId": "411debc8-d276-4628-a98f-022ff587d321"
      },
      "source": [
        "s1 = set()\n",
        "s1.add(1)\n",
        "s1.add(2)\n",
        "s1.add(3)\n",
        "print(s1)"
      ],
      "execution_count": null,
      "outputs": [
        {
          "output_type": "stream",
          "text": [
            "{1, 2, 3}\n"
          ],
          "name": "stdout"
        }
      ]
    },
    {
      "cell_type": "code",
      "metadata": {
        "colab": {
          "base_uri": "https://localhost:8080/",
          "height": 218
        },
        "id": "y4fTpzsBRbao",
        "outputId": "95b45ce7-f689-4be0-a841-64d57e525d0b"
      },
      "source": [
        "s1 = set()\n",
        "s1.add(1)\n",
        "s1.add(2)\n",
        "s1.add(3)\n",
        "li = [4,5,6]\n",
        "s1.add(li)\n",
        "print(s1)"
      ],
      "execution_count": null,
      "outputs": [
        {
          "output_type": "error",
          "ename": "TypeError",
          "evalue": "ignored",
          "traceback": [
            "\u001b[0;31m---------------------------------------------------------------------------\u001b[0m",
            "\u001b[0;31mTypeError\u001b[0m                                 Traceback (most recent call last)",
            "\u001b[0;32m<ipython-input-5-c3b6ab77ffec>\u001b[0m in \u001b[0;36m<module>\u001b[0;34m()\u001b[0m\n\u001b[1;32m      4\u001b[0m \u001b[0ms1\u001b[0m\u001b[0;34m.\u001b[0m\u001b[0madd\u001b[0m\u001b[0;34m(\u001b[0m\u001b[0;36m3\u001b[0m\u001b[0;34m)\u001b[0m\u001b[0;34m\u001b[0m\u001b[0;34m\u001b[0m\u001b[0m\n\u001b[1;32m      5\u001b[0m \u001b[0mli\u001b[0m \u001b[0;34m=\u001b[0m \u001b[0;34m[\u001b[0m\u001b[0;36m4\u001b[0m\u001b[0;34m,\u001b[0m\u001b[0;36m5\u001b[0m\u001b[0;34m,\u001b[0m\u001b[0;36m6\u001b[0m\u001b[0;34m]\u001b[0m\u001b[0;34m\u001b[0m\u001b[0;34m\u001b[0m\u001b[0m\n\u001b[0;32m----> 6\u001b[0;31m \u001b[0ms1\u001b[0m\u001b[0;34m.\u001b[0m\u001b[0madd\u001b[0m\u001b[0;34m(\u001b[0m\u001b[0mli\u001b[0m\u001b[0;34m)\u001b[0m\u001b[0;34m\u001b[0m\u001b[0;34m\u001b[0m\u001b[0m\n\u001b[0m\u001b[1;32m      7\u001b[0m \u001b[0mprint\u001b[0m\u001b[0;34m(\u001b[0m\u001b[0ms1\u001b[0m\u001b[0;34m)\u001b[0m\u001b[0;34m\u001b[0m\u001b[0;34m\u001b[0m\u001b[0m\n",
            "\u001b[0;31mTypeError\u001b[0m: unhashable type: 'list'"
          ]
        }
      ]
    },
    {
      "cell_type": "code",
      "metadata": {
        "id": "aMe34DQXRtgN"
      },
      "source": [
        "s1 = set()\n",
        "s1.add(1)\n",
        "s1.add(2)\n",
        "s1.add(3)\n",
        "li = [4,5,6]\n",
        "s1.update(li)\n",
        "print(s1)"
      ],
      "execution_count": null,
      "outputs": []
    },
    {
      "cell_type": "code",
      "metadata": {
        "id": "SpiaP-dxRysp"
      },
      "source": [
        "s1 = set()\n",
        "s1.add(1)\n",
        "s1.add(2)\n",
        "s1.add(3)\n",
        "li = [3,4,5,6]\n",
        "s1.update(li)\n",
        "print(s1)"
      ],
      "execution_count": null,
      "outputs": []
    },
    {
      "cell_type": "code",
      "metadata": {
        "id": "SRdnv439R6R2"
      },
      "source": [
        "s1 = {1,2,3,4,5}\n",
        "s1.discard(3)\n",
        "print(s1)\n",
        "s1.discard(3) #Doesn't give error if element is not present within set\n",
        "print(s1)"
      ],
      "execution_count": null,
      "outputs": []
    },
    {
      "cell_type": "code",
      "metadata": {
        "id": "13z5WqSpSgQD"
      },
      "source": [
        "s1 = {1,4,5,3,2} #hashed data\n",
        "s1.discard(3)\n",
        "print(s1)\n",
        "s1.discard(3) #Doesn't give error if element is not present within set\n",
        "print(s1)"
      ],
      "execution_count": null,
      "outputs": []
    },
    {
      "cell_type": "code",
      "metadata": {
        "id": "ooNafvinS94j"
      },
      "source": [
        "s1 = {1,4,5,3,2} #hashed data\n",
        "s1.remove(3)\n",
        "print(s1)\n",
        "s1.remove(3) #gives error if element is not present within set\n",
        "print(s1)"
      ],
      "execution_count": null,
      "outputs": []
    },
    {
      "cell_type": "markdown",
      "metadata": {
        "id": "e1s-3cRPELWV"
      },
      "source": [
        "For loop syntax:\n",
        "\n",
        "for element in sequence:\n",
        "\n",
        "      do operation"
      ]
    },
    {
      "cell_type": "code",
      "metadata": {
        "id": "vRMMq_awELwM"
      },
      "source": [
        "string = \"HELLO\"\n",
        "for element in string:\n",
        "    print(element)"
      ],
      "execution_count": null,
      "outputs": []
    },
    {
      "cell_type": "code",
      "metadata": {
        "id": "_LFx-nWSEsiM"
      },
      "source": [
        "list_of_strings = [\"Tesla Model S\",\"Toyota GT86\",\"2013 Ford Fiesta ST (and 2018)\",\"BMW i8\",\n",
        " \"Alfa Romeo Giulia QV\",\"2017 Honda Civic Type R\",\"Ferrari 458 Speciale\",\n",
        " \"McLaren P1\",\"Ferrari LaFerrari\",\"Porsche 918\"]\n",
        "\n",
        "for element in list_of_strings:\n",
        "    print(element)"
      ],
      "execution_count": null,
      "outputs": []
    },
    {
      "cell_type": "code",
      "metadata": {
        "id": "tH8C4IpTFN_s"
      },
      "source": [
        "list_of_strings = [\"Tesla Model S\",\"Toyota GT86\"]\n",
        "\n",
        "for string in list_of_strings:\n",
        "    for character in string:\n",
        "        print(character)"
      ],
      "execution_count": null,
      "outputs": []
    },
    {
      "cell_type": "markdown",
      "metadata": {
        "id": "mInnMT18T8uc"
      },
      "source": [
        "#ASSIGNMENT QUESTION\n",
        "\n",
        "Every valid email consists of a local name and a domain name, separated by the '@' sign. Besides lowercase letters, the email may contain one or more '.' or '+'.\n",
        "\n",
        "    For example, in \"alice@leetcode.com\", \"alice\" is the local name, and \"leetcode.com\" is the domain name.\n",
        "\n",
        "If you add periods '.' between some characters in the local name part of an email address, mail sent there will be forwarded to the same address without dots in the local name. Note that this rule does not apply to domain names.\n",
        "\n",
        "    For example, \"alice.z@leetcode.com\" and \"alicez@leetcode.com\" forward to the same email address.\n",
        "\n",
        "If you add a plus '+' in the local name, everything after the first plus sign will be ignored. This allows certain emails to be filtered. Note that this rule does not apply to domain names.\n",
        "\n",
        "    For example, \"m.y+name@email.com\" will be forwarded to \"my@email.com\".\n",
        "\n",
        "It is possible to use both of these rules at the same time.\n",
        "\n",
        "Given an array of strings emails where we send one email to each email[i], return the number of different addresses that actually receive mails.\n",
        "\n",
        "\n",
        "\n",
        "Example 1:\n",
        "\n",
        "Input: emails = [\"test.email+alex@leetcode.com\",\"test.e.mail+bob.cathy@leetcode.com\",\"testemail+david@lee.tcode.com\"]\n",
        "Output: 2\n",
        "Explanation: \"testemail@leetcode.com\" and \"testemail@lee.tcode.com\" actually receive mails.\n",
        "\n",
        "Example 2:\n",
        "\n",
        "Input: emails = [\"a@leetcode.com\",\"b@leetcode.com\",\"c@leetcode.com\"]\n",
        "Output: 3\n",
        "\n",
        "\n",
        "\n",
        "Constraints:\n",
        "\n",
        "    1 <= emails.length <= 100\n",
        "    1 <= emails[i].length <= 100\n",
        "    email[i] consist of lowercase English letters, '+', '.' and '@'.\n",
        "    Each emails[i] contains exactly one '@' character.\n",
        "    All local and domain names are non-empty.\n",
        "    Local names do not start with a '+' character.\n",
        "\n"
      ]
    },
    {
      "cell_type": "code",
      "metadata": {
        "colab": {
          "base_uri": "https://localhost:8080/"
        },
        "id": "wpI8o_CiLelC",
        "outputId": "d6836dcc-0cd8-446f-a495-81e969198b01"
      },
      "source": [
        "def findUniqueEmails(input_str):\n",
        "    uniqueEmails = set()\n",
        "    for email in input_str:\n",
        "        local,domain = email.split('@')\n",
        "        local = local.split('+')[0]\n",
        "        local = local.replace('.','')\n",
        "        local = local+'@'+domain\n",
        "        uniqueEmails.add(local)\n",
        "    print(len(uniqueEmails))\n",
        "\n",
        "input_str = [\"test.email+alex@leetcode.com\",\"test.e.mail+bob.cathy@leetcode.com\",\"testemail+david@lee.tcode.com\"]\n",
        "findUniqueEmails(input_str)"
      ],
      "execution_count": null,
      "outputs": [
        {
          "output_type": "stream",
          "text": [
            "2\n"
          ],
          "name": "stdout"
        }
      ]
    },
    {
      "cell_type": "code",
      "metadata": {
        "colab": {
          "base_uri": "https://localhost:8080/"
        },
        "id": "XMerM23DPu4j",
        "outputId": "9906c201-a5a9-4f16-8ef1-d0ca5bfe6c25"
      },
      "source": [
        "s1 = {1,2,3,4,5,6}\n",
        "s2 = {4,5,6,7,8,9}\n",
        "print(s1.union(s2))"
      ],
      "execution_count": null,
      "outputs": [
        {
          "output_type": "stream",
          "text": [
            "{1, 2, 3, 4, 5, 6, 7, 8, 9}\n"
          ],
          "name": "stdout"
        }
      ]
    },
    {
      "cell_type": "code",
      "metadata": {
        "colab": {
          "base_uri": "https://localhost:8080/"
        },
        "id": "2RcgEGXSQWJ4",
        "outputId": "ef99495b-da2c-47b1-9b27-eccc6a3dad93"
      },
      "source": [
        "s1 = {1,2,3,4,5,6}\n",
        "s2 = {4,5,6,7,8,9}\n",
        "print(s1.intersection(s2))"
      ],
      "execution_count": null,
      "outputs": [
        {
          "output_type": "stream",
          "text": [
            "{4, 5, 6}\n"
          ],
          "name": "stdout"
        }
      ]
    },
    {
      "cell_type": "code",
      "metadata": {
        "colab": {
          "base_uri": "https://localhost:8080/"
        },
        "id": "TqFBMv4GQYU5",
        "outputId": "4e0709bd-0d1e-457d-8527-d47df9189023"
      },
      "source": [
        "s1 = {1,2,3,4,5,6}\n",
        "s2 = {4,5,6,7,8,9}\n",
        "print(s1.isdisjoint(s2))"
      ],
      "execution_count": null,
      "outputs": [
        {
          "output_type": "stream",
          "text": [
            "False\n"
          ],
          "name": "stdout"
        }
      ]
    },
    {
      "cell_type": "code",
      "metadata": {
        "colab": {
          "base_uri": "https://localhost:8080/"
        },
        "id": "bXlwA854QbFR",
        "outputId": "0468e266-265c-4823-c6ed-b1d9b8caa0dc"
      },
      "source": [
        "s1 = {4,5,6}\n",
        "s2 = {4,5,6,7,8,9}\n",
        "print(s1.issubset(s2))\n",
        "print(s2.issuperset(s1))"
      ],
      "execution_count": null,
      "outputs": [
        {
          "output_type": "stream",
          "text": [
            "True\n",
            "True\n"
          ],
          "name": "stdout"
        }
      ]
    },
    {
      "cell_type": "code",
      "metadata": {
        "colab": {
          "base_uri": "https://localhost:8080/"
        },
        "id": "6iOfwhaFQoNa",
        "outputId": "a2bf8c74-3580-43a4-d62c-1777f7601a07"
      },
      "source": [
        "s1 = {11,15,16,64,12,5476,8645}\n",
        "print(s1)"
      ],
      "execution_count": null,
      "outputs": [
        {
          "output_type": "stream",
          "text": [
            "{64, 5476, 8645, 11, 12, 15, 16}\n"
          ],
          "name": "stdout"
        }
      ]
    },
    {
      "cell_type": "markdown",
      "metadata": {
        "id": "7TfgnzEaS-6q"
      },
      "source": [
        "https://mathworld.wolfram.com/HashFunction.html"
      ]
    },
    {
      "cell_type": "markdown",
      "metadata": {
        "id": "V8YcDq7YTM25"
      },
      "source": [
        "#Dictionary\n",
        "\n",
        "hashabe set of key-value pairs\n",
        "Written within {}\n",
        "Unordered"
      ]
    },
    {
      "cell_type": "code",
      "metadata": {
        "colab": {
          "base_uri": "https://localhost:8080/"
        },
        "id": "2ca7y5tBUsTx",
        "outputId": "d9dae47b-189b-4887-bf39-1321b11631ad"
      },
      "source": [
        "d = {\"Good\":\"Positive\",\"Evil\":\"Negative\",\"Great\":\"Positive\"}\n",
        "print(d)"
      ],
      "execution_count": null,
      "outputs": [
        {
          "output_type": "stream",
          "text": [
            "{'Good': 'Positive', 'Evil': 'Negative', 'Great': 'Positive'}\n"
          ],
          "name": "stdout"
        }
      ]
    },
    {
      "cell_type": "code",
      "metadata": {
        "colab": {
          "base_uri": "https://localhost:8080/",
          "height": 183
        },
        "id": "NKpHx7SoU8RJ",
        "outputId": "f6ac6378-e92f-4af8-a763-3456ebb17579"
      },
      "source": [
        "d = {\"Good\":\"Positive\",\"Evil\":\"Negative\",\"Great\":\"Positive\"}\n",
        "print(d[0])"
      ],
      "execution_count": null,
      "outputs": [
        {
          "output_type": "error",
          "ename": "KeyError",
          "evalue": "ignored",
          "traceback": [
            "\u001b[0;31m---------------------------------------------------------------------------\u001b[0m",
            "\u001b[0;31mKeyError\u001b[0m                                  Traceback (most recent call last)",
            "\u001b[0;32m<ipython-input-20-590d56a94b27>\u001b[0m in \u001b[0;36m<module>\u001b[0;34m()\u001b[0m\n\u001b[1;32m      1\u001b[0m \u001b[0md\u001b[0m \u001b[0;34m=\u001b[0m \u001b[0;34m{\u001b[0m\u001b[0;34m\"Good\"\u001b[0m\u001b[0;34m:\u001b[0m\u001b[0;34m\"Positive\"\u001b[0m\u001b[0;34m,\u001b[0m\u001b[0;34m\"Evil\"\u001b[0m\u001b[0;34m:\u001b[0m\u001b[0;34m\"Negative\"\u001b[0m\u001b[0;34m,\u001b[0m\u001b[0;34m\"Great\"\u001b[0m\u001b[0;34m:\u001b[0m\u001b[0;34m\"Positive\"\u001b[0m\u001b[0;34m}\u001b[0m\u001b[0;34m\u001b[0m\u001b[0;34m\u001b[0m\u001b[0m\n\u001b[0;32m----> 2\u001b[0;31m \u001b[0mprint\u001b[0m\u001b[0;34m(\u001b[0m\u001b[0md\u001b[0m\u001b[0;34m[\u001b[0m\u001b[0;36m0\u001b[0m\u001b[0;34m]\u001b[0m\u001b[0;34m)\u001b[0m\u001b[0;34m\u001b[0m\u001b[0;34m\u001b[0m\u001b[0m\n\u001b[0m",
            "\u001b[0;31mKeyError\u001b[0m: 0"
          ]
        }
      ]
    },
    {
      "cell_type": "code",
      "metadata": {
        "colab": {
          "base_uri": "https://localhost:8080/"
        },
        "id": "9g1MPv_oVLnx",
        "outputId": "525b04f1-0e7d-4ca3-9c0a-8a3c59b378c5"
      },
      "source": [
        "d = {\"Good\":\"Positive\",\"Evil\":\"Negative\",\"Great\":\"Positive\"}\n",
        "print(d[\"Good\"])"
      ],
      "execution_count": null,
      "outputs": [
        {
          "output_type": "stream",
          "text": [
            "Positive\n"
          ],
          "name": "stdout"
        }
      ]
    },
    {
      "cell_type": "code",
      "metadata": {
        "colab": {
          "base_uri": "https://localhost:8080/"
        },
        "id": "JjyegEV0VOsq",
        "outputId": "6058b2b8-184d-4e13-e28b-e71ab7906bd9"
      },
      "source": [
        "d = {\"Good\":\"Positive\",\"Evil\":\"Negative\",\"Great\":\"Positive\"}\n",
        "print(d.get(\"Good\"))"
      ],
      "execution_count": null,
      "outputs": [
        {
          "output_type": "stream",
          "text": [
            "Positive\n"
          ],
          "name": "stdout"
        }
      ]
    },
    {
      "cell_type": "code",
      "metadata": {
        "colab": {
          "base_uri": "https://localhost:8080/",
          "height": 183
        },
        "id": "uhaIhRWqVchw",
        "outputId": "efbfe7db-6bd8-48db-f6a6-c50effb6032f"
      },
      "source": [
        "d = {\"Good\":\"Positive\",\"Evil\":\"Negative\",\"Great\":\"Positive\"}\n",
        "print(d[\"Goods\"])"
      ],
      "execution_count": null,
      "outputs": [
        {
          "output_type": "error",
          "ename": "KeyError",
          "evalue": "ignored",
          "traceback": [
            "\u001b[0;31m---------------------------------------------------------------------------\u001b[0m",
            "\u001b[0;31mKeyError\u001b[0m                                  Traceback (most recent call last)",
            "\u001b[0;32m<ipython-input-27-198c2e2bdae2>\u001b[0m in \u001b[0;36m<module>\u001b[0;34m()\u001b[0m\n\u001b[1;32m      1\u001b[0m \u001b[0md\u001b[0m \u001b[0;34m=\u001b[0m \u001b[0;34m{\u001b[0m\u001b[0;34m\"Good\"\u001b[0m\u001b[0;34m:\u001b[0m\u001b[0;34m\"Positive\"\u001b[0m\u001b[0;34m,\u001b[0m\u001b[0;34m\"Evil\"\u001b[0m\u001b[0;34m:\u001b[0m\u001b[0;34m\"Negative\"\u001b[0m\u001b[0;34m,\u001b[0m\u001b[0;34m\"Great\"\u001b[0m\u001b[0;34m:\u001b[0m\u001b[0;34m\"Positive\"\u001b[0m\u001b[0;34m}\u001b[0m\u001b[0;34m\u001b[0m\u001b[0;34m\u001b[0m\u001b[0m\n\u001b[0;32m----> 2\u001b[0;31m \u001b[0mprint\u001b[0m\u001b[0;34m(\u001b[0m\u001b[0md\u001b[0m\u001b[0;34m[\u001b[0m\u001b[0;34m\"Goods\"\u001b[0m\u001b[0;34m]\u001b[0m\u001b[0;34m)\u001b[0m\u001b[0;34m\u001b[0m\u001b[0;34m\u001b[0m\u001b[0m\n\u001b[0m",
            "\u001b[0;31mKeyError\u001b[0m: 'Goods'"
          ]
        }
      ]
    },
    {
      "cell_type": "code",
      "metadata": {
        "colab": {
          "base_uri": "https://localhost:8080/"
        },
        "id": "IIDNBthUVe1o",
        "outputId": "b168e931-a58e-44e4-a24d-aca356758b41"
      },
      "source": [
        "d = {\"Good\":\"Positive\",\"Evil\":\"Negative\",\"Great\":\"Positive\"}\n",
        "print(d.get(\"Goods\"))"
      ],
      "execution_count": null,
      "outputs": [
        {
          "output_type": "stream",
          "text": [
            "None\n"
          ],
          "name": "stdout"
        }
      ]
    },
    {
      "cell_type": "code",
      "metadata": {
        "colab": {
          "base_uri": "https://localhost:8080/"
        },
        "id": "o9QElPO2V23S",
        "outputId": "a6694e92-752d-46ae-86a6-34f89575d387"
      },
      "source": [
        "d = {1:\"Positive\",\"Evil\":\"Negative\",\"Great\":\"Positive\"}\n",
        "print(d.get(1))"
      ],
      "execution_count": null,
      "outputs": [
        {
          "output_type": "stream",
          "text": [
            "Positive\n"
          ],
          "name": "stdout"
        }
      ]
    },
    {
      "cell_type": "code",
      "metadata": {
        "colab": {
          "base_uri": "https://localhost:8080/"
        },
        "id": "c5ZDv4zAV_ax",
        "outputId": "692b2c9f-bed9-458e-f90d-b684c47a0c48"
      },
      "source": [
        "d = {\"Good\":\"Positive\",\"Evil\":\"Negative\",\"Great\":\"Positive\",\"Good\":\"Negative\"}\n",
        "print(d)"
      ],
      "execution_count": null,
      "outputs": [
        {
          "output_type": "stream",
          "text": [
            "{'Good': 'Negative', 'Evil': 'Negative', 'Great': 'Positive'}\n"
          ],
          "name": "stdout"
        }
      ]
    },
    {
      "cell_type": "code",
      "metadata": {
        "colab": {
          "base_uri": "https://localhost:8080/"
        },
        "id": "gIP5Gp_mWR0A",
        "outputId": "c1c66d8c-fa91-4916-e696-c3013e633c0e"
      },
      "source": [
        "d = {\n",
        "  \"location\": {\n",
        "    \"name\": \"London\",\n",
        "    \"region\": \"City of London, Greater London\",\n",
        "    \"country\": \"United Kingdom\",\n",
        "    \"lat\": 51.52,\n",
        "    \"lon\": -0.11,\n",
        "    \"tz_id\": \"Europe/London\",\n",
        "    \"localtime_epoch\": 1572750389,\n",
        "    \"localtime\": \"2019-11-03 3:06\"\n",
        "  },\n",
        "  \"forecast\": {\n",
        "    \"forecastday\": [\n",
        "      {\n",
        "        \"date\": \"2018-01-31\",\n",
        "        \"date_epoch\": 1517356800,\n",
        "        \"day\": {\n",
        "          \"maxtemp_c\": 9.7,\n",
        "          \"maxtemp_f\": 49.5,\n",
        "          \"mintemp_c\": 4.5,\n",
        "          \"mintemp_f\": 40,\n",
        "          \"avgtemp_c\": 7.8,\n",
        "          \"avgtemp_f\": 46,\n",
        "          \"maxwind_mph\": 17.7,\n",
        "          \"maxwind_kph\": 28.4,\n",
        "          \"totalprecip_mm\": 0.22,\n",
        "          \"totalprecip_in\": 0.01,\n",
        "          \"avgvis_km\": 9,\n",
        "          \"avgvis_miles\": 5,\n",
        "          \"avghumidity\": 69,\n",
        "          \"condition\": {\n",
        "            \"text\": \"Sunny\",\n",
        "            \"icon\": \"//cdn.weatherapi.com/weather/64x64/day/113.png\",\n",
        "            \"code\": 1000\n",
        "          },\n",
        "          \"uv\": 0\n",
        "        },\n",
        "        \"astro\": {\n",
        "          \"sunrise\": \"07:41 AM\",\n",
        "          \"sunset\": \"04:48 PM\",\n",
        "          \"moonrise\": \"04:55 PM\",\n",
        "          \"moonset\": \"07:33 AM\",\n",
        "          \"moon_phase\": \"Waxing Gibbous\",\n",
        "          \"moon_illumination\": \"97\"\n",
        "        },\n",
        "        \"hour\": [\n",
        "          {\n",
        "            \"time_epoch\": 1517356800,\n",
        "            \"time\": \"2018-01-31 00:00\",\n",
        "            \"temp_c\": 9.6,\n",
        "            \"temp_f\": 49.3,\n",
        "            \"is_day\": 0,\n",
        "            \"condition\": {\n",
        "              \"text\": \"Overcast\",\n",
        "              \"icon\": \"//cdn.weatherapi.com/weather/64x64/night/122.png\",\n",
        "              \"code\": 1009\n",
        "            },\n",
        "            \"wind_mph\": 14.3,\n",
        "            \"wind_kph\": 23,\n",
        "            \"wind_degree\": 231,\n",
        "            \"wind_dir\": \"SW\",\n",
        "            \"pressure_mb\": 1013,\n",
        "            \"pressure_in\": 30.4,\n",
        "            \"precip_mm\": 0,\n",
        "            \"precip_in\": 0,\n",
        "            \"humidity\": 90,\n",
        "            \"cloud\": 100,\n",
        "            \"feelslike_c\": 6.6,\n",
        "            \"feelslike_f\": 43.9,\n",
        "            \"windchill_c\": 6.6,\n",
        "            \"windchill_f\": 43.9,\n",
        "            \"heatindex_c\": 9.6,\n",
        "            \"heatindex_f\": 49.3,\n",
        "            \"dewpoint_c\": 8,\n",
        "            \"dewpoint_f\": 46.4,\n",
        "            \"will_it_rain\": 0,\n",
        "            \"chance_of_rain\": \"0\",\n",
        "            \"will_it_snow\": 0,\n",
        "            \"chance_of_snow\": \"0\",\n",
        "            \"vis_km\": 10,\n",
        "            \"vis_miles\": 6\n",
        "          },\n",
        "          {\n",
        "            \"time_epoch\": 1517360400,\n",
        "            \"time\": \"2018-01-31 01:00\",\n",
        "            \"temp_c\": 9.7,\n",
        "            \"temp_f\": 49.4,\n",
        "            \"is_day\": 0,\n",
        "            \"condition\": {\n",
        "              \"text\": \"Overcast\",\n",
        "              \"icon\": \"//cdn.weatherapi.com/weather/64x64/night/122.png\",\n",
        "              \"code\": 1009\n",
        "            },\n",
        "            \"wind_mph\": 15.2,\n",
        "            \"wind_kph\": 24.5,\n",
        "            \"wind_degree\": 234,\n",
        "            \"wind_dir\": \"SW\",\n",
        "            \"pressure_mb\": 1012,\n",
        "            \"pressure_in\": 30.4,\n",
        "            \"precip_mm\": 0,\n",
        "            \"precip_in\": 0,\n",
        "            \"humidity\": 86,\n",
        "            \"cloud\": 100,\n",
        "            \"feelslike_c\": 6.5,\n",
        "            \"feelslike_f\": 43.7,\n",
        "            \"windchill_c\": 6.5,\n",
        "            \"windchill_f\": 43.7,\n",
        "            \"heatindex_c\": 9.6,\n",
        "            \"heatindex_f\": 49.3,\n",
        "            \"dewpoint_c\": 7.4,\n",
        "            \"dewpoint_f\": 45.2,\n",
        "            \"will_it_rain\": 0,\n",
        "            \"chance_of_rain\": \"3\",\n",
        "            \"will_it_snow\": 0,\n",
        "            \"chance_of_snow\": \"0\",\n",
        "            \"vis_km\": 10,\n",
        "            \"vis_miles\": 6\n",
        "          },\n",
        "          {\n",
        "            \"time_epoch\": 1517364000,\n",
        "            \"time\": \"2018-01-31 02:00\",\n",
        "            \"temp_c\": 9.7,\n",
        "            \"temp_f\": 49.4,\n",
        "            \"is_day\": 0,\n",
        "            \"condition\": {\n",
        "              \"text\": \"Overcast\",\n",
        "              \"icon\": \"//cdn.weatherapi.com/weather/64x64/night/122.png\",\n",
        "              \"code\": 1009\n",
        "            },\n",
        "            \"wind_mph\": 16.1,\n",
        "            \"wind_kph\": 25.9,\n",
        "            \"wind_degree\": 237,\n",
        "            \"wind_dir\": \"WSW\",\n",
        "            \"pressure_mb\": 1011,\n",
        "            \"pressure_in\": 30.3,\n",
        "            \"precip_mm\": 0,\n",
        "            \"precip_in\": 0,\n",
        "            \"humidity\": 82,\n",
        "            \"cloud\": 100,\n",
        "            \"feelslike_c\": 6.4,\n",
        "            \"feelslike_f\": 43.6,\n",
        "            \"windchill_c\": 6.4,\n",
        "            \"windchill_f\": 43.6,\n",
        "            \"heatindex_c\": 9.7,\n",
        "            \"heatindex_f\": 49.4,\n",
        "            \"dewpoint_c\": 6.7,\n",
        "            \"dewpoint_f\": 44.1,\n",
        "            \"will_it_rain\": 0,\n",
        "            \"chance_of_rain\": \"3\",\n",
        "            \"will_it_snow\": 0,\n",
        "            \"chance_of_snow\": \"0\",\n",
        "            \"vis_km\": 10,\n",
        "            \"vis_miles\": 6\n",
        "          },\n",
        "          {\n",
        "            \"time_epoch\": 1517367600,\n",
        "            \"time\": \"2018-01-31 03:00\",\n",
        "            \"temp_c\": 9.7,\n",
        "            \"temp_f\": 49.5,\n",
        "            \"is_day\": 0,\n",
        "            \"condition\": {\n",
        "              \"text\": \"Overcast\",\n",
        "              \"icon\": \"//cdn.weatherapi.com/weather/64x64/night/122.png\",\n",
        "              \"code\": 1009\n",
        "            },\n",
        "            \"wind_mph\": 17,\n",
        "            \"wind_kph\": 27.4,\n",
        "            \"wind_degree\": 240,\n",
        "            \"wind_dir\": \"WSW\",\n",
        "            \"pressure_mb\": 1010,\n",
        "            \"pressure_in\": 30.3,\n",
        "            \"precip_mm\": 0,\n",
        "            \"precip_in\": 0,\n",
        "            \"humidity\": 78,\n",
        "            \"cloud\": 100,\n",
        "            \"feelslike_c\": 6.4,\n",
        "            \"feelslike_f\": 43.5,\n",
        "            \"windchill_c\": 6.4,\n",
        "            \"windchill_f\": 43.5,\n",
        "            \"heatindex_c\": 9.7,\n",
        "            \"heatindex_f\": 49.5,\n",
        "            \"dewpoint_c\": 6,\n",
        "            \"dewpoint_f\": 42.9,\n",
        "            \"will_it_rain\": 0,\n",
        "            \"chance_of_rain\": \"0\",\n",
        "            \"will_it_snow\": 0,\n",
        "            \"chance_of_snow\": \"0\",\n",
        "            \"vis_km\": 10,\n",
        "            \"vis_miles\": 6\n",
        "          },\n",
        "          {\n",
        "            \"time_epoch\": 1517371200,\n",
        "            \"time\": \"2018-01-31 04:00\",\n",
        "            \"temp_c\": 9.3,\n",
        "            \"temp_f\": 48.8,\n",
        "            \"is_day\": 0,\n",
        "            \"condition\": {\n",
        "              \"text\": \"Overcast\",\n",
        "              \"icon\": \"//cdn.weatherapi.com/weather/64x64/night/122.png\",\n",
        "              \"code\": 1009\n",
        "            },\n",
        "            \"wind_mph\": 15.7,\n",
        "            \"wind_kph\": 25.3,\n",
        "            \"wind_degree\": 239,\n",
        "            \"wind_dir\": \"WSW\",\n",
        "            \"pressure_mb\": 1009,\n",
        "            \"pressure_in\": 30.3,\n",
        "            \"precip_mm\": 0,\n",
        "            \"precip_in\": 0,\n",
        "            \"humidity\": 78,\n",
        "            \"cloud\": 100,\n",
        "            \"feelslike_c\": 6.1,\n",
        "            \"feelslike_f\": 42.9,\n",
        "            \"windchill_c\": 6.1,\n",
        "            \"windchill_f\": 42.9,\n",
        "            \"heatindex_c\": 9.3,\n",
        "            \"heatindex_f\": 48.8,\n",
        "            \"dewpoint_c\": 5.8,\n",
        "            \"dewpoint_f\": 42.4,\n",
        "            \"will_it_rain\": 0,\n",
        "            \"chance_of_rain\": \"3\",\n",
        "            \"will_it_snow\": 0,\n",
        "            \"chance_of_snow\": \"0\",\n",
        "            \"vis_km\": 10,\n",
        "            \"vis_miles\": 6\n",
        "          },\n",
        "          {\n",
        "            \"time_epoch\": 1517374800,\n",
        "            \"time\": \"2018-01-31 05:00\",\n",
        "            \"temp_c\": 8.9,\n",
        "            \"temp_f\": 48.1,\n",
        "            \"is_day\": 0,\n",
        "            \"condition\": {\n",
        "              \"text\": \"Overcast\",\n",
        "              \"icon\": \"//cdn.weatherapi.com/weather/64x64/night/122.png\",\n",
        "              \"code\": 1009\n",
        "            },\n",
        "            \"wind_mph\": 14.5,\n",
        "            \"wind_kph\": 23.3,\n",
        "            \"wind_degree\": 239,\n",
        "            \"wind_dir\": \"WSW\",\n",
        "            \"pressure_mb\": 1008,\n",
        "            \"pressure_in\": 30.2,\n",
        "            \"precip_mm\": 0,\n",
        "            \"precip_in\": 0,\n",
        "            \"humidity\": 79,\n",
        "            \"cloud\": 100,\n",
        "            \"feelslike_c\": 5.8,\n",
        "            \"feelslike_f\": 42.4,\n",
        "            \"windchill_c\": 5.8,\n",
        "            \"windchill_f\": 42.4,\n",
        "            \"heatindex_c\": 9,\n",
        "            \"heatindex_f\": 48.1,\n",
        "            \"dewpoint_c\": 5.5,\n",
        "            \"dewpoint_f\": 41.8,\n",
        "            \"will_it_rain\": 0,\n",
        "            \"chance_of_rain\": \"3\",\n",
        "            \"will_it_snow\": 0,\n",
        "            \"chance_of_snow\": \"0\",\n",
        "            \"vis_km\": 10,\n",
        "            \"vis_miles\": 6\n",
        "          },\n",
        "          {\n",
        "            \"time_epoch\": 1517378400,\n",
        "            \"time\": \"2018-01-31 06:00\",\n",
        "            \"temp_c\": 8.6,\n",
        "            \"temp_f\": 47.4,\n",
        "            \"is_day\": 0,\n",
        "            \"condition\": {\n",
        "              \"text\": \"Overcast\",\n",
        "              \"icon\": \"//cdn.weatherapi.com/weather/64x64/night/122.png\",\n",
        "              \"code\": 1009\n",
        "            },\n",
        "            \"wind_mph\": 13.2,\n",
        "            \"wind_kph\": 21.2,\n",
        "            \"wind_degree\": 238,\n",
        "            \"wind_dir\": \"WSW\",\n",
        "            \"pressure_mb\": 1007,\n",
        "            \"pressure_in\": 30.2,\n",
        "            \"precip_mm\": 0,\n",
        "            \"precip_in\": 0,\n",
        "            \"humidity\": 79,\n",
        "            \"cloud\": 100,\n",
        "            \"feelslike_c\": 5.5,\n",
        "            \"feelslike_f\": 41.9,\n",
        "            \"windchill_c\": 5.5,\n",
        "            \"windchill_f\": 41.9,\n",
        "            \"heatindex_c\": 8.6,\n",
        "            \"heatindex_f\": 47.5,\n",
        "            \"dewpoint_c\": 5.2,\n",
        "            \"dewpoint_f\": 41.3,\n",
        "            \"will_it_rain\": 0,\n",
        "            \"chance_of_rain\": \"0\",\n",
        "            \"will_it_snow\": 0,\n",
        "            \"chance_of_snow\": \"0\",\n",
        "            \"vis_km\": 10,\n",
        "            \"vis_miles\": 6\n",
        "          },\n",
        "          {\n",
        "            \"time_epoch\": 1517382000,\n",
        "            \"time\": \"2018-01-31 07:00\",\n",
        "            \"temp_c\": 8.6,\n",
        "            \"temp_f\": 47.5,\n",
        "            \"is_day\": 0,\n",
        "            \"condition\": {\n",
        "              \"text\": \"Overcast\",\n",
        "              \"icon\": \"//cdn.weatherapi.com/weather/64x64/night/122.png\",\n",
        "              \"code\": 1009\n",
        "            },\n",
        "            \"wind_mph\": 14.6,\n",
        "            \"wind_kph\": 23.5,\n",
        "            \"wind_degree\": 243,\n",
        "            \"wind_dir\": \"WSW\",\n",
        "            \"pressure_mb\": 1006,\n",
        "            \"pressure_in\": 30.2,\n",
        "            \"precip_mm\": 0,\n",
        "            \"precip_in\": 0,\n",
        "            \"humidity\": 78,\n",
        "            \"cloud\": 100,\n",
        "            \"feelslike_c\": 5.4,\n",
        "            \"feelslike_f\": 41.7,\n",
        "            \"windchill_c\": 5.4,\n",
        "            \"windchill_f\": 41.7,\n",
        "            \"heatindex_c\": 8.7,\n",
        "            \"heatindex_f\": 47.6,\n",
        "            \"dewpoint_c\": 5.1,\n",
        "            \"dewpoint_f\": 41.2,\n",
        "            \"will_it_rain\": 0,\n",
        "            \"chance_of_rain\": \"3\",\n",
        "            \"will_it_snow\": 0,\n",
        "            \"chance_of_snow\": \"0\",\n",
        "            \"vis_km\": 7.3,\n",
        "            \"vis_miles\": 4\n",
        "          },\n",
        "          {\n",
        "            \"time_epoch\": 1517385600,\n",
        "            \"time\": \"2018-01-31 08:00\",\n",
        "            \"temp_c\": 8.7,\n",
        "            \"temp_f\": 47.7,\n",
        "            \"is_day\": 1,\n",
        "            \"condition\": {\n",
        "              \"text\": \"Light drizzle\",\n",
        "              \"icon\": \"//cdn.weatherapi.com/weather/64x64/day/266.png\",\n",
        "              \"code\": 1153\n",
        "            },\n",
        "            \"wind_mph\": 16,\n",
        "            \"wind_kph\": 25.8,\n",
        "            \"wind_degree\": 248,\n",
        "            \"wind_dir\": \"WSW\",\n",
        "            \"pressure_mb\": 1006,\n",
        "            \"pressure_in\": 30.2,\n",
        "            \"precip_mm\": 0.07,\n",
        "            \"precip_in\": 0,\n",
        "            \"humidity\": 77,\n",
        "            \"cloud\": 100,\n",
        "            \"feelslike_c\": 5.3,\n",
        "            \"feelslike_f\": 41.5,\n",
        "            \"windchill_c\": 5.3,\n",
        "            \"windchill_f\": 41.5,\n",
        "            \"heatindex_c\": 8.7,\n",
        "            \"heatindex_f\": 47.7,\n",
        "            \"dewpoint_c\": 5,\n",
        "            \"dewpoint_f\": 41,\n",
        "            \"will_it_rain\": 0,\n",
        "            \"chance_of_rain\": \"51\",\n",
        "            \"will_it_snow\": 0,\n",
        "            \"chance_of_snow\": \"0\",\n",
        "            \"vis_km\": 4.7,\n",
        "            \"vis_miles\": 2\n",
        "          },\n",
        "          {\n",
        "            \"time_epoch\": 1517389200,\n",
        "            \"time\": \"2018-01-31 09:00\",\n",
        "            \"temp_c\": 8.8,\n",
        "            \"temp_f\": 47.8,\n",
        "            \"is_day\": 1,\n",
        "            \"condition\": {\n",
        "              \"text\": \"Light drizzle\",\n",
        "              \"icon\": \"//cdn.weatherapi.com/weather/64x64/day/266.png\",\n",
        "              \"code\": 1153\n",
        "            },\n",
        "            \"wind_mph\": 17.4,\n",
        "            \"wind_kph\": 28.1,\n",
        "            \"wind_degree\": 253,\n",
        "            \"wind_dir\": \"WSW\",\n",
        "            \"pressure_mb\": 1006,\n",
        "            \"pressure_in\": 30.2,\n",
        "            \"precip_mm\": 0.1,\n",
        "            \"precip_in\": 0,\n",
        "            \"humidity\": 77,\n",
        "            \"cloud\": 100,\n",
        "            \"feelslike_c\": 5.2,\n",
        "            \"feelslike_f\": 41.3,\n",
        "            \"windchill_c\": 5.2,\n",
        "            \"windchill_f\": 41.3,\n",
        "            \"heatindex_c\": 8.8,\n",
        "            \"heatindex_f\": 47.8,\n",
        "            \"dewpoint_c\": 4.9,\n",
        "            \"dewpoint_f\": 40.9,\n",
        "            \"will_it_rain\": 0,\n",
        "            \"chance_of_rain\": \"0\",\n",
        "            \"will_it_snow\": 0,\n",
        "            \"chance_of_snow\": \"0\",\n",
        "            \"vis_km\": 2,\n",
        "            \"vis_miles\": 1\n",
        "          },\n",
        "          {\n",
        "            \"time_epoch\": 1517392800,\n",
        "            \"time\": \"2018-01-31 10:00\",\n",
        "            \"temp_c\": 8.7,\n",
        "            \"temp_f\": 47.6,\n",
        "            \"is_day\": 1,\n",
        "            \"condition\": {\n",
        "              \"text\": \"Light drizzle\",\n",
        "              \"icon\": \"//cdn.weatherapi.com/weather/64x64/day/266.png\",\n",
        "              \"code\": 1153\n",
        "            },\n",
        "            \"wind_mph\": 16.6,\n",
        "            \"wind_kph\": 26.6,\n",
        "            \"wind_degree\": 258,\n",
        "            \"wind_dir\": \"WSW\",\n",
        "            \"pressure_mb\": 1005,\n",
        "            \"pressure_in\": 30.1,\n",
        "            \"precip_mm\": 0.05,\n",
        "            \"precip_in\": 0,\n",
        "            \"humidity\": 71,\n",
        "            \"cloud\": 95,\n",
        "            \"feelslike_c\": 5.1,\n",
        "            \"feelslike_f\": 41.2,\n",
        "            \"windchill_c\": 5.1,\n",
        "            \"windchill_f\": 41.2,\n",
        "            \"heatindex_c\": 8.7,\n",
        "            \"heatindex_f\": 47.6,\n",
        "            \"dewpoint_c\": 3.5,\n",
        "            \"dewpoint_f\": 38.4,\n",
        "            \"will_it_rain\": 0,\n",
        "            \"chance_of_rain\": \"51\",\n",
        "            \"will_it_snow\": 0,\n",
        "            \"chance_of_snow\": \"0\",\n",
        "            \"vis_km\": 4.7,\n",
        "            \"vis_miles\": 2\n",
        "          },\n",
        "          {\n",
        "            \"time_epoch\": 1517396400,\n",
        "            \"time\": \"2018-01-31 11:00\",\n",
        "            \"temp_c\": 8.5,\n",
        "            \"temp_f\": 47.3,\n",
        "            \"is_day\": 1,\n",
        "            \"condition\": {\n",
        "              \"text\": \"Cloudy\",\n",
        "              \"icon\": \"//cdn.weatherapi.com/weather/64x64/day/119.png\",\n",
        "              \"code\": 1006\n",
        "            },\n",
        "            \"wind_mph\": 15.7,\n",
        "            \"wind_kph\": 25.2,\n",
        "            \"wind_degree\": 263,\n",
        "            \"wind_dir\": \"W\",\n",
        "            \"pressure_mb\": 1004,\n",
        "            \"pressure_in\": 30.1,\n",
        "            \"precip_mm\": 0,\n",
        "            \"precip_in\": 0,\n",
        "            \"humidity\": 64,\n",
        "            \"cloud\": 90,\n",
        "            \"feelslike_c\": 5,\n",
        "            \"feelslike_f\": 41.1,\n",
        "            \"windchill_c\": 5,\n",
        "            \"windchill_f\": 41.1,\n",
        "            \"heatindex_c\": 8.5,\n",
        "            \"heatindex_f\": 47.4,\n",
        "            \"dewpoint_c\": 2.1,\n",
        "            \"dewpoint_f\": 35.9,\n",
        "            \"will_it_rain\": 0,\n",
        "            \"chance_of_rain\": \"2\",\n",
        "            \"will_it_snow\": 0,\n",
        "            \"chance_of_snow\": \"0\",\n",
        "            \"vis_km\": 7.3,\n",
        "            \"vis_miles\": 4\n",
        "          },\n",
        "          {\n",
        "            \"time_epoch\": 1517400000,\n",
        "            \"time\": \"2018-01-31 12:00\",\n",
        "            \"temp_c\": 8.4,\n",
        "            \"temp_f\": 47.1,\n",
        "            \"is_day\": 1,\n",
        "            \"condition\": {\n",
        "              \"text\": \"Cloudy\",\n",
        "              \"icon\": \"//cdn.weatherapi.com/weather/64x64/day/119.png\",\n",
        "              \"code\": 1006\n",
        "            },\n",
        "            \"wind_mph\": 14.8,\n",
        "            \"wind_kph\": 23.8,\n",
        "            \"wind_degree\": 268,\n",
        "            \"wind_dir\": \"W\",\n",
        "            \"pressure_mb\": 1004,\n",
        "            \"pressure_in\": 30.1,\n",
        "            \"precip_mm\": 0,\n",
        "            \"precip_in\": 0,\n",
        "            \"humidity\": 58,\n",
        "            \"cloud\": 85,\n",
        "            \"feelslike_c\": 5,\n",
        "            \"feelslike_f\": 41,\n",
        "            \"windchill_c\": 5,\n",
        "            \"windchill_f\": 41,\n",
        "            \"heatindex_c\": 8.4,\n",
        "            \"heatindex_f\": 47.1,\n",
        "            \"dewpoint_c\": 0.7,\n",
        "            \"dewpoint_f\": 33.3,\n",
        "            \"will_it_rain\": 0,\n",
        "            \"chance_of_rain\": \"0\",\n",
        "            \"will_it_snow\": 0,\n",
        "            \"chance_of_snow\": \"0\",\n",
        "            \"vis_km\": 10,\n",
        "            \"vis_miles\": 6\n",
        "          },\n",
        "          {\n",
        "            \"time_epoch\": 1517403600,\n",
        "            \"time\": \"2018-01-31 13:00\",\n",
        "            \"temp_c\": 8,\n",
        "            \"temp_f\": 46.4,\n",
        "            \"is_day\": 1,\n",
        "            \"condition\": {\n",
        "              \"text\": \"Cloudy\",\n",
        "              \"icon\": \"//cdn.weatherapi.com/weather/64x64/day/119.png\",\n",
        "              \"code\": 1006\n",
        "            },\n",
        "            \"wind_mph\": 15.7,\n",
        "            \"wind_kph\": 25.3,\n",
        "            \"wind_degree\": 270,\n",
        "            \"wind_dir\": \"W\",\n",
        "            \"pressure_mb\": 1003,\n",
        "            \"pressure_in\": 30.1,\n",
        "            \"precip_mm\": 0,\n",
        "            \"precip_in\": 0,\n",
        "            \"humidity\": 56,\n",
        "            \"cloud\": 61,\n",
        "            \"feelslike_c\": 4.4,\n",
        "            \"feelslike_f\": 39.9,\n",
        "            \"windchill_c\": 4.4,\n",
        "            \"windchill_f\": 39.9,\n",
        "            \"heatindex_c\": 8,\n",
        "            \"heatindex_f\": 46.5,\n",
        "            \"dewpoint_c\": -0.3,\n",
        "            \"dewpoint_f\": 31.6,\n",
        "            \"will_it_rain\": 0,\n",
        "            \"chance_of_rain\": \"2\",\n",
        "            \"will_it_snow\": 0,\n",
        "            \"chance_of_snow\": \"0\",\n",
        "            \"vis_km\": 10,\n",
        "            \"vis_miles\": 6\n",
        "          },\n",
        "          {\n",
        "            \"time_epoch\": 1517407200,\n",
        "            \"time\": \"2018-01-31 14:00\",\n",
        "            \"temp_c\": 7.7,\n",
        "            \"temp_f\": 45.8,\n",
        "            \"is_day\": 1,\n",
        "            \"condition\": {\n",
        "              \"text\": \"Sunny\",\n",
        "              \"icon\": \"//cdn.weatherapi.com/weather/64x64/day/113.png\",\n",
        "              \"code\": 1000\n",
        "            },\n",
        "            \"wind_mph\": 16.7,\n",
        "            \"wind_kph\": 26.9,\n",
        "            \"wind_degree\": 273,\n",
        "            \"wind_dir\": \"W\",\n",
        "            \"pressure_mb\": 1003,\n",
        "            \"pressure_in\": 30.1,\n",
        "            \"precip_mm\": 0,\n",
        "            \"precip_in\": 0,\n",
        "            \"humidity\": 53,\n",
        "            \"cloud\": 36,\n",
        "            \"feelslike_c\": 3.8,\n",
        "            \"feelslike_f\": 38.8,\n",
        "            \"windchill_c\": 3.8,\n",
        "            \"windchill_f\": 38.8,\n",
        "            \"heatindex_c\": 7.7,\n",
        "            \"heatindex_f\": 45.8,\n",
        "            \"dewpoint_c\": -1.2,\n",
        "            \"dewpoint_f\": 29.8,\n",
        "            \"will_it_rain\": 0,\n",
        "            \"chance_of_rain\": \"0\",\n",
        "            \"will_it_snow\": 0,\n",
        "            \"chance_of_snow\": \"0\",\n",
        "            \"vis_km\": 10,\n",
        "            \"vis_miles\": 6\n",
        "          },\n",
        "          {\n",
        "            \"time_epoch\": 1517410800,\n",
        "            \"time\": \"2018-01-31 15:00\",\n",
        "            \"temp_c\": 7.3,\n",
        "            \"temp_f\": 45.2,\n",
        "            \"is_day\": 1,\n",
        "            \"condition\": {\n",
        "              \"text\": \"Sunny\",\n",
        "              \"icon\": \"//cdn.weatherapi.com/weather/64x64/day/113.png\",\n",
        "              \"code\": 1000\n",
        "            },\n",
        "            \"wind_mph\": 17.7,\n",
        "            \"wind_kph\": 28.4,\n",
        "            \"wind_degree\": 276,\n",
        "            \"wind_dir\": \"W\",\n",
        "            \"pressure_mb\": 1003,\n",
        "            \"pressure_in\": 30.1,\n",
        "            \"precip_mm\": 0,\n",
        "            \"precip_in\": 0,\n",
        "            \"humidity\": 51,\n",
        "            \"cloud\": 12,\n",
        "            \"feelslike_c\": 3.2,\n",
        "            \"feelslike_f\": 37.7,\n",
        "            \"windchill_c\": 3.2,\n",
        "            \"windchill_f\": 37.7,\n",
        "            \"heatindex_c\": 7.3,\n",
        "            \"heatindex_f\": 45.1,\n",
        "            \"dewpoint_c\": -2.2,\n",
        "            \"dewpoint_f\": 28,\n",
        "            \"will_it_rain\": 0,\n",
        "            \"chance_of_rain\": \"0\",\n",
        "            \"will_it_snow\": 0,\n",
        "            \"chance_of_snow\": \"0\",\n",
        "            \"vis_km\": 10,\n",
        "            \"vis_miles\": 6\n",
        "          },\n",
        "          {\n",
        "            \"time_epoch\": 1517414400,\n",
        "            \"time\": \"2018-01-31 16:00\",\n",
        "            \"temp_c\": 6.6,\n",
        "            \"temp_f\": 43.9,\n",
        "            \"is_day\": 1,\n",
        "            \"condition\": {\n",
        "              \"text\": \"Sunny\",\n",
        "              \"icon\": \"//cdn.weatherapi.com/weather/64x64/day/113.png\",\n",
        "              \"code\": 1000\n",
        "            },\n",
        "            \"wind_mph\": 15.9,\n",
        "            \"wind_kph\": 25.6,\n",
        "            \"wind_degree\": 269,\n",
        "            \"wind_dir\": \"W\",\n",
        "            \"pressure_mb\": 1002,\n",
        "            \"pressure_in\": 30.1,\n",
        "            \"precip_mm\": 0,\n",
        "            \"precip_in\": 0,\n",
        "            \"humidity\": 53,\n",
        "            \"cloud\": 9,\n",
        "            \"feelslike_c\": 2.6,\n",
        "            \"feelslike_f\": 36.7,\n",
        "            \"windchill_c\": 2.6,\n",
        "            \"windchill_f\": 36.7,\n",
        "            \"heatindex_c\": 6.6,\n",
        "            \"heatindex_f\": 43.9,\n",
        "            \"dewpoint_c\": -2.2,\n",
        "            \"dewpoint_f\": 28,\n",
        "            \"will_it_rain\": 0,\n",
        "            \"chance_of_rain\": \"0\",\n",
        "            \"will_it_snow\": 0,\n",
        "            \"chance_of_snow\": \"0\",\n",
        "            \"vis_km\": 10,\n",
        "            \"vis_miles\": 6\n",
        "          },\n",
        "          {\n",
        "            \"time_epoch\": 1517418000,\n",
        "            \"time\": \"2018-01-31 17:00\",\n",
        "            \"temp_c\": 5.9,\n",
        "            \"temp_f\": 42.6,\n",
        "            \"is_day\": 0,\n",
        "            \"condition\": {\n",
        "              \"text\": \"Clear\",\n",
        "              \"icon\": \"//cdn.weatherapi.com/weather/64x64/night/113.png\",\n",
        "              \"code\": 1000\n",
        "            },\n",
        "            \"wind_mph\": 14.1,\n",
        "            \"wind_kph\": 22.7,\n",
        "            \"wind_degree\": 263,\n",
        "            \"wind_dir\": \"W\",\n",
        "            \"pressure_mb\": 1002,\n",
        "            \"pressure_in\": 30.1,\n",
        "            \"precip_mm\": 0,\n",
        "            \"precip_in\": 0,\n",
        "            \"humidity\": 56,\n",
        "            \"cloud\": 6,\n",
        "            \"feelslike_c\": 2,\n",
        "            \"feelslike_f\": 35.7,\n",
        "            \"windchill_c\": 2,\n",
        "            \"windchill_f\": 35.7,\n",
        "            \"heatindex_c\": 6,\n",
        "            \"heatindex_f\": 42.7,\n",
        "            \"dewpoint_c\": -2.2,\n",
        "            \"dewpoint_f\": 28,\n",
        "            \"will_it_rain\": 0,\n",
        "            \"chance_of_rain\": \"0\",\n",
        "            \"will_it_snow\": 0,\n",
        "            \"chance_of_snow\": \"0\",\n",
        "            \"vis_km\": 10,\n",
        "            \"vis_miles\": 6\n",
        "          },\n",
        "          {\n",
        "            \"time_epoch\": 1517421600,\n",
        "            \"time\": \"2018-01-31 18:00\",\n",
        "            \"temp_c\": 5.2,\n",
        "            \"temp_f\": 41.3,\n",
        "            \"is_day\": 0,\n",
        "            \"condition\": {\n",
        "              \"text\": \"Clear\",\n",
        "              \"icon\": \"//cdn.weatherapi.com/weather/64x64/night/113.png\",\n",
        "              \"code\": 1000\n",
        "            },\n",
        "            \"wind_mph\": 12.3,\n",
        "            \"wind_kph\": 19.8,\n",
        "            \"wind_degree\": 257,\n",
        "            \"wind_dir\": \"WSW\",\n",
        "            \"pressure_mb\": 1002,\n",
        "            \"pressure_in\": 30.1,\n",
        "            \"precip_mm\": 0,\n",
        "            \"precip_in\": 0,\n",
        "            \"humidity\": 58,\n",
        "            \"cloud\": 3,\n",
        "            \"feelslike_c\": 1.5,\n",
        "            \"feelslike_f\": 34.6,\n",
        "            \"windchill_c\": 1.5,\n",
        "            \"windchill_f\": 34.6,\n",
        "            \"heatindex_c\": 5.3,\n",
        "            \"heatindex_f\": 41.5,\n",
        "            \"dewpoint_c\": -2.2,\n",
        "            \"dewpoint_f\": 28.1,\n",
        "            \"will_it_rain\": 0,\n",
        "            \"chance_of_rain\": \"0\",\n",
        "            \"will_it_snow\": 0,\n",
        "            \"chance_of_snow\": \"0\",\n",
        "            \"vis_km\": 10,\n",
        "            \"vis_miles\": 6\n",
        "          },\n",
        "          {\n",
        "            \"time_epoch\": 1517425200,\n",
        "            \"time\": \"2018-01-31 19:00\",\n",
        "            \"temp_c\": 4.9,\n",
        "            \"temp_f\": 40.9,\n",
        "            \"is_day\": 0,\n",
        "            \"condition\": {\n",
        "              \"text\": \"Clear\",\n",
        "              \"icon\": \"//cdn.weatherapi.com/weather/64x64/night/113.png\",\n",
        "              \"code\": 1000\n",
        "            },\n",
        "            \"wind_mph\": 12.9,\n",
        "            \"wind_kph\": 20.8,\n",
        "            \"wind_degree\": 257,\n",
        "            \"wind_dir\": \"WSW\",\n",
        "            \"pressure_mb\": 1002,\n",
        "            \"pressure_in\": 30.1,\n",
        "            \"precip_mm\": 0,\n",
        "            \"precip_in\": 0,\n",
        "            \"humidity\": 60,\n",
        "            \"cloud\": 6,\n",
        "            \"feelslike_c\": 1,\n",
        "            \"feelslike_f\": 33.8,\n",
        "            \"windchill_c\": 1,\n",
        "            \"windchill_f\": 33.8,\n",
        "            \"heatindex_c\": 5,\n",
        "            \"heatindex_f\": 41.1,\n",
        "            \"dewpoint_c\": -2.1,\n",
        "            \"dewpoint_f\": 28.1,\n",
        "            \"will_it_rain\": 0,\n",
        "            \"chance_of_rain\": \"0\",\n",
        "            \"will_it_snow\": 0,\n",
        "            \"chance_of_snow\": \"0\",\n",
        "            \"vis_km\": 10,\n",
        "            \"vis_miles\": 6\n",
        "          },\n",
        "          {\n",
        "            \"time_epoch\": 1517428800,\n",
        "            \"time\": \"2018-01-31 20:00\",\n",
        "            \"temp_c\": 4.7,\n",
        "            \"temp_f\": 40.5,\n",
        "            \"is_day\": 0,\n",
        "            \"condition\": {\n",
        "              \"text\": \"Clear\",\n",
        "              \"icon\": \"//cdn.weatherapi.com/weather/64x64/night/113.png\",\n",
        "              \"code\": 1000\n",
        "            },\n",
        "            \"wind_mph\": 13.5,\n",
        "            \"wind_kph\": 21.7,\n",
        "            \"wind_degree\": 257,\n",
        "            \"wind_dir\": \"WSW\",\n",
        "            \"pressure_mb\": 1002,\n",
        "            \"pressure_in\": 30,\n",
        "            \"precip_mm\": 0,\n",
        "            \"precip_in\": 0,\n",
        "            \"humidity\": 61,\n",
        "            \"cloud\": 8,\n",
        "            \"feelslike_c\": 0.6,\n",
        "            \"feelslike_f\": 33,\n",
        "            \"windchill_c\": 0.6,\n",
        "            \"windchill_f\": 33,\n",
        "            \"heatindex_c\": 4.8,\n",
        "            \"heatindex_f\": 40.6,\n",
        "            \"dewpoint_c\": -2.1,\n",
        "            \"dewpoint_f\": 28.2,\n",
        "            \"will_it_rain\": 0,\n",
        "            \"chance_of_rain\": \"0\",\n",
        "            \"will_it_snow\": 0,\n",
        "            \"chance_of_snow\": \"0\",\n",
        "            \"vis_km\": 10,\n",
        "            \"vis_miles\": 6\n",
        "          },\n",
        "          {\n",
        "            \"time_epoch\": 1517432400,\n",
        "            \"time\": \"2018-01-31 21:00\",\n",
        "            \"temp_c\": 4.5,\n",
        "            \"temp_f\": 40,\n",
        "            \"is_day\": 0,\n",
        "            \"condition\": {\n",
        "              \"text\": \"Clear\",\n",
        "              \"icon\": \"//cdn.weatherapi.com/weather/64x64/night/113.png\",\n",
        "              \"code\": 1000\n",
        "            },\n",
        "            \"wind_mph\": 14.1,\n",
        "            \"wind_kph\": 22.7,\n",
        "            \"wind_degree\": 257,\n",
        "            \"wind_dir\": \"WSW\",\n",
        "            \"pressure_mb\": 1001,\n",
        "            \"pressure_in\": 30,\n",
        "            \"precip_mm\": 0,\n",
        "            \"precip_in\": 0,\n",
        "            \"humidity\": 62,\n",
        "            \"cloud\": 11,\n",
        "            \"feelslike_c\": 0.1,\n",
        "            \"feelslike_f\": 32.2,\n",
        "            \"windchill_c\": 0.1,\n",
        "            \"windchill_f\": 32.2,\n",
        "            \"heatindex_c\": 4.5,\n",
        "            \"heatindex_f\": 40.1,\n",
        "            \"dewpoint_c\": -2.1,\n",
        "            \"dewpoint_f\": 28.3,\n",
        "            \"will_it_rain\": 0,\n",
        "            \"chance_of_rain\": \"0\",\n",
        "            \"will_it_snow\": 0,\n",
        "            \"chance_of_snow\": \"0\",\n",
        "            \"vis_km\": 10,\n",
        "            \"vis_miles\": 6\n",
        "          },\n",
        "          {\n",
        "            \"time_epoch\": 1517436000,\n",
        "            \"time\": \"2018-01-31 22:00\",\n",
        "            \"temp_c\": 4.2,\n",
        "            \"temp_f\": 39.5,\n",
        "            \"is_day\": 0,\n",
        "            \"condition\": {\n",
        "              \"text\": \"Clear\",\n",
        "              \"icon\": \"//cdn.weatherapi.com/weather/64x64/night/113.png\",\n",
        "              \"code\": 1000\n",
        "            },\n",
        "            \"wind_mph\": 13.3,\n",
        "            \"wind_kph\": 21.4,\n",
        "            \"wind_degree\": 251,\n",
        "            \"wind_dir\": \"WSW\",\n",
        "            \"pressure_mb\": 1001,\n",
        "            \"pressure_in\": 30,\n",
        "            \"precip_mm\": 0,\n",
        "            \"precip_in\": 0,\n",
        "            \"humidity\": 64,\n",
        "            \"cloud\": 15,\n",
        "            \"feelslike_c\": -0.1,\n",
        "            \"feelslike_f\": 31.8,\n",
        "            \"windchill_c\": -0.1,\n",
        "            \"windchill_f\": 31.8,\n",
        "            \"heatindex_c\": 4.2,\n",
        "            \"heatindex_f\": 39.6,\n",
        "            \"dewpoint_c\": -2,\n",
        "            \"dewpoint_f\": 28.5,\n",
        "            \"will_it_rain\": 0,\n",
        "            \"chance_of_rain\": \"0\",\n",
        "            \"will_it_snow\": 0,\n",
        "            \"chance_of_snow\": \"0\",\n",
        "            \"vis_km\": 10,\n",
        "            \"vis_miles\": 6\n",
        "          },\n",
        "          {\n",
        "            \"time_epoch\": 1517439600,\n",
        "            \"time\": \"2018-01-31 23:00\",\n",
        "            \"temp_c\": 3.8,\n",
        "            \"temp_f\": 38.9,\n",
        "            \"is_day\": 0,\n",
        "            \"condition\": {\n",
        "              \"text\": \"Clear\",\n",
        "              \"icon\": \"//cdn.weatherapi.com/weather/64x64/night/113.png\",\n",
        "              \"code\": 1000\n",
        "            },\n",
        "            \"wind_mph\": 12.5,\n",
        "            \"wind_kph\": 20,\n",
        "            \"wind_degree\": 246,\n",
        "            \"wind_dir\": \"WSW\",\n",
        "            \"pressure_mb\": 1000,\n",
        "            \"pressure_in\": 30,\n",
        "            \"precip_mm\": 0,\n",
        "            \"precip_in\": 0,\n",
        "            \"humidity\": 66,\n",
        "            \"cloud\": 19,\n",
        "            \"feelslike_c\": -0.3,\n",
        "            \"feelslike_f\": 31.4,\n",
        "            \"windchill_c\": -0.3,\n",
        "            \"windchill_f\": 31.4,\n",
        "            \"heatindex_c\": 3.9,\n",
        "            \"heatindex_f\": 39,\n",
        "            \"dewpoint_c\": -1.9,\n",
        "            \"dewpoint_f\": 28.7,\n",
        "            \"will_it_rain\": 0,\n",
        "            \"chance_of_rain\": \"0\",\n",
        "            \"will_it_snow\": 0,\n",
        "            \"chance_of_snow\": \"0\",\n",
        "            \"vis_km\": 10,\n",
        "            \"vis_miles\": 6\n",
        "          }\n",
        "        ]\n",
        "      }\n",
        "    ]\n",
        "  }\n",
        "}\n",
        "\n",
        "print(d[\"forecast\"]['forecastday'][0]['day']['maxtemp_c'])"
      ],
      "execution_count": null,
      "outputs": [
        {
          "output_type": "stream",
          "text": [
            "9.7\n"
          ],
          "name": "stdout"
        }
      ]
    },
    {
      "cell_type": "code",
      "metadata": {
        "colab": {
          "base_uri": "https://localhost:8080/"
        },
        "id": "KQY3D316cWBp",
        "outputId": "3f445eaa-1590-47a3-9cfa-d8f3bb4f1edb"
      },
      "source": [
        "#For loop with numbers\n",
        "for i in range(10): #range(start = 0,stop,step = 1)\n",
        "    print(i)"
      ],
      "execution_count": null,
      "outputs": [
        {
          "output_type": "stream",
          "text": [
            "0\n",
            "1\n",
            "2\n",
            "3\n",
            "4\n",
            "5\n",
            "6\n",
            "7\n",
            "8\n",
            "9\n"
          ],
          "name": "stdout"
        }
      ]
    },
    {
      "cell_type": "code",
      "metadata": {
        "colab": {
          "base_uri": "https://localhost:8080/"
        },
        "id": "dCpUJCcxcvw5",
        "outputId": "4ecae13c-7006-488d-d4be-ca36458b8b2d"
      },
      "source": [
        "#For loop with numbers\n",
        "for i in range(1,11): #range(start = 0,stop,step = 1)\n",
        "    print(i)"
      ],
      "execution_count": null,
      "outputs": [
        {
          "output_type": "stream",
          "text": [
            "1\n",
            "2\n",
            "3\n",
            "4\n",
            "5\n",
            "6\n",
            "7\n",
            "8\n",
            "9\n",
            "10\n"
          ],
          "name": "stdout"
        }
      ]
    },
    {
      "cell_type": "code",
      "metadata": {
        "colab": {
          "base_uri": "https://localhost:8080/"
        },
        "id": "P-hSx2mBczlY",
        "outputId": "2e6a63b4-82ec-4b5b-c1a6-c745c791f0bc"
      },
      "source": [
        "#For loop with numbers\n",
        "for i in range(5,101,5): #range(start = 0,stop,step = 1)\n",
        "    print(i,end=\"\\t\")"
      ],
      "execution_count": null,
      "outputs": [
        {
          "output_type": "stream",
          "text": [
            "5\t10\t15\t20\t25\t30\t35\t40\t45\t50\t55\t60\t65\t70\t75\t80\t85\t90\t95\t100\t"
          ],
          "name": "stdout"
        }
      ]
    },
    {
      "cell_type": "code",
      "metadata": {
        "colab": {
          "base_uri": "https://localhost:8080/"
        },
        "id": "_bmCkgZ7egpa",
        "outputId": "43354381-b150-4b6a-f79a-a6f145303f59"
      },
      "source": [
        "#For loop with numbers\n",
        "for i in range(10,0,-1): #range(start = 0,stop,step = 1)\n",
        "    print(i,end=\"\\t\")"
      ],
      "execution_count": null,
      "outputs": [
        {
          "output_type": "stream",
          "text": [
            "10\t9\t8\t7\t6\t5\t4\t3\t2\t1\t"
          ],
          "name": "stdout"
        }
      ]
    },
    {
      "cell_type": "markdown",
      "metadata": {
        "id": "tYHymnmudFQh"
      },
      "source": [
        "https://openweathermap.org/api"
      ]
    },
    {
      "cell_type": "code",
      "metadata": {
        "colab": {
          "base_uri": "https://localhost:8080/"
        },
        "id": "TTjNAqWJe37s",
        "outputId": "bd663987-816b-438b-e5fa-50644d7448ad"
      },
      "source": [
        "a = input(\"Enter the value of a\\n\") #By default reads strings\n",
        "b = input(\"Enter the value of b\\n\")\n",
        "c = a + b\n",
        "print(c)"
      ],
      "execution_count": null,
      "outputs": [
        {
          "output_type": "stream",
          "text": [
            "Enter the value of a\n",
            "10\n",
            "Enter ther value of b\n",
            "20\n",
            "1020\n"
          ],
          "name": "stdout"
        }
      ]
    },
    {
      "cell_type": "code",
      "metadata": {
        "colab": {
          "base_uri": "https://localhost:8080/"
        },
        "id": "1B4d9zXdftJa",
        "outputId": "bb14c5e5-5587-46d5-b00a-878534b6bb28"
      },
      "source": [
        "a = int(input(\"Enter the value of a\\n\")) #By default reads strings\n",
        "b = int(input(\"Enter the value of b\\n\"))\n",
        "c = a + b\n",
        "print(c)"
      ],
      "execution_count": null,
      "outputs": [
        {
          "output_type": "stream",
          "text": [
            "Enter the value of a\n",
            "10\n",
            "Enter the value of b\n",
            "20\n",
            "30\n"
          ],
          "name": "stdout"
        }
      ]
    },
    {
      "cell_type": "code",
      "metadata": {
        "colab": {
          "base_uri": "https://localhost:8080/"
        },
        "id": "UDOTTG_DgX76",
        "outputId": "ce60dd5a-0b8d-4eff-8630-ed3fb7e5750d"
      },
      "source": [
        "#Array\n",
        "n = int(input(\"Enter number of elements > \"))\n",
        "array_list = []\n",
        "for i in range(1,n+1):\n",
        "    string = \"Enter the element number \"+str(i)+\": \"\n",
        "    array_list.append(int(input(string)))\n",
        "print(array_list)"
      ],
      "execution_count": null,
      "outputs": [
        {
          "output_type": "stream",
          "text": [
            "Enter number of elements > 5\n",
            "Enter the element number 1: 10\n",
            "Enter the element number 2: 20\n",
            "Enter the element number 3: 30\n",
            "Enter the element number 4: 40\n",
            "Enter the element number 5: 50\n",
            "[10, 20, 30, 40, 50]\n"
          ],
          "name": "stdout"
        }
      ]
    },
    {
      "cell_type": "code",
      "metadata": {
        "colab": {
          "base_uri": "https://localhost:8080/"
        },
        "id": "tdQE-2jyjalK",
        "outputId": "c6df9d20-bb36-4f31-d83a-c12bfc44c08a"
      },
      "source": [
        "#Read 2D Array\n",
        "two_dim = []\n",
        "rows = int(input(\"Enter number of rows > \"))\n",
        "cols = int(input(\"Enter number of columns > \"))\n",
        "for i in range(0,rows):\n",
        "    temp = []\n",
        "    for j in range(0,cols):\n",
        "            string = \"Enter the element number [\"+str(i)+\"][\"+str(j)+\"]: \"\n",
        "            temp.append(int(input(string)))\n",
        "    two_dim.append(temp)\n",
        "\n",
        "print(two_dim)"
      ],
      "execution_count": null,
      "outputs": [
        {
          "output_type": "stream",
          "text": [
            "Enter number of rows > 3\n",
            "Enter number of columns > 3\n",
            "Enter the element number [0][0]: 1\n",
            "Enter the element number [0][1]: 2\n",
            "Enter the element number [0][2]: 3\n",
            "Enter the element number [1][0]: 4\n",
            "Enter the element number [1][1]: 5\n",
            "Enter the element number [1][2]: 6\n",
            "Enter the element number [2][0]: 7\n",
            "Enter the element number [2][1]: 8\n",
            "Enter the element number [2][2]: 9\n",
            "[[1, 2, 3], [4, 5, 6], [7, 8, 9]]\n"
          ],
          "name": "stdout"
        }
      ]
    },
    {
      "cell_type": "code",
      "metadata": {
        "colab": {
          "base_uri": "https://localhost:8080/"
        },
        "id": "gK2DUDzImnMB",
        "outputId": "68e7e108-bfb0-49fe-def4-73ee6a466fd9"
      },
      "source": [
        "#List Comprehension - shortcut for creating a list using for loops\n",
        "\n",
        "fruits = [\"kiwi\",\"apple\",\"mango\",\"strawberry\",\"cherry\",\"watermelon\"]\n",
        "\n",
        "fruits_lengthy = []\n",
        "\n",
        "for f in fruits:\n",
        "    if(len(f)>5):\n",
        "        fruits_lengthy.append(f)\n",
        "print(fruits_lengthy)"
      ],
      "execution_count": null,
      "outputs": [
        {
          "output_type": "stream",
          "text": [
            "['strawberry', 'cherry', 'watermelon']\n"
          ],
          "name": "stdout"
        }
      ]
    },
    {
      "cell_type": "code",
      "metadata": {
        "colab": {
          "base_uri": "https://localhost:8080/"
        },
        "id": "Tl_c8pZZnUnL",
        "outputId": "fb16eadd-eec8-44ba-82e4-6078bb373bc8"
      },
      "source": [
        "#List Comprehension - shortcut for creating a list using for loops\n",
        "\n",
        "fruits = [\"kiwi\",\"apple\",\"mango\",\"strawberry\",\"cherry\",\"watermelon\"]\n",
        "\n",
        "fruits_lengthy = [f for f in fruits if(len(f)>5)]\n",
        "#[if_statement for_loop if_condition_within_for_loop]\n",
        "\n",
        "print(fruits_lengthy)"
      ],
      "execution_count": null,
      "outputs": [
        {
          "output_type": "stream",
          "text": [
            "['strawberry', 'cherry', 'watermelon']\n"
          ],
          "name": "stdout"
        }
      ]
    },
    {
      "cell_type": "code",
      "metadata": {
        "colab": {
          "base_uri": "https://localhost:8080/"
        },
        "id": "QTGdglM2oQU0",
        "outputId": "8888a20b-c7a6-4442-f76a-9989c8e55409"
      },
      "source": [
        "range_loop = [i for i in range(1,11)]\n",
        "print(range_loop)"
      ],
      "execution_count": null,
      "outputs": [
        {
          "output_type": "stream",
          "text": [
            "[1, 2, 3, 4, 5, 6, 7, 8, 9, 10]\n"
          ],
          "name": "stdout"
        }
      ]
    },
    {
      "cell_type": "code",
      "metadata": {
        "colab": {
          "base_uri": "https://localhost:8080/"
        },
        "id": "OMsfber0oxRB",
        "outputId": "521805e2-afc3-476a-b33b-58ea9fba61e5"
      },
      "source": [
        "fruits = [\"kiwi\",\"apple\",\"mango\",\"strawberry\",\"cherry\",\"watermelon\"]\n",
        "\n",
        "#If a fruit ends with o, add es. otherwise add s.\n",
        "\n",
        "#[if_statement if_condition else else_statement for_loop]\n",
        "fruits_plural = [f+\"es\" if f.endswith('o') else f+\"s\" for f in fruits]\n",
        "\n",
        "print(fruits_plural)\n",
        "\n",
        "'''\n",
        "  Same as:\n",
        "  for f in fruits:\n",
        "    if f.endswith('o'):\n",
        "        fruits_plural.append(f+\"es\")\n",
        "    else:\n",
        "        fruits_plural.append(f+\"s\")\n",
        "\n",
        "'''"
      ],
      "execution_count": null,
      "outputs": [
        {
          "output_type": "stream",
          "text": [
            "['kiwis', 'apples', 'mangoes', 'strawberrys', 'cherrys', 'watermelons']\n"
          ],
          "name": "stdout"
        }
      ]
    },
    {
      "cell_type": "code",
      "metadata": {
        "colab": {
          "base_uri": "https://localhost:8080/"
        },
        "id": "WtRG_FyVqT57",
        "outputId": "c9f7f0aa-8461-4f1f-8f95-9d69eb009ab0"
      },
      "source": [
        "fruits = [\"kiwi\",\"apple\",\"mango\",\"strawberry\",\"cherry\",\"watermelon\"]\n",
        "\n",
        "#[if_statement if_condition else statement if_condition else else_statement for_loop]\n",
        "fruits_plural = [f+\"es\" if f.endswith('o') else f[0:-1]+\"ies\" if f.endswith('y') else f+\"s\" for f in fruits]\n",
        "\n",
        "\n",
        "'''\n",
        "for f in fruits:\n",
        "    if f.endswith('o'):\n",
        "        fruits_plural.append(f+\"es\")\n",
        "    elif f.endswith('y'):\n",
        "        fruits_plural.append(f[0:-1]+\"ies\")\n",
        "    else:\n",
        "        fruits_plural.append(f+\"s\")\n",
        "'''\n",
        "\n",
        "print(fruits_plural)\n"
      ],
      "execution_count": null,
      "outputs": [
        {
          "output_type": "stream",
          "text": [
            "['kiwis', 'apples', 'mangoes', 'strawberries', 'cherries', 'watermelons']\n"
          ],
          "name": "stdout"
        }
      ]
    },
    {
      "cell_type": "code",
      "metadata": {
        "colab": {
          "base_uri": "https://localhost:8080/"
        },
        "id": "uRYrQnOotFUB",
        "outputId": "6128914c-c148-4a23-e058-76a60c232108"
      },
      "source": [
        "#Lambda FUnctions - Anonymous Function\n",
        "\n",
        "fun = lambda a : a**2\n",
        "\n",
        "print(fun(5))"
      ],
      "execution_count": null,
      "outputs": [
        {
          "output_type": "stream",
          "text": [
            "25\n"
          ],
          "name": "stdout"
        }
      ]
    },
    {
      "cell_type": "code",
      "metadata": {
        "colab": {
          "base_uri": "https://localhost:8080/"
        },
        "id": "TdWbVEPxtjNS",
        "outputId": "d0f4514a-8d02-44eb-f35c-9b008f5ebbdd"
      },
      "source": [
        "#Lambda FUnctions - Anonymous Function\n",
        "\n",
        "fun = lambda a,b : a*b\n",
        "\n",
        "print(fun(5,10))"
      ],
      "execution_count": null,
      "outputs": [
        {
          "output_type": "stream",
          "text": [
            "50\n"
          ],
          "name": "stdout"
        }
      ]
    },
    {
      "cell_type": "markdown",
      "metadata": {
        "id": "-dl0QalWt_-K"
      },
      "source": [
        "Marks given 0 - 100\n",
        "0 to 34, fail\n",
        "35 - 59, B Grade\n",
        "60 - 89, A Grade\n",
        "90 - 100, Outstanding\n",
        "\n",
        "Input:\n",
        "4\n",
        "[10,55,89,95]\n",
        "Output: [\"Fail\",\"B Grade\",\"A Grade\",\"Outstanding\"]\n",
        "\n",
        "Only using List Comprehension"
      ]
    },
    {
      "cell_type": "code",
      "metadata": {
        "colab": {
          "base_uri": "https://localhost:8080/"
        },
        "id": "1TL4wGPX5RL8",
        "outputId": "c780c847-3106-43c3-86a6-347cd807fd4c"
      },
      "source": [
        "del a,b\n",
        "def fun(a,b):\n",
        "    print(a+b)\n",
        "\n",
        "a = 5\n",
        "b = 10\n",
        "fun(a,b)"
      ],
      "execution_count": null,
      "outputs": [
        {
          "output_type": "stream",
          "text": [
            "15\n"
          ],
          "name": "stdout"
        }
      ]
    },
    {
      "cell_type": "code",
      "metadata": {
        "colab": {
          "base_uri": "https://localhost:8080/"
        },
        "id": "F0xgA1ql5i6E",
        "outputId": "44dddcb3-53c6-4b77-b937-54dbd4b2d035"
      },
      "source": [
        "del a,b\n",
        "\n",
        "def fun():\n",
        "    print(a+b)\n",
        "\n",
        "a = 5 #global by default\n",
        "b = 10\n",
        "fun()"
      ],
      "execution_count": null,
      "outputs": [
        {
          "output_type": "stream",
          "text": [
            "15\n"
          ],
          "name": "stdout"
        }
      ]
    },
    {
      "cell_type": "code",
      "metadata": {
        "colab": {
          "base_uri": "https://localhost:8080/"
        },
        "id": "105luNmM6GoE",
        "outputId": "b4aa3045-d217-43b6-9c45-73e289af6768"
      },
      "source": [
        "del a,b\n",
        "\n",
        "a = 5 #global by default\n",
        "b = 10\n",
        "\n",
        "def fun():\n",
        "    print(a+b)\n",
        "\n",
        "fun()"
      ],
      "execution_count": null,
      "outputs": [
        {
          "output_type": "stream",
          "text": [
            "15\n"
          ],
          "name": "stdout"
        }
      ]
    },
    {
      "cell_type": "code",
      "metadata": {
        "colab": {
          "base_uri": "https://localhost:8080/",
          "height": 353
        },
        "id": "h9xUd_gg6XK7",
        "outputId": "5afc7a6d-50fc-4d80-b03d-cc5b0a0e63d8"
      },
      "source": [
        "del a,b\n",
        "\n",
        "def fun():\n",
        "    print(a+b)\n",
        "\n",
        "fun()\n",
        "\n",
        "a = 5 #global by default\n",
        "b = 10"
      ],
      "execution_count": null,
      "outputs": [
        {
          "output_type": "error",
          "ename": "NameError",
          "evalue": "ignored",
          "traceback": [
            "\u001b[0;31m---------------------------------------------------------------------------\u001b[0m",
            "\u001b[0;31mNameError\u001b[0m                                 Traceback (most recent call last)",
            "\u001b[0;32m<ipython-input-11-2fca669d8198>\u001b[0m in \u001b[0;36m<module>\u001b[0;34m()\u001b[0m\n\u001b[1;32m      4\u001b[0m     \u001b[0mprint\u001b[0m\u001b[0;34m(\u001b[0m\u001b[0ma\u001b[0m\u001b[0;34m+\u001b[0m\u001b[0mb\u001b[0m\u001b[0;34m)\u001b[0m\u001b[0;34m\u001b[0m\u001b[0;34m\u001b[0m\u001b[0m\n\u001b[1;32m      5\u001b[0m \u001b[0;34m\u001b[0m\u001b[0m\n\u001b[0;32m----> 6\u001b[0;31m \u001b[0mfun\u001b[0m\u001b[0;34m(\u001b[0m\u001b[0;34m)\u001b[0m\u001b[0;34m\u001b[0m\u001b[0;34m\u001b[0m\u001b[0m\n\u001b[0m\u001b[1;32m      7\u001b[0m \u001b[0;34m\u001b[0m\u001b[0m\n\u001b[1;32m      8\u001b[0m \u001b[0ma\u001b[0m \u001b[0;34m=\u001b[0m \u001b[0;36m5\u001b[0m \u001b[0;31m#global by default\u001b[0m\u001b[0;34m\u001b[0m\u001b[0;34m\u001b[0m\u001b[0m\n",
            "\u001b[0;32m<ipython-input-11-2fca669d8198>\u001b[0m in \u001b[0;36mfun\u001b[0;34m()\u001b[0m\n\u001b[1;32m      2\u001b[0m \u001b[0;34m\u001b[0m\u001b[0m\n\u001b[1;32m      3\u001b[0m \u001b[0;32mdef\u001b[0m \u001b[0mfun\u001b[0m\u001b[0;34m(\u001b[0m\u001b[0;34m)\u001b[0m\u001b[0;34m:\u001b[0m\u001b[0;34m\u001b[0m\u001b[0;34m\u001b[0m\u001b[0m\n\u001b[0;32m----> 4\u001b[0;31m     \u001b[0mprint\u001b[0m\u001b[0;34m(\u001b[0m\u001b[0ma\u001b[0m\u001b[0;34m+\u001b[0m\u001b[0mb\u001b[0m\u001b[0;34m)\u001b[0m\u001b[0;34m\u001b[0m\u001b[0;34m\u001b[0m\u001b[0m\n\u001b[0m\u001b[1;32m      5\u001b[0m \u001b[0;34m\u001b[0m\u001b[0m\n\u001b[1;32m      6\u001b[0m \u001b[0mfun\u001b[0m\u001b[0;34m(\u001b[0m\u001b[0;34m)\u001b[0m\u001b[0;34m\u001b[0m\u001b[0;34m\u001b[0m\u001b[0m\n",
            "\u001b[0;31mNameError\u001b[0m: name 'a' is not defined"
          ]
        }
      ]
    },
    {
      "cell_type": "code",
      "metadata": {
        "colab": {
          "base_uri": "https://localhost:8080/",
          "height": 233
        },
        "id": "DAchTv8U6oLL",
        "outputId": "a371b3ee-8110-4141-d2c2-5e92f13330ea"
      },
      "source": [
        "del a,b\n",
        "def fun():\n",
        "    a = 5 #global by default\n",
        "    b = 10\n",
        "\n",
        "fun()\n",
        "print(a+b)"
      ],
      "execution_count": null,
      "outputs": [
        {
          "output_type": "error",
          "ename": "NameError",
          "evalue": "ignored",
          "traceback": [
            "\u001b[0;31m---------------------------------------------------------------------------\u001b[0m",
            "\u001b[0;31mNameError\u001b[0m                                 Traceback (most recent call last)",
            "\u001b[0;32m<ipython-input-13-10cb167534bc>\u001b[0m in \u001b[0;36m<module>\u001b[0;34m()\u001b[0m\n\u001b[0;32m----> 1\u001b[0;31m \u001b[0;32mdel\u001b[0m \u001b[0ma\u001b[0m\u001b[0;34m,\u001b[0m\u001b[0mb\u001b[0m\u001b[0;34m\u001b[0m\u001b[0;34m\u001b[0m\u001b[0m\n\u001b[0m\u001b[1;32m      2\u001b[0m \u001b[0;32mdef\u001b[0m \u001b[0mfun\u001b[0m\u001b[0;34m(\u001b[0m\u001b[0;34m)\u001b[0m\u001b[0;34m:\u001b[0m\u001b[0;34m\u001b[0m\u001b[0;34m\u001b[0m\u001b[0m\n\u001b[1;32m      3\u001b[0m     \u001b[0ma\u001b[0m \u001b[0;34m=\u001b[0m \u001b[0;36m5\u001b[0m \u001b[0;31m#global by default\u001b[0m\u001b[0;34m\u001b[0m\u001b[0;34m\u001b[0m\u001b[0m\n\u001b[1;32m      4\u001b[0m     \u001b[0mb\u001b[0m \u001b[0;34m=\u001b[0m \u001b[0;36m10\u001b[0m\u001b[0;34m\u001b[0m\u001b[0;34m\u001b[0m\u001b[0m\n\u001b[1;32m      5\u001b[0m \u001b[0;34m\u001b[0m\u001b[0m\n",
            "\u001b[0;31mNameError\u001b[0m: name 'a' is not defined"
          ]
        }
      ]
    },
    {
      "cell_type": "code",
      "metadata": {
        "colab": {
          "base_uri": "https://localhost:8080/"
        },
        "id": "FeoElYlp7eBm",
        "outputId": "1da23b85-8fff-4bff-d241-c2cd9d112910"
      },
      "source": [
        "a = 10\n",
        "\n",
        "def fun():\n",
        "    global a\n",
        "    a = a*2\n",
        "    print(a)\n",
        "\n",
        "fun()\n",
        "print(a)"
      ],
      "execution_count": null,
      "outputs": [
        {
          "output_type": "stream",
          "text": [
            "20\n",
            "20\n"
          ],
          "name": "stdout"
        }
      ]
    },
    {
      "cell_type": "code",
      "metadata": {
        "colab": {
          "base_uri": "https://localhost:8080/"
        },
        "id": "K01Efl8-70Ob",
        "outputId": "c226f031-e774-429f-b1ad-48091f3527f0"
      },
      "source": [
        "a = 10\n",
        "\n",
        "def fun():\n",
        "    a = 10\n",
        "    a = a*2\n",
        "    print(a)\n",
        "\n",
        "fun()\n",
        "print(a)"
      ],
      "execution_count": null,
      "outputs": [
        {
          "output_type": "stream",
          "text": [
            "20\n",
            "10\n"
          ],
          "name": "stdout"
        }
      ]
    },
    {
      "cell_type": "code",
      "metadata": {
        "colab": {
          "base_uri": "https://localhost:8080/"
        },
        "id": "dRRxI8b18ljc",
        "outputId": "3a9ffb56-f8f4-4ca3-e2e1-ab729d60a523"
      },
      "source": [
        "file_handle = open(\"/content/Text_File.txt\")\n",
        "result = file_handle.readlines()\n",
        "file_handle.close()\n",
        "\n",
        "print(result)"
      ],
      "execution_count": null,
      "outputs": [
        {
          "output_type": "stream",
          "text": [
            "['sdf\\n', 'esd\\n', 'fgt\\n', 'rebhv\\n', 'fg\\n', 'ht\\n', 'gbfd\\n', 'gh\\n', 'dsggthy\\n', 'tghb\\n', 'dfrty\\n', 'hfd\\n', 'ghtdrt5\\n']\n"
          ],
          "name": "stdout"
        }
      ]
    },
    {
      "cell_type": "code",
      "metadata": {
        "colab": {
          "base_uri": "https://localhost:8080/"
        },
        "id": "JnzOskbr_n03",
        "outputId": "ab61b8c8-7230-452c-a6a3-d071e6e917a2"
      },
      "source": [
        "file_handle = open(\"/content/Text_File.txt\")\n",
        "\n",
        "result = file_handle.readline()\n",
        "file_handle.close()\n",
        "\n",
        "print(result)"
      ],
      "execution_count": null,
      "outputs": [
        {
          "output_type": "stream",
          "text": [
            "sdf\n",
            "\n"
          ],
          "name": "stdout"
        }
      ]
    },
    {
      "cell_type": "code",
      "metadata": {
        "colab": {
          "base_uri": "https://localhost:8080/"
        },
        "id": "MnU2ox-IACJ7",
        "outputId": "3768d002-23b0-40ec-8707-38b73a9f184d"
      },
      "source": [
        "file_handle = open(\"/content/Write_File.txt\",\"w\")\n",
        "\n",
        "file_handle.write(\"Hello World\")\n",
        "\n",
        "file_handle.close()\n",
        "\n",
        "file_handle = open(\"/content/Write_File.txt\")\n",
        "print(file_handle.readlines())\n",
        "file_handle.close()\n",
        "\n"
      ],
      "execution_count": null,
      "outputs": [
        {
          "output_type": "stream",
          "text": [
            "['Hello World']\n"
          ],
          "name": "stdout"
        }
      ]
    },
    {
      "cell_type": "markdown",
      "metadata": {
        "id": "EisrWpRTEHak"
      },
      "source": [
        "Exceptions are runtime errors which are unchecked by the compiler / interpreter.\n",
        "\n",
        "It is our job as developers to handle these exceptions."
      ]
    },
    {
      "cell_type": "code",
      "metadata": {
        "colab": {
          "base_uri": "https://localhost:8080/",
          "height": 233
        },
        "id": "VKcmLltLBz1I",
        "outputId": "b5e9e583-52a6-4014-c30e-054b4617b329"
      },
      "source": [
        "file_handle = open(\"/content/NEW_FILE.txt\")\n",
        "print(file_handle.readlines())\n",
        "file_handle.close()\n",
        "\n",
        "print(\"End of Program. Thank you for using our program\")"
      ],
      "execution_count": null,
      "outputs": [
        {
          "output_type": "error",
          "ename": "FileNotFoundError",
          "evalue": "ignored",
          "traceback": [
            "\u001b[0;31m---------------------------------------------------------------------------\u001b[0m",
            "\u001b[0;31mFileNotFoundError\u001b[0m                         Traceback (most recent call last)",
            "\u001b[0;32m<ipython-input-34-dee3683d60a5>\u001b[0m in \u001b[0;36m<module>\u001b[0;34m()\u001b[0m\n\u001b[0;32m----> 1\u001b[0;31m \u001b[0mfile_handle\u001b[0m \u001b[0;34m=\u001b[0m \u001b[0mopen\u001b[0m\u001b[0;34m(\u001b[0m\u001b[0;34m\"/content/NEW_FILE.txt\"\u001b[0m\u001b[0;34m)\u001b[0m\u001b[0;34m\u001b[0m\u001b[0;34m\u001b[0m\u001b[0m\n\u001b[0m\u001b[1;32m      2\u001b[0m \u001b[0mprint\u001b[0m\u001b[0;34m(\u001b[0m\u001b[0mfile_handle\u001b[0m\u001b[0;34m.\u001b[0m\u001b[0mreadlines\u001b[0m\u001b[0;34m(\u001b[0m\u001b[0;34m)\u001b[0m\u001b[0;34m)\u001b[0m\u001b[0;34m\u001b[0m\u001b[0;34m\u001b[0m\u001b[0m\n\u001b[1;32m      3\u001b[0m \u001b[0mfile_handle\u001b[0m\u001b[0;34m.\u001b[0m\u001b[0mclose\u001b[0m\u001b[0;34m(\u001b[0m\u001b[0;34m)\u001b[0m\u001b[0;34m\u001b[0m\u001b[0;34m\u001b[0m\u001b[0m\n\u001b[1;32m      4\u001b[0m \u001b[0;34m\u001b[0m\u001b[0m\n\u001b[1;32m      5\u001b[0m \u001b[0mprint\u001b[0m\u001b[0;34m(\u001b[0m\u001b[0;34m\"End of Program. Thank you for using our program\"\u001b[0m\u001b[0;34m)\u001b[0m\u001b[0;34m\u001b[0m\u001b[0;34m\u001b[0m\u001b[0m\n",
            "\u001b[0;31mFileNotFoundError\u001b[0m: [Errno 2] No such file or directory: '/content/NEW_FILE.txt'"
          ]
        }
      ]
    },
    {
      "cell_type": "code",
      "metadata": {
        "colab": {
          "base_uri": "https://localhost:8080/"
        },
        "id": "M9QbhfhxE4NF",
        "outputId": "e4d1067e-89ba-45ae-95bc-2ee182788c39"
      },
      "source": [
        "try:\n",
        "    file_handle = open(\"/content/Write_File.txt\")\n",
        "    print(file_handle.readlines())\n",
        "    file_handle.close()\n",
        "except:\n",
        "    print(\"Oops! File doesn't exist. Please try again\")\n",
        "\n",
        "print(\"End of Program. Thank you for using our program\")"
      ],
      "execution_count": null,
      "outputs": [
        {
          "output_type": "stream",
          "text": [
            "['Hello World']\n",
            "End of Program. Thank you for using our program\n"
          ],
          "name": "stdout"
        }
      ]
    },
    {
      "cell_type": "code",
      "metadata": {
        "colab": {
          "base_uri": "https://localhost:8080/"
        },
        "id": "l-oFqGTOFkHb",
        "outputId": "bca6ca8e-21fe-4a68-8380-f594e21a5d7d"
      },
      "source": [
        "try:\n",
        "    file_handle = open(\"/content/Write_Files.txt\")\n",
        "    print(file_handle.readlines())\n",
        "    file_handle.close()\n",
        "except:\n",
        "    print(\"Oops! File doesn't exist. Please try again\")\n",
        "\n",
        "print(\"End of Program. Thank you for using our program\")"
      ],
      "execution_count": null,
      "outputs": [
        {
          "output_type": "stream",
          "text": [
            "Oops! File doesn't exist. Please try again\n",
            "End of Program. Thank you for using our program\n"
          ],
          "name": "stdout"
        }
      ]
    },
    {
      "cell_type": "markdown",
      "metadata": {
        "id": "zGEmfT7iGmhT"
      },
      "source": [
        "https://docs.python.org/3/library/exceptions.html"
      ]
    },
    {
      "cell_type": "code",
      "metadata": {
        "colab": {
          "base_uri": "https://localhost:8080/"
        },
        "id": "qxxSi2tjGeoL",
        "outputId": "4c1cddfd-1dbf-4e08-d02c-fb556e29a44c"
      },
      "source": [
        "import sys\n",
        "try:\n",
        "    a = int(input())\n",
        "    b = int(input())\n",
        "    print(a/b)\n",
        "except:\n",
        "    print(\"Do not divide by 0\")\n",
        "    print(sys.exc_info()[0])\n",
        "print(\"End of the Program\")"
      ],
      "execution_count": null,
      "outputs": [
        {
          "output_type": "stream",
          "text": [
            "10\n",
            "0\n",
            "Do not divide by 0\n",
            "<class 'ZeroDivisionError'>\n",
            "End of the Program\n"
          ],
          "name": "stdout"
        }
      ]
    },
    {
      "cell_type": "code",
      "metadata": {
        "colab": {
          "base_uri": "https://localhost:8080/"
        },
        "id": "RjQ1ah1ZHYFb",
        "outputId": "3c13bee9-8ade-43e4-d8ff-8a08e81d65b7"
      },
      "source": [
        "import sys\n",
        "try:\n",
        "    a = int(input())\n",
        "    b = int(input())\n",
        "    print(a/b)\n",
        "except ValueError:\n",
        "    print(\"Enter a proper integer number\")\n",
        "    print(sys.exc_info()[0])\n",
        "except ZeroDivisionError:\n",
        "    print(\"Do not divide by 0\")\n",
        "    print(sys.exc_info()[0])\n",
        "print(\"End of the Program\")"
      ],
      "execution_count": null,
      "outputs": [
        {
          "output_type": "stream",
          "text": [
            "10\n",
            "0\n",
            "Do not divide by 0\n",
            "<class 'ZeroDivisionError'>\n",
            "End of the Program\n"
          ],
          "name": "stdout"
        }
      ]
    },
    {
      "cell_type": "code",
      "metadata": {
        "colab": {
          "base_uri": "https://localhost:8080/"
        },
        "id": "DgRM-AB6IUpO",
        "outputId": "b99a0f45-b00a-4b44-9e64-843fc554a91c"
      },
      "source": [
        "import sys\n",
        "while(True):\n",
        "      try:\n",
        "          a = int(input(\"Enter value of a > \")) #ValueError\n",
        "          b = int(input(\"Enter value of b > \")) #ValueError\n",
        "          print(a/b) #ZeroDivisionError\n",
        "          break\n",
        "      except ValueError:\n",
        "          print(\"Enter a proper integer number\")\n",
        "          print(sys.ex0c_info()[0])\n",
        "      except ZeroDivisionError:\n",
        "          print(\"Do not divide by 0\")\n",
        "          print(sys.exc_info()[0])\n",
        "print(\"End of the Program\")"
      ],
      "execution_count": null,
      "outputs": [
        {
          "output_type": "stream",
          "text": [
            "Enter value of a > abcde\n",
            "Enter a proper integer number\n",
            "<class 'ValueError'>\n",
            "Enter value of a > 10\n",
            "Enter value of b > abcde\n",
            "Enter a proper integer number\n",
            "<class 'ValueError'>\n",
            "Enter value of a > 10\n",
            "Enter value of b > 0\n",
            "Do not divide by 0\n",
            "<class 'ZeroDivisionError'>\n",
            "Enter value of a > 10\n",
            "Enter value of b > 5\n",
            "2.0\n",
            "End of the Program\n"
          ],
          "name": "stdout"
        }
      ]
    },
    {
      "cell_type": "code",
      "metadata": {
        "id": "oObY7ktBJ9FS"
      },
      "source": [
        "import sys\n",
        "while(True):\n",
        "      try:\n",
        "          file_handle = open(\"/content/Write_Files.txt\")\n",
        "          a = int(input(\"Enter value of a > \")) #ValueError\n",
        "          b = int(input(\"Enter value of b > \")) #ValueError\n",
        "          print(a/b) #ZeroDivisionError\n",
        "          break\n",
        "      except ValueError:\n",
        "          print(\"Enter a proper integer number\")\n",
        "          print(sys.ex0c_info()[0])\n",
        "      except ZeroDivisionError:\n",
        "          print(\"Do not divide by 0\")\n",
        "          print(sys.exc_info()[0])\n",
        "      finally: #executes all times (Whether exception occurs or not)\n",
        "          file_handle.close()\n",
        "print(\"End of the Program\")"
      ],
      "execution_count": null,
      "outputs": []
    },
    {
      "cell_type": "markdown",
      "metadata": {
        "id": "U9I2SPN98-Fw"
      },
      "source": [
        "#Classes and Objects"
      ]
    },
    {
      "cell_type": "markdown",
      "metadata": {
        "id": "6nz-V07sK8H7"
      },
      "source": [
        "Class is a blueprint which has attributes and methods. There is no memory allocation for attributes of a class alone.\n",
        "\n",
        "Attributes: variables\n",
        "Methods: Functions\n",
        "\n",
        "Objects are instances of class to whom memory is allocated for attributes."
      ]
    },
    {
      "cell_type": "code",
      "metadata": {
        "colab": {
          "base_uri": "https://localhost:8080/"
        },
        "id": "UYCwm5fFJ3YN",
        "outputId": "2caa1195-5f14-4d21-b07e-70addb2b01cd"
      },
      "source": [
        "class EnemyCharacters:\n",
        "    health = 100 #attributes\n",
        "    ammo = 50\n",
        "    def hide(self): #methods\n",
        "        print(\"Do hiding\")\n",
        "    def shoot(self):\n",
        "        print(\"Do shooting\")\n",
        "    def reload(self):\n",
        "        print(\"Do reload\")\n",
        "    def printDetails(self):\n",
        "        print(\"Health:\",self.health)\n",
        "        print(\"Ammo:\",self.ammo)\n",
        "\n",
        "boss = EnemyCharacters()\n",
        "henchman = EnemyCharacters()\n",
        "boss.health = 5000\n",
        "boss.ammo = 5000\n",
        "henchman.health = 10\n",
        "boss.printDetails();\n",
        "henchman.printDetails();"
      ],
      "execution_count": null,
      "outputs": [
        {
          "output_type": "stream",
          "text": [
            "Health: 5000\n",
            "Ammo: 5000\n",
            "Health: 10\n",
            "Ammo: 50\n"
          ],
          "name": "stdout"
        }
      ]
    },
    {
      "cell_type": "code",
      "metadata": {
        "colab": {
          "base_uri": "https://localhost:8080/"
        },
        "id": "PEtR-YHuDHW7",
        "outputId": "74a5e431-bc61-497d-d76e-1cb1ebfc85a1"
      },
      "source": [
        "class EnemyCharacters:\n",
        "    health = 100 #attributes\n",
        "    ammo = 50\n",
        "    def hide(self): #methods\n",
        "        print(\"Do hiding\")\n",
        "    def shoot(self):\n",
        "        print(\"Do shooting\")\n",
        "    def reload(self):\n",
        "        print(\"Do reload\")\n",
        "    def printDetails(self):\n",
        "        print(\"Health:\",self.health)\n",
        "        print(\"Ammo:\",self.ammo)\n",
        "\n",
        "class FlyingEnemy(EnemyCharacters):\n",
        "    def fly(self):\n",
        "        print(\"Do Flying\")\n",
        "\n",
        "class SwimmingEnemy(EnemyCharacters):\n",
        "    def swim(self):\n",
        "        print(\"Do swimming\")\n",
        "\n",
        "f = FlyingEnemy()\n",
        "s = SwimmingEnemy()\n",
        "f.fly()\n",
        "f.printDetails()\n",
        "s.swim()\n",
        "s.printDetails()"
      ],
      "execution_count": null,
      "outputs": [
        {
          "output_type": "stream",
          "text": [
            "Do Flying\n",
            "Health: 100\n",
            "Ammo: 50\n",
            "Do swimming\n",
            "Health: 100\n",
            "Ammo: 50\n"
          ],
          "name": "stdout"
        }
      ]
    },
    {
      "cell_type": "code",
      "metadata": {
        "colab": {
          "base_uri": "https://localhost:8080/",
          "height": 235
        },
        "id": "EQa7YUFMFO3q",
        "outputId": "9f1bd447-6cf3-40c7-a963-69ce22332e16"
      },
      "source": [
        "#__init__ -> Constructor (Executes the moment an object is created)\\\n",
        "\n",
        "class EnemyCharacters:\n",
        "    health = 100 #attributes\n",
        "    ammo = 50\n",
        "    def hide(self): #methods\n",
        "        print(\"Do hiding\")\n",
        "    def shoot(self):\n",
        "        print(\"Do shooting\")\n",
        "    def reload(self):\n",
        "        print(\"Do reload\")\n",
        "    def printDetails(self):\n",
        "        print(\"Health:\",self.health)\n",
        "        print(\"Ammo:\",self.ammo)\n",
        "\n",
        "class FlyingEnemy(EnemyCharacters):\n",
        "    def __init__(self):\n",
        "        print(\"Assign Object of Flying Weapon\")\n",
        "    def __init__(self,a):\n",
        "        print(\"Assign Object of Flying Weapon\")\n",
        "    def fly(self):\n",
        "        print(\"Do Flying\")\n",
        "\n",
        "class SwimmingEnemy(EnemyCharacters):\n",
        "    def __init__(self):\n",
        "        print(\"Assign Object of Swimming Weapon\")\n",
        "    def swim(self):\n",
        "        print(\"Do swimming\")\n",
        "\n",
        "f = FlyingEnemy()\n",
        "s = SwimmingEnemy()"
      ],
      "execution_count": null,
      "outputs": [
        {
          "output_type": "error",
          "ename": "TypeError",
          "evalue": "ignored",
          "traceback": [
            "\u001b[0;31m---------------------------------------------------------------------------\u001b[0m",
            "\u001b[0;31mTypeError\u001b[0m                                 Traceback (most recent call last)",
            "\u001b[0;32m<ipython-input-7-8c70f98ae35c>\u001b[0m in \u001b[0;36m<module>\u001b[0;34m()\u001b[0m\n\u001b[1;32m     28\u001b[0m         \u001b[0mprint\u001b[0m\u001b[0;34m(\u001b[0m\u001b[0;34m\"Do swimming\"\u001b[0m\u001b[0;34m)\u001b[0m\u001b[0;34m\u001b[0m\u001b[0;34m\u001b[0m\u001b[0m\n\u001b[1;32m     29\u001b[0m \u001b[0;34m\u001b[0m\u001b[0m\n\u001b[0;32m---> 30\u001b[0;31m \u001b[0mf\u001b[0m \u001b[0;34m=\u001b[0m \u001b[0mFlyingEnemy\u001b[0m\u001b[0;34m(\u001b[0m\u001b[0;34m)\u001b[0m\u001b[0;34m\u001b[0m\u001b[0;34m\u001b[0m\u001b[0m\n\u001b[0m\u001b[1;32m     31\u001b[0m \u001b[0mf\u001b[0m \u001b[0;34m=\u001b[0m \u001b[0mFlyingEnemy\u001b[0m\u001b[0;34m(\u001b[0m\u001b[0;36m10\u001b[0m\u001b[0;34m)\u001b[0m\u001b[0;34m\u001b[0m\u001b[0;34m\u001b[0m\u001b[0m\n\u001b[1;32m     32\u001b[0m \u001b[0ms\u001b[0m \u001b[0;34m=\u001b[0m \u001b[0mSwimmingEnemy\u001b[0m\u001b[0;34m(\u001b[0m\u001b[0;34m)\u001b[0m\u001b[0;34m\u001b[0m\u001b[0;34m\u001b[0m\u001b[0m\n",
            "\u001b[0;31mTypeError\u001b[0m: __init__() missing 1 required positional argument: 'a'"
          ]
        }
      ]
    },
    {
      "cell_type": "code",
      "metadata": {
        "colab": {
          "base_uri": "https://localhost:8080/"
        },
        "id": "bGjGNwDPHwDL",
        "outputId": "4bfcdf7e-b0e9-443b-c2c6-e7918a37cd3f"
      },
      "source": [
        "class A:\n",
        "    def funA(self):\n",
        "        print(\"IN FUN A\")\n",
        "\n",
        "class B:\n",
        "    def funB(self):\n",
        "        print(\"IN FUN B\")\n",
        "\n",
        "class C(A,B):\n",
        "    pass\n",
        "\n",
        "c_object = C()\n",
        "c_object.funA()\n",
        "c_object.funB()"
      ],
      "execution_count": null,
      "outputs": [
        {
          "output_type": "stream",
          "text": [
            "IN FUN A\n",
            "IN FUN B\n"
          ],
          "name": "stdout"
        }
      ]
    },
    {
      "cell_type": "code",
      "metadata": {
        "colab": {
          "base_uri": "https://localhost:8080/"
        },
        "id": "-x4fhpMvKB16",
        "outputId": "e4cf4327-d9f4-4e51-9044-6facbc927da5"
      },
      "source": [
        "class A:\n",
        "    def fun(self):\n",
        "        print(\"IN FUN A\")\n",
        "class B:\n",
        "    def fun(self):\n",
        "        print(\"IN FUN B\")\n",
        "class C(A,B):\n",
        "    pass\n",
        "c_object = C()\n",
        "c_object.fun()\n",
        "c_object.fun()"
      ],
      "execution_count": null,
      "outputs": [
        {
          "output_type": "stream",
          "text": [
            "IN FUN A\n",
            "IN FUN A\n"
          ],
          "name": "stdout"
        }
      ]
    },
    {
      "cell_type": "code",
      "metadata": {
        "colab": {
          "base_uri": "https://localhost:8080/"
        },
        "id": "X4Kub1DNKXXZ",
        "outputId": "6fe3b71a-e0ad-4429-ba78-bb1ed79c1637"
      },
      "source": [
        "class A:\n",
        "    def fun(self):\n",
        "        print(\"IN FUN A\")\n",
        "class B:\n",
        "    def fun(self):\n",
        "        print(\"IN FUN B\")\n",
        "class C(B,A):\n",
        "    pass\n",
        "c_object = C()\n",
        "c_object.fun()\n",
        "c_object.fun()"
      ],
      "execution_count": null,
      "outputs": [
        {
          "output_type": "stream",
          "text": [
            "IN FUN B\n",
            "IN FUN B\n"
          ],
          "name": "stdout"
        }
      ]
    }
  ]
}