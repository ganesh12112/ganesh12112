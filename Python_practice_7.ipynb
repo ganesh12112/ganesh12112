{
  "nbformat": 4,
  "nbformat_minor": 0,
  "metadata": {
    "colab": {
      "provenance": [],
      "authorship_tag": "ABX9TyOwpqXdbd+9OyPxVlT1cwlF",
      "include_colab_link": true
    },
    "kernelspec": {
      "name": "python3",
      "display_name": "Python 3"
    },
    "language_info": {
      "name": "python"
    }
  },
  "cells": [
    {
      "cell_type": "markdown",
      "metadata": {
        "id": "view-in-github",
        "colab_type": "text"
      },
      "source": [
        "<a href=\"https://colab.research.google.com/github/ganesh12112/ganesh12112/blob/main/Python_practice_7.ipynb\" target=\"_parent\"><img src=\"https://colab.research.google.com/assets/colab-badge.svg\" alt=\"Open In Colab\"/></a>"
      ]
    },
    {
      "cell_type": "markdown",
      "source": [
        "A RegEx is a powerful tool for matching text, based on a pre-defined pattern. It can detect the presence or absence of a text by matching it with a particular pattern, and also can split a pattern into one or more sub-patterns. The Python standard library provides a re module for regular expressions. Its primary function is to offer a search, where it takes a regular expression and a string. Here, it either returns the first match or else none"
      ],
      "metadata": {
        "id": "nSkmjjJ-KK87"
      }
    },
    {
      "cell_type": "code",
      "execution_count": 8,
      "metadata": {
        "colab": {
          "base_uri": "https://localhost:8080/"
        },
        "id": "3atyCyigJq8o",
        "outputId": "593e7b64-fa10-49f7-a97c-e073793a302b"
      },
      "outputs": [
        {
          "output_type": "stream",
          "name": "stdout",
          "text": [
            "<re.Match object; span=(21, 27), match='portal'>\n",
            "portal\n",
            "Start Index: 21\n",
            "End Index: 27\n"
          ]
        }
      ],
      "source": [
        "#Python RegEX\n",
        "import re\n",
        "\n",
        "match = re.search(r'portal','Ganeshare:A spirtual portal for people')\n",
        "print(match)\n",
        "print(match.group())\n",
        "\n",
        "print('Start Index:',match.start())\n",
        "print('End Index:',match.end())"
      ]
    },
    {
      "cell_type": "code",
      "source": [
        "# meta chracters in RE analogy"
      ],
      "metadata": {
        "id": "2o638VGfM5kP"
      },
      "execution_count": null,
      "outputs": []
    },
    {
      "cell_type": "markdown",
      "source": [
        "Why RegEx?\n",
        "\n",
        "Data Mining: Regular expression is the best tool for data mining. It efficiently identifies a text in a heap of text by checking with a pre-defined pattern. Some common scenarios are identifying an email, URL, or phone from a pile of text.\n",
        "\n",
        "Data Validation: Regular expression can perfectly validate data. It can include a wide array of validation processes by defining different sets of patterns. A few examples are validating phone numbers, emails, etc."
      ],
      "metadata": {
        "id": "pJ3fDJEtOUwW"
      }
    },
    {
      "cell_type": "code",
      "source": [
        "# Basic RegEx\n",
        "# character class\n",
        "# Rangers\n",
        "# Negation\n",
        "# Shortcuts\n",
        "# Beginning and End of string\n",
        "# Any character"
      ],
      "metadata": {
        "id": "eWFlH84jOWAt"
      },
      "execution_count": null,
      "outputs": []
    },
    {
      "cell_type": "markdown",
      "source": [
        "Character classes allow you to match a single set of characters with a possible set of characters. You can mention a character class within the square brackets. Let’s consider an example of case sensitive words."
      ],
      "metadata": {
        "id": "JfQAiWItPsit"
      }
    },
    {
      "cell_type": "code",
      "source": [
        "# character class\n",
        "import re\n",
        "\n",
        "print(re.findall(r'[Cc]howdary','GaneshChowdary:A student of Lpu'))"
      ],
      "metadata": {
        "colab": {
          "base_uri": "https://localhost:8080/"
        },
        "id": "EDvtffOKPfCF",
        "outputId": "6d4f9903-95be-4697-db48-b9b2547c99ae"
      },
      "execution_count": 9,
      "outputs": [
        {
          "output_type": "stream",
          "name": "stdout",
          "text": [
            "['Chowdary']\n"
          ]
        }
      ]
    },
    {
      "cell_type": "markdown",
      "source": [
        "The range provides the flexibility to match a text with the help of a range pattern such as a range of numbers(0 to 9), a range of characters (A to Z), and so on. The hyphen character within the character class represents a range."
      ],
      "metadata": {
        "id": "6yZUHsioQdCL"
      }
    },
    {
      "cell_type": "code",
      "source": [
        "# Ranges\n",
        "import re\n",
        "\n",
        "print('Range',re.search(r'[a-zA-Z]','x'))"
      ],
      "metadata": {
        "colab": {
          "base_uri": "https://localhost:8080/"
        },
        "id": "ngqNnshgQXUw",
        "outputId": "9bd24da3-e070-4be2-e65c-19f2a963028f"
      },
      "execution_count": 10,
      "outputs": [
        {
          "output_type": "stream",
          "name": "stdout",
          "text": [
            "Range <re.Match object; span=(0, 1), match='x'>\n"
          ]
        }
      ]
    },
    {
      "cell_type": "markdown",
      "source": [
        "Negation inverts a character class. It will look for a match except for the inverted character or range of inverted characters mentioned in the character class."
      ],
      "metadata": {
        "id": "ZlpCPM0DRiDM"
      }
    },
    {
      "cell_type": "code",
      "source": [
        "# Negation\n",
        "import re\n",
        "\n",
        "print(re.search(r'[^a-z]','c'))  # what is the meaning of inverted characters?"
      ],
      "metadata": {
        "colab": {
          "base_uri": "https://localhost:8080/"
        },
        "id": "bWAHWr4hRjA9",
        "outputId": "dfce5ced-9164-4e0f-9cad-12f51ae96bbb"
      },
      "execution_count": 11,
      "outputs": [
        {
          "output_type": "stream",
          "name": "stdout",
          "text": [
            "None\n"
          ]
        }
      ]
    },
    {
      "cell_type": "code",
      "source": [
        "# another example\n",
        "import re\n",
        "\n",
        "print(re.search(r'G[^e]','Geeks'))"
      ],
      "metadata": {
        "colab": {
          "base_uri": "https://localhost:8080/"
        },
        "id": "Am6VSyMOSeTz",
        "outputId": "694434f5-513f-461a-cfc6-12f9b9b71cdc"
      },
      "execution_count": 12,
      "outputs": [
        {
          "output_type": "stream",
          "name": "stdout",
          "text": [
            "None\n"
          ]
        }
      ]
    },
    {
      "cell_type": "code",
      "source": [
        "import re\n",
        "\n",
        "print('Ganesh:',re.search(r'\\bGanesh\\b','Ganesh'))\n",
        "print('Ganeshare:',re.search(r'\\bGanesh\\b','Ganeshare'))"
      ],
      "metadata": {
        "colab": {
          "base_uri": "https://localhost:8080/"
        },
        "id": "CSCI52WSVKCP",
        "outputId": "f97d4f1f-fbe6-4243-9ee9-2b994d63286d"
      },
      "execution_count": 15,
      "outputs": [
        {
          "output_type": "stream",
          "name": "stdout",
          "text": [
            "Ganesh: <re.Match object; span=(0, 6), match='Ganesh'>\n",
            "Ganeshare: None\n"
          ]
        }
      ]
    },
    {
      "cell_type": "markdown",
      "source": [
        "The ^ character chooses the beginning of a string and the $ character chooses the end of a string."
      ],
      "metadata": {
        "id": "P5VX-O59gSGJ"
      }
    },
    {
      "cell_type": "code",
      "source": [
        "# Begining and End of string\n",
        "import re\n",
        "\n",
        "# Begining of string\n",
        "match = re.search(r'^Ganesh','Ganesh student of Lpu')\n",
        "print('Beg. of String:',match)\n",
        "\n",
        "match = re.search(r'^friends','valuable friends are always needed')\n",
        "print('Beg. of String:',match)\n",
        "\n",
        "# End of the string\n",
        "match = re.search(r'satisfaction$','end of the day requires satisfaction')\n",
        "print('End of String:',match)"
      ],
      "metadata": {
        "colab": {
          "base_uri": "https://localhost:8080/"
        },
        "id": "g0pAnqqHgJIk",
        "outputId": "d191c709-74f7-464a-b872-073f44644559"
      },
      "execution_count": 17,
      "outputs": [
        {
          "output_type": "stream",
          "name": "stdout",
          "text": [
            "Beg. of String: <re.Match object; span=(0, 6), match='Ganesh'>\n",
            "Beg. of String: None\n",
            "End of String: <re.Match object; span=(24, 36), match='satisfaction'>\n"
          ]
        }
      ]
    },
    {
      "cell_type": "markdown",
      "source": [
        "The . character represents any single character outside a bracketed character class."
      ],
      "metadata": {
        "id": "IrGBiOPBiOSQ"
      }
    },
    {
      "cell_type": "code",
      "source": [
        "# any character\n",
        "import re\n",
        "print('Any character',re.search(r'p.th.n','python 3'))\n",
        "# optional characters\n",
        "# Repetition\n",
        "# Shorthand\n",
        "# Grouping\n",
        "# Lookahead\n",
        "# substitution"
      ],
      "metadata": {
        "colab": {
          "base_uri": "https://localhost:8080/"
        },
        "id": "DIGth0g2iJKh",
        "outputId": "0fb0705a-0bf2-4143-933c-e2e4a0f4d983"
      },
      "execution_count": 19,
      "outputs": [
        {
          "output_type": "stream",
          "name": "stdout",
          "text": [
            "Any character <re.Match object; span=(0, 6), match='python'>\n"
          ]
        }
      ]
    },
    {
      "cell_type": "markdown",
      "source": [
        "Regular expression engine allows you to specify optional characters using the ? character. It allows a character or character class either to present once or else not to occur. Let’s consider the example of a word with an alternative spelling – color or colour."
      ],
      "metadata": {
        "id": "ni4OHr54jaEw"
      }
    },
    {
      "cell_type": "code",
      "source": [
        "# optional characters\n",
        "import re\n",
        "\n",
        "print('color',re.search(r'colou?r', 'color'))\n",
        "print('colour',re.search(r'colou?r','colour'))"
      ],
      "metadata": {
        "colab": {
          "base_uri": "https://localhost:8080/"
        },
        "id": "8gr4cJanjDdJ",
        "outputId": "65fdc9fd-228e-4c38-f4cc-d94c4c223457"
      },
      "execution_count": 20,
      "outputs": [
        {
          "output_type": "stream",
          "name": "stdout",
          "text": [
            "color <re.Match object; span=(0, 5), match='color'>\n",
            "colour <re.Match object; span=(0, 6), match='colour'>\n"
          ]
        }
      ]
    },
    {
      "cell_type": "markdown",
      "source": [
        "Repetition enables you to repeat the same character or character class. Consider an example of a date that consists of day, month, and year. Let’s use a regular expression to identify the date (mm-dd-yyyy)."
      ],
      "metadata": {
        "id": "nIyB0hxSk8jR"
      }
    },
    {
      "cell_type": "code",
      "source": [
        "# repetition\n",
        "import re\n",
        "\n",
        "print('Date{mm-dd-yy}:',re.search(r'[\\d]{2}-[\\d]{2}-[\\d]{4}','28-10-2023'))"
      ],
      "metadata": {
        "colab": {
          "base_uri": "https://localhost:8080/"
        },
        "id": "xJjEFd6xkzPQ",
        "outputId": "98a863da-c1fb-4214-877e-8c3ec054a66c"
      },
      "execution_count": 21,
      "outputs": [
        {
          "output_type": "stream",
          "name": "stdout",
          "text": [
            "Date{mm-dd-yy}: <re.Match object; span=(0, 10), match='28-10-2023'>\n"
          ]
        }
      ]
    },
    {
      "cell_type": "code",
      "source": [
        "# example of repetition\n",
        "import re\n",
        "\n",
        "print('Three Digit',re.search(r'[\\d]{3,4}','174'))\n",
        "print('Four Digit',re.search(r'[\\d]{3,4}','2045'))"
      ],
      "metadata": {
        "colab": {
          "base_uri": "https://localhost:8080/"
        },
        "id": "izTxwUnglx1Q",
        "outputId": "20b84f00-137f-4996-dd27-17623cc4fbbe"
      },
      "execution_count": 22,
      "outputs": [
        {
          "output_type": "stream",
          "name": "stdout",
          "text": [
            "Three Digit <re.Match object; span=(0, 3), match='174'>\n",
            "Four Digit <re.Match object; span=(0, 4), match='2045'>\n"
          ]
        }
      ]
    },
    {
      "cell_type": "markdown",
      "source": [
        "Open-Ended Ranges\n",
        "\n",
        "There are scenarios where there is no limit for a character repetition. In such scenarios, you can set the upper limit as infinitive. A common example is matching street addresses."
      ],
      "metadata": {
        "id": "-dza3z-SnBLn"
      }
    },
    {
      "cell_type": "code",
      "source": [
        "# open ended ranges\n",
        "import re\n",
        "\n",
        "print(re.search(r'[\\d]{1,}','5th floor,A-118,\\\n",
        "            sector - 136,Noida,Uttar Pradesh - 521564'))"
      ],
      "metadata": {
        "colab": {
          "base_uri": "https://localhost:8080/"
        },
        "id": "K08gGYmAmwtA",
        "outputId": "8a613758-5df8-433e-f5ab-3d7b8d200cf1"
      },
      "execution_count": 23,
      "outputs": [
        {
          "output_type": "stream",
          "name": "stdout",
          "text": [
            "<re.Match object; span=(0, 1), match='5'>\n"
          ]
        }
      ]
    },
    {
      "cell_type": "markdown",
      "source": [
        "Shorthand characters allow you to use + character to specify one or more ({1,}) and * character to specify zero or more ({0,}."
      ],
      "metadata": {
        "id": "VC-BYtNVoIxu"
      }
    },
    {
      "cell_type": "code",
      "source": [
        "# short hand  *****Revise*******\n",
        "import re\n",
        "\n",
        "print(re.search(r'[\\d]+','5th floor,A-118,\\\n",
        "            sector - 136,Noida,Uttar Pradesh - 521564'))"
      ],
      "metadata": {
        "id": "Cbmkbs9MoBnI"
      },
      "execution_count": null,
      "outputs": []
    },
    {
      "cell_type": "markdown",
      "source": [
        "Grouping is the process of separating an expression into groups by using parentheses, and it allows you to fetch each individual matching group.  "
      ],
      "metadata": {
        "id": "rGmtavPOpGtP"
      }
    },
    {
      "cell_type": "code",
      "source": [
        "#Grouping\n",
        "import re\n",
        "\n",
        "grp = re.search(r'([\\d]{2})-([\\d]{2})-([\\d]{4})','28-10-2023')\n",
        "\n",
        "print(grp)"
      ],
      "metadata": {
        "colab": {
          "base_uri": "https://localhost:8080/"
        },
        "id": "XYhxNSMpo7gW",
        "outputId": "581c1a02-6e54-4273-f584-ba84270ee47c"
      },
      "execution_count": 24,
      "outputs": [
        {
          "output_type": "stream",
          "name": "stdout",
          "text": [
            "<re.Match object; span=(0, 10), match='28-10-2023'>\n"
          ]
        }
      ]
    },
    {
      "cell_type": "code",
      "source": [
        "#some functionality of grouping\n",
        "import re\n",
        "\n",
        "grp = re.search(r'([\\d]{2})-([\\d]{2})-([\\d]{4})','28-10-2023')\n",
        "print(grp.group())"
      ],
      "metadata": {
        "colab": {
          "base_uri": "https://localhost:8080/"
        },
        "id": "kzcarvOTpr6P",
        "outputId": "d82e12b7-9d8b-4691-a3cb-5a1193257b01"
      },
      "execution_count": 25,
      "outputs": [
        {
          "output_type": "stream",
          "name": "stdout",
          "text": [
            "28-10-2023\n"
          ]
        }
      ]
    },
    {
      "cell_type": "markdown",
      "source": [
        "Return a tuple of matched groups\n",
        "\n",
        "You can use groups() method to return a tuple that holds individual matched groups"
      ],
      "metadata": {
        "id": "KEXu4mVUqU9P"
      }
    },
    {
      "cell_type": "code",
      "source": [
        "import re\n",
        "\n",
        "grp = re.search(r'([\\d]{2})-([\\d]{2})-([\\d]{4})','28-10-2023')\n",
        "print(grp.groups())"
      ],
      "metadata": {
        "colab": {
          "base_uri": "https://localhost:8080/"
        },
        "id": "6JWsXmmZqXp9",
        "outputId": "afcfeb0b-cf0a-4412-be49-c018e863170f"
      },
      "execution_count": 26,
      "outputs": [
        {
          "output_type": "stream",
          "name": "stdout",
          "text": [
            "('28', '10', '2023')\n"
          ]
        }
      ]
    },
    {
      "cell_type": "markdown",
      "source": [
        "Retrieve a single group\n",
        "\n",
        "Upon passing the index to a group method, you can retrieve just a single group."
      ],
      "metadata": {
        "id": "zFY3ufoxqwtO"
      }
    },
    {
      "cell_type": "code",
      "source": [
        "import re\n",
        "\n",
        "grp = re.search(r'([\\d]{2})-([\\d]{2})-([\\d]{4})','28-10-2023')\n",
        "print(grp.group(3))"
      ],
      "metadata": {
        "colab": {
          "base_uri": "https://localhost:8080/"
        },
        "id": "kJ2k1hnPqwIt",
        "outputId": "9bbbb46e-21ff-493e-bac5-b5c093639274"
      },
      "execution_count": 27,
      "outputs": [
        {
          "output_type": "stream",
          "name": "stdout",
          "text": [
            "2023\n"
          ]
        }
      ]
    },
    {
      "cell_type": "code",
      "source": [
        "# name your groups\n",
        "import re\n",
        "\n",
        "match = re.search(r'(?P<dd>[\\d]{2})-(?P<mm>[\\d]{2})-(?P<yyyy>[\\d]{4})',\\\n",
        "                  '28-10-2023')\n",
        "\n",
        "print(match.group('mm'))"
      ],
      "metadata": {
        "colab": {
          "base_uri": "https://localhost:8080/"
        },
        "id": "BWFSKwggrAj9",
        "outputId": "5de53fe4-0fd5-4f23-ac81-9ab1514a892c"
      },
      "execution_count": 28,
      "outputs": [
        {
          "output_type": "stream",
          "name": "stdout",
          "text": [
            "10\n"
          ]
        }
      ]
    },
    {
      "cell_type": "code",
      "source": [
        "# individual match as a dictionary\n",
        "import re\n",
        "\n",
        "match = re.search(r'(?P<dd>[\\d]{2})-(?P<mm>[\\d]{2})-(?P<yyyy>[\\d]{4})',\\\n",
        "                  '28-10-2023')\n",
        "print(match.groupdict())"
      ],
      "metadata": {
        "colab": {
          "base_uri": "https://localhost:8080/"
        },
        "id": "uEmcA_bSsMKe",
        "outputId": "692a6e49-cb43-4050-c945-0c79bde257b0"
      },
      "execution_count": 29,
      "outputs": [
        {
          "output_type": "stream",
          "name": "stdout",
          "text": [
            "{'dd': '28', 'mm': '10', 'yyyy': '2023'}\n"
          ]
        }
      ]
    },
    {
      "cell_type": "code",
      "source": [
        "# Lookahead\n",
        "import re\n",
        "\n",
        "print('negation:',re.search(r'n[^e]','Python'))\n",
        "print('lookahead:',re.search(r'n(?!e)','Python'))"
      ],
      "metadata": {
        "colab": {
          "base_uri": "https://localhost:8080/"
        },
        "id": "6ApwARK7ssV9",
        "outputId": "00599424-0cf7-4b8f-d1ca-82682a5c202b"
      },
      "execution_count": 30,
      "outputs": [
        {
          "output_type": "stream",
          "name": "stdout",
          "text": [
            "negation: None\n",
            "loolahead: <re.Match object; span=(5, 6), match='n'>\n"
          ]
        }
      ]
    },
    {
      "cell_type": "markdown",
      "source": [
        "Lookahead can also disqualify the match if it is not followed by a particular character. This process is called a positive lookahead, and can be achieved by simply replacing ! character with = character."
      ],
      "metadata": {
        "id": "jSQv_cVAuyo0"
      }
    },
    {
      "cell_type": "code",
      "source": [
        "import re\n",
        "\n",
        "print('positive lookahead',re.search(r'n(?=e)','jasmine'))"
      ],
      "metadata": {
        "colab": {
          "base_uri": "https://localhost:8080/"
        },
        "id": "lUCmIeqsugvi",
        "outputId": "7561f528-f251-49d2-92a6-8799c54ec40f"
      },
      "execution_count": 31,
      "outputs": [
        {
          "output_type": "stream",
          "name": "stdout",
          "text": [
            "positive lookahead <re.Match object; span=(5, 6), match='n'>\n"
          ]
        }
      ]
    },
    {
      "cell_type": "markdown",
      "source": [
        "Substitution\n",
        "\n",
        "The regular expression can replace the string and returns the replaced one using the re.sub method. It is useful when you want to avoid characters such as /, -, ., etc. before storing it to a database. It takes three arguments:\n",
        "\n",
        "the regular expression\n",
        "\n",
        "the replacement string\n",
        "\n",
        "the source string being searched"
      ],
      "metadata": {
        "id": "-yjMBVjfwxRj"
      }
    },
    {
      "cell_type": "code",
      "source": [
        "# substitution\n",
        "import re\n",
        "\n",
        "print(re.sub(r'([\\d]{4})-([\\d]{4})-([\\d]{4})-([\\d]{4})',r'\\1\\2\\3\\4',\n",
        "             '1111-2222-3333-4444'))\n"
      ],
      "metadata": {
        "colab": {
          "base_uri": "https://localhost:8080/"
        },
        "id": "MKkBTuItwlEq",
        "outputId": "f75e28bb-f115-41a2-ccd3-5d89281bdb0f"
      },
      "execution_count": 36,
      "outputs": [
        {
          "output_type": "stream",
          "name": "stdout",
          "text": [
            "1111222233334444\n"
          ]
        }
      ]
    },
    {
      "cell_type": "markdown",
      "source": [
        "The Python regular expression engine can return a compiled regular expression(RegEx) object using compile function. This object has its search method and sub-method, where a developer can reuse it when in need.  "
      ],
      "metadata": {
        "id": "VLDrocnE1lRb"
      }
    },
    {
      "cell_type": "code",
      "source": [
        "# compiled RegEx\n",
        "import re\n",
        "\n",
        "regex = re.compile(r'([\\d]{2})-([\\d]{2})-([\\d]{4})')\n",
        "\n",
        "# search method\n",
        "print('compiled reg expr',regex.search('28-10-2023'))\n",
        "\n",
        "# sub method\n",
        "print(regex.sub(r'\\1.\\2.\\3','28-10-2023'))"
      ],
      "metadata": {
        "colab": {
          "base_uri": "https://localhost:8080/"
        },
        "id": "BlKhFnbL0zrT",
        "outputId": "58d5114c-19c6-47b2-e36b-d08042f2292c"
      },
      "execution_count": 41,
      "outputs": [
        {
          "output_type": "stream",
          "name": "stdout",
          "text": [
            "compiled reg expr <re.Match object; span=(0, 10), match='28-10-2023'>\n",
            "28.10.2023\n"
          ]
        }
      ]
    },
    {
      "cell_type": "markdown",
      "source": [
        "A Regular Expressions (RegEx) is a special sequence of characters that uses a search pattern to find a string or set of strings. It can detect the presence or absence of a text by matching it with a particular pattern, and also can split a pattern into one or more sub-patterns. Python provides a re module that supports the use of regex in Python. Its primary function is to offer a search, where it takes a regular expression and a string. Here, it either returns the first match or else none."
      ],
      "metadata": {
        "id": "T9M_Hmdf4zqE"
      }
    },
    {
      "cell_type": "code",
      "source": [
        "# Regular expression in python with examples\n",
        "import re\n",
        "\n",
        "s = \"Ganesh: Ganesh student of the lovely\"\n",
        "\n",
        "match = re.search(r'Ganesh',s)\n",
        "\n",
        "print('Start Index:',match.start())\n",
        "print('End Index:',match.end())"
      ],
      "metadata": {
        "colab": {
          "base_uri": "https://localhost:8080/"
        },
        "id": "7M8zPHTe3_i7",
        "outputId": "f9416efc-40b9-49d4-f434-abf62f5885c3"
      },
      "execution_count": 44,
      "outputs": [
        {
          "output_type": "stream",
          "name": "stdout",
          "text": [
            "Start Index: 0\n",
            "End Index: 6\n"
          ]
        }
      ]
    },
    {
      "cell_type": "markdown",
      "source": [
        "\\ – Backslash\n",
        "\n",
        "The backslash (\\) makes sure that the character is not treated in a special way. This can be considered a way of escaping metacharacters. For example, if you want to search for the dot(.) in the string then you will find that dot(.) will be treated as a special character as is one of the metacharacters (as shown in the above table). So for this case, we will use the backslash(\\) just before the dot(.) so that it will lose its specialty."
      ],
      "metadata": {
        "id": "P8hjYaLV6uiv"
      }
    },
    {
      "cell_type": "code",
      "source": [
        "# Backslash -\\\n",
        "import re\n",
        "\n",
        "s = \"GaneshChowdary\"\n",
        "\n",
        "# without  using \\\n",
        "match = re.search(r'.',s)\n",
        "print(match)\n",
        "\n",
        "# using \\\n",
        "match = re.search(r'\\.',s)\n",
        "print(match)"
      ],
      "metadata": {
        "colab": {
          "base_uri": "https://localhost:8080/"
        },
        "id": "YFn09Ogx6dT_",
        "outputId": "12fdd792-740e-4103-8e1d-93dee6a40e5e"
      },
      "execution_count": 45,
      "outputs": [
        {
          "output_type": "stream",
          "name": "stdout",
          "text": [
            "<re.Match object; span=(0, 1), match='G'>\n",
            "None\n"
          ]
        }
      ]
    },
    {
      "cell_type": "markdown",
      "source": [
        "[] – Square Brackets\n",
        "\n",
        "Square Brackets ([]) represent a character class consisting of a set of characters that we wish to match. For example, the character class [abc] will match any single a, b, or c.\n",
        "\n",
        "We can also specify a range of characters using – inside the square brackets. For example,\n",
        "\n",
        "[0, 3] is sample as [0123]\n",
        "[a-c] is same as [abc]\n",
        "We can also invert the character class using the caret(^) symbol. For example,\n",
        "\n",
        "[^0-3] means any number except 0, 1, 2, or 3\n",
        "[^a-c] means any character except a, b, or c"
      ],
      "metadata": {
        "id": "A3rmcnj677HD"
      }
    },
    {
      "cell_type": "code",
      "source": [
        "# square brackets\n",
        "import re\n",
        "string = \"Lpu is the biggest university in INDIA\"\n",
        "pattern = \"[a-m]\"\n",
        "result = re.findall(pattern,string)\n",
        "\n",
        "print(result)"
      ],
      "metadata": {
        "colab": {
          "base_uri": "https://localhost:8080/"
        },
        "id": "l0wCaV4R7oUJ",
        "outputId": "a313c5c1-0f82-42a5-ec31-918968ae08c0"
      },
      "execution_count": 46,
      "outputs": [
        {
          "output_type": "stream",
          "name": "stdout",
          "text": [
            "['i', 'h', 'e', 'b', 'i', 'g', 'g', 'e', 'i', 'e', 'i', 'i']\n"
          ]
        }
      ]
    },
    {
      "cell_type": "markdown",
      "source": [
        "^ – Caret\n",
        "\n",
        "Caret (^) symbol matches the beginning of the string i.e. checks whether the string starts with the given character(s) or not. For example –  \n",
        "\n",
        "^g will check if the string starts with g such as geeks, globe, girl, g, etc.\n",
        "\n",
        "^ge will check if the string starts with ge such as geeks, geeksforgeeks, etc."
      ],
      "metadata": {
        "id": "vHktFSIP9f3T"
      }
    },
    {
      "cell_type": "code",
      "source": [
        "import re\n",
        "# Match string starting with Ganesh\n",
        "regex = r\"^Ganesh\"\n",
        "strings = ['Ganesh is student','Ganesh is below 25 years','Ganesh is undergraduate']\n",
        "for string in strings:\n",
        "  if re.match(regex,string):\n",
        "      print(f'Matched:{string}')\n",
        "  else:\n",
        "      print(f'Not matched:{string}')"
      ],
      "metadata": {
        "colab": {
          "base_uri": "https://localhost:8080/"
        },
        "id": "l4HQjaWT8kF3",
        "outputId": "b9855cd2-b572-43f9-ad81-8b6f1b39cc4f"
      },
      "execution_count": 50,
      "outputs": [
        {
          "output_type": "stream",
          "name": "stdout",
          "text": [
            "Matched:Ganesh is student\n",
            "Matched:Ganesh is below 25 years\n",
            "Matched:Ganesh is undergraduate\n"
          ]
        }
      ]
    },
    {
      "cell_type": "markdown",
      "source": [
        "$ – Dollar\n",
        "\n",
        "Dollar($) symbol matches the end of the string i.e checks whether the string ends with the given character(s) or not. For example –\n",
        "\n",
        "s$ will check for the string that ends with a such as geeks, ends, s, etc.\n",
        "\n",
        "ks$ will check for the string that ends with ks such as geeks, geeksforgeeks, ks, etc."
      ],
      "metadata": {
        "id": "RJr84QUX_oA4"
      }
    },
    {
      "cell_type": "code",
      "source": [
        "import re\n",
        "\n",
        "string = \"Ganesh chowdary\"\n",
        "pattern = r\"chowdary$\"\n",
        "\n",
        "match = re.search(pattern,string)\n",
        "if match:\n",
        "  print(\"Match found!\")\n",
        "else:\n",
        "  print(\"Match not found\")"
      ],
      "metadata": {
        "colab": {
          "base_uri": "https://localhost:8080/"
        },
        "id": "-xTzTmzY_dE9",
        "outputId": "fb714f70-2bc9-4a0f-b955-be762314b941"
      },
      "execution_count": 52,
      "outputs": [
        {
          "output_type": "stream",
          "name": "stdout",
          "text": [
            "Match found!\n"
          ]
        }
      ]
    }
  ]
}