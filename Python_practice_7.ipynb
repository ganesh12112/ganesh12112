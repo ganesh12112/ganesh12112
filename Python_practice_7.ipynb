{
  "nbformat": 4,
  "nbformat_minor": 0,
  "metadata": {
    "colab": {
      "provenance": [],
      "authorship_tag": "ABX9TyM0w9QLLUlkjpeZ2dCSIVtC",
      "include_colab_link": true
    },
    "kernelspec": {
      "name": "python3",
      "display_name": "Python 3"
    },
    "language_info": {
      "name": "python"
    }
  },
  "cells": [
    {
      "cell_type": "markdown",
      "metadata": {
        "id": "view-in-github",
        "colab_type": "text"
      },
      "source": [
        "<a href=\"https://colab.research.google.com/github/ganesh12112/ganesh12112/blob/main/Python_practice_7.ipynb\" target=\"_parent\"><img src=\"https://colab.research.google.com/assets/colab-badge.svg\" alt=\"Open In Colab\"/></a>"
      ]
    },
    {
      "cell_type": "markdown",
      "source": [
        "A RegEx is a powerful tool for matching text, based on a pre-defined pattern. It can detect the presence or absence of a text by matching it with a particular pattern, and also can split a pattern into one or more sub-patterns. The Python standard library provides a re module for regular expressions. Its primary function is to offer a search, where it takes a regular expression and a string. Here, it either returns the first match or else none"
      ],
      "metadata": {
        "id": "nSkmjjJ-KK87"
      }
    },
    {
      "cell_type": "code",
      "execution_count": 8,
      "metadata": {
        "colab": {
          "base_uri": "https://localhost:8080/"
        },
        "id": "3atyCyigJq8o",
        "outputId": "593e7b64-fa10-49f7-a97c-e073793a302b"
      },
      "outputs": [
        {
          "output_type": "stream",
          "name": "stdout",
          "text": [
            "<re.Match object; span=(21, 27), match='portal'>\n",
            "portal\n",
            "Start Index: 21\n",
            "End Index: 27\n"
          ]
        }
      ],
      "source": [
        "#Python RegEX\n",
        "import re\n",
        "\n",
        "match = re.search(r'portal','Ganeshare:A spirtual portal for people')\n",
        "print(match)\n",
        "print(match.group())\n",
        "\n",
        "print('Start Index:',match.start())\n",
        "print('End Index:',match.end())"
      ]
    },
    {
      "cell_type": "code",
      "source": [
        "# meta chracters in RE analogy"
      ],
      "metadata": {
        "id": "2o638VGfM5kP"
      },
      "execution_count": null,
      "outputs": []
    },
    {
      "cell_type": "markdown",
      "source": [
        "Why RegEx?\n",
        "\n",
        "Data Mining: Regular expression is the best tool for data mining. It efficiently identifies a text in a heap of text by checking with a pre-defined pattern. Some common scenarios are identifying an email, URL, or phone from a pile of text.\n",
        "\n",
        "Data Validation: Regular expression can perfectly validate data. It can include a wide array of validation processes by defining different sets of patterns. A few examples are validating phone numbers, emails, etc."
      ],
      "metadata": {
        "id": "pJ3fDJEtOUwW"
      }
    },
    {
      "cell_type": "code",
      "source": [
        "# Basic RegEx\n",
        "# character class\n",
        "# Rangers\n",
        "# Negation\n",
        "# Shortcuts\n",
        "# Beginning and End of string\n",
        "# Any character"
      ],
      "metadata": {
        "id": "eWFlH84jOWAt"
      },
      "execution_count": null,
      "outputs": []
    },
    {
      "cell_type": "markdown",
      "source": [
        "Character classes allow you to match a single set of characters with a possible set of characters. You can mention a character class within the square brackets. Let’s consider an example of case sensitive words."
      ],
      "metadata": {
        "id": "JfQAiWItPsit"
      }
    },
    {
      "cell_type": "code",
      "source": [
        "# character class\n",
        "import re\n",
        "\n",
        "print(re.findall(r'[Cc]howdary','GaneshChowdary:A student of Lpu'))"
      ],
      "metadata": {
        "colab": {
          "base_uri": "https://localhost:8080/"
        },
        "id": "EDvtffOKPfCF",
        "outputId": "6d4f9903-95be-4697-db48-b9b2547c99ae"
      },
      "execution_count": 9,
      "outputs": [
        {
          "output_type": "stream",
          "name": "stdout",
          "text": [
            "['Chowdary']\n"
          ]
        }
      ]
    },
    {
      "cell_type": "markdown",
      "source": [
        "The range provides the flexibility to match a text with the help of a range pattern such as a range of numbers(0 to 9), a range of characters (A to Z), and so on. The hyphen character within the character class represents a range."
      ],
      "metadata": {
        "id": "6yZUHsioQdCL"
      }
    },
    {
      "cell_type": "code",
      "source": [
        "# Ranges\n",
        "import re\n",
        "\n",
        "print('Range',re.search(r'[a-zA-Z]','x'))"
      ],
      "metadata": {
        "colab": {
          "base_uri": "https://localhost:8080/"
        },
        "id": "ngqNnshgQXUw",
        "outputId": "9bd24da3-e070-4be2-e65c-19f2a963028f"
      },
      "execution_count": 10,
      "outputs": [
        {
          "output_type": "stream",
          "name": "stdout",
          "text": [
            "Range <re.Match object; span=(0, 1), match='x'>\n"
          ]
        }
      ]
    },
    {
      "cell_type": "markdown",
      "source": [
        "Negation inverts a character class. It will look for a match except for the inverted character or range of inverted characters mentioned in the character class."
      ],
      "metadata": {
        "id": "ZlpCPM0DRiDM"
      }
    },
    {
      "cell_type": "code",
      "source": [
        "# Negation\n",
        "import re\n",
        "\n",
        "print(re.search(r'[^a-z]','c'))  # what is the meaning of inverted characters?"
      ],
      "metadata": {
        "colab": {
          "base_uri": "https://localhost:8080/"
        },
        "id": "bWAHWr4hRjA9",
        "outputId": "dfce5ced-9164-4e0f-9cad-12f51ae96bbb"
      },
      "execution_count": 11,
      "outputs": [
        {
          "output_type": "stream",
          "name": "stdout",
          "text": [
            "None\n"
          ]
        }
      ]
    },
    {
      "cell_type": "code",
      "source": [
        "# another example\n",
        "import re\n",
        "\n",
        "print(re.search(r'G[^e]','Geeks'))"
      ],
      "metadata": {
        "colab": {
          "base_uri": "https://localhost:8080/"
        },
        "id": "Am6VSyMOSeTz",
        "outputId": "694434f5-513f-461a-cfc6-12f9b9b71cdc"
      },
      "execution_count": 12,
      "outputs": [
        {
          "output_type": "stream",
          "name": "stdout",
          "text": [
            "None\n"
          ]
        }
      ]
    },
    {
      "cell_type": "code",
      "source": [
        "import re\n",
        "\n",
        "print('Ganesh')"
      ],
      "metadata": {
        "id": "CSCI52WSVKCP"
      },
      "execution_count": null,
      "outputs": []
    }
  ]
}