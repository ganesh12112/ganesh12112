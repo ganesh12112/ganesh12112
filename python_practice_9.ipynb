{
  "nbformat": 4,
  "nbformat_minor": 0,
  "metadata": {
    "colab": {
      "provenance": [],
      "authorship_tag": "ABX9TyPIGID7+Hwghr8xgFyN7nLW",
      "include_colab_link": true
    },
    "kernelspec": {
      "name": "python3",
      "display_name": "Python 3"
    },
    "language_info": {
      "name": "python"
    }
  },
  "cells": [
    {
      "cell_type": "markdown",
      "metadata": {
        "id": "view-in-github",
        "colab_type": "text"
      },
      "source": [
        "<a href=\"https://colab.research.google.com/github/ganesh12112/ganesh12112/blob/main/python_practice_9.ipynb\" target=\"_parent\"><img src=\"https://colab.research.google.com/assets/colab-badge.svg\" alt=\"Open In Colab\"/></a>"
      ]
    },
    {
      "cell_type": "code",
      "execution_count": null,
      "metadata": {
        "colab": {
          "base_uri": "https://localhost:8080/"
        },
        "id": "vUhd_68ixf8_",
        "outputId": "4bb1962d-079b-4d31-c65f-b9989b389fe2"
      },
      "outputs": [
        {
          "output_type": "stream",
          "name": "stdout",
          "text": [
            "intial empty tuple:\n",
            "()\n"
          ]
        }
      ],
      "source": [
        "# python tuples\n",
        "tuple1 = ()\n",
        "print(\"intial empty tuple:\")\n",
        "print(tuple1)"
      ]
    },
    {
      "cell_type": "code",
      "source": [
        "tu1 = (\"ganesh\",\"for\")\n",
        "print(tu1)"
      ],
      "metadata": {
        "colab": {
          "base_uri": "https://localhost:8080/"
        },
        "id": "cupAdHqyzJrp",
        "outputId": "a75b5aec-3b6a-456c-da4e-b185a57ba04e"
      },
      "execution_count": null,
      "outputs": [
        {
          "output_type": "stream",
          "name": "stdout",
          "text": [
            "('ganesh', 'for')\n"
          ]
        }
      ]
    },
    {
      "cell_type": "code",
      "source": [
        "list1 = [1,2,3,4,5,6]\n",
        "print(tuple(list1))"
      ],
      "metadata": {
        "colab": {
          "base_uri": "https://localhost:8080/"
        },
        "id": "4hUCL__QzXsi",
        "outputId": "ea42496b-c0c1-453e-9530-0132e8aadc4f"
      },
      "execution_count": null,
      "outputs": [
        {
          "output_type": "stream",
          "name": "stdout",
          "text": [
            "(1, 2, 3, 4, 5, 6)\n"
          ]
        }
      ]
    },
    {
      "cell_type": "code",
      "source": [
        "# creating a tuple using inbuilt function tuple\n",
        "tu1 = tuple(\"ganesh\")\n",
        "print(tu1)"
      ],
      "metadata": {
        "colab": {
          "base_uri": "https://localhost:8080/"
        },
        "id": "OIQDaK1yzmop",
        "outputId": "0886bb94-254c-4fa9-9c06-be2c8b5ebef8"
      },
      "execution_count": null,
      "outputs": [
        {
          "output_type": "stream",
          "name": "stdout",
          "text": [
            "('g', 'a', 'n', 'e', 's', 'h')\n"
          ]
        }
      ]
    },
    {
      "cell_type": "code",
      "source": [
        "#tu = (5,'ganesh',[1,'are'])\n",
        "#print(tu)\n",
        "\n",
        "# creating nested tuples\n",
        "#tu1 = (1,2,3,4)\n",
        "#tu2 = ('ganesh','are')\n",
        "#tu3 = (tu1,tu2)\n",
        "#print(tu3)\n",
        "\n",
        "# creating tuple repeats\n",
        "#tu4 = ('ganesh') * 3\n",
        "#print(tu4)\n",
        "\n",
        "# craeting tuple with the use of loop\n",
        "n= 5\n",
        "for i in range(int(n)):\n",
        "    tu = (tu)\n",
        "    print(tu)"
      ],
      "metadata": {
        "colab": {
          "base_uri": "https://localhost:8080/"
        },
        "id": "C_tuk5nS1NPr",
        "outputId": "116f490c-6bc6-4ddf-dd93-3fc1159a901f"
      },
      "execution_count": null,
      "outputs": [
        {
          "output_type": "stream",
          "name": "stdout",
          "text": [
            "(5, 'ganesh', [1, 'are'])\n",
            "(5, 'ganesh', [1, 'are'])\n",
            "(5, 'ganesh', [1, 'are'])\n",
            "(5, 'ganesh', [1, 'are'])\n",
            "(5, 'ganesh', [1, 'are'])\n"
          ]
        }
      ]
    },
    {
      "cell_type": "code",
      "source": [
        "# accesing of tuples\n",
        "tu1 = tuple('ganesh')\n",
        "print(tu1[0])"
      ],
      "metadata": {
        "colab": {
          "base_uri": "https://localhost:8080/"
        },
        "id": "YhbZB5Na3Qm2",
        "outputId": "99bd275b-e3eb-4146-d46a-20ddca32c815"
      },
      "execution_count": null,
      "outputs": [
        {
          "output_type": "stream",
          "name": "stdout",
          "text": [
            "g\n"
          ]
        }
      ]
    },
    {
      "cell_type": "code",
      "source": [
        "# tuple unpacking\n",
        "tu1 = (\"ganesh\",\"for\",\"are\")\n",
        "\n",
        "a,b,c = tu1\n",
        "print(a)\n",
        "print(b)\n",
        "print(c)"
      ],
      "metadata": {
        "colab": {
          "base_uri": "https://localhost:8080/"
        },
        "id": "9YfM_aVo3u-6",
        "outputId": "36fb3c1b-fdd9-465a-a042-410cb1649e86"
      },
      "execution_count": null,
      "outputs": [
        {
          "output_type": "stream",
          "name": "stdout",
          "text": [
            "ganesh\n",
            "for\n",
            "are\n"
          ]
        }
      ]
    },
    {
      "cell_type": "code",
      "source": [
        "# conacatenation of tuples\n",
        "tu1 = (0,1,2,3)\n",
        "tu2 = ('geeks','for','geeks')\n",
        "tu3 = tu1+tu2\n",
        "print(tu3)"
      ],
      "metadata": {
        "colab": {
          "base_uri": "https://localhost:8080/"
        },
        "id": "7UInea804XQX",
        "outputId": "971fe527-827a-4e8e-8b97-3e32a3904fcf"
      },
      "execution_count": null,
      "outputs": [
        {
          "output_type": "stream",
          "name": "stdout",
          "text": [
            "(0, 1, 2, 3, 'geeks', 'for', 'geeks')\n"
          ]
        }
      ]
    },
    {
      "cell_type": "code",
      "source": [
        "# slicing of tuple\n",
        "tu1 = tuple(\"ganeshchowdary\")\n",
        "print(tu1[1:])\n",
        "\n",
        "print(tu1[::-1])\n",
        "\n",
        "print(tu1[4:9])"
      ],
      "metadata": {
        "colab": {
          "base_uri": "https://localhost:8080/"
        },
        "id": "KrHCjXzp5Wh2",
        "outputId": "c30cccb2-0fd8-4280-8fb2-95aabd981b9c"
      },
      "execution_count": null,
      "outputs": [
        {
          "output_type": "stream",
          "name": "stdout",
          "text": [
            "('a', 'n', 'e', 's', 'h', 'c', 'h', 'o', 'w', 'd', 'a', 'r', 'y')\n",
            "('y', 'r', 'a', 'd', 'w', 'o', 'h', 'c', 'h', 's', 'e', 'n', 'a', 'g')\n",
            "('s', 'h', 'c', 'h', 'o')\n"
          ]
        }
      ]
    },
    {
      "cell_type": "code",
      "source": [
        "# deleting a tuple\n",
        "tu1 = (0,1,2,3,4)\n",
        "\n",
        "del tu1\n",
        "print(tu1)"
      ],
      "metadata": {
        "colab": {
          "base_uri": "https://localhost:8080/",
          "height": 210
        },
        "id": "0kyY7N4O6HFd",
        "outputId": "d3dcc649-80e2-4460-8ec3-0f125c72cbeb"
      },
      "execution_count": null,
      "outputs": [
        {
          "output_type": "error",
          "ename": "NameError",
          "evalue": "ignored",
          "traceback": [
            "\u001b[0;31m---------------------------------------------------------------------------\u001b[0m",
            "\u001b[0;31mNameError\u001b[0m                                 Traceback (most recent call last)",
            "\u001b[0;32m<ipython-input-19-6115d40a6407>\u001b[0m in \u001b[0;36m<cell line: 5>\u001b[0;34m()\u001b[0m\n\u001b[1;32m      3\u001b[0m \u001b[0;34m\u001b[0m\u001b[0m\n\u001b[1;32m      4\u001b[0m \u001b[0;32mdel\u001b[0m \u001b[0mtu1\u001b[0m\u001b[0;34m\u001b[0m\u001b[0;34m\u001b[0m\u001b[0m\n\u001b[0;32m----> 5\u001b[0;31m \u001b[0mprint\u001b[0m\u001b[0;34m(\u001b[0m\u001b[0mtu1\u001b[0m\u001b[0;34m)\u001b[0m\u001b[0;34m\u001b[0m\u001b[0;34m\u001b[0m\u001b[0m\n\u001b[0m",
            "\u001b[0;31mNameError\u001b[0m: name 'tu1' is not defined"
          ]
        }
      ]
    },
    {
      "cell_type": "code",
      "source": [
        "# creating tuple from string and list - python\n",
        "test_list = ['ganesh','is']\n",
        "test_str = \"best\"\n",
        "# using list conversion to tuple + tuple()\n",
        "res = tuple(test_list+[test_str])\n",
        "\n",
        "print(\"aggregated tuple:\",res)"
      ],
      "metadata": {
        "colab": {
          "base_uri": "https://localhost:8080/"
        },
        "id": "YrVrN5xc8LqQ",
        "outputId": "46cfc4ca-b9d3-44f6-8210-fa16d85488ad"
      },
      "execution_count": null,
      "outputs": [
        {
          "output_type": "stream",
          "name": "stdout",
          "text": [
            "aggregated tuple: ('ganesh', 'is', 'best')\n"
          ]
        }
      ]
    },
    {
      "cell_type": "code",
      "source": [
        "#Create a tuple from string and list Using Tuple conversion to tuple + tuple()\n",
        "test_list = ['ganesh','is']\n",
        "test_str = \"best\"\n",
        "# using list conversion to tuple + tuple()\n",
        "res = (test_str,)+tuple(test_list)\n",
        "\n",
        "print(\"aggregated tuple:\",res)"
      ],
      "metadata": {
        "colab": {
          "base_uri": "https://localhost:8080/"
        },
        "id": "-S7E55xB9SF_",
        "outputId": "1cb48e07-c081-49be-b50b-a7cf0d57b897"
      },
      "execution_count": null,
      "outputs": [
        {
          "output_type": "stream",
          "name": "stdout",
          "text": [
            "aggregated tuple: ('best', 'ganesh', 'is')\n"
          ]
        }
      ]
    },
    {
      "cell_type": "code",
      "source": [
        "#Create a tuple from string and list Using list+ tuple+ copy()+append()\n",
        "og_list = ['ganesh','is']\n",
        "og_str = 'best'\n",
        "\n",
        "new_list = og_list.copy()\n",
        "new_list.append(og_str)\n",
        "\n",
        "new_tu = tuple(new_list)\n",
        "print(\"the aggregated tuple is:\",new_tu)"
      ],
      "metadata": {
        "colab": {
          "base_uri": "https://localhost:8080/"
        },
        "id": "8htKHQj1-lpD",
        "outputId": "f8047122-b1e4-4457-ecb2-e9006b3f7145"
      },
      "execution_count": null,
      "outputs": [
        {
          "output_type": "stream",
          "name": "stdout",
          "text": [
            "the aggregated tuple is: ('ganesh', 'is', 'best')\n"
          ]
        }
      ]
    },
    {
      "cell_type": "code",
      "source": [
        "#Create a tuple from string and list Using the + operator\n",
        "lst = [\"ganesh\",\"is\"]\n",
        "strg = \"best\"\n",
        "\n",
        "result = tuple(lst+[strg])\n",
        "print(result)"
      ],
      "metadata": {
        "colab": {
          "base_uri": "https://localhost:8080/"
        },
        "id": "_Qyr4rtKAxRh",
        "outputId": "52479528-6fe0-49e0-c10b-82f1ca69cc0e"
      },
      "execution_count": null,
      "outputs": [
        {
          "output_type": "stream",
          "name": "stdout",
          "text": [
            "('ganesh', 'is', 'best')\n"
          ]
        }
      ]
    },
    {
      "cell_type": "code",
      "source": [
        "def create_tuple(string, lst):\n",
        "    lst.extend([string])\n",
        "    return tuple(lst)\n",
        "\n",
        "# Driver Code\n",
        "original_list = ['gfg', 'is']\n",
        "original_string = 'best'\n",
        "\n",
        "result = create_tuple(original_string, original_list)\n",
        "\n",
        "print(\"The original list : \", original_list)\n",
        "print(\"The original string : \", original_string)\n",
        "print(\"The aggregated tuple is : \", result)"
      ],
      "metadata": {
        "id": "-PVwPKw2E1e3",
        "colab": {
          "base_uri": "https://localhost:8080/"
        },
        "outputId": "9e743c03-192b-48a4-86d8-d8cf384e102c"
      },
      "execution_count": null,
      "outputs": [
        {
          "output_type": "stream",
          "name": "stdout",
          "text": [
            "The original list :  ['gfg', 'is', 'best']\n",
            "The original string :  best\n",
            "The aggregated tuple is :  ('gfg', 'is', 'best')\n"
          ]
        }
      ]
    },
    {
      "cell_type": "code",
      "source": [
        "# access front and rear element of python tuple\n",
        "test_tu = (10,3,4,6,7)\n",
        "res = (test_tu[0],test_tu[-1])\n",
        "print(res)"
      ],
      "metadata": {
        "id": "lIpixbyLD3fm",
        "colab": {
          "base_uri": "https://localhost:8080/"
        },
        "outputId": "05234e51-a94f-48a7-b200-63514adbd4e1"
      },
      "execution_count": null,
      "outputs": [
        {
          "output_type": "stream",
          "name": "stdout",
          "text": [
            "(10, 7)\n"
          ]
        }
      ]
    },
    {
      "cell_type": "code",
      "source": [
        "# using itemgetter()\n",
        "from operator import itemgetter\n",
        "\n",
        "test_tu = (10,4,5,6,7)\n",
        "\n",
        "res = itemgetter(0,-1)(test_tu)\n",
        "\n",
        "print(res)"
      ],
      "metadata": {
        "colab": {
          "base_uri": "https://localhost:8080/"
        },
        "id": "P9HmIA-TF1r6",
        "outputId": "194f03c0-9bc8-4629-dd51-ed0ee094c62f"
      },
      "execution_count": null,
      "outputs": [
        {
          "output_type": "stream",
          "name": "stdout",
          "text": [
            "(10, 7)\n"
          ]
        }
      ]
    },
    {
      "cell_type": "code",
      "source": [
        "# using indexing\n",
        "test_tu = (10,4,5,6,7)\n",
        "\n",
        "res = (test_tu[0],test_tu[len(test_tu)-1])\n",
        "\n",
        "print(res)"
      ],
      "metadata": {
        "colab": {
          "base_uri": "https://localhost:8080/"
        },
        "id": "vf5oQwMSGWWu",
        "outputId": "d3142426-3660-4169-c5ed-d1b7019667d1"
      },
      "execution_count": null,
      "outputs": [
        {
          "output_type": "stream",
          "name": "stdout",
          "text": [
            "(10, 7)\n"
          ]
        }
      ]
    },
    {
      "cell_type": "code",
      "source": [
        "# unpacking tuple\n",
        "test_tu = (10,4,5,6,7)\n",
        "# accesing the front and rear element of tuple\n",
        "# unpacking the tuple\n",
        "front,*_,rear = test_tu\n",
        "\n",
        "res = (front,rear)\n",
        "\n",
        "print(res)"
      ],
      "metadata": {
        "colab": {
          "base_uri": "https://localhost:8080/"
        },
        "id": "kzqm8yraHEFM",
        "outputId": "0e1ab98b-7032-491c-c4cd-491e40a92a2a"
      },
      "execution_count": null,
      "outputs": [
        {
          "output_type": "stream",
          "name": "stdout",
          "text": [
            "(10, 7)\n"
          ]
        }
      ]
    },
    {
      "cell_type": "code",
      "source": [
        "# using slicing\n",
        "test_tu = (10,4,5,6,7)\n",
        "\n",
        "front = test_tu[0]\n",
        "rear = test_tu[-1]\n",
        "\n",
        "res = (front,rear)\n",
        "\n",
        "print(res)"
      ],
      "metadata": {
        "colab": {
          "base_uri": "https://localhost:8080/"
        },
        "id": "huVeFnNyIO6l",
        "outputId": "2567b356-17a2-4e8d-9c83-20a1375acad0"
      },
      "execution_count": null,
      "outputs": [
        {
          "output_type": "stream",
          "name": "stdout",
          "text": [
            "(10, 7)\n"
          ]
        }
      ]
    },
    {
      "cell_type": "code",
      "source": [
        "# using tuple() constructor and concatenation\n",
        "test_tu = (10,4,5,6,7)\n",
        "\n",
        "front = test_tu[0]\n",
        "rear = test_tu[-1]\n",
        "\n",
        "res = tuple([front])+tuple([rear])\n",
        "\n",
        "print(res)"
      ],
      "metadata": {
        "colab": {
          "base_uri": "https://localhost:8080/"
        },
        "id": "fh8IH6LrJIJb",
        "outputId": "ef15c330-0417-4ba4-fb84-2357599f426c"
      },
      "execution_count": null,
      "outputs": [
        {
          "output_type": "stream",
          "name": "stdout",
          "text": [
            "(10, 7)\n"
          ]
        }
      ]
    },
    {
      "cell_type": "code",
      "source": [
        "# using list comprehension\n",
        "test_tu = (10,4,5,6,7)\n",
        "\n",
        "res = tuple([test_tu[i] for i in [0,-1]])\n",
        "\n",
        "print(res)"
      ],
      "metadata": {
        "colab": {
          "base_uri": "https://localhost:8080/"
        },
        "id": "8wRXoYGYJmmD",
        "outputId": "4eb05a43-5fd1-4e4a-b567-8350fe97c4f6"
      },
      "execution_count": null,
      "outputs": [
        {
          "output_type": "stream",
          "name": "stdout",
          "text": [
            "(10, 7)\n"
          ]
        }
      ]
    },
    {
      "cell_type": "code",
      "source": [
        "# ways to concatenate tuples\n",
        "# using +operator\n",
        "test_tup1 = (1, 3, 5)\n",
        "test_tup2 = (4, 6)\n",
        "\n",
        "res = test_tup1+test_tup2\n",
        "print(res)"
      ],
      "metadata": {
        "colab": {
          "base_uri": "https://localhost:8080/"
        },
        "id": "hUDPSGWPKGOQ",
        "outputId": "e0c3771e-e946-45c9-b52c-69e52943b8af"
      },
      "execution_count": null,
      "outputs": [
        {
          "output_type": "stream",
          "name": "stdout",
          "text": [
            "(1, 3, 5, 4, 6)\n"
          ]
        }
      ]
    },
    {
      "cell_type": "code",
      "source": [
        "# using sum()\n",
        "test_tup1 = (1, 3, 5)\n",
        "test_tup2 = (4, 6)\n",
        "\n",
        "res = sum((test_tup1,test_tup2),())\n",
        "\n",
        "print(res)"
      ],
      "metadata": {
        "colab": {
          "base_uri": "https://localhost:8080/"
        },
        "id": "pRjvf_yULKd3",
        "outputId": "ac96d98e-b6cd-4443-e524-9202a0590225"
      },
      "execution_count": null,
      "outputs": [
        {
          "output_type": "stream",
          "name": "stdout",
          "text": [
            "(1, 3, 5, 4, 6)\n"
          ]
        }
      ]
    },
    {
      "cell_type": "code",
      "source": [
        "# using list() and extend() methods\n",
        "test_tup1 = (1, 3, 5)\n",
        "test_tup2 = (4, 6)\n",
        "\n",
        "x = list(test_tup1)\n",
        "y = list(test_tup2)\n",
        "x.extend(y)\n",
        "res = tuple(x)\n",
        "\n",
        "print(res)"
      ],
      "metadata": {
        "colab": {
          "base_uri": "https://localhost:8080/"
        },
        "id": "dIOrZsuuMN5P",
        "outputId": "3401e614-207b-401d-f1f0-19230f3a3a7a"
      },
      "execution_count": null,
      "outputs": [
        {
          "output_type": "stream",
          "name": "stdout",
          "text": [
            "(1, 3, 5, 4, 6)\n"
          ]
        }
      ]
    },
    {
      "cell_type": "code",
      "source": [
        "# using itertools.chain()\n",
        "import itertools\n",
        "test_tup1 = (1, 3, 5)\n",
        "test_tup2 = (4, 6)\n",
        "\n",
        "tup3 = tuple(itertools.chain(test_tup1,test_tup2))\n",
        "\n",
        "print(tup3)"
      ],
      "metadata": {
        "colab": {
          "base_uri": "https://localhost:8080/"
        },
        "id": "-QpPL3djM9eL",
        "outputId": "604f62b8-a6aa-47d4-c3cd-df11b882b8de"
      },
      "execution_count": null,
      "outputs": [
        {
          "output_type": "stream",
          "name": "stdout",
          "text": [
            "(1, 3, 5, 4, 6)\n"
          ]
        }
      ]
    },
    {
      "cell_type": "code",
      "source": [
        "# using tuple() constructor and the *operator\n",
        "\n",
        "test_tup1 = (1, 3, 5)\n",
        "test_tup2 = (4,6)\n",
        "\n",
        "res = tuple(test_tup1+test_tup2)\n",
        "\n",
        "print(res)"
      ],
      "metadata": {
        "colab": {
          "base_uri": "https://localhost:8080/"
        },
        "id": "O-czbyudNrlK",
        "outputId": "17f34ca0-fd3c-4c4f-9669-f17d4570605c"
      },
      "execution_count": null,
      "outputs": [
        {
          "output_type": "stream",
          "name": "stdout",
          "text": [
            "(1, 3, 5, 4, 6)\n"
          ]
        }
      ]
    },
    {
      "cell_type": "code",
      "source": [
        "# using the += operator and the += method\n",
        "test_tup1 = (1, 3, 5)\n",
        "test_tup2 = (4,6)\n",
        "\n",
        "test_tup1 += test_tup2\n",
        "\n",
        "print(test_tup1)"
      ],
      "metadata": {
        "colab": {
          "base_uri": "https://localhost:8080/"
        },
        "id": "Uf3Zgpt2OTxS",
        "outputId": "e35ff778-c611-423d-9c88-beec88fb1ceb"
      },
      "execution_count": null,
      "outputs": [
        {
          "output_type": "stream",
          "name": "stdout",
          "text": [
            "(1, 3, 5, 4, 6)\n"
          ]
        }
      ]
    },
    {
      "cell_type": "code",
      "source": [
        "# using reduce\n",
        "from functools import reduce\n",
        "concat_tuples = lambda t1,t2 :reduce(lambda x,y: x+y ,[t1,t2])\n",
        "\n",
        "t1 = (1, 3, 5)\n",
        "t2  = (4,6)\n",
        "\n",
        "concatenated_tuple = concat_tuples(t1,t2)\n",
        "print(concatenated_tuple)"
      ],
      "metadata": {
        "colab": {
          "base_uri": "https://localhost:8080/"
        },
        "id": "VXe83y0iO045",
        "outputId": "f63902fa-7cca-4bea-b935-49bce025affe"
      },
      "execution_count": null,
      "outputs": [
        {
          "output_type": "stream",
          "name": "stdout",
          "text": [
            "(1, 3, 5, 4, 6)\n"
          ]
        }
      ]
    },
    {
      "cell_type": "code",
      "source": [
        "# clearing a tuple\n",
        "# using list() + clear() + tuple()\n",
        "\n",
        "test_tup = (1, 5, 3, 6, 8)\n",
        "\n",
        "temp = list(test_tup)\n",
        "temp.clear()\n",
        "test_tup = tuple(temp)\n",
        "\n",
        "print(test_tup)"
      ],
      "metadata": {
        "colab": {
          "base_uri": "https://localhost:8080/"
        },
        "id": "oG1AnwdiP12-",
        "outputId": "5697b191-f611-4841-cdb1-ebeee4fff880"
      },
      "execution_count": null,
      "outputs": [
        {
          "output_type": "stream",
          "name": "stdout",
          "text": [
            "()\n"
          ]
        }
      ]
    },
    {
      "cell_type": "code",
      "source": [
        "# reintializing using tuple()\n",
        "\n",
        "test_tup = (1, 5, 3, 6, 8)\n",
        "\n",
        "test_tup = tuple()\n",
        "\n",
        "print(test_tup)"
      ],
      "metadata": {
        "colab": {
          "base_uri": "https://localhost:8080/"
        },
        "id": "locKtxccQ2vc",
        "outputId": "601f3ea7-4080-4b39-cf83-bffb0d26e713"
      },
      "execution_count": null,
      "outputs": [
        {
          "output_type": "stream",
          "name": "stdout",
          "text": [
            "()\n"
          ]
        }
      ]
    },
    {
      "cell_type": "code",
      "source": [
        "# using *operator\n",
        "\n",
        "test_tup = (1, 5, 3, 6, 8)\n",
        "\n",
        "test_tup = test_tup * 0\n",
        "\n",
        "print(test_tup)"
      ],
      "metadata": {
        "colab": {
          "base_uri": "https://localhost:8080/"
        },
        "id": "YZaIg744RQ01",
        "outputId": "d33d10d4-c5ce-4bb4-a170-acdf0e47bd89"
      },
      "execution_count": null,
      "outputs": [
        {
          "output_type": "stream",
          "name": "stdout",
          "text": [
            "()\n"
          ]
        }
      ]
    },
    {
      "cell_type": "code",
      "source": [
        "# using slicing and concatenation\n",
        "\n",
        "test_tup = (1, 5, 3, 6, 8)\n",
        "\n",
        "# Clearing a tuple using slicing and concatenation\n",
        "test_tup = test_tup[0:0] + ()\n",
        "\n",
        "print(test_tup)"
      ],
      "metadata": {
        "colab": {
          "base_uri": "https://localhost:8080/"
        },
        "id": "LX5-ZwBnRif1",
        "outputId": "ecc61b58-1b72-4f39-86c3-b7c6fa1c1132"
      },
      "execution_count": null,
      "outputs": [
        {
          "output_type": "stream",
          "name": "stdout",
          "text": [
            "()\n"
          ]
        }
      ]
    },
    {
      "cell_type": "code",
      "source": [
        "# using del keyword\n",
        "test_tup = (1, 5, 3, 6, 8)\n",
        "\n",
        "del test_tup\n",
        "\n",
        "print(())\n"
      ],
      "metadata": {
        "colab": {
          "base_uri": "https://localhost:8080/"
        },
        "id": "vlLouZfXSC9I",
        "outputId": "875d3799-73f9-43e6-9f61-3482a8e5c6c3"
      },
      "execution_count": null,
      "outputs": [
        {
          "output_type": "stream",
          "name": "stdout",
          "text": [
            "()\n"
          ]
        }
      ]
    },
    {
      "cell_type": "code",
      "source": [
        "# sets - unordered colection of data- that is iterable and mutable\n",
        "# this is based on datastructure known as hash table - indexes are not valid\n",
        "var = {'ganesh','raghavendra','shreya'}\n",
        "type(var)"
      ],
      "metadata": {
        "colab": {
          "base_uri": "https://localhost:8080/"
        },
        "id": "4Fo-sfFcGJFj",
        "outputId": "e9580e03-39b7-4595-967e-ba362cc3a2f6"
      },
      "execution_count": 1,
      "outputs": [
        {
          "output_type": "execute_result",
          "data": {
            "text/plain": [
              "set"
            ]
          },
          "metadata": {},
          "execution_count": 1
        }
      ]
    },
    {
      "cell_type": "code",
      "source": [
        "# type casting with python set method\n",
        "myset = set(['a','b','c'])\n",
        "print(myset)\n",
        "\n",
        "# adding element to the set\n",
        "myset.add('d')\n",
        "print(myset)"
      ],
      "metadata": {
        "colab": {
          "base_uri": "https://localhost:8080/"
        },
        "id": "7dHPQdr7G0hv",
        "outputId": "9f72020a-caba-47aa-b42a-03b3f8230c69"
      },
      "execution_count": 3,
      "outputs": [
        {
          "output_type": "stream",
          "name": "stdout",
          "text": [
            "{'c', 'b', 'a'}\n",
            "{'d', 'c', 'b', 'a'}\n"
          ]
        }
      ]
    },
    {
      "cell_type": "code",
      "source": [
        "# check unique and immutable with python set\n",
        "myset = {'ganesh','raghavendra','shreya'}\n",
        "print(myset)\n",
        "\n",
        "# values of a set canot be changed\n",
        "myset[1] = 'Hello'\n",
        "print(myset)"
      ],
      "metadata": {
        "colab": {
          "base_uri": "https://localhost:8080/",
          "height": 245
        },
        "id": "zlvlqLJhHYWo",
        "outputId": "859fd0da-0a1d-4934-e50c-86b07618e8e5"
      },
      "execution_count": 5,
      "outputs": [
        {
          "output_type": "stream",
          "name": "stdout",
          "text": [
            "{'ganesh', 'shreya', 'raghavendra'}\n"
          ]
        },
        {
          "output_type": "error",
          "ename": "TypeError",
          "evalue": "ignored",
          "traceback": [
            "\u001b[0;31m---------------------------------------------------------------------------\u001b[0m",
            "\u001b[0;31mTypeError\u001b[0m                                 Traceback (most recent call last)",
            "\u001b[0;32m<ipython-input-5-7626acda52e1>\u001b[0m in \u001b[0;36m<cell line: 6>\u001b[0;34m()\u001b[0m\n\u001b[1;32m      4\u001b[0m \u001b[0;34m\u001b[0m\u001b[0m\n\u001b[1;32m      5\u001b[0m \u001b[0;31m# values of a set canot be changed\u001b[0m\u001b[0;34m\u001b[0m\u001b[0;34m\u001b[0m\u001b[0m\n\u001b[0;32m----> 6\u001b[0;31m \u001b[0mmyset\u001b[0m\u001b[0;34m[\u001b[0m\u001b[0;36m1\u001b[0m\u001b[0;34m]\u001b[0m \u001b[0;34m=\u001b[0m \u001b[0;34m'Hello'\u001b[0m\u001b[0;34m\u001b[0m\u001b[0;34m\u001b[0m\u001b[0m\n\u001b[0m\u001b[1;32m      7\u001b[0m \u001b[0mprint\u001b[0m\u001b[0;34m(\u001b[0m\u001b[0mmyset\u001b[0m\u001b[0;34m)\u001b[0m\u001b[0;34m\u001b[0m\u001b[0;34m\u001b[0m\u001b[0m\n",
            "\u001b[0;31mTypeError\u001b[0m: 'set' object does not support item assignment"
          ]
        }
      ]
    },
    {
      "cell_type": "code",
      "source": [
        "# heterogenous elements with python set\n",
        "myset = {'ganesh','raghavendra','shreya',10,43.6,True}\n",
        "print(myset)"
      ],
      "metadata": {
        "colab": {
          "base_uri": "https://localhost:8080/"
        },
        "id": "JfkRlQQXIPJw",
        "outputId": "b9c56018-d656-41c8-f220-170430eff4f2"
      },
      "execution_count": 6,
      "outputs": [
        {
          "output_type": "stream",
          "name": "stdout",
          "text": [
            "{True, 'raghavendra', 'shreya', 10, 43.6, 'ganesh'}\n"
          ]
        }
      ]
    },
    {
      "cell_type": "code",
      "source": [
        "# python frozen sets\n",
        "# immutable objects - that supports only methods and operators that produce result\n",
        "# without affecting the frozen  sets\n",
        "normal_set = set(['a','b','c'])\n",
        "print('Normalset')\n",
        "print(normal_set)\n",
        "\n",
        "frozen_set = frozenset(['e','f','g'])\n",
        "print('\\nfrozenset')\n",
        "print(frozen_set)\n"
      ],
      "metadata": {
        "colab": {
          "base_uri": "https://localhost:8080/"
        },
        "id": "WfqBQV19IpYl",
        "outputId": "6aa9a5d0-5b02-4cc0-d12b-14f8b88c371f"
      },
      "execution_count": 7,
      "outputs": [
        {
          "output_type": "stream",
          "name": "stdout",
          "text": [
            "Normalset\n",
            "{'c', 'b', 'a'}\n",
            "\n",
            "frozenset\n",
            "frozenset({'f', 'g', 'e'})\n"
          ]
        }
      ]
    },
    {
      "cell_type": "code",
      "source": [
        "# methods for sets\n",
        "# adding elements to python sets\n",
        "# set.add()\n",
        "\n",
        "myset = {'ganesh','raghavendra','shreya'}\n",
        "print('myset:',end = \" \")\n",
        "print(myset)\n",
        "\n",
        "myset.add(\"Sreeram\")\n",
        "\n",
        "# adding elements to the set using iterator\n",
        "for i in range(1,6):\n",
        "  myset.add(i)\n",
        "\n",
        "print(\"after adding element:\",end = \" \")\n",
        "print(myset)"
      ],
      "metadata": {
        "colab": {
          "base_uri": "https://localhost:8080/"
        },
        "id": "_M5PNnq2KW__",
        "outputId": "5a99bd52-94d2-4a4c-8d94-6620a8d726a3"
      },
      "execution_count": 9,
      "outputs": [
        {
          "output_type": "stream",
          "name": "stdout",
          "text": [
            "myset: {'ganesh', 'shreya', 'raghavendra'}\n",
            "after adding element: {1, 2, 3, 4, 5, 'shreya', 'Sreeram', 'raghavendra', 'ganesh'}\n"
          ]
        }
      ]
    },
    {
      "cell_type": "code",
      "source": [
        "# union operation on python sets\n",
        "myset = {'ganesh','raghavendra','shreya'}\n",
        "newset = {'sreeram','saba farheen','kohli'}\n",
        "diffset = {'deepesh','raghav','vinod'}\n",
        "\n",
        "# union()\n",
        "community = myset.union(newset)\n",
        "\n",
        "print(community)\n",
        "\n",
        "# using union \"|\"\n",
        "community = myset|diffset\n",
        "\n",
        "print(community)"
      ],
      "metadata": {
        "colab": {
          "base_uri": "https://localhost:8080/"
        },
        "id": "1E4IMWgxMswt",
        "outputId": "adc34270-99f7-466b-d845-af1bacf2bd7b"
      },
      "execution_count": 10,
      "outputs": [
        {
          "output_type": "stream",
          "name": "stdout",
          "text": [
            "{'kohli', 'saba farheen', 'raghavendra', 'ganesh', 'sreeram', 'shreya'}\n",
            "{'deepesh', 'vinod', 'raghavendra', 'ganesh', 'shreya', 'raghav'}\n"
          ]
        }
      ]
    },
    {
      "cell_type": "code",
      "source": [
        "# intersection operation on python sets\n",
        "# () or & operator\n",
        "\n",
        "set1 = set()\n",
        "set2 = set()\n",
        "\n",
        "for i in range(5):\n",
        "  set1.add(i)\n",
        "\n",
        "for i in range(3,9):\n",
        "  set2.add(i)\n",
        "\n",
        "set3 = set1.intersection(set2)\n",
        "print(set3)\n",
        "\n",
        "# intersection using \"&\" operator\n",
        "set3 = set1 & set2\n",
        "print(set3)"
      ],
      "metadata": {
        "colab": {
          "base_uri": "https://localhost:8080/"
        },
        "id": "60N2BUIfOZBV",
        "outputId": "65ca8dd3-0c39-4568-9826-a09b5e623e76"
      },
      "execution_count": 11,
      "outputs": [
        {
          "output_type": "stream",
          "name": "stdout",
          "text": [
            "{3, 4}\n",
            "{3, 4}\n"
          ]
        }
      ]
    },
    {
      "cell_type": "code",
      "source": [
        "# finding differencees of sets in python\n",
        "# difference() or - operator\n",
        "set1 = set()\n",
        "set2 = set()\n",
        "\n",
        "for i in range(5):\n",
        "  set1.add(i)\n",
        "\n",
        "for i in range(3,9):\n",
        "  set2.add(i)\n",
        "\n",
        "set3 = set1.difference(set2)\n",
        "print(set3)\n",
        "\n",
        "# difference by the \"-\" operator\n",
        "set3 = set1 - set2\n",
        "print(set3)"
      ],
      "metadata": {
        "colab": {
          "base_uri": "https://localhost:8080/"
        },
        "id": "IAEkxGHXP2rU",
        "outputId": "0a19306b-1366-40ca-c56d-263b8c427352"
      },
      "execution_count": 12,
      "outputs": [
        {
          "output_type": "stream",
          "name": "stdout",
          "text": [
            "{0, 1, 2}\n",
            "{0, 1, 2}\n"
          ]
        }
      ]
    },
    {
      "cell_type": "code",
      "source": [
        "# clearing python sets\n",
        "# set clear()\n",
        "\n",
        "set1 = {1,2,3,4,5,6}\n",
        "\n",
        "print(set1)\n",
        "\n",
        "set1.clear()\n",
        "\n",
        "print(set1)"
      ],
      "metadata": {
        "colab": {
          "base_uri": "https://localhost:8080/"
        },
        "id": "RkcaVnIuQdMz",
        "outputId": "852a4d80-08ad-4fdc-ad83-28f971faf272"
      },
      "execution_count": 13,
      "outputs": [
        {
          "output_type": "stream",
          "name": "stdout",
          "text": [
            "{1, 2, 3, 4, 5, 6}\n",
            "set()\n"
          ]
        }
      ]
    },
    {
      "cell_type": "code",
      "source": [
        "# appending multiple elements in set\n",
        "# using update method\n",
        "test_set = {6,4,2,7,9}\n",
        "\n",
        "print(test_set)\n",
        "\n",
        "up_ele = [1,5,19]\n",
        "\n",
        "test_set.update(up_ele)\n",
        "\n",
        "print(\"set after the adding elements:\",test_set)"
      ],
      "metadata": {
        "colab": {
          "base_uri": "https://localhost:8080/"
        },
        "id": "5QaPTc7KRQF_",
        "outputId": "7274cd3b-33dd-42ae-d9a3-f186da2e4a47"
      },
      "execution_count": 14,
      "outputs": [
        {
          "output_type": "stream",
          "name": "stdout",
          "text": [
            "{2, 4, 6, 7, 9}\n",
            "set after the adding elements: {1, 2, 19, 4, 5, 6, 7, 9}\n"
          ]
        }
      ]
    },
    {
      "cell_type": "code",
      "source": [
        "# using | opeartor (Pipe operator)\n",
        "test_set = {6,4,2,7,9}\n",
        "\n",
        "print(test_set)\n",
        "\n",
        "up_ele = [1,5,19]\n",
        "\n",
        "test_set |= set(up_ele)\n",
        "\n",
        "print(test_set)"
      ],
      "metadata": {
        "colab": {
          "base_uri": "https://localhost:8080/"
        },
        "id": "FoXqwxz7SPw6",
        "outputId": "4627548c-10a8-4a63-c533-9a4394284fc7"
      },
      "execution_count": 15,
      "outputs": [
        {
          "output_type": "stream",
          "name": "stdout",
          "text": [
            "{2, 4, 6, 7, 9}\n",
            "{1, 2, 19, 4, 5, 6, 7, 9}\n"
          ]
        }
      ]
    },
    {
      "cell_type": "code",
      "source": [
        "# list comprehension\n",
        "test_set = {6,4,2,7,9}\n",
        "test_list = list(test_set)\n",
        "\n",
        "print(test_set)\n",
        "\n",
        "up_ele = [1,5,19]\n",
        "\n",
        "test_list += [ele for ele in up_ele if ele not in test_list]\n",
        "\n",
        "print(test_list)"
      ],
      "metadata": {
        "colab": {
          "base_uri": "https://localhost:8080/"
        },
        "id": "YEY40TmbSiV8",
        "outputId": "b605b707-f5bd-4201-ca0a-7127bf305fe2"
      },
      "execution_count": 17,
      "outputs": [
        {
          "output_type": "stream",
          "name": "stdout",
          "text": [
            "{2, 4, 6, 7, 9}\n",
            "[2, 4, 6, 7, 9, 1, 5, 19]\n"
          ]
        }
      ]
    },
    {
      "cell_type": "code",
      "source": [
        "# use reduce() method\n",
        "from functools import reduce\n",
        "test_set = {6,4,2,7,9}\n",
        "\n",
        "print(test_set)\n",
        "\n",
        "up_ele = [1,5,19]\n",
        "\n",
        "# using reduce() and union() function to append elements to set\n",
        "result_set = reduce(lambda res,ele: res.union(set([ele])),up_ele,test_set)\n",
        "\n",
        "print(result_set)"
      ],
      "metadata": {
        "colab": {
          "base_uri": "https://localhost:8080/"
        },
        "id": "HqcvQMBNTOED",
        "outputId": "d10a062e-5af1-440e-e38d-3db7e729895f"
      },
      "execution_count": 18,
      "outputs": [
        {
          "output_type": "stream",
          "name": "stdout",
          "text": [
            "{2, 4, 6, 7, 9}\n",
            "{1, 2, 19, 4, 5, 6, 7, 9}\n"
          ]
        }
      ]
    },
    {
      "cell_type": "code",
      "source": [
        "# python set|update ()\n",
        "list1 = [1, 2, 3]\n",
        "list2 = [5, 6, 7]\n",
        "list3 = [10, 11, 12]\n",
        "set1 = set(list2)\n",
        "set2 = set(list1)\n",
        "set1.update(set2)\n",
        "print(set1)\n",
        "set1.update(list3)\n",
        "print(set1)"
      ],
      "metadata": {
        "colab": {
          "base_uri": "https://localhost:8080/"
        },
        "id": "oQ9js2Y4UQrP",
        "outputId": "b8d8ff47-da63-46a6-b19a-80b364cf53b6"
      },
      "execution_count": 19,
      "outputs": [
        {
          "output_type": "stream",
          "name": "stdout",
          "text": [
            "{1, 2, 3, 5, 6, 7}\n",
            "{1, 2, 3, 5, 6, 7, 10, 11, 12}\n"
          ]
        }
      ]
    },
    {
      "cell_type": "code",
      "source": [
        "# add elements of the dictionary to set\n",
        "number = {1,2,3,4,5}\n",
        "num_Dict = {6:'Six',7:'Seven',8:'Eight',9:'Nine',10:'Ten'}\n",
        "\n",
        "number.update(num_Dict)\n",
        "print(\"updated set:\",number)"
      ],
      "metadata": {
        "colab": {
          "base_uri": "https://localhost:8080/"
        },
        "id": "UzqjAw87V2Nu",
        "outputId": "e0379aba-34db-4808-94d8-51a081a47559"
      },
      "execution_count": 20,
      "outputs": [
        {
          "output_type": "stream",
          "name": "stdout",
          "text": [
            "updated set: {1, 2, 3, 4, 5, 6, 7, 8, 9, 10}\n"
          ]
        }
      ]
    },
    {
      "cell_type": "code",
      "source": [
        "# python | remove items from set\n",
        "# set in python\n",
        "# pop() method\n",
        "# discard() method\n",
        "# remove () method\n",
        "\n",
        "# remove by pop() method\n",
        "def Remove(intial_set):\n",
        "  while intial_set:\n",
        "    intial_set.pop()\n",
        "    print(intial_set)\n",
        "\n",
        "intial_set = set([12,10,13,15,8,9])\n",
        "Remove(intial_set)"
      ],
      "metadata": {
        "colab": {
          "base_uri": "https://localhost:8080/"
        },
        "id": "2IGKvP82XE_F",
        "outputId": "20655e46-15e9-41ec-87f6-84fcd812bd1a"
      },
      "execution_count": 21,
      "outputs": [
        {
          "output_type": "stream",
          "name": "stdout",
          "text": [
            "{9, 10, 12, 13, 15}\n",
            "{10, 12, 13, 15}\n",
            "{12, 13, 15}\n",
            "{13, 15}\n",
            "{15}\n",
            "set()\n"
          ]
        }
      ]
    },
    {
      "cell_type": "code",
      "source": [
        "# remove items from set using discard() method\n",
        "my_set = set([12,10,13,15,8,9])\n",
        "\n",
        "while my_set:\n",
        "  my_set.discard(max(my_set))\n",
        "  print(my_set)"
      ],
      "metadata": {
        "colab": {
          "base_uri": "https://localhost:8080/"
        },
        "id": "pAQc4ciLbBus",
        "outputId": "21d39e74-eb3c-40a3-c5b2-4a31ad53d209"
      },
      "execution_count": 22,
      "outputs": [
        {
          "output_type": "stream",
          "name": "stdout",
          "text": [
            "{8, 9, 10, 12, 13}\n",
            "{8, 9, 10, 12}\n",
            "{8, 9, 10}\n",
            "{8, 9}\n",
            "{8}\n",
            "set()\n"
          ]
        }
      ]
    },
    {
      "cell_type": "code",
      "source": [
        "# delete elements from set using remove() method\n",
        "my_set = set([12,10,13,15,8,9])\n",
        "\n",
        "for i in range(len(my_set)):\n",
        "  my_set.remove(next(iter(my_set)))\n",
        "  print(my_set)"
      ],
      "metadata": {
        "colab": {
          "base_uri": "https://localhost:8080/"
        },
        "id": "rbBaWL0NcH0x",
        "outputId": "833d4c2a-affb-45d4-a56e-019ca1198e58"
      },
      "execution_count": 23,
      "outputs": [
        {
          "output_type": "stream",
          "name": "stdout",
          "text": [
            "{9, 10, 12, 13, 15}\n",
            "{10, 12, 13, 15}\n",
            "{12, 13, 15}\n",
            "{13, 15}\n",
            "{15}\n",
            "set()\n"
          ]
        }
      ]
    },
    {
      "cell_type": "code",
      "source": [
        "# checking if a set contains an element in python ?\n",
        "# using \"in\" operator\n",
        "import random\n",
        "\n",
        "data = {7058,7059,7072,7074,7076}\n",
        "\n",
        "print(7058 in data)\n",
        "\n",
        "print(7059 in data)\n",
        "\n",
        "print(7071 in data)"
      ],
      "metadata": {
        "colab": {
          "base_uri": "https://localhost:8080/"
        },
        "id": "F_thWbVpdALB",
        "outputId": "a0cb33f1-f66b-47e5-9839-fea661e66155"
      },
      "execution_count": 24,
      "outputs": [
        {
          "output_type": "stream",
          "name": "stdout",
          "text": [
            "True\n",
            "True\n",
            "False\n"
          ]
        }
      ]
    },
    {
      "cell_type": "code",
      "source": [
        "# using not in operator\n",
        "import random\n",
        "\n",
        "data = {7058,7059,7072,7074,7076}\n",
        "\n",
        "print(7058 not in data)\n",
        "\n",
        "print(7059 not in data)\n",
        "\n",
        "print(7071 not in data)"
      ],
      "metadata": {
        "colab": {
          "base_uri": "https://localhost:8080/"
        },
        "id": "iUAU_zCNd7jA",
        "outputId": "dcfca4f0-d76f-40e8-befa-bcaed4cbed37"
      },
      "execution_count": 25,
      "outputs": [
        {
          "output_type": "stream",
          "name": "stdout",
          "text": [
            "False\n",
            "False\n",
            "True\n"
          ]
        }
      ]
    },
    {
      "cell_type": "code",
      "source": [
        "# using counter() function\n",
        "from collections import Counter\n",
        "\n",
        "data = {7058,7059,7072,7074,7076}\n",
        "\n",
        "freq = Counter(data)\n",
        "\n",
        "print(7058 in freq.keys())\n",
        "\n",
        "print(7059 in freq.keys())\n",
        "\n",
        "print(7071 in freq.keys())"
      ],
      "metadata": {
        "colab": {
          "base_uri": "https://localhost:8080/"
        },
        "id": "YoMrWmt7eOa8",
        "outputId": "9a26104a-fc9c-4946-d075-6e146225f0fb"
      },
      "execution_count": 26,
      "outputs": [
        {
          "output_type": "stream",
          "name": "stdout",
          "text": [
            "True\n",
            "True\n",
            "False\n"
          ]
        }
      ]
    },
    {
      "cell_type": "code",
      "source": [
        "# using operator.countOf() method\n",
        "import operator as op\n",
        "\n",
        "data = {7058,7059,7072,7074,7076}\n",
        "\n",
        "\n",
        "print(op.countOf(data,7058) > 0)\n",
        "\n",
        "print(op.countOf(data,7059) > 0)\n",
        "\n",
        "print(op.countOf(data,7071) > 0)"
      ],
      "metadata": {
        "colab": {
          "base_uri": "https://localhost:8080/"
        },
        "id": "9U_Y7lbOe1Vn",
        "outputId": "ac773093-40f3-4ecf-8871-68eeee727344"
      },
      "execution_count": 27,
      "outputs": [
        {
          "output_type": "stream",
          "name": "stdout",
          "text": [
            "True\n",
            "True\n",
            "False\n"
          ]
        }
      ]
    },
    {
      "cell_type": "code",
      "source": [
        "# python dictionary\n",
        "\n",
        "Dict = {1: 'Ganesh', 2: 'raghavendra', 3: 'shreya'}\n",
        "print(Dict)"
      ],
      "metadata": {
        "colab": {
          "base_uri": "https://localhost:8080/"
        },
        "id": "KTjUSP1ohb-g",
        "outputId": "d9c66e12-eebf-41d5-dab0-8c25d10e9e0c"
      },
      "execution_count": 29,
      "outputs": [
        {
          "output_type": "stream",
          "name": "stdout",
          "text": [
            "{1: 'Ganesh', 2: 'raghavendra', 3: 'shreya'}\n"
          ]
        }
      ]
    },
    {
      "cell_type": "code",
      "source": [
        "# integers as keys and strings as keys\n",
        "Dict = {1: 'Geeks', 2: 'For', 3: 'Geeks'}\n",
        "print(Dict)\n",
        "\n",
        "Dict = {'Name':'Geeks',1:[1,2,3,4]}\n",
        "print(Dict)"
      ],
      "metadata": {
        "colab": {
          "base_uri": "https://localhost:8080/"
        },
        "id": "lrK-IygYiINR",
        "outputId": "141f8612-543a-4697-a463-19c0c9a3a5eb"
      },
      "execution_count": 30,
      "outputs": [
        {
          "output_type": "stream",
          "name": "stdout",
          "text": [
            "{1: 'Geeks', 2: 'For', 3: 'Geeks'}\n",
            "{'Name': 'Geeks', 1: [1, 2, 3, 4]}\n"
          ]
        }
      ]
    },
    {
      "cell_type": "code",
      "source": [
        "# different ways to create python dictionary\n",
        "Dict = {}\n",
        "print(Dict)\n",
        "\n",
        "# one way\n",
        "Dict = {1: 'Geeks', 2: 'For', 3: 'Geeks'}\n",
        "print(Dict)\n",
        "\n",
        "# second method - by the dict() constructor\n",
        "Dict = dict([(1,'Ganesh'),(2,'ARE')])\n",
        "print(Dict)"
      ],
      "metadata": {
        "colab": {
          "base_uri": "https://localhost:8080/"
        },
        "id": "W2IxnPX_imrx",
        "outputId": "55b2d344-f859-488c-b63f-caee57a5b69f"
      },
      "execution_count": 32,
      "outputs": [
        {
          "output_type": "stream",
          "name": "stdout",
          "text": [
            "{}\n",
            "{1: 'Geeks', 2: 'For', 3: 'Geeks'}\n",
            "{1: 'Ganesh', 2: 'ARE'}\n"
          ]
        }
      ]
    },
    {
      "cell_type": "code",
      "source": [
        "# nested dictionary - it is used to create hierachial data structures\n",
        "Dict = {1:'Ganesh',2:'For',3:{'A':'Welcome','B':'To','C':'my_house'}}\n",
        "print(Dict)"
      ],
      "metadata": {
        "colab": {
          "base_uri": "https://localhost:8080/"
        },
        "id": "gD_rJ3t1jgXH",
        "outputId": "3824353e-df68-42ec-a7f2-91e71dabd5a4"
      },
      "execution_count": 33,
      "outputs": [
        {
          "output_type": "stream",
          "name": "stdout",
          "text": [
            "{1: 'Ganesh', 2: 'For', 3: {'A': 'Welcome', 'B': 'To', 'C': 'my_house'}}\n"
          ]
        }
      ]
    },
    {
      "cell_type": "code",
      "source": [
        "# adding elements to a dictionary\n",
        "Dict = {}\n",
        "print(Dict)\n",
        "\n",
        "Dict[0] = 'Ganesh'\n",
        "Dict[2] = 'are'\n",
        "Dict[3] = '1'\n",
        "print(Dict)\n",
        "\n",
        "Dict['Value_set'] = 2,3,4\n",
        "print(Dict)\n",
        "\n",
        "Dict[2] = 'Welcome'\n",
        "print(\"\\n updated key value:\")\n",
        "print(Dict)\n",
        "Dict[5] = {'Nested':{'1':'Life','2':'Ganesh'}}\n",
        "print(\"\\n adding a nested key\")\n",
        "print(Dict)"
      ],
      "metadata": {
        "colab": {
          "base_uri": "https://localhost:8080/"
        },
        "id": "XiqtnEs0kXQ6",
        "outputId": "847cc0d2-a9db-4e2c-eff7-52cbfb113566"
      },
      "execution_count": 34,
      "outputs": [
        {
          "output_type": "stream",
          "name": "stdout",
          "text": [
            "{}\n",
            "{0: 'Ganesh', 2: 'are', 3: '1'}\n",
            "{0: 'Ganesh', 2: 'are', 3: '1', 'Value_set': (2, 3, 4)}\n",
            "\n",
            " updated key value:\n",
            "{0: 'Ganesh', 2: 'Welcome', 3: '1', 'Value_set': (2, 3, 4)}\n",
            "\n",
            " adding a nested key\n",
            "{0: 'Ganesh', 2: 'Welcome', 3: '1', 'Value_set': (2, 3, 4), 5: {'Nested': {'1': 'Life', '2': 'Ganesh'}}}\n"
          ]
        }
      ]
    },
    {
      "cell_type": "code",
      "source": [
        "# accesing elements of a dictionary\n",
        "Dict = {1: 'Ganesh', 2: 'raghavendra', 3: 'shreya'}\n",
        "print(Dict)\n",
        "\n",
        "print(Dict[2])\n",
        "print(Dict[3])"
      ],
      "metadata": {
        "colab": {
          "base_uri": "https://localhost:8080/"
        },
        "id": "Oo7GYfTJmcCi",
        "outputId": "10eaff2f-32a8-42cf-a838-e56b91496b68"
      },
      "execution_count": 35,
      "outputs": [
        {
          "output_type": "stream",
          "name": "stdout",
          "text": [
            "{1: 'Ganesh', 2: 'raghavendra', 3: 'shreya'}\n",
            "raghavendra\n",
            "shreya\n"
          ]
        }
      ]
    },
    {
      "cell_type": "code",
      "source": [
        "# accesing a vlaue in dictionary using get() in python\n",
        "Dict = {1: 'Ganesh', 2: 'raghavendra', 3: 'shreya'}\n",
        "print(Dict.get(3))\n"
      ],
      "metadata": {
        "colab": {
          "base_uri": "https://localhost:8080/"
        },
        "id": "G_nZQAFkm0hm",
        "outputId": "8b2ceb12-ea67-4382-ff56-aac21f3c8688"
      },
      "execution_count": 36,
      "outputs": [
        {
          "output_type": "stream",
          "name": "stdout",
          "text": [
            "shreya\n"
          ]
        }
      ]
    },
    {
      "cell_type": "code",
      "source": [
        "# accesing of element of nested dictionary\n",
        "Dict = {'Dict1': {1: 'Ganesh'},\n",
        "        'Dict2': {'Name': 'are'}}\n",
        "\n",
        "print(Dict['Dict1'][1])\n",
        "print(Dict['Dict2']['Name'])"
      ],
      "metadata": {
        "colab": {
          "base_uri": "https://localhost:8080/"
        },
        "id": "IGrDuJ5znOYu",
        "outputId": "ee956e3b-83f4-44c1-ddd4-71ac02def5a3"
      },
      "execution_count": 37,
      "outputs": [
        {
          "output_type": "stream",
          "name": "stdout",
          "text": [
            "Ganesh\n",
            "are\n"
          ]
        }
      ]
    },
    {
      "cell_type": "code",
      "source": [
        "# deleting elements using del keyword\n",
        "Dict = {1: 'Ganesh', 2: 'raghavendra', 3: 'shreya'}\n",
        "print(Dict)\n",
        "\n",
        "del(Dict[1])\n",
        "\n",
        "print(Dict)"
      ],
      "metadata": {
        "colab": {
          "base_uri": "https://localhost:8080/"
        },
        "id": "4XRgO9D6nznX",
        "outputId": "435752c6-ae34-4b5c-eb15-4b79b5ef35fa"
      },
      "execution_count": 38,
      "outputs": [
        {
          "output_type": "stream",
          "name": "stdout",
          "text": [
            "{1: 'Ganesh', 2: 'raghavendra', 3: 'shreya'}\n",
            "{2: 'raghavendra', 3: 'shreya'}\n"
          ]
        }
      ]
    },
    {
      "cell_type": "code",
      "source": [
        "# multiple dictionary operations in python\n",
        "dict1 = {1: \"Python\", 2: \"Java\", 3: \"Ruby\", 4: \"Scala\"}\n",
        "dict2 = dict1.copy()\n",
        "print(dict2)\n",
        "dict1.clear()\n",
        "print(dict1)\n",
        "print(dict2.get(1))\n",
        "print(dict2.items())\n",
        "print(dict2.keys())\n",
        "dict2.pop(4)\n",
        "print(dict2)\n",
        "dict2.popitem()\n",
        "print(dict2)\n",
        "dict2.update({3: \"Scala\"})\n",
        "print(dict2)\n",
        "print(dict2.values())"
      ],
      "metadata": {
        "colab": {
          "base_uri": "https://localhost:8080/"
        },
        "id": "wApMkaYIovHQ",
        "outputId": "6ff49916-f242-4d7d-a2c8-a575c9bf2007"
      },
      "execution_count": 39,
      "outputs": [
        {
          "output_type": "stream",
          "name": "stdout",
          "text": [
            "{1: 'Python', 2: 'Java', 3: 'Ruby', 4: 'Scala'}\n",
            "{}\n",
            "Python\n",
            "dict_items([(1, 'Python'), (2, 'Java'), (3, 'Ruby'), (4, 'Scala')])\n",
            "dict_keys([1, 2, 3, 4])\n",
            "{1: 'Python', 2: 'Java', 3: 'Ruby'}\n",
            "{1: 'Python', 2: 'Java'}\n",
            "{1: 'Python', 2: 'Java', 3: 'Scala'}\n",
            "dict_values(['Python', 'Java', 'Scala'])\n"
          ]
        }
      ]
    },
    {
      "cell_type": "code",
      "source": [
        "# creating an dictionary\n",
        "D = {}\n",
        "\n",
        "L = [['a',1],['b',2],['a',3],['c',4]]\n",
        "\n",
        "# loop to add key-value pair\n",
        "for i in range(len(L)):\n",
        "# in case if keys are already present then append the values to to the dictionary\n",
        "    if L[i][0] in D:\n",
        "      D[L[i][0]].append(L[i][1])\n",
        "\n",
        "    # if key is not present in dictionary then add both key- value pair\n",
        "    else:\n",
        "      D[L[i][0]] = []\n",
        "      D[L[i][0]].append(L[i][1])\n",
        "\n",
        "print(D)"
      ],
      "metadata": {
        "colab": {
          "base_uri": "https://localhost:8080/"
        },
        "id": "EBtdKy8FprC1",
        "outputId": "4d6718b2-cf0f-4f30-fc8c-f96d18f6f779"
      },
      "execution_count": 40,
      "outputs": [
        {
          "output_type": "stream",
          "name": "stdout",
          "text": [
            "{'a': [1, 3], 'b': [2], 'c': [4]}\n"
          ]
        }
      ]
    },
    {
      "cell_type": "code",
      "source": [
        "# overview of keys and values\n",
        "key_ref = \"More nested things\"\n",
        "my_dict = {'Nested Things':[{'name','thing one'},{'name','thing two'}]}\n",
        "\n",
        "# value to be added\n",
        "my_list_of_things = [{'name','thing three'},{'name','thing four'}]\n",
        "\n",
        "# try- except to take care of errors\n",
        "# while adding key - value pair\n",
        "\n",
        "try:\n",
        "  my_dict[key_ref].append(my_list_of_things)\n",
        "\n",
        "except KeyError:\n",
        "  my_dict = {**my_dict,**{key_ref:my_list_of_things}}\n",
        "\n",
        "print(my_dict)"
      ],
      "metadata": {
        "colab": {
          "base_uri": "https://localhost:8080/"
        },
        "id": "qj1jTwHVrlz6",
        "outputId": "0809c39d-809f-4390-ccd9-1f0153d3dcd5"
      },
      "execution_count": 41,
      "outputs": [
        {
          "output_type": "stream",
          "name": "stdout",
          "text": [
            "{'Nested Things': [{'name', 'thing one'}, {'name', 'thing two'}], 'More nested things': [{'name', 'thing three'}, {'name', 'thing four'}]}\n"
          ]
        }
      ]
    },
    {
      "cell_type": "code",
      "source": [
        "# Built in Dictionary function methods in python\n",
        "Dict = {}\n",
        "my_list = [(1,'ganesh'),(2,'are')]\n",
        "print(my_list)\n",
        "\n",
        "# creating a dictionary with each item as a pair\n",
        "Dict = dict(my_list)\n",
        "print(Dict)"
      ],
      "metadata": {
        "colab": {
          "base_uri": "https://localhost:8080/"
        },
        "id": "IuHeKNs8umNs",
        "outputId": "44609a17-d162-4f35-9bed-bd32cac4c291"
      },
      "execution_count": 43,
      "outputs": [
        {
          "output_type": "stream",
          "name": "stdout",
          "text": [
            "[(1, 'ganesh'), (2, 'are')]\n",
            "{1: 'ganesh', 2: 'are'}\n"
          ]
        }
      ]
    },
    {
      "cell_type": "code",
      "source": [
        "# how to add values to dictionary in python\n",
        "# assign values using unique keys\n",
        "veg_dict = {}\n",
        "veg_dict[0] = 'carrot'\n",
        "veg_dict[1] = 'Reddish'\n",
        "veg_dict[2] = 'Brinjal'\n",
        "veg_dict[3] = 'Potato'\n",
        "\n",
        "print(veg_dict)"
      ],
      "metadata": {
        "colab": {
          "base_uri": "https://localhost:8080/"
        },
        "id": "IDQpFJOG5Lft",
        "outputId": "d2ab91fb-460c-4f88-9351-7ec4e0f3b2b9"
      },
      "execution_count": 44,
      "outputs": [
        {
          "output_type": "stream",
          "name": "stdout",
          "text": [
            "{0: 'carrot', 1: 'Reddish', 2: 'Brinjal', 3: 'Potato'}\n"
          ]
        }
      ]
    },
    {
      "cell_type": "code",
      "source": [
        "veg_dict[0] = 'Tomato'\n",
        "print(veg_dict)"
      ],
      "metadata": {
        "colab": {
          "base_uri": "https://localhost:8080/"
        },
        "id": "dwA5NcHx6YE2",
        "outputId": "d8d3af1b-7085-4e71-c0f4-72fc53bd0eee"
      },
      "execution_count": 45,
      "outputs": [
        {
          "output_type": "stream",
          "name": "stdout",
          "text": [
            "{0: 'Tomato', 1: 'Reddish', 2: 'Brinjal', 3: 'Potato'}\n"
          ]
        }
      ]
    },
    {
      "cell_type": "code",
      "source": [
        "# Merging two dictionaries using update()\n",
        "veg_dict = {0: 'Carrot', 1: 'Raddish',\n",
        "            2: 'Brinjal', 3: 'Potato'}\n",
        "\n",
        "veg_dict.update({4:'Tomato',5:'Spinach'})\n",
        "print(veg_dict)"
      ],
      "metadata": {
        "colab": {
          "base_uri": "https://localhost:8080/"
        },
        "id": "X2M5vbWo6pd8",
        "outputId": "750e4cac-89fc-4e08-84ef-ad8c1dce09c2"
      },
      "execution_count": 46,
      "outputs": [
        {
          "output_type": "stream",
          "name": "stdout",
          "text": [
            "{0: 'Carrot', 1: 'Raddish', 2: 'Brinjal', 3: 'Potato', 4: 'Tomato', 5: 'Spinach'}\n"
          ]
        }
      ]
    },
    {
      "cell_type": "code",
      "source": [
        "# add values to the dictionary using two lists of the same length\n",
        "roll_no = [10,20,30,40,50]\n",
        "names = ['Ramesh','Mahesh','Suresh','Ganesh']\n",
        "\n",
        "students = dict(zip(roll_no,names))\n",
        "print(students)"
      ],
      "metadata": {
        "colab": {
          "base_uri": "https://localhost:8080/"
        },
        "id": "Ris3sPbJ7NH8",
        "outputId": "a8130310-8f0f-4c04-e0b4-1460597e0adc"
      },
      "execution_count": 47,
      "outputs": [
        {
          "output_type": "stream",
          "name": "stdout",
          "text": [
            "{10: 'Ramesh', 20: 'Mahesh', 30: 'Suresh', 40: 'Ganesh'}\n"
          ]
        }
      ]
    },
    {
      "cell_type": "code",
      "source": [
        "# converting a list to dictionary\n",
        "vegetables = ['Carrot', 'Raddish', 'Brinjal', 'Potato']\n",
        "\n",
        "veg_dict = dict(enumerate(vegetables))\n",
        "print(veg_dict)"
      ],
      "metadata": {
        "colab": {
          "base_uri": "https://localhost:8080/"
        },
        "id": "1xbHxNIc8TMe",
        "outputId": "b9b28712-3386-4b40-f0ab-ea34fe72bf20"
      },
      "execution_count": 48,
      "outputs": [
        {
          "output_type": "stream",
          "name": "stdout",
          "text": [
            "{0: 'Carrot', 1: 'Raddish', 2: 'Brinjal', 3: 'Potato'}\n"
          ]
        }
      ]
    },
    {
      "cell_type": "code",
      "source": [
        "# add values by merge(|) operator\n",
        "veg1 = {0:'carrot',1:'reddish'}\n",
        "veg2 = {2:'brinjal',3:'potato'}\n",
        "\n",
        "veg_dict = (veg1 | veg2)\n",
        "print(veg_dict)"
      ],
      "metadata": {
        "colab": {
          "base_uri": "https://localhost:8080/"
        },
        "id": "h7F3VfjD9KsV",
        "outputId": "cd6a68e6-16cf-41ef-903a-55c3039f2ef0"
      },
      "execution_count": 49,
      "outputs": [
        {
          "output_type": "stream",
          "name": "stdout",
          "text": [
            "{0: 'carrot', 1: 'reddish', 2: 'brinjal', 3: 'potato'}\n"
          ]
        }
      ]
    },
    {
      "cell_type": "code",
      "source": [
        "# add values by in-place (|=) operator\n",
        "veg1 = {0:'carrot',1:'reddish'}\n",
        "veg2 = {2:'brinjal',3:'potato'}\n",
        "\n",
        "veg1 |= veg2\n",
        "print(veg1)"
      ],
      "metadata": {
        "colab": {
          "base_uri": "https://localhost:8080/"
        },
        "id": "8A05CW239rZz",
        "outputId": "18fff624-23e0-4ef9-8a36-55b31ea0ae20"
      },
      "execution_count": 50,
      "outputs": [
        {
          "output_type": "stream",
          "name": "stdout",
          "text": [
            "{0: 'carrot', 1: 'reddish', 2: 'brinjal', 3: 'potato'}\n"
          ]
        }
      ]
    },
    {
      "cell_type": "code",
      "source": [
        "# accessing key value in dictionary by key()\n",
        "test_dict = {1: 'Ganesh', 2: 'raghavendra', 3: 'shreya'}\n",
        "for key in test_dict.keys():\n",
        "  print(\"key:\",key,\"value:\",test_dict[key])"
      ],
      "metadata": {
        "colab": {
          "base_uri": "https://localhost:8080/"
        },
        "id": "00eyNw9P-pAf",
        "outputId": "2faf7636-7882-4ad7-89e2-38ff2c17fb1b"
      },
      "execution_count": 51,
      "outputs": [
        {
          "output_type": "stream",
          "name": "stdout",
          "text": [
            "key: 1 value: Ganesh\n",
            "key: 2 value: raghavendra\n",
            "key: 3 value: shreya\n"
          ]
        }
      ]
    },
    {
      "cell_type": "code",
      "source": [
        "# accesing values() method\n",
        "\n",
        "for value in test_dict.values():\n",
        "  print(\"Value:\",value)"
      ],
      "metadata": {
        "colab": {
          "base_uri": "https://localhost:8080/"
        },
        "id": "Ss-Vl4_5ArMC",
        "outputId": "c7f1a63e-1467-4615-ba09-ada260119a8d"
      },
      "execution_count": 52,
      "outputs": [
        {
          "output_type": "stream",
          "name": "stdout",
          "text": [
            "Value: Ganesh\n",
            "Value: raghavendra\n",
            "Value: shreya\n"
          ]
        }
      ]
    },
    {
      "cell_type": "code",
      "source": [
        "# in operator - key value pair\n",
        "for i in test_dict:\n",
        "  print(i,test_dict[i])"
      ],
      "metadata": {
        "colab": {
          "base_uri": "https://localhost:8080/"
        },
        "id": "vNjlxjQDBZjx",
        "outputId": "3f6b3947-6ed8-449a-8de8-782cd8d12eb2"
      },
      "execution_count": 53,
      "outputs": [
        {
          "output_type": "stream",
          "name": "stdout",
          "text": [
            "1 Ganesh\n",
            "2 raghavendra\n",
            "3 shreya\n"
          ]
        }
      ]
    },
    {
      "cell_type": "code",
      "source": [
        "# accessing list comprehension - it will give pair in tuple\n",
        "print([(k,test_dict[k]) for k in test_dict])"
      ],
      "metadata": {
        "colab": {
          "base_uri": "https://localhost:8080/"
        },
        "id": "3An1Lm2NBzOQ",
        "outputId": "eb50dfc4-9b10-47f7-f21a-3edfaff90168"
      },
      "execution_count": 54,
      "outputs": [
        {
          "output_type": "stream",
          "name": "stdout",
          "text": [
            "[(1, 'Ganesh'), (2, 'raghavendra'), (3, 'shreya')]\n"
          ]
        }
      ]
    },
    {
      "cell_type": "code",
      "source": [
        "# accessing using dict.items()\n",
        "for key ,value in test_dict.items():\n",
        "  print(key,value)"
      ],
      "metadata": {
        "colab": {
          "base_uri": "https://localhost:8080/"
        },
        "id": "1pyOP8GAClfY",
        "outputId": "5add7c82-6cbd-4abf-cfa8-11f08c72329a"
      },
      "execution_count": 55,
      "outputs": [
        {
          "output_type": "stream",
          "name": "stdout",
          "text": [
            "1 Ganesh\n",
            "2 raghavendra\n",
            "3 shreya\n"
          ]
        }
      ]
    },
    {
      "cell_type": "code",
      "source": [
        "# using enumerate()\n",
        "for i in enumerate(test_dict.items()):\n",
        "  print(i)"
      ],
      "metadata": {
        "colab": {
          "base_uri": "https://localhost:8080/"
        },
        "id": "fYK8J-jhDSN4",
        "outputId": "a8049be0-4ffe-4fdb-e27b-3c38ec76baf2"
      },
      "execution_count": 56,
      "outputs": [
        {
          "output_type": "stream",
          "name": "stdout",
          "text": [
            "(0, (1, 'Ganesh'))\n",
            "(1, (2, 'raghavendra'))\n",
            "(2, (3, 'shreya'))\n"
          ]
        }
      ]
    },
    {
      "cell_type": "code",
      "source": [
        "#using for loop and items() method\n",
        "key_value_pairs = []\n",
        "\n",
        "for key,value in test_dict.items():\n",
        "    key_value_pairs.append((key,value))\n",
        "\n",
        "for pair in key_value_pairs:\n",
        "    print(pair)"
      ],
      "metadata": {
        "colab": {
          "base_uri": "https://localhost:8080/"
        },
        "id": "XTeqxj-mEAhH",
        "outputId": "30187a7e-2329-41c9-c93f-5da37674a60c"
      },
      "execution_count": 58,
      "outputs": [
        {
          "output_type": "stream",
          "name": "stdout",
          "text": [
            "(1, 'Ganesh')\n",
            "(2, 'raghavendra')\n",
            "(3, 'shreya')\n"
          ]
        }
      ]
    },
    {
      "cell_type": "code",
      "source": [
        "# python del to delete objects\n",
        "class Sample_class:\n",
        "  some_variable = 20\n",
        "\n",
        "  # method of the class\n",
        "  def my_method(self):\n",
        "      print(\"ganesh chowdary\")\n",
        "\n",
        "# check if class exists\n",
        "print(Sample_class)\n",
        "\n",
        "# delete the class using del keyword\n",
        "del Sample_class\n",
        "# check if the class exists\n",
        "print(Sample_class)"
      ],
      "metadata": {
        "colab": {
          "base_uri": "https://localhost:8080/",
          "height": 227
        },
        "id": "aeQ_wyuaGcNg",
        "outputId": "1de09709-7343-43ec-d416-be9d7a4152eb"
      },
      "execution_count": 59,
      "outputs": [
        {
          "output_type": "stream",
          "name": "stdout",
          "text": [
            "<class '__main__.Sample_class'>\n"
          ]
        },
        {
          "output_type": "error",
          "ename": "NameError",
          "evalue": "ignored",
          "traceback": [
            "\u001b[0;31m---------------------------------------------------------------------------\u001b[0m",
            "\u001b[0;31mNameError\u001b[0m                                 Traceback (most recent call last)",
            "\u001b[0;32m<ipython-input-59-f3138f829a54>\u001b[0m in \u001b[0;36m<cell line: 15>\u001b[0;34m()\u001b[0m\n\u001b[1;32m     13\u001b[0m \u001b[0;32mdel\u001b[0m \u001b[0mSample_class\u001b[0m\u001b[0;34m\u001b[0m\u001b[0;34m\u001b[0m\u001b[0m\n\u001b[1;32m     14\u001b[0m \u001b[0;31m# check if the class exists\u001b[0m\u001b[0;34m\u001b[0m\u001b[0;34m\u001b[0m\u001b[0m\n\u001b[0;32m---> 15\u001b[0;31m \u001b[0mprint\u001b[0m\u001b[0;34m(\u001b[0m\u001b[0mSample_class\u001b[0m\u001b[0;34m)\u001b[0m\u001b[0;34m\u001b[0m\u001b[0;34m\u001b[0m\u001b[0m\n\u001b[0m",
            "\u001b[0;31mNameError\u001b[0m: name 'Sample_class' is not defined"
          ]
        }
      ]
    },
    {
      "cell_type": "code",
      "source": [
        "# del for deleting variables\n",
        "my_variable1 = 20\n",
        "my_variable2 = \"Ganesh\"\n",
        "\n",
        "del  my_variable1\n",
        "del  my_variable2\n",
        "\n",
        "my_variable1\n",
        "my_variable2"
      ],
      "metadata": {
        "colab": {
          "base_uri": "https://localhost:8080/",
          "height": 227
        },
        "id": "2Vj6bv-yIH-3",
        "outputId": "0a6fb89c-7f53-449f-e495-bf859f3e35f0"
      },
      "execution_count": 60,
      "outputs": [
        {
          "output_type": "error",
          "ename": "NameError",
          "evalue": "ignored",
          "traceback": [
            "\u001b[0;31m---------------------------------------------------------------------------\u001b[0m",
            "\u001b[0;31mNameError\u001b[0m                                 Traceback (most recent call last)",
            "\u001b[0;32m<ipython-input-60-06cc4d7fb847>\u001b[0m in \u001b[0;36m<cell line: 8>\u001b[0;34m()\u001b[0m\n\u001b[1;32m      6\u001b[0m \u001b[0;32mdel\u001b[0m  \u001b[0mmy_variable2\u001b[0m\u001b[0;34m\u001b[0m\u001b[0;34m\u001b[0m\u001b[0m\n\u001b[1;32m      7\u001b[0m \u001b[0;34m\u001b[0m\u001b[0m\n\u001b[0;32m----> 8\u001b[0;31m \u001b[0mmy_variable1\u001b[0m\u001b[0;34m\u001b[0m\u001b[0;34m\u001b[0m\u001b[0m\n\u001b[0m\u001b[1;32m      9\u001b[0m \u001b[0mmy_variable2\u001b[0m\u001b[0;34m\u001b[0m\u001b[0;34m\u001b[0m\u001b[0m\n",
            "\u001b[0;31mNameError\u001b[0m: name 'my_variable1' is not defined"
          ]
        }
      ]
    },
    {
      "cell_type": "code",
      "source": [
        "# del kw for deleting List and List Slicing\n",
        "my_list1 = [1, 2, 3, 4, 5, 6, 7, 8, 9]\n",
        "my_list2 =[\"Ganesh\", \"raghavendra\", \"shreya\"]\n",
        "\n",
        "del my_list[3:5]\n",
        "\n",
        "my_list1\n",
        "\n",
        "del my_list2\n",
        "\n",
        "#my_list2"
      ],
      "metadata": {
        "id": "ILXV78frIii_"
      },
      "execution_count": 62,
      "outputs": []
    },
    {
      "cell_type": "code",
      "source": [
        "# del kw deleting dictionaries and removing key-value pairs\n",
        "\n",
        "my_dict1 = {\"small\": \"big\", \"black\": \"white\", \"up\": \"down\"}\n",
        "my_dict2 = {\"dark\": \"light\", \"fat\": \"thin\", \"sky\": \"land\"}\n",
        "\n",
        "del my_dict1[\"black\"]\n",
        "\n",
        "my_dict1\n",
        "\n",
        "del my_dict2\n",
        "\n",
        "my_dict2"
      ],
      "metadata": {
        "colab": {
          "base_uri": "https://localhost:8080/",
          "height": 210
        },
        "id": "7wq8NYvMJTnY",
        "outputId": "b8d26970-69c0-4752-a05c-340f8dfecaf5"
      },
      "execution_count": 64,
      "outputs": [
        {
          "output_type": "error",
          "ename": "NameError",
          "evalue": "ignored",
          "traceback": [
            "\u001b[0;31m---------------------------------------------------------------------------\u001b[0m",
            "\u001b[0;31mNameError\u001b[0m                                 Traceback (most recent call last)",
            "\u001b[0;32m<ipython-input-64-3776dbf571a4>\u001b[0m in \u001b[0;36m<cell line: 12>\u001b[0;34m()\u001b[0m\n\u001b[1;32m     10\u001b[0m \u001b[0;32mdel\u001b[0m \u001b[0mmy_dict2\u001b[0m\u001b[0;34m\u001b[0m\u001b[0;34m\u001b[0m\u001b[0m\n\u001b[1;32m     11\u001b[0m \u001b[0;34m\u001b[0m\u001b[0m\n\u001b[0;32m---> 12\u001b[0;31m \u001b[0mmy_dict2\u001b[0m\u001b[0;34m\u001b[0m\u001b[0;34m\u001b[0m\u001b[0m\n\u001b[0m",
            "\u001b[0;31mNameError\u001b[0m: name 'my_dict2' is not defined"
          ]
        }
      ]
    }
  ]
}