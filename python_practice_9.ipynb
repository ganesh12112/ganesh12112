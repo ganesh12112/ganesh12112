{
  "nbformat": 4,
  "nbformat_minor": 0,
  "metadata": {
    "colab": {
      "provenance": [],
      "authorship_tag": "ABX9TyPjbj4DzYQMzHltvXCC9A6G",
      "include_colab_link": true
    },
    "kernelspec": {
      "name": "python3",
      "display_name": "Python 3"
    },
    "language_info": {
      "name": "python"
    }
  },
  "cells": [
    {
      "cell_type": "markdown",
      "metadata": {
        "id": "view-in-github",
        "colab_type": "text"
      },
      "source": [
        "<a href=\"https://colab.research.google.com/github/ganesh12112/ganesh12112/blob/main/python_practice_9.ipynb\" target=\"_parent\"><img src=\"https://colab.research.google.com/assets/colab-badge.svg\" alt=\"Open In Colab\"/></a>"
      ]
    },
    {
      "cell_type": "code",
      "execution_count": null,
      "metadata": {
        "colab": {
          "base_uri": "https://localhost:8080/"
        },
        "id": "vUhd_68ixf8_",
        "outputId": "4bb1962d-079b-4d31-c65f-b9989b389fe2"
      },
      "outputs": [
        {
          "output_type": "stream",
          "name": "stdout",
          "text": [
            "intial empty tuple:\n",
            "()\n"
          ]
        }
      ],
      "source": [
        "# python tuples\n",
        "tuple1 = ()\n",
        "print(\"intial empty tuple:\")\n",
        "print(tuple1)"
      ]
    },
    {
      "cell_type": "code",
      "source": [
        "tu1 = (\"ganesh\",\"for\")\n",
        "print(tu1)"
      ],
      "metadata": {
        "colab": {
          "base_uri": "https://localhost:8080/"
        },
        "id": "cupAdHqyzJrp",
        "outputId": "a75b5aec-3b6a-456c-da4e-b185a57ba04e"
      },
      "execution_count": null,
      "outputs": [
        {
          "output_type": "stream",
          "name": "stdout",
          "text": [
            "('ganesh', 'for')\n"
          ]
        }
      ]
    },
    {
      "cell_type": "code",
      "source": [
        "list1 = [1,2,3,4,5,6]\n",
        "print(tuple(list1))"
      ],
      "metadata": {
        "colab": {
          "base_uri": "https://localhost:8080/"
        },
        "id": "4hUCL__QzXsi",
        "outputId": "ea42496b-c0c1-453e-9530-0132e8aadc4f"
      },
      "execution_count": null,
      "outputs": [
        {
          "output_type": "stream",
          "name": "stdout",
          "text": [
            "(1, 2, 3, 4, 5, 6)\n"
          ]
        }
      ]
    },
    {
      "cell_type": "code",
      "source": [
        "# creating a tuple using inbuilt function tuple\n",
        "tu1 = tuple(\"ganesh\")\n",
        "print(tu1)"
      ],
      "metadata": {
        "colab": {
          "base_uri": "https://localhost:8080/"
        },
        "id": "OIQDaK1yzmop",
        "outputId": "0886bb94-254c-4fa9-9c06-be2c8b5ebef8"
      },
      "execution_count": null,
      "outputs": [
        {
          "output_type": "stream",
          "name": "stdout",
          "text": [
            "('g', 'a', 'n', 'e', 's', 'h')\n"
          ]
        }
      ]
    },
    {
      "cell_type": "code",
      "source": [
        "#tu = (5,'ganesh',[1,'are'])\n",
        "#print(tu)\n",
        "\n",
        "# creating nested tuples\n",
        "#tu1 = (1,2,3,4)\n",
        "#tu2 = ('ganesh','are')\n",
        "#tu3 = (tu1,tu2)\n",
        "#print(tu3)\n",
        "\n",
        "# creating tuple repeats\n",
        "#tu4 = ('ganesh') * 3\n",
        "#print(tu4)\n",
        "\n",
        "# craeting tuple with the use of loop\n",
        "n= 5\n",
        "for i in range(int(n)):\n",
        "    tu = (tu)\n",
        "    print(tu)"
      ],
      "metadata": {
        "colab": {
          "base_uri": "https://localhost:8080/"
        },
        "id": "C_tuk5nS1NPr",
        "outputId": "116f490c-6bc6-4ddf-dd93-3fc1159a901f"
      },
      "execution_count": null,
      "outputs": [
        {
          "output_type": "stream",
          "name": "stdout",
          "text": [
            "(5, 'ganesh', [1, 'are'])\n",
            "(5, 'ganesh', [1, 'are'])\n",
            "(5, 'ganesh', [1, 'are'])\n",
            "(5, 'ganesh', [1, 'are'])\n",
            "(5, 'ganesh', [1, 'are'])\n"
          ]
        }
      ]
    },
    {
      "cell_type": "code",
      "source": [
        "# accesing of tuples\n",
        "tu1 = tuple('ganesh')\n",
        "print(tu1[0])"
      ],
      "metadata": {
        "colab": {
          "base_uri": "https://localhost:8080/"
        },
        "id": "YhbZB5Na3Qm2",
        "outputId": "99bd275b-e3eb-4146-d46a-20ddca32c815"
      },
      "execution_count": null,
      "outputs": [
        {
          "output_type": "stream",
          "name": "stdout",
          "text": [
            "g\n"
          ]
        }
      ]
    },
    {
      "cell_type": "code",
      "source": [
        "# tuple unpacking\n",
        "tu1 = (\"ganesh\",\"for\",\"are\")\n",
        "\n",
        "a,b,c = tu1\n",
        "print(a)\n",
        "print(b)\n",
        "print(c)"
      ],
      "metadata": {
        "colab": {
          "base_uri": "https://localhost:8080/"
        },
        "id": "9YfM_aVo3u-6",
        "outputId": "36fb3c1b-fdd9-465a-a042-410cb1649e86"
      },
      "execution_count": null,
      "outputs": [
        {
          "output_type": "stream",
          "name": "stdout",
          "text": [
            "ganesh\n",
            "for\n",
            "are\n"
          ]
        }
      ]
    },
    {
      "cell_type": "code",
      "source": [
        "# conacatenation of tuples\n",
        "tu1 = (0,1,2,3)\n",
        "tu2 = ('geeks','for','geeks')\n",
        "tu3 = tu1+tu2\n",
        "print(tu3)"
      ],
      "metadata": {
        "colab": {
          "base_uri": "https://localhost:8080/"
        },
        "id": "7UInea804XQX",
        "outputId": "971fe527-827a-4e8e-8b97-3e32a3904fcf"
      },
      "execution_count": null,
      "outputs": [
        {
          "output_type": "stream",
          "name": "stdout",
          "text": [
            "(0, 1, 2, 3, 'geeks', 'for', 'geeks')\n"
          ]
        }
      ]
    },
    {
      "cell_type": "code",
      "source": [
        "# slicing of tuple\n",
        "tu1 = tuple(\"ganeshchowdary\")\n",
        "print(tu1[1:])\n",
        "\n",
        "print(tu1[::-1])\n",
        "\n",
        "print(tu1[4:9])"
      ],
      "metadata": {
        "colab": {
          "base_uri": "https://localhost:8080/"
        },
        "id": "KrHCjXzp5Wh2",
        "outputId": "c30cccb2-0fd8-4280-8fb2-95aabd981b9c"
      },
      "execution_count": null,
      "outputs": [
        {
          "output_type": "stream",
          "name": "stdout",
          "text": [
            "('a', 'n', 'e', 's', 'h', 'c', 'h', 'o', 'w', 'd', 'a', 'r', 'y')\n",
            "('y', 'r', 'a', 'd', 'w', 'o', 'h', 'c', 'h', 's', 'e', 'n', 'a', 'g')\n",
            "('s', 'h', 'c', 'h', 'o')\n"
          ]
        }
      ]
    },
    {
      "cell_type": "code",
      "source": [
        "# deleting a tuple\n",
        "tu1 = (0,1,2,3,4)\n",
        "\n",
        "del tu1\n",
        "print(tu1)"
      ],
      "metadata": {
        "colab": {
          "base_uri": "https://localhost:8080/",
          "height": 210
        },
        "id": "0kyY7N4O6HFd",
        "outputId": "d3dcc649-80e2-4460-8ec3-0f125c72cbeb"
      },
      "execution_count": null,
      "outputs": [
        {
          "output_type": "error",
          "ename": "NameError",
          "evalue": "ignored",
          "traceback": [
            "\u001b[0;31m---------------------------------------------------------------------------\u001b[0m",
            "\u001b[0;31mNameError\u001b[0m                                 Traceback (most recent call last)",
            "\u001b[0;32m<ipython-input-19-6115d40a6407>\u001b[0m in \u001b[0;36m<cell line: 5>\u001b[0;34m()\u001b[0m\n\u001b[1;32m      3\u001b[0m \u001b[0;34m\u001b[0m\u001b[0m\n\u001b[1;32m      4\u001b[0m \u001b[0;32mdel\u001b[0m \u001b[0mtu1\u001b[0m\u001b[0;34m\u001b[0m\u001b[0;34m\u001b[0m\u001b[0m\n\u001b[0;32m----> 5\u001b[0;31m \u001b[0mprint\u001b[0m\u001b[0;34m(\u001b[0m\u001b[0mtu1\u001b[0m\u001b[0;34m)\u001b[0m\u001b[0;34m\u001b[0m\u001b[0;34m\u001b[0m\u001b[0m\n\u001b[0m",
            "\u001b[0;31mNameError\u001b[0m: name 'tu1' is not defined"
          ]
        }
      ]
    },
    {
      "cell_type": "code",
      "source": [
        "# creating tuple from string and list - python\n",
        "test_list = ['ganesh','is']\n",
        "test_str = \"best\"\n",
        "# using list conversion to tuple + tuple()\n",
        "res = tuple(test_list+[test_str])\n",
        "\n",
        "print(\"aggregated tuple:\",res)"
      ],
      "metadata": {
        "colab": {
          "base_uri": "https://localhost:8080/"
        },
        "id": "YrVrN5xc8LqQ",
        "outputId": "46cfc4ca-b9d3-44f6-8210-fa16d85488ad"
      },
      "execution_count": null,
      "outputs": [
        {
          "output_type": "stream",
          "name": "stdout",
          "text": [
            "aggregated tuple: ('ganesh', 'is', 'best')\n"
          ]
        }
      ]
    },
    {
      "cell_type": "code",
      "source": [
        "#Create a tuple from string and list Using Tuple conversion to tuple + tuple()\n",
        "test_list = ['ganesh','is']\n",
        "test_str = \"best\"\n",
        "# using list conversion to tuple + tuple()\n",
        "res = (test_str,)+tuple(test_list)\n",
        "\n",
        "print(\"aggregated tuple:\",res)"
      ],
      "metadata": {
        "colab": {
          "base_uri": "https://localhost:8080/"
        },
        "id": "-S7E55xB9SF_",
        "outputId": "1cb48e07-c081-49be-b50b-a7cf0d57b897"
      },
      "execution_count": null,
      "outputs": [
        {
          "output_type": "stream",
          "name": "stdout",
          "text": [
            "aggregated tuple: ('best', 'ganesh', 'is')\n"
          ]
        }
      ]
    },
    {
      "cell_type": "code",
      "source": [
        "#Create a tuple from string and list Using list+ tuple+ copy()+append()\n",
        "og_list = ['ganesh','is']\n",
        "og_str = 'best'\n",
        "\n",
        "new_list = og_list.copy()\n",
        "new_list.append(og_str)\n",
        "\n",
        "new_tu = tuple(new_list)\n",
        "print(\"the aggregated tuple is:\",new_tu)"
      ],
      "metadata": {
        "colab": {
          "base_uri": "https://localhost:8080/"
        },
        "id": "8htKHQj1-lpD",
        "outputId": "f8047122-b1e4-4457-ecb2-e9006b3f7145"
      },
      "execution_count": null,
      "outputs": [
        {
          "output_type": "stream",
          "name": "stdout",
          "text": [
            "the aggregated tuple is: ('ganesh', 'is', 'best')\n"
          ]
        }
      ]
    },
    {
      "cell_type": "code",
      "source": [
        "#Create a tuple from string and list Using the + operator\n",
        "lst = [\"ganesh\",\"is\"]\n",
        "strg = \"best\"\n",
        "\n",
        "result = tuple(lst+[strg])\n",
        "print(result)"
      ],
      "metadata": {
        "colab": {
          "base_uri": "https://localhost:8080/"
        },
        "id": "_Qyr4rtKAxRh",
        "outputId": "52479528-6fe0-49e0-c10b-82f1ca69cc0e"
      },
      "execution_count": null,
      "outputs": [
        {
          "output_type": "stream",
          "name": "stdout",
          "text": [
            "('ganesh', 'is', 'best')\n"
          ]
        }
      ]
    },
    {
      "cell_type": "code",
      "source": [
        "def create_tuple(string, lst):\n",
        "    lst.extend([string])\n",
        "    return tuple(lst)\n",
        "\n",
        "# Driver Code\n",
        "original_list = ['gfg', 'is']\n",
        "original_string = 'best'\n",
        "\n",
        "result = create_tuple(original_string, original_list)\n",
        "\n",
        "print(\"The original list : \", original_list)\n",
        "print(\"The original string : \", original_string)\n",
        "print(\"The aggregated tuple is : \", result)"
      ],
      "metadata": {
        "id": "-PVwPKw2E1e3",
        "colab": {
          "base_uri": "https://localhost:8080/"
        },
        "outputId": "9e743c03-192b-48a4-86d8-d8cf384e102c"
      },
      "execution_count": 33,
      "outputs": [
        {
          "output_type": "stream",
          "name": "stdout",
          "text": [
            "The original list :  ['gfg', 'is', 'best']\n",
            "The original string :  best\n",
            "The aggregated tuple is :  ('gfg', 'is', 'best')\n"
          ]
        }
      ]
    },
    {
      "cell_type": "code",
      "source": [
        "# access front and rear element of python tuple\n",
        "test_tu = (10,3,4,6,7)\n",
        "res = (test_tu[0],test_tu[-1])\n",
        "print(res)"
      ],
      "metadata": {
        "id": "lIpixbyLD3fm",
        "colab": {
          "base_uri": "https://localhost:8080/"
        },
        "outputId": "05234e51-a94f-48a7-b200-63514adbd4e1"
      },
      "execution_count": 34,
      "outputs": [
        {
          "output_type": "stream",
          "name": "stdout",
          "text": [
            "(10, 7)\n"
          ]
        }
      ]
    },
    {
      "cell_type": "code",
      "source": [
        "# using itemgetter()\n",
        "from operator import itemgetter\n",
        "\n",
        "test_tu = (10,4,5,6,7)\n",
        "\n",
        "res = itemgetter(0,-1)(test_tu)\n",
        "\n",
        "print(res)"
      ],
      "metadata": {
        "colab": {
          "base_uri": "https://localhost:8080/"
        },
        "id": "P9HmIA-TF1r6",
        "outputId": "194f03c0-9bc8-4629-dd51-ed0ee094c62f"
      },
      "execution_count": 35,
      "outputs": [
        {
          "output_type": "stream",
          "name": "stdout",
          "text": [
            "(10, 7)\n"
          ]
        }
      ]
    },
    {
      "cell_type": "code",
      "source": [
        "# using indexing\n",
        "test_tu = (10,4,5,6,7)\n",
        "\n",
        "res = (test_tu[0],test_tu[len(test_tu)-1])\n",
        "\n",
        "print(res)"
      ],
      "metadata": {
        "colab": {
          "base_uri": "https://localhost:8080/"
        },
        "id": "vf5oQwMSGWWu",
        "outputId": "d3142426-3660-4169-c5ed-d1b7019667d1"
      },
      "execution_count": 36,
      "outputs": [
        {
          "output_type": "stream",
          "name": "stdout",
          "text": [
            "(10, 7)\n"
          ]
        }
      ]
    },
    {
      "cell_type": "code",
      "source": [
        "# unpacking tuple\n",
        "test_tu = (10,4,5,6,7)\n",
        "# accesing the front and rear element of tuple\n",
        "# unpacking the tuple\n",
        "front,*_,rear = test_tu\n",
        "\n",
        "res = (front,rear)\n",
        "\n",
        "print(res)"
      ],
      "metadata": {
        "colab": {
          "base_uri": "https://localhost:8080/"
        },
        "id": "kzqm8yraHEFM",
        "outputId": "0e1ab98b-7032-491c-c4cd-491e40a92a2a"
      },
      "execution_count": 38,
      "outputs": [
        {
          "output_type": "stream",
          "name": "stdout",
          "text": [
            "(10, 7)\n"
          ]
        }
      ]
    },
    {
      "cell_type": "code",
      "source": [
        "# using slicing\n",
        "test_tu = (10,4,5,6,7)\n",
        "\n",
        "front = test_tu[0]\n",
        "rear = test_tu[-1]\n",
        "\n",
        "res = (front,rear)\n",
        "\n",
        "print(res)"
      ],
      "metadata": {
        "colab": {
          "base_uri": "https://localhost:8080/"
        },
        "id": "huVeFnNyIO6l",
        "outputId": "2567b356-17a2-4e8d-9c83-20a1375acad0"
      },
      "execution_count": 39,
      "outputs": [
        {
          "output_type": "stream",
          "name": "stdout",
          "text": [
            "(10, 7)\n"
          ]
        }
      ]
    },
    {
      "cell_type": "code",
      "source": [
        "# using tuple() constructor and concatenation\n",
        "test_tu = (10,4,5,6,7)\n",
        "\n",
        "front = test_tu[0]\n",
        "rear = test_tu[-1]\n",
        "\n",
        "res = tuple([front])+tuple([rear])\n",
        "\n",
        "print(res)"
      ],
      "metadata": {
        "colab": {
          "base_uri": "https://localhost:8080/"
        },
        "id": "fh8IH6LrJIJb",
        "outputId": "ef15c330-0417-4ba4-fb84-2357599f426c"
      },
      "execution_count": 41,
      "outputs": [
        {
          "output_type": "stream",
          "name": "stdout",
          "text": [
            "(10, 7)\n"
          ]
        }
      ]
    },
    {
      "cell_type": "code",
      "source": [
        "# using list comprehension\n",
        "test_tu = (10,4,5,6,7)\n",
        "\n",
        "res = tuple([test_tu[i] for i in [0,-1]])\n",
        "\n",
        "print(res)"
      ],
      "metadata": {
        "colab": {
          "base_uri": "https://localhost:8080/"
        },
        "id": "8wRXoYGYJmmD",
        "outputId": "4eb05a43-5fd1-4e4a-b567-8350fe97c4f6"
      },
      "execution_count": 42,
      "outputs": [
        {
          "output_type": "stream",
          "name": "stdout",
          "text": [
            "(10, 7)\n"
          ]
        }
      ]
    },
    {
      "cell_type": "code",
      "source": [
        "# ways to concatenate tuples\n",
        "# using +operator\n",
        "test_tup1 = (1, 3, 5)\n",
        "test_tup2 = (4, 6)\n",
        "\n",
        "res = test_tup1+test_tup2\n",
        "print(res)"
      ],
      "metadata": {
        "colab": {
          "base_uri": "https://localhost:8080/"
        },
        "id": "hUDPSGWPKGOQ",
        "outputId": "e0c3771e-e946-45c9-b52c-69e52943b8af"
      },
      "execution_count": 43,
      "outputs": [
        {
          "output_type": "stream",
          "name": "stdout",
          "text": [
            "(1, 3, 5, 4, 6)\n"
          ]
        }
      ]
    },
    {
      "cell_type": "code",
      "source": [
        "# using sum()\n",
        "test_tup1 = (1, 3, 5)\n",
        "test_tup2 = (4, 6)\n",
        "\n",
        "res = sum((test_tup1,test_tup2),())\n",
        "\n",
        "print(res)"
      ],
      "metadata": {
        "colab": {
          "base_uri": "https://localhost:8080/"
        },
        "id": "pRjvf_yULKd3",
        "outputId": "ac96d98e-b6cd-4443-e524-9202a0590225"
      },
      "execution_count": 44,
      "outputs": [
        {
          "output_type": "stream",
          "name": "stdout",
          "text": [
            "(1, 3, 5, 4, 6)\n"
          ]
        }
      ]
    },
    {
      "cell_type": "code",
      "source": [
        "# using list() and extend() methods\n",
        "test_tup1 = (1, 3, 5)\n",
        "test_tup2 = (4, 6)\n",
        "\n",
        "x = list(test_tup1)\n",
        "y = list(test_tup2)\n",
        "x.extend(y)\n",
        "res = tuple(x)\n",
        "\n",
        "print(res)"
      ],
      "metadata": {
        "colab": {
          "base_uri": "https://localhost:8080/"
        },
        "id": "dIOrZsuuMN5P",
        "outputId": "3401e614-207b-401d-f1f0-19230f3a3a7a"
      },
      "execution_count": 45,
      "outputs": [
        {
          "output_type": "stream",
          "name": "stdout",
          "text": [
            "(1, 3, 5, 4, 6)\n"
          ]
        }
      ]
    },
    {
      "cell_type": "code",
      "source": [
        "# using itertools.chain()\n",
        "import itertools\n",
        "test_tup1 = (1, 3, 5)\n",
        "test_tup2 = (4, 6)\n",
        "\n",
        "tup3 = tuple(itertools.chain(test_tup1,test_tup2))\n",
        "\n",
        "print(tup3)"
      ],
      "metadata": {
        "colab": {
          "base_uri": "https://localhost:8080/"
        },
        "id": "-QpPL3djM9eL",
        "outputId": "604f62b8-a6aa-47d4-c3cd-df11b882b8de"
      },
      "execution_count": 46,
      "outputs": [
        {
          "output_type": "stream",
          "name": "stdout",
          "text": [
            "(1, 3, 5, 4, 6)\n"
          ]
        }
      ]
    },
    {
      "cell_type": "code",
      "source": [
        "# using tuple() constructor and the *operator\n",
        "\n",
        "test_tup1 = (1, 3, 5)\n",
        "test_tup2 = (4,6)\n",
        "\n",
        "res = tuple(test_tup1+test_tup2)\n",
        "\n",
        "print(res)"
      ],
      "metadata": {
        "colab": {
          "base_uri": "https://localhost:8080/"
        },
        "id": "O-czbyudNrlK",
        "outputId": "17f34ca0-fd3c-4c4f-9669-f17d4570605c"
      },
      "execution_count": 48,
      "outputs": [
        {
          "output_type": "stream",
          "name": "stdout",
          "text": [
            "(1, 3, 5, 4, 6)\n"
          ]
        }
      ]
    },
    {
      "cell_type": "code",
      "source": [
        "# using the += operator and the += method\n",
        "test_tup1 = (1, 3, 5)\n",
        "test_tup2 = (4,6)\n",
        "\n",
        "test_tup1 += test_tup2\n",
        "\n",
        "print(test_tup1)"
      ],
      "metadata": {
        "colab": {
          "base_uri": "https://localhost:8080/"
        },
        "id": "Uf3Zgpt2OTxS",
        "outputId": "e35ff778-c611-423d-9c88-beec88fb1ceb"
      },
      "execution_count": 49,
      "outputs": [
        {
          "output_type": "stream",
          "name": "stdout",
          "text": [
            "(1, 3, 5, 4, 6)\n"
          ]
        }
      ]
    },
    {
      "cell_type": "code",
      "source": [
        "# using reduce\n",
        "from functools import reduce\n",
        "concat_tuples = lambda t1,t2 :reduce(lambda x,y: x+y ,[t1,t2])\n",
        "\n",
        "t1 = (1, 3, 5)\n",
        "t2  = (4,6)\n",
        "\n",
        "concatenated_tuple = concat_tuples(t1,t2)\n",
        "print(concatenated_tuple)"
      ],
      "metadata": {
        "colab": {
          "base_uri": "https://localhost:8080/"
        },
        "id": "VXe83y0iO045",
        "outputId": "f63902fa-7cca-4bea-b935-49bce025affe"
      },
      "execution_count": 50,
      "outputs": [
        {
          "output_type": "stream",
          "name": "stdout",
          "text": [
            "(1, 3, 5, 4, 6)\n"
          ]
        }
      ]
    },
    {
      "cell_type": "code",
      "source": [
        "# clearing a tuple\n",
        "# using list() + clear() + tuple()\n",
        "\n",
        "test_tup = (1, 5, 3, 6, 8)\n",
        "\n",
        "temp = list(test_tup)\n",
        "temp.clear()\n",
        "test_tup = tuple(temp)\n",
        "\n",
        "print(test_tup)"
      ],
      "metadata": {
        "colab": {
          "base_uri": "https://localhost:8080/"
        },
        "id": "oG1AnwdiP12-",
        "outputId": "5697b191-f611-4841-cdb1-ebeee4fff880"
      },
      "execution_count": 51,
      "outputs": [
        {
          "output_type": "stream",
          "name": "stdout",
          "text": [
            "()\n"
          ]
        }
      ]
    },
    {
      "cell_type": "code",
      "source": [
        "# reintializing using tuple()\n",
        "\n",
        "test_tup = (1, 5, 3, 6, 8)\n",
        "\n",
        "test_tup = tuple()\n",
        "\n",
        "print(test_tup)"
      ],
      "metadata": {
        "colab": {
          "base_uri": "https://localhost:8080/"
        },
        "id": "locKtxccQ2vc",
        "outputId": "601f3ea7-4080-4b39-cf83-bffb0d26e713"
      },
      "execution_count": 52,
      "outputs": [
        {
          "output_type": "stream",
          "name": "stdout",
          "text": [
            "()\n"
          ]
        }
      ]
    },
    {
      "cell_type": "code",
      "source": [
        "# using *operator\n",
        "\n",
        "test_tup = (1, 5, 3, 6, 8)\n",
        "\n",
        "test_tup = test_tup * 0\n",
        "\n",
        "print(test_tup)"
      ],
      "metadata": {
        "colab": {
          "base_uri": "https://localhost:8080/"
        },
        "id": "YZaIg744RQ01",
        "outputId": "d33d10d4-c5ce-4bb4-a170-acdf0e47bd89"
      },
      "execution_count": 53,
      "outputs": [
        {
          "output_type": "stream",
          "name": "stdout",
          "text": [
            "()\n"
          ]
        }
      ]
    },
    {
      "cell_type": "code",
      "source": [
        "# using slicing and concatenation\n",
        "\n",
        "test_tup = (1, 5, 3, 6, 8)\n",
        "\n",
        "# Clearing a tuple using slicing and concatenation\n",
        "test_tup = test_tup[0:0] + ()\n",
        "\n",
        "print(test_tup)"
      ],
      "metadata": {
        "colab": {
          "base_uri": "https://localhost:8080/"
        },
        "id": "LX5-ZwBnRif1",
        "outputId": "ecc61b58-1b72-4f39-86c3-b7c6fa1c1132"
      },
      "execution_count": 54,
      "outputs": [
        {
          "output_type": "stream",
          "name": "stdout",
          "text": [
            "()\n"
          ]
        }
      ]
    },
    {
      "cell_type": "code",
      "source": [
        "# using del keyword\n",
        "test_tup = (1, 5, 3, 6, 8)\n",
        "\n",
        "del test_tup\n",
        "\n",
        "print(())\n"
      ],
      "metadata": {
        "colab": {
          "base_uri": "https://localhost:8080/"
        },
        "id": "vlLouZfXSC9I",
        "outputId": "875d3799-73f9-43e6-9f61-3482a8e5c6c3"
      },
      "execution_count": 55,
      "outputs": [
        {
          "output_type": "stream",
          "name": "stdout",
          "text": [
            "()\n"
          ]
        }
      ]
    }
  ]
}