{
  "nbformat": 4,
  "nbformat_minor": 0,
  "metadata": {
    "colab": {
      "provenance": [],
      "authorship_tag": "ABX9TyMFpV5MCqYEILkWsjLggh/6",
      "include_colab_link": true
    },
    "kernelspec": {
      "name": "python3",
      "display_name": "Python 3"
    },
    "language_info": {
      "name": "python"
    }
  },
  "cells": [
    {
      "cell_type": "markdown",
      "metadata": {
        "id": "view-in-github",
        "colab_type": "text"
      },
      "source": [
        "<a href=\"https://colab.research.google.com/github/ganesh12112/ganesh12112/blob/main/python_practice5.ipynb\" target=\"_parent\"><img src=\"https://colab.research.google.com/assets/colab-badge.svg\" alt=\"Open In Colab\"/></a>"
      ]
    },
    {
      "cell_type": "code",
      "source": [
        "# taking input in python\n",
        "# two inbuilt functions to read input from the user\n",
        "# input(prompt)\n",
        "# raw_input(prompt)\n",
        "input = input(\"enter the data\")  #\\n - it causes a line break\n",
        "print(input)"
      ],
      "metadata": {
        "colab": {
          "base_uri": "https://localhost:8080/"
        },
        "id": "OZqk_XZKj1hJ",
        "outputId": "365a9b46-9516-4293-e2e0-dd95a334beb9"
      },
      "execution_count": null,
      "outputs": [
        {
          "output_type": "stream",
          "name": "stdout",
          "text": [
            "enter the dataganesh chowdary\n",
            "ganesh chowdary\n"
          ]
        }
      ]
    },
    {
      "cell_type": "code",
      "execution_count": null,
      "metadata": {
        "colab": {
          "base_uri": "https://localhost:8080/"
        },
        "id": "QpE3dDg0i8wY",
        "outputId": "b968e4bc-2587-4444-e365-6c57532f8587"
      },
      "outputs": [
        {
          "output_type": "stream",
          "name": "stdout",
          "text": [
            "Enter two values: 1 2\n",
            "First Number is:  1\n",
            "Second Number is:  2\n",
            "Enter three values: 1 2 3\n",
            "First Number is:  1\n",
            "Second Number is:  2\n",
            "Third Number is:  3\n",
            "Enter two values: 5 6\n",
            "First number is 5 and second number is 6\n",
            "Enter multiple values: 45 676 87578 2323\n",
            "Number of list is:  [45, 676, 87578, 2323]\n"
          ]
        }
      ],
      "source": [
        "x, y = [int(x) for x in input(\"Enter two values: \").split()]\n",
        "print(\"First Number is: \", x)\n",
        "print(\"Second Number is: \", y)\n",
        "\n",
        "# taking three input at a time\n",
        "x, y, z = [int(x) for x in input(\"Enter three values: \").split()]\n",
        "print(\"First Number is: \", x)\n",
        "print(\"Second Number is: \", y)\n",
        "print(\"Third Number is: \", z)\n",
        "\n",
        "# taking two inputs at a time\n",
        "x, y = [int(x) for x in input(\"Enter two values: \").split()]\n",
        "print(\"First number is {} and second number is {}\".format(x, y))\n",
        "\n",
        "# taking multiple inputs at a time\n",
        "x = [int(x) for x in input(\"Enter multiple values: \").split()]\n",
        "print(\"Number of list is: \", x)"
      ]
    },
    {
      "cell_type": "code",
      "source": [
        "# python operators\n",
        "# arithematic,comparison,logical,Bitwise,Assignment,Identity and Membership\n",
        "# artithematic - addition,subtraction,multiplication and division\n",
        "# result of division is a floating point in python\n",
        "#To obtain an integer result in Python 3.x floored (// integer) is used."
      ],
      "metadata": {
        "id": "og8sXvtkbK5k"
      },
      "execution_count": null,
      "outputs": []
    },
    {
      "cell_type": "code",
      "source": [
        "# Division operators - float and floor\n",
        "#float division returns quotient\n",
        "print(5/5)\n",
        "print(10/2)\n",
        "print(-10/2)\n",
        "print(20.0/2)"
      ],
      "metadata": {
        "colab": {
          "base_uri": "https://localhost:8080/"
        },
        "id": "EzuxMNMIcasT",
        "outputId": "263c11ed-fb8a-4e4d-a74a-1cdc0637a5b8"
      },
      "execution_count": null,
      "outputs": [
        {
          "output_type": "stream",
          "name": "stdout",
          "text": [
            "1.0\n",
            "5.0\n",
            "-5.0\n",
            "10.0\n"
          ]
        }
      ]
    },
    {
      "cell_type": "code",
      "source": [
        "# Integer division(floor) - qoutient dependent on the argument being passed\n",
        "# if any one  number is float,it returns float same like negative numbers\n",
        "print(5//5)\n",
        "print(10//2)\n",
        "print(-10//2)\n",
        "print(20.0//2)"
      ],
      "metadata": {
        "colab": {
          "base_uri": "https://localhost:8080/"
        },
        "id": "jwTD7ORidQ2v",
        "outputId": "4cd2119c-cee3-4139-b1a1-1902fd928650"
      },
      "execution_count": null,
      "outputs": [
        {
          "output_type": "stream",
          "name": "stdout",
          "text": [
            "1\n",
            "5\n",
            "-5\n",
            "10.0\n"
          ]
        }
      ]
    },
    {
      "cell_type": "code",
      "source": [
        "# precedence of arthematic operators\n",
        "# P E D/M A S\n",
        "# The modulus operator helps us extract the last digits of a number\n",
        "print(567%10)\n",
        "print(567%100)"
      ],
      "metadata": {
        "colab": {
          "base_uri": "https://localhost:8080/"
        },
        "id": "auWvyqNGeE07",
        "outputId": "33c804d1-629c-4ca9-d254-c3fa7d09deb5"
      },
      "execution_count": null,
      "outputs": [
        {
          "output_type": "stream",
          "name": "stdout",
          "text": [
            "7\n",
            "67\n"
          ]
        }
      ]
    },
    {
      "cell_type": "code",
      "source": [
        "# examples\n",
        "a = 9\n",
        "b = 4\n",
        "\n",
        "add = a+b\n",
        "\n",
        "sub = a-b\n",
        "\n",
        "mul = a*b\n",
        "\n",
        "mod = a%b\n",
        "\n",
        "p = a**b\n",
        "\n",
        "print(add)\n",
        "print(sub)\n",
        "print(mul)\n",
        "print(mod)\n",
        "print(p)"
      ],
      "metadata": {
        "colab": {
          "base_uri": "https://localhost:8080/"
        },
        "id": "c7LihtIWe-hJ",
        "outputId": "7b260456-4e22-4861-a1ee-630e721cff84"
      },
      "execution_count": null,
      "outputs": [
        {
          "output_type": "stream",
          "name": "stdout",
          "text": [
            "13\n",
            "5\n",
            "36\n",
            "1\n",
            "6561\n"
          ]
        }
      ]
    },
    {
      "cell_type": "code",
      "source": [
        "# comparison operators in python\n",
        "# > , < ,  == ,  !=, >=,  =<  have same preceedence and lower preceedence than arithematic operators\n",
        "a = 9\n",
        "b = 4\n",
        "\n",
        "print(a >b)\n",
        "\n",
        "\n",
        "print(a < b)\n",
        "\n",
        "\n",
        "print(a == b)\n",
        "\n",
        "\n",
        "print(a != b)\n",
        "\n",
        "\n",
        "print(a >= b)\n",
        "\n",
        "print(a <= b)"
      ],
      "metadata": {
        "colab": {
          "base_uri": "https://localhost:8080/"
        },
        "id": "i-wqCKPMft4d",
        "outputId": "6532fd35-87bc-4edf-f53a-06958b77b5e6"
      },
      "execution_count": null,
      "outputs": [
        {
          "output_type": "stream",
          "name": "stdout",
          "text": [
            "True\n",
            "False\n",
            "False\n",
            "True\n",
            "True\n",
            "False\n"
          ]
        }
      ]
    },
    {
      "cell_type": "code",
      "source": [
        "# logical operators\n",
        "# AND ,OR ,NOT\n",
        "# preceedence not > and > or\n",
        "# example\n",
        "a = True\n",
        "b = False\n",
        "\n",
        "print(a and b)\n",
        "\n",
        "\n",
        "print(a or b)\n",
        "\n",
        "\n",
        "print(not b)"
      ],
      "metadata": {
        "colab": {
          "base_uri": "https://localhost:8080/"
        },
        "id": "da9Wp6RjhSzu",
        "outputId": "9026f6c7-a879-4055-aa44-c7eed751b232"
      },
      "execution_count": null,
      "outputs": [
        {
          "output_type": "stream",
          "name": "stdout",
          "text": [
            "False\n",
            "True\n",
            "True\n"
          ]
        }
      ]
    },
    {
      "cell_type": "code",
      "source": [
        "# Bitwise operators\n",
        "# acts on bits and perform bit-by-bit operations .These ar used to operate on binary numbers\n",
        "# & - AND ,| -  OR, ~ - NOT,^ -XOR, >> - Right shift, << - Left shift\n",
        "# precedence - not>shift>and>xor>or\n",
        "a = 9\n",
        "b = 4\n",
        "\n",
        "print(a & b)\n",
        "\n",
        "\n",
        "print(a | b)\n",
        "\n",
        "\n",
        "print(~ b)\n",
        "\n",
        "\n",
        "print(a ^ b)\n",
        "\n",
        "\n",
        "print(a >> 2)\n",
        "\n",
        "print(a << 2)\n",
        "\n",
        "# practice on paper"
      ],
      "metadata": {
        "id": "krWHWPdCiBl-",
        "colab": {
          "base_uri": "https://localhost:8080/"
        },
        "outputId": "7831ec1a-4f96-40e8-9e8a-d0748ff1566c"
      },
      "execution_count": null,
      "outputs": [
        {
          "output_type": "stream",
          "name": "stdout",
          "text": [
            "0\n",
            "13\n",
            "-5\n",
            "13\n",
            "2\n",
            "36\n"
          ]
        }
      ]
    },
    {
      "cell_type": "code",
      "source": [
        "# assigment operators\n",
        "# = ,+=,-=,*/,/=,%=,//=,**=,&=,|=,^=,>>=,<<=\n",
        "a = 10\n",
        "\n",
        "b = a\n",
        "\n",
        "b += a\n",
        "print(b)\n",
        "\n",
        "b -= a\n",
        "print(b)\n",
        "\n",
        "b *= a\n",
        "print(b)\n",
        "\n",
        "# bitwise lishift operator\n",
        "b <<= a\n",
        "print(b)"
      ],
      "metadata": {
        "colab": {
          "base_uri": "https://localhost:8080/"
        },
        "id": "B5DaQbz-WudU",
        "outputId": "3bf10de0-94ea-4801-df87-3844f7a64a7c"
      },
      "execution_count": null,
      "outputs": [
        {
          "output_type": "stream",
          "name": "stdout",
          "text": [
            "20\n",
            "10\n",
            "100\n",
            "102400\n"
          ]
        }
      ]
    },
    {
      "cell_type": "code",
      "source": [
        "# identity operators\n",
        "# is ,isnot\n",
        "a = 10\n",
        "b = 20\n",
        "c = a\n",
        "\n",
        "print(a is not b)\n",
        "print(a is c)"
      ],
      "metadata": {
        "colab": {
          "base_uri": "https://localhost:8080/"
        },
        "id": "0xETJlzWYc4V",
        "outputId": "9a1cde80-e4d3-49bb-efe7-dd643ddcefd4"
      },
      "execution_count": null,
      "outputs": [
        {
          "output_type": "stream",
          "name": "stdout",
          "text": [
            "True\n",
            "True\n"
          ]
        }
      ]
    },
    {
      "cell_type": "code",
      "source": [
        "# membership operators\n",
        "#in , notin\n",
        "x = 24\n",
        "y = 20\n",
        "li = [10,20,30,40,50]\n",
        "\n",
        "if x not in li:\n",
        "  print(\"x is not present in list\")\n",
        "else:\n",
        "  print(\"x is present in list\")\n",
        "\n",
        "if y in li:\n",
        "  print(\"y is present in list\")\n",
        "else:\n",
        "  print(\"y is not in list\")"
      ],
      "metadata": {
        "colab": {
          "base_uri": "https://localhost:8080/"
        },
        "id": "cKylH4EMYysF",
        "outputId": "a076575f-cef9-4b2c-c442-836176344743"
      },
      "execution_count": null,
      "outputs": [
        {
          "output_type": "stream",
          "name": "stdout",
          "text": [
            "x is not present in list\n",
            "y is present in list\n"
          ]
        }
      ]
    },
    {
      "cell_type": "markdown",
      "source": [
        "in Python, Ternary operators also known as conditional expressions are operators that evaluate something based on a condition being true or false. It was added to Python in version 2.5.\n",
        "\n",
        "It simply allows testing a condition in a single line replacing the multiline if-else making the code compact."
      ],
      "metadata": {
        "id": "G3kEjXk5Zu0d"
      }
    },
    {
      "cell_type": "code",
      "source": [
        "# ternary operator\n",
        "a,b = 10,30\n",
        "\n",
        "# copy value of a in min if a<b else copy b\n",
        "min = a if a < b else b\n",
        "print(b)"
      ],
      "metadata": {
        "colab": {
          "base_uri": "https://localhost:8080/"
        },
        "id": "C2hAIpIEZiXd",
        "outputId": "a6487c2c-25ed-4215-9aa2-81cbdd121fea"
      },
      "execution_count": null,
      "outputs": [
        {
          "output_type": "stream",
          "name": "stdout",
          "text": [
            "30\n"
          ]
        }
      ]
    },
    {
      "cell_type": "markdown",
      "source": [],
      "metadata": {
        "id": "the3Fu7hZK-F"
      }
    },
    {
      "cell_type": "code",
      "source": [
        "# precedence and associativity of operators\n",
        "expr = 10+20*30\n",
        "print(expr)\n",
        "\n",
        "name = \"ganesh\"\n",
        "age = 0\n",
        "\n",
        "if name == \"ganesh\" or name == \"are\" and age >=21:\n",
        "     print(\"hello ganesh\")\n",
        "else:\n",
        "  print(\"good bye!\")"
      ],
      "metadata": {
        "colab": {
          "base_uri": "https://localhost:8080/"
        },
        "id": "mRDVPwJQa80d",
        "outputId": "b722b3b2-2d90-4a86-dd18-ca6a254f852b"
      },
      "execution_count": null,
      "outputs": [
        {
          "output_type": "stream",
          "name": "stdout",
          "text": [
            "610\n",
            "hello ganesh\n"
          ]
        }
      ]
    },
    {
      "cell_type": "markdown",
      "source": [
        "If an expression contains two or more operators with the same precedence then Operator Associativity is used to determine. It can either be Left to Right or from Right to Left."
      ],
      "metadata": {
        "id": "MsjLjupieI9W"
      }
    },
    {
      "cell_type": "code",
      "source": [
        "# operators associativity\n",
        "# left - right\n",
        "print(100/10*10)\n",
        "# l - r\n",
        "print(5-2+3)\n",
        "#l - r\n",
        "print(5 - (2+3))\n",
        "# right - left\n",
        "print(2**3**2)"
      ],
      "metadata": {
        "colab": {
          "base_uri": "https://localhost:8080/"
        },
        "id": "9obhgRCxd8cY",
        "outputId": "e436387d-9814-4929-9cb8-79180d7a6c12"
      },
      "execution_count": null,
      "outputs": [
        {
          "output_type": "stream",
          "name": "stdout",
          "text": [
            "100.0\n",
            "6\n",
            "0\n",
            "512\n"
          ]
        }
      ]
    },
    {
      "cell_type": "markdown",
      "source": [
        "Ternary Operator Examples\n",
        "Here we will see the different example to use Python Ternary Operator:\n",
        "\n",
        "Ternary Operator in Python If-Else,\n",
        "Python Ternary Operator using Tuples,\n",
        "Python Ternary Operator using Dictionary,\n",
        "Python Ternary Operator using Lambda,\n",
        "Print in if Ternary Operator,\n",
        "Limitations of Python Ternary Operator"
      ],
      "metadata": {
        "id": "mtquNffcfu1N"
      }
    },
    {
      "cell_type": "code",
      "source": [
        "# ternary operator in python if else\n",
        "# using native way\n",
        "a,b = 10,30\n",
        "\n",
        "if a != b:\n",
        "  if a>b:\n",
        "    print(\"a is greater than b\")\n",
        "  else:\n",
        "    print(\"b is greater than a\")\n",
        "else:\n",
        "  print(\"Both a and b are equal\")"
      ],
      "metadata": {
        "colab": {
          "base_uri": "https://localhost:8080/"
        },
        "id": "9Iz-6i0Ififu",
        "outputId": "42f7df40-ece7-4d3d-e7ea-840465e428c3"
      },
      "execution_count": null,
      "outputs": [
        {
          "output_type": "stream",
          "name": "stdout",
          "text": [
            "b is greater than a\n"
          ]
        }
      ]
    },
    {
      "cell_type": "code",
      "source": [
        "# using ternary operator\n",
        "a,b = 10,20\n",
        "\n",
        "print(\"Both a and b are equal\" if a == b else \"a is greater than b\"\n",
        "        if a > b else \"b is greater than a\")"
      ],
      "metadata": {
        "colab": {
          "base_uri": "https://localhost:8080/"
        },
        "id": "ITRoy8ZPg8K3",
        "outputId": "545ee878-2123-4955-d2f4-d6893ed43a34"
      },
      "execution_count": null,
      "outputs": [
        {
          "output_type": "stream",
          "name": "stdout",
          "text": [
            "b is greater than a\n"
          ]
        }
      ]
    },
    {
      "cell_type": "code",
      "source": [
        "# ternary and bitwise operator ----- Revise ----\n",
        "a,b = 10,20\n",
        "# with tuple\n",
        "print((a,b)[a<b])"
      ],
      "metadata": {
        "colab": {
          "base_uri": "https://localhost:8080/"
        },
        "id": "uWtRSkvKiQB9",
        "outputId": "fe3862bd-0947-45bb-bf00-f2c2f520fcce"
      },
      "execution_count": null,
      "outputs": [
        {
          "output_type": "stream",
          "name": "stdout",
          "text": [
            "20\n"
          ]
        }
      ]
    },
    {
      "cell_type": "code",
      "source": [
        "# ternary operator with dictionary\n",
        "a, b = 10,20\n",
        "print({True:b,False:a} [a>b])"
      ],
      "metadata": {
        "colab": {
          "base_uri": "https://localhost:8080/"
        },
        "id": "XsYzvJxti2ye",
        "outputId": "25d94bfc-d7f2-4867-afde-7550007e1899"
      },
      "execution_count": null,
      "outputs": [
        {
          "output_type": "stream",
          "name": "stdout",
          "text": [
            "10\n"
          ]
        }
      ]
    },
    {
      "cell_type": "code",
      "source": [
        "# ternary operator with lambda\n",
        "a, b = 10,20\n",
        "print((lambda :b,lambda:a)[a<b]())"
      ],
      "metadata": {
        "colab": {
          "base_uri": "https://localhost:8080/"
        },
        "id": "eo_M84nTjRfH",
        "outputId": "31ddb774-6e67-4033-cc47-c1b1d6cc0d1a"
      },
      "execution_count": null,
      "outputs": [
        {
          "output_type": "stream",
          "name": "stdout",
          "text": [
            "10\n"
          ]
        }
      ]
    },
    {
      "cell_type": "code",
      "source": [
        "# print in if ternary operator\n",
        "a = 5\n",
        "b = 7\n",
        "print(a,\"is greater\") if a>b else print(b,\"is greater\")"
      ],
      "metadata": {
        "colab": {
          "base_uri": "https://localhost:8080/"
        },
        "id": "GzyPEaN-mzoX",
        "outputId": "c3887ba5-5eab-4437-cbd5-10d154cec671"
      },
      "execution_count": null,
      "outputs": [
        {
          "output_type": "stream",
          "name": "stdout",
          "text": [
            "7 is greater\n"
          ]
        }
      ]
    },
    {
      "cell_type": "code",
      "source": [
        "# division operators in python\n",
        "# float // and floor division /\n",
        "# matrix multiplication ,linear algebra and numerical integration"
      ],
      "metadata": {
        "id": "vcRxqZ7KnqCb"
      },
      "execution_count": null,
      "outputs": []
    },
    {
      "cell_type": "code",
      "source": [
        "# float division\n",
        "print(5/5)\n",
        "print(10/2)\n",
        "print(-10/2)\n",
        "print(20.0/2)"
      ],
      "metadata": {
        "colab": {
          "base_uri": "https://localhost:8080/"
        },
        "id": "nBqjN1NVpD6j",
        "outputId": "c0d3d8b6-4772-4438-c912-930fbf5654be"
      },
      "execution_count": null,
      "outputs": [
        {
          "output_type": "stream",
          "name": "stdout",
          "text": [
            "1.0\n",
            "5.0\n",
            "-5.0\n",
            "10.0\n"
          ]
        }
      ]
    },
    {
      "cell_type": "code",
      "source": [
        "# floor division\n",
        "print(5//5)\n",
        "print(3//2)\n",
        "print(10//3)"
      ],
      "metadata": {
        "colab": {
          "base_uri": "https://localhost:8080/"
        },
        "id": "UiH4mf6HpLr1",
        "outputId": "bbaa16cd-8e2b-4f73-c197-4abd198e48a1"
      },
      "execution_count": null,
      "outputs": [
        {
          "output_type": "stream",
          "name": "stdout",
          "text": [
            "1\n",
            "1\n",
            "3\n"
          ]
        }
      ]
    },
    {
      "cell_type": "code",
      "source": [
        "print (5//2)\n",
        "print (-5//2)"
      ],
      "metadata": {
        "colab": {
          "base_uri": "https://localhost:8080/"
        },
        "id": "8HCBfoGppZN_",
        "outputId": "2b11b961-bbcc-4bab-862c-3347296ec17e"
      },
      "execution_count": null,
      "outputs": [
        {
          "output_type": "stream",
          "name": "stdout",
          "text": [
            "2\n",
            "-3\n"
          ]
        }
      ]
    },
    {
      "cell_type": "code",
      "source": [
        "# A Python program to demonstrate use of\n",
        "# \"//\" for both integers and floating points\n",
        "print (5//2)\n",
        "print (-5//2)\n",
        "print (5.0//2)\n",
        "print (-5.0//2)"
      ],
      "metadata": {
        "colab": {
          "base_uri": "https://localhost:8080/"
        },
        "id": "QP4h7ExlqZV8",
        "outputId": "36b4583c-d642-4f1f-aa04-9c2fdd779aaf"
      },
      "execution_count": null,
      "outputs": [
        {
          "output_type": "stream",
          "name": "stdout",
          "text": [
            "2\n",
            "-3\n",
            "2.0\n",
            "-3.0\n"
          ]
        }
      ]
    },
    {
      "cell_type": "code",
      "source": [
        "# is division operator on boolean values possible\n",
        "# what is overloading    *******REVISE*********\n",
        "class MyClass:\n",
        "   def _init_(self,value):\n",
        "       self.value = value\n",
        "\n",
        "   def _truediv_(self,other):\n",
        "     return MyClass(self.value and other.value)\n",
        "\n",
        "a = MyClass(True)\n",
        "b = MyClass(False)\n",
        "c = a/b\n",
        "print(c.value)"
      ],
      "metadata": {
        "colab": {
          "base_uri": "https://localhost:8080/",
          "height": 245
        },
        "id": "dxv2izjqqffp",
        "outputId": "c1e372f8-390e-4ea4-93a5-9c192e82c1cc"
      },
      "execution_count": null,
      "outputs": [
        {
          "output_type": "error",
          "ename": "TypeError",
          "evalue": "ignored",
          "traceback": [
            "\u001b[0;31m---------------------------------------------------------------------------\u001b[0m",
            "\u001b[0;31mTypeError\u001b[0m                                 Traceback (most recent call last)",
            "\u001b[0;32m<ipython-input-4-59f7bd426bfa>\u001b[0m in \u001b[0;36m<cell line: 10>\u001b[0;34m()\u001b[0m\n\u001b[1;32m      8\u001b[0m      \u001b[0;32mreturn\u001b[0m \u001b[0mMyClass\u001b[0m\u001b[0;34m(\u001b[0m\u001b[0mself\u001b[0m\u001b[0;34m.\u001b[0m\u001b[0mvalue\u001b[0m \u001b[0;32mand\u001b[0m \u001b[0mother\u001b[0m\u001b[0;34m.\u001b[0m\u001b[0mvalue\u001b[0m\u001b[0;34m)\u001b[0m\u001b[0;34m\u001b[0m\u001b[0;34m\u001b[0m\u001b[0m\n\u001b[1;32m      9\u001b[0m \u001b[0;34m\u001b[0m\u001b[0m\n\u001b[0;32m---> 10\u001b[0;31m \u001b[0ma\u001b[0m \u001b[0;34m=\u001b[0m \u001b[0mMyClass\u001b[0m\u001b[0;34m(\u001b[0m\u001b[0;32mTrue\u001b[0m\u001b[0;34m)\u001b[0m\u001b[0;34m\u001b[0m\u001b[0;34m\u001b[0m\u001b[0m\n\u001b[0m\u001b[1;32m     11\u001b[0m \u001b[0mb\u001b[0m \u001b[0;34m=\u001b[0m \u001b[0mMyClass\u001b[0m\u001b[0;34m(\u001b[0m\u001b[0;32mFalse\u001b[0m\u001b[0;34m)\u001b[0m\u001b[0;34m\u001b[0m\u001b[0;34m\u001b[0m\u001b[0m\n\u001b[1;32m     12\u001b[0m \u001b[0mc\u001b[0m \u001b[0;34m=\u001b[0m \u001b[0ma\u001b[0m\u001b[0;34m/\u001b[0m\u001b[0mb\u001b[0m\u001b[0;34m\u001b[0m\u001b[0;34m\u001b[0m\u001b[0m\n",
            "\u001b[0;31mTypeError\u001b[0m: MyClass() takes no arguments"
          ]
        }
      ]
    },
    {
      "cell_type": "code",
      "source": [
        "class MyClass:\n",
        "  def __init__(self,value):\n",
        "    self.value = value\n",
        "\n",
        "  def __truediv__(self,other):\n",
        "    return MyClass(self.value and other.value)\n",
        "\n",
        "a = MyClass(True)\n",
        "b = MyClass(False)\n",
        "c = a/b\n",
        "print(c.value)"
      ],
      "metadata": {
        "colab": {
          "base_uri": "https://localhost:8080/"
        },
        "id": "iZkn89d8MEKQ",
        "outputId": "d206dc46-c367-415d-f254-26abf459dbe1"
      },
      "execution_count": null,
      "outputs": [
        {
          "output_type": "stream",
          "name": "stdout",
          "text": [
            "False\n"
          ]
        }
      ]
    },
    {
      "cell_type": "markdown",
      "source": [
        "Operator Overloading means giving extended meaning beyond their predefined operational meaning. For example operator + is used to add two integers as well as join two strings and merge two lists. It is achievable because ‘+’ operator is overloaded by int class and str class. You might have noticed that the same built-in operator or function shows different behavior for objects of different classes, this is called Operator Overloading."
      ],
      "metadata": {
        "id": "CWdHU_fruWWF"
      }
    },
    {
      "cell_type": "code",
      "source": [
        "# OPERATOR Overloading\n",
        "#+ is overloaded by int and string class\n",
        "print(1+4)\n",
        "\n",
        "print(\"are\"+\" ganesh\")\n",
        "\n",
        "print(3*4)\n",
        "\n",
        "print(\"Ganesh\"*4)"
      ],
      "metadata": {
        "colab": {
          "base_uri": "https://localhost:8080/"
        },
        "id": "V-2i6-YDtu7b",
        "outputId": "640272b9-5bea-477a-c336-b204be8c3f87"
      },
      "execution_count": null,
      "outputs": [
        {
          "output_type": "stream",
          "name": "stdout",
          "text": [
            "5\n",
            "are ganesh\n",
            "12\n",
            "GaneshGaneshGaneshGanesh\n"
          ]
        }
      ]
    },
    {
      "cell_type": "markdown",
      "source": [
        "Whenever you change the behavior of the existing operator through operator overloading, you have to redefine the special function that is invoked automatically when the operator is used with the objects."
      ],
      "metadata": {
        "id": "toXJTFBCvwLe"
      }
    },
    {
      "cell_type": "code",
      "source": [
        "# we can overload all existing operators  but we can not create new operator\n",
        "# how  does operator overloading actually work? # why do we us self kw ?\n",
        "class A:\n",
        "    def _init_(self,a):\n",
        "      self.a = a\n",
        "   # adding two objects\n",
        "    def _add_(self,o):\n",
        "       return self.a + o.a\n",
        "\n",
        "ob1 = A(1)\n",
        "ob2 = A(2)\n",
        "ob3 = A(\"ganesh\")\n",
        "ob4 = A(\"are\")\n",
        "\n",
        "print(ob1 + ob2)\n",
        "print(ob3 + ob4)\n",
        "\n",
        "# Actual working when Binary operator is used\n",
        "print(A._add_(ob1,ob2))\n",
        "print(A._add_(ob3,ob4))\n",
        "\n",
        "# and can also be understand as\n",
        "print(ob1._add_(ob2))\n",
        "print(ob3._add_(ob4))\n"
      ],
      "metadata": {
        "id": "OBz3fVmiu-wf",
        "colab": {
          "base_uri": "https://localhost:8080/",
          "height": 245
        },
        "outputId": "5d1ed26a-615a-43dd-cb52-6176609c3195"
      },
      "execution_count": null,
      "outputs": [
        {
          "output_type": "error",
          "ename": "TypeError",
          "evalue": "ignored",
          "traceback": [
            "\u001b[0;31m---------------------------------------------------------------------------\u001b[0m",
            "\u001b[0;31mTypeError\u001b[0m                                 Traceback (most recent call last)",
            "\u001b[0;32m<ipython-input-7-8eef5f34c860>\u001b[0m in \u001b[0;36m<cell line: 10>\u001b[0;34m()\u001b[0m\n\u001b[1;32m      8\u001b[0m        \u001b[0;32mreturn\u001b[0m \u001b[0mself\u001b[0m\u001b[0;34m.\u001b[0m\u001b[0ma\u001b[0m \u001b[0;34m+\u001b[0m \u001b[0mo\u001b[0m\u001b[0;34m.\u001b[0m\u001b[0ma\u001b[0m\u001b[0;34m\u001b[0m\u001b[0;34m\u001b[0m\u001b[0m\n\u001b[1;32m      9\u001b[0m \u001b[0;34m\u001b[0m\u001b[0m\n\u001b[0;32m---> 10\u001b[0;31m \u001b[0mob1\u001b[0m \u001b[0;34m=\u001b[0m \u001b[0mA\u001b[0m\u001b[0;34m(\u001b[0m\u001b[0;36m1\u001b[0m\u001b[0;34m)\u001b[0m\u001b[0;34m\u001b[0m\u001b[0;34m\u001b[0m\u001b[0m\n\u001b[0m\u001b[1;32m     11\u001b[0m \u001b[0mob2\u001b[0m \u001b[0;34m=\u001b[0m \u001b[0mA\u001b[0m\u001b[0;34m(\u001b[0m\u001b[0;36m2\u001b[0m\u001b[0;34m)\u001b[0m\u001b[0;34m\u001b[0m\u001b[0;34m\u001b[0m\u001b[0m\n\u001b[1;32m     12\u001b[0m \u001b[0mob3\u001b[0m \u001b[0;34m=\u001b[0m \u001b[0mA\u001b[0m\u001b[0;34m(\u001b[0m\u001b[0;34m\"ganesh\"\u001b[0m\u001b[0;34m)\u001b[0m\u001b[0;34m\u001b[0m\u001b[0;34m\u001b[0m\u001b[0m\n",
            "\u001b[0;31mTypeError\u001b[0m: A() takes no arguments"
          ]
        }
      ]
    },
    {
      "cell_type": "code",
      "source": [
        "# code 2\n",
        "class complex:\n",
        "  def _init_(self,a,b):\n",
        "    self.a = a\n",
        "    self.b = b\n",
        "\n",
        "  # adding two objects\n",
        "  def _add_(self,other):\n",
        "    return self.a + other.a,self.b + other.b\n",
        "\n",
        "ob1 = complex(1,2)\n",
        "ob2 = complex(2,3)\n",
        "ob3 = ob1+ob2\n",
        "print(ob3)"
      ],
      "metadata": {
        "colab": {
          "base_uri": "https://localhost:8080/",
          "height": 245
        },
        "id": "Jy3xnYMZGipY",
        "outputId": "bf00ea4a-0ce1-47a9-8c6f-1c6fdd7e5f88"
      },
      "execution_count": null,
      "outputs": [
        {
          "output_type": "error",
          "ename": "TypeError",
          "evalue": "ignored",
          "traceback": [
            "\u001b[0;31m---------------------------------------------------------------------------\u001b[0m",
            "\u001b[0;31mTypeError\u001b[0m                                 Traceback (most recent call last)",
            "\u001b[0;32m<ipython-input-11-44b81e157be5>\u001b[0m in \u001b[0;36m<cell line: 11>\u001b[0;34m()\u001b[0m\n\u001b[1;32m      9\u001b[0m     \u001b[0;32mreturn\u001b[0m \u001b[0mself\u001b[0m\u001b[0;34m.\u001b[0m\u001b[0ma\u001b[0m \u001b[0;34m+\u001b[0m \u001b[0mother\u001b[0m\u001b[0;34m.\u001b[0m\u001b[0ma\u001b[0m\u001b[0;34m,\u001b[0m\u001b[0mself\u001b[0m\u001b[0;34m.\u001b[0m\u001b[0mb\u001b[0m \u001b[0;34m+\u001b[0m \u001b[0mother\u001b[0m\u001b[0;34m.\u001b[0m\u001b[0mb\u001b[0m\u001b[0;34m\u001b[0m\u001b[0;34m\u001b[0m\u001b[0m\n\u001b[1;32m     10\u001b[0m \u001b[0;34m\u001b[0m\u001b[0m\n\u001b[0;32m---> 11\u001b[0;31m \u001b[0mob1\u001b[0m \u001b[0;34m=\u001b[0m \u001b[0mcomplex\u001b[0m\u001b[0;34m(\u001b[0m\u001b[0;36m1\u001b[0m\u001b[0;34m,\u001b[0m\u001b[0;36m2\u001b[0m\u001b[0;34m)\u001b[0m\u001b[0;34m\u001b[0m\u001b[0;34m\u001b[0m\u001b[0m\n\u001b[0m\u001b[1;32m     12\u001b[0m \u001b[0mob2\u001b[0m \u001b[0;34m=\u001b[0m \u001b[0mcomplex\u001b[0m\u001b[0;34m(\u001b[0m\u001b[0;36m2\u001b[0m\u001b[0;34m,\u001b[0m\u001b[0;36m3\u001b[0m\u001b[0;34m)\u001b[0m\u001b[0;34m\u001b[0m\u001b[0;34m\u001b[0m\u001b[0m\n\u001b[1;32m     13\u001b[0m \u001b[0mob3\u001b[0m \u001b[0;34m=\u001b[0m \u001b[0mob1\u001b[0m\u001b[0;34m+\u001b[0m\u001b[0mob2\u001b[0m\u001b[0;34m\u001b[0m\u001b[0;34m\u001b[0m\u001b[0m\n",
            "\u001b[0;31mTypeError\u001b[0m: complex() takes no arguments"
          ]
        }
      ]
    },
    {
      "cell_type": "code",
      "source": [
        "# overloading comparison operators\n",
        "class A:\n",
        "  def __intit__(self,a):\n",
        "    self.a = a\n",
        "\n",
        "  def __gt__(self,other):\n",
        "    if self.a > other.a:\n",
        "      return True\n",
        "    else:\n",
        "      return False\n",
        "\n",
        "ob1 = A(2)\n",
        "ob2 = A(3)\n",
        "\n",
        "if ob1 > ob2:\n",
        "  print(\"ob 1 is greater than ob2\")\n",
        "else:\n",
        "  print(\"ob2 is greater than ob1\")"
      ],
      "metadata": {
        "colab": {
          "base_uri": "https://localhost:8080/",
          "height": 245
        },
        "id": "UuL-417hKUWD",
        "outputId": "f091d8da-5bc6-4039-e3e2-35972e2cf956"
      },
      "execution_count": null,
      "outputs": [
        {
          "output_type": "error",
          "ename": "TypeError",
          "evalue": "ignored",
          "traceback": [
            "\u001b[0;31m---------------------------------------------------------------------------\u001b[0m",
            "\u001b[0;31mTypeError\u001b[0m                                 Traceback (most recent call last)",
            "\u001b[0;32m<ipython-input-13-8c2b0a8b342c>\u001b[0m in \u001b[0;36m<cell line: 12>\u001b[0;34m()\u001b[0m\n\u001b[1;32m     10\u001b[0m       \u001b[0;32mreturn\u001b[0m \u001b[0;32mFalse\u001b[0m\u001b[0;34m\u001b[0m\u001b[0;34m\u001b[0m\u001b[0m\n\u001b[1;32m     11\u001b[0m \u001b[0;34m\u001b[0m\u001b[0m\n\u001b[0;32m---> 12\u001b[0;31m \u001b[0mob1\u001b[0m \u001b[0;34m=\u001b[0m \u001b[0mA\u001b[0m\u001b[0;34m(\u001b[0m\u001b[0;36m2\u001b[0m\u001b[0;34m)\u001b[0m\u001b[0;34m\u001b[0m\u001b[0;34m\u001b[0m\u001b[0m\n\u001b[0m\u001b[1;32m     13\u001b[0m \u001b[0mob2\u001b[0m \u001b[0;34m=\u001b[0m \u001b[0mA\u001b[0m\u001b[0;34m(\u001b[0m\u001b[0;36m3\u001b[0m\u001b[0;34m)\u001b[0m\u001b[0;34m\u001b[0m\u001b[0;34m\u001b[0m\u001b[0m\n\u001b[1;32m     14\u001b[0m \u001b[0;34m\u001b[0m\u001b[0m\n",
            "\u001b[0;31mTypeError\u001b[0m: A() takes no arguments"
          ]
        }
      ]
    },
    {
      "cell_type": "code",
      "source": [
        "class A:\n",
        "  def __init__(self, a):\n",
        "    self.a = a\n",
        "\n",
        "  def __gt__(self, other):\n",
        "    if self.a > other.a:\n",
        "      return True\n",
        "    else:\n",
        "      return False\n",
        "\n",
        "ob1 = A(2)\n",
        "ob2 = A(3)\n",
        "\n",
        "if ob1 > ob2:\n",
        "  print(\"ob1 is greater than ob2\")\n",
        "else:\n",
        "  print(\"ob2 is greater than ob1\")"
      ],
      "metadata": {
        "colab": {
          "base_uri": "https://localhost:8080/"
        },
        "id": "ZvrO0kGRRNry",
        "outputId": "30a50f40-877c-49fb-9404-0273e5502697"
      },
      "execution_count": null,
      "outputs": [
        {
          "output_type": "stream",
          "name": "stdout",
          "text": [
            "ob2 is greater than ob1\n"
          ]
        }
      ]
    },
    {
      "cell_type": "code",
      "source": [
        "# Python program to overload equality\n",
        "# and less than operators\n",
        "\n",
        "class A:\n",
        "    def __init__(self, a):\n",
        "        self.a = a\n",
        "    def __lt__(self, other):\n",
        "        if(self.a<other.a):\n",
        "            return \"ob1 is lessthan ob2\"\n",
        "        else:\n",
        "            return \"ob2 is less than ob1\"\n",
        "    def __eq__(self, other):\n",
        "        if(self.a == other.a):\n",
        "            return \"Both are equal\"\n",
        "        else:\n",
        "            return \"Not equal\"\n",
        "\n",
        "ob1 = A(2)\n",
        "ob2 = A(3)\n",
        "print(ob1 < ob2)\n",
        "\n",
        "ob3 = A(4)\n",
        "ob4 = A(4)\n",
        "print(ob1 == ob2)"
      ],
      "metadata": {
        "colab": {
          "base_uri": "https://localhost:8080/"
        },
        "id": "IeJevZZSRfQx",
        "outputId": "7a89c199-ef87-4434-e6e4-589f67874d21"
      },
      "execution_count": null,
      "outputs": [
        {
          "output_type": "stream",
          "name": "stdout",
          "text": [
            "ob1 is lessthan ob2\n",
            "Not equal\n"
          ]
        }
      ]
    },
    {
      "cell_type": "markdown",
      "source": [
        "  Operator\t                     Magic Method\n",
        "    +                      \t__add__(self, other)\n",
        "    –               \t      __sub__(self, other)\n",
        "    *               \t      __mul__(self, other)\n",
        "    /               \t      __truediv__(self, other)\n",
        "   //\t                    __floordiv__(self, other)\n",
        "   %\t                      __mod__(self, other)\n",
        "   **\t                    __pow__(self, other)\n",
        "   >>\t                    __rshift__(self, other)\n",
        "   <<\t                    __lshift__(self, other)\n",
        "   &\t                      __and__(self, other)\n",
        "   |               \t      __or__(self, other)\n",
        "   ^               \t     __xor__(self, other)"
      ],
      "metadata": {
        "id": "suRdPp6PRwFw"
      }
    },
    {
      "cell_type": "code",
      "source": [
        "\"\"\"# Comparison Operators:\n",
        "Operator\tMagic Method\n",
        "<\t__lt__(self, other)\n",
        ">\t__gt__(self, other)\n",
        "<=\t__le__(self, other)\n",
        ">=\t__ge__(self, other)\n",
        "==\t__eq__(self, other)\n",
        "!=\t__ne__(self, other)\"\"\""
      ],
      "metadata": {
        "id": "MqOLqX8hRmSQ"
      },
      "execution_count": null,
      "outputs": []
    },
    {
      "cell_type": "code",
      "source": [
        "\"\"\"Assignment Operators:\n",
        "\n",
        "Operator\tMagic Method\n",
        "-=\t__isub__(self, other)\n",
        "+=\t__iadd__(self, other)\n",
        "*=\t__imul__(self, other)\n",
        "/=\t__idiv__(self, other)\n",
        "//=\t__ifloordiv__(self, other)\n",
        "%=\t__imod__(self, other)\n",
        "**=\t__ipow__(self, other)\n",
        ">>=\t__irshift__(self, other)\n",
        "<<=\t__ilshift__(self, other)\n",
        "&=\t__iand__(self, other)\n",
        "|=\t__ior__(self, other)\n",
        "^=\t__ixor__(self, other) \"\"\""
      ],
      "metadata": {
        "colab": {
          "base_uri": "https://localhost:8080/",
          "height": 105
        },
        "id": "6fUKHd5KS8wB",
        "outputId": "269b356a-bbcf-4a31-bb71-1f2199d6770d"
      },
      "execution_count": null,
      "outputs": [
        {
          "output_type": "execute_result",
          "data": {
            "text/plain": [
              "'Assignment Operators:\\n\\nOperator\\tMagic Method\\n-=\\t__isub__(self, other)\\n+=\\t__iadd__(self, other)\\n*=\\t__imul__(self, other)\\n/=\\t__idiv__(self, other)\\n//=\\t__ifloordiv__(self, other)\\n%=\\t__imod__(self, other)\\n**=\\t__ipow__(self, other)\\n>>=\\t__irshift__(self, other)\\n<<=\\t__ilshift__(self, other)\\n&=\\t__iand__(self, other)\\n|=\\t__ior__(self, other)\\n^=\\t__ixor__(self, other) '"
            ],
            "application/vnd.google.colaboratory.intrinsic+json": {
              "type": "string"
            }
          },
          "metadata": {},
          "execution_count": 16
        }
      ]
    },
    {
      "cell_type": "code",
      "source": [
        "\"\"\"Unary Operators:\n",
        "\n",
        "Operator\tMagic Method\n",
        "–\t__neg__(self)\n",
        "+\t__pos__(self)\n",
        "~\t__invert__(self)\"\"\""
      ],
      "metadata": {
        "id": "vrULVgfGTDZp"
      },
      "execution_count": null,
      "outputs": []
    },
    {
      "cell_type": "code",
      "source": [
        "# operator overloading on Boolean values\n",
        "class MyClass:\n",
        "  def __init__(self,value):\n",
        "    self.value = value\n",
        "\n",
        "  def __and__(self,other):\n",
        "    return MyClass(self.value and other.value)\n",
        "\n",
        "a = MyClass(True)\n",
        "b = MyClass(False)\n",
        "c = a & b\n",
        "print(c)"
      ],
      "metadata": {
        "colab": {
          "base_uri": "https://localhost:8080/"
        },
        "id": "dJj3vjzWTYIa",
        "outputId": "57c0a5de-aad1-49ad-c89d-660305b226fe"
      },
      "execution_count": null,
      "outputs": [
        {
          "output_type": "stream",
          "name": "stdout",
          "text": [
            "<__main__.MyClass object at 0x7ecfa12ebac0>\n"
          ]
        }
      ]
    },
    {
      "cell_type": "code",
      "source": [
        "# Any ALL in python\n",
        "# Any can be thought as sequence of OR operations .\n",
        "# It short circuit the execution i.e. stop the execution as soon as\n",
        "# the result is known.\n",
        "# any(list of iterables)\n",
        "# Since all are false, false is returned\n",
        "print(any([False,False,False,False]))\n",
        "# Here the method will short-circuit at the\n",
        "# second item (True) and will return True.\n",
        "print(any([False,True,False,False]))\n",
        "# Here the method will short-circuit at the\n",
        "# first (True) and will return True.\n",
        "print(any([True,False,False,False]))"
      ],
      "metadata": {
        "id": "xkeFmhMmU29q"
      },
      "execution_count": null,
      "outputs": []
    },
    {
      "cell_type": "code",
      "source": [
        "# all\n",
        "# Here all the iterables are True so all\n",
        "# will return True and the same will be printed\n",
        "print (all([True, True, True, True]))\n",
        "\n",
        "# Here the method will short-circuit at the\n",
        "# first item (False) and will return False.\n",
        "print (all([False, True, True, False]))\n",
        "\n",
        "# This statement will return False, as no\n",
        "# True is found in the iterables\n",
        "print (all([False, False, False]))"
      ],
      "metadata": {
        "colab": {
          "base_uri": "https://localhost:8080/"
        },
        "id": "blFkFb0bWn3S",
        "outputId": "4025d6d7-1f02-4997-9bc5-cea855da2bcd"
      },
      "execution_count": null,
      "outputs": [
        {
          "output_type": "stream",
          "name": "stdout",
          "text": [
            "True\n",
            "False\n",
            "False\n"
          ]
        }
      ]
    },
    {
      "cell_type": "code",
      "source": [
        "# practical examples\n",
        "list1 = []\n",
        "list2 = []\n",
        "\n",
        "for i in range(1,11):\n",
        "  list1.append(4*i)\n",
        "\n",
        "for i in range(0,10):\n",
        "  list2.append(list1[i]%5 == 0)\n",
        "\n",
        "print('see wheather at least one number is divisible by 5  in list  1=>')\n",
        "print(any(list2))"
      ],
      "metadata": {
        "colab": {
          "base_uri": "https://localhost:8080/"
        },
        "id": "iOB4KavpXHFy",
        "outputId": "d6c98506-2f4b-4953-89cb-9366b07a2448"
      },
      "execution_count": null,
      "outputs": [
        {
          "output_type": "stream",
          "name": "stdout",
          "text": [
            "see wheather at least one number is divisible by 5  in list  1=>\n",
            "True\n"
          ]
        }
      ]
    },
    {
      "cell_type": "code",
      "source": [
        "list1 = []\n",
        "list2 = []\n",
        "\n",
        "for i in range(1,11):\n",
        "  list1.append(4*i-3)\n",
        "  print(list1)\n",
        "for i in range(0,10):\n",
        "  list2.append(list1[i]%2 == 1)\n",
        "\n",
        "print('see wheather at least one number is divisible by 5  in list  1=>')\n",
        "print(all(list2))"
      ],
      "metadata": {
        "colab": {
          "base_uri": "https://localhost:8080/"
        },
        "id": "hXtaF3PFYvxE",
        "outputId": "8517766c-a021-4956-e821-452c620b14cb"
      },
      "execution_count": null,
      "outputs": [
        {
          "output_type": "stream",
          "name": "stdout",
          "text": [
            "[1]\n",
            "[1, 5]\n",
            "[1, 5, 9]\n",
            "[1, 5, 9, 13]\n",
            "[1, 5, 9, 13, 17]\n",
            "[1, 5, 9, 13, 17, 21]\n",
            "[1, 5, 9, 13, 17, 21, 25]\n",
            "[1, 5, 9, 13, 17, 21, 25, 29]\n",
            "[1, 5, 9, 13, 17, 21, 25, 29, 33]\n",
            "[1, 5, 9, 13, 17, 21, 25, 29, 33, 37]\n",
            "see wheather at least one number is divisible by 5  in list  1=>\n",
            "True\n"
          ]
        }
      ]
    },
    {
      "cell_type": "code",
      "source": [
        "# truth table\n",
        "https://media.geeksforgeeks.org/wp-content/cdn-uploads/All-any-in-python.png\n"
      ],
      "metadata": {
        "id": "c2VJQg25aBF8"
      },
      "execution_count": null,
      "outputs": []
    },
    {
      "cell_type": "code",
      "source": [
        "# opeartor functions in python set 1\n",
        "import operator\n",
        "a = 4\n",
        "b = 3\n",
        "\n",
        "print(\"addition of numbers is :\",end=\"\")\n",
        "print(operator.add(a,b))\n",
        "\n",
        "print(\"subtarction of numbers is :\",end=\"\")\n",
        "print(operator.sub(a,b))\n",
        "\n",
        "print(\"multiplication of numbers is :\",end=\"\")\n",
        "print(operator.mul(a,b))\n",
        "\n",
        "print (\"The true division of numbers is : \",end=\"\");\n",
        "print (operator.truediv(a,b))\n",
        "\n",
        "# using floordiv() to divide two numbers\n",
        "print (\"The floor division of numbers is : \",end=\"\");\n",
        "print (operator.floordiv(a,b))\n",
        "\n",
        "# using pow() to exponentiate two numbers\n",
        "print (\"The exponentiation of numbers is : \",end=\"\");\n",
        "print (operator.pow(a,b))\n",
        "\n",
        "# using mod() to take modulus of two numbers\n",
        "print (\"The modulus of numbers is : \",end=\"\");\n",
        "print (operator.mod(a,b))"
      ],
      "metadata": {
        "colab": {
          "base_uri": "https://localhost:8080/"
        },
        "id": "xB86yt97aRyD",
        "outputId": "64642163-e11d-4da3-d972-2056e45a4927"
      },
      "execution_count": null,
      "outputs": [
        {
          "output_type": "stream",
          "name": "stdout",
          "text": [
            "addition of numbers is :7\n",
            "subtarction of numbers is :1\n",
            "multiplication of numbers is :12\n",
            "The true division of numbers is : 1.3333333333333333\n",
            "The floor division of numbers is : 1\n",
            "The exponentiation of numbers is : 64\n",
            "The modulus of numbers is : 1\n"
          ]
        }
      ]
    },
    {
      "cell_type": "markdown",
      "source": [
        "8. lt(a, b) :- This function is used to check if a is less than b or not. Returns true if a is less than b, else returns false.\n",
        "Operation – a < b.\n",
        "\n",
        "9. le(a, b) :- This function is used to check if a is less than or equal to b or not. Returns true if a is less than or equal to b, else returns false.\n",
        "Operation – a <= b.\n",
        "\n",
        "10. eq(a, b) :- This function is used to check if a is equal to b or not. Returns true if a is equal to b, else returns false.\n",
        "Operation – a == b."
      ],
      "metadata": {
        "id": "adtxRxuAc0g0"
      }
    },
    {
      "cell_type": "code",
      "source": [
        "# using lt() to check if a is less than b\n",
        "if(operator.lt(a,b)):\n",
        "       print (\"3 is less than 3\")\n",
        "else : print (\"3 is not less than 3\")\n",
        "\n",
        "# using le() to check if a is less than or equal to b\n",
        "if(operator.le(a,b)):\n",
        "       print (\"3 is less than or equal to 3\")\n",
        "else : print (\"3 is not less than or equal to 3\")\n",
        "\n",
        "# using eq() to check if a is equal to b\n",
        "if (operator.eq(a,b)):\n",
        "       print (\"3 is equal to 3\")\n",
        "else : print (\"3 is not equal to 3\")\n",
        "\n",
        "\n",
        "# using gt() to check if a is greater than b\n",
        "if (operator.gt(a,b)):\n",
        "       print (\"4 is greater than 3\")\n",
        "else : print (\"4 is not greater than 3\")\n",
        "\n",
        "# using ge() to check if a is greater than or equal to b\n",
        "if (operator.ge(a,b)):\n",
        "       print (\"4 is greater than or equal to 3\")\n",
        "else : print (\"4 is not greater than or equal to 3\")\n",
        "\n",
        "# using ne() to check if a is not equal to b\n",
        "if (operator.ne(a,b)):\n",
        "       print (\"4 is not equal to 3\")\n",
        "else : print (\"4 is equal to 3\")"
      ],
      "metadata": {
        "colab": {
          "base_uri": "https://localhost:8080/"
        },
        "id": "YAUafTFbc2FM",
        "outputId": "57e1a461-1a4b-4f34-8bad-3e40ec68da91"
      },
      "execution_count": null,
      "outputs": [
        {
          "output_type": "stream",
          "name": "stdout",
          "text": [
            "3 is not less than 3\n",
            "3 is not less than or equal to 3\n",
            "3 is not equal to 3\n",
            "4 is greater than 3\n",
            "4 is greater than or equal to 3\n",
            "4 is not equal to 3\n"
          ]
        }
      ]
    },
    {
      "cell_type": "code",
      "source": [
        "# operator functions in python set 2\n",
        "import operator\n",
        "\n",
        "li = [1, 5, 6, 7, 8]\n",
        "\n",
        "# printing original list\n",
        "print (\"The original list is : \",end=\"\")\n",
        "for i in range(0,len(li)):\n",
        "    print (li[i],end=\" \")\n",
        "\n",
        "print (\"\\r\")\n",
        "\n",
        "# using setitem() to assign 3 at 4th position\n",
        "operator.setitem(li,3,3)\n",
        "\n",
        "# printing modified list after setitem()\n",
        "print (\"The modified list after setitem() is : \",end=\"\")\n",
        "for i in range(0,len(li)):\n",
        "    print (li[i],end=\" \")\n",
        "\n",
        "print (\"\\r\")\n",
        "\n",
        "# using delitem() to delete value at 2nd index\n",
        "operator.delitem(li,1)\n",
        "\n",
        "# printing modified list after delitem()\n",
        "print (\"The modified list after delitem() is : \",end=\"\")\n",
        "for i in range(0,len(li)):\n",
        "    print (li[i],end=\" \")\n",
        "\n",
        "print (\"\\r\")\n",
        "\n",
        "# using getitem() to access 4th element\n",
        "print (\"The 4th element of list is : \",end=\"\")\n",
        "print (operator.getitem(li,3))"
      ],
      "metadata": {
        "colab": {
          "base_uri": "https://localhost:8080/"
        },
        "id": "hQ0SpnOjddxr",
        "outputId": "a94469f0-2514-45c4-bf03-0cc566a2f1d7"
      },
      "execution_count": null,
      "outputs": [
        {
          "output_type": "stream",
          "name": "stdout",
          "text": [
            "The original list is : 1 5 6 7 8 \r\n",
            "The modified list after setitem() is : 1 5 6 3 8 \r\n",
            "The modified list after delitem() is : 1 6 3 8 \r\n",
            "The 4th element of list is : 8\n"
          ]
        }
      ]
    },
    {
      "cell_type": "code",
      "source": [
        "# slice operator\n",
        "import operator\n",
        "\n",
        "# Initializing list\n",
        "li = [1, 5, 6, 7, 8]\n",
        "\n",
        "# printing original list\n",
        "print (\"The original list is : \",end=\"\")\n",
        "for i in range(0,len(li)):\n",
        "    print (li[i],end=\" \")\n",
        "\n",
        "print (\"\\r\")\n",
        "\n",
        "# using setitem() to assign 2,3,4 at 2nd,3rd and 4th index\n",
        "operator.setitem(li,slice(1,4),[2,3,4])\n",
        "\n",
        "# printing modified list after setitem()\n",
        "print (\"The modified list after setitem() is : \",end=\"\")\n",
        "for i in range(0,len(li)):\n",
        "    print (li[i],end=\" \")\n",
        "\n",
        "print (\"\\r\")\n",
        "\n",
        "# using delitem() to delete value at 3rd and 4th index\n",
        "operator.delitem(li,slice(2,4))\n",
        "\n",
        "# printing modified list after delitem()\n",
        "print (\"The modified list after delitem() is : \",end=\"\")\n",
        "for i in range(0,len(li)):\n",
        "    print (li[i],end=\" \")\n",
        "\n",
        "print (\"\\r\")\n",
        "\n",
        "# using getitem() to access 1st and 2nd element\n",
        "print (\"The 1st and 2nd element of list is : \",end=\"\")\n",
        "print (operator.getitem(li,slice(0,2)))"
      ],
      "metadata": {
        "colab": {
          "base_uri": "https://localhost:8080/"
        },
        "id": "o-N7-MoXeKE0",
        "outputId": "6ff7ca93-969f-4e85-e275-a52527d6b412"
      },
      "execution_count": null,
      "outputs": [
        {
          "output_type": "stream",
          "name": "stdout",
          "text": [
            "The original list is : 1 5 6 7 8 \r\n",
            "The modified list after setitem() is : 1 2 3 4 8 \r\n",
            "The modified list after delitem() is : 1 2 8 \r\n",
            "The 1st and 2nd element of list is : [1, 2]\n"
          ]
        }
      ]
    },
    {
      "cell_type": "code",
      "source": [
        " # concat() and contains()\n",
        "\n",
        "# importing operator module\n",
        "import operator\n",
        "\n",
        "# Initializing string 1\n",
        "s1 = \"geeksfor\"\n",
        "\n",
        "# Initializing string 2\n",
        "s2 = \"geeks\"\n",
        "\n",
        "# using concat() to concatenate two strings\n",
        "print (\"The concatenated string is : \",end=\"\")\n",
        "print (operator.concat(s1,s2))\n",
        "\n",
        "# using contains() to check if s1 contains s2\n",
        "if (operator.contains(s1,s2)):\n",
        "       print (\"geeksfor contains geeks\")\n",
        "else : print (\"geeksfor does not contain geeks\")"
      ],
      "metadata": {
        "colab": {
          "base_uri": "https://localhost:8080/"
        },
        "id": "qbdzd7ALelZc",
        "outputId": "fec4cf08-b114-457b-aba5-f3835b2fccb6"
      },
      "execution_count": null,
      "outputs": [
        {
          "output_type": "stream",
          "name": "stdout",
          "text": [
            "The concatenated string is : geeksforgeeks\n",
            "geeksfor contains geeks\n"
          ]
        }
      ]
    },
    {
      "cell_type": "code",
      "source": [
        "import operator\n",
        "\n",
        "a = 1\n",
        "\n",
        "b = 0\n",
        "\n",
        "# using and_() to display bitwise and operation\n",
        "print (\"The bitwise and of a and b is : \",end=\"\")\n",
        "print (operator.and_(a,b))\n",
        "\n",
        "# using or_() to display bitwise or operation\n",
        "print (\"The bitwise or of a and b is : \",end=\"\")\n",
        "print (operator.or_(a,b))\n",
        "\n",
        "# using xor() to display bitwise exclusive or operation\n",
        "print (\"The bitwise xor of a and b is : \",end=\"\")\n",
        "print (operator.xor(a,b))\n",
        "\n",
        "# using invert() to invert value of a\n",
        "operator.invert(a)\n",
        "\n",
        "# printing modified value\n",
        "print (\"The inverted value of a is : \",end=\"\")\n",
        "print (operator.invert(a))"
      ],
      "metadata": {
        "colab": {
          "base_uri": "https://localhost:8080/"
        },
        "id": "ETfLAc6aeysU",
        "outputId": "4ab66985-2203-4f88-adf6-201fa48dba47"
      },
      "execution_count": null,
      "outputs": [
        {
          "output_type": "stream",
          "name": "stdout",
          "text": [
            "The bitwise and of a and b is : 0\n",
            "The bitwise or of a and b is : 1\n",
            "The bitwise xor of a and b is : 1\n",
            "The inverted value of a is : -2\n"
          ]
        }
      ]
    },
    {
      "cell_type": "code",
      "source": [
        "# difference between == and is operator in python\n",
        "# == is used to compare values most equality operators\n",
        "# is - identity operator\n",
        "# when variables on each side of an opeartor point at the exact same object - it wiil give true\n",
        "# EXAMPLE 1\n",
        "list1 = []\n",
        "list2 = []\n",
        "list3 = list1\n",
        "\n",
        "# case 1\n",
        "if (list1 == list2):\n",
        "    print(\"True\")\n",
        "else:\n",
        "    print(\"False\")\n",
        "\n",
        "# case 2\n",
        "if (list1 is list2):\n",
        "    print(\"True\")\n",
        "else:\n",
        "    print(\"False\")\n",
        "\n",
        "# case 3\n",
        "if (list1 is list3):\n",
        "    print(\"True\")\n",
        "else:\n",
        "    print(\"False\")\n",
        "\n",
        "# case 4\n",
        "list3 = list3 + list2\n",
        "\n",
        "if (list1 is list3):\n",
        "    print(\"True\")\n",
        "else:\n",
        "    print(\"False\")"
      ],
      "metadata": {
        "colab": {
          "base_uri": "https://localhost:8080/"
        },
        "id": "m5sRRQTrfUS0",
        "outputId": "65e1f44e-e5fd-4b6b-cc46-8cebc4ac626a"
      },
      "execution_count": null,
      "outputs": [
        {
          "output_type": "stream",
          "name": "stdout",
          "text": [
            "True\n",
            "False\n",
            "True\n",
            "False\n"
          ]
        }
      ]
    },
    {
      "cell_type": "code",
      "source": [
        "# EAXMPLE 2\n",
        "list1 = []\n",
        "list2 = []\n",
        "\n",
        "print(id(list1))\n",
        "print(id(list2))"
      ],
      "metadata": {
        "id": "WlAlmSbxg3J_"
      },
      "execution_count": null,
      "outputs": []
    },
    {
      "cell_type": "code",
      "source": [
        "# Python Membership and Identity operators\n",
        "# Python program to illustrate\n",
        "# Finding common member in list\n",
        "# using 'in' operator\n",
        "list1 = [1, 2, 3, 4, 5]\n",
        "list2 = [6, 7, 8, 9]\n",
        "for item in list1:\n",
        "    if item in list2:\n",
        "        print(\"overlapping\")\n",
        "    else:\n",
        "        print(\"not overlapping\")\n",
        "    break"
      ],
      "metadata": {
        "colab": {
          "base_uri": "https://localhost:8080/"
        },
        "id": "vpm34p6GhNmt",
        "outputId": "0c868a13-52c9-4bc1-d376-1a4f5c18036b"
      },
      "execution_count": null,
      "outputs": [
        {
          "output_type": "stream",
          "name": "stdout",
          "text": [
            "not overlapping\n"
          ]
        }
      ]
    },
    {
      "cell_type": "code",
      "source": [
        "# example using without using in operator\n",
        "def overlapping(list1,list2):\n",
        "\n",
        "  c = 0\n",
        "  d = 0\n",
        "  for i in list1:\n",
        "    c += 1\n",
        "  for i in list2:\n",
        "    d +=1\n",
        "  for i in range(0,c):\n",
        "    for j in range(0,d):\n",
        "      if list1[i] == list2[j]:\n",
        "        return 1\n",
        "  return 0\n",
        "\n",
        "list1 = [1,2,3,4,5]\n",
        "list2 = [6,7,8,9]\n",
        "if overlapping(list1,list2):\n",
        "  print(\"overlapping\")\n",
        "else:\n",
        "  print(\"not overlapping\")"
      ],
      "metadata": {
        "colab": {
          "base_uri": "https://localhost:8080/"
        },
        "id": "aHPG8lcmhtBk",
        "outputId": "950e80c1-99bb-4047-de80-14bd35f2c5b2"
      },
      "execution_count": null,
      "outputs": [
        {
          "output_type": "stream",
          "name": "stdout",
          "text": [
            "not overlapping\n"
          ]
        }
      ]
    },
    {
      "cell_type": "code",
      "source": [
        "# not in\n",
        "x = 24\n",
        "y = 20\n",
        "list = [10, 20, 30, 40, 50]\n",
        "\n",
        "if (x not in list):\n",
        "    print(\"x is NOT present in given list\")\n",
        "else:\n",
        "    print(\"x is  present in given list\")\n",
        "\n",
        "if (y in list):\n",
        "    print(\"y is present in given list\")\n",
        "else:\n",
        "    print(\"y is NOT present in given list\")"
      ],
      "metadata": {
        "colab": {
          "base_uri": "https://localhost:8080/"
        },
        "id": "CeCtDHAcjFnF",
        "outputId": "c5ceb3ac-31c1-466f-8a13-3fa11f277d4e"
      },
      "execution_count": null,
      "outputs": [
        {
          "output_type": "stream",
          "name": "stdout",
          "text": [
            "x is NOT present in given list\n",
            "y is present in given list\n"
          ]
        }
      ]
    },
    {
      "cell_type": "markdown",
      "source": [
        "Identity operators\n",
        "Identity operators are used to compare the objects if both the objects are actually of the same data type and share the same memory location.\n",
        "There are different identity operators such as\n",
        "\n",
        "‘is’ operator – Evaluates to True if the variables on either side of the operator point to the same object and false otherwise."
      ],
      "metadata": {
        "id": "Bvhht4f6joRd"
      }
    },
    {
      "cell_type": "code",
      "source": [
        "x = 5\n",
        "y = 5\n",
        "print(x is y)\n",
        "id(x)\n",
        "id(y)\n",
        "\n",
        "x = [\"Geeks\", \"for\", \"Geeks\"]\n",
        "y = [\"Geeks\", \"for\", \"Geeks\"]\n",
        "z = x\n",
        "\n",
        "# Returns False because z is the same object as x\n",
        "print(x is not z)\n",
        "\n",
        "# Returns True because x is not the same object as y,\n",
        "# even if they have the same content\n",
        "print(x is not y)\n",
        "\n",
        "# To demonstrate the difference between \"is not\" and \"!=\":\n",
        "# This comparison returns False because x is equal to y\n",
        "print(x != y)"
      ],
      "metadata": {
        "colab": {
          "base_uri": "https://localhost:8080/"
        },
        "id": "0ax_WwB8jpjd",
        "outputId": "3994d068-92c2-41b5-93ac-d365e89765a7"
      },
      "execution_count": null,
      "outputs": [
        {
          "output_type": "stream",
          "name": "stdout",
          "text": [
            "True\n",
            "False\n",
            "True\n",
            "False\n"
          ]
        }
      ]
    },
    {
      "cell_type": "code",
      "source": [
        "# python data types\n",
        "# datatypes are classes and varibles are instances(object) of these classes\n",
        "# numeric,sequence type,Boolean,set,Dictionary,Binary(memoryview,bytearray,bytes)\n",
        "# numeric - integer,float,complex number\n",
        "# type()\n",
        "x = \"Hello world\"\n",
        "\n",
        "x = 50\n",
        "\n",
        "x = 60.5\n",
        "\n",
        "x = ['ganesh',\"are\"]\n",
        "\n",
        "x = (\"ganesh\",\"are\")\n",
        "\n",
        "x = {\"ganesh\":\"are\"}\n",
        "\n",
        "x = 3j\n",
        "\n",
        "# output : range\n",
        "x = range(10)\n",
        "\n",
        "# output : set\n",
        "x = {\"ganesh\",\"are\"}\n",
        "\n",
        "# data type output: frozenset\n",
        "x = frozenset({\"ganesh\",\"are\"})\n",
        "\n",
        "# output : bool\n",
        "x = True\n",
        "\n",
        "# output : bytes\n",
        "x = b'ganesh'\n",
        "\n",
        "#output :bytearrray\n",
        "x = bytearray(4)\n",
        "\n",
        "# output:memoryview\n",
        "x = memoryview(bytes(6))\n",
        "\n",
        "#output:Nonetype\n",
        "x = None"
      ],
      "metadata": {
        "id": "qjQ86xJWxXwP"
      },
      "execution_count": null,
      "outputs": []
    },
    {
      "cell_type": "code",
      "source": [
        "# no limit to length of integer in python\n",
        "# float - real number with floating point\n",
        "# complex - real part + imaginary part\n",
        "a = 5\n",
        "print(\"Type of a: \", type(a))\n",
        "\n",
        "b = 5.0\n",
        "print(\"\\nType of b: \", type(b))\n",
        "\n",
        "c = 2 + 4j\n",
        "print(\"\\nType of c: \", type(c))"
      ],
      "metadata": {
        "colab": {
          "base_uri": "https://localhost:8080/"
        },
        "id": "ea6GmcrK0odm",
        "outputId": "4c1df0fe-600e-4103-fcf9-62354fbbe7fb"
      },
      "execution_count": 1,
      "outputs": [
        {
          "output_type": "stream",
          "name": "stdout",
          "text": [
            "Type of a:  <class 'int'>\n",
            "\n",
            "Type of b:  <class 'float'>\n",
            "\n",
            "Type of c:  <class 'complex'>\n"
          ]
        }
      ]
    },
    {
      "cell_type": "markdown",
      "source": [
        "The sequence Data Type in Python is the ordered collection of similar or different data types. Sequences allow storing of multiple values in an organized and efficient fashion."
      ],
      "metadata": {
        "id": "LaxMwMyc1wuQ"
      }
    },
    {
      "cell_type": "markdown",
      "source": [
        "strings in Python are arrays of bytes representing Unicode characters. A string is a collection of one or more characters put in a single quote, double-quote, or triple-quote. In python there is no character data type, a character is a string of length one. It is represented by str class.  "
      ],
      "metadata": {
        "id": "gvBwe8hi2Nsj"
      }
    },
    {
      "cell_type": "code",
      "source": [
        "# sequence data types in python\n",
        "# string data type\n",
        "str1 = \"hello ganesh are you completing your work?\"\n",
        "print(str1)\n",
        "print(type(str1))\n",
        "\n",
        "str2 = 'ganesh for ganesh'\n",
        "print(\"\\nstring with single quote:\")\n",
        "print(str2)"
      ],
      "metadata": {
        "colab": {
          "base_uri": "https://localhost:8080/"
        },
        "id": "-IvQ1Jv81V5J",
        "outputId": "033cfbd7-aa38-4e4d-d237-db417b31fce2"
      },
      "execution_count": 2,
      "outputs": [
        {
          "output_type": "stream",
          "name": "stdout",
          "text": [
            "hello ganesh are you completing your work?\n",
            "<class 'str'>\n",
            "\n",
            "string with single quote:\n",
            "ganesh for ganesh\n"
          ]
        }
      ]
    },
    {
      "cell_type": "code",
      "source": [
        "# Accessing elements of string\n",
        "str1 = \"hello ganesh are you completing your work?\"\n",
        "print(str1[0])\n",
        "print(str1[-2])"
      ],
      "metadata": {
        "colab": {
          "base_uri": "https://localhost:8080/"
        },
        "id": "hCxq9_7u3QOI",
        "outputId": "410ad5c5-2313-4425-b565-b2ce3b23bc8a"
      },
      "execution_count": 5,
      "outputs": [
        {
          "output_type": "stream",
          "name": "stdout",
          "text": [
            "h\n",
            "k\n"
          ]
        }
      ]
    },
    {
      "cell_type": "markdown",
      "source": [
        " Lists are just like arrays, declared in other languages which is an ordered collection of data. It is very flexible as the items in a list do not need to be of the same type."
      ],
      "metadata": {
        "id": "AmTyUi8F33fY"
      }
    },
    {
      "cell_type": "code",
      "source": [
        "# list data type\n",
        "list = []\n",
        "print(\"intial blank list:\")\n",
        "print(list)\n",
        "\n",
        "list1 = ['ganesh are is the student']\n",
        "print('\\nlist with the use of string:')\n",
        "print(list1)\n",
        "\n",
        "list2 = [\"ganesh\",\"are\",\"chowdary\"]\n",
        "print(\"\\nlist containing multiple values\")\n",
        "print(list2)\n",
        "print(list2[1])\n",
        "print(list2[2])\n",
        "\n",
        "# creating a multidimensional list\n",
        "# by nesting a list inside a list\n",
        "list3 = [['games','sports'],['events']]\n",
        "print(\"\\nMultidimensional List:\")\n",
        "print(list3)\n",
        "print(list3[1][0])\n",
        "# List[len(List)-3]"
      ],
      "metadata": {
        "colab": {
          "base_uri": "https://localhost:8080/"
        },
        "id": "5m6rx-873uPm",
        "outputId": "fdc647be-c8a8-4be4-850a-fe6daef1ee3b"
      },
      "execution_count": 8,
      "outputs": [
        {
          "output_type": "stream",
          "name": "stdout",
          "text": [
            "intial blank list:\n",
            "[]\n",
            "\n",
            "list with the use of string:\n",
            "['ganesh are is the student']\n",
            "\n",
            "list containing multiple values\n",
            "['ganesh', 'are', 'chowdary']\n",
            "are\n",
            "chowdary\n",
            "\n",
            "Multidimensional List:\n",
            "[['games', 'sports'], ['events']]\n",
            "events\n"
          ]
        }
      ]
    },
    {
      "cell_type": "code",
      "source": [
        "# tuple datatype\n",
        "# tuples can include any datatype - strings ,integers,lists etc --\n",
        "# one trailing comma is required to make it a tuple\n",
        "tu = ()\n",
        "print(\"intial empty tuple:\")\n",
        "print(tu)\n",
        "\n",
        "tu1 = ('ganesh','are')\n",
        "print(\"\\ntuple with the use of string:\")\n",
        "print(tu1)\n",
        "\n",
        "list = [1,2,3,4,5]\n",
        "print(\"\\nTuple using list:\")\n",
        "print(tuple(list1))\n",
        "\n",
        "# creating tuple with the use of\n",
        "#built in function\n",
        "tu2  = tuple('ganesh')\n",
        "print(\"\\nTuple with the use of function:\")\n",
        "print(tu2)\n",
        "\n",
        "# creating a Tuple with nested tuples\n",
        "tuple1 = (0,1,2,3)\n",
        "tuple2 = ('python','practice')\n",
        "tuple3 = (tuple1,tuple2)\n",
        "print(\"\\nTuple with nested tuples:\")\n",
        "print(tuple3)\n",
        "print(tuple3[-1][0])"
      ],
      "metadata": {
        "colab": {
          "base_uri": "https://localhost:8080/"
        },
        "id": "ywJnzNqC6R0W",
        "outputId": "30010937-4c4e-46e9-e397-395ccb876619"
      },
      "execution_count": 11,
      "outputs": [
        {
          "output_type": "stream",
          "name": "stdout",
          "text": [
            "intial empty tuple:\n",
            "()\n",
            "\n",
            "tuple with the use of string:\n",
            "('ganesh', 'are')\n",
            "\n",
            "Tuple using list:\n",
            "('ganesh are is the student',)\n",
            "\n",
            "Tuple with the use of function:\n",
            "('g', 'a', 'n', 'e', 's', 'h')\n",
            "\n",
            "Tuple with nested tuples:\n",
            "((0, 1, 2, 3), ('python', 'practice'))\n",
            "python\n"
          ]
        }
      ]
    },
    {
      "cell_type": "code",
      "source": [
        "# Boolean data type\n",
        "# two built in values - true or false\n",
        "#But non-Boolean objects can be evaluated in a Boolean context as well and determined to be true or false.\n",
        "# It is denoted by the class bool.\n",
        "print(type(True))\n",
        "print(type(False))\n",
        "\n",
        "print(type(true))"
      ],
      "metadata": {
        "colab": {
          "base_uri": "https://localhost:8080/",
          "height": 245
        },
        "id": "ZqKBpfcu9TeX",
        "outputId": "aa7479c0-6e36-4250-c3a3-f8acbd323617"
      },
      "execution_count": 12,
      "outputs": [
        {
          "output_type": "stream",
          "name": "stdout",
          "text": [
            "<class 'bool'>\n",
            "<class 'bool'>\n"
          ]
        },
        {
          "output_type": "error",
          "ename": "NameError",
          "evalue": "ignored",
          "traceback": [
            "\u001b[0;31m---------------------------------------------------------------------------\u001b[0m",
            "\u001b[0;31mNameError\u001b[0m                                 Traceback (most recent call last)",
            "\u001b[0;32m<ipython-input-12-de8a62bbde7f>\u001b[0m in \u001b[0;36m<cell line: 8>\u001b[0;34m()\u001b[0m\n\u001b[1;32m      6\u001b[0m \u001b[0mprint\u001b[0m\u001b[0;34m(\u001b[0m\u001b[0mtype\u001b[0m\u001b[0;34m(\u001b[0m\u001b[0;32mFalse\u001b[0m\u001b[0;34m)\u001b[0m\u001b[0;34m)\u001b[0m\u001b[0;34m\u001b[0m\u001b[0;34m\u001b[0m\u001b[0m\n\u001b[1;32m      7\u001b[0m \u001b[0;34m\u001b[0m\u001b[0m\n\u001b[0;32m----> 8\u001b[0;31m \u001b[0mprint\u001b[0m\u001b[0;34m(\u001b[0m\u001b[0mtype\u001b[0m\u001b[0;34m(\u001b[0m\u001b[0mtrue\u001b[0m\u001b[0;34m)\u001b[0m\u001b[0;34m)\u001b[0m\u001b[0;34m\u001b[0m\u001b[0;34m\u001b[0m\u001b[0m\n\u001b[0m",
            "\u001b[0;31mNameError\u001b[0m: name 'true' is not defined"
          ]
        }
      ]
    },
    {
      "cell_type": "markdown",
      "source": [
        "In Python, a Set is an unordered collection of data types that is iterable, mutable and has no duplicate elements. The order of elements in a set is undefined though it may consist of various elements.\n",
        "#Create a Set in Python\n",
        "Sets can be created by using the built-in set() function with an iterable object or a sequence by placing the sequence inside curly braces, separated by a ‘comma’. The type of elements in a set need not be the same, various mixed-up data type values can also be passed to the set."
      ],
      "metadata": {
        "id": "yTuSLX2J-mSa"
      }
    },
    {
      "cell_type": "code",
      "source": [
        "# set data type in python\n",
        "set1 = set()\n",
        "print(\"intial blank set\")\n",
        "print(set1)\n",
        "\n",
        "# set with string\n",
        "set2 = set(\"ganesh chowdary\")\n",
        "print(\"\\nset with use of string:\")\n",
        "print(set2)\n",
        "\n",
        "# set with list\n",
        "set3 = set([\"ganesh\",\"raghavendra\",\"shreya\"])\n",
        "print(\"\\nset with use of list\")\n",
        "print(set3)\n",
        "\n",
        "# set with mixed type of values (numbers and strings)\n",
        "set4 = set([1,2,\"ganesh\",4,'for',8,'are'])\n",
        "print(\"\\nset with use of Mixed values\")\n",
        "print(set4)"
      ],
      "metadata": {
        "colab": {
          "base_uri": "https://localhost:8080/"
        },
        "id": "x7BgkXfh-T8K",
        "outputId": "d3f87f55-6766-4a76-9127-af7df470e793"
      },
      "execution_count": 14,
      "outputs": [
        {
          "output_type": "stream",
          "name": "stdout",
          "text": [
            "intial blank set\n",
            "set()\n",
            "\n",
            "set with use of string:\n",
            "{'e', 'a', ' ', 'r', 'w', 'h', 'o', 'd', 'n', 'c', 'y', 's', 'g'}\n",
            "\n",
            "set with use of list\n",
            "{'raghavendra', 'ganesh', 'shreya'}\n",
            "\n",
            "set with use of Mixed values\n",
            "{1, 2, 'ganesh', 4, 8, 'are', 'for'}\n"
          ]
        }
      ]
    },
    {
      "cell_type": "code",
      "source": [
        "# accessing the set items\n",
        "# index will not work - as they are unordered\n",
        "# by using the loop or membership operators in ,notin\n",
        "set1 = set({'ganesh','raghavendra','shreya'})\n",
        "print(\"\\nintial set\")\n",
        "print(set1)\n",
        "\n",
        "# for loop\n",
        "print(\"\\nElements of set:\")\n",
        "for i in set1:\n",
        "  print(i,end=\" \")\n",
        "\n",
        "print('shreya' in set1)"
      ],
      "metadata": {
        "colab": {
          "base_uri": "https://localhost:8080/"
        },
        "id": "0A2cuJWIBFxr",
        "outputId": "38122eee-5202-47c8-9d4b-d5d9ec34cfa8"
      },
      "execution_count": 18,
      "outputs": [
        {
          "output_type": "stream",
          "name": "stdout",
          "text": [
            "\n",
            "intial set\n",
            "{'raghavendra', 'ganesh', 'shreya'}\n",
            "\n",
            "Elements of set:\n",
            "raghavendra ganesh shreya True\n"
          ]
        }
      ]
    },
    {
      "cell_type": "code",
      "source": [
        "# Dictionary datatype in python\n",
        "# unordered collection\n",
        "# values can be of any type and duplicated\n",
        "# keys are unique and immutable\n",
        "# also created by built in function - dict()\n",
        "# keys are case sensitive\n",
        "dict = {}\n",
        "print(\"Empty dictionary:\")\n",
        "print(dict)\n",
        "\n",
        "# dict with integer keys\n",
        "dict1 = {1:\"ganesh\",2:\"raghavendra\",3:\"shreya\"}\n",
        "print(\"\\ndict with the use of integer keys:\")\n",
        "print(dict1)\n",
        "\n",
        "# dict with mixed keys\n",
        "dict2 = {\"name\":\"ganesh\",1:[2,3,45,5]}\n",
        "print(\"\\ndict with the use of mixed keys:\")\n",
        "print(dict2)\n",
        "\n",
        "# dict with dict method()\n",
        "\"\"\"dict3 = dict({1:\"ganesh\",2:\"raghavendra\",3:\"shreya\"})\n",
        "print(\"\\nDictionary with the use of dict():\")\n",
        "print(dict3)\n",
        "\n",
        "# dict with each item as a pair\n",
        "dict4 = dict([(1,\"ganesh\"),(2,\"raghavendra\"),(3,\"shreya\")])\n",
        "print(\"\\ndict with each item as a pair:\")\n",
        "print(dict4)\"\"\""
      ],
      "metadata": {
        "colab": {
          "base_uri": "https://localhost:8080/",
          "height": 226
        },
        "id": "k72DB6v2CjnE",
        "outputId": "41dd4384-3c8a-4b1e-a499-73dd770369ae"
      },
      "execution_count": 23,
      "outputs": [
        {
          "output_type": "stream",
          "name": "stdout",
          "text": [
            "Empty dictionary:\n",
            "{}\n",
            "\n",
            "dict with the use of integer keys:\n",
            "{1: 'ganesh', 2: 'raghavendra', 3: 'shreya'}\n",
            "\n",
            "dict with the use of mixed keys:\n",
            "{'name': 'ganesh', 1: [2, 3, 45, 5]}\n"
          ]
        },
        {
          "output_type": "execute_result",
          "data": {
            "text/plain": [
              "'dict3 = dict({1:\"ganesh\",2:\"raghavendra\",3:\"shreya\"})\\nprint(\"\\nDictionary with the use of dict():\")\\nprint(dict3)\\n\\n# dict with each item as a pair \\ndict4 = dict([(1,\"ganesh\"),(2,\"raghavendra\"),(3,\"shreya\")])\\nprint(\"\\ndict with each item as a pair:\")\\nprint(dict4)'"
            ],
            "application/vnd.google.colaboratory.intrinsic+json": {
              "type": "string"
            }
          },
          "metadata": {},
          "execution_count": 23
        }
      ]
    },
    {
      "cell_type": "code",
      "source": [
        "# accessing the key - value in dictionary\n",
        "# get()\n",
        "dict = {1:\"ganesh\",2:\"raghavendra\",3:\"shreya\"}\n",
        "\n",
        "print(\"accessing a element using key:\")\n",
        "print(dict[2])\n",
        "\n",
        "# get()\n",
        "print(\"Accessing a element using get:\")\n",
        "print(dict.get(3))"
      ],
      "metadata": {
        "colab": {
          "base_uri": "https://localhost:8080/"
        },
        "id": "BFvpmVZnGOMV",
        "outputId": "7b7338ad-357f-4393-eeee-3cf41260bd82"
      },
      "execution_count": 24,
      "outputs": [
        {
          "output_type": "stream",
          "name": "stdout",
          "text": [
            "accessing a element using key:\n",
            "raghavendra\n",
            "Accessing a element using get:\n",
            "shreya\n"
          ]
        }
      ]
    },
    {
      "cell_type": "code",
      "source": [
        "# set3(strings ,Lists,Tuples,Iterations)\n",
        "# strings in python\n",
        "# combination of letters,numbers,special characters\n",
        "# are immutable - accessing by indexing or by slicing operations\n",
        "a = 'my name is name'\n",
        "print(a)\n",
        "\n",
        "b = \"my name is i don't no\"\n",
        "print(b)\n",
        "\n",
        "c = '''my name is something'''\n",
        "print(c)"
      ],
      "metadata": {
        "colab": {
          "base_uri": "https://localhost:8080/"
        },
        "id": "1_hOVIyVHKdH",
        "outputId": "75a40206-98c9-45fe-d80f-1ac4a27dbd9c"
      },
      "execution_count": 25,
      "outputs": [
        {
          "output_type": "stream",
          "name": "stdout",
          "text": [
            "my name is name\n",
            "my name is i don't no\n",
            "my name is something\n"
          ]
        }
      ]
    },
    {
      "cell_type": "code",
      "source": [
        "# lists in python\n",
        "# lists can also used implementing stacks and queues\n",
        "# intialization and declaration?\n",
        "# acessing - indexing and slicing\n",
        "# declare a list\n",
        "l = [1,\"a\",\"string\",\"1+j\",2+4]\n",
        "print(l)\n",
        "\n",
        "l.append(5)\n",
        "print(\"\\n\",l)\n",
        "\n",
        "l.pop()\n",
        "print(\"\\n\",l)\n",
        "\n",
        "print(\"\\n\",l[1])"
      ],
      "metadata": {
        "colab": {
          "base_uri": "https://localhost:8080/"
        },
        "id": "-SMrff5RIpXB",
        "outputId": "a3163b36-4023-42b6-a41d-9f5ef83134a8"
      },
      "execution_count": 26,
      "outputs": [
        {
          "output_type": "stream",
          "name": "stdout",
          "text": [
            "[1, 'a', 'string', '1+j', 6]\n",
            "\n",
            " [1, 'a', 'string', '1+j', 6, 5]\n",
            "\n",
            " [1, 'a', 'string', '1+j', 6]\n",
            "\n",
            " a\n"
          ]
        }
      ]
    },
    {
      "cell_type": "code",
      "source": [
        "# tuples\n",
        "tup = (1,\"a\",\"string\",\"1+j\",2+4)\n",
        "print(tup)\n",
        "print(tup[1])\n"
      ],
      "metadata": {
        "colab": {
          "base_uri": "https://localhost:8080/"
        },
        "id": "1hYB-obQKG9-",
        "outputId": "28691627-c333-463c-bced-256c6485ea26"
      },
      "execution_count": 27,
      "outputs": [
        {
          "output_type": "stream",
          "name": "stdout",
          "text": [
            "(1, 'a', 'string', '1+j', 6)\n",
            "a\n"
          ]
        }
      ]
    },
    {
      "cell_type": "code",
      "source": [
        "# example 1\n",
        "i = 1\n",
        "while i <10:\n",
        "  print(i)\n",
        "  i += 1"
      ],
      "metadata": {
        "colab": {
          "base_uri": "https://localhost:8080/"
        },
        "id": "5XMbcEtRKeye",
        "outputId": "4a6695c6-e30d-4a50-9c75-b999724c4d47"
      },
      "execution_count": 30,
      "outputs": [
        {
          "output_type": "stream",
          "name": "stdout",
          "text": [
            "1\n",
            "2\n",
            "3\n",
            "4\n",
            "5\n",
            "6\n",
            "7\n",
            "8\n",
            "9\n"
          ]
        }
      ]
    },
    {
      "cell_type": "code",
      "source": [
        "s = \"hello ganesh\"\n",
        "for i in s:\n",
        "  print(i)"
      ],
      "metadata": {
        "colab": {
          "base_uri": "https://localhost:8080/"
        },
        "id": "9BX0hvAeK7v0",
        "outputId": "a5a235ad-1a93-492c-ab79-ed8edcde5de5"
      },
      "execution_count": 31,
      "outputs": [
        {
          "output_type": "stream",
          "name": "stdout",
          "text": [
            "h\n",
            "e\n",
            "l\n",
            "l\n",
            "o\n",
            " \n",
            "g\n",
            "a\n",
            "n\n",
            "e\n",
            "s\n",
            "h\n"
          ]
        }
      ]
    },
    {
      "cell_type": "code",
      "source": [
        "l = [1,2,3,43,4,5,66,7]\n",
        "for i in l:\n",
        "  print(i)"
      ],
      "metadata": {
        "colab": {
          "base_uri": "https://localhost:8080/"
        },
        "id": "H_bDJFglLErj",
        "outputId": "6824cf22-7b85-43d6-f554-195065ca116d"
      },
      "execution_count": 32,
      "outputs": [
        {
          "output_type": "stream",
          "name": "stdout",
          "text": [
            "1\n",
            "2\n",
            "3\n",
            "43\n",
            "4\n",
            "5\n",
            "66\n",
            "7\n"
          ]
        }
      ]
    },
    {
      "cell_type": "code",
      "source": [
        "for i in range(1,26):\n",
        "  print(i)"
      ],
      "metadata": {
        "colab": {
          "base_uri": "https://localhost:8080/"
        },
        "id": "VTFyzKpRLPWu",
        "outputId": "edbaf53e-5100-43b8-8330-9a73aacf77a8"
      },
      "execution_count": 34,
      "outputs": [
        {
          "output_type": "stream",
          "name": "stdout",
          "text": [
            "1\n",
            "2\n",
            "3\n",
            "4\n",
            "5\n",
            "6\n",
            "7\n",
            "8\n",
            "9\n",
            "10\n",
            "11\n",
            "12\n",
            "13\n",
            "14\n",
            "15\n",
            "16\n",
            "17\n",
            "18\n",
            "19\n",
            "20\n",
            "21\n",
            "22\n",
            "23\n",
            "24\n",
            "25\n"
          ]
        }
      ]
    }
  ]
}