{
  "nbformat": 4,
  "nbformat_minor": 0,
  "metadata": {
    "colab": {
      "provenance": [],
      "authorship_tag": "ABX9TyO0z1tFdx77Hn2adT4PiMzS",
      "include_colab_link": true
    },
    "kernelspec": {
      "name": "python3",
      "display_name": "Python 3"
    },
    "language_info": {
      "name": "python"
    }
  },
  "cells": [
    {
      "cell_type": "markdown",
      "metadata": {
        "id": "view-in-github",
        "colab_type": "text"
      },
      "source": [
        "<a href=\"https://colab.research.google.com/github/ganesh12112/ganesh12112/blob/main/python_practice5.ipynb\" target=\"_parent\"><img src=\"https://colab.research.google.com/assets/colab-badge.svg\" alt=\"Open In Colab\"/></a>"
      ]
    },
    {
      "cell_type": "code",
      "source": [
        "# taking input in python\n",
        "# two inbuilt functions to read input from the user\n",
        "# input(prompt)\n",
        "# raw_input(prompt)\n",
        "input = input(\"enter the data\")  #\\n - it causes a line break\n",
        "print(input)"
      ],
      "metadata": {
        "colab": {
          "base_uri": "https://localhost:8080/"
        },
        "id": "OZqk_XZKj1hJ",
        "outputId": "365a9b46-9516-4293-e2e0-dd95a334beb9"
      },
      "execution_count": null,
      "outputs": [
        {
          "output_type": "stream",
          "name": "stdout",
          "text": [
            "enter the dataganesh chowdary\n",
            "ganesh chowdary\n"
          ]
        }
      ]
    },
    {
      "cell_type": "code",
      "execution_count": null,
      "metadata": {
        "colab": {
          "base_uri": "https://localhost:8080/"
        },
        "id": "QpE3dDg0i8wY",
        "outputId": "b968e4bc-2587-4444-e365-6c57532f8587"
      },
      "outputs": [
        {
          "output_type": "stream",
          "name": "stdout",
          "text": [
            "Enter two values: 1 2\n",
            "First Number is:  1\n",
            "Second Number is:  2\n",
            "Enter three values: 1 2 3\n",
            "First Number is:  1\n",
            "Second Number is:  2\n",
            "Third Number is:  3\n",
            "Enter two values: 5 6\n",
            "First number is 5 and second number is 6\n",
            "Enter multiple values: 45 676 87578 2323\n",
            "Number of list is:  [45, 676, 87578, 2323]\n"
          ]
        }
      ],
      "source": [
        "x, y = [int(x) for x in input(\"Enter two values: \").split()]\n",
        "print(\"First Number is: \", x)\n",
        "print(\"Second Number is: \", y)\n",
        "\n",
        "# taking three input at a time\n",
        "x, y, z = [int(x) for x in input(\"Enter three values: \").split()]\n",
        "print(\"First Number is: \", x)\n",
        "print(\"Second Number is: \", y)\n",
        "print(\"Third Number is: \", z)\n",
        "\n",
        "# taking two inputs at a time\n",
        "x, y = [int(x) for x in input(\"Enter two values: \").split()]\n",
        "print(\"First number is {} and second number is {}\".format(x, y))\n",
        "\n",
        "# taking multiple inputs at a time\n",
        "x = [int(x) for x in input(\"Enter multiple values: \").split()]\n",
        "print(\"Number of list is: \", x)"
      ]
    },
    {
      "cell_type": "code",
      "source": [
        "# python operators\n",
        "# arithematic,comparison,logical,Bitwise,Assignment,Identity and Membership\n",
        "# artithematic - addition,subtraction,multiplication and division\n",
        "# result of division is a floating point in python\n",
        "#To obtain an integer result in Python 3.x floored (// integer) is used."
      ],
      "metadata": {
        "id": "og8sXvtkbK5k"
      },
      "execution_count": null,
      "outputs": []
    },
    {
      "cell_type": "code",
      "source": [
        "# Division operators - float and floor\n",
        "#float division returns quotient\n",
        "print(5/5)\n",
        "print(10/2)\n",
        "print(-10/2)\n",
        "print(20.0/2)"
      ],
      "metadata": {
        "colab": {
          "base_uri": "https://localhost:8080/"
        },
        "id": "EzuxMNMIcasT",
        "outputId": "263c11ed-fb8a-4e4d-a74a-1cdc0637a5b8"
      },
      "execution_count": null,
      "outputs": [
        {
          "output_type": "stream",
          "name": "stdout",
          "text": [
            "1.0\n",
            "5.0\n",
            "-5.0\n",
            "10.0\n"
          ]
        }
      ]
    },
    {
      "cell_type": "code",
      "source": [
        "# Integer division(floor) - qoutient dependent on the argument being passed\n",
        "# if any one  number is float,it returns float same like negative numbers\n",
        "print(5//5)\n",
        "print(10//2)\n",
        "print(-10//2)\n",
        "print(20.0//2)"
      ],
      "metadata": {
        "colab": {
          "base_uri": "https://localhost:8080/"
        },
        "id": "jwTD7ORidQ2v",
        "outputId": "4cd2119c-cee3-4139-b1a1-1902fd928650"
      },
      "execution_count": null,
      "outputs": [
        {
          "output_type": "stream",
          "name": "stdout",
          "text": [
            "1\n",
            "5\n",
            "-5\n",
            "10.0\n"
          ]
        }
      ]
    },
    {
      "cell_type": "code",
      "source": [
        "# precedence of arthematic operators\n",
        "# P E D/M A S\n",
        "# The modulus operator helps us extract the last digits of a number\n",
        "print(567%10)\n",
        "print(567%100)"
      ],
      "metadata": {
        "colab": {
          "base_uri": "https://localhost:8080/"
        },
        "id": "auWvyqNGeE07",
        "outputId": "33c804d1-629c-4ca9-d254-c3fa7d09deb5"
      },
      "execution_count": null,
      "outputs": [
        {
          "output_type": "stream",
          "name": "stdout",
          "text": [
            "7\n",
            "67\n"
          ]
        }
      ]
    },
    {
      "cell_type": "code",
      "source": [
        "# examples\n",
        "a = 9\n",
        "b = 4\n",
        "\n",
        "add = a+b\n",
        "\n",
        "sub = a-b\n",
        "\n",
        "mul = a*b\n",
        "\n",
        "mod = a%b\n",
        "\n",
        "p = a**b\n",
        "\n",
        "print(add)\n",
        "print(sub)\n",
        "print(mul)\n",
        "print(mod)\n",
        "print(p)"
      ],
      "metadata": {
        "colab": {
          "base_uri": "https://localhost:8080/"
        },
        "id": "c7LihtIWe-hJ",
        "outputId": "7b260456-4e22-4861-a1ee-630e721cff84"
      },
      "execution_count": null,
      "outputs": [
        {
          "output_type": "stream",
          "name": "stdout",
          "text": [
            "13\n",
            "5\n",
            "36\n",
            "1\n",
            "6561\n"
          ]
        }
      ]
    },
    {
      "cell_type": "code",
      "source": [
        "# comparison operators in python\n",
        "# > , < ,  == ,  !=, >=,  =<  have same preceedence and lower preceedence than arithematic operators\n",
        "a = 9\n",
        "b = 4\n",
        "\n",
        "print(a >b)\n",
        "\n",
        "\n",
        "print(a < b)\n",
        "\n",
        "\n",
        "print(a == b)\n",
        "\n",
        "\n",
        "print(a != b)\n",
        "\n",
        "\n",
        "print(a >= b)\n",
        "\n",
        "print(a <= b)"
      ],
      "metadata": {
        "colab": {
          "base_uri": "https://localhost:8080/"
        },
        "id": "i-wqCKPMft4d",
        "outputId": "6532fd35-87bc-4edf-f53a-06958b77b5e6"
      },
      "execution_count": null,
      "outputs": [
        {
          "output_type": "stream",
          "name": "stdout",
          "text": [
            "True\n",
            "False\n",
            "False\n",
            "True\n",
            "True\n",
            "False\n"
          ]
        }
      ]
    },
    {
      "cell_type": "code",
      "source": [
        "# logical operators\n",
        "# AND ,OR ,NOT\n",
        "# preceedence and > and > or\n",
        "# example\n",
        "a = True\n",
        "b = False\n",
        "\n",
        "print(a and b)\n",
        "\n",
        "\n",
        "print(a or b)\n",
        "\n",
        "\n",
        "print(not b)"
      ],
      "metadata": {
        "colab": {
          "base_uri": "https://localhost:8080/"
        },
        "id": "da9Wp6RjhSzu",
        "outputId": "9026f6c7-a879-4055-aa44-c7eed751b232"
      },
      "execution_count": null,
      "outputs": [
        {
          "output_type": "stream",
          "name": "stdout",
          "text": [
            "False\n",
            "True\n",
            "True\n"
          ]
        }
      ]
    },
    {
      "cell_type": "code",
      "source": [
        "# Bitwise operators\n",
        "# acts on bits and perform bit-by-bit operations .These ar used to operate on binary numbers\n",
        "# & - AND ,| -  OR, ~ - NOT,^ -XOR, >> - Right shift, << - Left shift"
      ],
      "metadata": {
        "id": "krWHWPdCiBl-"
      },
      "execution_count": null,
      "outputs": []
    }
  ]
}