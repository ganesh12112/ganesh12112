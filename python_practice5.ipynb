{
  "nbformat": 4,
  "nbformat_minor": 0,
  "metadata": {
    "colab": {
      "provenance": [],
      "authorship_tag": "ABX9TyMXI6zaNdfkHbF/G3EhT94l",
      "include_colab_link": true
    },
    "kernelspec": {
      "name": "python3",
      "display_name": "Python 3"
    },
    "language_info": {
      "name": "python"
    }
  },
  "cells": [
    {
      "cell_type": "markdown",
      "metadata": {
        "id": "view-in-github",
        "colab_type": "text"
      },
      "source": [
        "<a href=\"https://colab.research.google.com/github/ganesh12112/ganesh12112/blob/main/python_practice5.ipynb\" target=\"_parent\"><img src=\"https://colab.research.google.com/assets/colab-badge.svg\" alt=\"Open In Colab\"/></a>"
      ]
    },
    {
      "cell_type": "code",
      "source": [
        "# taking input in python\n",
        "# two inbuilt functions to read input from the user\n",
        "# input(prompt)\n",
        "# raw_input(prompt)\n",
        "input = input(\"enter the data\")  #\\n - it causes a line break\n",
        "print(input)"
      ],
      "metadata": {
        "colab": {
          "base_uri": "https://localhost:8080/"
        },
        "id": "OZqk_XZKj1hJ",
        "outputId": "365a9b46-9516-4293-e2e0-dd95a334beb9"
      },
      "execution_count": null,
      "outputs": [
        {
          "output_type": "stream",
          "name": "stdout",
          "text": [
            "enter the dataganesh chowdary\n",
            "ganesh chowdary\n"
          ]
        }
      ]
    },
    {
      "cell_type": "code",
      "execution_count": null,
      "metadata": {
        "colab": {
          "base_uri": "https://localhost:8080/"
        },
        "id": "QpE3dDg0i8wY",
        "outputId": "b968e4bc-2587-4444-e365-6c57532f8587"
      },
      "outputs": [
        {
          "output_type": "stream",
          "name": "stdout",
          "text": [
            "Enter two values: 1 2\n",
            "First Number is:  1\n",
            "Second Number is:  2\n",
            "Enter three values: 1 2 3\n",
            "First Number is:  1\n",
            "Second Number is:  2\n",
            "Third Number is:  3\n",
            "Enter two values: 5 6\n",
            "First number is 5 and second number is 6\n",
            "Enter multiple values: 45 676 87578 2323\n",
            "Number of list is:  [45, 676, 87578, 2323]\n"
          ]
        }
      ],
      "source": [
        "x, y = [int(x) for x in input(\"Enter two values: \").split()]\n",
        "print(\"First Number is: \", x)\n",
        "print(\"Second Number is: \", y)\n",
        "\n",
        "# taking three input at a time\n",
        "x, y, z = [int(x) for x in input(\"Enter three values: \").split()]\n",
        "print(\"First Number is: \", x)\n",
        "print(\"Second Number is: \", y)\n",
        "print(\"Third Number is: \", z)\n",
        "\n",
        "# taking two inputs at a time\n",
        "x, y = [int(x) for x in input(\"Enter two values: \").split()]\n",
        "print(\"First number is {} and second number is {}\".format(x, y))\n",
        "\n",
        "# taking multiple inputs at a time\n",
        "x = [int(x) for x in input(\"Enter multiple values: \").split()]\n",
        "print(\"Number of list is: \", x)"
      ]
    },
    {
      "cell_type": "code",
      "source": [
        "# python operators\n",
        "# arithematic,comparison,logical,Bitwise,Assignment,Identity and Membership\n",
        "# artithematic - addition,subtraction,multiplication and division\n",
        "# result of division is a floating point in python\n",
        "#To obtain an integer result in Python 3.x floored (// integer) is used."
      ],
      "metadata": {
        "id": "og8sXvtkbK5k"
      },
      "execution_count": null,
      "outputs": []
    },
    {
      "cell_type": "code",
      "source": [
        "# Division operators - float and floor\n",
        "#float division returns quotient\n",
        "print(5/5)\n",
        "print(10/2)\n",
        "print(-10/2)\n",
        "print(20.0/2)"
      ],
      "metadata": {
        "colab": {
          "base_uri": "https://localhost:8080/"
        },
        "id": "EzuxMNMIcasT",
        "outputId": "263c11ed-fb8a-4e4d-a74a-1cdc0637a5b8"
      },
      "execution_count": null,
      "outputs": [
        {
          "output_type": "stream",
          "name": "stdout",
          "text": [
            "1.0\n",
            "5.0\n",
            "-5.0\n",
            "10.0\n"
          ]
        }
      ]
    },
    {
      "cell_type": "code",
      "source": [
        "# Integer division(floor) - qoutient dependent on the argument being passed\n",
        "# if any one  number is float,it returns float same like negative numbers\n",
        "print(5//5)\n",
        "print(10//2)\n",
        "print(-10//2)\n",
        "print(20.0//2)"
      ],
      "metadata": {
        "colab": {
          "base_uri": "https://localhost:8080/"
        },
        "id": "jwTD7ORidQ2v",
        "outputId": "4cd2119c-cee3-4139-b1a1-1902fd928650"
      },
      "execution_count": null,
      "outputs": [
        {
          "output_type": "stream",
          "name": "stdout",
          "text": [
            "1\n",
            "5\n",
            "-5\n",
            "10.0\n"
          ]
        }
      ]
    },
    {
      "cell_type": "code",
      "source": [
        "# precedence of arthematic operators\n",
        "# P E D/M A S\n",
        "# The modulus operator helps us extract the last digits of a number\n",
        "print(567%10)\n",
        "print(567%100)"
      ],
      "metadata": {
        "colab": {
          "base_uri": "https://localhost:8080/"
        },
        "id": "auWvyqNGeE07",
        "outputId": "33c804d1-629c-4ca9-d254-c3fa7d09deb5"
      },
      "execution_count": null,
      "outputs": [
        {
          "output_type": "stream",
          "name": "stdout",
          "text": [
            "7\n",
            "67\n"
          ]
        }
      ]
    },
    {
      "cell_type": "code",
      "source": [
        "# examples\n",
        "a = 9\n",
        "b = 4\n",
        "\n",
        "add = a+b\n",
        "\n",
        "sub = a-b\n",
        "\n",
        "mul = a*b\n",
        "\n",
        "mod = a%b\n",
        "\n",
        "p = a**b\n",
        "\n",
        "print(add)\n",
        "print(sub)\n",
        "print(mul)\n",
        "print(mod)\n",
        "print(p)"
      ],
      "metadata": {
        "colab": {
          "base_uri": "https://localhost:8080/"
        },
        "id": "c7LihtIWe-hJ",
        "outputId": "7b260456-4e22-4861-a1ee-630e721cff84"
      },
      "execution_count": null,
      "outputs": [
        {
          "output_type": "stream",
          "name": "stdout",
          "text": [
            "13\n",
            "5\n",
            "36\n",
            "1\n",
            "6561\n"
          ]
        }
      ]
    },
    {
      "cell_type": "code",
      "source": [
        "# comparison operators in python\n",
        "# > , < ,  == ,  !=, >=,  =<  have same preceedence and lower preceedence than arithematic operators\n",
        "a = 9\n",
        "b = 4\n",
        "\n",
        "print(a >b)\n",
        "\n",
        "\n",
        "print(a < b)\n",
        "\n",
        "\n",
        "print(a == b)\n",
        "\n",
        "\n",
        "print(a != b)\n",
        "\n",
        "\n",
        "print(a >= b)\n",
        "\n",
        "print(a <= b)"
      ],
      "metadata": {
        "colab": {
          "base_uri": "https://localhost:8080/"
        },
        "id": "i-wqCKPMft4d",
        "outputId": "6532fd35-87bc-4edf-f53a-06958b77b5e6"
      },
      "execution_count": null,
      "outputs": [
        {
          "output_type": "stream",
          "name": "stdout",
          "text": [
            "True\n",
            "False\n",
            "False\n",
            "True\n",
            "True\n",
            "False\n"
          ]
        }
      ]
    },
    {
      "cell_type": "code",
      "source": [
        "# logical operators\n",
        "# AND ,OR ,NOT\n",
        "# preceedence not > and > or\n",
        "# example\n",
        "a = True\n",
        "b = False\n",
        "\n",
        "print(a and b)\n",
        "\n",
        "\n",
        "print(a or b)\n",
        "\n",
        "\n",
        "print(not b)"
      ],
      "metadata": {
        "colab": {
          "base_uri": "https://localhost:8080/"
        },
        "id": "da9Wp6RjhSzu",
        "outputId": "9026f6c7-a879-4055-aa44-c7eed751b232"
      },
      "execution_count": null,
      "outputs": [
        {
          "output_type": "stream",
          "name": "stdout",
          "text": [
            "False\n",
            "True\n",
            "True\n"
          ]
        }
      ]
    },
    {
      "cell_type": "code",
      "source": [
        "# Bitwise operators\n",
        "# acts on bits and perform bit-by-bit operations .These ar used to operate on binary numbers\n",
        "# & - AND ,| -  OR, ~ - NOT,^ -XOR, >> - Right shift, << - Left shift\n",
        "# precedence - not>shift>and>xor>or\n",
        "a = 9\n",
        "b = 4\n",
        "\n",
        "print(a & b)\n",
        "\n",
        "\n",
        "print(a | b)\n",
        "\n",
        "\n",
        "print(~ b)\n",
        "\n",
        "\n",
        "print(a ^ b)\n",
        "\n",
        "\n",
        "print(a >> 2)\n",
        "\n",
        "print(a << 2)\n",
        "\n",
        "# practice on paper"
      ],
      "metadata": {
        "id": "krWHWPdCiBl-",
        "colab": {
          "base_uri": "https://localhost:8080/"
        },
        "outputId": "7831ec1a-4f96-40e8-9e8a-d0748ff1566c"
      },
      "execution_count": 2,
      "outputs": [
        {
          "output_type": "stream",
          "name": "stdout",
          "text": [
            "0\n",
            "13\n",
            "-5\n",
            "13\n",
            "2\n",
            "36\n"
          ]
        }
      ]
    },
    {
      "cell_type": "code",
      "source": [
        "# assigment operators\n",
        "# = ,+=,-=,*/,/=,%=,//=,**=,&=,|=,^=,>>=,<<=\n",
        "a = 10\n",
        "\n",
        "b = a\n",
        "\n",
        "b += a\n",
        "print(b)\n",
        "\n",
        "b -= a\n",
        "print(b)\n",
        "\n",
        "b *= a\n",
        "print(b)\n",
        "\n",
        "# bitwise lishift operator\n",
        "b <<= a\n",
        "print(b)"
      ],
      "metadata": {
        "colab": {
          "base_uri": "https://localhost:8080/"
        },
        "id": "B5DaQbz-WudU",
        "outputId": "3bf10de0-94ea-4801-df87-3844f7a64a7c"
      },
      "execution_count": 3,
      "outputs": [
        {
          "output_type": "stream",
          "name": "stdout",
          "text": [
            "20\n",
            "10\n",
            "100\n",
            "102400\n"
          ]
        }
      ]
    },
    {
      "cell_type": "code",
      "source": [
        "# identity operators\n",
        "# is ,isnot\n",
        "a = 10\n",
        "b = 20\n",
        "c = a\n",
        "\n",
        "print(a is not b)\n",
        "print(a is c)"
      ],
      "metadata": {
        "colab": {
          "base_uri": "https://localhost:8080/"
        },
        "id": "0xETJlzWYc4V",
        "outputId": "9a1cde80-e4d3-49bb-efe7-dd643ddcefd4"
      },
      "execution_count": 4,
      "outputs": [
        {
          "output_type": "stream",
          "name": "stdout",
          "text": [
            "True\n",
            "True\n"
          ]
        }
      ]
    },
    {
      "cell_type": "code",
      "source": [
        "# membership operators\n",
        "#in , notin\n",
        "x = 24\n",
        "y = 20\n",
        "li = [10,20,30,40,50]\n",
        "\n",
        "if x not in li:\n",
        "  print(\"x is not present in list\")\n",
        "else:\n",
        "  print(\"x is present in list\")\n",
        "\n",
        "if y in li:\n",
        "  print(\"y is present in list\")\n",
        "else:\n",
        "  print(\"y is not in list\")"
      ],
      "metadata": {
        "colab": {
          "base_uri": "https://localhost:8080/"
        },
        "id": "cKylH4EMYysF",
        "outputId": "a076575f-cef9-4b2c-c442-836176344743"
      },
      "execution_count": 5,
      "outputs": [
        {
          "output_type": "stream",
          "name": "stdout",
          "text": [
            "x is not present in list\n",
            "y is present in list\n"
          ]
        }
      ]
    },
    {
      "cell_type": "markdown",
      "source": [
        "in Python, Ternary operators also known as conditional expressions are operators that evaluate something based on a condition being true or false. It was added to Python in version 2.5.\n",
        "\n",
        "It simply allows testing a condition in a single line replacing the multiline if-else making the code compact."
      ],
      "metadata": {
        "id": "G3kEjXk5Zu0d"
      }
    },
    {
      "cell_type": "code",
      "source": [
        "# ternary operator\n",
        "a,b = 10,30\n",
        "\n",
        "# copy value of a in min if a<b else copy b\n",
        "min = a if a < b else b\n",
        "print(b)"
      ],
      "metadata": {
        "colab": {
          "base_uri": "https://localhost:8080/"
        },
        "id": "C2hAIpIEZiXd",
        "outputId": "a6487c2c-25ed-4215-9aa2-81cbdd121fea"
      },
      "execution_count": 7,
      "outputs": [
        {
          "output_type": "stream",
          "name": "stdout",
          "text": [
            "30\n"
          ]
        }
      ]
    },
    {
      "cell_type": "markdown",
      "source": [],
      "metadata": {
        "id": "the3Fu7hZK-F"
      }
    },
    {
      "cell_type": "code",
      "source": [
        "# precedence and associativity of operators\n",
        "expr = 10+20*30\n",
        "print(expr)\n",
        "\n",
        "name = \"ganesh\"\n",
        "age = 0\n",
        "\n",
        "if name == \"ganesh\" or name == \"are\" and age >=21:\n",
        "     print(\"hello ganesh\")\n",
        "else:\n",
        "  print(\"good bye!\")"
      ],
      "metadata": {
        "colab": {
          "base_uri": "https://localhost:8080/"
        },
        "id": "mRDVPwJQa80d",
        "outputId": "b722b3b2-2d90-4a86-dd18-ca6a254f852b"
      },
      "execution_count": 9,
      "outputs": [
        {
          "output_type": "stream",
          "name": "stdout",
          "text": [
            "610\n",
            "hello ganesh\n"
          ]
        }
      ]
    },
    {
      "cell_type": "markdown",
      "source": [
        "If an expression contains two or more operators with the same precedence then Operator Associativity is used to determine. It can either be Left to Right or from Right to Left."
      ],
      "metadata": {
        "id": "MsjLjupieI9W"
      }
    },
    {
      "cell_type": "code",
      "source": [
        "# operators associativity\n",
        "# left - right\n",
        "print(100/10*10)\n",
        "# l - r\n",
        "print(5-2+3)\n",
        "#l - r\n",
        "print(5 - (2+3))\n",
        "# right - left\n",
        "print(2**3**2)"
      ],
      "metadata": {
        "colab": {
          "base_uri": "https://localhost:8080/"
        },
        "id": "9obhgRCxd8cY",
        "outputId": "e436387d-9814-4929-9cb8-79180d7a6c12"
      },
      "execution_count": 10,
      "outputs": [
        {
          "output_type": "stream",
          "name": "stdout",
          "text": [
            "100.0\n",
            "6\n",
            "0\n",
            "512\n"
          ]
        }
      ]
    },
    {
      "cell_type": "markdown",
      "source": [
        "Ternary Operator Examples\n",
        "Here we will see the different example to use Python Ternary Operator:\n",
        "\n",
        "Ternary Operator in Python If-Else,\n",
        "Python Ternary Operator using Tuples,\n",
        "Python Ternary Operator using Dictionary,\n",
        "Python Ternary Operator using Lambda,\n",
        "Print in if Ternary Operator,\n",
        "Limitations of Python Ternary Operator"
      ],
      "metadata": {
        "id": "mtquNffcfu1N"
      }
    },
    {
      "cell_type": "code",
      "source": [
        "# ternary operator in python if else\n",
        "# using native way\n",
        "a,b = 10,30\n",
        "\n",
        "if a != b:\n",
        "  if a>b:\n",
        "    print(\"a is greater than b\")\n",
        "  else:\n",
        "    print(\"b is greater than a\")\n",
        "else:\n",
        "  print(\"Both a and b are equal\")"
      ],
      "metadata": {
        "colab": {
          "base_uri": "https://localhost:8080/"
        },
        "id": "9Iz-6i0Ififu",
        "outputId": "42f7df40-ece7-4d3d-e7ea-840465e428c3"
      },
      "execution_count": 12,
      "outputs": [
        {
          "output_type": "stream",
          "name": "stdout",
          "text": [
            "b is greater than a\n"
          ]
        }
      ]
    },
    {
      "cell_type": "code",
      "source": [
        "# using ternary operator\n",
        "a,b = 10,20\n",
        "\n",
        "print(\"Both a and b are equal\" if a == b else \"a is greater than b\"\n",
        "        if a > b else \"b is greater than a\")"
      ],
      "metadata": {
        "colab": {
          "base_uri": "https://localhost:8080/"
        },
        "id": "ITRoy8ZPg8K3",
        "outputId": "545ee878-2123-4955-d2f4-d6893ed43a34"
      },
      "execution_count": 13,
      "outputs": [
        {
          "output_type": "stream",
          "name": "stdout",
          "text": [
            "b is greater than a\n"
          ]
        }
      ]
    },
    {
      "cell_type": "code",
      "source": [
        "# ternary and bitwise operator ----- Revise ----\n",
        "a,b = 10,20\n",
        "# with tuple\n",
        "print((a,b)[a<b])"
      ],
      "metadata": {
        "colab": {
          "base_uri": "https://localhost:8080/"
        },
        "id": "uWtRSkvKiQB9",
        "outputId": "fe3862bd-0947-45bb-bf00-f2c2f520fcce"
      },
      "execution_count": 16,
      "outputs": [
        {
          "output_type": "stream",
          "name": "stdout",
          "text": [
            "20\n"
          ]
        }
      ]
    },
    {
      "cell_type": "code",
      "source": [
        "# ternary operator with dictionary\n",
        "a, b = 10,20\n",
        "print({True:b,False:a} [a>b])"
      ],
      "metadata": {
        "colab": {
          "base_uri": "https://localhost:8080/"
        },
        "id": "XsYzvJxti2ye",
        "outputId": "25d94bfc-d7f2-4867-afde-7550007e1899"
      },
      "execution_count": 19,
      "outputs": [
        {
          "output_type": "stream",
          "name": "stdout",
          "text": [
            "10\n"
          ]
        }
      ]
    },
    {
      "cell_type": "code",
      "source": [
        "# ternary opeartor with lambda"
      ],
      "metadata": {
        "id": "eo_M84nTjRfH"
      },
      "execution_count": null,
      "outputs": []
    }
  ]
}