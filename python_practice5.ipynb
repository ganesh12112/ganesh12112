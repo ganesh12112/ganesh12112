{
  "nbformat": 4,
  "nbformat_minor": 0,
  "metadata": {
    "colab": {
      "provenance": [],
      "authorship_tag": "ABX9TyOwL5EC889cZjXgS5K8EeQ+",
      "include_colab_link": true
    },
    "kernelspec": {
      "name": "python3",
      "display_name": "Python 3"
    },
    "language_info": {
      "name": "python"
    }
  },
  "cells": [
    {
      "cell_type": "markdown",
      "metadata": {
        "id": "view-in-github",
        "colab_type": "text"
      },
      "source": [
        "<a href=\"https://colab.research.google.com/github/ganesh12112/ganesh12112/blob/main/python_practice5.ipynb\" target=\"_parent\"><img src=\"https://colab.research.google.com/assets/colab-badge.svg\" alt=\"Open In Colab\"/></a>"
      ]
    },
    {
      "cell_type": "code",
      "source": [
        "# taking input in python\n",
        "# two inbuilt functions to read input from the user\n",
        "# input(prompt)\n",
        "# raw_input(prompt)\n",
        "input = input(\"enter the data\")  #\\n - it causes a line break\n",
        "print(input)"
      ],
      "metadata": {
        "colab": {
          "base_uri": "https://localhost:8080/"
        },
        "id": "OZqk_XZKj1hJ",
        "outputId": "365a9b46-9516-4293-e2e0-dd95a334beb9"
      },
      "execution_count": 5,
      "outputs": [
        {
          "output_type": "stream",
          "name": "stdout",
          "text": [
            "enter the dataganesh chowdary\n",
            "ganesh chowdary\n"
          ]
        }
      ]
    },
    {
      "cell_type": "code",
      "execution_count": 4,
      "metadata": {
        "colab": {
          "base_uri": "https://localhost:8080/"
        },
        "id": "QpE3dDg0i8wY",
        "outputId": "b968e4bc-2587-4444-e365-6c57532f8587"
      },
      "outputs": [
        {
          "output_type": "stream",
          "name": "stdout",
          "text": [
            "Enter two values: 1 2\n",
            "First Number is:  1\n",
            "Second Number is:  2\n",
            "Enter three values: 1 2 3\n",
            "First Number is:  1\n",
            "Second Number is:  2\n",
            "Third Number is:  3\n",
            "Enter two values: 5 6\n",
            "First number is 5 and second number is 6\n",
            "Enter multiple values: 45 676 87578 2323\n",
            "Number of list is:  [45, 676, 87578, 2323]\n"
          ]
        }
      ],
      "source": [
        "x, y = [int(x) for x in input(\"Enter two values: \").split()]\n",
        "print(\"First Number is: \", x)\n",
        "print(\"Second Number is: \", y)\n",
        "\n",
        "# taking three input at a time\n",
        "x, y, z = [int(x) for x in input(\"Enter three values: \").split()]\n",
        "print(\"First Number is: \", x)\n",
        "print(\"Second Number is: \", y)\n",
        "print(\"Third Number is: \", z)\n",
        "\n",
        "# taking two inputs at a time\n",
        "x, y = [int(x) for x in input(\"Enter two values: \").split()]\n",
        "print(\"First number is {} and second number is {}\".format(x, y))\n",
        "\n",
        "# taking multiple inputs at a time\n",
        "x = [int(x) for x in input(\"Enter multiple values: \").split()]\n",
        "print(\"Number of list is: \", x)"
      ]
    }
  ]
}