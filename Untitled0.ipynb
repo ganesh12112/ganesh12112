{
  "nbformat": 4,
  "nbformat_minor": 0,
  "metadata": {
    "colab": {
      "provenance": [],
      "authorship_tag": "ABX9TyOgMjJcNyZ7WYMAjJiSMgb/",
      "include_colab_link": true
    },
    "kernelspec": {
      "name": "python3",
      "display_name": "Python 3"
    },
    "language_info": {
      "name": "python"
    }
  },
  "cells": [
    {
      "cell_type": "markdown",
      "metadata": {
        "id": "view-in-github",
        "colab_type": "text"
      },
      "source": [
        "<a href=\"https://colab.research.google.com/github/ganesh12112/ganesh12112/blob/main/Untitled0.ipynb\" target=\"_parent\"><img src=\"https://colab.research.google.com/assets/colab-badge.svg\" alt=\"Open In Colab\"/></a>"
      ]
    },
    {
      "cell_type": "code",
      "execution_count": 1,
      "metadata": {
        "colab": {
          "base_uri": "https://localhost:8080/"
        },
        "id": "-hVWeOyVOjl2",
        "outputId": "72f058ce-3cd3-4a02-dd93-0a607d9826b3"
      },
      "outputs": [
        {
          "output_type": "stream",
          "name": "stdout",
          "text": [
            "value of x is: 12\n",
            "value of y is : meena\n",
            "value of z is : 1.23\n",
            "345\n"
          ]
        }
      ],
      "source": [
        "#creating variables\n",
        "x = 12\n",
        "y = \"meena\"\n",
        "z = 1.23\n",
        "p = 345\n",
        "print(\"value of x is:\" ,x)\n",
        "print(\"value of y is :\",y)\n",
        "print(\"value of z is :\",z)\n",
        "print(p)\n",
        "\n"
      ]
    },
    {
      "cell_type": "code",
      "source": [
        "#naming conventions of variables\n",
        "x123 = 45\n",
        "_y = 46\n",
        "_z101 =\"xyz\"\n",
        "x_y12 = 46\n",
        "print(x123)\n",
        "print(_y)\n",
        "print(_z101)\n",
        "print(x_y12)"
      ],
      "metadata": {
        "colab": {
          "base_uri": "https://localhost:8080/"
        },
        "id": "wxPLOFY4RtdS",
        "outputId": "d0e27125-4ef4-4edd-a278-fc183feabde0"
      },
      "execution_count": 2,
      "outputs": [
        {
          "output_type": "stream",
          "name": "stdout",
          "text": [
            "45\n",
            "46\n",
            "xyz\n",
            "46\n"
          ]
        }
      ]
    },
    {
      "cell_type": "code",
      "source": [
        "# arithematic operations\n",
        "#program to add/sub/mul/div of 2 numbers\n",
        "num1 = 20\n",
        "num2 = 30\n",
        "n3= num1+num2\n",
        "n4=num1-num2\n",
        "n5 = num1*num2\n",
        "n6 = num1 /num2\n",
        "print(\"n3\",n3)\n",
        "print(\"n4\",n4)\n",
        "print(\"n5\",n5)\n",
        "print(\"n6\",n6)\n"
      ],
      "metadata": {
        "colab": {
          "base_uri": "https://localhost:8080/"
        },
        "id": "jJVuCdvCSe_b",
        "outputId": "0690cb9d-7526-4cbb-9ddb-520639226c41"
      },
      "execution_count": 3,
      "outputs": [
        {
          "output_type": "stream",
          "name": "stdout",
          "text": [
            "n3 50\n",
            "n4 -10\n",
            "n5 600\n",
            "n6 0.6666666666666666\n"
          ]
        }
      ]
    },
    {
      "cell_type": "code",
      "source": [
        "#example problem\n",
        "z = int(input(\"enter the value of z:\"))\n",
        "m = 60\n",
        "c = 50\n",
        "y = m*2/c\n",
        "x = y * z/2+100\n",
        "print(\"value of y is:\",y)\n",
        "print(\"value of x:\",x)\n"
      ],
      "metadata": {
        "colab": {
          "base_uri": "https://localhost:8080/"
        },
        "id": "CLwG5SMyT49M",
        "outputId": "609d1e01-e567-455a-8791-45f03d69569d"
      },
      "execution_count": 8,
      "outputs": [
        {
          "output_type": "stream",
          "name": "stdout",
          "text": [
            "enter the value of z:70\n",
            "value of y is: 2.4\n",
            "value of x: 184.0\n"
          ]
        }
      ]
    },
    {
      "cell_type": "code",
      "source": [
        "#string operation\n",
        "str = \"hello world\"\n",
        "str1 = \"I am your interpreter\"\n",
        "print(len(str))\n",
        "print(str)\n",
        "print(str1)\n",
        "print(str[0])\n",
        "print(\"print first 8 charcters:\",str1[0:8])\n",
        "print(\"print the last charcter:\",str1[-1])"
      ],
      "metadata": {
        "colab": {
          "base_uri": "https://localhost:8080/"
        },
        "id": "YJeIUh4XX9kg",
        "outputId": "cc1f58e2-5452-4c23-a7f1-31ba7d8440a4"
      },
      "execution_count": 11,
      "outputs": [
        {
          "output_type": "stream",
          "name": "stdout",
          "text": [
            "11\n",
            "hello world\n",
            "I am your interpreter\n",
            "h\n",
            "print first 8 charcters: I am you\n",
            "print the last charcter: r\n"
          ]
        }
      ]
    },
    {
      "cell_type": "code",
      "source": [
        "# program to add the numbers in string\n",
        "str =\"12345\"\n",
        "r = 0\n",
        "for i in range(0,len(str)):\n",
        "    r = r+eval(str[i])\n",
        "print(\"sum of the numbers\",r)"
      ],
      "metadata": {
        "colab": {
          "base_uri": "https://localhost:8080/"
        },
        "id": "MslP1Y_wi1pj",
        "outputId": "e755d038-267d-4baf-8100-d50620656a23"
      },
      "execution_count": 16,
      "outputs": [
        {
          "output_type": "stream",
          "name": "stdout",
          "text": [
            "sum of the numbers 15\n"
          ]
        }
      ]
    },
    {
      "cell_type": "code",
      "source": [
        "str = \"12345\"\n",
        "str1 = str[::-1]\n",
        "print(str1)\n",
        "str2= str[1:4]\n",
        "print(str2[::-1])\n"
      ],
      "metadata": {
        "colab": {
          "base_uri": "https://localhost:8080/"
        },
        "id": "40C8adzsltpZ",
        "outputId": "c7a6cba2-8e4b-4931-ff0a-5da33ac737ed"
      },
      "execution_count": 26,
      "outputs": [
        {
          "output_type": "stream",
          "name": "stdout",
          "text": [
            "54321\n",
            "432\n"
          ]
        }
      ]
    }
  ]
}